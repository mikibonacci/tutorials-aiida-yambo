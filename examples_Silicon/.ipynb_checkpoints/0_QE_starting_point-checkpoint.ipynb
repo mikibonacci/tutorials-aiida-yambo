{
 "cells": [
  {
   "cell_type": "markdown",
   "id": "f97ba723",
   "metadata": {},
   "source": [
    "# The starting point for GW/BSE: QE scf+nscf calculations.\n",
    "\n",
    "In the following it is shown how to run quickly a QE scf+nscf flow in order to have a starting ground state density to perform GW and BSE simulations. For more details, please have a look at the AiiDA tutorials: https://aiida-tutorials.readthedocs.io/en/latest/. \n",
    "\n",
    "You should run these steps quickly, without trying to fully understand what is happening here. The inputs are then explained in more detail in the next parts of the tutorial.\n",
    "\n",
    "\n",
    "## prerequisites: \n",
    "\n",
    "We suppose that you have successfully installed AiiDA, aiida-quantuespresso and you have stored computer, codes, structures and pseudo in the AiiDA database."
   ]
  },
  {
   "cell_type": "code",
   "execution_count": 1,
   "id": "da3622d3",
   "metadata": {},
   "outputs": [],
   "source": [
    "%aiida  \n",
    "## this is a magic line function, it can be substitued by: ---\n",
    "\n",
    "from aiida import orm"
   ]
  },
  {
   "cell_type": "markdown",
   "id": "9b8ea7a6",
   "metadata": {},
   "source": [
    "## 1 - Creation of the scf workflow instance\n",
    "\n",
    "Here we start directly creating an instance of a workflow, not of a calcjob, to have error handling support and automatic input creation (protocols).\n",
    "\n",
    "The idea is to create a builder instance, which collects all the inputs needed for the simulation, then submit it by means of the aiida \"submit\" function."
   ]
  },
  {
   "cell_type": "code",
   "execution_count": 2,
   "id": "206fdec8",
   "metadata": {},
   "outputs": [],
   "source": [
    "from aiida.plugins import WorkflowFactory"
   ]
  },
  {
   "cell_type": "code",
   "execution_count": 3,
   "id": "fa535b82",
   "metadata": {},
   "outputs": [],
   "source": [
    "PwBaseWorkchain = WorkflowFactory('quantumespresso.pw.base') #try also quantumespresso.pw.relax..."
   ]
  },
  {
   "cell_type": "markdown",
   "id": "570e631a",
   "metadata": {},
   "source": [
    "The instance of the workchain, with automatic inputs creation, can be obtained using the .get_builder_from_protocol method of the workchain, if provided codes, structure:"
   ]
  },
  {
   "cell_type": "code",
   "execution_count": 4,
   "id": "9fc23269",
   "metadata": {},
   "outputs": [],
   "source": [
    "from aiida_quantumespresso.common.types import ElectronicType\n",
    "\n",
    "builder = PwBaseWorkchain.get_builder_from_protocol(\n",
    "    \n",
    "                code=orm.load_code('pw-6.8@hydralogin'),\n",
    "                structure=orm.load_node(77395),           #use the structure store before\n",
    "                protocol='fast',\n",
    "                overrides={},\n",
    "                electronic_type=ElectronicType.INSULATOR,\n",
    "                pseudo_family=\"PseudoDojo/0.4/LDA/SR/standard/upf\",\n",
    "    \n",
    ")"
   ]
  },
  {
   "cell_type": "markdown",
   "id": "62df46eb",
   "metadata": {},
   "source": [
    "### 1.1 - Change the pseudos (see also \"structure_and_pseudos\" section)"
   ]
  },
  {
   "cell_type": "code",
   "execution_count": 5,
   "id": "95fa4034",
   "metadata": {},
   "outputs": [],
   "source": [
    "family = orm.load_group(\"sg15\")\n",
    "#builder.<sublevels_up_to .pw>.pseudos = family.get_pseudos(structure=structure) \n",
    "builder.pw.pseudos = family.get_pseudos(structure=orm.load_node(77395)) "
   ]
  },
  {
   "cell_type": "code",
   "execution_count": 6,
   "id": "3865def5",
   "metadata": {
    "scrolled": true
   },
   "outputs": [
    {
     "data": {
      "text/plain": [
       "{'CONTROL': {'calculation': 'scf',\n",
       "  'forc_conv_thr': 0.001,\n",
       "  'tprnfor': True,\n",
       "  'tstress': True,\n",
       "  'etot_conv_thr': 0.0002},\n",
       " 'SYSTEM': {'nosym': False,\n",
       "  'occupations': 'fixed',\n",
       "  'ecutwfc': 30.0,\n",
       "  'ecutrho': 240.0},\n",
       " 'ELECTRONS': {'electron_maxstep': 80, 'mixing_beta': 0.4, 'conv_thr': 8e-10}}"
      ]
     },
     "execution_count": 6,
     "metadata": {},
     "output_type": "execute_result"
    }
   ],
   "source": [
    "builder.pw.parameters.get_dict()"
   ]
  },
  {
   "cell_type": "markdown",
   "id": "59df7aff",
   "metadata": {},
   "source": [
    "## 1.2 - How to modify default inputs"
   ]
  },
  {
   "cell_type": "markdown",
   "id": "1813ee01",
   "metadata": {},
   "source": [
    "It is possible to modify in two ways the inputs:\n",
    "\n",
    "    (1) to use the overrides in the builder creation;\n",
    "    (2) to re-define the dictionaries and the input in general"
   ]
  },
  {
   "cell_type": "code",
   "execution_count": 7,
   "id": "d8846670",
   "metadata": {},
   "outputs": [
    {
     "data": {
      "text/plain": [
       "{'CONTROL': {'calculation': 'scf',\n",
       "  'forc_conv_thr': 0.001,\n",
       "  'tprnfor': True,\n",
       "  'tstress': True,\n",
       "  'etot_conv_thr': 0.0002},\n",
       " 'SYSTEM': {'nosym': False,\n",
       "  'occupations': 'fixed',\n",
       "  'ecutwfc': 70.0,\n",
       "  'ecutrho': 280,\n",
       "  'force_symmorphic': True},\n",
       " 'ELECTRONS': {'electron_maxstep': 80, 'mixing_beta': 0.4, 'conv_thr': 8e-10}}"
      ]
     },
     "execution_count": 7,
     "metadata": {},
     "output_type": "execute_result"
    }
   ],
   "source": [
    "# (1):\n",
    "\n",
    "overrides={\n",
    "    'pw':{\n",
    "        'parameters':{\n",
    "            'SYSTEM': {\n",
    "            'nosym': False,\n",
    "            'occupations': 'fixed',\n",
    "            'ecutwfc': 70.0,\n",
    "            'ecutrho': 70*4,\n",
    "            'force_symmorphic':True,\n",
    "                      },\n",
    "    },},}\n",
    "\n",
    "builder = PwBaseWorkchain.get_builder_from_protocol(\n",
    "    \n",
    "                code=orm.load_code('pw-6.8@hydralogin'),\n",
    "                structure=orm.load_node(42601),\n",
    "                protocol='fast',\n",
    "                overrides=overrides,\n",
    "                electronic_type=ElectronicType.INSULATOR,\n",
    "                pseudo_family=\"PseudoDojo/0.4/LDA/SR/standard/upf\",\n",
    "    \n",
    ")\n",
    "\n",
    "builder.pw.parameters.get_dict()"
   ]
  },
  {
   "cell_type": "code",
   "execution_count": 9,
   "id": "7c82ac6d",
   "metadata": {},
   "outputs": [
    {
     "data": {
      "text/plain": [
       "{'CONTROL': {'calculation': 'scf',\n",
       "  'forc_conv_thr': 0.002,\n",
       "  'tprnfor': True,\n",
       "  'tstress': True,\n",
       "  'etot_conv_thr': 0.0002},\n",
       " 'SYSTEM': {'nosym': False,\n",
       "  'occupations': 'fixed',\n",
       "  'ecutwfc': 70.0,\n",
       "  'ecutrho': 280,\n",
       "  'force_symmorphic': True},\n",
       " 'ELECTRONS': {'electron_maxstep': 90, 'mixing_beta': 0.4, 'conv_thr': 8e-10}}"
      ]
     },
     "execution_count": 9,
     "metadata": {},
     "output_type": "execute_result"
    }
   ],
   "source": [
    "# (2)\n",
    "\n",
    "pw_parameters = {\n",
    "  'CONTROL': {'calculation': 'scf',\n",
    "  'forc_conv_thr': 0.002,\n",
    "  'tprnfor': True,\n",
    "  'tstress': True,\n",
    "  'etot_conv_thr': 0.0002},\n",
    " 'SYSTEM': {'nosym': False,\n",
    "  'occupations': 'fixed',\n",
    "  'ecutwfc': 70.0,\n",
    "  'ecutrho': 280,\n",
    "  'force_symmorphic':True,},\n",
    " 'ELECTRONS': {'electron_maxstep': 90, 'mixing_beta': 0.4, 'conv_thr': 8e-10},\n",
    "}\n",
    "\n",
    "builder.pw.parameters = orm.Dict(dict=pw_parameters)\n",
    "\n",
    "builder.pw.parameters.get_dict()"
   ]
  },
  {
   "cell_type": "markdown",
   "id": "2273b2fe",
   "metadata": {},
   "source": [
    "Let's see the kpoints mesh that is automatically choosen by means of the kpoints_distance (inverse of the density):"
   ]
  },
  {
   "cell_type": "code",
   "execution_count": 10,
   "id": "3c49cfa8",
   "metadata": {},
   "outputs": [
    {
     "data": {
      "text/plain": [
       "0.5"
      ]
     },
     "execution_count": 10,
     "metadata": {},
     "output_type": "execute_result"
    }
   ],
   "source": [
    "builder.kpoints_distance.value"
   ]
  },
  {
   "cell_type": "markdown",
   "id": "07cd5b3c",
   "metadata": {},
   "source": [
    "We can redefine the kpoints, by creating an istance of KpointsData, then setting the mesh, and eventually redefine the builder.kpoints attribute:"
   ]
  },
  {
   "cell_type": "code",
   "execution_count": 11,
   "id": "81a15937",
   "metadata": {},
   "outputs": [],
   "source": [
    "kpoints = orm.KpointsData()\n",
    "kpoints.set_kpoints_mesh([4,4,4])\n",
    "\n",
    "builder.kpoints = kpoints"
   ]
  },
  {
   "cell_type": "markdown",
   "id": "817a1c3d",
   "metadata": {},
   "source": [
    "Very important is also to set the workchain to not delete the remote folder, as we need it to perform nscf on top:"
   ]
  },
  {
   "cell_type": "code",
   "execution_count": 12,
   "id": "61b45428",
   "metadata": {},
   "outputs": [],
   "source": [
    "builder.clean_workdir = orm.Bool(False)"
   ]
  },
  {
   "cell_type": "markdown",
   "id": "54fe59ab",
   "metadata": {},
   "source": [
    "## 1.3 - Resources \n",
    "Then you should set up the options about resources and submission settings. \n",
    "These have to be stored as a python dictionary in the metadata method:"
   ]
  },
  {
   "cell_type": "code",
   "execution_count": 13,
   "id": "29fc0ca9",
   "metadata": {},
   "outputs": [],
   "source": [
    "builder.pw.metadata.options = {\n",
    "    'max_wallclock_seconds': 60*60, # in seconds\n",
    "    'resources': {\n",
    "            \"num_machines\": 1, # nodes\n",
    "            \"num_mpiprocs_per_machine\": 16, # MPI per nodes\n",
    "            \"num_cores_per_mpiproc\": 1, # OPENMP\n",
    "        },\n",
    "    'prepend_text': u\"export OMP_NUM_THREADS=\"+str(1), # if needed\n",
    "    #'account':'project_name',\n",
    "    'queue_name':'s3par',\n",
    "    #'qos':'',\n",
    "}"
   ]
  },
  {
   "cell_type": "markdown",
   "id": "91e828fd",
   "metadata": {},
   "source": [
    "## 2 - RUN!"
   ]
  },
  {
   "cell_type": "code",
   "execution_count": 14,
   "id": "410c6302",
   "metadata": {},
   "outputs": [],
   "source": [
    "from aiida.engine import submit"
   ]
  },
  {
   "cell_type": "code",
   "execution_count": 15,
   "id": "4a8d7a3a",
   "metadata": {},
   "outputs": [],
   "source": [
    "run_scf = submit(builder)"
   ]
  },
  {
   "cell_type": "code",
   "execution_count": 16,
   "id": "a76d1ced",
   "metadata": {},
   "outputs": [
    {
     "data": {
      "text/plain": [
       "86340"
      ]
     },
     "execution_count": 16,
     "metadata": {},
     "output_type": "execute_result"
    }
   ],
   "source": [
    "run_scf.pk"
   ]
  },
  {
   "cell_type": "markdown",
   "id": "d5215fc6",
   "metadata": {},
   "source": [
    "You can control the calculation from a shell typing:\n",
    "    \n",
    "    verdi process list\n",
    "    verdi process show <pk of the run_scf>\n",
    "    verdi process report <pk of the run_scf>"
   ]
  },
  {
   "cell_type": "code",
   "execution_count": 21,
   "id": "d1e0caee",
   "metadata": {},
   "outputs": [
    {
     "data": {
      "text/plain": [
       "True"
      ]
     },
     "execution_count": 21,
     "metadata": {},
     "output_type": "execute_result"
    }
   ],
   "source": [
    "run_scf.is_finished_ok"
   ]
  },
  {
   "cell_type": "code",
   "execution_count": null,
   "id": "8f13c3a2",
   "metadata": {},
   "outputs": [],
   "source": [
    "run_scf.outputs.   #use tab to see available outputs"
   ]
  },
  {
   "cell_type": "markdown",
   "id": "bbef764b",
   "metadata": {},
   "source": [
    "## 3 - Run the nscf workchain"
   ]
  },
  {
   "cell_type": "code",
   "execution_count": 22,
   "id": "1e1eec7b",
   "metadata": {},
   "outputs": [],
   "source": [
    "overrides={\n",
    "    'pw':{\n",
    "        'parameters':{\n",
    "            'CONTROL': {'calculation': 'nscf',},\n",
    "            'SYSTEM': {\n",
    "            'nosym': False,\n",
    "            'occupations': 'fixed',\n",
    "            'ecutwfc': 70.0,\n",
    "            'ecutrho': 70*4,\n",
    "            'nbnd':200,\n",
    "            'force_symmorphic':True,\n",
    "                      },\n",
    "    },},}\n",
    "\n",
    "builder = PwBaseWorkchain.get_builder_from_protocol(\n",
    "    \n",
    "                code=orm.load_code('pw-6.8@hydralogin'),\n",
    "                structure=orm.load_node(42601),\n",
    "                protocol='fast',\n",
    "                overrides=overrides,\n",
    "                electronic_type=ElectronicType.INSULATOR,\n",
    "                pseudo_family=\"PseudoDojo/0.4/LDA/SR/standard/upf\",\n",
    "    \n",
    ")\n",
    "\n",
    "#change the pseudos to be consistent with the scf.\n",
    "family = orm.load_group(\"sg15\")\n",
    "#builder.<sublevels_up_to .pw>.pseudos = family.get_pseudos(structure=structure) \n",
    "builder.pw.pseudos = family.get_pseudos(structure=orm.load_node(42601)) \n",
    "\n",
    "builder.pw.metadata.options = {\n",
    "    'max_wallclock_seconds': 60*60, # in seconds\n",
    "    'resources': {\n",
    "            \"num_machines\": 1, # nodes\n",
    "            \"num_mpiprocs_per_machine\": 16, # MPI per nodes\n",
    "            \"num_cores_per_mpiproc\": 1, # OPENMP\n",
    "        },\n",
    "    'prepend_text': u\"export OMP_NUM_THREADS=\"+str(1), # if needed\n",
    "    #'account':'project_name',\n",
    "    'queue_name':'s3par',\n",
    "    #'qos':'',\n",
    "}\n",
    "\n",
    "builder.clean_workdir = orm.Bool(False)"
   ]
  },
  {
   "cell_type": "markdown",
   "id": "37d36745",
   "metadata": {},
   "source": [
    "## Setting the parent scf calculation as starting point for charge density\n",
    "\n",
    "We set as parent_folder the previous completed scf run. To understand if run_scf is completed and went ok:\n",
    "\n",
    "    run_scf.is_finished_ok"
   ]
  },
  {
   "cell_type": "code",
   "execution_count": 23,
   "id": "8c96022c",
   "metadata": {},
   "outputs": [],
   "source": [
    "builder.pw.parent_folder = run_scf.outputs.remote_folder"
   ]
  },
  {
   "cell_type": "code",
   "execution_count": 24,
   "id": "6c50b556",
   "metadata": {},
   "outputs": [],
   "source": [
    "run_nscf = submit(builder)"
   ]
  },
  {
   "cell_type": "code",
   "execution_count": 25,
   "id": "636fd7b0",
   "metadata": {},
   "outputs": [
    {
     "data": {
      "text/plain": [
       "86354"
      ]
     },
     "execution_count": 25,
     "metadata": {},
     "output_type": "execute_result"
    }
   ],
   "source": [
    "run_nscf.pk"
   ]
  },
  {
   "cell_type": "code",
   "execution_count": 27,
   "id": "04de1280",
   "metadata": {},
   "outputs": [
    {
     "data": {
      "text/plain": [
       "True"
      ]
     },
     "execution_count": 27,
     "metadata": {},
     "output_type": "execute_result"
    }
   ],
   "source": [
    "run_nscf.is_finished_ok"
   ]
  },
  {
   "cell_type": "code",
   "execution_count": null,
   "id": "b307e6b3",
   "metadata": {},
   "outputs": [],
   "source": []
  }
 ],
 "metadata": {
  "kernelspec": {
   "display_name": "vaiida",
   "language": "python",
   "name": "vaiida"
  },
  "language_info": {
   "codemirror_mode": {
    "name": "ipython",
    "version": 3
   },
   "file_extension": ".py",
   "mimetype": "text/x-python",
   "name": "python",
   "nbconvert_exporter": "python",
   "pygments_lexer": "ipython3",
   "version": "3.8.0"
  }
 },
 "nbformat": 4,
 "nbformat_minor": 5
}
