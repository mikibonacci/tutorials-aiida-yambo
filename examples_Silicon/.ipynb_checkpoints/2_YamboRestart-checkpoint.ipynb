{
 "cells": [
  {
   "cell_type": "markdown",
   "id": "bc1815d2",
   "metadata": {},
   "source": [
    "# YamboRestart: a simple G0W0 run with error handling\n",
    "\n",
    "This is the lowest-level workflow of the plugin. It runs a yambo calculation (p2y+yambo), involving automatic error handling.\n",
    "\n",
    "The idea is to create a builder instance, which collects all the inputs needed for the simulation, then submit it by means of the aiida \"submit\" function."
   ]
  },
  {
   "cell_type": "code",
   "execution_count": 1,
   "id": "3d568e35",
   "metadata": {},
   "outputs": [],
   "source": [
    "%aiida  \n",
    "## this is a magic line function, it can be substitued by: ---\n",
    "\n",
    "from aiida import orm"
   ]
  },
  {
   "cell_type": "markdown",
   "id": "bdefa213",
   "metadata": {},
   "source": [
    "## 0 - A quantumespresso parent calculation\n",
    "\n",
    "Before to run any yambo simulation, you need to have a quantumespresso nscf simulation. This can be done following the aiida-quantumespresso tutorial (contained in the AiiDA tutorials), or using one of the examples provided in the aiida-yambo plugin package (examples/plugin/...)."
   ]
  },
  {
   "cell_type": "markdown",
   "id": "d19e1f48",
   "metadata": {},
   "source": [
    "## 1 - Creation of YamboRestart instance using protocols\n",
    "\n",
    "In this tutorial the creation of the builder, for a given workflow, is provided by means of the get_builder_from_protocol function.\n",
    "This is, for now, just a way to automatically populated all the needed inputs, allowing the user to partially skip the long part of input definition as done in examples like the one contained in ``aiida_yambo/examples_hBN/workflows/yambo_restart.py``.\n",
    "\n",
    "\n",
    "It is not meant to be an already tested set of default values as instead is done for the aiida-quantumespresso plugin. "
   ]
  },
  {
   "cell_type": "code",
   "execution_count": 2,
   "id": "d20b564b",
   "metadata": {},
   "outputs": [],
   "source": [
    "from aiida.plugins import WorkflowFactory"
   ]
  },
  {
   "cell_type": "code",
   "execution_count": 3,
   "id": "321ee868",
   "metadata": {},
   "outputs": [],
   "source": [
    "YamboRestart = WorkflowFactory('yambo.yambo.yamborestart')"
   ]
  },
  {
   "cell_type": "markdown",
   "id": "1bf7a350",
   "metadata": {},
   "source": [
    "## minimal inputs needed for protocols"
   ]
  },
  {
   "cell_type": "code",
   "execution_count": 4,
   "id": "2e155e3f",
   "metadata": {},
   "outputs": [],
   "source": [
    "options = {\n",
    "    'yamboprecode_id':'p2y-devel@hydralogin',\n",
    "    'yambocode_id':'yambo-RIMW@hydralogin',\n",
    "    'protocol':'fast',\n",
    "    'parent_id':86354, #take your previously nscf id (pk)\n",
    "}"
   ]
  },
  {
   "cell_type": "code",
   "execution_count": 5,
   "id": "72df3a38",
   "metadata": {},
   "outputs": [],
   "source": [
    "#YamboRestart.get_builder_from_protocol??"
   ]
  },
  {
   "cell_type": "code",
   "execution_count": 6,
   "id": "21bb9c13",
   "metadata": {},
   "outputs": [
    {
     "name": "stdout",
     "output_type": "stream",
     "text": [
      "Summary of the main inputs:\n",
      "BndsRnXp = 150\n",
      "GbndRnge = 150\n",
      "NGsBlkXp = 6 Ry\n",
      "FFTGvecs = 21 Ry\n",
      "\n"
     ]
    }
   ],
   "source": [
    "builder = YamboRestart.get_builder_from_protocol(\n",
    "            preprocessing_code = options['yamboprecode_id'],\n",
    "            code = options['yambocode_id'],\n",
    "            protocol=options['protocol'],\n",
    "            overrides={},\n",
    "            parent_folder=load_node(options['parent_id']).outputs.remote_folder,\n",
    "            RIM_v=False,           #this automatically set RIM_cut, if True\n",
    "            RIM_W=False,           #this automatically set RIM_W, if True\n",
    "            BG_term=False,         #this automatically set BG terminator, if True\n",
    ")"
   ]
  },
  {
   "cell_type": "code",
   "execution_count": 7,
   "id": "fa950e83",
   "metadata": {},
   "outputs": [
    {
     "data": {
      "text/plain": [
       "{'fast': {'description': 'Under converged for most materials, but fast'},\n",
       " 'moderate': {'description': 'Meta converged for most materials, higher computational cost than fast'},\n",
       " 'precise': {'description': 'Converged for most materials, higher computational cost than moderate'},\n",
       " 'bse_fast': {'description': 'Under converged for most materials, but fast'},\n",
       " 'bse_moderate': {'description': 'Meta converged for most materials, higher computational cost than fast'},\n",
       " 'bse_precise': {'description': 'Converged for most materials, higher computational cost than moderate'}}"
      ]
     },
     "execution_count": 7,
     "metadata": {},
     "output_type": "execute_result"
    }
   ],
   "source": [
    "#You can also try different protocols:\n",
    "    \n",
    "YamboRestart.get_available_protocols()"
   ]
  },
  {
   "cell_type": "markdown",
   "id": "42044842",
   "metadata": {},
   "source": [
    "Now, if you inspect the prepopulated inputs, you can see the default values respecting the imposed protocol:"
   ]
  },
  {
   "cell_type": "code",
   "execution_count": 8,
   "id": "dac005a5",
   "metadata": {},
   "outputs": [
    {
     "data": {
      "text/plain": [
       "{'arguments': ['dipoles', 'ppa', 'HF_and_locXC', 'gw0'],\n",
       " 'variables': {'Chimod': 'hartree',\n",
       "  'DysSolver': 'n',\n",
       "  'X_and_IO_nCPU_LinAlg_INV': [1, ''],\n",
       "  'NGsBlkXp': [6, 'Ry'],\n",
       "  'FFTGvecs': [21, 'Ry'],\n",
       "  'BndsRnXp': [[1, 150], ''],\n",
       "  'GbndRnge': [[1, 150], ''],\n",
       "  'QPkrange': [[[1, 1, 32, 32]], '']}}"
      ]
     },
     "execution_count": 8,
     "metadata": {},
     "output_type": "execute_result"
    }
   ],
   "source": [
    "builder.yambo.parameters.get_dict()"
   ]
  },
  {
   "cell_type": "markdown",
   "id": "e95c5f86",
   "metadata": {},
   "source": [
    "## 2 - Inputs completion\n",
    "\n",
    "We have to include also the resources:"
   ]
  },
  {
   "cell_type": "code",
   "execution_count": 10,
   "id": "ed641e91",
   "metadata": {},
   "outputs": [],
   "source": [
    "builder.yambo.metadata.options = {\n",
    "    'max_wallclock_seconds': 60*60, # in seconds\n",
    "    'resources': {\n",
    "            \"num_machines\": 1, # nodes\n",
    "            \"num_mpiprocs_per_machine\": 16, # MPI per nodes\n",
    "            \"num_cores_per_mpiproc\": 1, # OPENMP\n",
    "        },\n",
    "    'prepend_text': u\"export OMP_NUM_THREADS=\"+str(1), # if needed\n",
    "    #'account':'project_name',\n",
    "    'queue_name':'s3par',\n",
    "    #'qos':'',\n",
    "}"
   ]
  },
  {
   "cell_type": "markdown",
   "id": "85073d64",
   "metadata": {},
   "source": [
    "## 3 - Overrides\n",
    "\n",
    "It is possible to modify the default inputs also during the builder creation phase, so not a posteriori. This can be done by using overrides:"
   ]
  },
  {
   "cell_type": "code",
   "execution_count": 12,
   "id": "9bdb31a5",
   "metadata": {},
   "outputs": [],
   "source": [
    "overrides_yambo = {\n",
    "        \"yambo\": {\n",
    "            \"parameters\": {\n",
    "                \"arguments\": [\n",
    "                    \"rim_cut\",\n",
    "                ],\n",
    "                \"variables\": {\n",
    "                    \"NGsBlkXp\": [4, \"Ry\"],\n",
    "                },\n",
    "            },\n",
    "    'metadata':{\n",
    "                    'options':{\n",
    "    'max_wallclock_seconds': 60*60, # in seconds\n",
    "    'resources': {\n",
    "            \"num_machines\": 1, # nodes\n",
    "            \"num_mpiprocs_per_machine\": 16, # MPI per nodes\n",
    "            \"num_cores_per_mpiproc\": 1, # OPENMP\n",
    "        },\n",
    "    'prepend_text': u\"export OMP_NUM_THREADS=\"+str(1), # if needed\n",
    "    #'account':'project_name',\n",
    "    'queue_name':'s3par',\n",
    "    #'qos':'',\n",
    "                    },\n",
    "    },\n",
    "        }\n",
    "}"
   ]
  },
  {
   "cell_type": "code",
   "execution_count": 13,
   "id": "7b34d48c",
   "metadata": {},
   "outputs": [
    {
     "name": "stdout",
     "output_type": "stream",
     "text": [
      "Summary of the main inputs:\n",
      "BndsRnXp = 150\n",
      "GbndRnge = 150\n",
      "NGsBlkXp = 4 Ry\n",
      "FFTGvecs = 21 Ry\n",
      "\n"
     ]
    }
   ],
   "source": [
    "builder = YamboRestart.get_builder_from_protocol(\n",
    "            preprocessing_code = options['yamboprecode_id'],\n",
    "            code = options['yambocode_id'],\n",
    "            protocol=options['protocol'],\n",
    "            overrides=overrides_yambo,\n",
    "            parent_folder=load_node(options['parent_id']).outputs.remote_folder,\n",
    ")"
   ]
  },
  {
   "cell_type": "code",
   "execution_count": 14,
   "id": "79b45c85",
   "metadata": {},
   "outputs": [
    {
     "data": {
      "text/plain": [
       "{'stash': {}, 'resources': {'num_machines': 1, 'num_cores_per_mpiproc': 1, 'num_mpiprocs_per_machine': 16}, 'max_wallclock_seconds': 3600, 'withmpi': True, 'prepend_text': 'export OMP_NUM_THREADS=1', 'queue_name': 's3par'}"
      ]
     },
     "execution_count": 14,
     "metadata": {},
     "output_type": "execute_result"
    }
   ],
   "source": [
    "builder.yambo.metadata.options"
   ]
  },
  {
   "cell_type": "code",
   "execution_count": 24,
   "id": "2f508bb2",
   "metadata": {},
   "outputs": [
    {
     "data": {
      "text/plain": [
       "{'arguments': ['dipoles', 'ppa', 'HF_and_locXC', 'gw0', 'rim_cut'],\n",
       " 'variables': {'Chimod': 'hartree',\n",
       "  'DysSolver': 'n',\n",
       "  'X_and_IO_nCPU_LinAlg_INV': [1, ''],\n",
       "  'NGsBlkXp': [4, 'Ry'],\n",
       "  'FFTGvecs': [21, 'Ry'],\n",
       "  'BndsRnXp': [[1, 150], ''],\n",
       "  'GbndRnge': [[1, 150], ''],\n",
       "  'QPkrange': [[[1, 1, 32, 32]], '']}}"
      ]
     },
     "execution_count": 24,
     "metadata": {},
     "output_type": "execute_result"
    }
   ],
   "source": [
    "builder.yambo.parameters.get_dict()"
   ]
  },
  {
   "cell_type": "code",
   "execution_count": 25,
   "id": "72a35b1c",
   "metadata": {},
   "outputs": [
    {
     "data": {
      "text/plain": [
       "{'stash': {}, 'resources': {'num_machines': 1, 'num_cores_per_mpiproc': 1, 'num_mpiprocs_per_machine': 16}, 'max_wallclock_seconds': 3600, 'withmpi': True, 'prepend_text': 'export OMP_NUM_THREADS=1', 'queue_name': 's3par'}"
      ]
     },
     "execution_count": 25,
     "metadata": {},
     "output_type": "execute_result"
    }
   ],
   "source": [
    "builder.yambo.metadata.options"
   ]
  },
  {
   "cell_type": "markdown",
   "id": "64b59a07",
   "metadata": {},
   "source": [
    "## 3 RUN"
   ]
  },
  {
   "cell_type": "code",
   "execution_count": 26,
   "id": "323869cb",
   "metadata": {},
   "outputs": [],
   "source": [
    "from aiida.engine import submit"
   ]
  },
  {
   "cell_type": "code",
   "execution_count": 27,
   "id": "206e3b4e",
   "metadata": {},
   "outputs": [],
   "source": [
    "run = None"
   ]
  },
  {
   "cell_type": "code",
   "execution_count": 28,
   "id": "b6694d15",
   "metadata": {},
   "outputs": [
    {
     "name": "stdout",
     "output_type": "stream",
     "text": [
      "uuid: ebe27b68-986d-4681-bee0-2e02d225a631 (pk: 86986) (aiida.workflows:yambo.yambo.yamborestart)\n"
     ]
    }
   ],
   "source": [
    "if run:\n",
    "    print('run is already running -> {}'.format(run.pk))\n",
    "    print('sure that you want to run again?, if so, copy the else instruction in the cell below and run!')\n",
    "else:\n",
    "    run = submit(builder)\n",
    "\n",
    "print(run)"
   ]
  },
  {
   "cell_type": "markdown",
   "id": "190c90f8",
   "metadata": {},
   "source": [
    "# Inspecting the outputs\n",
    "\n",
    "suppose that your calculation completed successfully, then you can access the outputs via the output method of the run instance: "
   ]
  },
  {
   "cell_type": "code",
   "execution_count": 5,
   "id": "56292869",
   "metadata": {},
   "outputs": [
    {
     "data": {
      "text/plain": [
       "True"
      ]
     },
     "execution_count": 5,
     "metadata": {},
     "output_type": "execute_result"
    }
   ],
   "source": [
    "run.is_finished_ok"
   ]
  },
  {
   "cell_type": "code",
   "execution_count": null,
   "id": "4dc55b05",
   "metadata": {},
   "outputs": [],
   "source": [
    "run.outputs. #+TAB"
   ]
  },
  {
   "cell_type": "markdown",
   "id": "8568473c",
   "metadata": {},
   "source": [
    "For example, we have the array_ndb ArrayData, which essentially contains the information on the run.output.QP_DB (which can also be accessed directly):"
   ]
  },
  {
   "cell_type": "code",
   "execution_count": 7,
   "id": "2070839c",
   "metadata": {},
   "outputs": [
    {
     "data": {
      "text/plain": [
       "['E',\n",
       " 'Z',\n",
       " 'Eo',\n",
       " 'Sc',\n",
       " 'Sx',\n",
       " 'Vxc',\n",
       " 'Band',\n",
       " 'Kpoint',\n",
       " 'nbands',\n",
       " 'nkpoints',\n",
       " 'qp_table',\n",
       " 'E_minus_Eo',\n",
       " 'Kpoint_index']"
      ]
     },
     "execution_count": 7,
     "metadata": {},
     "output_type": "execute_result"
    }
   ],
   "source": [
    "run.outputs.array_ndb.get_arraynames()"
   ]
  },
  {
   "cell_type": "code",
   "execution_count": 8,
   "id": "a95ee8d3",
   "metadata": {},
   "outputs": [],
   "source": [
    "E_dft = run.outputs.array_ndb.get_array('Eo') #Ha\n",
    "E_qp = run.outputs.array_ndb.get_array('E')   #Ha"
   ]
  },
  {
   "cell_type": "code",
   "execution_count": 9,
   "id": "db8c24e8",
   "metadata": {},
   "outputs": [],
   "source": [
    "from matplotlib import pyplot as plt"
   ]
  },
  {
   "cell_type": "code",
   "execution_count": 10,
   "id": "4ad3da78",
   "metadata": {},
   "outputs": [],
   "source": [
    "from ase import units"
   ]
  },
  {
   "cell_type": "code",
   "execution_count": 11,
   "id": "67d86b09",
   "metadata": {},
   "outputs": [
    {
     "data": {
      "image/png": "[encoded data removed]",
      "text/plain": [
       "<Figure size 432x288 with 1 Axes>"
      ]
     },
     "metadata": {
      "needs_background": "light"
     },
     "output_type": "display_data"
    }
   ],
   "source": [
    "plt.plot(E_dft.real*units.Ha,E_qp.real*units.Ha,'o')\n",
    "plt.ylabel('G0W0')\n",
    "plt.xlabel('DFT')\n",
    "plt.grid()"
   ]
  },
  {
   "cell_type": "code",
   "execution_count": 12,
   "id": "c79d3a30",
   "metadata": {},
   "outputs": [
    {
     "data": {
      "text/plain": [
       "array([1.4390141-0.00094557j], dtype=complex64)"
      ]
     },
     "execution_count": 12,
     "metadata": {},
     "output_type": "execute_result"
    }
   ],
   "source": [
    "E_qp"
   ]
  },
  {
   "cell_type": "code",
   "execution_count": 13,
   "id": "da9f4c38",
   "metadata": {},
   "outputs": [
    {
     "data": {
      "text/plain": [
       "{'errors': [],\n",
       " 'timing': [' <---> P1: [01] MPI/OPENMP structure, Files & I/O Directories\\n',\n",
       "  ' <---> P1: [02] CORE Variables Setup\\n',\n",
       "  ' <---> P1: [03] Transferred momenta grid and indexing\\n',\n",
       "  ' <---> P1: [04] Dipoles\\n',\n",
       "  ' <02s> P1: [05] Dynamic Dielectric Matrix (PPA)\\n',\n",
       "  ' <05s> P1: [06] Local Exchange-Correlation + Non-Local Fock\\n',\n",
       "  ' <06s> P1: [07] Dyson equation: Newton solver\\n',\n",
       "  ' <07s> P1: [08] Timing Overview\\n',\n",
       "  ' <07s> P1: [09] Memory Overview\\n',\n",
       "  ' <07s> P1: [10] Game Over & Game summary\\n'],\n",
       " 'has_gpu': False,\n",
       " 'memstats': [],\n",
       " 'warnings': [],\n",
       " 'Fermi(eV)': 6.602032,\n",
       " 'game_over': True,\n",
       " 'last_time': 7,\n",
       " 'para_error': False,\n",
       " 'time_error': False,\n",
       " 'ns_db1_path': '/scratch/mbonacci/vaiida/.aiida/repository/mbonacci/repository/node/7b/17/d670-cf93-45ba-9c4a-8cdd8b97dcd1/path',\n",
       " 'memory_error': False,\n",
       " 'p2y_completed': True,\n",
       " 'yambo_version': '5.x',\n",
       " 'requested_time': 3600,\n",
       " 'last_time_units': 'seconds',\n",
       " 'yambo_wrote_dbs': True,\n",
       " 'corrupted_fragment': False,\n",
       " 'X_par_allocation_error': False}"
      ]
     },
     "execution_count": 13,
     "metadata": {},
     "output_type": "execute_result"
    }
   ],
   "source": [
    "run.outputs.output_parameters.get_dict()"
   ]
  },
  {
   "cell_type": "code",
   "execution_count": 14,
   "id": "d16368a4",
   "metadata": {},
   "outputs": [
    {
     "data": {
      "text/plain": [
       "<SinglefileData: uuid: 53d4a1ca-0b1d-4a17-a485-39a8773266d2 (pk: 87044)>"
      ]
     },
     "execution_count": 14,
     "metadata": {},
     "output_type": "execute_result"
    }
   ],
   "source": [
    "run.outputs.QP_db"
   ]
  },
  {
   "cell_type": "markdown",
   "id": "761b14d0",
   "metadata": {},
   "source": [
    "## Error handling in action: the case of walltime exhaustion\n",
    "\n",
    "You can try the restaring mechanism by asking for a very small time for the simulation, in such a way that the first run will not be completed successfully. \n",
    "You can see, by inspecting the report of the run, that the workflow tries to submit other calculation by increasing the time requested."
   ]
  },
  {
   "cell_type": "code",
   "execution_count": null,
   "id": "25b2329f",
   "metadata": {},
   "outputs": [],
   "source": []
  }
 ],
 "metadata": {
  "kernelspec": {
   "display_name": "vaiida",
   "language": "python",
   "name": "vaiida"
  },
  "language_info": {
   "codemirror_mode": {
    "name": "ipython",
    "version": 3
   },
   "file_extension": ".py",
   "mimetype": "text/x-python",
   "name": "python",
   "nbconvert_exporter": "python",
   "pygments_lexer": "ipython3",
   "version": "3.8.0"
  }
 },
 "nbformat": 4,
 "nbformat_minor": 5
}
