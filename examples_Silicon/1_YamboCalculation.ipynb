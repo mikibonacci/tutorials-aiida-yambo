{
 "cells": [
  {
   "cell_type": "markdown",
   "id": "f6308138",
   "metadata": {},
   "source": [
    "# YamboCalculation: a simple G0W0 run\n",
    "\n",
    "This is the calcjob class of the plugin that runs a single yambo calculation (p2y+yambo), and does not involve any outputs analysis or further post processing (like calculation of gaps, excitonic eigenvalues and so on).\n",
    "\n",
    "The idea is to create a builder instance, which collects all the inputs needed for the simulation, then submit it by means of the aiida \"submit\" function."
   ]
  },
  {
   "cell_type": "code",
   "execution_count": 1,
   "id": "3ddcfd3f",
   "metadata": {},
   "outputs": [],
   "source": [
    "%aiida  \n",
    "## this is a magic line function, it can be substitued by: ---\n",
    "\n",
    "from aiida import orm"
   ]
  },
  {
   "cell_type": "markdown",
   "id": "4861a439",
   "metadata": {},
   "source": [
    "## 0 - A quantumespresso parent calculation\n",
    "\n",
    "Before to run any yambo simulation, you need to have a quantumespresso nscf simulation. This can be done following the aiida-quantumespresso tutorial (contained in the AiiDA tutorials), or using one of the examples provided in the aiida-yambo plugin package (examples/plugin/...)."
   ]
  },
  {
   "cell_type": "markdown",
   "id": "7d013584",
   "metadata": {},
   "source": [
    "## 1 - Creation of YamboCalculation and builder instances"
   ]
  },
  {
   "cell_type": "code",
   "execution_count": 2,
   "id": "84ebba5b",
   "metadata": {},
   "outputs": [],
   "source": [
    "from aiida.plugins import CalculationFactory"
   ]
  },
  {
   "cell_type": "code",
   "execution_count": 3,
   "id": "4afc2b7a",
   "metadata": {},
   "outputs": [],
   "source": [
    "YamboCalculation = CalculationFactory('yambo.yambo')"
   ]
  },
  {
   "cell_type": "code",
   "execution_count": 4,
   "id": "2f8b3c57",
   "metadata": {},
   "outputs": [],
   "source": [
    "builder = YamboCalculation.get_builder()"
   ]
  },
  {
   "cell_type": "markdown",
   "id": "f65c514b",
   "metadata": {},
   "source": [
    "## 2 - Setting up inputs\n",
    "If you now inspect the builder methods, by using the tab, you can see that there are several inputs that you need to provide: code, metadata, parameters..."
   ]
  },
  {
   "cell_type": "code",
   "execution_count": null,
   "id": "6f743cbb",
   "metadata": {},
   "outputs": [],
   "source": [
    "builder. #tab completion"
   ]
  },
  {
   "cell_type": "markdown",
   "id": "7fbabf7b",
   "metadata": {},
   "source": [
    "## 2.1 Codes\n",
    "We must provide the codes (yambo and p2y):"
   ]
  },
  {
   "cell_type": "code",
   "execution_count": 7,
   "id": "45c68c36",
   "metadata": {},
   "outputs": [],
   "source": [
    "builder.code = orm.load_code('yambo-RIMW@hydralogin')               #yambo executable\n",
    "builder.preprocessing_code = orm.load_code('p2y-devel@hydralogin')  #p2y   executable"
   ]
  },
  {
   "cell_type": "markdown",
   "id": "61ce11bf",
   "metadata": {},
   "source": [
    "## 2.2 Resources \n",
    "Then you should set up the options about resources and submission settings. \n",
    "These have to be stored as a python dictionary in the metadata method:"
   ]
  },
  {
   "cell_type": "code",
   "execution_count": 8,
   "id": "3d07513d",
   "metadata": {},
   "outputs": [],
   "source": [
    "builder.metadata.options = {\n",
    "    'max_wallclock_seconds': 60*60, # in seconds\n",
    "    'resources': {\n",
    "            \"num_machines\": 1, # nodes\n",
    "            \"num_mpiprocs_per_machine\": 16, # MPI per nodes\n",
    "            \"num_cores_per_mpiproc\": 1, # OPENMP\n",
    "        },\n",
    "    'prepend_text': u\"export OMP_NUM_THREADS=\"+str(1), # if needed\n",
    "    #'account':'project_name',\n",
    "    'queue_name':'s3par',\n",
    "    #'qos':'',\n",
    "}"
   ]
  },
  {
   "cell_type": "markdown",
   "id": "e5cbb258",
   "metadata": {},
   "source": [
    "## 2.3 Yambo inputs\n",
    "The yambo inputs, used to write the input file (yambo.in -> aiida.in) are provided as a python dictionary, then\n",
    "store as an AiiDA Dict. \n",
    "Runlevels are included under the 'arguments' key, as a list of strings. Parameters are instead in the 'variables' dictionary, as you can see. The format is the same as yambopy (indeed, to write the input file, the code uses the YamboIn() function of yambopy)."
   ]
  },
  {
   "cell_type": "code",
   "execution_count": 9,
   "id": "22f20549",
   "metadata": {},
   "outputs": [],
   "source": [
    "params = {\n",
    "        'arguments': [\n",
    "            'dipoles',\n",
    "            'HF_and_locXC',\n",
    "            'dipoles',\n",
    "            'gw0',\n",
    "            'ppa',],\n",
    "        'variables': {\n",
    "            'Chimod': 'hartree',\n",
    "            'DysSolver': 'n',\n",
    "            'GTermKind': 'BG',\n",
    "            'NGsBlkXp': [2, 'Ry'],\n",
    "            'BndsRnXp': [[1, 50], ''],\n",
    "            'GbndRnge': [[1, 50], ''],\n",
    "            'QPkrange': [[[1, 10, 4, 5]], ''],}}\n",
    "\n",
    "builder.parameters = orm.Dict(dict=params)"
   ]
  },
  {
   "cell_type": "markdown",
   "id": "c728940d",
   "metadata": {},
   "source": [
    "You can also provide a settings dictionary, where to specify some instructions (False is default for any of them)"
   ]
  },
  {
   "cell_type": "code",
   "execution_count": 11,
   "id": "3ac63138",
   "metadata": {},
   "outputs": [],
   "source": [
    "builder.settings = orm.Dict(dict={\n",
    "    'INITIALISE': False, # if True, run only p2y and yambo initialization\n",
    "    'COPY_DBS': False,   # if True, copy the out folder of a previous yambo calculation\n",
    "    'COPY_SAVE': False,  # if True, copy the SAVE folder of a previous yambo calculation\n",
    "    'RESTART_YAMBO': False, # if True, soft-link the out folder of a previous yambo calculation\n",
    "})\n",
    "\n",
    "\n",
    "#To run  only p2y+yambo init, it is possible to set:\n",
    "#params_gw = Dict(dict={\n",
    "#        'arguments': [],\n",
    "#        'variables': {}})\n"
   ]
  },
  {
   "cell_type": "markdown",
   "id": "44ffc600",
   "metadata": {},
   "source": [
    "## 2.3.1 If want to run BSE on top of QP\n",
    "we provide as input the pk of the QP SingleFileData and then we add the instruction in the BSE inputs:\n",
    "\n",
    "    builder.QP_corrections = orm.load_node(11)    ---> QP_db node\n",
    "    params['variables']['KfnQPdb'] =  \"E < ./ndb.QP\"\n",
    "    builder.parameters = orm.Dict(dict=params)"
   ]
  },
  {
   "cell_type": "markdown",
   "id": "318e2538",
   "metadata": {},
   "source": [
    "## 2.4 Setting the parent nscf calculation"
   ]
  },
  {
   "cell_type": "code",
   "execution_count": 12,
   "id": "e7e1c0eb",
   "metadata": {},
   "outputs": [],
   "source": [
    "nscf_pk = 86354 # the pk of the nscf calculation.\n",
    "\n",
    "\n",
    "builder.parent_folder = orm.load_node(nscf_pk).outputs.remote_folder"
   ]
  },
  {
   "cell_type": "markdown",
   "id": "2df670cf",
   "metadata": {},
   "source": [
    "## 3 RUN"
   ]
  },
  {
   "cell_type": "code",
   "execution_count": 13,
   "id": "3650b46a",
   "metadata": {},
   "outputs": [],
   "source": [
    "from aiida.engine import submit"
   ]
  },
  {
   "cell_type": "code",
   "execution_count": 14,
   "id": "a8b64246",
   "metadata": {},
   "outputs": [],
   "source": [
    "run = None"
   ]
  },
  {
   "cell_type": "code",
   "execution_count": 15,
   "id": "5d2621ba",
   "metadata": {},
   "outputs": [
    {
     "name": "stdout",
     "output_type": "stream",
     "text": [
      "uuid: 5c2a034d-2685-4dbb-b3e5-a3615d159e4a (pk: 86368) (aiida.calculations:yambo.yambo)\n"
     ]
    }
   ],
   "source": [
    "if run:\n",
    "    print('run is already running -> {}'.format(run.pk))\n",
    "    print('sure that you want to run again?, if so, copy the else instruction in the cell below and run!')\n",
    "else:\n",
    "    run = submit(builder)\n",
    "\n",
    "print(run)"
   ]
  },
  {
   "cell_type": "markdown",
   "id": "cb6e6b85",
   "metadata": {},
   "source": [
    "# Inspecting the outputs\n",
    "\n",
    "suppose that your calculation completed successfully, then you can access the outputs via the output method of the run instance: "
   ]
  },
  {
   "cell_type": "code",
   "execution_count": 17,
   "id": "23079499",
   "metadata": {},
   "outputs": [
    {
     "data": {
      "text/plain": [
       "True"
      ]
     },
     "execution_count": 17,
     "metadata": {},
     "output_type": "execute_result"
    }
   ],
   "source": [
    "run.is_finished_ok"
   ]
  },
  {
   "cell_type": "code",
   "execution_count": null,
   "id": "2ab7b331",
   "metadata": {},
   "outputs": [],
   "source": [
    "run.outputs. #+TAB"
   ]
  },
  {
   "cell_type": "markdown",
   "id": "9ce0cfcf",
   "metadata": {},
   "source": [
    "For example, we have the array_ndb ArrayData, which essentially contains the information on the run.output.QP_DB (which can also be accessed directly):"
   ]
  },
  {
   "cell_type": "code",
   "execution_count": 18,
   "id": "5ed97484",
   "metadata": {},
   "outputs": [
    {
     "data": {
      "text/plain": [
       "['E',\n",
       " 'Z',\n",
       " 'Eo',\n",
       " 'Sc',\n",
       " 'Sx',\n",
       " 'Vxc',\n",
       " 'Band',\n",
       " 'Kpoint',\n",
       " 'nbands',\n",
       " 'nkpoints',\n",
       " 'qp_table',\n",
       " 'E_minus_Eo',\n",
       " 'Kpoint_index']"
      ]
     },
     "execution_count": 18,
     "metadata": {},
     "output_type": "execute_result"
    }
   ],
   "source": [
    "run.outputs.array_ndb.get_arraynames()"
   ]
  },
  {
   "cell_type": "code",
   "execution_count": 19,
   "id": "528793ae",
   "metadata": {},
   "outputs": [],
   "source": [
    "E_dft = run.outputs.array_ndb.get_array('Eo') #Ha\n",
    "E_qp = run.outputs.array_ndb.get_array('E')   #Ha"
   ]
  },
  {
   "cell_type": "code",
   "execution_count": 20,
   "id": "c8548f78",
   "metadata": {},
   "outputs": [],
   "source": [
    "from matplotlib import pyplot as plt"
   ]
  },
  {
   "cell_type": "code",
   "execution_count": 21,
   "id": "e3c27173",
   "metadata": {},
   "outputs": [],
   "source": [
    "from ase import units"
   ]
  },
  {
   "cell_type": "code",
   "execution_count": 22,
   "id": "64173f31",
   "metadata": {},
   "outputs": [
    {
     "data": {
      "image/png": "[encoded data removed]",
      "text/plain": [
       "<Figure size 432x288 with 1 Axes>"
      ]
     },
     "metadata": {
      "needs_background": "light"
     },
     "output_type": "display_data"
    }
   ],
   "source": [
    "plt.plot(E_dft.real*units.Ha,E_qp.real*units.Ha,'o')\n",
    "plt.ylabel('G0W0')\n",
    "plt.xlabel('DFT')\n",
    "plt.grid()"
   ]
  },
  {
   "cell_type": "code",
   "execution_count": 23,
   "id": "a1182818",
   "metadata": {},
   "outputs": [
    {
     "data": {
      "text/plain": [
       "array([-0.00128412+0.00028974j,  0.10770917-0.00054497j,\n",
       "       -0.02417618+0.00031448j,  0.10001104-0.00054292j,\n",
       "       -0.04576695+0.00036589j,  0.07852107-0.00052052j,\n",
       "       -0.0609797 +0.00036945j,  0.06225789-0.00049448j,\n",
       "       -0.08105104+0.00041809j,  0.07390037-0.00051614j,\n",
       "       -0.06942848+0.0004004j ,  0.08597497-0.0005404j ,\n",
       "       -0.03438294+0.0003369j ,  0.12308611-0.00058475j,\n",
       "       -0.10885616+0.00048517j,  0.0261621 -0.00046368j,\n",
       "       -0.10400721+0.00047176j,  0.04333047-0.00049284j,\n",
       "       -0.12150175+0.00047091j,  0.1366501 -0.00059668j], dtype=complex64)"
      ]
     },
     "execution_count": 23,
     "metadata": {},
     "output_type": "execute_result"
    }
   ],
   "source": [
    "E_qp"
   ]
  },
  {
   "cell_type": "code",
   "execution_count": 24,
   "id": "4ac801b6",
   "metadata": {},
   "outputs": [
    {
     "data": {
      "text/plain": [
       "{'errors': [],\n",
       " 'timing': [' <---> P1: [01] MPI/OPENMP structure, Files & I/O Directories\\n',\n",
       "  ' <---> P1: [02] CORE Variables Setup\\n',\n",
       "  ' <---> P1: [03] Transferred momenta grid and indexing\\n',\n",
       "  ' <---> P1: [04] Dipoles\\n',\n",
       "  ' <02s> P1: [05] Dynamic Dielectric Matrix (PPA)\\n',\n",
       "  ' <12s> P1: [06] Local Exchange-Correlation + Non-Local Fock\\n',\n",
       "  ' <18s> P1: [07] Dyson equation: Newton solver\\n',\n",
       "  ' <22s> P1: [08] Timing Overview\\n',\n",
       "  ' <22s> P1: [09] Memory Overview\\n',\n",
       "  ' <22s> P1: [10] Game Over & Game summary\\n'],\n",
       " 'has_gpu': False,\n",
       " 'memstats': [],\n",
       " 'warnings': [],\n",
       " 'Fermi(eV)': 6.602032,\n",
       " 'game_over': True,\n",
       " 'last_time': 22,\n",
       " 'para_error': False,\n",
       " 'time_error': False,\n",
       " 'ns_db1_path': '/scratch/mbonacci/vaiida/.aiida/repository/mbonacci/repository/node/73/1d/5998-05bf-4ddb-ba0a-2116c608fd1f/path',\n",
       " 'memory_error': False,\n",
       " 'p2y_completed': True,\n",
       " 'yambo_version': '5.x',\n",
       " 'requested_time': 3600,\n",
       " 'last_time_units': 'seconds',\n",
       " 'yambo_wrote_dbs': True,\n",
       " 'corrupted_fragment': False,\n",
       " 'X_par_allocation_error': False}"
      ]
     },
     "execution_count": 24,
     "metadata": {},
     "output_type": "execute_result"
    }
   ],
   "source": [
    "run.outputs.output_parameters.get_dict()"
   ]
  },
  {
   "cell_type": "code",
   "execution_count": 26,
   "id": "e4c028a0",
   "metadata": {},
   "outputs": [
    {
     "data": {
      "text/plain": [
       "<SinglefileData: uuid: 5b9680b1-b041-4858-8e95-d07885aef7f0 (pk: 86371)>"
      ]
     },
     "execution_count": 26,
     "metadata": {},
     "output_type": "execute_result"
    }
   ],
   "source": [
    "run.outputs.QP_db"
   ]
  }
 ],
 "metadata": {
  "kernelspec": {
   "display_name": "vaiida",
   "language": "python",
   "name": "vaiida"
  },
  "language_info": {
   "codemirror_mode": {
    "name": "ipython",
    "version": 3
   },
   "file_extension": ".py",
   "mimetype": "text/x-python",
   "name": "python",
   "nbconvert_exporter": "python",
   "pygments_lexer": "ipython3",
   "version": "3.8.0"
  }
 },
 "nbformat": 4,
 "nbformat_minor": 5
}
