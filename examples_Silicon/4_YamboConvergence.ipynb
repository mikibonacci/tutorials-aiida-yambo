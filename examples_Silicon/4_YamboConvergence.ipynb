{
 "cells": [
  {
   "cell_type": "markdown",
   "id": "ab45edba",
   "metadata": {},
   "source": [
    "# YamboConvergence: automated GW/BSE convergence\n",
    "\n",
    "This is the highest-level workflow of the plugin. It runs an automated GW or BSE convergence.\n",
    "Simulations are organized on the fly without human intervention.\n",
    "\n",
    "The idea is to create a builder instance, which collects all the inputs needed for the simulation, then submit it by means of the aiida \"submit\" function."
   ]
  },
  {
   "cell_type": "code",
   "execution_count": 1,
   "id": "67feea3f",
   "metadata": {},
   "outputs": [],
   "source": [
    "%aiida  \n",
    "## this is a magic line function, it can be substitued by: ---\n",
    "\n",
    "from aiida import orm"
   ]
  },
  {
   "cell_type": "markdown",
   "id": "10b9c88a",
   "metadata": {},
   "source": [
    "## 1 - Creation of YamboConvergence instance using protocols\n",
    "\n",
    "In this tutorial the creation of the builder, for a given workflow, is provided by means of the get_builder_from_protocol function.\n",
    "This is, for now, just a way to automatically populated all the needed inputs, allowing the user to partially skip the long part of input definition as done in examples like the one contained in ``aiida_yambo/examples_hBN/workflows/yambo_convergence.py``.\n",
    "\n",
    "\n",
    "It is not meant to be an already tested set of default values as instead is done for the aiida-quantumespresso plugin. "
   ]
  },
  {
   "cell_type": "code",
   "execution_count": 2,
   "id": "c71784f5",
   "metadata": {},
   "outputs": [],
   "source": [
    "from aiida.plugins import WorkflowFactory"
   ]
  },
  {
   "cell_type": "code",
   "execution_count": 3,
   "id": "fec46937",
   "metadata": {},
   "outputs": [],
   "source": [
    "YamboConvergence = WorkflowFactory('yambo.yambo.yamboconvergence')"
   ]
  },
  {
   "cell_type": "markdown",
   "id": "a02f8746",
   "metadata": {},
   "source": [
    "## minimal inputs needed for protocols"
   ]
  },
  {
   "cell_type": "code",
   "execution_count": 4,
   "id": "5fff4fe6",
   "metadata": {},
   "outputs": [],
   "source": [
    "options = {\n",
    "    'pwcode_id': 'pw-6.8@hydralogin', \n",
    "    'pseudo_family':\"PseudoDojo/0.4/LDA/SR/standard/upf\",\n",
    "    'yamboprecode_id':'p2y-devel@hydralogin',\n",
    "    'yambocode_id':'yambo-RIMW@hydralogin',\n",
    "    'protocol':'fast',\n",
    "    #'parent_id':86354, #take your previously nscf id (pk)\n",
    "    'structure_id':77395,\n",
    "}"
   ]
  },
  {
   "cell_type": "code",
   "execution_count": 5,
   "id": "3ae444bd",
   "metadata": {},
   "outputs": [],
   "source": [
    "#YamboWorkflow.get_builder_from_protocol??"
   ]
  },
  {
   "cell_type": "code",
   "execution_count": 6,
   "id": "24ddca82",
   "metadata": {},
   "outputs": [],
   "source": [
    "from aiida_quantumespresso.common.types import ElectronicType"
   ]
  },
  {
   "cell_type": "code",
   "execution_count": 7,
   "id": "a429cbfe",
   "metadata": {},
   "outputs": [
    {
     "name": "stdout",
     "output_type": "stream",
     "text": [
      "Summary of the main inputs:\n",
      "BndsRnXp = 150\n",
      "GbndRnge = 150\n",
      "NGsBlkXp = 2 Ry\n",
      "FFTGvecs = 9 Ry\n",
      "\n",
      "\n",
      "kpoint mesh for nscf: [6, 6, 6]\n"
     ]
    },
    {
     "name": "stderr",
     "output_type": "stream",
     "text": [
      "/scratch/mbonacci/vaiida/lib/python3.8/site-packages/aiida_quantumespresso/calculations/pw.py:204: UserWarning: `parent_folder` not provided for `nscf` calculation. For work chains wrapping this calculation, you can disable this warning by setting the validator of the `PwCalculation` port to `PwCalculation.validate_inputs_base`.\n",
      "  warnings.warn(\n"
     ]
    }
   ],
   "source": [
    "builder = YamboConvergence.get_builder_from_protocol(\n",
    "            pw_code = options['pwcode_id'],\n",
    "            preprocessing_code = options['yamboprecode_id'],\n",
    "            code = options['yambocode_id'],\n",
    "            protocol=options['protocol'],\n",
    "            protocol_qe=options['protocol'],\n",
    "            structure= load_node(options['structure_id']),\n",
    "            overrides={},\n",
    "            #parent_folder=load_node(options['parent_id']).outputs.remote_folder,\n",
    "            electronic_type=ElectronicType.INSULATOR, #default is METAL: smearing is used\n",
    "            calc_type='gw', #or 'bse'; default is 'gw'\n",
    ")"
   ]
  },
  {
   "cell_type": "code",
   "execution_count": 8,
   "id": "05e883f0",
   "metadata": {},
   "outputs": [
    {
     "data": {
      "text/plain": [
       "{'fast': {'description': 'Fast protocol for a GW convergence: grid -> poor; thresholds -> poor'},\n",
       " 'moderate': {'description': 'Moderate protocol for a GW convergence: grid -> enough good for standard materials; thresholds -> moderate (5 percent)'},\n",
       " 'precise': {'description': 'precise protocol for a GW convergence: grid -> same as moderate; thresholds -> precise (1 percent)'},\n",
       " 'molecule': {'description': 'Moderate protocol for a GW convergence in molecules'}}"
      ]
     },
     "execution_count": 8,
     "metadata": {},
     "output_type": "execute_result"
    }
   ],
   "source": [
    "#You can also try different protocols:\n",
    "    \n",
    "YamboConvergence.get_available_protocols()"
   ]
  },
  {
   "cell_type": "markdown",
   "id": "e8019448",
   "metadata": {},
   "source": [
    "Now, if you inspect the prepopulated inputs, you can see the default values respecting the imposed protocol:"
   ]
  },
  {
   "cell_type": "code",
   "execution_count": 9,
   "id": "87d21582",
   "metadata": {},
   "outputs": [
    {
     "data": {
      "text/plain": [
       "{'CONTROL': {'calculation': 'nscf',\n",
       "  'forc_conv_thr': 0.001,\n",
       "  'tprnfor': True,\n",
       "  'tstress': True,\n",
       "  'etot_conv_thr': 0.0002},\n",
       " 'SYSTEM': {'nosym': False,\n",
       "  'occupations': 'fixed',\n",
       "  'ecutwfc': 30.0,\n",
       "  'ecutrho': 240.0,\n",
       "  'force_symmorphic': True,\n",
       "  'nbnd': 150},\n",
       " 'ELECTRONS': {'electron_maxstep': 80, 'mixing_beta': 0.4, 'conv_thr': 8e-10}}"
      ]
     },
     "execution_count": 9,
     "metadata": {},
     "output_type": "execute_result"
    }
   ],
   "source": [
    "builder.ywfl.nscf.pw.parameters.get_dict()"
   ]
  },
  {
   "cell_type": "code",
   "execution_count": 10,
   "id": "1cfe00ff",
   "metadata": {},
   "outputs": [
    {
     "data": {
      "text/plain": [
       "{'arguments': ['dipoles', 'ppa', 'HF_and_locXC', 'gw0'],\n",
       " 'variables': {'Chimod': 'hartree',\n",
       "  'DysSolver': 'n',\n",
       "  'X_and_IO_nCPU_LinAlg_INV': [1, ''],\n",
       "  'NGsBlkXp': [2, 'Ry'],\n",
       "  'FFTGvecs': [9, 'Ry'],\n",
       "  'BndsRnXp': [[1, 150], ''],\n",
       "  'GbndRnge': [[1, 150], ''],\n",
       "  'QPkrange': [[[1, 1, 32, 32]], '']}}"
      ]
     },
     "execution_count": 10,
     "metadata": {},
     "output_type": "execute_result"
    }
   ],
   "source": [
    "builder.ywfl.yres.yambo.parameters.get_dict()"
   ]
  },
  {
   "cell_type": "markdown",
   "id": "d9dc84b2",
   "metadata": {},
   "source": [
    "## 2 - Inputs completion\n",
    "\n",
    "We have to include also the resources:"
   ]
  },
  {
   "cell_type": "code",
   "execution_count": 11,
   "id": "1864a75b",
   "metadata": {},
   "outputs": [],
   "source": [
    "builder.ywfl.scf.pw.metadata.options = {\n",
    "    'max_wallclock_seconds': 2*60*60, # in seconds\n",
    "    'resources': {\n",
    "            \"num_machines\": 1, # nodes\n",
    "            \"num_mpiprocs_per_machine\": 16, # MPI per nodes\n",
    "            \"num_cores_per_mpiproc\": 1, # OPENMP\n",
    "        },\n",
    "    'prepend_text': u\"export OMP_NUM_THREADS=\"+str(1), # if needed\n",
    "    #'account':'project_name',\n",
    "    'queue_name':'s3par',\n",
    "    #'qos':'',\n",
    "}\n",
    "\n",
    "builder.ywfl.nscf.pw.metadata.options = builder.ywfl.scf.pw.metadata.options\n",
    "builder.ywfl.yres.yambo.metadata.options = builder.ywfl.scf.pw.metadata.options"
   ]
  },
  {
   "cell_type": "markdown",
   "id": "754ca4fe",
   "metadata": {},
   "source": [
    "## 3 - Overrides\n",
    "\n",
    "It is possible to modify the default inputs also during the builder creation phase, so not a posteriori. This can be done by using overrides:"
   ]
  },
  {
   "cell_type": "code",
   "execution_count": 12,
   "id": "cdc03a8b",
   "metadata": {},
   "outputs": [],
   "source": [
    "overrides_scf = {\n",
    "        'pseudo_family': 'PseudoDojo/0.4/LDA/SR/standard/upf', \n",
    "        'pw': {\n",
    "            'parameters':{\n",
    "                'CONTROL':{}, #not needed if you don't override something\n",
    "                'SYSTEM':{'ecutwfc': 50.0,\n",
    "                          'ecutrho': 200.0,},\n",
    "                'ELECTRONS':{},\n",
    "            },\n",
    "             'metadata':{\n",
    "                    'options':{\n",
    "                    'max_wallclock_seconds': 60*60, # in seconds\n",
    "                    'resources': {\n",
    "                            \"num_machines\": 1, # nodes\n",
    "                            \"num_mpiprocs_per_machine\": 16, # MPI per nodes\n",
    "                            \"num_cores_per_mpiproc\": 1, # OPENMP\n",
    "                        },\n",
    "                    'prepend_text': u\"export OMP_NUM_THREADS=\"+str(1), # if needed\n",
    "                    #'account':'project_name',\n",
    "                    'queue_name':'s3par',\n",
    "                    #'qos':'',\n",
    "                                    },\n",
    "        },\n",
    "    },\n",
    "}\n",
    "overrides_nscf = {\n",
    "        'pseudo_family': 'PseudoDojo/0.4/LDA/SR/standard/upf', \n",
    "        'pw': {\n",
    "            'parameters':{\n",
    "                'CONTROL':{}, #not needed if you don't override something\n",
    "                'SYSTEM':{'ecutwfc': 50.0,\n",
    "                          'ecutrho': 200.0,},\n",
    "                'ELECTRONS':{'diagonalization':'cg'},\n",
    "            },\n",
    "             'metadata':{\n",
    "                    'options':{\n",
    "                    'max_wallclock_seconds': 60*60, # in seconds\n",
    "                    'resources': {\n",
    "                            \"num_machines\": 1, # nodes\n",
    "                            \"num_mpiprocs_per_machine\": 16, # MPI per nodes\n",
    "                            \"num_cores_per_mpiproc\": 1, # OPENMP\n",
    "                        },\n",
    "                    'prepend_text': u\"export OMP_NUM_THREADS=\"+str(1), # if needed\n",
    "                    #'account':'project_name',\n",
    "                    'queue_name':'s3par',\n",
    "                    #'qos':'',\n",
    "                                    },\n",
    "        },\n",
    "    },\n",
    "}\n",
    "\n",
    "overrides_yambo = {\n",
    "        \"yambo\": {\n",
    "            \"parameters\": {\n",
    "                \"arguments\": [\n",
    "                    \"rim_cut\",\n",
    "                ],\n",
    "                \"variables\": {\n",
    "                    \"NGsBlkXp\": [4, \"Ry\"],\n",
    "                },\n",
    "            },\n",
    "        'metadata':{\n",
    "                    'options':{\n",
    "                    'max_wallclock_seconds': 3*60*60, # in seconds\n",
    "                    'resources': {\n",
    "                            \"num_machines\": 2, # nodes\n",
    "                            \"num_mpiprocs_per_machine\": 16, # MPI per nodes\n",
    "                            \"num_cores_per_mpiproc\": 1, # OPENMP\n",
    "                        },\n",
    "                    'prepend_text': u\"export OMP_NUM_THREADS=\"+str(1), # if needed, i.e. in PBS/Torque \n",
    "                    #'account':'project_name',\n",
    "                    'queue_name':'s3par',\n",
    "                    #'qos':'',\n",
    "                                    },\n",
    "                    },\n",
    "        },\n",
    "    \n",
    "}\n",
    "\n",
    "#Be careful with the mesh choice!!! \n",
    "overrides_meta = {\n",
    "        'FFTGvecs': {\n",
    "            'start_ratio': 0.25,\n",
    "            'stop_ratio': 0.7,\n",
    "            'delta_ratio': 0.1,\n",
    "            'max_ratio': 1,\n",
    "        },\n",
    "        'bands': {\n",
    "            'start': 50,\n",
    "            'stop': 400,\n",
    "            'delta': 50,\n",
    "            'max': 600,\n",
    "            'ratio':[10,25,50],\n",
    "        },\n",
    "        'G_vectors': {\n",
    "            'start': 2,\n",
    "            'stop': 8,\n",
    "            'delta': 1,\n",
    "            'max': 10,\n",
    "        },\n",
    "        'kpoint_density': {\n",
    "            'start': 0.8,\n",
    "            'stop': 0.2,\n",
    "            'delta': 3,\n",
    "            'max': 0.1,\n",
    "        } ,\n",
    "        'conv_thr_k': 10,\n",
    "        'conv_thr_bG': 10,\n",
    "        'conv_thr_FFT': 10,\n",
    "        'conv_thr_units': '%', # 'eV'\n",
    "\n",
    "        \n",
    "    }\n",
    "\n",
    "        \n",
    "overrides_wfl_settings = {\n",
    "        \n",
    "        'what':['gap_'],\n",
    "        'bands_nscf_update':'full-step',\n",
    "        'skip_pre':False,   \n",
    "        'type': 'heavy', #or cheap; heavy uses converged value for parameters that we are not converging in a given iteration.\n",
    "        \n",
    "    }\n",
    "\n",
    "overrides = {\n",
    "        'meta_parameters':overrides_meta,\n",
    "        'ywfl':{'scf':overrides_scf,'nscf':overrides_nscf,'yres':overrides_yambo},\n",
    "        'workflow_settings':overrides_wfl_settings,\n",
    "    }\n"
   ]
  },
  {
   "cell_type": "code",
   "execution_count": 13,
   "id": "a1c75c62",
   "metadata": {},
   "outputs": [
    {
     "name": "stdout",
     "output_type": "stream",
     "text": [
      "Summary of the main inputs:\n",
      "BndsRnXp = 150\n",
      "GbndRnge = 150\n",
      "NGsBlkXp = 4 Ry\n",
      "FFTGvecs = 15 Ry\n",
      "\n",
      "\n",
      "kpoint mesh for nscf: [6, 6, 6]\n"
     ]
    }
   ],
   "source": [
    "builder = YamboConvergence.get_builder_from_protocol(\n",
    "            pw_code = options['pwcode_id'],\n",
    "            preprocessing_code = options['yamboprecode_id'],\n",
    "            code = options['yambocode_id'],\n",
    "            protocol=options['protocol'],\n",
    "            protocol_qe=options['protocol'],\n",
    "            structure= load_node(options['structure_id']),\n",
    "            overrides=overrides,\n",
    "            #parent_folder=load_node(options['parent_id']).outputs.remote_folder,\n",
    "            electronic_type=ElectronicType.INSULATOR, #default is METAL: smearing is used\n",
    "            calc_type='gw', #or 'bse'; default is 'gw'\n",
    ")"
   ]
  },
  {
   "cell_type": "code",
   "execution_count": 31,
   "id": "cba466b8",
   "metadata": {},
   "outputs": [],
   "source": [
    "builder.group_label = Str('Silicon/try') # verdi group create Silicon/try; all calculationsc are added to the group"
   ]
  },
  {
   "cell_type": "code",
   "execution_count": 15,
   "id": "89022f48",
   "metadata": {},
   "outputs": [
    {
     "data": {
      "text/plain": [
       "{'options': {'stash': {}, 'resources': {'num_machines': 1, 'num_mpiprocs_per_machine': 16, 'num_cores_per_mpiproc': 1}, 'max_wallclock_seconds': 3600, 'withmpi': True, 'prepend_text': 'export OMP_NUM_THREADS=1', 'queue_name': 's3par'}}"
      ]
     },
     "execution_count": 15,
     "metadata": {},
     "output_type": "execute_result"
    }
   ],
   "source": [
    "builder.ywfl.scf.pw.metadata"
   ]
  },
  {
   "cell_type": "markdown",
   "id": "0d8966e4",
   "metadata": {},
   "source": [
    "## 3 RUN"
   ]
  },
  {
   "cell_type": "code",
   "execution_count": 16,
   "id": "ed9a9236",
   "metadata": {},
   "outputs": [],
   "source": [
    "from aiida.engine import submit"
   ]
  },
  {
   "cell_type": "code",
   "execution_count": 17,
   "id": "5aff3a06",
   "metadata": {},
   "outputs": [],
   "source": [
    "run = None"
   ]
  },
  {
   "cell_type": "code",
   "execution_count": 18,
   "id": "b393d7ed",
   "metadata": {},
   "outputs": [
    {
     "name": "stdout",
     "output_type": "stream",
     "text": [
      "uuid: 79e3255b-aaf9-46c3-86da-0b10b8548554 (pk: 89059) (aiida.workflows:yambo.yambo.yamboconvergence)\n"
     ]
    }
   ],
   "source": [
    "if run:\n",
    "    print('run is already running -> {}'.format(run.pk))\n",
    "    print('sure that you want to run again?, if so, copy the else instruction in the cell below and run!')\n",
    "else:\n",
    "    run = submit(builder)\n",
    "\n",
    "print(run)"
   ]
  },
  {
   "cell_type": "markdown",
   "id": "506049bf",
   "metadata": {},
   "source": [
    "# Inspecting the outputs\n",
    "\n",
    "suppose that your calculation completed successfully, then you can access the outputs via the output method of the run instance: "
   ]
  },
  {
   "cell_type": "code",
   "execution_count": 23,
   "id": "f514fd85",
   "metadata": {},
   "outputs": [
    {
     "data": {
      "text/plain": [
       "True"
      ]
     },
     "execution_count": 23,
     "metadata": {},
     "output_type": "execute_result"
    }
   ],
   "source": [
    "run.is_finished_ok"
   ]
  },
  {
   "cell_type": "code",
   "execution_count": 24,
   "id": "bc918145",
   "metadata": {},
   "outputs": [
    {
     "ename": "SyntaxError",
     "evalue": "invalid syntax (708973465.py, line 1)",
     "output_type": "error",
     "traceback": [
      "\u001b[0;36m  File \u001b[0;32m\"/tmp/ipykernel_14947/708973465.py\"\u001b[0;36m, line \u001b[0;32m1\u001b[0m\n\u001b[0;31m    run.outputs. #+TAB\u001b[0m\n\u001b[0m                 ^\u001b[0m\n\u001b[0;31mSyntaxError\u001b[0m\u001b[0;31m:\u001b[0m invalid syntax\n"
     ]
    }
   ],
   "source": [
    "run.outputs. #+TAB"
   ]
  },
  {
   "cell_type": "markdown",
   "id": "2fb5787b",
   "metadata": {},
   "source": [
    "The converged parameters can be obtained via the \"infos\" output Dict:"
   ]
  },
  {
   "cell_type": "code",
   "execution_count": 25,
   "id": "6bd7b17d",
   "metadata": {},
   "outputs": [
    {
     "data": {
      "text/plain": [
       "{'gap_': 1.026851127116,\n",
       " 'E_ref': 1.1462764156663,\n",
       " 'BndsRnXp': 110.0,\n",
       " 'FFTGvecs': 12,\n",
       " 'GbndRnge': 110.0,\n",
       " 'NGsBlkXp': 5.0,\n",
       " 'kpoint_mesh': [7, 7, 7],\n",
       " 'extrapolation': 1.1548236376551}"
      ]
     },
     "execution_count": 25,
     "metadata": {},
     "output_type": "execute_result"
    }
   ],
   "source": [
    "run.outputs.infos.get_dict()"
   ]
  },
  {
   "cell_type": "markdown",
   "id": "30171a01",
   "metadata": {},
   "source": [
    "The full convergence history can be visualized in a table form using pandas:"
   ]
  },
  {
   "cell_type": "code",
   "execution_count": 26,
   "id": "35110abf",
   "metadata": {},
   "outputs": [],
   "source": [
    "import pandas as pd"
   ]
  },
  {
   "cell_type": "code",
   "execution_count": 27,
   "id": "eb110d30",
   "metadata": {},
   "outputs": [],
   "source": [
    "history = run.outputs.history.get_dict()"
   ]
  },
  {
   "cell_type": "code",
   "execution_count": 28,
   "id": "74c25c03",
   "metadata": {},
   "outputs": [],
   "source": [
    "history_table = pd.DataFrame(history)"
   ]
  },
  {
   "cell_type": "code",
   "execution_count": 29,
   "id": "0ab11fed",
   "metadata": {},
   "outputs": [
    {
     "data": {
      "text/html": [
       "<div>\n",
       "<style scoped>\n",
       "    .dataframe tbody tr th:only-of-type {\n",
       "        vertical-align: middle;\n",
       "    }\n",
       "\n",
       "    .dataframe tbody tr th {\n",
       "        vertical-align: top;\n",
       "    }\n",
       "\n",
       "    .dataframe thead th {\n",
       "        text-align: right;\n",
       "    }\n",
       "</style>\n",
       "<table border=\"1\" class=\"dataframe\">\n",
       "  <thead>\n",
       "    <tr style=\"text-align: right;\">\n",
       "      <th></th>\n",
       "      <th>gap_</th>\n",
       "      <th>uuid</th>\n",
       "      <th>failed</th>\n",
       "      <th>useful</th>\n",
       "      <th>BndsRnXp</th>\n",
       "      <th>FFTGvecs</th>\n",
       "      <th>GbndRnge</th>\n",
       "      <th>NGsBlkXp</th>\n",
       "      <th>global_step</th>\n",
       "      <th>kpoint_mesh</th>\n",
       "      <th>parameters_studied</th>\n",
       "    </tr>\n",
       "  </thead>\n",
       "  <tbody>\n",
       "    <tr>\n",
       "      <th>0</th>\n",
       "      <td>1.106919</td>\n",
       "      <td>7f687803-8958-4807-857a-eabc39a2f27f</td>\n",
       "      <td>False</td>\n",
       "      <td>False</td>\n",
       "      <td>150</td>\n",
       "      <td>12</td>\n",
       "      <td>150</td>\n",
       "      <td>4.0</td>\n",
       "      <td>1</td>\n",
       "      <td>[4, 4, 4]</td>\n",
       "      <td>FFTGvecs</td>\n",
       "    </tr>\n",
       "    <tr>\n",
       "      <th>1</th>\n",
       "      <td>1.109694</td>\n",
       "      <td>084b6d90-7aa3-4a4b-942f-23219693cddf</td>\n",
       "      <td>False</td>\n",
       "      <td>False</td>\n",
       "      <td>150</td>\n",
       "      <td>22</td>\n",
       "      <td>150</td>\n",
       "      <td>4.0</td>\n",
       "      <td>2</td>\n",
       "      <td>[4, 4, 4]</td>\n",
       "      <td>FFTGvecs</td>\n",
       "    </tr>\n",
       "    <tr>\n",
       "      <th>2</th>\n",
       "      <td>1.109486</td>\n",
       "      <td>e61184fe-fa0c-417d-aeba-8cc8156e8081</td>\n",
       "      <td>False</td>\n",
       "      <td>False</td>\n",
       "      <td>150</td>\n",
       "      <td>27</td>\n",
       "      <td>150</td>\n",
       "      <td>4.0</td>\n",
       "      <td>3</td>\n",
       "      <td>[4, 4, 4]</td>\n",
       "      <td>FFTGvecs</td>\n",
       "    </tr>\n",
       "    <tr>\n",
       "      <th>3</th>\n",
       "      <td>1.109428</td>\n",
       "      <td>84443b47-b5a3-471e-8fc7-8a100ad399b7</td>\n",
       "      <td>False</td>\n",
       "      <td>False</td>\n",
       "      <td>150</td>\n",
       "      <td>35</td>\n",
       "      <td>150</td>\n",
       "      <td>4.0</td>\n",
       "      <td>4</td>\n",
       "      <td>[4, 4, 4]</td>\n",
       "      <td>FFTGvecs</td>\n",
       "    </tr>\n",
       "    <tr>\n",
       "      <th>4</th>\n",
       "      <td>1.106919</td>\n",
       "      <td>7f687803-8958-4807-857a-eabc39a2f27f</td>\n",
       "      <td>False</td>\n",
       "      <td>False</td>\n",
       "      <td>150</td>\n",
       "      <td>12</td>\n",
       "      <td>150</td>\n",
       "      <td>4.0</td>\n",
       "      <td>5</td>\n",
       "      <td>[4, 4, 4]</td>\n",
       "      <td>kpoint_mesh</td>\n",
       "    </tr>\n",
       "    <tr>\n",
       "      <th>5</th>\n",
       "      <td>0.960021</td>\n",
       "      <td>ce33e842-c988-4640-b20a-e86dacfb25ef</td>\n",
       "      <td>False</td>\n",
       "      <td>False</td>\n",
       "      <td>150</td>\n",
       "      <td>12</td>\n",
       "      <td>150</td>\n",
       "      <td>4.0</td>\n",
       "      <td>6</td>\n",
       "      <td>[7, 7, 7]</td>\n",
       "      <td>kpoint_mesh</td>\n",
       "    </tr>\n",
       "    <tr>\n",
       "      <th>6</th>\n",
       "      <td>0.971251</td>\n",
       "      <td>884078cf-9d80-4301-8902-0f62ad5b9091</td>\n",
       "      <td>False</td>\n",
       "      <td>False</td>\n",
       "      <td>150</td>\n",
       "      <td>12</td>\n",
       "      <td>150</td>\n",
       "      <td>4.0</td>\n",
       "      <td>7</td>\n",
       "      <td>[10, 10, 10]</td>\n",
       "      <td>kpoint_mesh</td>\n",
       "    </tr>\n",
       "    <tr>\n",
       "      <th>7</th>\n",
       "      <td>0.963438</td>\n",
       "      <td>cf9d793a-eee3-4253-b486-799fdcf175e2</td>\n",
       "      <td>False</td>\n",
       "      <td>False</td>\n",
       "      <td>150</td>\n",
       "      <td>12</td>\n",
       "      <td>150</td>\n",
       "      <td>4.0</td>\n",
       "      <td>8</td>\n",
       "      <td>[12, 12, 12]</td>\n",
       "      <td>kpoint_mesh</td>\n",
       "    </tr>\n",
       "    <tr>\n",
       "      <th>8</th>\n",
       "      <td>0.835478</td>\n",
       "      <td>a415b238-056d-4b07-9d24-8dae00f09510</td>\n",
       "      <td>False</td>\n",
       "      <td>False</td>\n",
       "      <td>60</td>\n",
       "      <td>12</td>\n",
       "      <td>60</td>\n",
       "      <td>2.0</td>\n",
       "      <td>9</td>\n",
       "      <td>[7, 7, 7]</td>\n",
       "      <td>BndsRnXp, GbndRnge, NGsBlkXp</td>\n",
       "    </tr>\n",
       "    <tr>\n",
       "      <th>9</th>\n",
       "      <td>0.841587</td>\n",
       "      <td>31ad3b67-ef3e-43ce-9a2a-e03582d62406</td>\n",
       "      <td>False</td>\n",
       "      <td>False</td>\n",
       "      <td>400</td>\n",
       "      <td>12</td>\n",
       "      <td>400</td>\n",
       "      <td>2.0</td>\n",
       "      <td>10</td>\n",
       "      <td>[7, 7, 7]</td>\n",
       "      <td>BndsRnXp, GbndRnge, NGsBlkXp</td>\n",
       "    </tr>\n",
       "    <tr>\n",
       "      <th>10</th>\n",
       "      <td>1.071505</td>\n",
       "      <td>73b873cf-1557-49bd-8e25-5a1198f2517b</td>\n",
       "      <td>False</td>\n",
       "      <td>False</td>\n",
       "      <td>60</td>\n",
       "      <td>12</td>\n",
       "      <td>60</td>\n",
       "      <td>8.0</td>\n",
       "      <td>11</td>\n",
       "      <td>[7, 7, 7]</td>\n",
       "      <td>BndsRnXp, GbndRnge, NGsBlkXp</td>\n",
       "    </tr>\n",
       "    <tr>\n",
       "      <th>11</th>\n",
       "      <td>1.031643</td>\n",
       "      <td>b0c8a9f3-be77-427c-974e-fc7764ddc0e3</td>\n",
       "      <td>False</td>\n",
       "      <td>False</td>\n",
       "      <td>160</td>\n",
       "      <td>12</td>\n",
       "      <td>160</td>\n",
       "      <td>6.0</td>\n",
       "      <td>12</td>\n",
       "      <td>[7, 7, 7]</td>\n",
       "      <td>BndsRnXp, GbndRnge, NGsBlkXp</td>\n",
       "    </tr>\n",
       "    <tr>\n",
       "      <th>12</th>\n",
       "      <td>0.960864</td>\n",
       "      <td>def81756-0450-4518-bdb4-d6286a9bf664</td>\n",
       "      <td>False</td>\n",
       "      <td>False</td>\n",
       "      <td>310</td>\n",
       "      <td>12</td>\n",
       "      <td>310</td>\n",
       "      <td>4.0</td>\n",
       "      <td>13</td>\n",
       "      <td>[7, 7, 7]</td>\n",
       "      <td>BndsRnXp, GbndRnge, NGsBlkXp</td>\n",
       "    </tr>\n",
       "    <tr>\n",
       "      <th>13</th>\n",
       "      <td>1.115209</td>\n",
       "      <td>3321f163-239f-437f-9d1f-65cafddb05f5</td>\n",
       "      <td>False</td>\n",
       "      <td>False</td>\n",
       "      <td>400</td>\n",
       "      <td>12</td>\n",
       "      <td>400</td>\n",
       "      <td>8.0</td>\n",
       "      <td>14</td>\n",
       "      <td>[7, 7, 7]</td>\n",
       "      <td>BndsRnXp, GbndRnge, NGsBlkXp</td>\n",
       "    </tr>\n",
       "    <tr>\n",
       "      <th>14</th>\n",
       "      <td>0.840785</td>\n",
       "      <td>b87eecec-2c90-4cc2-b13c-705689923586</td>\n",
       "      <td>False</td>\n",
       "      <td>False</td>\n",
       "      <td>110</td>\n",
       "      <td>12</td>\n",
       "      <td>110</td>\n",
       "      <td>3.0</td>\n",
       "      <td>15</td>\n",
       "      <td>[7, 7, 7]</td>\n",
       "      <td>BndsRnXp, GbndRnge, NGsBlkXp</td>\n",
       "    </tr>\n",
       "    <tr>\n",
       "      <th>15</th>\n",
       "      <td>0.841551</td>\n",
       "      <td>ad19c1a6-fcc1-4eab-a1ad-de7dad716bf7</td>\n",
       "      <td>False</td>\n",
       "      <td>False</td>\n",
       "      <td>450</td>\n",
       "      <td>12</td>\n",
       "      <td>450</td>\n",
       "      <td>3.0</td>\n",
       "      <td>16</td>\n",
       "      <td>[7, 7, 7]</td>\n",
       "      <td>BndsRnXp, GbndRnge, NGsBlkXp</td>\n",
       "    </tr>\n",
       "    <tr>\n",
       "      <th>16</th>\n",
       "      <td>1.105343</td>\n",
       "      <td>50362d13-9635-4003-83bf-08c4ce4ba56a</td>\n",
       "      <td>False</td>\n",
       "      <td>False</td>\n",
       "      <td>110</td>\n",
       "      <td>12</td>\n",
       "      <td>110</td>\n",
       "      <td>9.0</td>\n",
       "      <td>17</td>\n",
       "      <td>[7, 7, 7]</td>\n",
       "      <td>BndsRnXp, GbndRnge, NGsBlkXp</td>\n",
       "    </tr>\n",
       "    <tr>\n",
       "      <th>17</th>\n",
       "      <td>1.066398</td>\n",
       "      <td>c191fd4a-d499-409b-8ed0-f7927e337ef3</td>\n",
       "      <td>False</td>\n",
       "      <td>False</td>\n",
       "      <td>210</td>\n",
       "      <td>12</td>\n",
       "      <td>210</td>\n",
       "      <td>7.0</td>\n",
       "      <td>18</td>\n",
       "      <td>[7, 7, 7]</td>\n",
       "      <td>BndsRnXp, GbndRnge, NGsBlkXp</td>\n",
       "    </tr>\n",
       "    <tr>\n",
       "      <th>18</th>\n",
       "      <td>1.032749</td>\n",
       "      <td>49f692e7-00da-48ce-b006-bfd6055ea813</td>\n",
       "      <td>False</td>\n",
       "      <td>False</td>\n",
       "      <td>360</td>\n",
       "      <td>12</td>\n",
       "      <td>360</td>\n",
       "      <td>5.0</td>\n",
       "      <td>19</td>\n",
       "      <td>[7, 7, 7]</td>\n",
       "      <td>BndsRnXp, GbndRnge, NGsBlkXp</td>\n",
       "    </tr>\n",
       "    <tr>\n",
       "      <th>19</th>\n",
       "      <td>1.115211</td>\n",
       "      <td>cc317b15-b7ba-48b1-9669-b55024e7ce71</td>\n",
       "      <td>False</td>\n",
       "      <td>False</td>\n",
       "      <td>450</td>\n",
       "      <td>12</td>\n",
       "      <td>450</td>\n",
       "      <td>9.0</td>\n",
       "      <td>20</td>\n",
       "      <td>[7, 7, 7]</td>\n",
       "      <td>BndsRnXp, GbndRnge, NGsBlkXp</td>\n",
       "    </tr>\n",
       "    <tr>\n",
       "      <th>20</th>\n",
       "      <td>1.026851</td>\n",
       "      <td>24a4bd74-54f5-4758-b61c-edf3da3e5c91</td>\n",
       "      <td>False</td>\n",
       "      <td>True</td>\n",
       "      <td>110</td>\n",
       "      <td>12</td>\n",
       "      <td>110</td>\n",
       "      <td>5.0</td>\n",
       "      <td>21</td>\n",
       "      <td>[7, 7, 7]</td>\n",
       "      <td>BndsRnXp, GbndRnge, NGsBlkXp</td>\n",
       "    </tr>\n",
       "  </tbody>\n",
       "</table>\n",
       "</div>"
      ],
      "text/plain": [
       "        gap_                                  uuid  failed  useful  BndsRnXp  \\\n",
       "0   1.106919  7f687803-8958-4807-857a-eabc39a2f27f   False   False       150   \n",
       "1   1.109694  084b6d90-7aa3-4a4b-942f-23219693cddf   False   False       150   \n",
       "2   1.109486  e61184fe-fa0c-417d-aeba-8cc8156e8081   False   False       150   \n",
       "3   1.109428  84443b47-b5a3-471e-8fc7-8a100ad399b7   False   False       150   \n",
       "4   1.106919  7f687803-8958-4807-857a-eabc39a2f27f   False   False       150   \n",
       "5   0.960021  ce33e842-c988-4640-b20a-e86dacfb25ef   False   False       150   \n",
       "6   0.971251  884078cf-9d80-4301-8902-0f62ad5b9091   False   False       150   \n",
       "7   0.963438  cf9d793a-eee3-4253-b486-799fdcf175e2   False   False       150   \n",
       "8   0.835478  a415b238-056d-4b07-9d24-8dae00f09510   False   False        60   \n",
       "9   0.841587  31ad3b67-ef3e-43ce-9a2a-e03582d62406   False   False       400   \n",
       "10  1.071505  73b873cf-1557-49bd-8e25-5a1198f2517b   False   False        60   \n",
       "11  1.031643  b0c8a9f3-be77-427c-974e-fc7764ddc0e3   False   False       160   \n",
       "12  0.960864  def81756-0450-4518-bdb4-d6286a9bf664   False   False       310   \n",
       "13  1.115209  3321f163-239f-437f-9d1f-65cafddb05f5   False   False       400   \n",
       "14  0.840785  b87eecec-2c90-4cc2-b13c-705689923586   False   False       110   \n",
       "15  0.841551  ad19c1a6-fcc1-4eab-a1ad-de7dad716bf7   False   False       450   \n",
       "16  1.105343  50362d13-9635-4003-83bf-08c4ce4ba56a   False   False       110   \n",
       "17  1.066398  c191fd4a-d499-409b-8ed0-f7927e337ef3   False   False       210   \n",
       "18  1.032749  49f692e7-00da-48ce-b006-bfd6055ea813   False   False       360   \n",
       "19  1.115211  cc317b15-b7ba-48b1-9669-b55024e7ce71   False   False       450   \n",
       "20  1.026851  24a4bd74-54f5-4758-b61c-edf3da3e5c91   False    True       110   \n",
       "\n",
       "    FFTGvecs  GbndRnge  NGsBlkXp  global_step   kpoint_mesh  \\\n",
       "0         12       150       4.0            1     [4, 4, 4]   \n",
       "1         22       150       4.0            2     [4, 4, 4]   \n",
       "2         27       150       4.0            3     [4, 4, 4]   \n",
       "3         35       150       4.0            4     [4, 4, 4]   \n",
       "4         12       150       4.0            5     [4, 4, 4]   \n",
       "5         12       150       4.0            6     [7, 7, 7]   \n",
       "6         12       150       4.0            7  [10, 10, 10]   \n",
       "7         12       150       4.0            8  [12, 12, 12]   \n",
       "8         12        60       2.0            9     [7, 7, 7]   \n",
       "9         12       400       2.0           10     [7, 7, 7]   \n",
       "10        12        60       8.0           11     [7, 7, 7]   \n",
       "11        12       160       6.0           12     [7, 7, 7]   \n",
       "12        12       310       4.0           13     [7, 7, 7]   \n",
       "13        12       400       8.0           14     [7, 7, 7]   \n",
       "14        12       110       3.0           15     [7, 7, 7]   \n",
       "15        12       450       3.0           16     [7, 7, 7]   \n",
       "16        12       110       9.0           17     [7, 7, 7]   \n",
       "17        12       210       7.0           18     [7, 7, 7]   \n",
       "18        12       360       5.0           19     [7, 7, 7]   \n",
       "19        12       450       9.0           20     [7, 7, 7]   \n",
       "20        12       110       5.0           21     [7, 7, 7]   \n",
       "\n",
       "              parameters_studied  \n",
       "0                       FFTGvecs  \n",
       "1                       FFTGvecs  \n",
       "2                       FFTGvecs  \n",
       "3                       FFTGvecs  \n",
       "4                    kpoint_mesh  \n",
       "5                    kpoint_mesh  \n",
       "6                    kpoint_mesh  \n",
       "7                    kpoint_mesh  \n",
       "8   BndsRnXp, GbndRnge, NGsBlkXp  \n",
       "9   BndsRnXp, GbndRnge, NGsBlkXp  \n",
       "10  BndsRnXp, GbndRnge, NGsBlkXp  \n",
       "11  BndsRnXp, GbndRnge, NGsBlkXp  \n",
       "12  BndsRnXp, GbndRnge, NGsBlkXp  \n",
       "13  BndsRnXp, GbndRnge, NGsBlkXp  \n",
       "14  BndsRnXp, GbndRnge, NGsBlkXp  \n",
       "15  BndsRnXp, GbndRnge, NGsBlkXp  \n",
       "16  BndsRnXp, GbndRnge, NGsBlkXp  \n",
       "17  BndsRnXp, GbndRnge, NGsBlkXp  \n",
       "18  BndsRnXp, GbndRnge, NGsBlkXp  \n",
       "19  BndsRnXp, GbndRnge, NGsBlkXp  \n",
       "20  BndsRnXp, GbndRnge, NGsBlkXp  "
      ]
     },
     "execution_count": 29,
     "metadata": {},
     "output_type": "execute_result"
    }
   ],
   "source": [
    "history_table"
   ]
  },
  {
   "cell_type": "markdown",
   "id": "9447d44b",
   "metadata": {},
   "source": [
    "The last calculations can be obtained using:"
   ]
  },
  {
   "cell_type": "code",
   "execution_count": 30,
   "id": "a8d7dfd1",
   "metadata": {},
   "outputs": [
    {
     "data": {
      "text/html": [
       "<div>\n",
       "<style scoped>\n",
       "    .dataframe tbody tr th:only-of-type {\n",
       "        vertical-align: middle;\n",
       "    }\n",
       "\n",
       "    .dataframe tbody tr th {\n",
       "        vertical-align: top;\n",
       "    }\n",
       "\n",
       "    .dataframe thead th {\n",
       "        text-align: right;\n",
       "    }\n",
       "</style>\n",
       "<table border=\"1\" class=\"dataframe\">\n",
       "  <thead>\n",
       "    <tr style=\"text-align: right;\">\n",
       "      <th></th>\n",
       "      <th>gap_</th>\n",
       "      <th>uuid</th>\n",
       "      <th>failed</th>\n",
       "      <th>useful</th>\n",
       "      <th>BndsRnXp</th>\n",
       "      <th>FFTGvecs</th>\n",
       "      <th>GbndRnge</th>\n",
       "      <th>NGsBlkXp</th>\n",
       "      <th>global_step</th>\n",
       "      <th>kpoint_mesh</th>\n",
       "      <th>parameters_studied</th>\n",
       "    </tr>\n",
       "  </thead>\n",
       "  <tbody>\n",
       "    <tr>\n",
       "      <th>20</th>\n",
       "      <td>1.026851</td>\n",
       "      <td>24a4bd74-54f5-4758-b61c-edf3da3e5c91</td>\n",
       "      <td>False</td>\n",
       "      <td>True</td>\n",
       "      <td>110</td>\n",
       "      <td>12</td>\n",
       "      <td>110</td>\n",
       "      <td>5.0</td>\n",
       "      <td>21</td>\n",
       "      <td>[7, 7, 7]</td>\n",
       "      <td>BndsRnXp, GbndRnge, NGsBlkXp</td>\n",
       "    </tr>\n",
       "  </tbody>\n",
       "</table>\n",
       "</div>"
      ],
      "text/plain": [
       "        gap_                                  uuid  failed  useful  BndsRnXp  \\\n",
       "20  1.026851  24a4bd74-54f5-4758-b61c-edf3da3e5c91   False    True       110   \n",
       "\n",
       "    FFTGvecs  GbndRnge  NGsBlkXp  global_step kpoint_mesh  \\\n",
       "20        12       110       5.0           21   [7, 7, 7]   \n",
       "\n",
       "              parameters_studied  \n",
       "20  BndsRnXp, GbndRnge, NGsBlkXp  "
      ]
     },
     "execution_count": 30,
     "metadata": {},
     "output_type": "execute_result"
    }
   ],
   "source": [
    "history_table[history_table['useful']==True]"
   ]
  },
  {
   "cell_type": "code",
   "execution_count": null,
   "id": "4bf9039d",
   "metadata": {},
   "outputs": [],
   "source": []
  }
 ],
 "metadata": {
  "kernelspec": {
   "display_name": "vaiida",
   "language": "python",
   "name": "vaiida"
  },
  "language_info": {
   "codemirror_mode": {
    "name": "ipython",
    "version": 3
   },
   "file_extension": ".py",
   "mimetype": "text/x-python",
   "name": "python",
   "nbconvert_exporter": "python",
   "pygments_lexer": "ipython3",
   "version": "3.8.0"
  }
 },
 "nbformat": 4,
 "nbformat_minor": 5
}
