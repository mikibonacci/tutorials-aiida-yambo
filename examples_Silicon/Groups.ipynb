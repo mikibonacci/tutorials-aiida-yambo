{
 "cells": [
  {
   "cell_type": "markdown",
   "id": "92625880",
   "metadata": {},
   "source": [
    "This part of the tutorial shows you how to manage group from a jupyter notebook or a verdi shell. You can find more informations on the AiiDA webpage, for example: https://aiida.readthedocs.io/projects/aiida-core/en/v1.3.1/howto/data.html"
   ]
  },
  {
   "cell_type": "code",
   "execution_count": 1,
   "id": "7dbd76c3",
   "metadata": {},
   "outputs": [
    {
     "data": {
      "application/json": {
       "current_state": "Loaded AiiDA DB environment - profile name: mbonacci."
      },
      "text/html": [
       "<p>Loaded AiiDA DB environment - profile name: mbonacci.</p>"
      ],
      "text/latex": [
       "Loaded AiiDA DB environment - profile name: mbonacci.\n"
      ],
      "text/plain": [
       "Loaded AiiDA DB environment - profile name: mbonacci.\n"
      ]
     },
     "execution_count": 1,
     "metadata": {},
     "output_type": "execute_result"
    }
   ],
   "source": [
    "%aiida"
   ]
  },
  {
   "cell_type": "code",
   "execution_count": 7,
   "id": "7145121d",
   "metadata": {},
   "outputs": [],
   "source": [
    "g = Group('first_group')"
   ]
  },
  {
   "cell_type": "code",
   "execution_count": 8,
   "id": "515a41af",
   "metadata": {},
   "outputs": [
    {
     "data": {
      "text/plain": [
       "<Group: \"first_group\" [type core], of user mikibonacci@hotmail.it>"
      ]
     },
     "execution_count": 8,
     "metadata": {},
     "output_type": "execute_result"
    }
   ],
   "source": [
    "g.store()"
   ]
  },
  {
   "cell_type": "code",
   "execution_count": 9,
   "id": "d34c1851",
   "metadata": {},
   "outputs": [],
   "source": [
    "g = load_group('first_group')"
   ]
  },
  {
   "cell_type": "code",
   "execution_count": 10,
   "id": "c7a09dc6",
   "metadata": {},
   "outputs": [],
   "source": [
    "g.add_nodes??"
   ]
  },
  {
   "cell_type": "markdown",
   "id": "5f821fe3",
   "metadata": {},
   "source": [
    "In YamboConvergence, we defined \"builder.group_label = Str('Silicon/try')\" in such a way that all the calculations are added to the group. To inspect a group from command line: verdi group show Silicon/try"
   ]
  },
  {
   "cell_type": "markdown",
   "id": "714c6421",
   "metadata": {},
   "source": [
    "### NB: you can delete a group, nodes will not be deleted"
   ]
  },
  {
   "cell_type": "code",
   "execution_count": null,
   "id": "9bf5de7c",
   "metadata": {},
   "outputs": [],
   "source": []
  }
 ],
 "metadata": {
  "kernelspec": {
   "display_name": "vaiida",
   "language": "python",
   "name": "vaiida"
  },
  "language_info": {
   "codemirror_mode": {
    "name": "ipython",
    "version": 3
   },
   "file_extension": ".py",
   "mimetype": "text/x-python",
   "name": "python",
   "nbconvert_exporter": "python",
   "pygments_lexer": "ipython3",
   "version": "3.8.0"
  }
 },
 "nbformat": 4,
 "nbformat_minor": 5
}
