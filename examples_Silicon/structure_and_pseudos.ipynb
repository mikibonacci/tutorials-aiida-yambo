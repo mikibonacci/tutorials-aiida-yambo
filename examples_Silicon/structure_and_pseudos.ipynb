{
 "cells": [
  {
   "cell_type": "markdown",
   "id": "a14fd46b",
   "metadata": {},
   "source": [
    "# Setting up a structure\n",
    "\n",
    "It is possible, using ASE (but pymatgen as well), to read a QE in/out file and load a given crystal structure. \n",
    "It is possible also to create it from scratch, but this is object of a dedicated ASE tutorial (https://wiki.fysik.dtu.dk/ase/gettingstarted/tut01_molecule/molecule.html)"
   ]
  },
  {
   "cell_type": "code",
   "execution_count": 1,
   "id": "619cf913",
   "metadata": {},
   "outputs": [],
   "source": [
    "from ase.io.espresso import read_espresso_in"
   ]
  },
  {
   "cell_type": "code",
   "execution_count": 2,
   "id": "8508d352",
   "metadata": {},
   "outputs": [],
   "source": [
    "Silicon = read_espresso_in('silicon.in')"
   ]
  },
  {
   "cell_type": "code",
   "execution_count": 3,
   "id": "a0368574",
   "metadata": {},
   "outputs": [
    {
     "data": {
      "text/plain": [
       "Atoms(symbols='Si2', pbc=True, cell=[[-2.6988037626030605, 0.0, 2.6988037626030605], [0.0, 2.6988037626030605, 2.6988037626030605], [-2.6988037626030605, 2.6988037626030605, 0.0]], initial_magmoms=...)"
      ]
     },
     "execution_count": 3,
     "metadata": {},
     "output_type": "execute_result"
    }
   ],
   "source": [
    "Silicon"
   ]
  },
  {
   "cell_type": "markdown",
   "id": "ea79f712",
   "metadata": {},
   "source": [
    "The \"Silicon\" variable contains all the informations needed to store the structure in the AiiDA database"
   ]
  },
  {
   "cell_type": "code",
   "execution_count": 4,
   "id": "ac4a75c0",
   "metadata": {},
   "outputs": [],
   "source": [
    "%aiida\n",
    "from aiida import orm"
   ]
  },
  {
   "cell_type": "code",
   "execution_count": 5,
   "id": "73856d1b",
   "metadata": {},
   "outputs": [],
   "source": [
    "structure = orm.StructureData(ase=Silicon) #pk = 77395"
   ]
  },
  {
   "cell_type": "code",
   "execution_count": 6,
   "id": "c8475cb1",
   "metadata": {},
   "outputs": [],
   "source": [
    "#structure.store()"
   ]
  },
  {
   "cell_type": "markdown",
   "id": "803e913c",
   "metadata": {},
   "source": [
    "## structure from scratch for bulk hBN:"
   ]
  },
  {
   "cell_type": "code",
   "execution_count": 7,
   "id": "aa803efa",
   "metadata": {},
   "outputs": [],
   "source": [
    "from ase import Atoms\n",
    "\n",
    "alat = 2.4955987320 # Angstrom\n",
    "the_cell = [[1.000000*alat,   0.000000,   0.000000],\n",
    "                [-0.500000*alat,  0.866025*alat,   0.000000],\n",
    "                [0.000000,   0.000000,  6.4436359260]]\n",
    "\n",
    "atoms = Atoms('BNNB', [(1.2477994910, 0.7204172280, 0.0000000000),\n",
    "    (-0.0000001250, 1.4408346720, 0.0000000000),\n",
    "    (1.2477994910, 0.7204172280, 3.2218179630),\n",
    "    (-0.0000001250,1.4408346720, 3.2218179630)],\n",
    "    cell = [1,1,1])\n",
    "\n",
    "atoms.set_cell(the_cell, scale_atoms=False)\n",
    "atoms.set_pbc([True,True,True])\n",
    "\n",
    "StructureData = DataFactory('structure')\n",
    "structure = StructureData(ase=atoms)\n",
    "\n",
    "#structure.store()"
   ]
  },
  {
   "cell_type": "code",
   "execution_count": 16,
   "id": "7eb5165c",
   "metadata": {},
   "outputs": [
    {
     "data": {
      "text/plain": [
       "<AxesSubplot:>"
      ]
     },
     "execution_count": 16,
     "metadata": {},
     "output_type": "execute_result"
    },
    {
     "data": {
      "image/png": "[encoded data removed]",
      "text/plain": [
       "<Figure size 432x288 with 1 Axes>"
      ]
     },
     "metadata": {
      "needs_background": "light"
     },
     "output_type": "display_data"
    }
   ],
   "source": [
    "from ase.visualize.plot import plot_atoms\n",
    "\n",
    "plot_atoms(atoms, radii=0.8, rotation=('0x,0y,0z'))"
   ]
  },
  {
   "cell_type": "markdown",
   "id": "c17d3afd",
   "metadata": {},
   "source": [
    "## adding different species --> see starfire routine"
   ]
  },
  {
   "cell_type": "code",
   "execution_count": null,
   "id": "79713825",
   "metadata": {},
   "outputs": [],
   "source": []
  },
  {
   "cell_type": "markdown",
   "id": "eb53d93d",
   "metadata": {},
   "source": [
    "# Store pseudopotentials"
   ]
  },
  {
   "cell_type": "markdown",
   "id": "cb6e7a6c",
   "metadata": {},
   "source": [
    "The command is:\n",
    "\n",
    "    aiida-pseudo install family <ARCHIVE> <LABEL> -P pseudo.upf\n",
    "\n",
    "refer to https://aiida-pseudo.readthedocs.io/en/latest/howto.html"
   ]
  },
  {
   "cell_type": "markdown",
   "id": "227871b6",
   "metadata": {},
   "source": [
    "When you use protocols, you have to provide families which have one. SSSP or PseudoDojo. \n",
    "If you want to use another family, for example sg15, you generate the builder protocols with SSSP or PseudoDojo, then:\n",
    "    \n",
    "    family = orm.load_group(\"sg15\")\n",
    "    builder.<sublevels_up_to .pw>.pseudos = family.get_pseudos(structure=structure) \n"
   ]
  },
  {
   "cell_type": "markdown",
   "id": "8228d1a4",
   "metadata": {},
   "source": [
    "# Group creation and usage\n",
    "\n",
    "Groups are a powerful tool in AiiDA, they allow to group calculations and to easy query them. To see examples of query and creation/management of groups, see: https://aiida.readthedocs.io/projects/aiida-core/en/latest/howto/data.html?highlight=groups."
   ]
  },
  {
   "cell_type": "code",
   "execution_count": 45,
   "id": "efc94e45",
   "metadata": {},
   "outputs": [],
   "source": [
    "new_group = orm.Group('prova')"
   ]
  },
  {
   "cell_type": "code",
   "execution_count": 51,
   "id": "f9fed813",
   "metadata": {},
   "outputs": [
    {
     "name": "stdout",
     "output_type": "stream",
     "text": [
      "The group 'prova' already exists!\n"
     ]
    }
   ],
   "source": [
    "try:\n",
    "    new_group.store()\n",
    "except:\n",
    "    print(\"The group '{}' already exists!\".format(new_group.label))"
   ]
  },
  {
   "cell_type": "markdown",
   "id": "18010414",
   "metadata": {},
   "source": [
    "You can add nodes to the group, both from here or from the command line. Here you can load a node and add to the group\n",
    "    \n",
    "    node = orm.load_node(pk or uuid)\n",
    "    new_group.add_nodes(node)"
   ]
  },
  {
   "cell_type": "code",
   "execution_count": null,
   "id": "382cea52",
   "metadata": {},
   "outputs": [],
   "source": []
  }
 ],
 "metadata": {
  "kernelspec": {
   "display_name": "vaiida",
   "language": "python",
   "name": "vaiida"
  },
  "language_info": {
   "codemirror_mode": {
    "name": "ipython",
    "version": 3
   },
   "file_extension": ".py",
   "mimetype": "text/x-python",
   "name": "python",
   "nbconvert_exporter": "python",
   "pygments_lexer": "ipython3",
   "version": "3.8.0"
  }
 },
 "nbformat": 4,
 "nbformat_minor": 5
}
