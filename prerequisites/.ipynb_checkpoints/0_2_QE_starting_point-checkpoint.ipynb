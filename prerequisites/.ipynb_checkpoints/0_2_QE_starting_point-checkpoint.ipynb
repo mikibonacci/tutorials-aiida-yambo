{
 "cells": [
  {
   "cell_type": "markdown",
   "id": "43b13249",
   "metadata": {},
   "source": [
    "# Obtaining the starting point for *yambo*: *QuantumEspresso* self and non self-consistent simulations.\n",
    "\n",
    "***Prerequisites***: we suppose that you have successfully installed and configured AiiDA, aiida-quantuespresso and that you have stored computer, codes, structures and pseudo in the AiiDA database.\n",
    "\n",
    "The following part explains how to run the density functional theory (DFT) simulations, using as example\n",
    "the hexagonal boron nitride (hBN). \n",
    "The starting point is a self-consistent field (SCF) calculation of the electronic density, \n",
    "and then a calculation of the electronic wavefunctions through a non self-consistent (NSCF) DFT calculation. \n",
    "So, the first AiiDA plugin used here is *aiida-quantumespresso*. \n",
    "This i required by *yambo* in order to perform GW and BSE simulations. For more details, please have a look at the [AiiDA tutorials](https://aiida-tutorials.readthedocs.io/en/latest/). \n",
    "\n",
    "Simulations here are performed by means of the [*QuantumEspresso*](https://www.quantum-espresso.org/) simulation package, in particular using the *pw.x** executable. Pseudpotentials employed will be the [PseudoDojo](http://www.pseudo-dojo.org/) ones."
   ]
  },
  {
   "cell_type": "code",
   "execution_count": 1,
   "id": "ece9ac72",
   "metadata": {},
   "outputs": [],
   "source": [
    "from aiida import orm, load_profile\n",
    "load_profile()\n",
    "\n",
    "from aiida.plugins import WorkflowFactory\n",
    "from aiida.orm import QueryBuilder\n",
    "from aiida.engine import submit\n",
    "\n",
    "from aiida_quantumespresso.common.types import ElectronicType\n",
    "\n",
    "import yaml"
   ]
  },
  {
   "cell_type": "markdown",
   "id": "9d7cdae5",
   "metadata": {},
   "source": [
    "We first load the codes and resources settings, written in the corresponding yaml files:"
   ]
  },
  {
   "cell_type": "code",
   "execution_count": 2,
   "id": "8d5766d3",
   "metadata": {},
   "outputs": [],
   "source": [
    "# Read YAML file\n",
    "with open(\"../configuration/codes_localhost.yaml\", 'r') as stream:\n",
    "    codes = yaml.safe_load(stream)\n",
    "    \n",
    "with open(\"../configuration/resources_localhost.yaml\", 'r') as stream:\n",
    "    resources = yaml.safe_load(stream)"
   ]
  },
  {
   "cell_type": "code",
   "execution_count": 3,
   "id": "a925d6f8",
   "metadata": {},
   "outputs": [
    {
     "data": {
      "text/plain": [
       "({'pwcode_id': 'qe.pw@local_slurm',\n",
       "  'yambocode_id': 'yambo-5.2.1@local_slurm',\n",
       "  'yamboprecode_id': 'p2y-5.2.1@local_slurm',\n",
       "  'pw2wannier90': 'pw2wannier90_develop@local_slurm',\n",
       "  'projwfc': 'projwfc_develop@local_slurm',\n",
       "  'wannier90': 'wannier90@local_slurm',\n",
       "  'ypp': 'ypp-5.2.1@local_slurm',\n",
       "  'gw2wannier90': 'gw2wannier90@local_slurm'},\n",
       " {'max_wallclock_seconds': 3600,\n",
       "  'prepend_text': 'export OMP_NUM_THREADS=1',\n",
       "  'resources': {'num_cores_per_mpiproc': 1,\n",
       "   'num_machines': 1,\n",
       "   'num_mpiprocs_per_machine': 1}})"
      ]
     },
     "execution_count": 3,
     "metadata": {},
     "output_type": "execute_result"
    }
   ],
   "source": [
    "codes,resources"
   ]
  },
  {
   "cell_type": "markdown",
   "id": "021f2d02",
   "metadata": {},
   "source": [
    "## (1) Self-consistent field simulation.\n",
    "\n",
    "This is step is dedicated to the calculation of the ground state density by means of a self-consistent simulation. This is performed via a submission of the `PwBaseWorkChain` of the ***aiida-quantumespresso*** plugin. This workflow provides automatic error handling and automatic input creation (taking advantage of a pre-defined set of protocols for the determination of default parameters). \n",
    "We are going to use the ``pk`` of the SCF \n",
    "calculation in the next step (NSCF). The ``pk`` is the number that identifies the corresponding node \n",
    "in the AiiDA database, and can be accessed via:\n",
    "```bash\n",
    "In  [1]: given_node.pk\n",
    "Out [2]: 1234  #pk of the node here named \"given_node\".\n",
    "```\n",
    "\n",
    "For more details in the ***aiida-quantumespresso*** plugin you can have a look at the corresponding [documentation](https://aiida-quantumespresso.readthedocs.io/en/latest/).\n",
    "\n",
    "### Loading the structure via QueryBuilder\n",
    "The first operation we do is to load the structure from our aiida database (we consider you completed the previous notebook on structure and pseudos setting):"
   ]
  },
  {
   "cell_type": "code",
   "execution_count": 4,
   "id": "8dd76500",
   "metadata": {},
   "outputs": [],
   "source": [
    "qb = QueryBuilder()\n",
    "qb.append(orm.Group, filters={'label': 'Silicon/bulk'}, tag='group')\n",
    "qb.append(orm.StructureData, with_group='group')\n",
    "\n",
    "loaded_structure = qb.all()[0][0]"
   ]
  },
  {
   "cell_type": "markdown",
   "id": "2ad4e933",
   "metadata": {},
   "source": [
    "Inspect the `loaded_structure` object:"
   ]
  },
  {
   "cell_type": "code",
   "execution_count": 5,
   "id": "892c942d",
   "metadata": {},
   "outputs": [
    {
     "data": {
      "text/plain": [
       "<StructureData: uuid: b0b6e73d-d85e-4008-ada0-3d5974079ee9 (pk: 370)>"
      ]
     },
     "execution_count": 5,
     "metadata": {},
     "output_type": "execute_result"
    }
   ],
   "source": [
    "loaded_structure"
   ]
  },
  {
   "cell_type": "markdown",
   "id": "3a3f5f03",
   "metadata": {},
   "source": [
    "The last ingredient needed to run our simulation is the class of the AiiDA WorkChain we are going to submit:"
   ]
  },
  {
   "cell_type": "code",
   "execution_count": 6,
   "id": "1a53625d",
   "metadata": {},
   "outputs": [],
   "source": [
    "PwBaseWorkchain = WorkflowFactory('quantumespresso.pw.base') # WorkflowFactory(workchain-entry-point)"
   ]
  },
  {
   "cell_type": "markdown",
   "id": "eea7bb43",
   "metadata": {},
   "source": [
    "You can try also to load the `PwRelaxWorkchain` class, used to perform structure relaxation. The corresponding entry-point is `quantumespresso.pw.relax`. \n",
    "Here, we that our input structure is already relaxed."
   ]
  },
  {
   "cell_type": "markdown",
   "id": "c275a467",
   "metadata": {},
   "source": [
    "In the following we create the *builder* instance, which collects all the inputs needed in our `PwBaseWorkchain` to be executed. We will use the `get_builder_from_protocol` methods to pre-populate the builder with default parameters. "
   ]
  },
  {
   "cell_type": "code",
   "execution_count": 9,
   "id": "7646a9d3",
   "metadata": {},
   "outputs": [],
   "source": [
    "builder = PwBaseWorkchain.get_builder_from_protocol(\n",
    "    code=orm.load_code(codes[\"pwcode_id\"]),\n",
    "    structure=loaded_structure,               # <=== this is the structure stored before, in 01_structure_and_pseudos.ipynb\n",
    "    protocol='fast',\n",
    "    overrides={},\n",
    "    electronic_type=ElectronicType.INSULATOR, # <=== disabling the smearing\n",
    "    \n",
    ")"
   ]
  },
  {
   "cell_type": "markdown",
   "id": "0b67d3f6",
   "metadata": {},
   "source": [
    "We can inspect the inputs parameters, which will be used to create the *pw.x* input file. The parameters are stored in an AiiDA *Dict*, which can be dumped to a python dictionary using the `get_dict()` method:"
   ]
  },
  {
   "cell_type": "code",
   "execution_count": 10,
   "id": "44890efc",
   "metadata": {
    "scrolled": true
   },
   "outputs": [
    {
     "data": {
      "text/plain": [
       "{'CONTROL': {'calculation': 'scf',\n",
       "  'forc_conv_thr': 0.001,\n",
       "  'tprnfor': True,\n",
       "  'tstress': True,\n",
       "  'etot_conv_thr': 0.0002},\n",
       " 'SYSTEM': {'nosym': False,\n",
       "  'occupations': 'fixed',\n",
       "  'ecutwfc': 30.0,\n",
       "  'ecutrho': 240.0},\n",
       " 'ELECTRONS': {'electron_maxstep': 80, 'mixing_beta': 0.4, 'conv_thr': 8e-10}}"
      ]
     },
     "execution_count": 10,
     "metadata": {},
     "output_type": "execute_result"
    }
   ],
   "source": [
    "builder.pw.parameters.get_dict()"
   ]
  },
  {
   "cell_type": "markdown",
   "id": "336e3b8f",
   "metadata": {},
   "source": [
    "As you can notice, some of the *pw.x* input parameters, such as `outdir`, are not set: this will be set automatically by the plugin, you do not have to deal with folders and paths."
   ]
  },
  {
   "cell_type": "markdown",
   "id": "fd2fcb9c",
   "metadata": {},
   "source": [
    "### Change the pseudos to Norm-Conserving\n",
    "\n",
    "We change the pseudo family to be the [PseudoDojo](http://www.pseudo-dojo.org/) one. \n",
    "The default family is the [SSSP](https://www.materialscloud.org/discover/sssp/table/efficiency) one, but here we need only Norm-Conserving pseudopotentials. To define custom pseudopotential families have a look at the [previous tutorial](0_1_structure_and_pseudos.ipynb) or [here](https://aiida-pseudo.readthedocs.io/en/latest/howto.html)."
   ]
  },
  {
   "cell_type": "code",
   "execution_count": 11,
   "id": "d0e3084d",
   "metadata": {},
   "outputs": [],
   "source": [
    "family = orm.load_group(\"PseudoDojo/0.4/PBE/SR/standard/upf\")\n",
    "#builder.<sublevels_up_to .pw>.pseudos = family.get_pseudos(structure=structure) \n",
    "builder.pw.pseudos = family.get_pseudos(structure=loaded_structure) "
   ]
  },
  {
   "cell_type": "markdown",
   "id": "558fd10d",
   "metadata": {},
   "source": [
    "## How to override the default inputs\n",
    "\n",
    "It is possible to modify in two ways the default inputs:\n",
    "\n",
    "    (1) to use the overrides in the builder creation;\n",
    "    (2) to define again the input variables after the builder instance generation.\n",
    "\n",
    "### (1) Overrides\n",
    "\n",
    "Overrides essentially act during the builder instance creation and, as the name suggests, ovverride the protocols inputs."
   ]
  },
  {
   "cell_type": "code",
   "execution_count": 12,
   "id": "d813f45a",
   "metadata": {},
   "outputs": [
    {
     "data": {
      "text/plain": [
       "{'CONTROL': {'calculation': 'scf',\n",
       "  'forc_conv_thr': 0.001,\n",
       "  'tprnfor': True,\n",
       "  'tstress': True,\n",
       "  'etot_conv_thr': 0.0002},\n",
       " 'SYSTEM': {'nosym': False,\n",
       "  'occupations': 'fixed',\n",
       "  'ecutwfc': 70.0,\n",
       "  'ecutrho': 280,\n",
       "  'force_symmorphic': True},\n",
       " 'ELECTRONS': {'electron_maxstep': 80, 'mixing_beta': 0.4, 'conv_thr': 8e-10}}"
      ]
     },
     "execution_count": 12,
     "metadata": {},
     "output_type": "execute_result"
    }
   ],
   "source": [
    "# (1):\n",
    "\n",
    "overrides={\n",
    "    'pw':{\n",
    "        'parameters':{\n",
    "            'SYSTEM': {\n",
    "            'nosym': False,\n",
    "            'occupations': 'fixed',\n",
    "            'ecutwfc': 70.0,\n",
    "            'ecutrho': 70*4,\n",
    "            'force_symmorphic':True,\n",
    "                      },\n",
    "    },},}\n",
    "\n",
    "builder = PwBaseWorkchain.get_builder_from_protocol(\n",
    "    code=orm.load_code(codes[\"pwcode_id\"]),\n",
    "    structure=loaded_structure,\n",
    "    protocol='fast',\n",
    "    overrides=overrides,\n",
    "    electronic_type=ElectronicType.INSULATOR,    \n",
    ")\n",
    "\n",
    "builder.pw.parameters.get_dict()"
   ]
  },
  {
   "cell_type": "markdown",
   "id": "b30f07d6",
   "metadata": {},
   "source": [
    "### (2) Re-define input parameters\n",
    "\n",
    "The second way is to overwrite the inputs a posteriori, i.e. after the builder instance is created."
   ]
  },
  {
   "cell_type": "code",
   "execution_count": 13,
   "id": "594cbff2",
   "metadata": {},
   "outputs": [
    {
     "data": {
      "text/plain": [
       "{'CONTROL': {'calculation': 'scf',\n",
       "  'forc_conv_thr': 0.002,\n",
       "  'tprnfor': True,\n",
       "  'tstress': True,\n",
       "  'etot_conv_thr': 0.0002},\n",
       " 'SYSTEM': {'nosym': False,\n",
       "  'occupations': 'fixed',\n",
       "  'ecutwfc': 70.0,\n",
       "  'ecutrho': 280,\n",
       "  'force_symmorphic': True},\n",
       " 'ELECTRONS': {'electron_maxstep': 90, 'mixing_beta': 0.4, 'conv_thr': 8e-10}}"
      ]
     },
     "execution_count": 13,
     "metadata": {},
     "output_type": "execute_result"
    }
   ],
   "source": [
    "# (2):\n",
    "\n",
    "builder = PwBaseWorkchain.get_builder_from_protocol(\n",
    "    code=orm.load_code(codes[\"pwcode_id\"]),\n",
    "    structure=loaded_structure,\n",
    "    protocol='fast',\n",
    "    overrides={},\n",
    "    electronic_type=ElectronicType.INSULATOR,    \n",
    ")\n",
    "\n",
    "family = orm.load_group(\"PseudoDojo/0.4/PBE/SR/standard/upf\")\n",
    "#builder.<sublevels_up_to .pw>.pseudos = family.get_pseudos(structure=loaded_structure) \n",
    "builder.pw.pseudos = family.get_pseudos(structure=loaded_structure) \n",
    "\n",
    "new_pw_parameters = {\n",
    "  'CONTROL': {'calculation': 'scf',\n",
    "  'forc_conv_thr': 0.002,\n",
    "  'tprnfor': True,\n",
    "  'tstress': True,\n",
    "  'etot_conv_thr': 0.0002},\n",
    " 'SYSTEM': {'nosym': False,\n",
    "  'occupations': 'fixed',\n",
    "  'ecutwfc': 70.0,\n",
    "  'ecutrho': 280,\n",
    "  'force_symmorphic':True,},\n",
    " 'ELECTRONS': {'electron_maxstep': 90, 'mixing_beta': 0.4, 'conv_thr': 8e-10},\n",
    "}\n",
    "\n",
    "builder.pw.parameters = orm.Dict(dict=new_pw_parameters)\n",
    "\n",
    "builder.pw.parameters.get_dict()"
   ]
  },
  {
   "cell_type": "markdown",
   "id": "3c71f7e4",
   "metadata": {},
   "source": [
    "Within protocols, the kpoints mesh is automatically choosen, by means of a `kpoints_distance` (inverse of the k-points density in the reciprocal space):"
   ]
  },
  {
   "cell_type": "code",
   "execution_count": 14,
   "id": "4a90fd46",
   "metadata": {},
   "outputs": [
    {
     "data": {
      "text/plain": [
       "0.5"
      ]
     },
     "execution_count": 14,
     "metadata": {},
     "output_type": "execute_result"
    }
   ],
   "source": [
    "builder.kpoints_distance.value"
   ]
  },
  {
   "cell_type": "markdown",
   "id": "1991fc67",
   "metadata": {},
   "source": [
    "We can define our desired k-points mesh, by creating an istance of `KpointsData` and then setting the `builder.kpoints` attribute again:"
   ]
  },
  {
   "cell_type": "code",
   "execution_count": 15,
   "id": "a2686852",
   "metadata": {},
   "outputs": [],
   "source": [
    "kpoints = orm.KpointsData()\n",
    "kpoints.set_kpoints_mesh([4,4,4])\n",
    "\n",
    "builder.kpoints = kpoints"
   ]
  },
  {
   "cell_type": "markdown",
   "id": "eded9448",
   "metadata": {},
   "source": [
    "### Leaving the calculation folder available for next simulations:\n",
    "\n",
    "Also, we set the workchain input `clean_workdir` to `False`, so we do not delete the remote folder after the simulation is finished (we need the charge-density to run the nscf step):"
   ]
  },
  {
   "cell_type": "code",
   "execution_count": 16,
   "id": "c57ec4c4",
   "metadata": {},
   "outputs": [],
   "source": [
    "builder.clean_workdir = orm.Bool(False)"
   ]
  },
  {
   "cell_type": "markdown",
   "id": "27e6ae29",
   "metadata": {},
   "source": [
    "## Setting the computational resources\n",
    " \n",
    "Then you should set up the options about resources and submission settings. Here is where you can specify options like the partition name of the cluster (`queue_name`), the `account` and more.\n",
    "These information have to be provided as a python dictionary in the metadata method:"
   ]
  },
  {
   "cell_type": "code",
   "execution_count": 17,
   "id": "f0ecf4b3",
   "metadata": {},
   "outputs": [],
   "source": [
    "builder.pw.metadata.options = resources"
   ]
  },
  {
   "cell_type": "markdown",
   "id": "9a3aa809",
   "metadata": {},
   "source": [
    "## Run\n",
    "\n",
    "Here we submit the simulation to the AiiDA daemon via the `submit` function. In this way, even if close the current session (i.e. we shutdown the notebook) AiiDA will continue to take care of monitoring the simulation up to its completion."
   ]
  },
  {
   "cell_type": "code",
   "execution_count": 18,
   "id": "b1349370",
   "metadata": {},
   "outputs": [],
   "source": [
    "run_scf = submit(builder)"
   ]
  },
  {
   "cell_type": "markdown",
   "id": "b0385485",
   "metadata": {},
   "source": [
    "We can see that the `run_scf` variable is indeed our `PwBaseWorkchain` just submitted:"
   ]
  },
  {
   "cell_type": "code",
   "execution_count": 19,
   "id": "5a960479",
   "metadata": {},
   "outputs": [
    {
     "name": "stdout",
     "output_type": "stream",
     "text": [
      "PwBaseWorkchain instance: uuid: 2aa6e6e0-91e5-44a4-b5ff-3123aa87841f (pk: 377) (aiida.workflows:quantumespresso.pw.base)\n",
      "PwBaseWorkchain pk: 377\n",
      "PwBaseWorkchain uuid: 2aa6e6e0-91e5-44a4-b5ff-3123aa87841f\n"
     ]
    }
   ],
   "source": [
    "print(\"PwBaseWorkchain instance:\", run_scf)\n",
    "print(\"PwBaseWorkchain pk:\", run_scf.pk)\n",
    "print(\"PwBaseWorkchain uuid:\", run_scf.uuid)"
   ]
  },
  {
   "cell_type": "markdown",
   "id": "6b3b7449",
   "metadata": {},
   "source": [
    "You can monitor the calculation from a shell, executing one or more of the following instructions:\n",
    "\n",
    "```bash\n",
    "    verdi process list\n",
    "    verdi process show <pk of the run_scf>\n",
    "    verdi process report <pk of the run_scf>\n",
    "```"
   ]
  },
  {
   "cell_type": "markdown",
   "id": "1e28df9e",
   "metadata": {},
   "source": [
    "It is possible to check if the calculation `is_finished_ok`:"
   ]
  },
  {
   "cell_type": "code",
   "execution_count": 20,
   "id": "c54de901",
   "metadata": {},
   "outputs": [
    {
     "data": {
      "text/plain": [
       "True"
      ]
     },
     "execution_count": 20,
     "metadata": {},
     "output_type": "execute_result"
    }
   ],
   "source": [
    "run_scf.is_finished_ok"
   ]
  },
  {
   "cell_type": "markdown",
   "id": "5f0b8a45",
   "metadata": {},
   "source": [
    "## Outputs inspection\n",
    "\n",
    "If `run_scf.is_finished_ok`, we can start inspecting the outputs of the calculation."
   ]
  },
  {
   "cell_type": "code",
   "execution_count": 21,
   "id": "f748aeb7",
   "metadata": {},
   "outputs": [
    {
     "data": {
      "text/plain": [
       "{'lsda': False,\n",
       " 'energy': -230.07056092145,\n",
       " 'volume': 39.313699239127,\n",
       " 'fft_grid': [40, 40, 40],\n",
       " 'energy_xc': -84.563789255761,\n",
       " 'wall_time': '      4.50s ',\n",
       " 'rho_cutoff': 3809.593683084,\n",
       " 'symmetries': [{'t_rev': '0', 'symmetry_number': 0},\n",
       "  {'t_rev': '0', 'symmetry_number': 1},\n",
       "  {'t_rev': '0', 'symmetry_number': 2},\n",
       "  {'t_rev': '0', 'symmetry_number': 3},\n",
       "  {'t_rev': '0', 'symmetry_number': 16},\n",
       "  {'t_rev': '0', 'symmetry_number': 17},\n",
       "  {'t_rev': '0', 'symmetry_number': 18},\n",
       "  {'t_rev': '0', 'symmetry_number': 19},\n",
       "  {'t_rev': '0', 'symmetry_number': 20},\n",
       "  {'t_rev': '0', 'symmetry_number': 21},\n",
       "  {'t_rev': '0', 'symmetry_number': 22},\n",
       "  {'t_rev': '0', 'symmetry_number': 23},\n",
       "  {'t_rev': '0', 'symmetry_number': 36},\n",
       "  {'t_rev': '0', 'symmetry_number': 37},\n",
       "  {'t_rev': '0', 'symmetry_number': 38},\n",
       "  {'t_rev': '0', 'symmetry_number': 39},\n",
       "  {'t_rev': '0', 'symmetry_number': 40},\n",
       "  {'t_rev': '0', 'symmetry_number': 41},\n",
       "  {'t_rev': '0', 'symmetry_number': 42},\n",
       "  {'t_rev': '0', 'symmetry_number': 43},\n",
       "  {'t_rev': '0', 'symmetry_number': 44},\n",
       "  {'t_rev': '0', 'symmetry_number': 45},\n",
       "  {'t_rev': '0', 'symmetry_number': 46},\n",
       "  {'t_rev': '0', 'symmetry_number': 47}],\n",
       " 'wfc_cutoff': 952.398420771,\n",
       " 'format_name': 'QEXSD',\n",
       " 'lkpoint_dir': False,\n",
       " 'occupations': 'fixed',\n",
       " 'total_force': 0.0,\n",
       " 'creator_name': 'pwscf',\n",
       " 'energy_ewald': -229.93290642387,\n",
       " 'energy_units': 'eV',\n",
       " 'fermi_energy': 6.4671309756345,\n",
       " 'forces_units': 'ev / angstrom',\n",
       " 'q_real_space': False,\n",
       " 'stress_units': 'GPascal',\n",
       " 'charge_density': './charge-density.dat',\n",
       " 'constraint_mag': 0,\n",
       " 'energy_hartree': 15.013853471428,\n",
       " 'format_version': '21.11.01',\n",
       " 'scf_iterations': 18,\n",
       " 'beta_real_space': False,\n",
       " 'creator_version': '7.0',\n",
       " 'energy_accuracy': 5.714390524626e-09,\n",
       " 'energy_xc_units': 'eV',\n",
       " 'number_of_atoms': 2,\n",
       " 'number_of_bands': 4,\n",
       " 'smooth_fft_grid': [40, 40, 40],\n",
       " 'convergence_info': {'scf_conv': {'scf_error': 2.1036396527902e-10,\n",
       "   'n_scf_steps': 18,\n",
       "   'convergence_achieved': True}},\n",
       " 'do_magnetization': False,\n",
       " 'energy_threshold': 1.25e-11,\n",
       " 'rho_cutoff_units': 'eV',\n",
       " 'spin_orbit_domag': False,\n",
       " 'symmetries_units': 'crystal',\n",
       " 'wfc_cutoff_units': 'eV',\n",
       " 'number_of_species': 1,\n",
       " 'total_force_units': 'ev / angstrom',\n",
       " 'wall_time_seconds': 4.5,\n",
       " 'energy_ewald_units': 'eV',\n",
       " 'fermi_energy_units': 'eV',\n",
       " 'has_electric_field': False,\n",
       " 'inversion_symmetry': False,\n",
       " 'lattice_symmetries': [{'t_rev': '0', 'symmetry_number': 32},\n",
       "  {'t_rev': '0', 'symmetry_number': 33},\n",
       "  {'t_rev': '0', 'symmetry_number': 34},\n",
       "  {'t_rev': '0', 'symmetry_number': 35},\n",
       "  {'t_rev': '0', 'symmetry_number': 12},\n",
       "  {'t_rev': '0', 'symmetry_number': 13},\n",
       "  {'t_rev': '0', 'symmetry_number': 14},\n",
       "  {'t_rev': '0', 'symmetry_number': 15},\n",
       "  {'t_rev': '0', 'symmetry_number': 4},\n",
       "  {'t_rev': '0', 'symmetry_number': 5},\n",
       "  {'t_rev': '0', 'symmetry_number': 6},\n",
       "  {'t_rev': '0', 'symmetry_number': 7},\n",
       "  {'t_rev': '0', 'symmetry_number': 8},\n",
       "  {'t_rev': '0', 'symmetry_number': 9},\n",
       "  {'t_rev': '0', 'symmetry_number': 10},\n",
       "  {'t_rev': '0', 'symmetry_number': 11},\n",
       "  {'t_rev': '0', 'symmetry_number': 48},\n",
       "  {'t_rev': '0', 'symmetry_number': 49},\n",
       "  {'t_rev': '0', 'symmetry_number': 50},\n",
       "  {'t_rev': '0', 'symmetry_number': 51},\n",
       "  {'t_rev': '0', 'symmetry_number': 52},\n",
       "  {'t_rev': '0', 'symmetry_number': 53},\n",
       "  {'t_rev': '0', 'symmetry_number': 54},\n",
       "  {'t_rev': '0', 'symmetry_number': 55}],\n",
       " 'number_of_k_points': 8,\n",
       " 'time_reversal_flag': True,\n",
       " 'energy_one_electron': 69.412281422815,\n",
       " 'monkhorst_pack_grid': [4, 4, 4],\n",
       " 'number_of_electrons': 8.0,\n",
       " 'energy_hartree_units': 'eV',\n",
       " 'magnetization_angle1': [0.0],\n",
       " 'magnetization_angle2': [0.0],\n",
       " 'number_of_atomic_wfc': 8,\n",
       " 'number_of_symmetries': 24,\n",
       " 'energy_accuracy_units': 'eV',\n",
       " 'has_dipole_correction': False,\n",
       " 'monkhorst_pack_offset': [0, 0, 0],\n",
       " 'init_wall_time_seconds': 0.8,\n",
       " 'lda_plus_u_calculation': False,\n",
       " 'no_time_rev_operations': False,\n",
       " 'spin_orbit_calculation': False,\n",
       " 'starting_magnetization': [0.0],\n",
       " 'dft_exchange_correlation': 'PBE',\n",
       " 'do_not_use_time_reversal': False,\n",
       " 'non_colinear_calculation': False,\n",
       " 'energy_one_electron_units': 'eV',\n",
       " 'estimated_ram_per_process': 17.95,\n",
       " 'number_of_spin_components': 1,\n",
       " 'number_of_bravais_symmetries': 48,\n",
       " 'total_number_of_scf_iterations': 18,\n",
       " 'estimated_ram_per_process_units': 'MB'}"
      ]
     },
     "execution_count": 21,
     "metadata": {},
     "output_type": "execute_result"
    }
   ],
   "source": [
    "run_scf.outputs.output_parameters.get_dict()   #use tab to see available outputs"
   ]
  },
  {
   "cell_type": "markdown",
   "id": "8595f6fd",
   "metadata": {},
   "source": [
    "## Run the NSCF step\n",
    "\n",
    "Using the previous completed SCF calculation, we now run a NSCF calculation as the starting point for the GW calculation. Here we will just use the `pk` of the previous calculation, but you can also put node in an AiiDA group to load it without the need to remember the `run_scf.pk` value, in a similar manner on how we do for the structure."
   ]
  },
  {
   "cell_type": "code",
   "execution_count": 22,
   "id": "3c8fb12a",
   "metadata": {},
   "outputs": [],
   "source": [
    "overrides={\n",
    "    'pw':{\n",
    "        'parameters':{\n",
    "            'CONTROL': {\n",
    "                'calculation': 'nscf',\n",
    "                'restart_mode':'restart',},\n",
    "            'SYSTEM': {\n",
    "            'nosym': False,\n",
    "            'occupations': 'fixed',\n",
    "            'ecutwfc': 70.0,\n",
    "            'ecutrho': 70*4,\n",
    "            'nbnd':200,                     # <=== we increase the number of bands.\n",
    "            'force_symmorphic':True,\n",
    "                      },\n",
    "    },},}\n",
    "\n",
    "builder = PwBaseWorkchain.get_builder_from_protocol(\n",
    "    \n",
    "                code=orm.load_code(codes[\"pwcode_id\"]),\n",
    "                structure=loaded_structure,\n",
    "                protocol='fast',\n",
    "                overrides=overrides,\n",
    "                electronic_type=ElectronicType.INSULATOR,\n",
    "                pseudo_family=\"PseudoDojo/0.4/PBE/SR/standard/upf\",\n",
    "    \n",
    ")\n",
    "\n",
    "#If you want to change the pseudos:\n",
    "family = orm.load_group(\"PseudoDojo/0.4/PBE/SR/standard/upf\")\n",
    "#builder.<sublevels_up_to .pw>.pseudos = family.get_pseudos(structure=structure) \n",
    "builder.pw.pseudos = family.get_pseudos(structure=loaded_structure) \n",
    "\n",
    "builder.pw.metadata.options = resources\n",
    "\n",
    "builder.clean_workdir = orm.Bool(False)    # we need the workdir for yambo pre-processing step (p2y)"
   ]
  },
  {
   "cell_type": "markdown",
   "id": "65572f60",
   "metadata": {},
   "source": [
    "### Setting the parent scf calculation as starting point for the nscf.\n",
    "\n",
    "We set as parent_folder the previous completed scf run. \n",
    "This needs to be provided by means of the `builder.pw.parent_folder` attribute."
   ]
  },
  {
   "cell_type": "code",
   "execution_count": 23,
   "id": "d55746ff",
   "metadata": {},
   "outputs": [],
   "source": [
    "parent_scf = orm.load_node(run_scf.pk) \n",
    "builder.pw.parent_folder = parent_scf.outputs.remote_folder"
   ]
  },
  {
   "cell_type": "code",
   "execution_count": 24,
   "id": "9de9a83f",
   "metadata": {},
   "outputs": [],
   "source": [
    "run_nscf = submit(builder)"
   ]
  },
  {
   "cell_type": "code",
   "execution_count": 25,
   "id": "d21fafdd",
   "metadata": {},
   "outputs": [
    {
     "name": "stdout",
     "output_type": "stream",
     "text": [
      "PwBaseWorkchain instance: uuid: 47b8a3e4-fca8-4908-846a-6742f66db0f4 (pk: 391) (aiida.workflows:quantumespresso.pw.base)\n",
      "PwBaseWorkchain pk: 391\n",
      "PwBaseWorkchain uuid: 47b8a3e4-fca8-4908-846a-6742f66db0f4\n"
     ]
    }
   ],
   "source": [
    "print(\"PwBaseWorkchain instance:\", run_nscf)\n",
    "print(\"PwBaseWorkchain pk:\", run_nscf.pk)\n",
    "print(\"PwBaseWorkchain uuid:\", run_nscf.uuid)"
   ]
  },
  {
   "cell_type": "code",
   "execution_count": 28,
   "id": "ada6faba",
   "metadata": {},
   "outputs": [
    {
     "data": {
      "text/plain": [
       "True"
      ]
     },
     "execution_count": 28,
     "metadata": {},
     "output_type": "execute_result"
    }
   ],
   "source": [
    "run_nscf.is_finished_ok"
   ]
  },
  {
   "cell_type": "code",
   "execution_count": 29,
   "id": "c62e9b51",
   "metadata": {},
   "outputs": [
    {
     "data": {
      "text/plain": [
       "{'lsda': False,\n",
       " 'volume': 39.313699239127,\n",
       " 'fft_grid': [40, 40, 40],\n",
       " 'wall_time': '   1m 2.14s ',\n",
       " 'rho_cutoff': 3809.593683084,\n",
       " 'symmetries': [{'t_rev': '0', 'symmetry_number': 0},\n",
       "  {'t_rev': '0', 'symmetry_number': 1},\n",
       "  {'t_rev': '0', 'symmetry_number': 2},\n",
       "  {'t_rev': '0', 'symmetry_number': 3},\n",
       "  {'t_rev': '0', 'symmetry_number': 16},\n",
       "  {'t_rev': '0', 'symmetry_number': 17},\n",
       "  {'t_rev': '0', 'symmetry_number': 18},\n",
       "  {'t_rev': '0', 'symmetry_number': 19},\n",
       "  {'t_rev': '0', 'symmetry_number': 20},\n",
       "  {'t_rev': '0', 'symmetry_number': 21},\n",
       "  {'t_rev': '0', 'symmetry_number': 22},\n",
       "  {'t_rev': '0', 'symmetry_number': 23},\n",
       "  {'t_rev': '0', 'symmetry_number': 36},\n",
       "  {'t_rev': '0', 'symmetry_number': 37},\n",
       "  {'t_rev': '0', 'symmetry_number': 38},\n",
       "  {'t_rev': '0', 'symmetry_number': 39},\n",
       "  {'t_rev': '0', 'symmetry_number': 40},\n",
       "  {'t_rev': '0', 'symmetry_number': 41},\n",
       "  {'t_rev': '0', 'symmetry_number': 42},\n",
       "  {'t_rev': '0', 'symmetry_number': 43},\n",
       "  {'t_rev': '0', 'symmetry_number': 44},\n",
       "  {'t_rev': '0', 'symmetry_number': 45},\n",
       "  {'t_rev': '0', 'symmetry_number': 46},\n",
       "  {'t_rev': '0', 'symmetry_number': 47}],\n",
       " 'wfc_cutoff': 952.398420771,\n",
       " 'format_name': 'QEXSD',\n",
       " 'lkpoint_dir': False,\n",
       " 'occupations': 'fixed',\n",
       " 'creator_name': 'pwscf',\n",
       " 'fermi_energy': 6.4672026104878,\n",
       " 'q_real_space': False,\n",
       " 'charge_density': './charge-density.dat',\n",
       " 'constraint_mag': 0,\n",
       " 'format_version': '21.11.01',\n",
       " 'beta_real_space': False,\n",
       " 'creator_version': '7.0',\n",
       " 'number_of_atoms': 2,\n",
       " 'number_of_bands': 200,\n",
       " 'smooth_fft_grid': [40, 40, 40],\n",
       " 'convergence_info': {'scf_conv': {'scf_error': 0.0,\n",
       "   'n_scf_steps': 1,\n",
       "   'convergence_achieved': False}},\n",
       " 'do_magnetization': False,\n",
       " 'rho_cutoff_units': 'eV',\n",
       " 'spin_orbit_domag': False,\n",
       " 'symmetries_units': 'crystal',\n",
       " 'wfc_cutoff_units': 'eV',\n",
       " 'number_of_species': 1,\n",
       " 'wall_time_seconds': 62.14,\n",
       " 'fermi_energy_units': 'eV',\n",
       " 'has_electric_field': False,\n",
       " 'inversion_symmetry': False,\n",
       " 'lattice_symmetries': [{'t_rev': '0', 'symmetry_number': 32},\n",
       "  {'t_rev': '0', 'symmetry_number': 33},\n",
       "  {'t_rev': '0', 'symmetry_number': 34},\n",
       "  {'t_rev': '0', 'symmetry_number': 35},\n",
       "  {'t_rev': '0', 'symmetry_number': 12},\n",
       "  {'t_rev': '0', 'symmetry_number': 13},\n",
       "  {'t_rev': '0', 'symmetry_number': 14},\n",
       "  {'t_rev': '0', 'symmetry_number': 15},\n",
       "  {'t_rev': '0', 'symmetry_number': 4},\n",
       "  {'t_rev': '0', 'symmetry_number': 5},\n",
       "  {'t_rev': '0', 'symmetry_number': 6},\n",
       "  {'t_rev': '0', 'symmetry_number': 7},\n",
       "  {'t_rev': '0', 'symmetry_number': 8},\n",
       "  {'t_rev': '0', 'symmetry_number': 9},\n",
       "  {'t_rev': '0', 'symmetry_number': 10},\n",
       "  {'t_rev': '0', 'symmetry_number': 11},\n",
       "  {'t_rev': '0', 'symmetry_number': 48},\n",
       "  {'t_rev': '0', 'symmetry_number': 49},\n",
       "  {'t_rev': '0', 'symmetry_number': 50},\n",
       "  {'t_rev': '0', 'symmetry_number': 51},\n",
       "  {'t_rev': '0', 'symmetry_number': 52},\n",
       "  {'t_rev': '0', 'symmetry_number': 53},\n",
       "  {'t_rev': '0', 'symmetry_number': 54},\n",
       "  {'t_rev': '0', 'symmetry_number': 55}],\n",
       " 'number_of_k_points': 10,\n",
       " 'time_reversal_flag': True,\n",
       " 'monkhorst_pack_grid': [5, 5, 5],\n",
       " 'number_of_electrons': 8.0,\n",
       " 'magnetization_angle1': [0.0],\n",
       " 'magnetization_angle2': [0.0],\n",
       " 'number_of_atomic_wfc': 8,\n",
       " 'number_of_symmetries': 24,\n",
       " 'has_dipole_correction': False,\n",
       " 'monkhorst_pack_offset': [0, 0, 0],\n",
       " 'init_wall_time_seconds': 6.4,\n",
       " 'lda_plus_u_calculation': False,\n",
       " 'no_time_rev_operations': False,\n",
       " 'spin_orbit_calculation': False,\n",
       " 'starting_magnetization': [0.0],\n",
       " 'dft_exchange_correlation': 'PBE',\n",
       " 'do_not_use_time_reversal': False,\n",
       " 'non_colinear_calculation': False,\n",
       " 'estimated_ram_per_process': 57.43,\n",
       " 'number_of_spin_components': 1,\n",
       " 'number_of_bravais_symmetries': 48,\n",
       " 'estimated_ram_per_process_units': 'MB'}"
      ]
     },
     "execution_count": 29,
     "metadata": {},
     "output_type": "execute_result"
    }
   ],
   "source": [
    "run_nscf.outputs.output_parameters.get_dict()   #use tab to see available outputs"
   ]
  },
  {
   "cell_type": "code",
   "execution_count": null,
   "id": "4225d4fd",
   "metadata": {},
   "outputs": [],
   "source": []
  }
 ],
 "metadata": {
  "kernelspec": {
   "display_name": "Python 3 (ipykernel)",
   "language": "python",
   "name": "python3"
  },
  "language_info": {
   "codemirror_mode": {
    "name": "ipython",
    "version": 3
   },
   "file_extension": ".py",
   "mimetype": "text/x-python",
   "name": "python",
   "nbconvert_exporter": "python",
   "pygments_lexer": "ipython3",
   "version": "3.9.16"
  }
 },
 "nbformat": 4,
 "nbformat_minor": 5
}
