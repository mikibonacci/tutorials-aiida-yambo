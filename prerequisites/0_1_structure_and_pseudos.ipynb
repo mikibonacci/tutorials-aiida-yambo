{
 "cells": [
  {
   "cell_type": "markdown",
   "id": "a14fd46b",
   "metadata": {},
   "source": [
    "# Setting up a structure\n",
    "\n",
    "***Prerequisites***: we suppose that you have successfully installed and configured AiiDA. For some help, please have a look at the [AiiDA tutorials](https://aiida-tutorials.readthedocs.io/en/latest/).\n",
    "\n",
    "It is possible, using [ASE](https://wiki.fysik.dtu.dk/ase/) (and also [Pymatgen](https://pymatgen.org/) in a similar way), to read a QE in/out file and load a given crystal structure. \n",
    "To create a structures from scratch, see the dedicated [ASE tutorial](https://wiki.fysik.dtu.dk/ase/gettingstarted/tut01_molecule/molecule.html).\n",
    "\n",
    "We start loading the necessary module from ASE package:"
   ]
  },
  {
   "cell_type": "code",
   "execution_count": 1,
   "id": "619cf913",
   "metadata": {},
   "outputs": [],
   "source": [
    "from ase.io.espresso import read_espresso_in"
   ]
  },
  {
   "cell_type": "markdown",
   "id": "c73f031b",
   "metadata": {},
   "source": [
    "The next step is to use the `read_espresso_in` method to load the structure from a `pw.x` input file: "
   ]
  },
  {
   "cell_type": "code",
   "execution_count": 2,
   "id": "8508d352",
   "metadata": {},
   "outputs": [],
   "source": [
    "Silicon = read_espresso_in('../data/silicon.in')"
   ]
  },
  {
   "cell_type": "markdown",
   "id": "8063eaf6",
   "metadata": {},
   "source": [
    "Now inspect the created `Atoms` object: "
   ]
  },
  {
   "cell_type": "code",
   "execution_count": 3,
   "id": "a0368574",
   "metadata": {},
   "outputs": [
    {
     "data": {
      "text/plain": [
       "Atoms(symbols='Si2', pbc=True, cell=[[-2.6988037626030605, 0.0, 2.6988037626030605], [0.0, 2.6988037626030605, 2.6988037626030605], [-2.6988037626030605, 2.6988037626030605, 0.0]], initial_magmoms=...)"
      ]
     },
     "execution_count": 3,
     "metadata": {},
     "output_type": "execute_result"
    }
   ],
   "source": [
    "Silicon"
   ]
  },
  {
   "cell_type": "markdown",
   "id": "ea79f712",
   "metadata": {},
   "source": [
    "The `hBN` variable contains all the informations needed to store the structure in the AiiDA database. \n",
    "So, we start by loading our AiiDA profile and modules as follows:"
   ]
  },
  {
   "cell_type": "code",
   "execution_count": 4,
   "id": "ac4a75c0",
   "metadata": {},
   "outputs": [
    {
     "data": {
      "text/plain": [
       "Profile<uuid='3745313b017b418697d37cbf16c4e7ef' name='generic'>"
      ]
     },
     "execution_count": 4,
     "metadata": {},
     "output_type": "execute_result"
    }
   ],
   "source": [
    "from aiida import orm, load_profile\n",
    "load_profile()"
   ]
  },
  {
   "cell_type": "markdown",
   "id": "542cb7fc",
   "metadata": {},
   "source": [
    "We are now ready to create the `StructureData` instance of our structure, and to store it in the AiiDA database:"
   ]
  },
  {
   "cell_type": "code",
   "execution_count": 5,
   "id": "73856d1b",
   "metadata": {},
   "outputs": [
    {
     "data": {
      "text/plain": [
       "<StructureData: uuid: b0024168-aaf8-4c3e-aff7-f66a95bb749b (pk: 371)>"
      ]
     },
     "execution_count": 5,
     "metadata": {},
     "output_type": "execute_result"
    }
   ],
   "source": [
    "structure = orm.StructureData(ase=Silicon)\n",
    "structure.store()"
   ]
  },
  {
   "cell_type": "markdown",
   "id": "c8475cb1",
   "metadata": {},
   "source": [
    "The structure *id*, as stored in the database, can be accessed via the `pk` attribute:"
   ]
  },
  {
   "cell_type": "code",
   "execution_count": 6,
   "id": "309c62c2",
   "metadata": {},
   "outputs": [
    {
     "data": {
      "text/plain": [
       "371"
      ]
     },
     "execution_count": 6,
     "metadata": {},
     "output_type": "execute_result"
    }
   ],
   "source": [
    "structure.pk"
   ]
  },
  {
   "cell_type": "code",
   "execution_count": 7,
   "id": "7eb5165c",
   "metadata": {},
   "outputs": [
    {
     "data": {
      "text/plain": [
       "<Axes: >"
      ]
     },
     "execution_count": 7,
     "metadata": {},
     "output_type": "execute_result"
    },
    {
     "data": {
      "image/png": "[encoded data removed]",
      "text/plain": [
       "<Figure size 640x480 with 1 Axes>"
      ]
     },
     "metadata": {},
     "output_type": "display_data"
    }
   ],
   "source": [
    "from ase.visualize.plot import plot_atoms\n",
    "\n",
    "plot_atoms(Silicon, radii=0.8, rotation=('0x,0y,0z'))"
   ]
  },
  {
   "cell_type": "markdown",
   "id": "eb53d93d",
   "metadata": {},
   "source": [
    "# Store pseudopotentials\n",
    "\n",
    "To run AiiDA simulations for DFT and MBPT, we need to store the desired pseudopotential family in the database."
   ]
  },
  {
   "cell_type": "markdown",
   "id": "cb6e7a6c",
   "metadata": {},
   "source": [
    "The command is:\n",
    "\n",
    "    aiida-pseudo install family <ARCHIVE> <LABEL> -P pseudo.upf\n",
    "\n",
    "more details are provided [here](https://aiida-pseudo.readthedocs.io/en/latest/howto.html)"
   ]
  },
  {
   "cell_type": "markdown",
   "id": "227871b6",
   "metadata": {},
   "source": [
    "When you use protocols, you have to provide families which have one. SSSP or PseudoDojo. \n",
    "If you want to use another family, for example sg15, you generate the builder protocols with SSSP or PseudoDojo, then:\n",
    "\n",
    "```python\n",
    "    family = orm.load_group(\"sg15\")\n",
    "    builder.<sublevels_up_to .pw>.pseudos = family.get_pseudos(structure=structure) \n",
    "```"
   ]
  },
  {
   "cell_type": "markdown",
   "id": "8228d1a4",
   "metadata": {},
   "source": [
    "# Group creation and usage\n",
    "\n",
    "Groups are a powerful tool in AiiDA, they allow to group calculations and to easy query them. To see examples of query and creation/management of groups, see [here](https://aiida.readthedocs.io/projects/aiida-core/en/latest/howto/data.html?highlight=groups)."
   ]
  },
  {
   "cell_type": "code",
   "execution_count": 8,
   "id": "efc94e45",
   "metadata": {},
   "outputs": [],
   "source": [
    "new_group = orm.Group('Silicon/bulk')"
   ]
  },
  {
   "cell_type": "code",
   "execution_count": 9,
   "id": "f9fed813",
   "metadata": {},
   "outputs": [],
   "source": [
    "try:\n",
    "    new_group.store()\n",
    "except:\n",
    "    print(\"The group '{}' already exists!\".format(new_group.label))"
   ]
  },
  {
   "cell_type": "markdown",
   "id": "18010414",
   "metadata": {},
   "source": [
    "You can add nodes to the group, both from here or from the command line. Here you can load a node and add to the group\n",
    "\n",
    "```python   \n",
    "    node = orm.load_node(pk or uuid)\n",
    "    new_group.add_nodes(node)\n",
    "```"
   ]
  },
  {
   "cell_type": "code",
   "execution_count": 15,
   "id": "b1c09b57",
   "metadata": {},
   "outputs": [],
   "source": [
    "node = orm.load_node(371) # structure.pk\n",
    "new_group.add_nodes(node)"
   ]
  },
  {
   "cell_type": "markdown",
   "id": "d401394e",
   "metadata": {},
   "source": [
    "## How to query the StructureData to reuse it\n",
    "\n",
    "For more details please have a look at [here](https://aiida.readthedocs.io/projects/aiida-core/en/latest/howto/query.html)"
   ]
  },
  {
   "cell_type": "code",
   "execution_count": 16,
   "id": "b723f29f",
   "metadata": {},
   "outputs": [],
   "source": [
    "from aiida.orm import QueryBuilder"
   ]
  },
  {
   "cell_type": "code",
   "execution_count": 17,
   "id": "97f442ab",
   "metadata": {},
   "outputs": [
    {
     "data": {
      "text/plain": [
       "QueryBuilder(path=[{'entity_type': 'group.core', 'orm_base': 'group', 'tag': 'group', 'joining_keyword': None, 'joining_value': None, 'edge_tag': None, 'outerjoin': False}, {'entity_type': 'data.core.structure.StructureData.', 'orm_base': 'node', 'tag': 'StructureData_1', 'joining_keyword': 'with_group', 'joining_value': 'group', 'edge_tag': 'group--StructureData_1', 'outerjoin': False}], filters={'group': {'type_string': {'like': '%'}, 'label': 'Silicon/bulk'}, 'StructureData_1': {'node_type': {'like': 'data.core.structure.%'}}, 'group--StructureData_1': {}}, project={'group': [], 'StructureData_1': [], 'group--StructureData_1': []}, order_by=[], limit=None, offset=None, distinct=False)"
      ]
     },
     "execution_count": 17,
     "metadata": {},
     "output_type": "execute_result"
    }
   ],
   "source": [
    "# Querying the structures that belong to the 'promising_structures' group.\n",
    "qb = QueryBuilder()\n",
    "qb.append(orm.Group, filters={'label': 'Silicon/bulk'}, tag='group')\n",
    "qb.append(orm.StructureData, with_group='group')"
   ]
  },
  {
   "cell_type": "code",
   "execution_count": 18,
   "id": "e1173563",
   "metadata": {},
   "outputs": [
    {
     "name": "stdout",
     "output_type": "stream",
     "text": [
      "uuid: b0024168-aaf8-4c3e-aff7-f66a95bb749b (pk: 371)\n"
     ]
    }
   ],
   "source": [
    "# Print the query results.\n",
    "for structure in qb.all(flat=True):\n",
    "    print(structure)"
   ]
  },
  {
   "cell_type": "code",
   "execution_count": 19,
   "id": "68604e50",
   "metadata": {},
   "outputs": [],
   "source": [
    "our_structure = qb.all()[0][0]"
   ]
  }
 ],
 "metadata": {
  "kernelspec": {
   "display_name": "Python 3 (ipykernel)",
   "language": "python",
   "name": "python3"
  },
  "language_info": {
   "codemirror_mode": {
    "name": "ipython",
    "version": 3
   },
   "file_extension": ".py",
   "mimetype": "text/x-python",
   "name": "python",
   "nbconvert_exporter": "python",
   "pygments_lexer": "ipython3",
   "version": "3.9.16"
  }
 },
 "nbformat": 4,
 "nbformat_minor": 5
}
