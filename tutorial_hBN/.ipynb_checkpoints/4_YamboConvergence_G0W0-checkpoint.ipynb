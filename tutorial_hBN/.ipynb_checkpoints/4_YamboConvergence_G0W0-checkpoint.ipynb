{
 "cells": [
  {
   "cell_type": "markdown",
   "metadata": {},
   "source": [
    "# YamboConvergence: automated GW/BSE convergence\n",
    "\n",
    "This is the highest-level workflow of the plugin. It runs an automated GW or BSE convergence.\n",
    "Simulations are organized on the fly without human intervention.\n",
    "\n",
    "The idea is to create a builder instance, which collects all the inputs needed for the simulation, then submit it by means of the aiida \"submit\" function."
   ]
  },
  {
   "cell_type": "code",
   "execution_count": 46,
   "metadata": {},
   "outputs": [
    {
     "data": {
      "text/plain": [
       "Profile<uuid='b35700dae723411ea16ebc82d58f16bc' name='mb'>"
      ]
     },
     "execution_count": 46,
     "metadata": {},
     "output_type": "execute_result"
    }
   ],
   "source": [
    "from aiida import orm, load_profile\n",
    "load_profile()"
   ]
  },
  {
   "cell_type": "markdown",
   "metadata": {},
   "source": [
    "## 1 - Creation of YamboConvergence instance using protocols\n",
    "\n",
    "In this tutorial the creation of the builder, for a given workflow, is provided by means of the get_builder_from_protocol function.\n",
    "This is, for now, just a way to automatically populated all the needed inputs, allowing the user to partially skip the long part of input definition as done in examples like the one contained in ``aiida_yambo/examples_hBN/workflows/yambo_convergence.py``.\n",
    "\n",
    "\n",
    "It is not meant to be an already tested set of default values as instead is done for the aiida-quantumespresso plugin. "
   ]
  },
  {
   "cell_type": "code",
   "execution_count": 2,
   "metadata": {},
   "outputs": [],
   "source": [
    "from aiida.plugins import WorkflowFactory"
   ]
  },
  {
   "cell_type": "code",
   "execution_count": 3,
   "metadata": {},
   "outputs": [],
   "source": [
    "YamboConvergence = WorkflowFactory('yambo.yambo.yamboconvergence')"
   ]
  },
  {
   "cell_type": "markdown",
   "metadata": {},
   "source": [
    "## minimal inputs needed for protocols"
   ]
  },
  {
   "cell_type": "code",
   "execution_count": 4,
   "metadata": {},
   "outputs": [],
   "source": [
    "options = {\n",
    "    'pwcode_id': 'pw-7.1@hydralogin', \n",
    "    'pseudo_family':\"PseudoDojo/0.4/PBE/SR/standard/upf\",\n",
    "    'yamboprecode_id':'p2y-5.1@hydralogin',\n",
    "    'yambocode_id':'yambo-5.1@hydralogin',\n",
    "    'protocol':'fast',\n",
    "    #'parent_id':274, #not necessary to set; take your previously nscf id (pk) to skip the DFT part.\n",
    "    'structure_id':161,\n",
    "}"
   ]
  },
  {
   "cell_type": "code",
   "execution_count": 5,
   "metadata": {},
   "outputs": [],
   "source": [
    "#YamboWorkflow.get_builder_from_protocol??"
   ]
  },
  {
   "cell_type": "code",
   "execution_count": 6,
   "metadata": {},
   "outputs": [],
   "source": [
    "from aiida_quantumespresso.common.types import ElectronicType"
   ]
  },
  {
   "cell_type": "code",
   "execution_count": 7,
   "metadata": {},
   "outputs": [
    {
     "name": "stdout",
     "output_type": "stream",
     "text": [
      "Summary of the main inputs:\n",
      "BndsRnXp = 200\n",
      "GbndRnge = 200\n",
      "NGsBlkXp = 6 Ry\n",
      "FFTGvecs = 18 Ry\n",
      "\n",
      "\n",
      "kpoint mesh for nscf: [6, 6, 2]\n"
     ]
    },
    {
     "name": "stderr",
     "output_type": "stream",
     "text": [
      "/scratch/mbonacci/mambaforge/envs/minitutorial/lib/python3.10/site-packages/aiida_quantumespresso/calculations/pw.py:209: UserWarning: `parent_folder` not provided for `nscf` calculation. For work chains wrapping this calculation, you can disable this warning by setting the validator of the `PwCalculation` port to `PwCalculation.validate_inputs_base`.\n",
      "  warnings.warn(\n"
     ]
    }
   ],
   "source": [
    "builder = YamboConvergence.get_builder_from_protocol(\n",
    "            pw_code = options['pwcode_id'],\n",
    "            preprocessing_code = options['yamboprecode_id'],\n",
    "            code = options['yambocode_id'],\n",
    "            protocol=options['protocol'],\n",
    "            protocol_qe=options['protocol'],\n",
    "            structure=orm.load_node(options['structure_id']),\n",
    "            overrides={},\n",
    "            #parent_folder=load_node(options['parent_id']).outputs.remote_folder,\n",
    "            electronic_type=ElectronicType.INSULATOR, #default is METAL: smearing is used\n",
    "            calc_type='gw', #or 'bse'; default is 'gw'\n",
    ")"
   ]
  },
  {
   "cell_type": "code",
   "execution_count": 8,
   "metadata": {},
   "outputs": [
    {
     "data": {
      "text/plain": [
       "{'fast': {'description': 'Fast protocol for a GW convergence: grid -> poor; thresholds -> poor'},\n",
       " 'moderate': {'description': 'Moderate protocol for a GW convergence: grid -> enough good for standard materials; thresholds -> moderate (5 percent)'},\n",
       " 'precise': {'description': 'precise protocol for a GW convergence: grid -> same as moderate; thresholds -> precise (1 percent)'},\n",
       " 'molecule': {'description': 'Moderate protocol for a GW convergence in molecules'}}"
      ]
     },
     "execution_count": 8,
     "metadata": {},
     "output_type": "execute_result"
    }
   ],
   "source": [
    "#You can also try different protocols:\n",
    "    \n",
    "YamboConvergence.get_available_protocols()"
   ]
  },
  {
   "cell_type": "markdown",
   "metadata": {},
   "source": [
    "Now, if you inspect the prepopulated inputs, you can see the default values respecting the imposed protocol:"
   ]
  },
  {
   "cell_type": "code",
   "execution_count": 9,
   "metadata": {},
   "outputs": [
    {
     "data": {
      "text/plain": [
       "{'CONTROL': {'calculation': 'nscf',\n",
       "  'forc_conv_thr': 0.001,\n",
       "  'tprnfor': True,\n",
       "  'tstress': True,\n",
       "  'etot_conv_thr': 0.0004},\n",
       " 'SYSTEM': {'nosym': False,\n",
       "  'occupations': 'fixed',\n",
       "  'ecutwfc': 60.0,\n",
       "  'ecutrho': 480.0,\n",
       "  'force_symmorphic': True,\n",
       "  'nbnd': 200},\n",
       " 'ELECTRONS': {'electron_maxstep': 80,\n",
       "  'mixing_beta': 0.4,\n",
       "  'conv_thr': 1.6e-09}}"
      ]
     },
     "execution_count": 9,
     "metadata": {},
     "output_type": "execute_result"
    }
   ],
   "source": [
    "builder.ywfl.nscf.pw.parameters.get_dict()"
   ]
  },
  {
   "cell_type": "code",
   "execution_count": 10,
   "metadata": {},
   "outputs": [
    {
     "data": {
      "text/plain": [
       "{'arguments': ['dipoles', 'ppa', 'HF_and_locXC', 'gw0'],\n",
       " 'variables': {'Chimod': 'hartree',\n",
       "  'DysSolver': 'n',\n",
       "  'GTermKind': 'BG',\n",
       "  'X_and_IO_nCPU_LinAlg_INV': [1, ''],\n",
       "  'NGsBlkXp': [6, 'Ry'],\n",
       "  'FFTGvecs': [18, 'Ry'],\n",
       "  'BndsRnXp': [[1, 200], ''],\n",
       "  'GbndRnge': [[1, 200], ''],\n",
       "  'QPkrange': [[[1, 1, 32, 32]], '']}}"
      ]
     },
     "execution_count": 10,
     "metadata": {},
     "output_type": "execute_result"
    }
   ],
   "source": [
    "builder.ywfl.yres.yambo.parameters.get_dict()"
   ]
  },
  {
   "cell_type": "markdown",
   "metadata": {},
   "source": [
    "## 2 - Inputs completion\n",
    "\n",
    "We have to include also the resources:"
   ]
  },
  {
   "cell_type": "code",
   "execution_count": 11,
   "metadata": {},
   "outputs": [],
   "source": [
    "builder.ywfl.scf.pw.metadata.options = {\n",
    "    'max_wallclock_seconds': 2*60*60, # in seconds\n",
    "    'resources': {\n",
    "            \"num_machines\": 1, # nodes\n",
    "            \"num_mpiprocs_per_machine\": 16, # MPI per nodes\n",
    "            \"num_cores_per_mpiproc\": 1, # OPENMP\n",
    "        },\n",
    "    'prepend_text': u\"export OMP_NUM_THREADS=\"+str(1), # if needed\n",
    "    #'account':'project_name',\n",
    "    'queue_name':'s3par',\n",
    "    #'qos':'',\n",
    "}\n",
    "\n",
    "builder.ywfl.nscf.pw.metadata.options = builder.ywfl.scf.pw.metadata.options\n",
    "builder.ywfl.yres.yambo.metadata.options = builder.ywfl.scf.pw.metadata.options"
   ]
  },
  {
   "cell_type": "markdown",
   "metadata": {},
   "source": [
    "## 3 - Overrides\n",
    "\n",
    "It is possible to modify the default inputs also during the builder creation phase, so not a posteriori. This can be done by using overrides:"
   ]
  },
  {
   "cell_type": "code",
   "execution_count": 20,
   "metadata": {},
   "outputs": [],
   "source": [
    "overrides_scf = {\n",
    "        'pseudo_family': \"PseudoDojo/0.4/PBE/SR/standard/upf\", \n",
    "        'pw':{\n",
    "            \n",
    "        'metadata':{\n",
    "                    'options':{\n",
    "                    'max_wallclock_seconds': 60*60, # in seconds\n",
    "                    'resources': {\n",
    "                            \"num_machines\": 1, # nodes\n",
    "                            \"num_mpiprocs_per_machine\": 16, # MPI per nodes\n",
    "                            \"num_cores_per_mpiproc\": 1, # OPENMP\n",
    "                        },\n",
    "                    'prepend_text': u\"export OMP_NUM_THREADS=\"+str(1), # if needed\n",
    "                    #'account':'project_name',\n",
    "                    'queue_name':'s3par',\n",
    "                    #'qos':'',\n",
    "                                    },\n",
    "        },\n",
    "        },\n",
    "    }\n",
    "\n",
    "overrides_nscf = {\n",
    "        'pseudo_family': \"PseudoDojo/0.4/PBE/SR/standard/upf\", \n",
    "        'pw': {\n",
    "            'parameters':{\n",
    "                'CONTROL':{}, #not needed if you don't override something\n",
    "                'SYSTEM':{},\n",
    "                'ELECTRONS':{'diagonalization':'cg'},\n",
    "            },\n",
    "             'metadata':{\n",
    "                    'options':{\n",
    "                    'max_wallclock_seconds': 60*60, # in seconds\n",
    "                    'resources': {\n",
    "                            \"num_machines\": 1, # nodes\n",
    "                            \"num_mpiprocs_per_machine\": 16, # MPI per nodes\n",
    "                            \"num_cores_per_mpiproc\": 1, # OPENMP\n",
    "                        },\n",
    "                    'prepend_text': u\"export OMP_NUM_THREADS=\"+str(1), # if needed\n",
    "                    #'account':'project_name',\n",
    "                    'queue_name':'s3par',\n",
    "                    #'qos':'',\n",
    "                                    },\n",
    "        },\n",
    "    },\n",
    "}\n",
    "\n",
    "overrides_yambo = {\n",
    "        \"yambo\": {\n",
    "            \"parameters\": {\n",
    "                \"arguments\": [\n",
    "                    \"rim_cut\",\n",
    "                ],\n",
    "                \"variables\": {\n",
    "                    \"NGsBlkXp\": [4, \"Ry\"],\n",
    "                    \"FFTGvecs\": [20, \"Ry\"],\n",
    "                },\n",
    "            },\n",
    "        'metadata':{\n",
    "                    'options':{\n",
    "                    'max_wallclock_seconds': 60*60, # in seconds\n",
    "                    'resources': {\n",
    "                            \"num_machines\": 1, # nodes\n",
    "                            \"num_mpiprocs_per_machine\": 16, # MPI per nodes\n",
    "                            \"num_cores_per_mpiproc\": 1, # OPENMP\n",
    "                        },\n",
    "                    'prepend_text': u\"export OMP_NUM_THREADS=\"+str(1), # if needed, i.e. in PBS/Torque \n",
    "                    #'account':'project_name',\n",
    "                    'queue_name':'s3par',\n",
    "                    #'qos':'',\n",
    "                                    },\n",
    "                    },\n",
    "        },\n",
    "    \n",
    "}\n",
    "\n",
    "#Be careful with the mesh choice!!! \n",
    "overrides_meta = {\n",
    "        'FFTGvecs': {\n",
    "            'start_ratio': 0.25,\n",
    "            'stop_ratio': 0.7,\n",
    "            'delta_ratio': 0.1,\n",
    "            'max_ratio': 1,\n",
    "        },\n",
    "        'bands': {\n",
    "            'start': 50,\n",
    "            'stop': 400,\n",
    "            'delta': 50,\n",
    "            'max': 600,\n",
    "            'ratio':[10,25,50],\n",
    "        },\n",
    "        'G_vectors': {\n",
    "            'start': 2,\n",
    "            'stop': 8,\n",
    "            'delta': 1,\n",
    "            'max': 10,\n",
    "        },\n",
    "        'kpoint_density': {\n",
    "            'start': 0.8,\n",
    "            'stop': 0.2,\n",
    "            'delta': 3,\n",
    "            'max': 0.1,\n",
    "        } ,\n",
    "        'conv_thr_k': 10,\n",
    "        'conv_thr_bG': 10,\n",
    "        'conv_thr_FFT': 10,\n",
    "        'conv_thr_units': '%', # 'eV'\n",
    "\n",
    "        \n",
    "    }\n",
    "\n",
    "        \n",
    "overrides_wfl_settings = {\n",
    "        \n",
    "        'what':['gap_'],\n",
    "        'bands_nscf_update':'full-step',\n",
    "        'skip_pre':False,   \n",
    "        'type': 'heavy', #or cheap; heavy uses converged value for parameters that we are not converging in a given iteration.\n",
    "        \n",
    "    }\n",
    "\n",
    "overrides = {\n",
    "        'meta_parameters':overrides_meta,\n",
    "        'ywfl':{'scf':overrides_scf,'nscf':overrides_nscf,'yres':overrides_yambo},\n",
    "        'workflow_settings':overrides_wfl_settings,\n",
    "    }\n"
   ]
  },
  {
   "cell_type": "code",
   "execution_count": 21,
   "metadata": {},
   "outputs": [
    {
     "name": "stdout",
     "output_type": "stream",
     "text": [
      "Summary of the main inputs:\n",
      "BndsRnXp = 200\n",
      "GbndRnge = 200\n",
      "NGsBlkXp = 4 Ry\n",
      "FFTGvecs = 20 Ry\n",
      "\n",
      "\n",
      "kpoint mesh for nscf: [6, 6, 2]\n"
     ]
    },
    {
     "name": "stderr",
     "output_type": "stream",
     "text": [
      "/scratch/mbonacci/mambaforge/envs/minitutorial/lib/python3.10/site-packages/aiida_quantumespresso/calculations/pw.py:209: UserWarning: `parent_folder` not provided for `nscf` calculation. For work chains wrapping this calculation, you can disable this warning by setting the validator of the `PwCalculation` port to `PwCalculation.validate_inputs_base`.\n",
      "  warnings.warn(\n"
     ]
    }
   ],
   "source": [
    "builder = YamboConvergence.get_builder_from_protocol(\n",
    "            pw_code = options['pwcode_id'],\n",
    "            preprocessing_code = options['yamboprecode_id'],\n",
    "            code = options['yambocode_id'],\n",
    "            protocol=options['protocol'],\n",
    "            protocol_qe=options['protocol'],\n",
    "            structure= orm.load_node(options['structure_id']),\n",
    "            overrides=overrides,\n",
    "            #parent_folder=load_node(options['parent_id']).outputs.remote_folder,\n",
    "            electronic_type=ElectronicType.INSULATOR, #default is METAL: smearing is used\n",
    "            calc_type='gw', #or 'bse'; default is 'gw'\n",
    ")\n",
    "\n",
    "family = orm.load_group(\"PseudoDojo/0.4/PBE/SR/standard/upf\")\n",
    "#builder.<sublevels_up_to .pw>.pseudos = family.get_pseudos(structure=structure) \n",
    "builder.ywfl.scf.pw.pseudos = family.get_pseudos(structure=orm.load_node(161)) \n",
    "builder.ywfl.nscf.pw.pseudos = family.get_pseudos(structure=orm.load_node(161)) "
   ]
  },
  {
   "cell_type": "markdown",
   "metadata": {},
   "source": [
    "## spiega che fai il gruppo cos' hai tutto li, tipo caching ma in realtà non duplichi... per yambo é importante:\n",
    "- non hai problemi con cleaned remote\n",
    "- dati pesanti tipo ndb.QP"
   ]
  },
  {
   "cell_type": "code",
   "execution_count": 37,
   "metadata": {},
   "outputs": [],
   "source": [
    "try:\n",
    "    g = orm.load_group('tutorial/hBN/convergence')\n",
    "except:\n",
    "    g = orm.Group('tutorial/hBN/convergence')\n",
    "    g.store()"
   ]
  },
  {
   "cell_type": "code",
   "execution_count": 38,
   "metadata": {},
   "outputs": [],
   "source": [
    "builder.group_label = orm.Str('tutorial/hBN/convergence') # verdi group create tutorial/hBN/convergence; all calculationsc are added to the group"
   ]
  },
  {
   "cell_type": "code",
   "execution_count": 39,
   "metadata": {},
   "outputs": [
    {
     "data": {
      "text/plain": [
       "{'options': {'stash': {}, 'resources': {'num_machines': 1, 'num_mpiprocs_per_machine': 16, 'num_cores_per_mpiproc': 1}, 'max_wallclock_seconds': 3600, 'withmpi': True, 'prepend_text': 'export OMP_NUM_THREADS=1', 'queue_name': 's3par'}}"
      ]
     },
     "execution_count": 39,
     "metadata": {},
     "output_type": "execute_result"
    }
   ],
   "source": [
    "builder.ywfl.scf.pw.metadata"
   ]
  },
  {
   "cell_type": "markdown",
   "metadata": {},
   "source": [
    "## 3 RUN"
   ]
  },
  {
   "cell_type": "code",
   "execution_count": 40,
   "metadata": {},
   "outputs": [],
   "source": [
    "from aiida.engine import submit"
   ]
  },
  {
   "cell_type": "code",
   "execution_count": 41,
   "metadata": {},
   "outputs": [],
   "source": [
    "run = None"
   ]
  },
  {
   "cell_type": "code",
   "execution_count": 42,
   "metadata": {},
   "outputs": [
    {
     "name": "stderr",
     "output_type": "stream",
     "text": [
      "/scratch/mbonacci/mambaforge/envs/minitutorial/lib/python3.10/site-packages/aiida_quantumespresso/calculations/pw.py:209: UserWarning: `parent_folder` not provided for `nscf` calculation. For work chains wrapping this calculation, you can disable this warning by setting the validator of the `PwCalculation` port to `PwCalculation.validate_inputs_base`.\n",
      "  warnings.warn(\n"
     ]
    },
    {
     "name": "stdout",
     "output_type": "stream",
     "text": [
      "uuid: 389cac70-76f2-470b-bcad-8148d34a7b3a (pk: 442) (aiida.workflows:yambo.yambo.yamboconvergence)\n"
     ]
    }
   ],
   "source": [
    "if run:\n",
    "    print('run is already running -> {}'.format(run.pk))\n",
    "    print('sure that you want to run again?, if so, copy the else instruction in the cell below and run!')\n",
    "else:\n",
    "    run = submit(builder)\n",
    "\n",
    "print(run)"
   ]
  },
  {
   "cell_type": "markdown",
   "metadata": {},
   "source": [
    "## Inspecting the workflow\n",
    "\n",
    "report, e mostra che fa prima le bande..."
   ]
  },
  {
   "cell_type": "code",
   "execution_count": 45,
   "metadata": {},
   "outputs": [
    {
     "name": "stdout",
     "output_type": "stream",
     "text": [
      "\u001b[22m2023-11-19 09:29:23 [59  | REPORT]: [442|YamboConvergence|start_workflow]: group: tutorial/hBN/convergence\n",
      "2023-11-19 09:29:23 [60  | REPORT]: [442|YamboConvergence|start_workflow]: Workflow type: heavy; looking for convergence of ['gap_']\n",
      "2023-11-19 09:29:23 [61  | REPORT]: [442|YamboConvergence|start_workflow]: Workflow initilization step completed, the parameters will be: ['FFTGvecs'].\n",
      "2023-11-19 09:29:23 [62  | REPORT]: [442|YamboConvergence|has_to_continue]: Still iteration on ['FFTGvecs']\n",
      "2023-11-19 09:29:23 [63  | REPORT]: [442|YamboConvergence|pre_needed]: {'FFTGvecs': [21, 37, 45, 58], 'kpoint_mesh': [[4, 4, 2], [7, 7, 2], [13, 13, 5], [16, 16, 6]], 'BndsRnXp': [80, 400, 80, 180, 280, 400], 'NGsBlkXp': [2, 2, 8, 6, 4, 8], 'GbndRnge': [80, 400, 80, 180, 280, 400]}\n",
      "2023-11-19 09:29:23 [64  | REPORT]: [442|YamboConvergence|pre_needed]: ['GW bands are: 200', 'scf inputs found', 'nscf inputs found']\n",
      "2023-11-19 09:29:23 [65  | REPORT]: [442|YamboConvergence|do_pre]: mesh check\n",
      "2023-11-19 09:29:24 [66  | REPORT]: [442|YamboConvergence|do_pre]: doing the calculation: p2y\n",
      "2023-11-19 09:29:25 [67  | REPORT]: [442|YamboConvergence|do_pre]: Submitted YamboWorkflow up to p2y, pk = 447\n",
      "2023-11-19 09:29:26 [68  | REPORT]:   [447|YamboWorkflow|start_workflow]: no previous pw calculation found, we will start from scratch\n",
      "2023-11-19 09:29:26 [69  | REPORT]:   [447|YamboWorkflow|start_workflow]:  workflow initilization step completed.\n",
      "2023-11-19 09:29:27 [70  | REPORT]:   [447|YamboWorkflow|can_continue]: the workflow continues with a scf calculation\n",
      "2023-11-19 09:29:27 [71  | REPORT]:   [447|YamboWorkflow|perform_next]: performing a scf calculation\n",
      "2023-11-19 09:29:29 [72  | REPORT]:     [449|PwBaseWorkChain|run_process]: launching PwCalculation<454> iteration #1\n",
      "2023-11-19 09:31:36 [73  | REPORT]:     [449|PwBaseWorkChain|results]: work chain completed after 1 iterations\n",
      "2023-11-19 09:31:36 [74  | REPORT]:     [449|PwBaseWorkChain|on_terminated]: remote folders will not be cleaned\n",
      "2023-11-19 09:31:37 [75  | REPORT]:   [447|YamboWorkflow|can_continue]: the workflow continues with a nscf calculation\n",
      "2023-11-19 09:31:37 [76  | REPORT]:   [447|YamboWorkflow|perform_next]: performing a nscf calculation\n",
      "2023-11-19 09:31:39 [77  | REPORT]:     [460|PwBaseWorkChain|run_process]: launching PwCalculation<463> iteration #1\n",
      "2023-11-19 09:33:48 [79  | REPORT]:     [460|PwBaseWorkChain|results]: work chain completed after 1 iterations\n",
      "2023-11-19 09:33:49 [80  | REPORT]:     [460|PwBaseWorkChain|on_terminated]: remote folders will not be cleaned\n",
      "2023-11-19 09:33:49 [81  | REPORT]:   [447|YamboWorkflow|can_continue]: the workflow continues with a yambo calculation\n",
      "2023-11-19 09:33:49 [82  | REPORT]:   [447|YamboWorkflow|perform_next]: performing a yambo calculation\n",
      "2023-11-19 09:33:51 [83  | REPORT]:     [469|YamboRestart|run_process]: launching YamboCalculation<470> iteration #1\n",
      "2023-11-19 09:36:05 [84  | REPORT]:     [469|YamboRestart|results]: work chain completed after 1 iterations\n",
      "2023-11-19 09:36:05 [85  | REPORT]:     [469|YamboRestart|on_terminated]: remote folders will not be cleaned\n",
      "2023-11-19 09:36:05 [86  | REPORT]:   [447|YamboWorkflow|can_continue]: workflow is finished\n",
      "2023-11-19 09:36:06 [87  | REPORT]:   [447|YamboWorkflow|post_processing_needed]: no post processing needed\n",
      "2023-11-19 09:36:06 [88  | REPORT]:   [447|YamboWorkflow|report_wf]: workflow completed successfully\n",
      "2023-11-19 09:36:07 [89  | REPORT]: [442|YamboConvergence|prepare_calculations]: setting the pre calc remote folder 471 as parent\n",
      "2023-11-19 09:36:08 [90  | REPORT]: [442|YamboConvergence|next_step]: New parameters are: {'FFTGvecs': 21}\n",
      "2023-11-19 09:36:11 [91  | REPORT]: [442|YamboConvergence|next_step]: New parameters are: {'FFTGvecs': 37}\n",
      "2023-11-19 09:36:14 [92  | REPORT]: [442|YamboConvergence|next_step]: New parameters are: {'FFTGvecs': 45}\n",
      "2023-11-19 09:36:18 [93  | REPORT]: [442|YamboConvergence|next_step]: New parameters are: {'FFTGvecs': 58}\n",
      "2023-11-19 09:36:22 [94  | REPORT]:   [475|YamboWorkflow|start_workflow]:  workflow initilization step completed.\n",
      "2023-11-19 09:36:22 [95  | REPORT]:   [475|YamboWorkflow|can_continue]: the workflow continues with a yambo calculation\n",
      "2023-11-19 09:36:22 [96  | REPORT]:   [475|YamboWorkflow|perform_next]: performing a yambo calculation\n",
      "2023-11-19 09:36:22 [97  | REPORT]:   [475|YamboWorkflow|perform_next]: updating yambo parameters to parse more results\n",
      "2023-11-19 09:36:22 [98  | REPORT]:   [475|YamboWorkflow|perform_next]: {'dft_predicted': 'semiconductor/insulator', 'valence': 8, 'conduction': 9, 'number_of_kpoints': 8, 'nscf_gap_eV': 4.654, 'homo_k': 5, 'lumo_k': 5, 'gap_type': 'direct', 'gap_': [[5, 5, 8, 8], [5, 5, 9, 9]], 'soc': False, 'spin-resolved': False}\n",
      "2023-11-19 09:36:25 [99  | REPORT]:   [477|YamboWorkflow|start_workflow]:  workflow initilization step completed.\n",
      "2023-11-19 09:36:25 [100 | REPORT]:   [477|YamboWorkflow|can_continue]: the workflow continues with a yambo calculation\n",
      "2023-11-19 09:36:25 [101 | REPORT]:   [477|YamboWorkflow|perform_next]: performing a yambo calculation\n",
      "2023-11-19 09:36:25 [102 | REPORT]:   [477|YamboWorkflow|perform_next]: updating yambo parameters to parse more results\n",
      "2023-11-19 09:36:25 [103 | REPORT]:   [477|YamboWorkflow|perform_next]: {'dft_predicted': 'semiconductor/insulator', 'valence': 8, 'conduction': 9, 'number_of_kpoints': 8, 'nscf_gap_eV': 4.654, 'homo_k': 5, 'lumo_k': 5, 'gap_type': 'direct', 'gap_': [[5, 5, 8, 8], [5, 5, 9, 9]], 'soc': False, 'spin-resolved': False}\n",
      "2023-11-19 09:36:28 [104 | REPORT]:   [479|YamboWorkflow|start_workflow]:  workflow initilization step completed.\n",
      "2023-11-19 09:36:28 [105 | REPORT]:   [479|YamboWorkflow|can_continue]: the workflow continues with a yambo calculation\n",
      "2023-11-19 09:36:28 [106 | REPORT]:   [479|YamboWorkflow|perform_next]: performing a yambo calculation\n",
      "2023-11-19 09:36:28 [107 | REPORT]:   [479|YamboWorkflow|perform_next]: updating yambo parameters to parse more results\n",
      "2023-11-19 09:36:28 [108 | REPORT]:   [479|YamboWorkflow|perform_next]: {'dft_predicted': 'semiconductor/insulator', 'valence': 8, 'conduction': 9, 'number_of_kpoints': 8, 'nscf_gap_eV': 4.654, 'homo_k': 5, 'lumo_k': 5, 'gap_type': 'direct', 'gap_': [[5, 5, 8, 8], [5, 5, 9, 9]], 'soc': False, 'spin-resolved': False}\n",
      "2023-11-19 09:36:31 [109 | REPORT]:   [481|YamboWorkflow|start_workflow]:  workflow initilization step completed.\n",
      "2023-11-19 09:36:31 [110 | REPORT]:   [481|YamboWorkflow|can_continue]: the workflow continues with a yambo calculation\n",
      "2023-11-19 09:36:31 [111 | REPORT]:   [481|YamboWorkflow|perform_next]: performing a yambo calculation\n",
      "2023-11-19 09:36:31 [112 | REPORT]:   [481|YamboWorkflow|perform_next]: updating yambo parameters to parse more results\n",
      "2023-11-19 09:36:31 [113 | REPORT]:   [481|YamboWorkflow|perform_next]: {'dft_predicted': 'semiconductor/insulator', 'valence': 8, 'conduction': 9, 'number_of_kpoints': 8, 'nscf_gap_eV': 4.654, 'homo_k': 5, 'lumo_k': 5, 'gap_type': 'direct', 'gap_': [[5, 5, 8, 8], [5, 5, 9, 9]], 'soc': False, 'spin-resolved': False}\n",
      "2023-11-19 09:36:34 [114 | REPORT]:     [483|YamboRestart|run_process]: launching YamboCalculation<490> iteration #1\n",
      "2023-11-19 09:36:35 [115 | REPORT]:     [485|YamboRestart|run_process]: launching YamboCalculation<491> iteration #1\n",
      "2023-11-19 09:36:37 [116 | REPORT]:     [487|YamboRestart|run_process]: launching YamboCalculation<492> iteration #1\n",
      "2023-11-19 09:36:39 [117 | REPORT]:     [489|YamboRestart|run_process]: launching YamboCalculation<493> iteration #1\n",
      "2023-11-19 09:39:00 [118 | REPORT]:     [483|YamboRestart|results]: work chain completed after 1 iterations\n",
      "2023-11-19 09:39:00 [119 | REPORT]:     [483|YamboRestart|on_terminated]: remote folders will not be cleaned\n",
      "2023-11-19 09:39:01 [120 | REPORT]:     [485|YamboRestart|results]: work chain completed after 1 iterations\n",
      "2023-11-19 09:39:01 [121 | REPORT]:     [485|YamboRestart|on_terminated]: remote folders will not be cleaned\n",
      "2023-11-19 09:39:02 [122 | REPORT]:     [487|YamboRestart|results]: work chain completed after 1 iterations\n",
      "2023-11-19 09:39:02 [123 | REPORT]:     [487|YamboRestart|on_terminated]: remote folders will not be cleaned\n",
      "2023-11-19 09:39:03 [124 | REPORT]:     [489|YamboRestart|results]: work chain completed after 1 iterations\n",
      "2023-11-19 09:39:03 [125 | REPORT]:     [489|YamboRestart|on_terminated]: remote folders will not be cleaned\n",
      "2023-11-19 09:39:04 [126 | REPORT]:   [475|YamboWorkflow|can_continue]: workflow is finished\n",
      "2023-11-19 09:39:04 [127 | REPORT]:   [475|YamboWorkflow|post_processing_needed]: no post processing needed\n",
      "2023-11-19 09:39:05 [128 | REPORT]:   [475|YamboWorkflow|report_wf]: PARSED: {'gap_': 5.879029734566063, 'homo': -0.3185668113611639, 'lumo': 5.560462923204899, 'gap_dft': 4.6536960928082465, 'homo_dft': 0.0, 'lumo_dft': 4.6536960928082465}\n",
      "2023-11-19 09:39:05 [129 | REPORT]:   [475|YamboWorkflow|report_wf]: workflow completed successfully\n",
      "2023-11-19 09:39:05 [130 | REPORT]:   [477|YamboWorkflow|can_continue]: workflow is finished\n",
      "2023-11-19 09:39:06 [131 | REPORT]:   [477|YamboWorkflow|post_processing_needed]: no post processing needed\n",
      "2023-11-19 09:39:07 [132 | REPORT]:   [477|YamboWorkflow|report_wf]: PARSED: {'gap_': 5.865917908751406, 'homo': -0.3506191322321072, 'lumo': 5.515298776519299, 'gap_dft': 4.6536960928082465, 'homo_dft': 0.0, 'lumo_dft': 4.6536960928082465}\n",
      "2023-11-19 09:39:07 [133 | REPORT]:   [477|YamboWorkflow|report_wf]: workflow completed successfully\n",
      "2023-11-19 09:39:07 [134 | REPORT]:   [479|YamboWorkflow|can_continue]: workflow is finished\n",
      "2023-11-19 09:39:08 [135 | REPORT]:   [479|YamboWorkflow|post_processing_needed]: no post processing needed\n",
      "2023-11-19 09:39:08 [136 | REPORT]:   [479|YamboWorkflow|report_wf]: PARSED: {'gap_': 5.865276741196402, 'homo': -0.3523711162405089, 'lumo': 5.512905624955893, 'gap_dft': 4.6536960928082465, 'homo_dft': 0.0, 'lumo_dft': 4.6536960928082465}\n",
      "2023-11-19 09:39:08 [137 | REPORT]:   [479|YamboWorkflow|report_wf]: workflow completed successfully\n",
      "2023-11-19 09:39:09 [138 | REPORT]:   [481|YamboWorkflow|can_continue]: workflow is finished\n",
      "2023-11-19 09:39:09 [139 | REPORT]:   [481|YamboWorkflow|post_processing_needed]: no post processing needed\n",
      "2023-11-19 09:39:10 [140 | REPORT]:   [481|YamboWorkflow|report_wf]: PARSED: {'gap_': 5.859446728797443, 'homo': -0.35334629914630206, 'lumo': 5.506100429651141, 'gap_dft': 4.6536960928082465, 'homo_dft': 0.0, 'lumo_dft': 4.6536960928082465}\n",
      "2023-11-19 09:39:10 [141 | REPORT]:   [481|YamboWorkflow|report_wf]: workflow completed successfully\n",
      "2023-11-19 09:39:11 [142 | REPORT]: [442|YamboConvergence|data_analysis]: Data analysis, we will try to parse some result and decide what next.\n",
      "2023-11-19 09:39:12 [143 | REPORT]: [442|YamboConvergence|data_analysis]:    FFTGvecs kpoint_mesh  ...      gap_                                  uuid\n",
      "0        21   [4, 4, 2]  ...  5.879030  e599d05f-07a3-4ab5-9256-ac1bbbe88e89\n",
      "1        37   [4, 4, 2]  ...  5.865918  a36714a5-9b99-40dc-abb7-aa53472f97cc\n",
      "2        45   [4, 4, 2]  ...  5.865277  9a033a7b-54e6-409c-8b35-bfe627dada4a\n",
      "3        58   [4, 4, 2]  ...  5.859447  64455883-6bb4-41c5-8951-a6b6ff0db1d4\n",
      "\n",
      "[4 rows x 7 columns]\n",
      "2023-11-19 09:39:12 [144 | REPORT]: [442|YamboConvergence|data_analysis]: results ['gap_']\n",
      ":{'gap_': array([5.87902973, 5.86591791, 5.86527674, 5.85944673])}\n",
      "2023-11-19 09:39:12 [145 | REPORT]: [442|YamboConvergence|data_analysis]: HINTS: {'FFTGvecs': 21, 'gap_': 5.8790297345661, 'already_computed': True, 'E_ref': 5.853158874148575, 'new_grid': False, 'extrapolation': 5.847349211358431, 'extrapolation_units': 'eV'}\n",
      "2023-11-19 09:39:12 [146 | REPORT]: [442|YamboConvergence|data_analysis]: Success, updating the history... \n",
      "2023-11-19 09:39:13 [147 | REPORT]: [442|YamboConvergence|data_analysis]: Success on ['FFTGvecs'] reached in 4 calculations, the result is [[5.87902973]]\n",
      "2023-11-19 09:39:13 [148 | REPORT]: [442|YamboConvergence|data_analysis]: {'type': 'heavy', 'what': ['gap_'], 'skip_pre': False, 'max': 84, 'var': ['FFTGvecs'], 'stop': 58, 'delta': 8, 'start': 21, 'iter': 1, 'G_iter': 1, 'success': True, 'skipped': 0, 'conv_thr': 10, 'conv_thr_units': '%', 'ratio': 1.2, 'max_iterations': 4, 'steps': 4, 'conv_window': 4, 'functional_form': 'power_law', 'convergence_algorithm': 'new_algorithm_1D', 'thr_fx': 5e-05}\n",
      "2023-11-19 09:39:13 [149 | REPORT]: [442|YamboConvergence|data_analysis]: {'FFTGvecs': 21, 'gap_': 5.8790297345661, 'already_computed': True, 'E_ref': 5.853158874148575, 'new_grid': False, 'extrapolation_units': 'eV'}\n",
      "2023-11-19 09:39:13 [150 | REPORT]: [442|YamboConvergence|has_to_continue]: Next parameters: ['kpoint_mesh']\n",
      "2023-11-19 09:39:13 [151 | REPORT]: [442|YamboConvergence|has_to_continue]: Mode is \"heavy\", so we mantain the other parameters as the converged ones, if any.\n",
      "2023-11-19 09:39:13 [152 | REPORT]: [442|YamboConvergence|pre_needed]: {'FFTGvecs': [21], 'kpoint_mesh': [[4, 4, 2], [7, 7, 2], [13, 13, 5], [16, 16, 6]], 'BndsRnXp': [80, 400, 80, 180, 280, 400], 'NGsBlkXp': [2, 2, 8, 6, 4, 8], 'GbndRnge': [80, 400, 80, 180, 280, 400]}\n",
      "2023-11-19 09:39:14 [153 | REPORT]: [442|YamboConvergence|next_step]: New parameters are: {'kpoint_mesh': [4, 4, 2]}\n",
      "2023-11-19 09:39:14 [154 | REPORT]: [442|YamboConvergence|next_step]: Calculation already done: 475\n",
      "2023-11-19 09:39:21 [155 | REPORT]: [442|YamboConvergence|next_step]: New parameters are: {'kpoint_mesh': [7, 7, 2]}\n",
      "2023-11-19 09:39:30 [156 | REPORT]: [442|YamboConvergence|next_step]: New parameters are: {'kpoint_mesh': [13, 13, 5]}\n",
      "2023-11-19 09:39:40 [157 | REPORT]: [442|YamboConvergence|next_step]: New parameters are: {'kpoint_mesh': [16, 16, 6]}\n",
      "2023-11-19 09:39:44 [158 | REPORT]:   [524|YamboWorkflow|start_workflow]:  workflow initilization step completed.\n",
      "2023-11-19 09:39:44 [159 | REPORT]:   [524|YamboWorkflow|can_continue]: the workflow continues with a nscf calculation\n",
      "2023-11-19 09:39:44 [160 | REPORT]:   [524|YamboWorkflow|perform_next]: performing a nscf calculation\n",
      "2023-11-19 09:39:46 [161 | REPORT]:   [527|YamboWorkflow|start_workflow]:  workflow initilization step completed.\n",
      "2023-11-19 09:39:47 [162 | REPORT]:   [527|YamboWorkflow|can_continue]: the workflow continues with a nscf calculation\n",
      "2023-11-19 09:39:47 [163 | REPORT]:   [527|YamboWorkflow|perform_next]: performing a nscf calculation\n",
      "2023-11-19 09:39:49 [164 | REPORT]:   [530|YamboWorkflow|start_workflow]:  workflow initilization step completed.\n",
      "2023-11-19 09:39:49 [165 | REPORT]:   [530|YamboWorkflow|can_continue]: the workflow continues with a nscf calculation\n",
      "2023-11-19 09:39:49 [166 | REPORT]:   [530|YamboWorkflow|perform_next]: performing a nscf calculation\n",
      "2023-11-19 09:39:51 [167 | REPORT]:     [531|PwBaseWorkChain|run_process]: launching PwCalculation<536> iteration #1\n",
      "2023-11-19 09:39:53 [168 | REPORT]:     [532|PwBaseWorkChain|run_process]: launching PwCalculation<539> iteration #1\n",
      "2023-11-19 09:39:54 [169 | REPORT]:     [533|PwBaseWorkChain|run_process]: launching PwCalculation<542> iteration #1\n",
      "2023-11-19 09:42:54 [171 | REPORT]:     [531|PwBaseWorkChain|results]: work chain completed after 1 iterations\n",
      "2023-11-19 09:42:55 [172 | REPORT]:     [531|PwBaseWorkChain|on_terminated]: remote folders will not be cleaned\n",
      "2023-11-19 09:42:55 [173 | REPORT]:   [524|YamboWorkflow|can_continue]: the workflow continues with a yambo calculation\n",
      "2023-11-19 09:42:55 [174 | REPORT]:   [524|YamboWorkflow|perform_next]: performing a yambo calculation\n",
      "2023-11-19 09:42:55 [175 | REPORT]:   [524|YamboWorkflow|perform_next]: updating yambo parameters to parse more results\n",
      "2023-11-19 09:42:55 [176 | REPORT]:   [524|YamboWorkflow|perform_next]: {'dft_predicted': 'semiconductor/insulator', 'valence': 8, 'conduction': 9, 'number_of_kpoints': 16, 'nscf_gap_eV': 4.463, 'homo_k': 15, 'lumo_k': 13, 'gap_type': 'indirect', 'gap_': [[15, 15, 8, 8], [13, 13, 9, 9]], 'soc': False, 'spin-resolved': False}\n",
      "2023-11-19 09:42:58 [177 | REPORT]:     [551|YamboRestart|run_process]: launching YamboCalculation<552> iteration #1\n",
      "2023-11-19 09:46:46 [179 | REPORT]:     [532|PwBaseWorkChain|results]: work chain completed after 1 iterations\n",
      "2023-11-19 09:46:46 [180 | REPORT]:     [532|PwBaseWorkChain|on_terminated]: remote folders will not be cleaned\n",
      "2023-11-19 09:46:46 [181 | REPORT]:   [527|YamboWorkflow|can_continue]: the workflow continues with a yambo calculation\n",
      "2023-11-19 09:46:46 [182 | REPORT]:   [527|YamboWorkflow|perform_next]: performing a yambo calculation\n",
      "2023-11-19 09:46:46 [183 | REPORT]:   [527|YamboWorkflow|perform_next]: updating yambo parameters to parse more results\n",
      "2023-11-19 09:46:47 [184 | REPORT]:   [527|YamboWorkflow|perform_next]: {'dft_predicted': 'semiconductor/insulator', 'valence': 8, 'conduction': 9, 'number_of_kpoints': 63, 'nscf_gap_eV': 4.298, 'homo_k': 61, 'lumo_k': 37, 'gap_type': 'indirect', 'gap_': [[61, 61, 8, 8], [37, 37, 9, 9]], 'soc': False, 'spin-resolved': False}\n",
      "2023-11-19 09:46:49 [185 | REPORT]:     [559|YamboRestart|run_process]: launching YamboCalculation<560> iteration #1\n",
      "2023-11-19 09:53:47 [187 | REPORT]:     [551|YamboRestart|results]: work chain completed after 1 iterations\n",
      "2023-11-19 09:53:47 [188 | REPORT]:     [551|YamboRestart|on_terminated]: remote folders will not be cleaned\n",
      "2023-11-19 09:53:48 [189 | REPORT]:     [533|PwBaseWorkChain|results]: work chain completed after 1 iterations\n",
      "2023-11-19 09:53:48 [190 | REPORT]:     [533|PwBaseWorkChain|on_terminated]: remote folders will not be cleaned\n",
      "2023-11-19 09:53:49 [191 | REPORT]:   [524|YamboWorkflow|can_continue]: workflow is finished\n",
      "2023-11-19 09:53:49 [192 | REPORT]:   [524|YamboWorkflow|post_processing_needed]: no post processing needed\n",
      "2023-11-19 09:53:50 [193 | REPORT]:   [524|YamboWorkflow|report_wf]: PARSED: {'gap_': 5.566767627677881, 'homo': -0.21841327144559475, 'lumo': 5.348354356232286, 'gap_dft': 4.462906929919124, 'homo_dft': 0.0, 'lumo_dft': 4.462906929919124}\n",
      "2023-11-19 09:53:50 [194 | REPORT]:   [524|YamboWorkflow|report_wf]: workflow completed successfully\n",
      "2023-11-19 09:53:50 [195 | REPORT]:   [530|YamboWorkflow|can_continue]: the workflow continues with a yambo calculation\n",
      "2023-11-19 09:53:50 [196 | REPORT]:   [530|YamboWorkflow|perform_next]: performing a yambo calculation\n",
      "2023-11-19 09:53:50 [197 | REPORT]:   [530|YamboWorkflow|perform_next]: updating yambo parameters to parse more results\n",
      "2023-11-19 09:53:51 [198 | REPORT]:   [530|YamboWorkflow|perform_next]: {'dft_predicted': 'semiconductor/insulator', 'valence': 8, 'conduction': 9, 'number_of_kpoints': 120, 'nscf_gap_eV': 4.251, 'homo_k': 117, 'lumo_k': 33, 'gap_type': 'indirect', 'gap_': [[117, 117, 8, 8], [33, 33, 9, 9]], 'soc': False, 'spin-resolved': False}\n",
      "2023-11-19 09:53:53 [199 | REPORT]:     [573|YamboRestart|run_process]: launching YamboCalculation<574> iteration #1\n",
      "2023-11-19 09:58:32 [200 | REPORT]:     [559|YamboRestart|results]: work chain completed after 1 iterations\n",
      "2023-11-19 09:58:33 [201 | REPORT]:     [559|YamboRestart|on_terminated]: remote folders will not be cleaned\n",
      "2023-11-19 09:58:33 [202 | REPORT]:   [527|YamboWorkflow|can_continue]: workflow is finished\n",
      "2023-11-19 09:58:33 [203 | REPORT]:   [527|YamboWorkflow|post_processing_needed]: no post processing needed\n",
      "2023-11-19 09:58:34 [204 | REPORT]:   [527|YamboWorkflow|report_wf]: PARSED: {'gap_': 5.444811881975644, 'homo': -0.338188135127537, 'lumo': 5.106623746848107, 'gap_dft': 4.2976809400498865, 'homo_dft': 0.0, 'lumo_dft': 4.2976809400498865}\n",
      "2023-11-19 09:58:34 [205 | REPORT]:   [527|YamboWorkflow|report_wf]: workflow completed successfully\n",
      "2023-11-19 10:13:55 [206 | REPORT]:     [573|YamboRestart|results]: work chain completed after 1 iterations\n",
      "2023-11-19 10:13:56 [207 | REPORT]:     [573|YamboRestart|on_terminated]: remote folders will not be cleaned\n",
      "2023-11-19 10:13:56 [208 | REPORT]:   [530|YamboWorkflow|can_continue]: workflow is finished\n",
      "2023-11-19 10:13:56 [209 | REPORT]:   [530|YamboWorkflow|post_processing_needed]: no post processing needed\n",
      "2023-11-19 10:13:57 [210 | REPORT]:   [530|YamboWorkflow|report_wf]: PARSED: {'gap_': 5.394929933186993, 'homo': -0.36381778176389634, 'lumo': 5.0311121514230965, 'gap_dft': 4.250862023535371, 'homo_dft': 0.0, 'lumo_dft': 4.250862023535371}\n",
      "2023-11-19 10:13:57 [211 | REPORT]:   [530|YamboWorkflow|report_wf]: workflow completed successfully\n",
      "2023-11-19 10:13:58 [212 | REPORT]: [442|YamboConvergence|data_analysis]: Data analysis, we will try to parse some result and decide what next.\n",
      "2023-11-19 10:13:59 [213 | REPORT]: [442|YamboConvergence|data_analysis]:    FFTGvecs  kpoint_mesh  ...      gap_                                  uuid\n",
      "0        21    [4, 4, 2]  ...  5.879030  e599d05f-07a3-4ab5-9256-ac1bbbe88e89\n",
      "1        21    [7, 7, 2]  ...  5.566768  5b7b85aa-e5a3-483f-94c3-b47d0512a30e\n",
      "2        21  [13, 13, 5]  ...  5.444812  c81befb4-eaf6-4c47-89f9-582cda7e557f\n",
      "3        21  [16, 16, 6]  ...  5.394930  b7b6120d-3f16-414c-9019-2884a1fa299a\n",
      "\n",
      "[4 rows x 7 columns]\n",
      "2023-11-19 10:13:59 [214 | REPORT]: [442|YamboConvergence|data_analysis]: results ['gap_']\n",
      ":{'gap_': array([5.87902973, 5.56676763, 5.44481188, 5.39492993])}\n",
      "2023-11-19 10:13:59 [215 | REPORT]: [442|YamboConvergence|data_analysis]: HINTS: {'kpoint_mesh': [7, 7, 4], 'gap_': 5.427113494163508, 'already_computed': False, 'E_ref': 5.406889408179722, 'new_grid': False, 'extrapolation': 5.406384149600292, 'extrapolation_units': 'eV'}\n",
      "2023-11-19 10:14:00 [216 | REPORT]: [442|YamboConvergence|data_analysis]: Success on ['kpoint_mesh'] not reached yet in 4 calculations\n",
      "2023-11-19 10:14:00 [217 | REPORT]: [442|YamboConvergence|data_analysis]: {'kpoint_mesh': [7, 7, 4], 'gap_': 5.427113494163508, 'already_computed': False, 'E_ref': 5.406889408179722, 'new_grid': False, 'extrapolation': 5.406384149600292, 'extrapolation_units': 'eV'}\n",
      "2023-11-19 10:14:00 [218 | REPORT]: [442|YamboConvergence|has_to_continue]: Still iteration on ['kpoint_mesh']\n",
      "2023-11-19 10:14:00 [219 | REPORT]: [442|YamboConvergence|pre_needed]: {'FFTGvecs': [21], 'kpoint_mesh': [[4, 4, 2], [7, 7, 2], [13, 13, 5], [16, 16, 6]], 'BndsRnXp': [80, 400, 80, 180, 280, 400], 'NGsBlkXp': [2, 2, 8, 6, 4, 8], 'GbndRnge': [80, 400, 80, 180, 280, 400]}\n",
      "2023-11-19 10:14:11 [220 | REPORT]: [442|YamboConvergence|next_step]: New parameters are: {'kpoint_mesh': [7, 7, 4]}\n",
      "2023-11-19 10:14:15 [221 | REPORT]:   [590|YamboWorkflow|start_workflow]:  workflow initilization step completed.\n",
      "2023-11-19 10:14:15 [222 | REPORT]:   [590|YamboWorkflow|can_continue]: the workflow continues with a nscf calculation\n",
      "2023-11-19 10:14:15 [223 | REPORT]:   [590|YamboWorkflow|perform_next]: performing a nscf calculation\n",
      "2023-11-19 10:14:17 [224 | REPORT]:     [591|PwBaseWorkChain|run_process]: launching PwCalculation<594> iteration #1\n",
      "2023-11-19 10:17:48 [226 | REPORT]:     [591|PwBaseWorkChain|results]: work chain completed after 1 iterations\n",
      "2023-11-19 10:17:48 [227 | REPORT]:     [591|PwBaseWorkChain|on_terminated]: remote folders will not be cleaned\n",
      "2023-11-19 10:17:48 [228 | REPORT]:   [590|YamboWorkflow|can_continue]: the workflow continues with a yambo calculation\n",
      "2023-11-19 10:17:48 [229 | REPORT]:   [590|YamboWorkflow|perform_next]: performing a yambo calculation\n",
      "2023-11-19 10:17:48 [230 | REPORT]:   [590|YamboWorkflow|perform_next]: updating yambo parameters to parse more results\n",
      "2023-11-19 10:17:49 [231 | REPORT]:   [590|YamboWorkflow|perform_next]: {'dft_predicted': 'semiconductor/insulator', 'valence': 8, 'conduction': 9, 'number_of_kpoints': 24, 'nscf_gap_eV': 4.463, 'homo_k': 22, 'lumo_k': 19, 'gap_type': 'indirect', 'gap_': [[22, 22, 8, 8], [19, 19, 9, 9]], 'soc': False, 'spin-resolved': False}\n",
      "2023-11-19 10:17:51 [232 | REPORT]:     [601|YamboRestart|run_process]: launching YamboCalculation<602> iteration #1\n",
      "2023-11-19 10:20:51 [233 | REPORT]:     [601|YamboRestart|results]: work chain completed after 1 iterations\n",
      "2023-11-19 10:20:51 [234 | REPORT]:     [601|YamboRestart|on_terminated]: remote folders will not be cleaned\n",
      "2023-11-19 10:20:52 [235 | REPORT]:   [590|YamboWorkflow|can_continue]: workflow is finished\n",
      "2023-11-19 10:20:52 [236 | REPORT]:   [590|YamboWorkflow|post_processing_needed]: no post processing needed\n",
      "2023-11-19 10:20:53 [237 | REPORT]:   [590|YamboWorkflow|report_wf]: PARSED: {'gap_': 5.701607952180319, 'homo': -0.3725058555601165, 'lumo': 5.329102096620202, 'gap_dft': 4.462906929919124, 'homo_dft': 0.0, 'lumo_dft': 4.462906929919124}\n",
      "2023-11-19 10:20:53 [238 | REPORT]:   [590|YamboWorkflow|report_wf]: workflow completed successfully\n",
      "2023-11-19 10:20:53 [239 | REPORT]: [442|YamboConvergence|data_analysis]: Data analysis, we will try to parse some result and decide what next.\n",
      "2023-11-19 10:20:54 [240 | REPORT]: [442|YamboConvergence|data_analysis]:    FFTGvecs kpoint_mesh  ...      gap_                                  uuid\n",
      "0        21   [7, 7, 4]  ...  5.701608  f745b588-b406-4cb7-95a4-68d1620a11a2\n",
      "\n",
      "[1 rows x 7 columns]\n",
      "2023-11-19 10:20:55 [241 | REPORT]: [442|YamboConvergence|data_analysis]: results ['gap_']\n",
      ":{'gap_': array([5.87902973, 5.56676763, 5.44481188, 5.39492993, 5.70160795])}\n",
      "2023-11-19 10:20:55 [242 | REPORT]: [442|YamboConvergence|data_analysis]: HINTS: {'kpoint_mesh': [7, 7, 4], 'gap_': 5.5667676276779, 'already_computed': False, 'E_ref': 5.410142365931923, 'new_grid': False, 'extrapolation': 5.4094396938803175, 'extrapolation_units': 'eV'}\n",
      "2023-11-19 10:20:55 [243 | REPORT]: [442|YamboConvergence|data_analysis]: Success, updating the history... \n",
      "2023-11-19 10:20:55 [244 | REPORT]: [442|YamboConvergence|data_analysis]: Success on ['kpoint_mesh'] reached in 2 calculations, the result is [[5.56676763]]\n",
      "2023-11-19 10:20:55 [245 | REPORT]: [442|YamboConvergence|data_analysis]: {'type': 'heavy', 'what': ['gap_'], 'skip_pre': False, 'max': [30, 30, 10], 'var': ['kpoint_mesh'], 'stop': [16, 16, 6], 'delta': [3, 3, 3], 'start': [4, 4, 2], 'iter': 2, 'G_iter': 1, 'success': True, 'skipped': 3, 'conv_thr': 10, 'conv_thr_units': '%', 'ratio': 1.2, 'max_iterations': 4, 'steps': 4, 'conv_window': 4, 'functional_form': 'power_law', 'convergence_algorithm': 'new_algorithm_1D', 'thr_fx': 5e-05}\n",
      "2023-11-19 10:20:55 [246 | REPORT]: [442|YamboConvergence|data_analysis]: {'kpoint_mesh': [7, 7, 4], 'gap_': 5.5667676276779, 'already_computed': False, 'E_ref': 5.410142365931923, 'new_grid': False, 'extrapolation_units': 'eV'}\n",
      "2023-11-19 10:20:55 [247 | REPORT]: [442|YamboConvergence|has_to_continue]: Next parameters: ['BndsRnXp', 'GbndRnge', 'NGsBlkXp']\n",
      "2023-11-19 10:20:55 [248 | REPORT]: [442|YamboConvergence|has_to_continue]: Mode is \"heavy\", so we mantain the other parameters as the converged ones, if any.\n",
      "2023-11-19 10:20:55 [249 | REPORT]: [442|YamboConvergence|pre_needed]: {'FFTGvecs': [21], 'kpoint_mesh': [[7, 7, 4]], 'BndsRnXp': [80, 400, 80, 180, 280, 400], 'NGsBlkXp': [2, 2, 8, 6, 4, 8], 'GbndRnge': [80, 400, 80, 180, 280, 400]}\n",
      "2023-11-19 10:20:57 [250 | REPORT]: [442|YamboConvergence|pre_needed]: ['GW bands are: 200', 'found scf inputs from parent', 'found nscf inputs from parent\\n']\n",
      "2023-11-19 10:20:57 [251 | REPORT]: [442|YamboConvergence|do_pre]: mesh check\n",
      "2023-11-19 10:20:57 [252 | REPORT]: [442|YamboConvergence|do_pre]: doing the calculation: p2y\n",
      "2023-11-19 10:20:59 [253 | REPORT]: [442|YamboConvergence|do_pre]: Submitted YamboWorkflow up to p2y, pk = 613\n",
      "2023-11-19 10:21:01 [254 | REPORT]:   [613|YamboWorkflow|start_workflow]:  workflow initilization step completed.\n",
      "2023-11-19 10:21:01 [255 | REPORT]:   [613|YamboWorkflow|can_continue]: the workflow continues with a nscf calculation\n",
      "2023-11-19 10:21:01 [256 | REPORT]:   [613|YamboWorkflow|perform_next]: performing a nscf calculation\n",
      "2023-11-19 10:21:03 [257 | REPORT]:     [616|PwBaseWorkChain|run_process]: launching PwCalculation<619> iteration #1\n",
      "2023-11-19 10:25:14 [259 | REPORT]:     [616|PwBaseWorkChain|results]: work chain completed after 1 iterations\n",
      "2023-11-19 10:25:15 [260 | REPORT]:     [616|PwBaseWorkChain|on_terminated]: remote folders will not be cleaned\n",
      "2023-11-19 10:25:15 [261 | REPORT]:   [613|YamboWorkflow|can_continue]: the workflow continues with a yambo calculation\n",
      "2023-11-19 10:25:15 [262 | REPORT]:   [613|YamboWorkflow|perform_next]: performing a yambo calculation\n",
      "2023-11-19 10:25:17 [263 | REPORT]:     [625|YamboRestart|run_process]: launching YamboCalculation<626> iteration #1\n",
      "2023-11-19 10:27:34 [264 | REPORT]:     [625|YamboRestart|results]: work chain completed after 1 iterations\n",
      "2023-11-19 10:27:34 [265 | REPORT]:     [625|YamboRestart|on_terminated]: remote folders will not be cleaned\n",
      "2023-11-19 10:27:34 [266 | REPORT]:   [613|YamboWorkflow|can_continue]: workflow is finished\n",
      "2023-11-19 10:27:35 [267 | REPORT]:   [613|YamboWorkflow|post_processing_needed]: no post processing needed\n",
      "2023-11-19 10:27:35 [268 | REPORT]:   [613|YamboWorkflow|report_wf]: workflow completed successfully\n",
      "2023-11-19 10:27:36 [269 | REPORT]: [442|YamboConvergence|prepare_calculations]: setting the pre calc remote folder 627 as parent\n",
      "2023-11-19 10:27:42 [270 | REPORT]: [442|YamboConvergence|next_step]: New parameters are: {'BndsRnXp': 80, 'GbndRnge': 80, 'NGsBlkXp': 2}\n",
      "2023-11-19 10:27:51 [271 | REPORT]: [442|YamboConvergence|next_step]: New parameters are: {'BndsRnXp': 400, 'GbndRnge': 400, 'NGsBlkXp': 2}\n",
      "2023-11-19 10:28:00 [272 | REPORT]: [442|YamboConvergence|next_step]: New parameters are: {'BndsRnXp': 80, 'GbndRnge': 80, 'NGsBlkXp': 8}\n",
      "2023-11-19 10:28:08 [273 | REPORT]: [442|YamboConvergence|next_step]: New parameters are: {'BndsRnXp': 180, 'GbndRnge': 180, 'NGsBlkXp': 6}\n",
      "2023-11-19 10:28:17 [274 | REPORT]: [442|YamboConvergence|next_step]: New parameters are: {'BndsRnXp': 280, 'GbndRnge': 280, 'NGsBlkXp': 4}\n",
      "2023-11-19 10:28:23 [275 | REPORT]: [442|YamboConvergence|next_step]: New parameters are: {'BndsRnXp': 400, 'GbndRnge': 400, 'NGsBlkXp': 8}\n",
      "2023-11-19 10:28:27 [276 | REPORT]:   [631|YamboWorkflow|start_workflow]:  workflow initilization step completed.\n",
      "2023-11-19 10:28:27 [277 | REPORT]:   [631|YamboWorkflow|can_continue]: the workflow continues with a yambo calculation\n",
      "2023-11-19 10:28:27 [278 | REPORT]:   [631|YamboWorkflow|perform_next]: performing a yambo calculation\n",
      "2023-11-19 10:28:27 [279 | REPORT]:   [631|YamboWorkflow|perform_next]: updating yambo parameters to parse more results\n",
      "2023-11-19 10:28:27 [280 | REPORT]:   [631|YamboWorkflow|perform_next]: {'dft_predicted': 'semiconductor/insulator', 'valence': 8, 'conduction': 9, 'number_of_kpoints': 16, 'nscf_gap_eV': 4.463, 'homo_k': 15, 'lumo_k': 13, 'gap_type': 'indirect', 'gap_': [[15, 15, 8, 8], [13, 13, 9, 9]], 'soc': False, 'spin-resolved': False}\n",
      "2023-11-19 10:28:30 [281 | REPORT]:   [633|YamboWorkflow|start_workflow]:  workflow initilization step completed.\n",
      "2023-11-19 10:28:30 [282 | REPORT]:   [633|YamboWorkflow|can_continue]: the workflow continues with a yambo calculation\n",
      "2023-11-19 10:28:30 [283 | REPORT]:   [633|YamboWorkflow|perform_next]: performing a yambo calculation\n",
      "2023-11-19 10:28:30 [284 | REPORT]:   [633|YamboWorkflow|perform_next]: updating yambo parameters to parse more results\n",
      "2023-11-19 10:28:30 [285 | REPORT]:   [633|YamboWorkflow|perform_next]: {'dft_predicted': 'semiconductor/insulator', 'valence': 8, 'conduction': 9, 'number_of_kpoints': 16, 'nscf_gap_eV': 4.463, 'homo_k': 15, 'lumo_k': 13, 'gap_type': 'indirect', 'gap_': [[15, 15, 8, 8], [13, 13, 9, 9]], 'soc': False, 'spin-resolved': False}\n",
      "2023-11-19 10:28:33 [286 | REPORT]:   [635|YamboWorkflow|start_workflow]:  workflow initilization step completed.\n",
      "2023-11-19 10:28:33 [287 | REPORT]:   [635|YamboWorkflow|can_continue]: the workflow continues with a yambo calculation\n",
      "2023-11-19 10:28:33 [288 | REPORT]:   [635|YamboWorkflow|perform_next]: performing a yambo calculation\n",
      "2023-11-19 10:28:33 [289 | REPORT]:   [635|YamboWorkflow|perform_next]: updating yambo parameters to parse more results\n",
      "2023-11-19 10:28:33 [290 | REPORT]:   [635|YamboWorkflow|perform_next]: {'dft_predicted': 'semiconductor/insulator', 'valence': 8, 'conduction': 9, 'number_of_kpoints': 16, 'nscf_gap_eV': 4.463, 'homo_k': 15, 'lumo_k': 13, 'gap_type': 'indirect', 'gap_': [[15, 15, 8, 8], [13, 13, 9, 9]], 'soc': False, 'spin-resolved': False}\n",
      "2023-11-19 10:28:36 [291 | REPORT]:   [637|YamboWorkflow|start_workflow]:  workflow initilization step completed.\n",
      "2023-11-19 10:28:36 [292 | REPORT]:   [637|YamboWorkflow|can_continue]: the workflow continues with a yambo calculation\n",
      "2023-11-19 10:28:36 [293 | REPORT]:   [637|YamboWorkflow|perform_next]: performing a yambo calculation\n",
      "2023-11-19 10:28:36 [294 | REPORT]:   [637|YamboWorkflow|perform_next]: updating yambo parameters to parse more results\n",
      "2023-11-19 10:28:36 [295 | REPORT]:   [637|YamboWorkflow|perform_next]: {'dft_predicted': 'semiconductor/insulator', 'valence': 8, 'conduction': 9, 'number_of_kpoints': 16, 'nscf_gap_eV': 4.463, 'homo_k': 15, 'lumo_k': 13, 'gap_type': 'indirect', 'gap_': [[15, 15, 8, 8], [13, 13, 9, 9]], 'soc': False, 'spin-resolved': False}\n",
      "2023-11-19 10:28:39 [296 | REPORT]:   [639|YamboWorkflow|start_workflow]:  workflow initilization step completed.\n",
      "2023-11-19 10:28:39 [297 | REPORT]:   [639|YamboWorkflow|can_continue]: the workflow continues with a yambo calculation\n",
      "2023-11-19 10:28:39 [298 | REPORT]:   [639|YamboWorkflow|perform_next]: performing a yambo calculation\n",
      "2023-11-19 10:28:39 [299 | REPORT]:   [639|YamboWorkflow|perform_next]: updating yambo parameters to parse more results\n",
      "2023-11-19 10:28:39 [300 | REPORT]:   [639|YamboWorkflow|perform_next]: {'dft_predicted': 'semiconductor/insulator', 'valence': 8, 'conduction': 9, 'number_of_kpoints': 16, 'nscf_gap_eV': 4.463, 'homo_k': 15, 'lumo_k': 13, 'gap_type': 'indirect', 'gap_': [[15, 15, 8, 8], [13, 13, 9, 9]], 'soc': False, 'spin-resolved': False}\n",
      "2023-11-19 10:28:41 [301 | REPORT]:   [641|YamboWorkflow|start_workflow]:  workflow initilization step completed.\n",
      "2023-11-19 10:28:42 [302 | REPORT]:   [641|YamboWorkflow|can_continue]: the workflow continues with a yambo calculation\n",
      "2023-11-19 10:28:42 [303 | REPORT]:   [641|YamboWorkflow|perform_next]: performing a yambo calculation\n",
      "2023-11-19 10:28:42 [304 | REPORT]:   [641|YamboWorkflow|perform_next]: updating yambo parameters to parse more results\n",
      "2023-11-19 10:28:42 [305 | REPORT]:   [641|YamboWorkflow|perform_next]: {'dft_predicted': 'semiconductor/insulator', 'valence': 8, 'conduction': 9, 'number_of_kpoints': 16, 'nscf_gap_eV': 4.463, 'homo_k': 15, 'lumo_k': 13, 'gap_type': 'indirect', 'gap_': [[15, 15, 8, 8], [13, 13, 9, 9]], 'soc': False, 'spin-resolved': False}\n",
      "2023-11-19 10:28:45 [306 | REPORT]:     [643|YamboRestart|run_process]: launching YamboCalculation<654> iteration #1\n",
      "2023-11-19 10:28:46 [307 | REPORT]:     [645|YamboRestart|run_process]: launching YamboCalculation<655> iteration #1\n",
      "2023-11-19 10:28:48 [308 | REPORT]:     [647|YamboRestart|run_process]: launching YamboCalculation<656> iteration #1\n",
      "2023-11-19 10:28:50 [309 | REPORT]:     [649|YamboRestart|run_process]: launching YamboCalculation<657> iteration #1\n",
      "2023-11-19 10:28:52 [310 | REPORT]:     [651|YamboRestart|run_process]: launching YamboCalculation<658> iteration #1\n",
      "2023-11-19 10:28:54 [311 | REPORT]:     [653|YamboRestart|run_process]: launching YamboCalculation<659> iteration #1\n",
      "2023-11-19 10:31:15 [312 | REPORT]:     [643|YamboRestart|results]: work chain completed after 1 iterations\n",
      "2023-11-19 10:31:15 [313 | REPORT]:     [643|YamboRestart|on_terminated]: remote folders will not be cleaned\n",
      "2023-11-19 10:31:16 [314 | REPORT]:     [645|YamboRestart|results]: work chain completed after 1 iterations\n",
      "2023-11-19 10:31:16 [315 | REPORT]:     [645|YamboRestart|on_terminated]: remote folders will not be cleaned\n",
      "2023-11-19 10:31:16 [316 | REPORT]:   [631|YamboWorkflow|can_continue]: workflow is finished\n",
      "2023-11-19 10:31:17 [317 | REPORT]:   [631|YamboWorkflow|post_processing_needed]: no post processing needed\n",
      "2023-11-19 10:31:18 [318 | REPORT]:   [631|YamboWorkflow|report_wf]: PARSED: {'gap_': 6.023940001001302, 'homo': -0.13913692006999628, 'lumo': 5.884803080931306, 'gap_dft': 4.462906929919124, 'homo_dft': 0.0, 'lumo_dft': 4.462906929919124}\n",
      "2023-11-19 10:31:18 [319 | REPORT]:   [631|YamboWorkflow|report_wf]: workflow completed successfully\n",
      "2023-11-19 10:31:18 [320 | REPORT]:   [633|YamboWorkflow|can_continue]: workflow is finished\n",
      "2023-11-19 10:31:18 [321 | REPORT]:   [633|YamboWorkflow|post_processing_needed]: no post processing needed\n",
      "2023-11-19 10:31:19 [322 | REPORT]:   [633|YamboWorkflow|report_wf]: PARSED: {'gap_': 6.008377559297904, 'homo': -0.1303452077474445, 'lumo': 5.87803235155046, 'gap_dft': 4.462906929919124, 'homo_dft': 0.0, 'lumo_dft': 4.462906929919124}\n",
      "2023-11-19 10:31:19 [323 | REPORT]:   [633|YamboWorkflow|report_wf]: workflow completed successfully\n",
      "2023-11-19 10:31:53 [324 | REPORT]:     [647|YamboRestart|results]: work chain completed after 1 iterations\n",
      "2023-11-19 10:31:53 [325 | REPORT]:     [647|YamboRestart|on_terminated]: remote folders will not be cleaned\n",
      "2023-11-19 10:31:54 [326 | REPORT]:     [649|YamboRestart|results]: work chain completed after 1 iterations\n",
      "2023-11-19 10:31:54 [327 | REPORT]:     [649|YamboRestart|on_terminated]: remote folders will not be cleaned\n",
      "2023-11-19 10:31:55 [328 | REPORT]:     [651|YamboRestart|results]: work chain completed after 1 iterations\n",
      "2023-11-19 10:31:55 [329 | REPORT]:     [651|YamboRestart|on_terminated]: remote folders will not be cleaned\n",
      "2023-11-19 10:31:56 [330 | REPORT]:   [635|YamboWorkflow|can_continue]: workflow is finished\n",
      "2023-11-19 10:31:56 [331 | REPORT]:   [635|YamboWorkflow|post_processing_needed]: no post processing needed\n",
      "2023-11-19 10:31:57 [332 | REPORT]:   [635|YamboWorkflow|report_wf]: PARSED: {'gap_': 5.63427892188672, 'homo': -0.37460538786295805, 'lumo': 5.259673534023762, 'gap_dft': 4.462906929919124, 'homo_dft': 0.0, 'lumo_dft': 4.462906929919124}\n",
      "2023-11-19 10:31:57 [333 | REPORT]:   [635|YamboWorkflow|report_wf]: workflow completed successfully\n",
      "2023-11-19 10:31:57 [334 | REPORT]:   [637|YamboWorkflow|can_continue]: workflow is finished\n",
      "2023-11-19 10:31:58 [335 | REPORT]:   [637|YamboWorkflow|post_processing_needed]: no post processing needed\n",
      "2023-11-19 10:31:58 [336 | REPORT]:   [637|YamboWorkflow|report_wf]: PARSED: {'gap_': 5.578571623735875, 'homo': -0.30248622771129013, 'lumo': 5.276085396024585, 'gap_dft': 4.462906929919124, 'homo_dft': 0.0, 'lumo_dft': 4.462906929919124}\n",
      "2023-11-19 10:31:58 [337 | REPORT]:   [637|YamboWorkflow|report_wf]: workflow completed successfully\n",
      "2023-11-19 10:31:59 [338 | REPORT]:   [639|YamboWorkflow|can_continue]: workflow is finished\n",
      "2023-11-19 10:31:59 [339 | REPORT]:   [639|YamboWorkflow|post_processing_needed]: no post processing needed\n",
      "2023-11-19 10:32:00 [340 | REPORT]:   [639|YamboWorkflow|report_wf]: PARSED: {'gap_': 5.563121361012011, 'homo': -0.21522763171568512, 'lumo': 5.3478937292963264, 'gap_dft': 4.462906929919124, 'homo_dft': 0.0, 'lumo_dft': 4.462906929919124}\n",
      "2023-11-19 10:32:00 [341 | REPORT]:   [639|YamboWorkflow|report_wf]: workflow completed successfully\n",
      "2023-11-19 10:32:26 [342 | REPORT]:     [653|YamboRestart|results]: work chain completed after 1 iterations\n",
      "2023-11-19 10:32:26 [343 | REPORT]:     [653|YamboRestart|on_terminated]: remote folders will not be cleaned\n",
      "2023-11-19 10:32:26 [344 | REPORT]:   [641|YamboWorkflow|can_continue]: workflow is finished\n",
      "2023-11-19 10:32:26 [345 | REPORT]:   [641|YamboWorkflow|post_processing_needed]: no post processing needed\n",
      "2023-11-19 10:32:27 [346 | REPORT]:   [641|YamboWorkflow|report_wf]: PARSED: {'gap_': 5.60681099971924, 'homo': -0.4055130092361942, 'lumo': 5.201297990483046, 'gap_dft': 4.462906929919124, 'homo_dft': 0.0, 'lumo_dft': 4.462906929919124}\n",
      "2023-11-19 10:32:27 [347 | REPORT]:   [641|YamboWorkflow|report_wf]: workflow completed successfully\n",
      "2023-11-19 10:32:28 [348 | REPORT]: [442|YamboConvergence|data_analysis]: Data analysis, we will try to parse some result and decide what next.\n",
      "2023-11-19 10:32:30 [349 | REPORT]: [442|YamboConvergence|data_analysis]:    FFTGvecs kpoint_mesh  ...      gap_                                  uuid\n",
      "0        21   [7, 7, 2]  ...  6.023940  ed6f567b-f60c-4e55-8394-d8ad309a46b1\n",
      "1        21   [7, 7, 2]  ...  6.008378  49342fc6-a784-487e-9e98-bd71379a490c\n",
      "2        21   [7, 7, 2]  ...  5.634279  bbbedcfe-c989-4a0d-8eb9-1c8aa6fbf55b\n",
      "3        21   [7, 7, 2]  ...  5.578572  c3621329-c35d-4e23-807a-12a25817c6b6\n",
      "4        21   [7, 7, 2]  ...  5.563121  57c1d8e2-6b79-4866-8533-07ac01074a55\n",
      "5        21   [7, 7, 2]  ...  5.606811  01ae1229-4488-4c9b-8457-2f0cdb6e5b64\n",
      "\n",
      "[6 rows x 7 columns]\n",
      "2023-11-19 10:32:33 [350 | REPORT]: [442|YamboConvergence|data_analysis]: results ['gap_']\n",
      ":{'gap_': array([6.02394   , 6.00837756, 5.63427892, 5.57857162, 5.56312136,\n",
      "       5.606811  ])}\n",
      "2023-11-19 10:32:33 [351 | REPORT]: [442|YamboConvergence|data_analysis]: HINTS: {'BndsRnXp': 80.0, 'NGsBlkXp': 2.0, 'gap_': 6.0239400010013, 'already_computed': True, 'GbndRnge': 80.0, 'E_ref': 5.569032058195582, 'new_grid': False, 'extrapolation': 5.568378713142926, 'extrapolation_units': 'eV'}\n",
      "2023-11-19 10:32:33 [352 | REPORT]: [442|YamboConvergence|data_analysis]: Success, updating the history... \n",
      "2023-11-19 10:32:33 [353 | REPORT]: [442|YamboConvergence|data_analysis]: Success on ['BndsRnXp', 'GbndRnge', 'NGsBlkXp'] reached in 6 calculations, the result is [[6.02394]]\n",
      "2023-11-19 10:32:34 [354 | REPORT]: [442|YamboConvergence|has_to_continue]: Workflow finished\n",
      "2023-11-19 10:32:34 [355 | REPORT]: [442|YamboConvergence|report_wf]: Final step. It is True that the workflow was successful\u001b[0m\n"
     ]
    }
   ],
   "source": [
    "!verdi process report {run.pk}"
   ]
  },
  {
   "cell_type": "markdown",
   "metadata": {},
   "source": [
    "# Inspecting the outputs\n",
    "\n",
    "suppose that your calculation completed successfully, then you can access the outputs via the output method of the run instance: "
   ]
  },
  {
   "cell_type": "code",
   "execution_count": 47,
   "metadata": {},
   "outputs": [
    {
     "data": {
      "text/plain": [
       "True"
      ]
     },
     "execution_count": 47,
     "metadata": {},
     "output_type": "execute_result"
    }
   ],
   "source": [
    "run.is_finished_ok"
   ]
  },
  {
   "cell_type": "code",
   "execution_count": 24,
   "metadata": {},
   "outputs": [
    {
     "ename": "SyntaxError",
     "evalue": "invalid syntax (708973465.py, line 1)",
     "output_type": "error",
     "traceback": [
      "\u001b[0;36m  File \u001b[0;32m\"/tmp/ipykernel_14947/708973465.py\"\u001b[0;36m, line \u001b[0;32m1\u001b[0m\n\u001b[0;31m    run.outputs. #+TAB\u001b[0m\n\u001b[0m                 ^\u001b[0m\n\u001b[0;31mSyntaxError\u001b[0m\u001b[0;31m:\u001b[0m invalid syntax\n"
     ]
    }
   ],
   "source": [
    "run.outputs. #+TAB"
   ]
  },
  {
   "cell_type": "markdown",
   "metadata": {},
   "source": [
    "The converged parameters can be obtained via the \"infos\" output Dict:"
   ]
  },
  {
   "cell_type": "code",
   "execution_count": 48,
   "metadata": {},
   "outputs": [
    {
     "data": {
      "text/plain": [
       "{'gap_': 6.0239400010013,\n",
       " 'E_ref': 5.5690320581956,\n",
       " 'BndsRnXp': 80.0,\n",
       " 'FFTGvecs': 21,\n",
       " 'GbndRnge': 80.0,\n",
       " 'NGsBlkXp': 2.0,\n",
       " 'kpoint_mesh': [7, 7, 4],\n",
       " 'extrapolation': 5.4063841496003}"
      ]
     },
     "execution_count": 48,
     "metadata": {},
     "output_type": "execute_result"
    }
   ],
   "source": [
    "run.outputs.infos.get_dict()"
   ]
  },
  {
   "cell_type": "markdown",
   "metadata": {},
   "source": [
    "The full convergence history can be visualized in a table form using pandas:"
   ]
  },
  {
   "cell_type": "code",
   "execution_count": 49,
   "metadata": {},
   "outputs": [],
   "source": [
    "import pandas as pd"
   ]
  },
  {
   "cell_type": "code",
   "execution_count": 50,
   "metadata": {},
   "outputs": [],
   "source": [
    "history = run.outputs.history.get_dict()"
   ]
  },
  {
   "cell_type": "code",
   "execution_count": 51,
   "metadata": {},
   "outputs": [],
   "source": [
    "history_table = pd.DataFrame(history)"
   ]
  },
  {
   "cell_type": "code",
   "execution_count": 52,
   "metadata": {},
   "outputs": [
    {
     "data": {
      "text/html": [
       "<div>\n",
       "<style scoped>\n",
       "    .dataframe tbody tr th:only-of-type {\n",
       "        vertical-align: middle;\n",
       "    }\n",
       "\n",
       "    .dataframe tbody tr th {\n",
       "        vertical-align: top;\n",
       "    }\n",
       "\n",
       "    .dataframe thead th {\n",
       "        text-align: right;\n",
       "    }\n",
       "</style>\n",
       "<table border=\"1\" class=\"dataframe\">\n",
       "  <thead>\n",
       "    <tr style=\"text-align: right;\">\n",
       "      <th></th>\n",
       "      <th>gap_</th>\n",
       "      <th>uuid</th>\n",
       "      <th>failed</th>\n",
       "      <th>useful</th>\n",
       "      <th>BndsRnXp</th>\n",
       "      <th>FFTGvecs</th>\n",
       "      <th>GbndRnge</th>\n",
       "      <th>NGsBlkXp</th>\n",
       "      <th>global_step</th>\n",
       "      <th>kpoint_mesh</th>\n",
       "      <th>parameters_studied</th>\n",
       "    </tr>\n",
       "  </thead>\n",
       "  <tbody>\n",
       "    <tr>\n",
       "      <th>0</th>\n",
       "      <td>5.879030</td>\n",
       "      <td>e599d05f-07a3-4ab5-9256-ac1bbbe88e89</td>\n",
       "      <td>False</td>\n",
       "      <td>False</td>\n",
       "      <td>200</td>\n",
       "      <td>21</td>\n",
       "      <td>200</td>\n",
       "      <td>4</td>\n",
       "      <td>1</td>\n",
       "      <td>[4, 4, 2]</td>\n",
       "      <td>FFTGvecs</td>\n",
       "    </tr>\n",
       "    <tr>\n",
       "      <th>1</th>\n",
       "      <td>5.865918</td>\n",
       "      <td>a36714a5-9b99-40dc-abb7-aa53472f97cc</td>\n",
       "      <td>False</td>\n",
       "      <td>False</td>\n",
       "      <td>200</td>\n",
       "      <td>37</td>\n",
       "      <td>200</td>\n",
       "      <td>4</td>\n",
       "      <td>2</td>\n",
       "      <td>[4, 4, 2]</td>\n",
       "      <td>FFTGvecs</td>\n",
       "    </tr>\n",
       "    <tr>\n",
       "      <th>2</th>\n",
       "      <td>5.865277</td>\n",
       "      <td>9a033a7b-54e6-409c-8b35-bfe627dada4a</td>\n",
       "      <td>False</td>\n",
       "      <td>False</td>\n",
       "      <td>200</td>\n",
       "      <td>45</td>\n",
       "      <td>200</td>\n",
       "      <td>4</td>\n",
       "      <td>3</td>\n",
       "      <td>[4, 4, 2]</td>\n",
       "      <td>FFTGvecs</td>\n",
       "    </tr>\n",
       "    <tr>\n",
       "      <th>3</th>\n",
       "      <td>5.859447</td>\n",
       "      <td>64455883-6bb4-41c5-8951-a6b6ff0db1d4</td>\n",
       "      <td>False</td>\n",
       "      <td>False</td>\n",
       "      <td>200</td>\n",
       "      <td>58</td>\n",
       "      <td>200</td>\n",
       "      <td>4</td>\n",
       "      <td>4</td>\n",
       "      <td>[4, 4, 2]</td>\n",
       "      <td>FFTGvecs</td>\n",
       "    </tr>\n",
       "    <tr>\n",
       "      <th>4</th>\n",
       "      <td>5.879030</td>\n",
       "      <td>e599d05f-07a3-4ab5-9256-ac1bbbe88e89</td>\n",
       "      <td>False</td>\n",
       "      <td>False</td>\n",
       "      <td>200</td>\n",
       "      <td>21</td>\n",
       "      <td>200</td>\n",
       "      <td>4</td>\n",
       "      <td>5</td>\n",
       "      <td>[4, 4, 2]</td>\n",
       "      <td>kpoint_mesh</td>\n",
       "    </tr>\n",
       "    <tr>\n",
       "      <th>5</th>\n",
       "      <td>5.566768</td>\n",
       "      <td>5b7b85aa-e5a3-483f-94c3-b47d0512a30e</td>\n",
       "      <td>False</td>\n",
       "      <td>False</td>\n",
       "      <td>200</td>\n",
       "      <td>21</td>\n",
       "      <td>200</td>\n",
       "      <td>4</td>\n",
       "      <td>6</td>\n",
       "      <td>[7, 7, 2]</td>\n",
       "      <td>kpoint_mesh</td>\n",
       "    </tr>\n",
       "    <tr>\n",
       "      <th>6</th>\n",
       "      <td>5.444812</td>\n",
       "      <td>c81befb4-eaf6-4c47-89f9-582cda7e557f</td>\n",
       "      <td>False</td>\n",
       "      <td>False</td>\n",
       "      <td>200</td>\n",
       "      <td>21</td>\n",
       "      <td>200</td>\n",
       "      <td>4</td>\n",
       "      <td>7</td>\n",
       "      <td>[13, 13, 5]</td>\n",
       "      <td>kpoint_mesh</td>\n",
       "    </tr>\n",
       "    <tr>\n",
       "      <th>7</th>\n",
       "      <td>5.394930</td>\n",
       "      <td>b7b6120d-3f16-414c-9019-2884a1fa299a</td>\n",
       "      <td>False</td>\n",
       "      <td>False</td>\n",
       "      <td>200</td>\n",
       "      <td>21</td>\n",
       "      <td>200</td>\n",
       "      <td>4</td>\n",
       "      <td>8</td>\n",
       "      <td>[16, 16, 6]</td>\n",
       "      <td>kpoint_mesh</td>\n",
       "    </tr>\n",
       "    <tr>\n",
       "      <th>8</th>\n",
       "      <td>5.701608</td>\n",
       "      <td>f745b588-b406-4cb7-95a4-68d1620a11a2</td>\n",
       "      <td>False</td>\n",
       "      <td>False</td>\n",
       "      <td>200</td>\n",
       "      <td>21</td>\n",
       "      <td>200</td>\n",
       "      <td>4</td>\n",
       "      <td>9</td>\n",
       "      <td>[7, 7, 4]</td>\n",
       "      <td>kpoint_mesh</td>\n",
       "    </tr>\n",
       "    <tr>\n",
       "      <th>9</th>\n",
       "      <td>6.023940</td>\n",
       "      <td>ed6f567b-f60c-4e55-8394-d8ad309a46b1</td>\n",
       "      <td>False</td>\n",
       "      <td>True</td>\n",
       "      <td>80</td>\n",
       "      <td>21</td>\n",
       "      <td>80</td>\n",
       "      <td>2</td>\n",
       "      <td>10</td>\n",
       "      <td>[7, 7, 2]</td>\n",
       "      <td>BndsRnXp, GbndRnge, NGsBlkXp</td>\n",
       "    </tr>\n",
       "    <tr>\n",
       "      <th>10</th>\n",
       "      <td>6.008378</td>\n",
       "      <td>49342fc6-a784-487e-9e98-bd71379a490c</td>\n",
       "      <td>False</td>\n",
       "      <td>False</td>\n",
       "      <td>400</td>\n",
       "      <td>21</td>\n",
       "      <td>400</td>\n",
       "      <td>2</td>\n",
       "      <td>11</td>\n",
       "      <td>[7, 7, 2]</td>\n",
       "      <td>BndsRnXp, GbndRnge, NGsBlkXp</td>\n",
       "    </tr>\n",
       "    <tr>\n",
       "      <th>11</th>\n",
       "      <td>5.634279</td>\n",
       "      <td>bbbedcfe-c989-4a0d-8eb9-1c8aa6fbf55b</td>\n",
       "      <td>False</td>\n",
       "      <td>False</td>\n",
       "      <td>80</td>\n",
       "      <td>21</td>\n",
       "      <td>80</td>\n",
       "      <td>8</td>\n",
       "      <td>12</td>\n",
       "      <td>[7, 7, 2]</td>\n",
       "      <td>BndsRnXp, GbndRnge, NGsBlkXp</td>\n",
       "    </tr>\n",
       "    <tr>\n",
       "      <th>12</th>\n",
       "      <td>5.578572</td>\n",
       "      <td>c3621329-c35d-4e23-807a-12a25817c6b6</td>\n",
       "      <td>False</td>\n",
       "      <td>False</td>\n",
       "      <td>180</td>\n",
       "      <td>21</td>\n",
       "      <td>180</td>\n",
       "      <td>6</td>\n",
       "      <td>13</td>\n",
       "      <td>[7, 7, 2]</td>\n",
       "      <td>BndsRnXp, GbndRnge, NGsBlkXp</td>\n",
       "    </tr>\n",
       "    <tr>\n",
       "      <th>13</th>\n",
       "      <td>5.563121</td>\n",
       "      <td>57c1d8e2-6b79-4866-8533-07ac01074a55</td>\n",
       "      <td>False</td>\n",
       "      <td>False</td>\n",
       "      <td>280</td>\n",
       "      <td>21</td>\n",
       "      <td>280</td>\n",
       "      <td>4</td>\n",
       "      <td>14</td>\n",
       "      <td>[7, 7, 2]</td>\n",
       "      <td>BndsRnXp, GbndRnge, NGsBlkXp</td>\n",
       "    </tr>\n",
       "    <tr>\n",
       "      <th>14</th>\n",
       "      <td>5.606811</td>\n",
       "      <td>01ae1229-4488-4c9b-8457-2f0cdb6e5b64</td>\n",
       "      <td>False</td>\n",
       "      <td>False</td>\n",
       "      <td>400</td>\n",
       "      <td>21</td>\n",
       "      <td>400</td>\n",
       "      <td>8</td>\n",
       "      <td>15</td>\n",
       "      <td>[7, 7, 2]</td>\n",
       "      <td>BndsRnXp, GbndRnge, NGsBlkXp</td>\n",
       "    </tr>\n",
       "  </tbody>\n",
       "</table>\n",
       "</div>"
      ],
      "text/plain": [
       "        gap_                                  uuid  failed  useful  BndsRnXp  \\\n",
       "0   5.879030  e599d05f-07a3-4ab5-9256-ac1bbbe88e89   False   False       200   \n",
       "1   5.865918  a36714a5-9b99-40dc-abb7-aa53472f97cc   False   False       200   \n",
       "2   5.865277  9a033a7b-54e6-409c-8b35-bfe627dada4a   False   False       200   \n",
       "3   5.859447  64455883-6bb4-41c5-8951-a6b6ff0db1d4   False   False       200   \n",
       "4   5.879030  e599d05f-07a3-4ab5-9256-ac1bbbe88e89   False   False       200   \n",
       "5   5.566768  5b7b85aa-e5a3-483f-94c3-b47d0512a30e   False   False       200   \n",
       "6   5.444812  c81befb4-eaf6-4c47-89f9-582cda7e557f   False   False       200   \n",
       "7   5.394930  b7b6120d-3f16-414c-9019-2884a1fa299a   False   False       200   \n",
       "8   5.701608  f745b588-b406-4cb7-95a4-68d1620a11a2   False   False       200   \n",
       "9   6.023940  ed6f567b-f60c-4e55-8394-d8ad309a46b1   False    True        80   \n",
       "10  6.008378  49342fc6-a784-487e-9e98-bd71379a490c   False   False       400   \n",
       "11  5.634279  bbbedcfe-c989-4a0d-8eb9-1c8aa6fbf55b   False   False        80   \n",
       "12  5.578572  c3621329-c35d-4e23-807a-12a25817c6b6   False   False       180   \n",
       "13  5.563121  57c1d8e2-6b79-4866-8533-07ac01074a55   False   False       280   \n",
       "14  5.606811  01ae1229-4488-4c9b-8457-2f0cdb6e5b64   False   False       400   \n",
       "\n",
       "    FFTGvecs  GbndRnge  NGsBlkXp  global_step  kpoint_mesh  \\\n",
       "0         21       200         4            1    [4, 4, 2]   \n",
       "1         37       200         4            2    [4, 4, 2]   \n",
       "2         45       200         4            3    [4, 4, 2]   \n",
       "3         58       200         4            4    [4, 4, 2]   \n",
       "4         21       200         4            5    [4, 4, 2]   \n",
       "5         21       200         4            6    [7, 7, 2]   \n",
       "6         21       200         4            7  [13, 13, 5]   \n",
       "7         21       200         4            8  [16, 16, 6]   \n",
       "8         21       200         4            9    [7, 7, 4]   \n",
       "9         21        80         2           10    [7, 7, 2]   \n",
       "10        21       400         2           11    [7, 7, 2]   \n",
       "11        21        80         8           12    [7, 7, 2]   \n",
       "12        21       180         6           13    [7, 7, 2]   \n",
       "13        21       280         4           14    [7, 7, 2]   \n",
       "14        21       400         8           15    [7, 7, 2]   \n",
       "\n",
       "              parameters_studied  \n",
       "0                       FFTGvecs  \n",
       "1                       FFTGvecs  \n",
       "2                       FFTGvecs  \n",
       "3                       FFTGvecs  \n",
       "4                    kpoint_mesh  \n",
       "5                    kpoint_mesh  \n",
       "6                    kpoint_mesh  \n",
       "7                    kpoint_mesh  \n",
       "8                    kpoint_mesh  \n",
       "9   BndsRnXp, GbndRnge, NGsBlkXp  \n",
       "10  BndsRnXp, GbndRnge, NGsBlkXp  \n",
       "11  BndsRnXp, GbndRnge, NGsBlkXp  \n",
       "12  BndsRnXp, GbndRnge, NGsBlkXp  \n",
       "13  BndsRnXp, GbndRnge, NGsBlkXp  \n",
       "14  BndsRnXp, GbndRnge, NGsBlkXp  "
      ]
     },
     "execution_count": 52,
     "metadata": {},
     "output_type": "execute_result"
    }
   ],
   "source": [
    "history_table"
   ]
  },
  {
   "cell_type": "markdown",
   "metadata": {},
   "source": [
    "The last calculations can be obtained using:"
   ]
  },
  {
   "cell_type": "code",
   "execution_count": 53,
   "metadata": {},
   "outputs": [
    {
     "data": {
      "text/html": [
       "<div>\n",
       "<style scoped>\n",
       "    .dataframe tbody tr th:only-of-type {\n",
       "        vertical-align: middle;\n",
       "    }\n",
       "\n",
       "    .dataframe tbody tr th {\n",
       "        vertical-align: top;\n",
       "    }\n",
       "\n",
       "    .dataframe thead th {\n",
       "        text-align: right;\n",
       "    }\n",
       "</style>\n",
       "<table border=\"1\" class=\"dataframe\">\n",
       "  <thead>\n",
       "    <tr style=\"text-align: right;\">\n",
       "      <th></th>\n",
       "      <th>gap_</th>\n",
       "      <th>uuid</th>\n",
       "      <th>failed</th>\n",
       "      <th>useful</th>\n",
       "      <th>BndsRnXp</th>\n",
       "      <th>FFTGvecs</th>\n",
       "      <th>GbndRnge</th>\n",
       "      <th>NGsBlkXp</th>\n",
       "      <th>global_step</th>\n",
       "      <th>kpoint_mesh</th>\n",
       "      <th>parameters_studied</th>\n",
       "    </tr>\n",
       "  </thead>\n",
       "  <tbody>\n",
       "    <tr>\n",
       "      <th>9</th>\n",
       "      <td>6.02394</td>\n",
       "      <td>ed6f567b-f60c-4e55-8394-d8ad309a46b1</td>\n",
       "      <td>False</td>\n",
       "      <td>True</td>\n",
       "      <td>80</td>\n",
       "      <td>21</td>\n",
       "      <td>80</td>\n",
       "      <td>2</td>\n",
       "      <td>10</td>\n",
       "      <td>[7, 7, 2]</td>\n",
       "      <td>BndsRnXp, GbndRnge, NGsBlkXp</td>\n",
       "    </tr>\n",
       "  </tbody>\n",
       "</table>\n",
       "</div>"
      ],
      "text/plain": [
       "      gap_                                  uuid  failed  useful  BndsRnXp  \\\n",
       "9  6.02394  ed6f567b-f60c-4e55-8394-d8ad309a46b1   False    True        80   \n",
       "\n",
       "   FFTGvecs  GbndRnge  NGsBlkXp  global_step kpoint_mesh  \\\n",
       "9        21        80         2           10   [7, 7, 2]   \n",
       "\n",
       "             parameters_studied  \n",
       "9  BndsRnXp, GbndRnge, NGsBlkXp  "
      ]
     },
     "execution_count": 53,
     "metadata": {},
     "output_type": "execute_result"
    }
   ],
   "source": [
    "history_table[history_table['useful']==True]"
   ]
  },
  {
   "cell_type": "code",
   "execution_count": 28,
   "metadata": {},
   "outputs": [],
   "source": [
    "# some fine plotting of the results, similar to the ones in the paper."
   ]
  },
  {
   "cell_type": "markdown",
   "metadata": {},
   "source": [
    "for i in parameters_studied ---> collect the data... ah potresti fare dei subplots con tutto. plotly secondo me é molto bello x farli https://plotly.com/python/3d-line-plots/"
   ]
  },
  {
   "cell_type": "code",
   "execution_count": null,
   "metadata": {},
   "outputs": [],
   "source": []
  }
 ],
 "metadata": {
  "kernelspec": {
   "display_name": "minit",
   "language": "python",
   "name": "minit"
  },
  "language_info": {
   "codemirror_mode": {
    "name": "ipython",
    "version": 3
   },
   "file_extension": ".py",
   "mimetype": "text/x-python",
   "name": "python",
   "nbconvert_exporter": "python",
   "pygments_lexer": "ipython3",
   "version": "3.10.13"
  }
 },
 "nbformat": 4,
 "nbformat_minor": 5
}
