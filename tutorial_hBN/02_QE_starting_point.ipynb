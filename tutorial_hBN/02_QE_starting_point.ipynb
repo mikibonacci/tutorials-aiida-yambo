{
 "cells": [
  {
   "cell_type": "markdown",
   "metadata": {},
   "source": [
    "# Obtaining the starting point for *yambo*: *QuantumEspresso* self and non self-consistent simulations.\n",
    "\n",
    "***Prerequisites***: we suppose that you have successfully installed and configured AiiDA, aiida-quantuespresso and you have stored computer, codes, structures and pseudo in the AiiDA database.\n",
    "\n",
    "In the following we show how to easily run a QE scf+nscf flow, in order to have a starting ground state density and wavefunctions needed to perform GW and BSE simulations. For more details, please have a look at the [AiiDA tutorials](https://aiida-tutorials.readthedocs.io/en/latest/). \n",
    "Quantum simulations here are performed by means of the *QuantumEspresso* simulation package, in particular using the ***pw.x*** executable. Pseudpotentials employed will be the [PseudoDojo](http://www.pseudo-dojo.org/) ones."
   ]
  },
  {
   "cell_type": "code",
   "execution_count": 4,
   "metadata": {},
   "outputs": [
    {
     "data": {
      "text/plain": [
       "Profile<uuid='b35700dae723411ea16ebc82d58f16bc' name='mb'>"
      ]
     },
     "execution_count": 4,
     "metadata": {},
     "output_type": "execute_result"
    }
   ],
   "source": [
    "from aiida import orm, load_profile\n",
    "load_profile()"
   ]
  },
  {
   "cell_type": "markdown",
   "metadata": {},
   "source": [
    "## (1) Self-consistent field simulation.\n",
    "\n",
    "This is step is dedicated to obtain the ground state density by means of a self-consistent simulation. This is performed by means of the `PwBaseWorkChain` of the ***aiida-quantumespresso*** plugin. This workflow provides automatic error handling and automatic input creation (by means of pre-defined protocols for default parameters). \n",
    "For more details in the ***aiida-quantumespresso*** plugin you can have a look at the corresponding [documentation](https://aiida-quantumespresso.readthedocs.io/en/latest/)."
   ]
  },
  {
   "cell_type": "code",
   "execution_count": 7,
   "metadata": {},
   "outputs": [],
   "source": [
    "from aiida.plugins import WorkflowFactory\n",
    "PwBaseWorkchain = WorkflowFactory('quantumespresso.pw.base')"
   ]
  },
  {
   "cell_type": "markdown",
   "id": "eea7bb43",
   "metadata": {},
   "source": [
    "You can try also to load the `PwRelaxWorkchain` class, which is used to perform structural relaxation. The corresponding entry-point is `quantumespresso.pw.relax`. \n",
    "Here, we that our input structure is already relaxed.\n",
    "\n",
    "In the following we create the *builder* instance, which essentially collects all the inputs needed in our `PwBaseWorkchain` to be executed. We will use the `get_builder_from_protocol` methods to pre-populate the builder with default parameters."
   ]
  },
  {
   "cell_type": "code",
   "execution_count": 10,
   "metadata": {},
   "outputs": [],
   "source": [
    "from aiida_quantumespresso.common.types import ElectronicType\n",
    "\n",
    "builder = PwBaseWorkchain.get_builder_from_protocol(\n",
    "                code=orm.load_code('pw-7.1@hydralogin'),\n",
    "                structure=orm.load_node(161),              # <=== this is the structure store before, in 01_structure_and_pseudos.ipynb\n",
    "                protocol='fast',\n",
    "                overrides={},\n",
    "                electronic_type=ElectronicType.INSULATOR,\n",
    "    \n",
    ")"
   ]
  },
  {
   "cell_type": "markdown",
   "id": "0b67d3f6",
   "metadata": {},
   "source": [
    "We can inspect the inputs parameters, which will be used to create the *pw.x* input file. The parameters are stored in an AiiDA Dictionary, which can be dumped to a python dictionary using the `get_dict` method:"
   ]
  },
  {
   "cell_type": "code",
   "execution_count": 16,
   "id": "44890efc",
   "metadata": {
    "scrolled": true
   },
   "outputs": [
    {
     "data": {
      "text/plain": [
       "{'CONTROL': {'calculation': 'scf',\n",
       "  'forc_conv_thr': 0.001,\n",
       "  'tprnfor': True,\n",
       "  'tstress': True,\n",
       "  'etot_conv_thr': 0.0004},\n",
       " 'SYSTEM': {'nosym': False,\n",
       "  'occupations': 'fixed',\n",
       "  'ecutwfc': 60.0,\n",
       "  'ecutrho': 480.0},\n",
       " 'ELECTRONS': {'electron_maxstep': 80,\n",
       "  'mixing_beta': 0.4,\n",
       "  'conv_thr': 1.6e-09}}"
      ]
     },
     "execution_count": 16,
     "metadata": {},
     "output_type": "execute_result"
    }
   ],
   "source": [
    "builder.pw.parameters.get_dict()"
   ]
  },
  {
   "cell_type": "markdown",
   "metadata": {},
   "source": [
    "### (1.1) Change the pseudos to Norm-Conserving\n",
    "\n",
    "We change the pseudo family to be the [PseudoDojo](http://www.pseudo-dojo.org/) one. \n",
    "The default family is the [SSSP](https://www.materialscloud.org/discover/sssp/table/efficiency) one, but here we need only Norm-Conserving pseudopotentials."
   ]
  },
  {
   "cell_type": "code",
   "execution_count": 17,
   "metadata": {},
   "outputs": [],
   "source": [
    "family = orm.load_group(\"PseudoDojo/0.4/PBE/SR/standard/upf\")\n",
    "#builder.<sublevels_up_to .pw>.pseudos = family.get_pseudos(structure=structure) \n",
    "builder.pw.pseudos = family.get_pseudos(structure=orm.load_node(161)) "
   ]
  },
  {
   "cell_type": "markdown",
   "metadata": {},
   "source": [
    "## (1.2) Modification of default inputs\n",
    "\n",
    "It is possible to modify in two ways the inputs:\n",
    "\n",
    "    (1) to use the overrides in the builder creation;\n",
    "    (2) to re-define the input variables.\n",
    "\n",
    "### Overrides\n",
    "\n",
    "Overrides essentially act during the builder instance creation and, as the name suggests, ovverride the protocols inputs."
   ]
  },
  {
   "cell_type": "code",
   "execution_count": 18,
   "metadata": {},
   "outputs": [
    {
     "data": {
      "text/plain": [
       "{'CONTROL': {'calculation': 'scf',\n",
       "  'forc_conv_thr': 0.001,\n",
       "  'tprnfor': True,\n",
       "  'tstress': True,\n",
       "  'etot_conv_thr': 0.0004},\n",
       " 'SYSTEM': {'nosym': False,\n",
       "  'occupations': 'fixed',\n",
       "  'ecutwfc': 70.0,\n",
       "  'ecutrho': 280,\n",
       "  'force_symmorphic': True},\n",
       " 'ELECTRONS': {'electron_maxstep': 80,\n",
       "  'mixing_beta': 0.4,\n",
       "  'conv_thr': 1.6e-09}}"
      ]
     },
     "execution_count": 18,
     "metadata": {},
     "output_type": "execute_result"
    }
   ],
   "source": [
    "# (1):\n",
    "\n",
    "overrides={\n",
    "    'pw':{\n",
    "        'parameters':{\n",
    "            'SYSTEM': {\n",
    "            'nosym': False,\n",
    "            'occupations': 'fixed',\n",
    "            'ecutwfc': 70.0,\n",
    "            'ecutrho': 70*4,\n",
    "            'force_symmorphic':True,\n",
    "                      },\n",
    "    },},}\n",
    "\n",
    "builder = PwBaseWorkchain.get_builder_from_protocol(\n",
    "                code=orm.load_code('pw-7.1@hydralogin'),\n",
    "                structure=orm.load_node(161),\n",
    "                protocol='fast',\n",
    "                overrides=overrides,\n",
    "                electronic_type=ElectronicType.INSULATOR,\n",
    "                pseudo_family=\"PseudoDojo/0.4/PBE/SR/standard/upf\",\n",
    "    \n",
    ")\n",
    "\n",
    "family = orm.load_group(\"PseudoDojo/0.4/PBE/SR/standard/upf\")\n",
    "#builder.<sublevels_up_to .pw>.pseudos = family.get_pseudos(structure=structure) \n",
    "builder.pw.pseudos = family.get_pseudos(structure=orm.load_node(161)) \n",
    "\n",
    "builder.pw.parameters.get_dict()"
   ]
  },
  {
   "cell_type": "markdown",
   "id": "b30f07d6",
   "metadata": {},
   "source": [
    "### Re-define input parameters\n",
    "\n",
    "The second way is to overwrite the inputs a posteriori, i.e. after the builder instance is created."
   ]
  },
  {
   "cell_type": "code",
   "execution_count": 19,
   "metadata": {},
   "outputs": [
    {
     "data": {
      "text/plain": [
       "{'CONTROL': {'calculation': 'scf',\n",
       "  'forc_conv_thr': 0.002,\n",
       "  'tprnfor': True,\n",
       "  'tstress': True,\n",
       "  'etot_conv_thr': 0.0002},\n",
       " 'SYSTEM': {'nosym': False,\n",
       "  'occupations': 'fixed',\n",
       "  'ecutwfc': 70.0,\n",
       "  'ecutrho': 280,\n",
       "  'force_symmorphic': True},\n",
       " 'ELECTRONS': {'electron_maxstep': 90, 'mixing_beta': 0.4, 'conv_thr': 8e-10}}"
      ]
     },
     "execution_count": 19,
     "metadata": {},
     "output_type": "execute_result"
    }
   ],
   "source": [
    "# (2)\n",
    "\n",
    "pw_parameters = {\n",
    "  'CONTROL': {'calculation': 'scf',\n",
    "  'forc_conv_thr': 0.002,\n",
    "  'tprnfor': True,\n",
    "  'tstress': True,\n",
    "  'etot_conv_thr': 0.0002},\n",
    " 'SYSTEM': {'nosym': False,\n",
    "  'occupations': 'fixed',\n",
    "  'ecutwfc': 70.0,\n",
    "  'ecutrho': 280,\n",
    "  'force_symmorphic':True,},\n",
    " 'ELECTRONS': {'electron_maxstep': 90, 'mixing_beta': 0.4, 'conv_thr': 8e-10},\n",
    "}\n",
    "\n",
    "builder.pw.parameters = orm.Dict(dict=pw_parameters)\n",
    "\n",
    "builder.pw.parameters.get_dict()"
   ]
  },
  {
   "cell_type": "markdown",
   "metadata": {},
   "source": [
    "Within protocols, the kpoints mesh is automatically choosen, by means of a `kpoints_distance` (inverse of the k-points density in the reciprocal space):"
   ]
  },
  {
   "cell_type": "code",
   "execution_count": 23,
   "metadata": {},
   "outputs": [
    {
     "data": {
      "text/plain": [
       "0.5"
      ]
     },
     "execution_count": 23,
     "metadata": {},
     "output_type": "execute_result"
    }
   ],
   "source": [
    "builder.kpoints_distance.value"
   ]
  },
  {
   "cell_type": "markdown",
   "metadata": {},
   "source": [
    "We can defined our desired k-points mesh, by creating an istance of `KpointsData` and then setting the `builder.kpoints` attribute again:"
   ]
  },
  {
   "cell_type": "code",
   "execution_count": 24,
   "metadata": {},
   "outputs": [],
   "source": [
    "kpoints = orm.KpointsData()\n",
    "kpoints.set_kpoints_mesh([4,4,4])\n",
    "\n",
    "builder.kpoints = kpoints"
   ]
  },
  {
   "cell_type": "markdown",
   "metadata": {},
   "source": [
    "Also, we set the workchain input `clean_workdir` to `False`, so we do not delete the remote folder after the simulation is finished (we need the data for the nscf step):"
   ]
  },
  {
   "cell_type": "code",
   "execution_count": 25,
   "metadata": {},
   "outputs": [],
   "source": [
    "builder.clean_workdir = orm.Bool(False)"
   ]
  },
  {
   "cell_type": "markdown",
   "metadata": {},
   "source": [
    "## (1.3) Setting the computational resources\n",
    " \n",
    "Then you should set up the options about resources and submission settings. \n",
    "These have to be stored as a python dictionary in the metadata method:"
   ]
  },
  {
   "cell_type": "code",
   "execution_count": 26,
   "metadata": {},
   "outputs": [],
   "source": [
    "builder.pw.metadata.options = {\n",
    "    'max_wallclock_seconds': 60*60, # in seconds\n",
    "    'resources': {\n",
    "            \"num_machines\": 1, # nodes\n",
    "            \"num_mpiprocs_per_machine\": 16, # MPI per nodes\n",
    "            \"num_cores_per_mpiproc\": 1, # OPENMP\n",
    "        },\n",
    "    'prepend_text': u\"export OMP_NUM_THREADS=\"+str(1), # if needed\n",
    "    #'account':'project_name',\n",
    "    'queue_name':'s3par',\n",
    "    #'qos':'',\n",
    "}"
   ]
  },
  {
   "cell_type": "markdown",
   "metadata": {},
   "source": [
    "## (2) Run\n",
    "\n",
    "Here we submit the simulation to the AiiDA daemon via the `submit` function. "
   ]
  },
  {
   "cell_type": "code",
   "execution_count": 33,
   "metadata": {},
   "outputs": [],
   "source": [
    "from aiida.engine import submit"
   ]
  },
  {
   "cell_type": "code",
   "execution_count": 28,
   "metadata": {},
   "outputs": [],
   "source": [
    "run_scf = submit(builder)"
   ]
  },
  {
   "cell_type": "markdown",
   "id": "b0385485",
   "metadata": {},
   "source": [
    "We can see that the `run_scf` variable is indeed our `PwBaseWorkchain` just submitted:"
   ]
  },
  {
   "cell_type": "code",
   "execution_count": 37,
   "metadata": {},
   "outputs": [
    {
     "name": "stdout",
     "output_type": "stream",
     "text": [
      "PwBaseWorkchain instance: uuid: ac97fe6d-ae91-4072-aa19-71fe3436344f (pk: 1983) (aiida.workflows:quantumespresso.pw.base)\n",
      "PwBaseWorkchain pk: 1983\n",
      "PwBaseWorkchain uuid: ac97fe6d-ae91-4072-aa19-71fe3436344f\n"
     ]
    }
   ],
   "source": [
    "print(\"PwBaseWorkchain instance:\", run_scf)\n",
    "print(\"PwBaseWorkchain pk:\", run_scf.pk)\n",
    "print(\"PwBaseWorkchain uuid:\", run_scf.uuid)"
   ]
  },
  {
   "cell_type": "markdown",
   "metadata": {},
   "source": [
    "You can control the calculation from shell, typing one or more of these commands:\n",
    "\n",
    "```bash\n",
    "    verdi process list\n",
    "    verdi process show <pk of the run_scf>\n",
    "    verdi process report <pk of the run_scf>\n",
    "```"
   ]
  },
  {
   "cell_type": "markdown",
   "id": "1e28df9e",
   "metadata": {},
   "source": [
    "It is possible to check if the calculation `is_finished_ok`:"
   ]
  },
  {
   "cell_type": "code",
   "execution_count": 38,
   "metadata": {},
   "outputs": [
    {
     "data": {
      "text/plain": [
       "True"
      ]
     },
     "execution_count": 38,
     "metadata": {},
     "output_type": "execute_result"
    }
   ],
   "source": [
    "run_scf.is_finished_ok"
   ]
  },
  {
   "cell_type": "markdown",
   "id": "5f0b8a45",
   "metadata": {},
   "source": [
    "If this is the case, we can start inspecting the outputs of the calculation."
   ]
  },
  {
   "cell_type": "code",
   "execution_count": 39,
   "metadata": {},
   "outputs": [
    {
     "data": {
      "text/plain": [
       "{'lsda': False,\n",
       " 'energy': -729.59295119727,\n",
       " 'volume': 34.754548090754,\n",
       " 'fft_grid': [25, 25, 72],\n",
       " 'energy_xc': -236.50857084077,\n",
       " 'wall_time': '      4.60s ',\n",
       " 'rho_cutoff': 3809.593683084,\n",
       " 'symmetries': [{'t_rev': '0', 'symmetry_number': 0},\n",
       "  {'t_rev': '0', 'symmetry_number': 2},\n",
       "  {'t_rev': '0', 'symmetry_number': 26},\n",
       "  {'t_rev': '0', 'symmetry_number': 27},\n",
       "  {'t_rev': '0', 'symmetry_number': 28},\n",
       "  {'t_rev': '0', 'symmetry_number': 29},\n",
       "  {'t_rev': '0', 'symmetry_number': 33},\n",
       "  {'t_rev': '0', 'symmetry_number': 35},\n",
       "  {'t_rev': '0', 'symmetry_number': 56},\n",
       "  {'t_rev': '0', 'symmetry_number': 57},\n",
       "  {'t_rev': '0', 'symmetry_number': 62},\n",
       "  {'t_rev': '0', 'symmetry_number': 63}],\n",
       " 'wfc_cutoff': 952.398420771,\n",
       " 'format_name': 'QEXSD',\n",
       " 'lkpoint_dir': False,\n",
       " 'occupations': 'fixed',\n",
       " 'total_force': 0.0,\n",
       " 'creator_name': 'pwscf',\n",
       " 'energy_ewald': -516.99706371224,\n",
       " 'energy_units': 'eV',\n",
       " 'fermi_energy': 4.7464524860223,\n",
       " 'forces_units': 'ev / angstrom',\n",
       " 'q_real_space': False,\n",
       " 'stress_units': 'GPascal',\n",
       " 'charge_density': './charge-density.dat',\n",
       " 'constraint_mag': 0,\n",
       " 'energy_hartree': 211.6406419372,\n",
       " 'format_version': '21.11.01',\n",
       " 'scf_iterations': 27,\n",
       " 'beta_real_space': False,\n",
       " 'creator_version': '7.1',\n",
       " 'energy_accuracy': 4.898049021108e-09,\n",
       " 'energy_xc_units': 'eV',\n",
       " 'number_of_atoms': 4,\n",
       " 'number_of_bands': 8,\n",
       " 'smooth_fft_grid': [25, 25, 72],\n",
       " 'convergence_info': {'scf_conv': {'scf_error': 1.8079459374051e-10,\n",
       "   'n_scf_steps': 27,\n",
       "   'convergence_achieved': True}},\n",
       " 'do_magnetization': False,\n",
       " 'energy_threshold': 1.69e-11,\n",
       " 'rho_cutoff_units': 'eV',\n",
       " 'spin_orbit_domag': False,\n",
       " 'symmetries_units': 'crystal',\n",
       " 'wfc_cutoff_units': 'eV',\n",
       " 'number_of_species': 2,\n",
       " 'total_force_units': 'ev / angstrom',\n",
       " 'wall_time_seconds': 4.6,\n",
       " 'energy_ewald_units': 'eV',\n",
       " 'fermi_energy_units': 'eV',\n",
       " 'has_electric_field': False,\n",
       " 'inversion_symmetry': False,\n",
       " 'lattice_symmetries': [{'t_rev': '0', 'symmetry_number': 32},\n",
       "  {'t_rev': '0', 'symmetry_number': 1},\n",
       "  {'t_rev': '0', 'symmetry_number': 34},\n",
       "  {'t_rev': '0', 'symmetry_number': 3},\n",
       "  {'t_rev': '0', 'symmetry_number': 24},\n",
       "  {'t_rev': '0', 'symmetry_number': 25},\n",
       "  {'t_rev': '0', 'symmetry_number': 58},\n",
       "  {'t_rev': '0', 'symmetry_number': 59},\n",
       "  {'t_rev': '0', 'symmetry_number': 60},\n",
       "  {'t_rev': '0', 'symmetry_number': 61},\n",
       "  {'t_rev': '0', 'symmetry_number': 30},\n",
       "  {'t_rev': '0', 'symmetry_number': 31}],\n",
       " 'number_of_k_points': 12,\n",
       " 'time_reversal_flag': True,\n",
       " 'energy_one_electron': -187.72795858146,\n",
       " 'estimated_ram_total': 30.25,\n",
       " 'monkhorst_pack_grid': [4, 4, 4],\n",
       " 'number_of_electrons': 16.0,\n",
       " 'energy_hartree_units': 'eV',\n",
       " 'magnetization_angle1': [0.0, 0.0],\n",
       " 'magnetization_angle2': [0.0, 0.0],\n",
       " 'number_of_atomic_wfc': 16,\n",
       " 'number_of_symmetries': 12,\n",
       " 'energy_accuracy_units': 'eV',\n",
       " 'has_dipole_correction': False,\n",
       " 'monkhorst_pack_offset': [0, 0, 0],\n",
       " 'init_wall_time_seconds': 0.7,\n",
       " 'lda_plus_u_calculation': False,\n",
       " 'no_time_rev_operations': False,\n",
       " 'spin_orbit_calculation': False,\n",
       " 'starting_magnetization': [0.0, 0.0],\n",
       " 'dft_exchange_correlation': 'PBE',\n",
       " 'do_not_use_time_reversal': False,\n",
       " 'non_colinear_calculation': False,\n",
       " 'energy_one_electron_units': 'eV',\n",
       " 'estimated_ram_per_process': 1.89,\n",
       " 'estimated_ram_total_units': 'MB',\n",
       " 'number_of_spin_components': 1,\n",
       " 'number_of_bravais_symmetries': 24,\n",
       " 'total_number_of_scf_iterations': 27,\n",
       " 'estimated_ram_per_process_units': 'MB'}"
      ]
     },
     "execution_count": 39,
     "metadata": {},
     "output_type": "execute_result"
    }
   ],
   "source": [
    "run_scf.outputs.output_parameters.get_dict()   #use tab to see available outputs"
   ]
  },
  {
   "cell_type": "markdown",
   "metadata": {},
   "source": [
    "## (3) Run the NSCF step"
   ]
  },
  {
   "cell_type": "code",
   "execution_count": 45,
   "metadata": {},
   "outputs": [],
   "source": [
    "overrides={\n",
    "    'pw':{\n",
    "        'parameters':{\n",
    "            'CONTROL': {\n",
    "                'calculation': 'nscf',\n",
    "                'restart_mode':'restart',},\n",
    "            'SYSTEM': {\n",
    "            'nosym': False,\n",
    "            'occupations': 'fixed',\n",
    "            'ecutwfc': 70.0,\n",
    "            'ecutrho': 70*4,\n",
    "            'nbnd':200,\n",
    "            'force_symmorphic':True,\n",
    "                      },\n",
    "    },},}\n",
    "\n",
    "builder = PwBaseWorkchain.get_builder_from_protocol(\n",
    "    \n",
    "                code=orm.load_code('pw-7.1@hydralogin'),\n",
    "                structure=orm.load_node(161),\n",
    "                protocol='fast',\n",
    "                overrides=overrides,\n",
    "                electronic_type=ElectronicType.INSULATOR,\n",
    "                pseudo_family=\"PseudoDojo/0.4/PBE/SR/standard/upf\",\n",
    "    \n",
    ")\n",
    "\n",
    "#If you want to change the pseudos:\n",
    "family = orm.load_group(\"PseudoDojo/0.4/PBE/SR/standard/upf\")\n",
    "#builder.<sublevels_up_to .pw>.pseudos = family.get_pseudos(structure=structure) \n",
    "builder.pw.pseudos = family.get_pseudos(structure=orm.load_node(161)) \n",
    "\n",
    "builder.pw.metadata.options = {\n",
    "    'max_wallclock_seconds': 60*60, # in seconds\n",
    "    'resources': {\n",
    "            \"num_machines\": 1, # nodes\n",
    "            \"num_mpiprocs_per_machine\": 16, # MPI per nodes\n",
    "            \"num_cores_per_mpiproc\": 1, # OPENMP\n",
    "        },\n",
    "    'prepend_text': u\"export OMP_NUM_THREADS=\"+str(1), # if needed\n",
    "    #'account':'project_name',\n",
    "    'queue_name':'s3par',\n",
    "    #'qos':'',\n",
    "}\n",
    "\n",
    "builder.clean_workdir = orm.Bool(False)"
   ]
  },
  {
   "cell_type": "markdown",
   "metadata": {},
   "source": [
    "### Setting the parent scf calculation as starting point for the nscf.\n",
    "\n",
    "We set as parent_folder the previous completed scf run. \n",
    "This needs to be provided by means of the `builder.pw.parent_folder` attribute."
   ]
  },
  {
   "cell_type": "code",
   "execution_count": 46,
   "metadata": {},
   "outputs": [],
   "source": [
    "parent_scf = orm.load_node(1983)\n",
    "builder.pw.parent_folder = parent_scf.outputs.remote_folder"
   ]
  },
  {
   "cell_type": "code",
   "execution_count": 47,
   "metadata": {},
   "outputs": [],
   "source": [
    "run_nscf = submit(builder)"
   ]
  },
  {
   "cell_type": "code",
   "execution_count": 51,
   "metadata": {},
   "outputs": [
    {
     "data": {
      "text/plain": [
       "2014"
      ]
     },
     "execution_count": 51,
     "metadata": {},
     "output_type": "execute_result"
    }
   ],
   "source": [
    "run_nscf.pk"
   ]
  },
  {
   "cell_type": "code",
   "execution_count": 54,
   "metadata": {},
   "outputs": [
    {
     "data": {
      "text/plain": [
       "False"
      ]
     },
     "execution_count": 54,
     "metadata": {},
     "output_type": "execute_result"
    }
   ],
   "source": [
    "run_nscf.is_finished_ok"
   ]
  }
 ],
 "metadata": {
  "kernelspec": {
   "display_name": "minitutorial",
   "language": "python",
   "name": "python3"
  },
  "language_info": {
   "codemirror_mode": {
    "name": "ipython",
    "version": 3
   },
   "file_extension": ".py",
   "mimetype": "text/x-python",
   "name": "python",
   "nbconvert_exporter": "python",
   "pygments_lexer": "ipython3",
   "version": "3.10.13"
  }
 },
 "nbformat": 4,
 "nbformat_minor": 5
}
