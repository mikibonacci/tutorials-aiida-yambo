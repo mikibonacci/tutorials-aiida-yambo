{
 "cells": [
  {
   "cell_type": "markdown",
   "metadata": {},
   "source": [
    "# YamboCalculation: a single G0W0 run\n",
    "\n",
    "This is the calcjob class of the plugin that runs a single yambo calculation (p2y+yambo), and does not involve any outputs analysis or further post processing (e.g. automatic determination of quasiparticle band gaps, excitonic eigenvalues).\n",
    "\n",
    "As in the *02_QE_starting_point* module, we create a builder instance and submit it."
   ]
  },
  {
   "cell_type": "code",
   "execution_count": 11,
   "metadata": {},
   "outputs": [
    {
     "data": {
      "text/plain": [
       "Profile<uuid='b35700dae723411ea16ebc82d58f16bc' name='mb'>"
      ]
     },
     "execution_count": 11,
     "metadata": {},
     "output_type": "execute_result"
    }
   ],
   "source": [
    "from aiida import orm, load_profile\n",
    "load_profile()"
   ]
  },
  {
   "cell_type": "code",
   "execution_count": 12,
   "metadata": {},
   "outputs": [],
   "source": [
    "from aiida.plugins import CalculationFactory\n",
    "\n",
    "YamboCalculation = CalculationFactory('yambo.yambo')\n",
    "builder = YamboCalculation.get_builder()"
   ]
  },
  {
   "cell_type": "code",
   "execution_count": null,
   "id": "161074b3",
   "metadata": {},
   "outputs": [],
   "source": [
    "builder. # + tab completion"
   ]
  },
  {
   "cell_type": "markdown",
   "metadata": {},
   "source": [
    "## Setting *yambo*, *p2y* codes and resources\n"
   ]
  },
  {
   "cell_type": "code",
   "execution_count": 6,
   "metadata": {},
   "outputs": [],
   "source": [
    "builder.code = orm.load_code('yambo-5.1@hydralogin')               #yambo executable\n",
    "builder.preprocessing_code = orm.load_code('p2y-5.1@hydralogin')   #p2y   executable"
   ]
  },
  {
   "cell_type": "code",
   "execution_count": 7,
   "metadata": {},
   "outputs": [],
   "source": [
    "builder.metadata.options = {\n",
    "    'max_wallclock_seconds': 60*60, # in seconds\n",
    "    'resources': {\n",
    "            \"num_machines\": 1, # nodes\n",
    "            \"num_mpiprocs_per_machine\": 16, # MPI per nodes\n",
    "            \"num_cores_per_mpiproc\": 1, # THREADS\n",
    "        },\n",
    "    'prepend_text': u\"export OMP_NUM_THREADS=\"+str(1), # if needed\n",
    "    #'account':'project_name',\n",
    "    'queue_name':'s3par',\n",
    "    #'qos':'',\n",
    "}"
   ]
  },
  {
   "cell_type": "markdown",
   "id": "a0a460e4",
   "metadata": {},
   "source": [
    "The yambo inputs, used to write the input file (yambo.in -> aiida.in) are provided as a python dictionary, then\n",
    "stored in the database as an AiiDA Dict. \n",
    "Runlevels are included under the 'arguments' key, as a list of strings. Parameters are instead in the 'variables' dictionary, as you can see. The format is the same as *yambopy* (indeed, to write the input file, the code uses the `YamboIn` class, as imported from *yambopy*)."
   ]
  },
  {
   "cell_type": "code",
   "execution_count": 8,
   "metadata": {},
   "outputs": [],
   "source": [
    "params = {\n",
    "        'arguments': [\n",
    "            'dipoles',\n",
    "            'HF_and_locXC',\n",
    "            'dipoles',\n",
    "            'gw0',\n",
    "            'ppa',],\n",
    "        'variables': {\n",
    "            'Chimod': 'hartree',\n",
    "            'DysSolver': 'n',\n",
    "            'GTermKind': 'BG',\n",
    "            'NGsBlkXp': [2, 'Ry'],\n",
    "            'BndsRnXp': [[1, 50], ''],\n",
    "            'GbndRnge': [[1, 50], ''],\n",
    "            'QPkrange': [[[1, 10, 8, 9]], ''],}}\n",
    "\n",
    "builder.parameters = orm.Dict(dict=params)"
   ]
  },
  {
   "cell_type": "markdown",
   "metadata": {},
   "source": [
    "You can also provide a settings dictionary, where to specify some instructions (False is default for any of them)"
   ]
  },
  {
   "cell_type": "code",
   "execution_count": 11,
   "metadata": {},
   "outputs": [],
   "source": [
    "builder.settings = orm.Dict(dict={\n",
    "    'INITIALISE': False,    # if True, run only p2y and yambo initialization\n",
    "    'COPY_DBS': False,      # if True, copy the out folder of a previous yambo calculation\n",
    "    'COPY_SAVE': False,     # if True, copy the SAVE folder of a previous yambo calculation\n",
    "    'RESTART_YAMBO': False, # if True, soft-link the out folder of a previous yambo calculation\n",
    "})\n",
    "\n",
    "\n",
    "#To run  only p2y+yambo init, it is possible to set:\n",
    "#params_gw = Dict(dict={\n",
    "#        'arguments': [],\n",
    "#        'variables': {}})\n"
   ]
  },
  {
   "cell_type": "markdown",
   "metadata": {},
   "source": [
    "## Setting the QuantumEspresso parent nscf calculation\n",
    "\n",
    "Yambo simulations need to have a DFT starting point, i.e. the ground state wavefunctions as obtained in a non self-consistent calculation. This was achieved in the previous module (*02_QE_starting_point*). \n",
    "We are gonna use that results and set the `remote_folder` of the nscf as `parent_folder` of our GW simulation."
   ]
  },
  {
   "cell_type": "code",
   "execution_count": 14,
   "metadata": {},
   "outputs": [],
   "source": [
    "nscf_pk = 2014 # the pk of the nscf calculation or workchain.\n",
    "\n",
    "\n",
    "builder.parent_folder = orm.load_node(nscf_pk).outputs.remote_folder"
   ]
  },
  {
   "cell_type": "markdown",
   "metadata": {},
   "source": [
    "## 3 RUN"
   ]
  },
  {
   "cell_type": "code",
   "execution_count": 15,
   "metadata": {},
   "outputs": [],
   "source": [
    "from aiida.engine import submit"
   ]
  },
  {
   "cell_type": "code",
   "execution_count": 16,
   "metadata": {},
   "outputs": [],
   "source": [
    "run = None"
   ]
  },
  {
   "cell_type": "code",
   "execution_count": 17,
   "metadata": {},
   "outputs": [
    {
     "name": "stdout",
     "output_type": "stream",
     "text": [
      "uuid: 38b99615-20c3-4e88-bcff-c7fb98273ead (pk: 2029) (aiida.calculations:yambo.yambo)\n"
     ]
    }
   ],
   "source": [
    "if run:\n",
    "    print('run is already running -> {}'.format(run.pk))\n",
    "    print('sure that you want to run again?, if so, copy the else instruction in the cell below and run!')\n",
    "else:\n",
    "    run = submit(builder)\n",
    "\n",
    "print(run)"
   ]
  },
  {
   "cell_type": "markdown",
   "metadata": {},
   "source": [
    "# Inspecting the outputs\n",
    "\n",
    "suppose that your calculation completed successfully:"
   ]
  },
  {
   "cell_type": "code",
   "execution_count": 16,
   "metadata": {},
   "outputs": [
    {
     "data": {
      "text/plain": [
       "True"
      ]
     },
     "execution_count": 16,
     "metadata": {},
     "output_type": "execute_result"
    }
   ],
   "source": [
    "run.is_finished_ok"
   ]
  },
  {
   "cell_type": "markdown",
   "id": "9d243637",
   "metadata": {},
   "source": [
    "Then you can access the outputs via the output method of the run instance: "
   ]
  },
  {
   "cell_type": "code",
   "execution_count": null,
   "metadata": {},
   "outputs": [],
   "source": [
    "run.outputs. #+TAB"
   ]
  },
  {
   "cell_type": "markdown",
   "metadata": {},
   "source": [
    "For example, we have the array_ndb ArrayData, which essentially contains the information on the run.output.QP_DB (which can also be accessed directly):"
   ]
  },
  {
   "cell_type": "code",
   "execution_count": 18,
   "metadata": {},
   "outputs": [
    {
     "data": {
      "text/plain": [
       "['E',\n",
       " 'Z',\n",
       " 'Eo',\n",
       " 'Sc',\n",
       " 'Sx',\n",
       " 'Vxc',\n",
       " 'Band',\n",
       " 'Kpoint',\n",
       " 'nbands',\n",
       " 'nkpoints',\n",
       " 'qp_table',\n",
       " 'E_minus_Eo',\n",
       " 'Kpoint_index']"
      ]
     },
     "execution_count": 18,
     "metadata": {},
     "output_type": "execute_result"
    }
   ],
   "source": [
    "run.outputs.array_ndb.get_arraynames()"
   ]
  },
  {
   "cell_type": "code",
   "execution_count": 19,
   "metadata": {},
   "outputs": [],
   "source": [
    "E_dft = run.outputs.array_ndb.get_array('Eo') # Ha units\n",
    "E_qp = run.outputs.array_ndb.get_array('E')   # Ha units"
   ]
  },
  {
   "cell_type": "markdown",
   "id": "fd01adcc",
   "metadata": {},
   "source": [
    "The `E_dft` and `E_qp` are in Hartree units. We can use the *ase* module `units` to then convert easily to eV, and then plot:"
   ]
  },
  {
   "cell_type": "code",
   "execution_count": 22,
   "metadata": {},
   "outputs": [
    {
     "data": {
      "image/png": "[encoded data removed]",
      "text/plain": [
       "<Figure size 640x480 with 1 Axes>"
      ]
     },
     "metadata": {},
     "output_type": "display_data"
    }
   ],
   "source": [
    "from ase import units\n",
    "from matplotlib import pyplot as plt\n",
    "\n",
    "plt.plot(E_dft.real*units.Ha,E_qp.real*units.Ha,'o')\n",
    "plt.ylabel('G0W0')\n",
    "plt.xlabel('DFT')\n",
    "plt.grid()"
   ]
  },
  {
   "cell_type": "code",
   "execution_count": 23,
   "metadata": {},
   "outputs": [
    {
     "data": {
      "text/plain": [
       "array([-0.06425226+0.0004566j ,  0.21668726-0.00044731j,\n",
       "       -0.06549172+0.00045731j,  0.3326313 -0.00050405j,\n",
       "       -0.10030358+0.00048209j,  0.2526744 -0.00045883j,\n",
       "       -0.10188711+0.00048298j,  0.35731348-0.00043031j,\n",
       "       -0.0671998 +0.00044998j,  0.31762987-0.00052747j,\n",
       "       -0.11563124+0.00048145j,  0.32605276-0.00052545j,\n",
       "       -0.02004499+0.00040752j,  0.20650192-0.00043392j,\n",
       "       -0.04454358+0.00041815j,  0.22787195-0.00044196j,\n",
       "       -0.08917301+0.0004802j ,  0.3163973 -0.00048678j,\n",
       "       -0.1407197 +0.00051105j,  0.36455107-0.00051195j], dtype=complex64)"
      ]
     },
     "execution_count": 23,
     "metadata": {},
     "output_type": "execute_result"
    }
   ],
   "source": [
    "E_qp"
   ]
  },
  {
   "cell_type": "markdown",
   "id": "eeb8aa19",
   "metadata": {},
   "source": [
    "The `output_parameters` Dict contains information on the simulation:"
   ]
  },
  {
   "cell_type": "code",
   "execution_count": 25,
   "metadata": {},
   "outputs": [
    {
     "data": {
      "text/plain": [
       "{'errors': [],\n",
       " 'timing': [' <---> P1: [01] MPI/OPENMP structure, Files & I/O Directories\\n',\n",
       "  ' <---> P1: [02] CORE Variables Setup\\n',\n",
       "  ' <---> P1: [03] Transferred momenta grid and indexing\\n',\n",
       "  ' <---> P1: [04] Dipoles\\n',\n",
       "  ' <---> P1: [05] Dynamic Dielectric Matrix (PPA)\\n',\n",
       "  ' <04s> P1: [06] Local Exchange-Correlation + Non-Local Fock\\n',\n",
       "  ' <04s> P1: [07] Dyson equation: Newton solver\\n',\n",
       "  ' <05s> P1: [08] Timing Overview\\n',\n",
       "  ' <05s> P1: [09] Game Over & Game summary\\n'],\n",
       " 'has_gpu': False,\n",
       " 'memstats': [],\n",
       " 'warnings': [],\n",
       " 'Fermi(eV)': 5.113534,\n",
       " 'game_over': True,\n",
       " 'last_time': 5,\n",
       " 'para_error': False,\n",
       " 'time_error': False,\n",
       " 'ns_db1_path': '/tmp/tmpq_c38i5b',\n",
       " 'memory_error': False,\n",
       " 'p2y_completed': True,\n",
       " 'yambo_version': '5.x',\n",
       " 'requested_time': 3600,\n",
       " 'last_time_units': 'seconds',\n",
       " 'yambo_wrote_dbs': True,\n",
       " 'corrupted_fragment': False,\n",
       " 'X_par_allocation_error': False}"
      ]
     },
     "execution_count": 25,
     "metadata": {},
     "output_type": "execute_result"
    }
   ],
   "source": [
    "run.outputs.output_parameters.get_dict()"
   ]
  },
  {
   "cell_type": "markdown",
   "id": "7f5a3fab",
   "metadata": {},
   "source": [
    "As output, also the `ndb.QP` database is stored:"
   ]
  },
  {
   "cell_type": "code",
   "execution_count": 28,
   "metadata": {},
   "outputs": [
    {
     "data": {
      "text/plain": [
       "<SinglefileData: uuid: 089992d6-97ff-4f0b-8cde-48594901fd80 (pk: 2032)>"
      ]
     },
     "execution_count": 28,
     "metadata": {},
     "output_type": "execute_result"
    }
   ],
   "source": [
    "run.outputs.QP_db"
   ]
  },
  {
   "cell_type": "markdown",
   "id": "a6e9ec2a",
   "metadata": {},
   "source": [
    "This can be used again: for example, we may be interested on BSE simulations on top of these quasiparticle corrections. \n",
    "We can do the following (assuming the `builder.parameters` are now the one for a BSE calculation):\n",
    "\n",
    "```python\n",
    "    builder.QP_corrections = orm.load_node(2032)   # ---> QP_db node\n",
    "    params['variables']['KfnQPdb'] =  \"E < ./ndb.QP\"\n",
    "    builder.parameters = orm.Dict(dict=params)\n",
    "```"
   ]
  }
 ],
 "metadata": {
  "kernelspec": {
   "display_name": "minitutorial",
   "language": "python",
   "name": "python3"
  },
  "language_info": {
   "codemirror_mode": {
    "name": "ipython",
    "version": 3
   },
   "file_extension": ".py",
   "mimetype": "text/x-python",
   "name": "python",
   "nbconvert_exporter": "python",
   "pygments_lexer": "ipython3",
   "version": "3.10.13"
  }
 },
 "nbformat": 4,
 "nbformat_minor": 5
}
