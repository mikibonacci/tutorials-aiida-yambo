{
 "cells": [
  {
   "cell_type": "markdown",
   "metadata": {},
   "source": [
    "# YamboRestart: a G0W0 run with error handling and automatic input creation\n",
    "\n",
    "This is the lowest-level workflow of the plugin. It runs a yambo calculation (p2y+yambo), involving ***automatic error handling***.\n",
    "Another difference with respect to the simple `YamboCalculation` is that here we can populate the inputs with default values, via the `get_builder_from_protocol` method of the workchain."
   ]
  },
  {
   "cell_type": "code",
   "execution_count": 35,
   "metadata": {},
   "outputs": [
    {
     "data": {
      "text/plain": [
       "Profile<uuid='b35700dae723411ea16ebc82d58f16bc' name='mb'>"
      ]
     },
     "execution_count": 35,
     "metadata": {},
     "output_type": "execute_result"
    }
   ],
   "source": [
    "from aiida import orm, load_profile\n",
    "load_profile()"
   ]
  },
  {
   "cell_type": "markdown",
   "metadata": {},
   "source": [
    "The creation of the builder, for a given workflow, is provided by means of the `get_builder_from_protocol` method.\n",
    "This is, for now, just a way to automatically populated all the needed inputs, allowing the user to partially skip the part of input definition.\n",
    "\n",
    "However, for GW and BSE simulation, default parameter values for a given level of accuracy are not really tested, so the user should check carefully them before the submission of the simulation."
   ]
  },
  {
   "cell_type": "code",
   "execution_count": 36,
   "metadata": {},
   "outputs": [],
   "source": [
    "from aiida.plugins import WorkflowFactory\n",
    "YamboRestart = WorkflowFactory('yambo.yambo.yamborestart')"
   ]
  },
  {
   "cell_type": "markdown",
   "metadata": {},
   "source": [
    "## Providing the minimal inputs needed for protocols\n",
    "\n",
    "We have to provide minimal inputs for the creation of the builder instance, namely:\n",
    "- codes;\n",
    "- `parent_folder`;"
   ]
  },
  {
   "cell_type": "code",
   "execution_count": 37,
   "metadata": {},
   "outputs": [],
   "source": [
    "options = {\n",
    "    'yamboprecode_id':'p2y-5.1@hydralogin',\n",
    "    'yambocode_id':'yambo-5.1@hydralogin',\n",
    "    'protocol':'fast',\n",
    "    'parent_id':2014, #take your previously nscf id (pk)\n",
    "}"
   ]
  },
  {
   "cell_type": "code",
   "execution_count": 38,
   "metadata": {},
   "outputs": [],
   "source": [
    "#YamboRestart.get_builder_from_protocol??"
   ]
  },
  {
   "cell_type": "code",
   "execution_count": 43,
   "metadata": {},
   "outputs": [
    {
     "name": "stdout",
     "output_type": "stream",
     "text": [
      "Summary of the main inputs:\n",
      "BndsRnXp = 200\n",
      "GbndRnge = 200\n",
      "NGsBlkXp = 6 Ry\n",
      "FFTGvecs = 21 Ry\n",
      "\n"
     ]
    }
   ],
   "source": [
    "builder = YamboRestart.get_builder_from_protocol(\n",
    "            preprocessing_code = options['yamboprecode_id'],\n",
    "            code = options['yambocode_id'],\n",
    "            protocol=options['protocol'],\n",
    "            overrides={},\n",
    "            parent_folder=orm.load_node(options['parent_id']).outputs.remote_folder,\n",
    "            RIM_v=False,           #this automatically set RIM_cut, if True\n",
    "            RIM_W=False,           #this automatically set RIM_W, if True\n",
    "            BG_term=False,         #this automatically set BG terminator, if True\n",
    ")"
   ]
  },
  {
   "cell_type": "markdown",
   "id": "f25bdda2",
   "metadata": {},
   "source": [
    "You can also inspect the other protocols which are available: "
   ]
  },
  {
   "cell_type": "code",
   "execution_count": 40,
   "metadata": {},
   "outputs": [
    {
     "data": {
      "text/plain": [
       "{'fast': {'description': 'Under converged for most materials, but fast'},\n",
       " 'moderate': {'description': 'Meta converged for most materials, higher computational cost than fast'},\n",
       " 'precise': {'description': 'Converged for most materials, higher computational cost than moderate'},\n",
       " 'bse_fast': {'description': 'Under converged for most materials, but fast'},\n",
       " 'bse_moderate': {'description': 'Meta converged for most materials, higher computational cost than fast'},\n",
       " 'bse_precise': {'description': 'Converged for most materials, higher computational cost than moderate'}}"
      ]
     },
     "execution_count": 40,
     "metadata": {},
     "output_type": "execute_result"
    }
   ],
   "source": [
    "YamboRestart.get_available_protocols()"
   ]
  },
  {
   "cell_type": "markdown",
   "metadata": {},
   "source": [
    "Now, if you inspect the pre populated inputs, you can see the default values respecting the imposed protocol:"
   ]
  },
  {
   "cell_type": "code",
   "execution_count": 41,
   "metadata": {},
   "outputs": [
    {
     "data": {
      "text/plain": [
       "{'arguments': ['dipoles', 'ppa', 'HF_and_locXC', 'gw0'],\n",
       " 'variables': {'Chimod': 'hartree',\n",
       "  'DysSolver': 'n',\n",
       "  'GTermKind': 'BG',\n",
       "  'X_and_IO_nCPU_LinAlg_INV': [1, ''],\n",
       "  'NGsBlkXp': [6, 'Ry'],\n",
       "  'FFTGvecs': [21, 'Ry'],\n",
       "  'BndsRnXp': [[1, 200], ''],\n",
       "  'GbndRnge': [[1, 200], ''],\n",
       "  'QPkrange': [[[1, 1, 32, 32]], '']}}"
      ]
     },
     "execution_count": 41,
     "metadata": {},
     "output_type": "execute_result"
    }
   ],
   "source": [
    "builder.yambo.parameters.get_dict()"
   ]
  },
  {
   "cell_type": "markdown",
   "metadata": {},
   "source": [
    "Let's provide also the resources:"
   ]
  },
  {
   "cell_type": "code",
   "execution_count": 44,
   "metadata": {},
   "outputs": [],
   "source": [
    "builder.yambo.metadata.options = {\n",
    "    'max_wallclock_seconds': 60*60, # in seconds\n",
    "    'resources': {\n",
    "            \"num_machines\": 1, # nodes\n",
    "            \"num_mpiprocs_per_machine\": 16, # MPI per nodes\n",
    "            \"num_cores_per_mpiproc\": 1, # OPENMP\n",
    "        },\n",
    "    'prepend_text': u\"export OMP_NUM_THREADS=\"+str(1), # if needed\n",
    "    #'account':'project_name',\n",
    "    'queue_name':'s3par',\n",
    "    #'qos':'',\n",
    "}"
   ]
  },
  {
   "cell_type": "markdown",
   "metadata": {},
   "source": [
    "### Overrides\n",
    "\n",
    "It is possible to modify the default inputs also during the builder creation phase, so not a posteriori. This can be done by using overrides:"
   ]
  },
  {
   "cell_type": "code",
   "execution_count": 26,
   "metadata": {},
   "outputs": [],
   "source": [
    "overrides_yambo = {\n",
    "        \"yambo\": {\n",
    "            \"parameters\": {\n",
    "                \"arguments\": [\n",
    "                    \"rim_cut\",\n",
    "                ],\n",
    "                \"variables\": {\n",
    "                    \"NGsBlkXp\": [4, \"Ry\"],\n",
    "                },\n",
    "            },\n",
    "    'metadata':{\n",
    "                    'options':{\n",
    "    'max_wallclock_seconds': 60*60, # in seconds\n",
    "    'resources': {\n",
    "            \"num_machines\": 1, # nodes\n",
    "            \"num_mpiprocs_per_machine\": 16, # MPI per nodes\n",
    "            \"num_cores_per_mpiproc\": 1, # OPENMP\n",
    "        },\n",
    "    'prepend_text': u\"export OMP_NUM_THREADS=\"+str(1), # if needed\n",
    "    #'account':'project_name',\n",
    "    'queue_name':'s3par',\n",
    "    #'qos':'',\n",
    "                    },\n",
    "    },\n",
    "        }\n",
    "}"
   ]
  },
  {
   "cell_type": "code",
   "execution_count": 27,
   "metadata": {},
   "outputs": [
    {
     "name": "stdout",
     "output_type": "stream",
     "text": [
      "Summary of the main inputs:\n",
      "BndsRnXp = 200\n",
      "GbndRnge = 200\n",
      "NGsBlkXp = 4 Ry\n",
      "FFTGvecs = 21 Ry\n",
      "\n"
     ]
    }
   ],
   "source": [
    "builder = YamboRestart.get_builder_from_protocol(\n",
    "            preprocessing_code = options['yamboprecode_id'],\n",
    "            code = options['yambocode_id'],\n",
    "            protocol=options['protocol'],\n",
    "            overrides=overrides_yambo,\n",
    "            parent_folder=orm.load_node(options['parent_id']).outputs.remote_folder,\n",
    ")"
   ]
  },
  {
   "cell_type": "code",
   "execution_count": 28,
   "metadata": {},
   "outputs": [
    {
     "data": {
      "text/plain": [
       "{'stash': {}, 'resources': {'num_machines': 1, 'num_mpiprocs_per_machine': 16, 'num_cores_per_mpiproc': 1}, 'max_wallclock_seconds': 3600, 'withmpi': True, 'prepend_text': 'export OMP_NUM_THREADS=1', 'queue_name': 's3par'}"
      ]
     },
     "execution_count": 28,
     "metadata": {},
     "output_type": "execute_result"
    }
   ],
   "source": [
    "builder.yambo.metadata.options"
   ]
  },
  {
   "cell_type": "code",
   "execution_count": 29,
   "metadata": {},
   "outputs": [
    {
     "data": {
      "text/plain": [
       "{'arguments': ['gw0', 'HF_and_locXC', 'ppa', 'rim_cut', 'dipoles'],\n",
       " 'variables': {'Chimod': 'hartree',\n",
       "  'DysSolver': 'n',\n",
       "  'GTermKind': 'BG',\n",
       "  'X_and_IO_nCPU_LinAlg_INV': [1, ''],\n",
       "  'NGsBlkXp': [4, 'Ry'],\n",
       "  'FFTGvecs': [21, 'Ry'],\n",
       "  'BndsRnXp': [[1, 200], ''],\n",
       "  'GbndRnge': [[1, 200], ''],\n",
       "  'QPkrange': [[[1, 1, 32, 32]], '']}}"
      ]
     },
     "execution_count": 29,
     "metadata": {},
     "output_type": "execute_result"
    }
   ],
   "source": [
    "builder.yambo.parameters.get_dict()"
   ]
  },
  {
   "cell_type": "markdown",
   "metadata": {},
   "source": [
    "### Submission phase"
   ]
  },
  {
   "cell_type": "code",
   "execution_count": 31,
   "metadata": {},
   "outputs": [],
   "source": [
    "from aiida.engine import submit"
   ]
  },
  {
   "cell_type": "code",
   "execution_count": 32,
   "metadata": {},
   "outputs": [],
   "source": [
    "run = None"
   ]
  },
  {
   "cell_type": "code",
   "execution_count": 33,
   "metadata": {},
   "outputs": [
    {
     "name": "stdout",
     "output_type": "stream",
     "text": [
      "uuid: cff59aa6-4a43-4961-a6ef-47c8a6ac3f74 (pk: 2053) (aiida.workflows:yambo.yambo.yamborestart)\n"
     ]
    }
   ],
   "source": [
    "if run:\n",
    "    print('run is already running -> {}'.format(run.pk))\n",
    "    print('sure that you want to run again?, if so, copy the else instruction in the cell below and run!')\n",
    "else:\n",
    "    run = submit(builder)\n",
    "\n",
    "print(run)"
   ]
  },
  {
   "cell_type": "markdown",
   "metadata": {},
   "source": [
    "# Inspecting the outputs\n",
    "\n",
    "Suppose that your calculation completed successfully, then you can access the outputs via the output method of the run instance. \n",
    "This is analogous to the *1_YamboCalculation_G0W0* module, as the outputs are really the same."
   ]
  },
  {
   "cell_type": "code",
   "execution_count": 34,
   "metadata": {},
   "outputs": [
    {
     "data": {
      "text/plain": [
       "False"
      ]
     },
     "execution_count": 34,
     "metadata": {},
     "output_type": "execute_result"
    }
   ],
   "source": [
    "run.is_finished_ok"
   ]
  },
  {
   "cell_type": "code",
   "execution_count": null,
   "metadata": {},
   "outputs": [],
   "source": [
    "run.outputs. #+TAB"
   ]
  },
  {
   "cell_type": "markdown",
   "metadata": {},
   "source": [
    "For example, we have the array_ndb ArrayData, which essentially contains the information on the run.output.QP_DB (which can also be accessed directly):"
   ]
  },
  {
   "cell_type": "code",
   "execution_count": 37,
   "metadata": {},
   "outputs": [
    {
     "data": {
      "text/plain": [
       "['E',\n",
       " 'Z',\n",
       " 'Eo',\n",
       " 'Sc',\n",
       " 'Sx',\n",
       " 'Vxc',\n",
       " 'Band',\n",
       " 'Kpoint',\n",
       " 'nbands',\n",
       " 'nkpoints',\n",
       " 'qp_table',\n",
       " 'E_minus_Eo',\n",
       " 'Kpoint_index']"
      ]
     },
     "execution_count": 37,
     "metadata": {},
     "output_type": "execute_result"
    }
   ],
   "source": [
    "run.outputs.array_ndb.get_arraynames()"
   ]
  },
  {
   "cell_type": "code",
   "execution_count": 38,
   "metadata": {},
   "outputs": [],
   "source": [
    "E_dft = run.outputs.array_ndb.get_array('Eo') #Ha\n",
    "E_qp = run.outputs.array_ndb.get_array('E')   #Ha"
   ]
  },
  {
   "cell_type": "code",
   "execution_count": 39,
   "metadata": {},
   "outputs": [],
   "source": [
    "from matplotlib import pyplot as plt"
   ]
  },
  {
   "cell_type": "code",
   "execution_count": 40,
   "metadata": {},
   "outputs": [],
   "source": [
    "from ase import units"
   ]
  },
  {
   "cell_type": "code",
   "execution_count": 41,
   "metadata": {},
   "outputs": [
    {
     "data": {
      "image/png": "[encoded data removed]",
      "text/plain": [
       "<Figure size 640x480 with 1 Axes>"
      ]
     },
     "metadata": {},
     "output_type": "display_data"
    }
   ],
   "source": [
    "plt.plot(E_dft.real*units.Ha,E_qp.real*units.Ha,'o')\n",
    "plt.ylabel('G0W0')\n",
    "plt.xlabel('DFT')\n",
    "plt.grid()"
   ]
  },
  {
   "cell_type": "code",
   "execution_count": 42,
   "metadata": {},
   "outputs": [
    {
     "data": {
      "text/plain": [
       "array([1.3743918+0.0288475j], dtype=complex64)"
      ]
     },
     "execution_count": 42,
     "metadata": {},
     "output_type": "execute_result"
    }
   ],
   "source": [
    "E_qp"
   ]
  },
  {
   "cell_type": "code",
   "execution_count": 43,
   "metadata": {},
   "outputs": [
    {
     "data": {
      "text/plain": [
       "{'errors': [],\n",
       " 'timing': [' <---> P1: [01] MPI/OPENMP structure, Files & I/O Directories\\n',\n",
       "  ' <---> P1: [02] CORE Variables Setup\\n',\n",
       "  ' <---> P1: [03] Transferred momenta grid and indexing\\n',\n",
       "  ' <---> P1: [04] Dipoles\\n',\n",
       "  ' <---> P1: [05] Dynamic Dielectric Matrix (PPA)\\n',\n",
       "  ' <04s> P1: [06] Local Exchange-Correlation + Non-Local Fock\\n',\n",
       "  ' <04s> P1: [07] Dyson equation: Newton solver\\n',\n",
       "  ' <04s> P1: [08] Timing Overview\\n',\n",
       "  ' <04s> P1: [09] Game Over & Game summary\\n'],\n",
       " 'has_gpu': False,\n",
       " 'memstats': [],\n",
       " 'warnings': [],\n",
       " 'Fermi(eV)': 5.113534,\n",
       " 'game_over': True,\n",
       " 'last_time': 4,\n",
       " 'para_error': False,\n",
       " 'time_error': False,\n",
       " 'ns_db1_path': '/tmp/tmpe06jzv4e',\n",
       " 'memory_error': False,\n",
       " 'p2y_completed': True,\n",
       " 'yambo_version': '5.x',\n",
       " 'requested_time': 3600,\n",
       " 'last_time_units': 'seconds',\n",
       " 'yambo_wrote_dbs': True,\n",
       " 'corrupted_fragment': False,\n",
       " 'X_par_allocation_error': False}"
      ]
     },
     "execution_count": 43,
     "metadata": {},
     "output_type": "execute_result"
    }
   ],
   "source": [
    "run.outputs.output_parameters.get_dict()"
   ]
  },
  {
   "cell_type": "code",
   "execution_count": 44,
   "metadata": {},
   "outputs": [
    {
     "data": {
      "text/plain": [
       "<SinglefileData: uuid: 52c88f89-01a4-4a71-bd47-2c3b8775f586 (pk: 310)>"
      ]
     },
     "execution_count": 44,
     "metadata": {},
     "output_type": "execute_result"
    }
   ],
   "source": [
    "run.outputs.QP_db"
   ]
  },
  {
   "cell_type": "markdown",
   "metadata": {},
   "source": [
    "## Error handling in action: the case of walltime exhaustion\n",
    "\n",
    "You can try the restaring mechanism by asking for a very small time for the simulation, in such a way that the first run will not be completed successfully. \n",
    "You can see, by inspecting the report of the run, that the workflow tries to submit other calculation by increasing the time requested."
   ]
  },
  {
   "cell_type": "code",
   "execution_count": 52,
   "metadata": {},
   "outputs": [
    {
     "name": "stdout",
     "output_type": "stream",
     "text": [
      "Summary of the main inputs:\n",
      "BndsRnXp = 200\n",
      "GbndRnge = 200\n",
      "NGsBlkXp = 12 Ry\n",
      "FFTGvecs = 21 Ry\n",
      "\n"
     ]
    }
   ],
   "source": [
    "overrides_yambo = {\n",
    "        \"yambo\": {\n",
    "            \"parameters\": {\n",
    "                \"arguments\": [\n",
    "                    \"rim_cut\",\n",
    "                ],\n",
    "                \"variables\": {\n",
    "                    \"NGsBlkXp\": [12, \"Ry\"],\n",
    "                },\n",
    "            },\n",
    "    'metadata':{\n",
    "                    'options':{\n",
    "    'max_wallclock_seconds': 2, # in seconds\n",
    "    'resources': {\n",
    "            \"num_machines\": 1, # nodes\n",
    "            \"num_mpiprocs_per_machine\": 16, # MPI per nodes\n",
    "            \"num_cores_per_mpiproc\": 1, # OPENMP\n",
    "        },\n",
    "    'prepend_text': u\"export OMP_NUM_THREADS=\"+str(1), # if needed\n",
    "    #'account':'project_name',\n",
    "    'queue_name':'s3par',\n",
    "    #'qos':'',\n",
    "                    },\n",
    "    },\n",
    "        }\n",
    "}\n",
    "\n",
    "builder = YamboRestart.get_builder_from_protocol(\n",
    "            preprocessing_code = options['yamboprecode_id'],\n",
    "            code = options['yambocode_id'],\n",
    "            protocol=options['protocol'],\n",
    "            overrides=overrides_yambo,\n",
    "            parent_folder=orm.load_node(options['parent_id']).outputs.remote_folder,\n",
    ")"
   ]
  },
  {
   "cell_type": "code",
   "execution_count": 53,
   "id": "811a516b",
   "metadata": {},
   "outputs": [
    {
     "data": {
      "text/plain": [
       "{'options': {'stash': {}, 'resources': {'num_machines': 1, 'num_mpiprocs_per_machine': 16, 'num_cores_per_mpiproc': 1}, 'max_wallclock_seconds': 2, 'withmpi': True, 'prepend_text': 'export OMP_NUM_THREADS=1', 'queue_name': 's3par'}}"
      ]
     },
     "execution_count": 53,
     "metadata": {},
     "output_type": "execute_result"
    }
   ],
   "source": [
    "builder.yambo.metadata"
   ]
  },
  {
   "cell_type": "code",
   "execution_count": 46,
   "metadata": {},
   "outputs": [],
   "source": [
    "run = None"
   ]
  },
  {
   "cell_type": "code",
   "execution_count": 47,
   "metadata": {},
   "outputs": [
    {
     "name": "stdout",
     "output_type": "stream",
     "text": [
      "uuid: 0b98e888-8e55-4809-b0e5-7c6f78f7baee (pk: 2068) (aiida.workflows:yambo.yambo.yamborestart)\n"
     ]
    }
   ],
   "source": [
    "if run:\n",
    "    print('run is already running -> {}'.format(run.pk))\n",
    "    print('sure that you want to run again?, if so, copy the else instruction in the cell below and run!')\n",
    "else:\n",
    "    run = submit(builder)\n",
    "\n",
    "print(run)"
   ]
  },
  {
   "cell_type": "code",
   "execution_count": 48,
   "metadata": {},
   "outputs": [
    {
     "name": "stdout",
     "output_type": "stream",
     "text": [
      "2068\n"
     ]
    }
   ],
   "source": [
    "print(run.pk)"
   ]
  },
  {
   "cell_type": "code",
   "execution_count": 50,
   "id": "03f06468",
   "metadata": {},
   "outputs": [
    {
     "data": {
      "text/plain": [
       "False"
      ]
     },
     "execution_count": 50,
     "metadata": {},
     "output_type": "execute_result"
    }
   ],
   "source": [
    "run.is_finished"
   ]
  },
  {
   "cell_type": "code",
   "execution_count": 51,
   "metadata": {},
   "outputs": [
    {
     "name": "stdout",
     "output_type": "stream",
     "text": [
      "\u001b[22m2023-12-21 16:13:29 [828 | REPORT]: [2068|YamboRestart|run_process]: launching YamboCalculation<2069> iteration #1\n",
      "2023-12-21 16:15:42 [829 | REPORT]: [2068|YamboRestart|results]: work chain completed after 1 iterations\n",
      "2023-12-21 16:15:42 [830 | REPORT]: [2068|YamboRestart|on_terminated]: remote folders will not be cleaned\u001b[0m\n"
     ]
    }
   ],
   "source": [
    "!verdi process report {run.pk}"
   ]
  },
  {
   "cell_type": "code",
   "execution_count": null,
   "metadata": {},
   "outputs": [],
   "source": []
  }
 ],
 "metadata": {
  "kernelspec": {
   "display_name": "minitutorial",
   "language": "python",
   "name": "python3"
  },
  "language_info": {
   "codemirror_mode": {
    "name": "ipython",
    "version": 3
   },
   "file_extension": ".py",
   "mimetype": "text/x-python",
   "name": "python",
   "nbconvert_exporter": "python",
   "pygments_lexer": "ipython3",
   "version": "3.10.13"
  }
 },
 "nbformat": 4,
 "nbformat_minor": 5
}
