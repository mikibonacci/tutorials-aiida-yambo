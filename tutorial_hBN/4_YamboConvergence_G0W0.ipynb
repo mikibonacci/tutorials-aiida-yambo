{
 "cells": [
  {
   "cell_type": "markdown",
   "metadata": {},
   "source": [
    "# YamboConvergence: automated GW/BSE convergence\n",
    "\n",
    "The highest level workflow is represented by the ``YamboConvergence`` workchain, \n",
    "which implements the full automation of the convergence algorithm described in [Bonacci, M., Qiao, J., Spallanzani, N. et al. Towards high-throughput many-body perturbation theory: efficient algorithms and automated workflows. npj Comput Mater 9, 74 (2023)](https://doi.org/10.1038/s41524-023-01027-2). \n",
    "Simulations are organized on the fly, without any external user intervention. \n",
    "The purpose of this new proposed convergence algorithm is to obtain an accurate converged \n",
    "result doing the least possible number of calculations. This is possible if a reliable description of the convergence space is achieved, resulting also in a \n",
    "precise guess for the converged point, i.e. the converged parameters. The description of the space is performed by fitting some calculations that the workchain runs. \n",
    "A simple functional form of the space is assumed:\n",
    "\n",
    "$f(\\textbf{x}) = \\prod_i^N \\left( \\frac{A_i}{x_i^{\\alpha_i}} + b_i \\right)$\n",
    "\n",
    "In this way it is straightforward to compute first and second partial derivatives, and impose constraints on them to find the converged region of the space. \n",
    "The algorithm is specifically designed to solve the coupled convergence between \n",
    "summation over empty states (``BndsRnXp`` or ``BndsRnXs`` and ``GbndRnge`` for example) and PW expansion (``NGsBlkXp`` or ``NGsBlkXs``), but it can be used also to \n",
    "accelerate convergence tests with respect to the ``k-point mesh`` or ``FFTGvecs``, as we shall see later.\n",
    "\n",
    "Each simulation is performed by calling the `YamboWorkflow` workchain, ensuring the automation at all levels."
   ]
  },
  {
   "cell_type": "code",
   "execution_count": 2,
   "metadata": {},
   "outputs": [
    {
     "data": {
      "text/plain": [
       "Profile<uuid='b35700dae723411ea16ebc82d58f16bc' name='mb'>"
      ]
     },
     "execution_count": 2,
     "metadata": {},
     "output_type": "execute_result"
    }
   ],
   "source": [
    "from aiida import orm, load_profile\n",
    "load_profile()"
   ]
  },
  {
   "cell_type": "code",
   "execution_count": 3,
   "metadata": {},
   "outputs": [],
   "source": [
    "from aiida.plugins import WorkflowFactory"
   ]
  },
  {
   "cell_type": "code",
   "execution_count": 4,
   "metadata": {},
   "outputs": [],
   "source": [
    "YamboConvergence = WorkflowFactory('yambo.yambo.yamboconvergence')"
   ]
  },
  {
   "cell_type": "markdown",
   "metadata": {},
   "source": [
    "## minimal inputs needed for protocols"
   ]
  },
  {
   "cell_type": "code",
   "execution_count": 5,
   "metadata": {},
   "outputs": [],
   "source": [
    "options = {\n",
    "    'pwcode_id': 'pw-7.1@hydralogin', \n",
    "    'pseudo_family':\"PseudoDojo/0.4/PBE/SR/standard/upf\",\n",
    "    'yamboprecode_id':'p2y-5.1@hydralogin',\n",
    "    'yambocode_id':'yambo-5.1@hydralogin',\n",
    "    'protocol':'fast',\n",
    "    #'parent_id':274, #not necessary to set; take your previously nscf id (pk) to skip the DFT part.\n",
    "    'structure_id':161,\n",
    "}"
   ]
  },
  {
   "cell_type": "code",
   "execution_count": 7,
   "metadata": {},
   "outputs": [],
   "source": [
    "from aiida_quantumespresso.common.types import ElectronicType"
   ]
  },
  {
   "cell_type": "code",
   "execution_count": 8,
   "metadata": {},
   "outputs": [
    {
     "name": "stdout",
     "output_type": "stream",
     "text": [
      "Summary of the main inputs:\n",
      "BndsRnXp = 200\n",
      "GbndRnge = 200\n",
      "NGsBlkXp = 6 Ry\n",
      "FFTGvecs = 18 Ry\n",
      "\n",
      "\n",
      "kpoint mesh for nscf: [6, 6, 2]\n"
     ]
    },
    {
     "name": "stderr",
     "output_type": "stream",
     "text": [
      "/scratch/mbonacci/mambaforge/envs/minitutorial/lib/python3.10/site-packages/aiida_quantumespresso/calculations/pw.py:211: UserWarning: `parent_folder` not provided for `nscf` calculation. For work chains wrapping this calculation, you can disable this warning by excluding the `parent_folder` when exposing the inputs of the `PwCalculation`.\n",
      "  warnings.warn(\n"
     ]
    }
   ],
   "source": [
    "builder = YamboConvergence.get_builder_from_protocol(\n",
    "            pw_code = options['pwcode_id'],\n",
    "            preprocessing_code = options['yamboprecode_id'],\n",
    "            code = options['yambocode_id'],\n",
    "            protocol=options['protocol'],\n",
    "            protocol_qe=options['protocol'],\n",
    "            structure=orm.load_node(options['structure_id']),\n",
    "            overrides={},\n",
    "            #parent_folder=load_node(options['parent_id']).outputs.remote_folder,\n",
    "            electronic_type=ElectronicType.INSULATOR, #default is METAL: smearing is used\n",
    "            calc_type='gw', #or 'bse'; default is 'gw'\n",
    ")"
   ]
  },
  {
   "cell_type": "code",
   "execution_count": 9,
   "metadata": {},
   "outputs": [
    {
     "data": {
      "text/plain": [
       "{'fast': {'description': 'Fast protocol for a GW convergence: grid -> poor; thresholds -> poor'},\n",
       " 'moderate': {'description': 'Moderate protocol for a GW convergence: grid -> enough good for standard materials; thresholds -> moderate (5 percent)'},\n",
       " 'precise': {'description': 'precise protocol for a GW convergence: grid -> same as moderate; thresholds -> precise (1 percent)'},\n",
       " 'molecule': {'description': 'Moderate protocol for a GW convergence in molecules'}}"
      ]
     },
     "execution_count": 9,
     "metadata": {},
     "output_type": "execute_result"
    }
   ],
   "source": [
    "#You can also try different protocols:\n",
    "    \n",
    "YamboConvergence.get_available_protocols()"
   ]
  },
  {
   "cell_type": "markdown",
   "metadata": {},
   "source": [
    "Now, if you inspect the prepopulated inputs, you can see the default values respecting the imposed protocol:"
   ]
  },
  {
   "cell_type": "code",
   "execution_count": 10,
   "metadata": {},
   "outputs": [
    {
     "data": {
      "text/plain": [
       "{'CONTROL': {'calculation': 'nscf',\n",
       "  'forc_conv_thr': 0.001,\n",
       "  'tprnfor': True,\n",
       "  'tstress': True,\n",
       "  'etot_conv_thr': 0.0004},\n",
       " 'SYSTEM': {'nosym': False,\n",
       "  'occupations': 'fixed',\n",
       "  'ecutwfc': 60.0,\n",
       "  'ecutrho': 480.0,\n",
       "  'force_symmorphic': True,\n",
       "  'nbnd': 200},\n",
       " 'ELECTRONS': {'electron_maxstep': 80,\n",
       "  'mixing_beta': 0.4,\n",
       "  'conv_thr': 1.6e-09}}"
      ]
     },
     "execution_count": 10,
     "metadata": {},
     "output_type": "execute_result"
    }
   ],
   "source": [
    "builder.ywfl.nscf.pw.parameters.get_dict()"
   ]
  },
  {
   "cell_type": "code",
   "execution_count": 11,
   "metadata": {},
   "outputs": [
    {
     "data": {
      "text/plain": [
       "{'arguments': ['dipoles', 'ppa', 'HF_and_locXC', 'gw0'],\n",
       " 'variables': {'Chimod': 'hartree',\n",
       "  'DysSolver': 'n',\n",
       "  'GTermKind': 'BG',\n",
       "  'X_and_IO_nCPU_LinAlg_INV': [1, ''],\n",
       "  'NGsBlkXp': [6, 'Ry'],\n",
       "  'FFTGvecs': [18, 'Ry'],\n",
       "  'BndsRnXp': [[1, 200], ''],\n",
       "  'GbndRnge': [[1, 200], ''],\n",
       "  'QPkrange': [[[1, 1, 32, 32]], '']}}"
      ]
     },
     "execution_count": 11,
     "metadata": {},
     "output_type": "execute_result"
    }
   ],
   "source": [
    "builder.ywfl.yres.yambo.parameters.get_dict()"
   ]
  },
  {
   "cell_type": "markdown",
   "metadata": {},
   "source": [
    "### Computational resources"
   ]
  },
  {
   "cell_type": "code",
   "execution_count": 12,
   "metadata": {},
   "outputs": [],
   "source": [
    "builder.ywfl.scf.pw.metadata.options = {\n",
    "    'max_wallclock_seconds': 2*60*60, # in seconds\n",
    "    'resources': {\n",
    "            \"num_machines\": 1, # nodes\n",
    "            \"num_mpiprocs_per_machine\": 16, # MPI per nodes\n",
    "            \"num_cores_per_mpiproc\": 1, # OPENMP\n",
    "        },\n",
    "    'prepend_text': u\"export OMP_NUM_THREADS=\"+str(1), # if needed\n",
    "    #'account':'project_name',\n",
    "    'queue_name':'s3par',\n",
    "    #'qos':'',\n",
    "}\n",
    "\n",
    "builder.ywfl.nscf.pw.metadata.options = builder.ywfl.scf.pw.metadata.options\n",
    "builder.ywfl.yres.yambo.metadata.options = builder.ywfl.scf.pw.metadata.options"
   ]
  },
  {
   "cell_type": "markdown",
   "metadata": {},
   "source": [
    "### Overrides\n",
    "\n",
    "It is possible to modify the default inputs also during the builder creation phase, so not a posteriori. This can be done by using overrides:"
   ]
  },
  {
   "cell_type": "code",
   "execution_count": 13,
   "metadata": {},
   "outputs": [],
   "source": [
    "overrides_scf = {\n",
    "        'pseudo_family': \"PseudoDojo/0.4/PBE/SR/standard/upf\", \n",
    "        'pw':{\n",
    "            \n",
    "        'metadata':{\n",
    "                    'options':{\n",
    "                    'max_wallclock_seconds': 60*60, # in seconds\n",
    "                    'resources': {\n",
    "                            \"num_machines\": 1, # nodes\n",
    "                            \"num_mpiprocs_per_machine\": 16, # MPI per nodes\n",
    "                            \"num_cores_per_mpiproc\": 1, # OPENMP\n",
    "                        },\n",
    "                    'prepend_text': u\"export OMP_NUM_THREADS=\"+str(1), # if needed\n",
    "                    #'account':'project_name',\n",
    "                    'queue_name':'s3par',\n",
    "                    #'qos':'',\n",
    "                                    },\n",
    "        },\n",
    "        },\n",
    "    }\n",
    "\n",
    "overrides_nscf = {\n",
    "        'pseudo_family': \"PseudoDojo/0.4/PBE/SR/standard/upf\", \n",
    "        'pw': {\n",
    "            'parameters':{\n",
    "                'CONTROL':{}, #not needed if you don't override something\n",
    "                'SYSTEM':{},\n",
    "                'ELECTRONS':{'diagonalization':'cg'},\n",
    "            },\n",
    "             'metadata':{\n",
    "                    'options':{\n",
    "                    'max_wallclock_seconds': 60*60, # in seconds\n",
    "                    'resources': {\n",
    "                            \"num_machines\": 1, # nodes\n",
    "                            \"num_mpiprocs_per_machine\": 16, # MPI per nodes\n",
    "                            \"num_cores_per_mpiproc\": 1, # OPENMP\n",
    "                        },\n",
    "                    'prepend_text': u\"export OMP_NUM_THREADS=\"+str(1), # if needed\n",
    "                    #'account':'project_name',\n",
    "                    'queue_name':'s3par',\n",
    "                    #'qos':'',\n",
    "                                    },\n",
    "        },\n",
    "    },\n",
    "}\n",
    "\n",
    "overrides_yambo = {\n",
    "        \"yambo\": {\n",
    "            \"parameters\": {\n",
    "                \"arguments\": [\n",
    "                    \"rim_cut\",\n",
    "                ],\n",
    "                \"variables\": {\n",
    "                    \"NGsBlkXp\": [4, \"Ry\"],\n",
    "                    \"FFTGvecs\": [20, \"Ry\"],\n",
    "                },\n",
    "            },\n",
    "        'metadata':{\n",
    "                    'options':{\n",
    "                    'max_wallclock_seconds': 60*60, # in seconds\n",
    "                    'resources': {\n",
    "                            \"num_machines\": 1, # nodes\n",
    "                            \"num_mpiprocs_per_machine\": 16, # MPI per nodes\n",
    "                            \"num_cores_per_mpiproc\": 1, # OPENMP\n",
    "                        },\n",
    "                    'prepend_text': u\"export OMP_NUM_THREADS=\"+str(1), # if needed, i.e. in PBS/Torque \n",
    "                    #'account':'project_name',\n",
    "                    'queue_name':'s3par',\n",
    "                    #'qos':'',\n",
    "                                    },\n",
    "                    },\n",
    "        },\n",
    "    \n",
    "}\n"
   ]
  },
  {
   "cell_type": "markdown",
   "id": "721c30e3",
   "metadata": {},
   "source": [
    "### providing the convergence space"
   ]
  },
  {
   "cell_type": "code",
   "execution_count": null,
   "id": "e0a43058",
   "metadata": {},
   "outputs": [],
   "source": [
    "\n",
    "#Be careful with the mesh choice!!! \n",
    "overrides_meta = {\n",
    "        'FFTGvecs': {\n",
    "            'start_ratio': 0.25,\n",
    "            'stop_ratio': 0.7,\n",
    "            'delta_ratio': 0.1,\n",
    "            'max_ratio': 1,\n",
    "        },\n",
    "        'bands': {\n",
    "            'start': 50,\n",
    "            'stop': 400,\n",
    "            'delta': 50,\n",
    "            'max': 600,\n",
    "            'ratio':[10,25,50],\n",
    "        },\n",
    "        'G_vectors': {\n",
    "            'start': 2,\n",
    "            'stop': 8,\n",
    "            'delta': 1,\n",
    "            'max': 10,\n",
    "        },\n",
    "        'kpoint_density': {\n",
    "            'start': 0.8,\n",
    "            'stop': 0.2,\n",
    "            'delta': 3,\n",
    "            'max': 0.1,\n",
    "        } ,\n",
    "        'conv_thr_k': 10,\n",
    "        'conv_thr_bG': 10,\n",
    "        'conv_thr_FFT': 10,\n",
    "        'conv_thr_units': '%', # 'eV'\n",
    "\n",
    "        \n",
    "    }"
   ]
  },
  {
   "cell_type": "markdown",
   "id": "2eeb111a",
   "metadata": {},
   "source": [
    "## providing additional convergence settings\n",
    "\n",
    "In the following we provide additional convergence settings, namely:\n",
    "\n",
    "- 'what': a list of quantities to be computed, following the same naming style of the `YamboWorkflow` additional parsing list;\n",
    "- 'type': 'heavy', or 'cheap'; heavy keep the converged parameters as obtained in previous iterations; for example, if I convergence k-mesh and then bands, in the bands convergence we will use the converged k-mesh. This will make the calculation more and more computational demanding, but in the end we will obtain the true converged results, not only the converged parameters values."
   ]
  },
  {
   "cell_type": "code",
   "execution_count": null,
   "id": "6195dea0",
   "metadata": {},
   "outputs": [],
   "source": [
    "overrides_wfl_settings = {\n",
    "        \n",
    "        'what':['gap_'],\n",
    "        'type': 'heavy', #or cheap; heavy uses converged value for parameters that we are not converging in a given iteration.\n",
    "        \n",
    "    }"
   ]
  },
  {
   "cell_type": "code",
   "execution_count": 1,
   "id": "cac1d622",
   "metadata": {},
   "outputs": [
    {
     "ename": "NameError",
     "evalue": "name 'overrides_meta' is not defined",
     "output_type": "error",
     "traceback": [
      "\u001b[0;31m---------------------------------------------------------------------------\u001b[0m",
      "\u001b[0;31mNameError\u001b[0m                                 Traceback (most recent call last)",
      "\u001b[0;32m/tmp/ipykernel_24668/264938224.py\u001b[0m in \u001b[0;36m<cell line: 4>\u001b[0;34m()\u001b[0m\n\u001b[1;32m      2\u001b[0m \u001b[0;34m\u001b[0m\u001b[0m\n\u001b[1;32m      3\u001b[0m overrides = {\n\u001b[0;32m----> 4\u001b[0;31m         \u001b[0;34m'meta_parameters'\u001b[0m\u001b[0;34m:\u001b[0m\u001b[0moverrides_meta\u001b[0m\u001b[0;34m,\u001b[0m\u001b[0;34m\u001b[0m\u001b[0;34m\u001b[0m\u001b[0m\n\u001b[0m\u001b[1;32m      5\u001b[0m         \u001b[0;34m'ywfl'\u001b[0m\u001b[0;34m:\u001b[0m\u001b[0;34m{\u001b[0m\u001b[0;34m'scf'\u001b[0m\u001b[0;34m:\u001b[0m\u001b[0moverrides_scf\u001b[0m\u001b[0;34m,\u001b[0m\u001b[0;34m'nscf'\u001b[0m\u001b[0;34m:\u001b[0m\u001b[0moverrides_nscf\u001b[0m\u001b[0;34m,\u001b[0m\u001b[0;34m'yres'\u001b[0m\u001b[0;34m:\u001b[0m\u001b[0moverrides_yambo\u001b[0m\u001b[0;34m}\u001b[0m\u001b[0;34m,\u001b[0m\u001b[0;34m\u001b[0m\u001b[0;34m\u001b[0m\u001b[0m\n\u001b[1;32m      6\u001b[0m         \u001b[0;34m'workflow_settings'\u001b[0m\u001b[0;34m:\u001b[0m\u001b[0moverrides_wfl_settings\u001b[0m\u001b[0;34m,\u001b[0m\u001b[0;34m\u001b[0m\u001b[0;34m\u001b[0m\u001b[0m\n",
      "\u001b[0;31mNameError\u001b[0m: name 'overrides_meta' is not defined"
     ]
    }
   ],
   "source": [
    "#setting the overrides dictionary.\n",
    "\n",
    "overrides = {\n",
    "        'meta_parameters':overrides_meta,\n",
    "        'ywfl':{'scf':overrides_scf,'nscf':overrides_nscf,'yres':overrides_yambo},\n",
    "        'workflow_settings':overrides_wfl_settings,\n",
    "    }"
   ]
  },
  {
   "cell_type": "code",
   "execution_count": 14,
   "metadata": {},
   "outputs": [
    {
     "name": "stdout",
     "output_type": "stream",
     "text": [
      "Summary of the main inputs:\n",
      "BndsRnXp = 200\n",
      "GbndRnge = 200\n",
      "NGsBlkXp = 4 Ry\n",
      "FFTGvecs = 20 Ry\n",
      "\n",
      "\n",
      "kpoint mesh for nscf: [6, 6, 2]\n"
     ]
    },
    {
     "name": "stderr",
     "output_type": "stream",
     "text": [
      "/scratch/mbonacci/mambaforge/envs/minitutorial/lib/python3.10/site-packages/aiida_quantumespresso/calculations/pw.py:211: UserWarning: `parent_folder` not provided for `nscf` calculation. For work chains wrapping this calculation, you can disable this warning by excluding the `parent_folder` when exposing the inputs of the `PwCalculation`.\n",
      "  warnings.warn(\n"
     ]
    }
   ],
   "source": [
    "builder = YamboConvergence.get_builder_from_protocol(\n",
    "            pw_code = options['pwcode_id'],\n",
    "            preprocessing_code = options['yamboprecode_id'],\n",
    "            code = options['yambocode_id'],\n",
    "            protocol=options['protocol'],\n",
    "            protocol_qe=options['protocol'],\n",
    "            structure= orm.load_node(options['structure_id']),\n",
    "            overrides=overrides,\n",
    "            #parent_folder=load_node(options['parent_id']).outputs.remote_folder,\n",
    "            electronic_type=ElectronicType.INSULATOR, #default is METAL: smearing is used\n",
    "            calc_type='gw', #or 'bse'; default is 'gw'\n",
    ")\n",
    "\n",
    "family = orm.load_group(\"PseudoDojo/0.4/PBE/SR/standard/upf\")\n",
    "#builder.<sublevels_up_to .pw>.pseudos = family.get_pseudos(structure=structure) \n",
    "builder.ywfl.scf.pw.pseudos = family.get_pseudos(structure=orm.load_node(161)) \n",
    "builder.ywfl.nscf.pw.pseudos = family.get_pseudos(structure=orm.load_node(161)) "
   ]
  },
  {
   "cell_type": "code",
   "execution_count": 31,
   "id": "1a1ebb67",
   "metadata": {},
   "outputs": [
    {
     "data": {
      "text/plain": [
       "[{'max': 84,\n",
       "  'var': ['FFTGvecs'],\n",
       "  'stop': 58,\n",
       "  'delta': 8,\n",
       "  'start': 21,\n",
       "  'steps': 4,\n",
       "  'conv_thr': 10,\n",
       "  'conv_thr_units': '%',\n",
       "  'max_iterations': 4,\n",
       "  'convergence_algorithm': 'new_algorithm_1D'},\n",
       " {'max': [30, 30, 10],\n",
       "  'var': ['kpoint_mesh'],\n",
       "  'stop': [16, 16, 6],\n",
       "  'delta': [3, 3, 3],\n",
       "  'start': [4, 4, 2],\n",
       "  'steps': 4,\n",
       "  'conv_thr': 10,\n",
       "  'conv_thr_units': '%',\n",
       "  'max_iterations': 4,\n",
       "  'convergence_algorithm': 'new_algorithm_1D'},\n",
       " {'max': [600, 600, 10],\n",
       "  'var': ['BndsRnXp', 'GbndRnge', 'NGsBlkXp'],\n",
       "  'stop': [400, 400, 8],\n",
       "  'delta': [50, 50, 1],\n",
       "  'start': [80, 80, 2],\n",
       "  'steps': 6,\n",
       "  'conv_thr': 10,\n",
       "  'conv_thr_units': '%',\n",
       "  'max_iterations': 8,\n",
       "  'convergence_algorithm': 'new_algorithm_2D'}]"
      ]
     },
     "execution_count": 31,
     "metadata": {},
     "output_type": "execute_result"
    }
   ],
   "source": [
    "builder.parameters_space.get_list()"
   ]
  },
  {
   "cell_type": "markdown",
   "id": "9d39863c",
   "metadata": {},
   "source": [
    "### Parameter-dependent resources\n",
    "\n",
    "As you can imagine, increasing the parameters of the simulations may require also the change of the related computational resources, in order to be able to successfully perform them. \n",
    "Before the submission of the WorkChain, we can provide instructions on how to continously adapt the resources when parameters are changing.\n",
    "\n",
    "In particular, we provide two dictionaries:\n",
    "- parallelism instructions\n",
    "- explicit resources instructions"
   ]
  },
  {
   "cell_type": "code",
   "execution_count": 2,
   "id": "438114f6",
   "metadata": {},
   "outputs": [
    {
     "ename": "NameError",
     "evalue": "name 'orm' is not defined",
     "output_type": "error",
     "traceback": [
      "\u001b[0;31m---------------------------------------------------------------------------\u001b[0m",
      "\u001b[0;31mNameError\u001b[0m                                 Traceback (most recent call last)",
      "\u001b[0;32m/tmp/ipykernel_24668/454367323.py\u001b[0m in \u001b[0;36m<cell line: 29>\u001b[0;34m()\u001b[0m\n\u001b[1;32m     27\u001b[0m     }\n\u001b[1;32m     28\u001b[0m \u001b[0;34m\u001b[0m\u001b[0m\n\u001b[0;32m---> 29\u001b[0;31m parallelism_instructions_manual = orm.Dict(dict={'manual' : {                                                            \n\u001b[0m\u001b[1;32m     30\u001b[0m                                                             'std_1':{\n\u001b[1;32m     31\u001b[0m                                                                     \u001b[0;34m'BndsRnXp'\u001b[0m\u001b[0;34m:\u001b[0m\u001b[0;34m[\u001b[0m\u001b[0;36m1\u001b[0m\u001b[0;34m,\u001b[0m\u001b[0;36m100\u001b[0m\u001b[0;34m]\u001b[0m\u001b[0;34m,\u001b[0m \u001b[0;31m#range for bands where to use the dict_para_medium and dict_res_medium instructions.\u001b[0m\u001b[0;34m\u001b[0m\u001b[0;34m\u001b[0m\u001b[0m\n",
      "\u001b[0;31mNameError\u001b[0m: name 'orm' is not defined"
     ]
    }
   ],
   "source": [
    "dict_para_medium = {}\n",
    "dict_para_medium['X_and_IO_CPU'] = '2 1 1 8 1'\n",
    "dict_para_medium['X_and_IO_ROLEs'] = 'q k g c v'\n",
    "dict_para_medium['DIP_CPU'] = '1 16 1'\n",
    "dict_para_medium['DIP_ROLEs'] = 'k c v'\n",
    "dict_para_medium['SE_CPU'] = '1 2 8'\n",
    "dict_para_medium['SE_ROLEs'] = 'q qp b'\n",
    "\n",
    "dict_res_medium = {\n",
    "        \"num_machines\": 1,\n",
    "        \"num_mpiprocs_per_machine\":8,\n",
    "        \"num_cores_per_mpiproc\":2,\n",
    "    }\n",
    "\n",
    "dict_para_high = {}\n",
    "dict_para_high['X_and_IO_CPU'] = '2 1 1 8 1' \n",
    "dict_para_high['X_and_IO_ROLEs'] = 'q k g c v'\n",
    "dict_para_high['DIP_CPU'] = '1 16 1'\n",
    "dict_para_high['DIP_ROLEs'] = 'k c v'\n",
    "dict_para_high['SE_CPU'] = '1 2 8'\n",
    "dict_para_high['SE_ROLEs'] = 'q qp b'\n",
    "\n",
    "dict_res_high = {\n",
    "        \"num_machines\": 1,\n",
    "        \"num_mpiprocs_per_machine\":16,\n",
    "        \"num_cores_per_mpiproc\":1,\n",
    "    }\n",
    "\n",
    "parallelism_instructions_manual = orm.Dict(dict={'manual' : {                                                            \n",
    "                                                            'std_1':{\n",
    "                                                                    'BndsRnXp':[1,100], #range for bands where to use the dict_para_medium and dict_res_medium instructions.\n",
    "                                                                    'NGsBlkXp':[2,18],\n",
    "                                                                    'parallelism':dict_para_medium,\n",
    "                                                                    'resources':dict_res_medium,\n",
    "                                                                    },\n",
    "                                                            'std_2':{\n",
    "                                                                    'BndsRnXp':[101,1000],\n",
    "                                                                    'NGsBlkXp':[2,18],\n",
    "                                                                    'parallelism':dict_para_high,\n",
    "                                                                    'resources':dict_res_high,\n",
    "                                                                    },}})"
   ]
  },
  {
   "cell_type": "markdown",
   "id": "51ed29d1",
   "metadata": {},
   "source": [
    "We can just provide, together with the resources, the `mode` which yambo will use to automatically set up its parallelism, if we are not sure on how to decide the explicit parallelism instructions."
   ]
  },
  {
   "cell_type": "code",
   "execution_count": null,
   "id": "e55c32d8",
   "metadata": {},
   "outputs": [],
   "source": [
    "parallelism_instructions_auto = orm.Dict(dict={'automatic' : {                                                            \n",
    "                                                            'std_1':{\n",
    "                                                                    'BndsRnXp':[1,100],\n",
    "                                                                    'NGsBlkXp':[1,18],\n",
    "                                                                    'mode':'balanced',\n",
    "                                                                    'resources':dict_res_medium,\n",
    "                                                                    },\n",
    "                                                            'std_2':{\n",
    "                                                                    'BndsRnXp':[101,1000],\n",
    "                                                                    'NGsBlkXp':[1,18],\n",
    "                                                                    'mode':'memory',\n",
    "                                                                    'resources':dict_res_high,\n",
    "                                                                    },}})"
   ]
  },
  {
   "cell_type": "code",
   "execution_count": null,
   "id": "63d81f05",
   "metadata": {},
   "outputs": [],
   "source": [
    "builder.parallelism_instructions = parallelism_instructions_auto"
   ]
  },
  {
   "cell_type": "markdown",
   "id": "3e27731e",
   "metadata": {},
   "source": [
    "## Providing a group where to collect all the convergence simulations\n",
    "\n",
    "When `YamboConvergence` is submitted, it automatically creates a group where to put all the simulations. Each time a simulation is ready to be submitted, there is an internal check in the group, to understand\n",
    "if an identical simulation has been already performed. In that case, the submission is skipped and we reuse the results to perform our analysis. This is a sort of ad-hoc [caching](https://aiida.readthedocs.io/projects/aiida-core/en/latest/topics/provenance/caching.html), which however does not duplicate the involved nodes. \n",
    "\n",
    "We prefer to just reuse the results as often even the retrieved files for yambo simulations are heavy (`ndb.QP` for example).\n",
    "\n",
    "It is possible also to provide a custom group, by means of the `group_label` input String."
   ]
  },
  {
   "cell_type": "code",
   "execution_count": 19,
   "metadata": {},
   "outputs": [],
   "source": [
    "try:\n",
    "    g = orm.load_group('tutorial/hBN/convergence')\n",
    "except:\n",
    "    g = orm.Group('tutorial/hBN/convergence')\n",
    "    g.store()"
   ]
  },
  {
   "cell_type": "code",
   "execution_count": 20,
   "metadata": {},
   "outputs": [],
   "source": [
    "builder.group_label = orm.Str('tutorial/hBN/convergence') # verdi group create tutorial/hBN/convergence; all calculationsc are added to the group"
   ]
  },
  {
   "cell_type": "markdown",
   "metadata": {},
   "source": [
    "### Submission"
   ]
  },
  {
   "cell_type": "code",
   "execution_count": 22,
   "metadata": {},
   "outputs": [],
   "source": [
    "from aiida.engine import submit"
   ]
  },
  {
   "cell_type": "code",
   "execution_count": 23,
   "metadata": {},
   "outputs": [],
   "source": [
    "run = None"
   ]
  },
  {
   "cell_type": "code",
   "execution_count": 24,
   "metadata": {},
   "outputs": [
    {
     "name": "stderr",
     "output_type": "stream",
     "text": [
      "/scratch/mbonacci/mambaforge/envs/minitutorial/lib/python3.10/site-packages/aiida_quantumespresso/calculations/pw.py:211: UserWarning: `parent_folder` not provided for `nscf` calculation. For work chains wrapping this calculation, you can disable this warning by excluding the `parent_folder` when exposing the inputs of the `PwCalculation`.\n",
      "  warnings.warn(\n"
     ]
    },
    {
     "name": "stdout",
     "output_type": "stream",
     "text": [
      "uuid: 3eb9b563-99d5-4d84-90c3-4f359f037aeb (pk: 2150) (aiida.workflows:yambo.yambo.yamboconvergence)\n"
     ]
    }
   ],
   "source": [
    "if run:\n",
    "    print('run is already running -> {}'.format(run.pk))\n",
    "    print('sure that you want to run again?, if so, copy the else instruction in the cell below and run!')\n",
    "else:\n",
    "    run = submit(builder)\n",
    "\n",
    "print(run)"
   ]
  },
  {
   "cell_type": "markdown",
   "metadata": {},
   "source": [
    "## Inspecting the workflow\n",
    "\n",
    "report, e mostra che fa prima le bande..."
   ]
  },
  {
   "cell_type": "code",
   "execution_count": 30,
   "metadata": {},
   "outputs": [
    {
     "name": "stdout",
     "output_type": "stream",
     "text": [
      "\u001b[22m2024-01-08 14:20:09 [855  | REPORT]: [2150|YamboConvergence|start_workflow]: group: tutorial/hBN/convergence\n",
      "2024-01-08 14:20:09 [856  | REPORT]: [2150|YamboConvergence|start_workflow]: Workflow type: heavy; looking for convergence of ['gap_']\n",
      "2024-01-08 14:20:09 [857  | REPORT]: [2150|YamboConvergence|start_workflow]: Workflow initilization step completed, the parameters will be: ['FFTGvecs'].\n",
      "2024-01-08 14:20:10 [858  | REPORT]: [2150|YamboConvergence|has_to_continue]: Still iteration on ['FFTGvecs']\n",
      "2024-01-08 14:20:10 [859  | REPORT]: [2150|YamboConvergence|pre_needed]: {'FFTGvecs': [21, 37, 45, 58], 'kpoint_mesh': [[4, 4, 2], [7, 7, 2], [13, 13, 5], [16, 16, 6]], 'BndsRnXp': [80, 400, 80, 180, 280, 400], 'NGsBlkXp': [2, 2, 8, 6, 4, 8], 'GbndRnge': [80, 400, 80, 180, 280, 400]}\n",
      "2024-01-08 14:20:10 [860  | REPORT]: [2150|YamboConvergence|pre_needed]: ['GW bands are: 200', 'scf inputs found', 'nscf inputs found']\n",
      "2024-01-08 14:20:10 [861  | REPORT]: [2150|YamboConvergence|do_pre]: mesh check\n",
      "2024-01-08 14:20:10 [862  | REPORT]: [2150|YamboConvergence|do_pre]: doing the calculation: p2y\n",
      "2024-01-08 14:20:12 [863  | REPORT]: [2150|YamboConvergence|do_pre]: Submitted YamboWorkflow up to p2y, pk = 2155\n",
      "2024-01-08 14:20:13 [864  | REPORT]:   [2155|YamboWorkflow|start_workflow]: no previous pw calculation found, we will start from scratch\n",
      "2024-01-08 14:20:13 [865  | REPORT]:   [2155|YamboWorkflow|start_workflow]:  workflow initilization step completed.\n",
      "2024-01-08 14:20:13 [866  | REPORT]:   [2155|YamboWorkflow|can_continue]: the workflow continues with a scf calculation\n",
      "2024-01-08 14:20:13 [867  | REPORT]:   [2155|YamboWorkflow|perform_next]: performing a scf calculation\n",
      "2024-01-08 14:20:15 [868  | REPORT]:     [2157|PwBaseWorkChain|run_process]: launching PwCalculation<2162> iteration #1\n",
      "2024-01-08 14:22:23 [869  | REPORT]:     [2157|PwBaseWorkChain|results]: work chain completed after 1 iterations\n",
      "2024-01-08 14:22:23 [870  | REPORT]:     [2157|PwBaseWorkChain|on_terminated]: remote folders will not be cleaned\n",
      "2024-01-08 14:22:23 [871  | REPORT]:   [2155|YamboWorkflow|can_continue]: the workflow continues with a nscf calculation\n",
      "2024-01-08 14:22:23 [872  | REPORT]:   [2155|YamboWorkflow|perform_next]: performing a nscf calculation\n",
      "2024-01-08 14:22:25 [873  | REPORT]:     [2168|PwBaseWorkChain|run_process]: launching PwCalculation<2171> iteration #1\n",
      "2024-01-08 14:24:35 [875  | REPORT]:     [2168|PwBaseWorkChain|results]: work chain completed after 1 iterations\n",
      "2024-01-08 14:24:35 [876  | REPORT]:     [2168|PwBaseWorkChain|on_terminated]: remote folders will not be cleaned\n",
      "2024-01-08 14:24:36 [877  | REPORT]:   [2155|YamboWorkflow|can_continue]: the workflow continues with a yambo calculation\n",
      "2024-01-08 14:24:36 [878  | REPORT]:   [2155|YamboWorkflow|perform_next]: performing a yambo calculation\n",
      "2024-01-08 14:24:38 [879  | REPORT]:     [2177|YamboRestart|run_process]: launching YamboCalculation<2178> iteration #1\n",
      "2024-01-08 14:26:52 [880  | REPORT]:     [2177|YamboRestart|results]: work chain completed after 1 iterations\n",
      "2024-01-08 14:26:52 [881  | REPORT]:     [2177|YamboRestart|on_terminated]: remote folders will not be cleaned\n",
      "2024-01-08 14:26:52 [882  | REPORT]:   [2155|YamboWorkflow|can_continue]: workflow is finished\n",
      "2024-01-08 14:26:53 [883  | REPORT]:   [2155|YamboWorkflow|post_processing_needed]: no post processing needed\n",
      "2024-01-08 14:26:53 [884  | REPORT]:   [2155|YamboWorkflow|report_wf]: workflow completed successfully\n",
      "2024-01-08 14:26:54 [885  | REPORT]: [2150|YamboConvergence|prepare_calculations]: setting the pre calc remote folder 2179 as parent\n",
      "2024-01-08 14:26:55 [886  | REPORT]: [2150|YamboConvergence|next_step]: New parameters are: {'FFTGvecs': 21}\n",
      "2024-01-08 14:26:58 [887  | REPORT]: [2150|YamboConvergence|next_step]: New parameters are: {'FFTGvecs': 37}\n",
      "2024-01-08 14:27:01 [888  | REPORT]: [2150|YamboConvergence|next_step]: New parameters are: {'FFTGvecs': 45}\n",
      "2024-01-08 14:27:05 [889  | REPORT]: [2150|YamboConvergence|next_step]: New parameters are: {'FFTGvecs': 58}\n",
      "2024-01-08 14:27:09 [890  | REPORT]:   [2183|YamboWorkflow|start_workflow]:  workflow initilization step completed.\n",
      "2024-01-08 14:27:09 [891  | REPORT]:   [2183|YamboWorkflow|can_continue]: the workflow continues with a yambo calculation\n",
      "2024-01-08 14:27:09 [892  | REPORT]:   [2183|YamboWorkflow|perform_next]: performing a yambo calculation\n",
      "2024-01-08 14:27:09 [893  | REPORT]:   [2183|YamboWorkflow|perform_next]: updating yambo parameters to parse more results\n",
      "2024-01-08 14:27:09 [894  | REPORT]:   [2183|YamboWorkflow|perform_next]: {'dft_predicted': 'semiconductor/insulator', 'valence': 8, 'conduction': 9, 'number_of_kpoints': 8, 'nscf_gap_eV': 4.654, 'homo_k': 5, 'lumo_k': 5, 'gap_type': 'direct', 'gap_': [[5, 5, 8, 8], [5, 5, 9, 9]], 'soc': False, 'spin-resolved': False}\n",
      "2024-01-08 14:27:12 [895  | REPORT]:   [2185|YamboWorkflow|start_workflow]:  workflow initilization step completed.\n",
      "2024-01-08 14:27:12 [896  | REPORT]:   [2185|YamboWorkflow|can_continue]: the workflow continues with a yambo calculation\n",
      "2024-01-08 14:27:12 [897  | REPORT]:   [2185|YamboWorkflow|perform_next]: performing a yambo calculation\n",
      "2024-01-08 14:27:12 [898  | REPORT]:   [2185|YamboWorkflow|perform_next]: updating yambo parameters to parse more results\n",
      "2024-01-08 14:27:12 [899  | REPORT]:   [2185|YamboWorkflow|perform_next]: {'dft_predicted': 'semiconductor/insulator', 'valence': 8, 'conduction': 9, 'number_of_kpoints': 8, 'nscf_gap_eV': 4.654, 'homo_k': 5, 'lumo_k': 5, 'gap_type': 'direct', 'gap_': [[5, 5, 8, 8], [5, 5, 9, 9]], 'soc': False, 'spin-resolved': False}\n",
      "2024-01-08 14:27:15 [900  | REPORT]:   [2187|YamboWorkflow|start_workflow]:  workflow initilization step completed.\n",
      "2024-01-08 14:27:15 [901  | REPORT]:   [2187|YamboWorkflow|can_continue]: the workflow continues with a yambo calculation\n",
      "2024-01-08 14:27:15 [902  | REPORT]:   [2187|YamboWorkflow|perform_next]: performing a yambo calculation\n",
      "2024-01-08 14:27:15 [903  | REPORT]:   [2187|YamboWorkflow|perform_next]: updating yambo parameters to parse more results\n",
      "2024-01-08 14:27:15 [904  | REPORT]:   [2187|YamboWorkflow|perform_next]: {'dft_predicted': 'semiconductor/insulator', 'valence': 8, 'conduction': 9, 'number_of_kpoints': 8, 'nscf_gap_eV': 4.654, 'homo_k': 5, 'lumo_k': 5, 'gap_type': 'direct', 'gap_': [[5, 5, 8, 8], [5, 5, 9, 9]], 'soc': False, 'spin-resolved': False}\n",
      "2024-01-08 14:27:18 [905  | REPORT]:   [2189|YamboWorkflow|start_workflow]:  workflow initilization step completed.\n",
      "2024-01-08 14:27:18 [906  | REPORT]:   [2189|YamboWorkflow|can_continue]: the workflow continues with a yambo calculation\n",
      "2024-01-08 14:27:18 [907  | REPORT]:   [2189|YamboWorkflow|perform_next]: performing a yambo calculation\n",
      "2024-01-08 14:27:18 [908  | REPORT]:   [2189|YamboWorkflow|perform_next]: updating yambo parameters to parse more results\n",
      "2024-01-08 14:27:18 [909  | REPORT]:   [2189|YamboWorkflow|perform_next]: {'dft_predicted': 'semiconductor/insulator', 'valence': 8, 'conduction': 9, 'number_of_kpoints': 8, 'nscf_gap_eV': 4.654, 'homo_k': 5, 'lumo_k': 5, 'gap_type': 'direct', 'gap_': [[5, 5, 8, 8], [5, 5, 9, 9]], 'soc': False, 'spin-resolved': False}\n",
      "2024-01-08 14:27:21 [910  | REPORT]:     [2191|YamboRestart|run_process]: launching YamboCalculation<2198> iteration #1\n",
      "2024-01-08 14:27:22 [911  | REPORT]:     [2193|YamboRestart|run_process]: launching YamboCalculation<2199> iteration #1\n",
      "2024-01-08 14:27:24 [912  | REPORT]:     [2195|YamboRestart|run_process]: launching YamboCalculation<2200> iteration #1\n",
      "2024-01-08 14:27:26 [913  | REPORT]:     [2197|YamboRestart|run_process]: launching YamboCalculation<2201> iteration #1\n",
      "2024-01-08 14:29:48 [914  | REPORT]:     [2191|YamboRestart|results]: work chain completed after 1 iterations\n",
      "2024-01-08 14:29:48 [915  | REPORT]:     [2191|YamboRestart|on_terminated]: remote folders will not be cleaned\n",
      "2024-01-08 14:29:49 [916  | REPORT]:     [2193|YamboRestart|results]: work chain completed after 1 iterations\n",
      "2024-01-08 14:29:49 [917  | REPORT]:     [2193|YamboRestart|on_terminated]: remote folders will not be cleaned\n",
      "2024-01-08 14:29:50 [918  | REPORT]:     [2195|YamboRestart|results]: work chain completed after 1 iterations\n",
      "2024-01-08 14:29:50 [919  | REPORT]:     [2195|YamboRestart|on_terminated]: remote folders will not be cleaned\n",
      "2024-01-08 14:29:51 [920  | REPORT]:     [2197|YamboRestart|results]: work chain completed after 1 iterations\n",
      "2024-01-08 14:29:51 [921  | REPORT]:     [2197|YamboRestart|on_terminated]: remote folders will not be cleaned\n",
      "2024-01-08 14:29:51 [922  | REPORT]:   [2183|YamboWorkflow|can_continue]: workflow is finished\n",
      "2024-01-08 14:29:52 [923  | REPORT]:   [2183|YamboWorkflow|post_processing_needed]: no post processing needed\n",
      "2024-01-08 14:29:53 [924  | REPORT]:   [2183|YamboWorkflow|report_wf]: PARSED: {'gap_': 5.879031863343716, 'homo': -0.31856812917590144, 'lumo': 5.560463734167815, 'gap_dft': 4.6536960928082465, 'homo_dft': 0.0, 'lumo_dft': 4.6536960928082465}\n",
      "2024-01-08 14:29:53 [925  | REPORT]:   [2183|YamboWorkflow|report_wf]: workflow completed successfully\n",
      "2024-01-08 14:29:53 [926  | REPORT]:   [2185|YamboWorkflow|can_continue]: workflow is finished\n",
      "2024-01-08 14:29:54 [927  | REPORT]:   [2185|YamboWorkflow|post_processing_needed]: no post processing needed\n",
      "2024-01-08 14:29:54 [928  | REPORT]:   [2185|YamboWorkflow|report_wf]: PARSED: {'gap_': 5.86591524777934, 'homo': -0.35061647126004103, 'lumo': 5.515298776519299, 'gap_dft': 4.6536960928082465, 'homo_dft': 0.0, 'lumo_dft': 4.6536960928082465}\n",
      "2024-01-08 14:29:54 [929  | REPORT]:   [2185|YamboWorkflow|report_wf]: workflow completed successfully\n",
      "2024-01-08 14:29:55 [930  | REPORT]:   [2187|YamboWorkflow|can_continue]: workflow is finished\n",
      "2024-01-08 14:29:55 [931  | REPORT]:   [2187|YamboWorkflow|post_processing_needed]: no post processing needed\n",
      "2024-01-08 14:29:56 [932  | REPORT]:   [2187|YamboWorkflow|report_wf]: PARSED: {'gap_': 5.865271545965225, 'homo': -0.35236713745370507, 'lumo': 5.5129044085115195, 'gap_dft': 4.6536960928082465, 'homo_dft': 0.0, 'lumo_dft': 4.6536960928082465}\n",
      "2024-01-08 14:29:56 [933  | REPORT]:   [2187|YamboWorkflow|report_wf]: workflow completed successfully\n",
      "2024-01-08 14:29:57 [934  | REPORT]:   [2189|YamboWorkflow|can_continue]: workflow is finished\n",
      "2024-01-08 14:29:57 [935  | REPORT]:   [2189|YamboWorkflow|post_processing_needed]: no post processing needed\n",
      "2024-01-08 14:29:58 [936  | REPORT]:   [2189|YamboWorkflow|report_wf]: PARSED: {'gap_': 5.859451645260118, 'homo': -0.35334675531294196, 'lumo': 5.506104889947176, 'gap_dft': 4.6536960928082465, 'homo_dft': 0.0, 'lumo_dft': 4.6536960928082465}\n",
      "2024-01-08 14:29:58 [937  | REPORT]:   [2189|YamboWorkflow|report_wf]: workflow completed successfully\n",
      "2024-01-08 14:29:59 [938  | REPORT]: [2150|YamboConvergence|data_analysis]: Data analysis, we will try to parse some result and decide what next.\n",
      "2024-01-08 14:30:00 [939  | REPORT]: [2150|YamboConvergence|data_analysis]:    FFTGvecs kpoint_mesh  ...      gap_                                  uuid\n",
      "0        21   [4, 4, 2]  ...  5.879032  d139f856-3585-4e16-a052-bc5d97adf163\n",
      "1        37   [4, 4, 2]  ...  5.865915  4dff6bfe-8d2d-4510-ad71-7c3684bbd3ae\n",
      "2        45   [4, 4, 2]  ...  5.865272  4ebec291-b2f9-4be8-abc9-550c37a4a051\n",
      "3        58   [4, 4, 2]  ...  5.859452  aa9565c1-1e3a-43df-b496-a624425d37b1\n",
      "\n",
      "[4 rows x 7 columns]\n",
      "2024-01-08 14:30:00 [940  | REPORT]: [2150|YamboConvergence|data_analysis]: results ['gap_']\n",
      ":{'gap_': array([5.87903186, 5.86591525, 5.86527155, 5.85945165])}\n",
      "2024-01-08 14:30:00 [941  | REPORT]: [2150|YamboConvergence|data_analysis]: HINTS: {'FFTGvecs': 21, 'gap_': 5.8790318633437, 'already_computed': True, 'E_ref': 5.853168011961418, 'new_grid': False, 'extrapolation': 5.84736339205662, 'extrapolation_units': 'eV'}\n",
      "2024-01-08 14:30:00 [942  | REPORT]: [2150|YamboConvergence|data_analysis]: Success, updating the history... \n",
      "2024-01-08 14:30:00 [943  | REPORT]: [2150|YamboConvergence|data_analysis]: Success on ['FFTGvecs'] reached in 4 calculations, the result is [[5.87903186]]\n",
      "2024-01-08 14:30:00 [944  | REPORT]: [2150|YamboConvergence|data_analysis]: {'type': 'heavy', 'what': ['gap_'], 'skip_pre': False, 'max': 84, 'var': ['FFTGvecs'], 'stop': 58, 'delta': 8, 'start': 21, 'iter': 1, 'G_iter': 1, 'success': True, 'skipped': 0, 'conv_thr': 10, 'conv_thr_units': '%', 'ratio': 1.2, 'max_iterations': 4, 'steps': 4, 'conv_window': 4, 'functional_form': 'power_law', 'convergence_algorithm': 'new_algorithm_1D', 'thr_fx': 5e-05}\n",
      "2024-01-08 14:30:00 [945  | REPORT]: [2150|YamboConvergence|data_analysis]: {'FFTGvecs': 21, 'gap_': 5.8790318633437, 'already_computed': True, 'E_ref': 5.853168011961418, 'new_grid': False, 'extrapolation_units': 'eV'}\n",
      "2024-01-08 14:30:01 [946  | REPORT]: [2150|YamboConvergence|has_to_continue]: Next parameters: ['kpoint_mesh']\n",
      "2024-01-08 14:30:01 [947  | REPORT]: [2150|YamboConvergence|has_to_continue]: Mode is \"heavy\", so we mantain the other parameters as the converged ones, if any.\n",
      "2024-01-08 14:30:01 [948  | REPORT]: [2150|YamboConvergence|pre_needed]: {'FFTGvecs': [21], 'kpoint_mesh': [[4, 4, 2], [7, 7, 2], [13, 13, 5], [16, 16, 6]], 'BndsRnXp': [80, 400, 80, 180, 280, 400], 'NGsBlkXp': [2, 2, 8, 6, 4, 8], 'GbndRnge': [80, 400, 80, 180, 280, 400]}\n",
      "2024-01-08 14:30:02 [949  | REPORT]: [2150|YamboConvergence|next_step]: New parameters are: {'kpoint_mesh': [4, 4, 2]}\n",
      "2024-01-08 14:30:02 [950  | REPORT]: [2150|YamboConvergence|next_step]: Calculation already done: 2183\n",
      "2024-01-08 14:30:09 [951  | REPORT]: [2150|YamboConvergence|next_step]: New parameters are: {'kpoint_mesh': [7, 7, 2]}\n",
      "2024-01-08 14:30:19 [952  | REPORT]: [2150|YamboConvergence|next_step]: New parameters are: {'kpoint_mesh': [13, 13, 5]}\n",
      "2024-01-08 14:30:28 [953  | REPORT]: [2150|YamboConvergence|next_step]: New parameters are: {'kpoint_mesh': [16, 16, 6]}\n",
      "2024-01-08 14:30:32 [954  | REPORT]:   [2232|YamboWorkflow|start_workflow]:  workflow initilization step completed.\n",
      "2024-01-08 14:30:33 [955  | REPORT]:   [2232|YamboWorkflow|can_continue]: the workflow continues with a nscf calculation\n",
      "2024-01-08 14:30:33 [956  | REPORT]:   [2232|YamboWorkflow|perform_next]: performing a nscf calculation\n",
      "2024-01-08 14:30:35 [957  | REPORT]:   [2235|YamboWorkflow|start_workflow]:  workflow initilization step completed.\n",
      "2024-01-08 14:30:35 [958  | REPORT]:   [2235|YamboWorkflow|can_continue]: the workflow continues with a nscf calculation\n",
      "2024-01-08 14:30:35 [959  | REPORT]:   [2235|YamboWorkflow|perform_next]: performing a nscf calculation\n",
      "2024-01-08 14:30:38 [960  | REPORT]:   [2238|YamboWorkflow|start_workflow]:  workflow initilization step completed.\n",
      "2024-01-08 14:30:38 [961  | REPORT]:   [2238|YamboWorkflow|can_continue]: the workflow continues with a nscf calculation\n",
      "2024-01-08 14:30:38 [962  | REPORT]:   [2238|YamboWorkflow|perform_next]: performing a nscf calculation\n",
      "2024-01-08 14:30:40 [963  | REPORT]:     [2239|PwBaseWorkChain|run_process]: launching PwCalculation<2244> iteration #1\n",
      "2024-01-08 14:30:41 [964  | REPORT]:     [2240|PwBaseWorkChain|run_process]: launching PwCalculation<2247> iteration #1\n",
      "2024-01-08 14:30:43 [965  | REPORT]:     [2241|PwBaseWorkChain|run_process]: launching PwCalculation<2250> iteration #1\n",
      "2024-01-08 14:33:43 [967  | REPORT]:     [2239|PwBaseWorkChain|results]: work chain completed after 1 iterations\n",
      "2024-01-08 14:33:44 [968  | REPORT]:     [2239|PwBaseWorkChain|on_terminated]: remote folders will not be cleaned\n",
      "2024-01-08 14:33:44 [969  | REPORT]:   [2232|YamboWorkflow|can_continue]: the workflow continues with a yambo calculation\n",
      "2024-01-08 14:33:44 [970  | REPORT]:   [2232|YamboWorkflow|perform_next]: performing a yambo calculation\n",
      "2024-01-08 14:33:44 [971  | REPORT]:   [2232|YamboWorkflow|perform_next]: updating yambo parameters to parse more results\n",
      "2024-01-08 14:33:44 [972  | REPORT]:   [2232|YamboWorkflow|perform_next]: {'dft_predicted': 'semiconductor/insulator', 'valence': 8, 'conduction': 9, 'number_of_kpoints': 16, 'nscf_gap_eV': 4.463, 'homo_k': 15, 'lumo_k': 13, 'gap_type': 'indirect', 'gap_': [[15, 15, 8, 8], [13, 13, 9, 9]], 'soc': False, 'spin-resolved': False}\n",
      "2024-01-08 14:33:47 [973  | REPORT]:     [2259|YamboRestart|run_process]: launching YamboCalculation<2260> iteration #1\n",
      "2024-01-08 14:36:14 [974  | REPORT]:     [2259|YamboRestart|results]: work chain completed after 1 iterations\n",
      "2024-01-08 14:36:15 [975  | REPORT]:     [2259|YamboRestart|on_terminated]: remote folders will not be cleaned\n",
      "2024-01-08 14:36:15 [976  | REPORT]:   [2232|YamboWorkflow|can_continue]: workflow is finished\n",
      "2024-01-08 14:36:15 [977  | REPORT]:   [2232|YamboWorkflow|post_processing_needed]: no post processing needed\n",
      "2024-01-08 14:36:16 [978  | REPORT]:   [2232|YamboWorkflow|report_wf]: PARSED: {'gap_': 5.566771530436911, 'homo': -0.21841798516754063, 'lumo': 5.3483535452693705, 'gap_dft': 4.462906929919124, 'homo_dft': 0.0, 'lumo_dft': 4.462906929919124}\n",
      "2024-01-08 14:36:16 [979  | REPORT]:   [2232|YamboWorkflow|report_wf]: workflow completed successfully\n",
      "2024-01-08 14:36:48 [981  | REPORT]:     [2240|PwBaseWorkChain|results]: work chain completed after 1 iterations\n",
      "2024-01-08 14:36:48 [982  | REPORT]:     [2240|PwBaseWorkChain|on_terminated]: remote folders will not be cleaned\n",
      "2024-01-08 14:36:49 [983  | REPORT]:   [2235|YamboWorkflow|can_continue]: the workflow continues with a yambo calculation\n",
      "2024-01-08 14:36:49 [984  | REPORT]:   [2235|YamboWorkflow|perform_next]: performing a yambo calculation\n",
      "2024-01-08 14:36:49 [985  | REPORT]:   [2235|YamboWorkflow|perform_next]: updating yambo parameters to parse more results\n",
      "2024-01-08 14:36:49 [986  | REPORT]:   [2235|YamboWorkflow|perform_next]: {'dft_predicted': 'semiconductor/insulator', 'valence': 8, 'conduction': 9, 'number_of_kpoints': 63, 'nscf_gap_eV': 4.298, 'homo_k': 61, 'lumo_k': 37, 'gap_type': 'indirect', 'gap_': [[61, 61, 8, 8], [37, 37, 9, 9]], 'soc': False, 'spin-resolved': False}\n",
      "2024-01-08 14:36:51 [987  | REPORT]:     [2273|YamboRestart|run_process]: launching YamboCalculation<2274> iteration #1\n",
      "2024-01-08 14:43:05 [989  | REPORT]:     [2241|PwBaseWorkChain|results]: work chain completed after 1 iterations\n",
      "2024-01-08 14:43:06 [990  | REPORT]:     [2241|PwBaseWorkChain|on_terminated]: remote folders will not be cleaned\n",
      "2024-01-08 14:43:06 [991  | REPORT]:   [2238|YamboWorkflow|can_continue]: the workflow continues with a yambo calculation\n",
      "2024-01-08 14:43:06 [992  | REPORT]:   [2238|YamboWorkflow|perform_next]: performing a yambo calculation\n",
      "2024-01-08 14:43:06 [993  | REPORT]:   [2238|YamboWorkflow|perform_next]: updating yambo parameters to parse more results\n",
      "2024-01-08 14:43:06 [994  | REPORT]:   [2238|YamboWorkflow|perform_next]: {'dft_predicted': 'semiconductor/insulator', 'valence': 8, 'conduction': 9, 'number_of_kpoints': 120, 'nscf_gap_eV': 4.251, 'homo_k': 117, 'lumo_k': 33, 'gap_type': 'indirect', 'gap_': [[117, 117, 8, 8], [33, 33, 9, 9]], 'soc': False, 'spin-resolved': False}\n",
      "2024-01-08 14:43:09 [995  | REPORT]:     [2281|YamboRestart|run_process]: launching YamboCalculation<2282> iteration #1\n",
      "2024-01-08 14:45:18 [996  | REPORT]:     [2273|YamboRestart|results]: work chain completed after 1 iterations\n",
      "2024-01-08 14:45:18 [997  | REPORT]:     [2273|YamboRestart|on_terminated]: remote folders will not be cleaned\n",
      "2024-01-08 14:45:18 [998  | REPORT]:   [2235|YamboWorkflow|can_continue]: workflow is finished\n",
      "2024-01-08 14:45:19 [999  | REPORT]:   [2235|YamboWorkflow|post_processing_needed]: no post processing needed\n",
      "2024-01-08 14:45:19 [1000 | REPORT]:   [2235|YamboWorkflow|report_wf]: PARSED: {'gap_': 5.444808511411026, 'homo': -0.3381867919702083, 'lumo': 5.106621719440818, 'gap_dft': 4.2976809400498865, 'homo_dft': 0.0, 'lumo_dft': 4.2976809400498865}\n",
      "2024-01-08 14:45:20 [1001 | REPORT]:   [2235|YamboWorkflow|report_wf]: workflow completed successfully\n",
      "2024-01-08 15:01:15 [1002 | REPORT]:     [2281|YamboRestart|results]: work chain completed after 1 iterations\n",
      "2024-01-08 15:01:15 [1003 | REPORT]:     [2281|YamboRestart|on_terminated]: remote folders will not be cleaned\n",
      "2024-01-08 15:01:15 [1004 | REPORT]:   [2238|YamboWorkflow|can_continue]: workflow is finished\n",
      "2024-01-08 15:01:16 [1005 | REPORT]:   [2238|YamboWorkflow|post_processing_needed]: no post processing needed\n",
      "2024-01-08 15:01:16 [1006 | REPORT]:   [2238|YamboWorkflow|report_wf]: PARSED: {'gap_': 5.3949423257140445, 'homo': -0.3638204427359626, 'lumo': 5.0311218829780815, 'gap_dft': 4.250862023535371, 'homo_dft': 0.0, 'lumo_dft': 4.250862023535371}\n",
      "2024-01-08 15:01:16 [1007 | REPORT]:   [2238|YamboWorkflow|report_wf]: workflow completed successfully\n",
      "2024-01-08 15:01:17 [1008 | REPORT]: [2150|YamboConvergence|data_analysis]: Data analysis, we will try to parse some result and decide what next.\n",
      "2024-01-08 15:01:18 [1009 | REPORT]: [2150|YamboConvergence|data_analysis]:    FFTGvecs  kpoint_mesh  ...      gap_                                  uuid\n",
      "0        21    [4, 4, 2]  ...  5.879032  d139f856-3585-4e16-a052-bc5d97adf163\n",
      "1        21    [7, 7, 2]  ...  5.566772  d4586e37-e28d-480b-b9c5-e7795ec52d09\n",
      "2        21  [13, 13, 5]  ...  5.444809  b2c3a9fc-6756-4139-b261-923eeb4b19dd\n",
      "3        21  [16, 16, 6]  ...  5.394942  50af9107-ba40-4d1c-a964-3a56ce75fc79\n",
      "\n",
      "[4 rows x 7 columns]\n",
      "2024-01-08 15:01:19 [1010 | REPORT]: [2150|YamboConvergence|data_analysis]: results ['gap_']\n",
      ":{'gap_': array([5.87903186, 5.56677153, 5.44480851, 5.39494233])}\n",
      "2024-01-08 15:01:19 [1011 | REPORT]: [2150|YamboConvergence|data_analysis]: HINTS: {'kpoint_mesh': [7, 7, 4], 'gap_': 5.427121605729972, 'already_computed': False, 'E_ref': 5.406898129849488, 'new_grid': False, 'extrapolation': 5.406392886512276, 'extrapolation_units': 'eV'}\n",
      "2024-01-08 15:01:19 [1012 | REPORT]: [2150|YamboConvergence|data_analysis]: Success on ['kpoint_mesh'] not reached yet in 4 calculations\n",
      "2024-01-08 15:01:19 [1013 | REPORT]: [2150|YamboConvergence|data_analysis]: {'kpoint_mesh': [7, 7, 4], 'gap_': 5.427121605729972, 'already_computed': False, 'E_ref': 5.406898129849488, 'new_grid': False, 'extrapolation': 5.406392886512276, 'extrapolation_units': 'eV'}\n",
      "2024-01-08 15:01:19 [1014 | REPORT]: [2150|YamboConvergence|has_to_continue]: Still iteration on ['kpoint_mesh']\n",
      "2024-01-08 15:01:19 [1015 | REPORT]: [2150|YamboConvergence|pre_needed]: {'FFTGvecs': [21], 'kpoint_mesh': [[4, 4, 2], [7, 7, 2], [13, 13, 5], [16, 16, 6]], 'BndsRnXp': [80, 400, 80, 180, 280, 400], 'NGsBlkXp': [2, 2, 8, 6, 4, 8], 'GbndRnge': [80, 400, 80, 180, 280, 400]}\n",
      "2024-01-08 15:01:31 [1016 | REPORT]: [2150|YamboConvergence|next_step]: New parameters are: {'kpoint_mesh': [7, 7, 4]}\n",
      "2024-01-08 15:01:35 [1017 | REPORT]:   [2298|YamboWorkflow|start_workflow]:  workflow initilization step completed.\n",
      "2024-01-08 15:01:35 [1018 | REPORT]:   [2298|YamboWorkflow|can_continue]: the workflow continues with a nscf calculation\n",
      "2024-01-08 15:01:35 [1019 | REPORT]:   [2298|YamboWorkflow|perform_next]: performing a nscf calculation\n",
      "2024-01-08 15:01:37 [1020 | REPORT]:     [2299|PwBaseWorkChain|run_process]: launching PwCalculation<2302> iteration #1\n",
      "2024-01-08 15:05:09 [1022 | REPORT]:     [2299|PwBaseWorkChain|results]: work chain completed after 1 iterations\n",
      "2024-01-08 15:05:09 [1023 | REPORT]:     [2299|PwBaseWorkChain|on_terminated]: remote folders will not be cleaned\n",
      "2024-01-08 15:05:09 [1024 | REPORT]:   [2298|YamboWorkflow|can_continue]: the workflow continues with a yambo calculation\n",
      "2024-01-08 15:05:09 [1025 | REPORT]:   [2298|YamboWorkflow|perform_next]: performing a yambo calculation\n",
      "2024-01-08 15:05:09 [1026 | REPORT]:   [2298|YamboWorkflow|perform_next]: updating yambo parameters to parse more results\n",
      "2024-01-08 15:05:10 [1027 | REPORT]:   [2298|YamboWorkflow|perform_next]: {'dft_predicted': 'semiconductor/insulator', 'valence': 8, 'conduction': 9, 'number_of_kpoints': 24, 'nscf_gap_eV': 4.463, 'homo_k': 22, 'lumo_k': 19, 'gap_type': 'indirect', 'gap_': [[22, 22, 8, 8], [19, 19, 9, 9]], 'soc': False, 'spin-resolved': False}\n",
      "2024-01-08 15:05:12 [1028 | REPORT]:     [2309|YamboRestart|run_process]: launching YamboCalculation<2310> iteration #1\n",
      "2024-01-08 15:08:14 [1029 | REPORT]:     [2309|YamboRestart|results]: work chain completed after 1 iterations\n",
      "2024-01-08 15:08:14 [1030 | REPORT]:     [2309|YamboRestart|on_terminated]: remote folders will not be cleaned\n",
      "2024-01-08 15:08:14 [1031 | REPORT]:   [2298|YamboWorkflow|can_continue]: workflow is finished\n",
      "2024-01-08 15:08:15 [1032 | REPORT]:   [2298|YamboWorkflow|post_processing_needed]: no post processing needed\n",
      "2024-01-08 15:08:15 [1033 | REPORT]:   [2298|YamboWorkflow|report_wf]: PARSED: {'gap_': 5.701605544634163, 'homo': -0.3725070973470807, 'lumo': 5.329098447287083, 'gap_dft': 4.462906929919124, 'homo_dft': 0.0, 'lumo_dft': 4.462906929919124}\n",
      "2024-01-08 15:08:16 [1034 | REPORT]:   [2298|YamboWorkflow|report_wf]: workflow completed successfully\n",
      "2024-01-08 15:08:16 [1035 | REPORT]: [2150|YamboConvergence|data_analysis]: Data analysis, we will try to parse some result and decide what next.\n",
      "2024-01-08 15:08:17 [1036 | REPORT]: [2150|YamboConvergence|data_analysis]:    FFTGvecs kpoint_mesh  ...      gap_                                  uuid\n",
      "0        21   [7, 7, 4]  ...  5.701606  28123ca5-3c6e-4b69-a805-a15fe810082d\n",
      "\n",
      "[1 rows x 7 columns]\n",
      "2024-01-08 15:08:17 [1037 | REPORT]: [2150|YamboConvergence|data_analysis]: results ['gap_']\n",
      ":{'gap_': array([5.87903186, 5.56677153, 5.44480851, 5.39494233, 5.70160554])}\n",
      "2024-01-08 15:08:17 [1038 | REPORT]: [2150|YamboConvergence|data_analysis]: HINTS: {'kpoint_mesh': [7, 7, 4], 'gap_': 5.5667715304369, 'already_computed': False, 'E_ref': 5.410150965569584, 'new_grid': False, 'extrapolation': 5.4094483186141815, 'extrapolation_units': 'eV'}\n",
      "2024-01-08 15:08:17 [1039 | REPORT]: [2150|YamboConvergence|data_analysis]: Success, updating the history... \n",
      "2024-01-08 15:08:18 [1040 | REPORT]: [2150|YamboConvergence|data_analysis]: Success on ['kpoint_mesh'] reached in 2 calculations, the result is [[5.56677153]]\n",
      "2024-01-08 15:08:18 [1041 | REPORT]: [2150|YamboConvergence|data_analysis]: {'type': 'heavy', 'what': ['gap_'], 'skip_pre': False, 'max': [30, 30, 10], 'var': ['kpoint_mesh'], 'stop': [16, 16, 6], 'delta': [3, 3, 3], 'start': [4, 4, 2], 'iter': 2, 'G_iter': 1, 'success': True, 'skipped': 3, 'conv_thr': 10, 'conv_thr_units': '%', 'ratio': 1.2, 'max_iterations': 4, 'steps': 4, 'conv_window': 4, 'functional_form': 'power_law', 'convergence_algorithm': 'new_algorithm_1D', 'thr_fx': 5e-05}\n",
      "2024-01-08 15:08:18 [1042 | REPORT]: [2150|YamboConvergence|data_analysis]: {'kpoint_mesh': [7, 7, 4], 'gap_': 5.5667715304369, 'already_computed': False, 'E_ref': 5.410150965569584, 'new_grid': False, 'extrapolation_units': 'eV'}\n",
      "2024-01-08 15:08:18 [1043 | REPORT]: [2150|YamboConvergence|has_to_continue]: Next parameters: ['BndsRnXp', 'GbndRnge', 'NGsBlkXp']\n",
      "2024-01-08 15:08:18 [1044 | REPORT]: [2150|YamboConvergence|has_to_continue]: Mode is \"heavy\", so we mantain the other parameters as the converged ones, if any.\n",
      "2024-01-08 15:08:18 [1045 | REPORT]: [2150|YamboConvergence|pre_needed]: {'FFTGvecs': [21], 'kpoint_mesh': [[7, 7, 4]], 'BndsRnXp': [80, 400, 80, 180, 280, 400], 'NGsBlkXp': [2, 2, 8, 6, 4, 8], 'GbndRnge': [80, 400, 80, 180, 280, 400]}\n",
      "2024-01-08 15:08:20 [1046 | REPORT]: [2150|YamboConvergence|pre_needed]: ['GW bands are: 200', 'found scf inputs from parent', 'found nscf inputs from parent\\n']\n",
      "2024-01-08 15:08:20 [1047 | REPORT]: [2150|YamboConvergence|do_pre]: mesh check\n",
      "2024-01-08 15:08:20 [1048 | REPORT]: [2150|YamboConvergence|do_pre]: doing the calculation: p2y\n",
      "2024-01-08 15:08:22 [1049 | REPORT]: [2150|YamboConvergence|do_pre]: Submitted YamboWorkflow up to p2y, pk = 2321\n",
      "2024-01-08 15:08:24 [1050 | REPORT]:   [2321|YamboWorkflow|start_workflow]:  workflow initilization step completed.\n",
      "2024-01-08 15:08:24 [1051 | REPORT]:   [2321|YamboWorkflow|can_continue]: the workflow continues with a nscf calculation\n",
      "2024-01-08 15:08:24 [1052 | REPORT]:   [2321|YamboWorkflow|perform_next]: performing a nscf calculation\n",
      "2024-01-08 15:08:26 [1053 | REPORT]:     [2324|PwBaseWorkChain|run_process]: launching PwCalculation<2327> iteration #1\n",
      "2024-01-08 15:12:40 [1055 | REPORT]:     [2324|PwBaseWorkChain|results]: work chain completed after 1 iterations\n",
      "2024-01-08 15:12:41 [1056 | REPORT]:     [2324|PwBaseWorkChain|on_terminated]: remote folders will not be cleaned\n",
      "2024-01-08 15:12:41 [1057 | REPORT]:   [2321|YamboWorkflow|can_continue]: the workflow continues with a yambo calculation\n",
      "2024-01-08 15:12:41 [1058 | REPORT]:   [2321|YamboWorkflow|perform_next]: performing a yambo calculation\n",
      "2024-01-08 15:12:44 [1059 | REPORT]:     [2333|YamboRestart|run_process]: launching YamboCalculation<2334> iteration #1\n",
      "2024-01-08 15:15:01 [1060 | REPORT]:     [2333|YamboRestart|results]: work chain completed after 1 iterations\n",
      "2024-01-08 15:15:01 [1061 | REPORT]:     [2333|YamboRestart|on_terminated]: remote folders will not be cleaned\n",
      "2024-01-08 15:15:01 [1062 | REPORT]:   [2321|YamboWorkflow|can_continue]: workflow is finished\n",
      "2024-01-08 15:15:01 [1063 | REPORT]:   [2321|YamboWorkflow|post_processing_needed]: no post processing needed\n",
      "2024-01-08 15:15:02 [1064 | REPORT]:   [2321|YamboWorkflow|report_wf]: workflow completed successfully\n",
      "2024-01-08 15:15:02 [1065 | REPORT]: [2150|YamboConvergence|prepare_calculations]: setting the pre calc remote folder 2335 as parent\n",
      "2024-01-08 15:15:07 [1066 | REPORT]: [2150|YamboConvergence|next_step]: New parameters are: {'BndsRnXp': 80, 'GbndRnge': 80, 'NGsBlkXp': 2}\n",
      "2024-01-08 15:15:12 [1067 | REPORT]: [2150|YamboConvergence|next_step]: New parameters are: {'BndsRnXp': 400, 'GbndRnge': 400, 'NGsBlkXp': 2}\n",
      "2024-01-08 15:15:18 [1068 | REPORT]: [2150|YamboConvergence|next_step]: New parameters are: {'BndsRnXp': 80, 'GbndRnge': 80, 'NGsBlkXp': 8}\n",
      "2024-01-08 15:15:24 [1069 | REPORT]: [2150|YamboConvergence|next_step]: New parameters are: {'BndsRnXp': 180, 'GbndRnge': 180, 'NGsBlkXp': 6}\n",
      "2024-01-08 15:15:30 [1070 | REPORT]: [2150|YamboConvergence|next_step]: New parameters are: {'BndsRnXp': 280, 'GbndRnge': 280, 'NGsBlkXp': 4}\n",
      "2024-01-08 15:15:36 [1071 | REPORT]: [2150|YamboConvergence|next_step]: New parameters are: {'BndsRnXp': 400, 'GbndRnge': 400, 'NGsBlkXp': 8}\n",
      "2024-01-08 15:15:41 [1072 | REPORT]:   [2339|YamboWorkflow|start_workflow]:  workflow initilization step completed.\n",
      "2024-01-08 15:15:41 [1073 | REPORT]:   [2339|YamboWorkflow|can_continue]: the workflow continues with a yambo calculation\n",
      "2024-01-08 15:15:41 [1074 | REPORT]:   [2339|YamboWorkflow|perform_next]: performing a yambo calculation\n",
      "2024-01-08 15:15:41 [1075 | REPORT]:   [2339|YamboWorkflow|perform_next]: updating yambo parameters to parse more results\n",
      "2024-01-08 15:15:41 [1076 | REPORT]:   [2339|YamboWorkflow|perform_next]: {'dft_predicted': 'semiconductor/insulator', 'valence': 8, 'conduction': 9, 'number_of_kpoints': 16, 'nscf_gap_eV': 4.463, 'homo_k': 15, 'lumo_k': 13, 'gap_type': 'indirect', 'gap_': [[15, 15, 8, 8], [13, 13, 9, 9]], 'soc': False, 'spin-resolved': False}\n",
      "2024-01-08 15:15:43 [1077 | REPORT]:   [2341|YamboWorkflow|start_workflow]:  workflow initilization step completed.\n",
      "2024-01-08 15:15:44 [1078 | REPORT]:   [2341|YamboWorkflow|can_continue]: the workflow continues with a yambo calculation\n",
      "2024-01-08 15:15:44 [1079 | REPORT]:   [2341|YamboWorkflow|perform_next]: performing a yambo calculation\n",
      "2024-01-08 15:15:44 [1080 | REPORT]:   [2341|YamboWorkflow|perform_next]: updating yambo parameters to parse more results\n",
      "2024-01-08 15:15:44 [1081 | REPORT]:   [2341|YamboWorkflow|perform_next]: {'dft_predicted': 'semiconductor/insulator', 'valence': 8, 'conduction': 9, 'number_of_kpoints': 16, 'nscf_gap_eV': 4.463, 'homo_k': 15, 'lumo_k': 13, 'gap_type': 'indirect', 'gap_': [[15, 15, 8, 8], [13, 13, 9, 9]], 'soc': False, 'spin-resolved': False}\n",
      "2024-01-08 15:15:46 [1082 | REPORT]:   [2343|YamboWorkflow|start_workflow]:  workflow initilization step completed.\n",
      "2024-01-08 15:15:47 [1083 | REPORT]:   [2343|YamboWorkflow|can_continue]: the workflow continues with a yambo calculation\n",
      "2024-01-08 15:15:47 [1084 | REPORT]:   [2343|YamboWorkflow|perform_next]: performing a yambo calculation\n",
      "2024-01-08 15:15:47 [1085 | REPORT]:   [2343|YamboWorkflow|perform_next]: updating yambo parameters to parse more results\n",
      "2024-01-08 15:15:47 [1086 | REPORT]:   [2343|YamboWorkflow|perform_next]: {'dft_predicted': 'semiconductor/insulator', 'valence': 8, 'conduction': 9, 'number_of_kpoints': 16, 'nscf_gap_eV': 4.463, 'homo_k': 15, 'lumo_k': 13, 'gap_type': 'indirect', 'gap_': [[15, 15, 8, 8], [13, 13, 9, 9]], 'soc': False, 'spin-resolved': False}\n",
      "2024-01-08 15:15:49 [1087 | REPORT]:   [2345|YamboWorkflow|start_workflow]:  workflow initilization step completed.\n",
      "2024-01-08 15:15:49 [1088 | REPORT]:   [2345|YamboWorkflow|can_continue]: the workflow continues with a yambo calculation\n",
      "2024-01-08 15:15:49 [1089 | REPORT]:   [2345|YamboWorkflow|perform_next]: performing a yambo calculation\n",
      "2024-01-08 15:15:50 [1090 | REPORT]:   [2345|YamboWorkflow|perform_next]: updating yambo parameters to parse more results\n",
      "2024-01-08 15:15:50 [1091 | REPORT]:   [2345|YamboWorkflow|perform_next]: {'dft_predicted': 'semiconductor/insulator', 'valence': 8, 'conduction': 9, 'number_of_kpoints': 16, 'nscf_gap_eV': 4.463, 'homo_k': 15, 'lumo_k': 13, 'gap_type': 'indirect', 'gap_': [[15, 15, 8, 8], [13, 13, 9, 9]], 'soc': False, 'spin-resolved': False}\n",
      "2024-01-08 15:15:52 [1092 | REPORT]:   [2347|YamboWorkflow|start_workflow]:  workflow initilization step completed.\n",
      "2024-01-08 15:15:52 [1093 | REPORT]:   [2347|YamboWorkflow|can_continue]: the workflow continues with a yambo calculation\n",
      "2024-01-08 15:15:52 [1094 | REPORT]:   [2347|YamboWorkflow|perform_next]: performing a yambo calculation\n",
      "2024-01-08 15:15:52 [1095 | REPORT]:   [2347|YamboWorkflow|perform_next]: updating yambo parameters to parse more results\n",
      "2024-01-08 15:15:53 [1096 | REPORT]:   [2347|YamboWorkflow|perform_next]: {'dft_predicted': 'semiconductor/insulator', 'valence': 8, 'conduction': 9, 'number_of_kpoints': 16, 'nscf_gap_eV': 4.463, 'homo_k': 15, 'lumo_k': 13, 'gap_type': 'indirect', 'gap_': [[15, 15, 8, 8], [13, 13, 9, 9]], 'soc': False, 'spin-resolved': False}\n",
      "2024-01-08 15:15:55 [1097 | REPORT]:   [2349|YamboWorkflow|start_workflow]:  workflow initilization step completed.\n",
      "2024-01-08 15:15:55 [1098 | REPORT]:   [2349|YamboWorkflow|can_continue]: the workflow continues with a yambo calculation\n",
      "2024-01-08 15:15:55 [1099 | REPORT]:   [2349|YamboWorkflow|perform_next]: performing a yambo calculation\n",
      "2024-01-08 15:15:55 [1100 | REPORT]:   [2349|YamboWorkflow|perform_next]: updating yambo parameters to parse more results\n",
      "2024-01-08 15:15:56 [1101 | REPORT]:   [2349|YamboWorkflow|perform_next]: {'dft_predicted': 'semiconductor/insulator', 'valence': 8, 'conduction': 9, 'number_of_kpoints': 16, 'nscf_gap_eV': 4.463, 'homo_k': 15, 'lumo_k': 13, 'gap_type': 'indirect', 'gap_': [[15, 15, 8, 8], [13, 13, 9, 9]], 'soc': False, 'spin-resolved': False}\n",
      "2024-01-08 15:15:58 [1102 | REPORT]:     [2351|YamboRestart|run_process]: launching YamboCalculation<2362> iteration #1\n",
      "2024-01-08 15:16:00 [1103 | REPORT]:     [2353|YamboRestart|run_process]: launching YamboCalculation<2363> iteration #1\n",
      "2024-01-08 15:16:01 [1104 | REPORT]:     [2355|YamboRestart|run_process]: launching YamboCalculation<2364> iteration #1\n",
      "2024-01-08 15:16:03 [1105 | REPORT]:     [2357|YamboRestart|run_process]: launching YamboCalculation<2365> iteration #1\n",
      "2024-01-08 15:16:05 [1106 | REPORT]:     [2359|YamboRestart|run_process]: launching YamboCalculation<2366> iteration #1\n",
      "2024-01-08 15:16:07 [1107 | REPORT]:     [2361|YamboRestart|run_process]: launching YamboCalculation<2367> iteration #1\n",
      "2024-01-08 15:26:43 [1108 | REPORT]:     [2351|YamboRestart|results]: work chain completed after 1 iterations\n",
      "2024-01-08 15:26:43 [1109 | REPORT]:     [2351|YamboRestart|on_terminated]: remote folders will not be cleaned\n",
      "2024-01-08 15:26:44 [1110 | REPORT]:     [2353|YamboRestart|results]: work chain completed after 1 iterations\n",
      "2024-01-08 15:26:44 [1111 | REPORT]:     [2353|YamboRestart|on_terminated]: remote folders will not be cleaned\n",
      "2024-01-08 15:26:45 [1112 | REPORT]:     [2355|YamboRestart|results]: work chain completed after 1 iterations\n",
      "2024-01-08 15:26:45 [1113 | REPORT]:     [2355|YamboRestart|on_terminated]: remote folders will not be cleaned\n",
      "2024-01-08 15:26:46 [1114 | REPORT]:     [2357|YamboRestart|results]: work chain completed after 1 iterations\n",
      "2024-01-08 15:26:46 [1115 | REPORT]:     [2357|YamboRestart|on_terminated]: remote folders will not be cleaned\n",
      "2024-01-08 15:26:46 [1116 | REPORT]:     [2359|YamboRestart|results]: work chain completed after 1 iterations\n",
      "2024-01-08 15:26:47 [1117 | REPORT]:     [2359|YamboRestart|on_terminated]: remote folders will not be cleaned\n",
      "2024-01-08 15:26:47 [1118 | REPORT]:   [2339|YamboWorkflow|can_continue]: workflow is finished\n",
      "2024-01-08 15:26:47 [1119 | REPORT]:   [2339|YamboWorkflow|post_processing_needed]: no post processing needed\n",
      "2024-01-08 15:26:48 [1120 | REPORT]:   [2339|YamboWorkflow|report_wf]: PARSED: {'gap_': 6.023944714723248, 'homo': -0.13913717349590735, 'lumo': 5.884807541227341, 'gap_dft': 4.462906929919124, 'homo_dft': 0.0, 'lumo_dft': 4.462906929919124}\n",
      "2024-01-08 15:26:48 [1121 | REPORT]:   [2339|YamboWorkflow|report_wf]: workflow completed successfully\n",
      "2024-01-08 15:26:49 [1122 | REPORT]:   [2341|YamboWorkflow|can_continue]: workflow is finished\n",
      "2024-01-08 15:26:49 [1123 | REPORT]:   [2341|YamboWorkflow|post_processing_needed]: no post processing needed\n",
      "2024-01-08 15:26:50 [1124 | REPORT]:   [2341|YamboWorkflow|report_wf]: PARSED: {'gap_': 6.0083759627146645, 'homo': -0.1303436111642048, 'lumo': 5.87803235155046, 'gap_dft': 4.462906929919124, 'homo_dft': 0.0, 'lumo_dft': 4.462906929919124}\n",
      "2024-01-08 15:26:50 [1125 | REPORT]:   [2341|YamboWorkflow|report_wf]: workflow completed successfully\n",
      "2024-01-08 15:26:51 [1126 | REPORT]:   [2343|YamboWorkflow|can_continue]: workflow is finished\n",
      "2024-01-08 15:26:51 [1127 | REPORT]:   [2343|YamboWorkflow|post_processing_needed]: no post processing needed\n",
      "2024-01-08 15:26:52 [1128 | REPORT]:   [2343|YamboWorkflow|report_wf]: PARSED: {'gap_': 5.634278364349716, 'homo': -0.37460726321469995, 'lumo': 5.259671101135016, 'gap_dft': 4.462906929919124, 'homo_dft': 0.0, 'lumo_dft': 4.462906929919124}\n",
      "2024-01-08 15:26:52 [1129 | REPORT]:   [2343|YamboWorkflow|report_wf]: workflow completed successfully\n",
      "2024-01-08 15:26:53 [1130 | REPORT]:   [2345|YamboWorkflow|can_continue]: workflow is finished\n",
      "2024-01-08 15:26:53 [1131 | REPORT]:   [2345|YamboWorkflow|post_processing_needed]: no post processing needed\n",
      "2024-01-08 15:26:54 [1132 | REPORT]:   [2345|YamboWorkflow|report_wf]: PARSED: {'gap_': 5.578567467550934, 'homo': -0.3024849098965526, 'lumo': 5.276082557654381, 'gap_dft': 4.462906929919124, 'homo_dft': 0.0, 'lumo_dft': 4.462906929919124}\n",
      "2024-01-08 15:26:54 [1133 | REPORT]:   [2345|YamboWorkflow|report_wf]: workflow completed successfully\n",
      "2024-01-08 15:26:54 [1134 | REPORT]:   [2347|YamboWorkflow|can_continue]: workflow is finished\n",
      "2024-01-08 15:26:55 [1135 | REPORT]:   [2347|YamboWorkflow|post_processing_needed]: no post processing needed\n",
      "2024-01-08 15:26:56 [1136 | REPORT]:   [2347|YamboWorkflow|report_wf]: PARSED: {'gap_': 5.563121284984239, 'homo': -0.215225933762081, 'lumo': 5.347895351222157, 'gap_dft': 4.462906929919124, 'homo_dft': 0.0, 'lumo_dft': 4.462906929919124}\n",
      "2024-01-08 15:26:56 [1137 | REPORT]:   [2347|YamboWorkflow|report_wf]: workflow completed successfully\n",
      "2024-01-08 15:27:15 [1138 | REPORT]:     [2361|YamboRestart|results]: work chain completed after 1 iterations\n",
      "2024-01-08 15:27:16 [1139 | REPORT]:     [2361|YamboRestart|on_terminated]: remote folders will not be cleaned\n",
      "2024-01-08 15:27:16 [1140 | REPORT]:   [2349|YamboWorkflow|can_continue]: workflow is finished\n",
      "2024-01-08 15:27:16 [1141 | REPORT]:   [2349|YamboWorkflow|post_processing_needed]: no post processing needed\n",
      "2024-01-08 15:27:17 [1142 | REPORT]:   [2349|YamboWorkflow|report_wf]: PARSED: {'gap_': 5.606811025061831, 'homo': -0.4055130345787853, 'lumo': 5.201297990483046, 'gap_dft': 4.462906929919124, 'homo_dft': 0.0, 'lumo_dft': 4.462906929919124}\n",
      "2024-01-08 15:27:17 [1143 | REPORT]:   [2349|YamboWorkflow|report_wf]: workflow completed successfully\n",
      "2024-01-08 15:27:18 [1144 | REPORT]: [2150|YamboConvergence|data_analysis]: Data analysis, we will try to parse some result and decide what next.\n",
      "2024-01-08 15:27:20 [1145 | REPORT]: [2150|YamboConvergence|data_analysis]:    FFTGvecs kpoint_mesh  ...      gap_                                  uuid\n",
      "0        21   [7, 7, 2]  ...  6.023945  e5a1d24c-290f-45ad-aebb-f9b7c2181c5e\n",
      "1        21   [7, 7, 2]  ...  6.008376  f78edfbb-462e-412b-a1d0-e5ed3834e512\n",
      "2        21   [7, 7, 2]  ...  5.634278  4d91a961-d973-4fff-9f8c-1cce3cd414ad\n",
      "3        21   [7, 7, 2]  ...  5.578567  c5925798-5681-485a-a025-53ea09fe1ff9\n",
      "4        21   [7, 7, 2]  ...  5.563121  a1a3e981-0622-4e91-b838-0aa79a9b65d6\n",
      "5        21   [7, 7, 2]  ...  5.606811  3e17a93b-286b-4fb0-ad5e-1cbb749c722a\n",
      "\n",
      "[6 rows x 7 columns]\n",
      "2024-01-08 15:27:25 [1146 | REPORT]: [2150|YamboConvergence|data_analysis]: results ['gap_']\n",
      ":{'gap_': array([6.02394471, 6.00837596, 5.63427836, 5.57856747, 5.56312128,\n",
      "       5.60681103])}\n",
      "2024-01-08 15:27:25 [1147 | REPORT]: [2150|YamboConvergence|data_analysis]: HINTS: {'BndsRnXp': 80.0, 'NGsBlkXp': 2.0, 'gap_': 6.0239447147232, 'already_computed': True, 'GbndRnge': 80.0, 'E_ref': 5.569031966877896, 'new_grid': False, 'extrapolation': 5.568378626405775, 'extrapolation_units': 'eV'}\n",
      "2024-01-08 15:27:25 [1148 | REPORT]: [2150|YamboConvergence|data_analysis]: Success, updating the history... \n",
      "2024-01-08 15:27:25 [1149 | REPORT]: [2150|YamboConvergence|data_analysis]: Success on ['BndsRnXp', 'GbndRnge', 'NGsBlkXp'] reached in 6 calculations, the result is [[6.02394471]]\n",
      "2024-01-08 15:27:25 [1150 | REPORT]: [2150|YamboConvergence|has_to_continue]: Workflow finished\n",
      "2024-01-08 15:27:26 [1151 | REPORT]: [2150|YamboConvergence|report_wf]: Final step. It is True that the workflow was successful\u001b[0m\n"
     ]
    }
   ],
   "source": [
    "!verdi process report {run.pk}"
   ]
  },
  {
   "cell_type": "markdown",
   "metadata": {},
   "source": [
    "# Output analysis.\n",
    "\n",
    "suppose that your calculation completed successfully, then you can access the outputs via the output method of the run instance: "
   ]
  },
  {
   "cell_type": "code",
   "execution_count": 47,
   "metadata": {},
   "outputs": [
    {
     "data": {
      "text/plain": [
       "True"
      ]
     },
     "execution_count": 47,
     "metadata": {},
     "output_type": "execute_result"
    }
   ],
   "source": [
    "run.is_finished_ok"
   ]
  },
  {
   "cell_type": "markdown",
   "metadata": {},
   "source": [
    "The converged parameters can be obtained via the \"infos\" output Dict:"
   ]
  },
  {
   "cell_type": "code",
   "execution_count": 32,
   "metadata": {},
   "outputs": [
    {
     "data": {
      "text/plain": [
       "{'gap_': 6.0239447147232,\n",
       " 'E_ref': 5.5690319668779,\n",
       " 'BndsRnXp': 80.0,\n",
       " 'FFTGvecs': 21,\n",
       " 'GbndRnge': 80.0,\n",
       " 'NGsBlkXp': 2.0,\n",
       " 'kpoint_mesh': [7, 7, 4],\n",
       " 'extrapolation': 5.4063928865123}"
      ]
     },
     "execution_count": 32,
     "metadata": {},
     "output_type": "execute_result"
    }
   ],
   "source": [
    "run.outputs.infos.get_dict()"
   ]
  },
  {
   "cell_type": "markdown",
   "metadata": {},
   "source": [
    "The full convergence history can be visualized in a table form using pandas:"
   ]
  },
  {
   "cell_type": "code",
   "execution_count": 49,
   "metadata": {},
   "outputs": [],
   "source": [
    "import pandas as pd"
   ]
  },
  {
   "cell_type": "code",
   "execution_count": 50,
   "metadata": {},
   "outputs": [],
   "source": [
    "history = run.outputs.history.get_dict()"
   ]
  },
  {
   "cell_type": "code",
   "execution_count": 51,
   "metadata": {},
   "outputs": [],
   "source": [
    "history_table = pd.DataFrame(history)"
   ]
  },
  {
   "cell_type": "code",
   "execution_count": 52,
   "metadata": {},
   "outputs": [
    {
     "data": {
      "text/html": [
       "<div>\n",
       "<style scoped>\n",
       "    .dataframe tbody tr th:only-of-type {\n",
       "        vertical-align: middle;\n",
       "    }\n",
       "\n",
       "    .dataframe tbody tr th {\n",
       "        vertical-align: top;\n",
       "    }\n",
       "\n",
       "    .dataframe thead th {\n",
       "        text-align: right;\n",
       "    }\n",
       "</style>\n",
       "<table border=\"1\" class=\"dataframe\">\n",
       "  <thead>\n",
       "    <tr style=\"text-align: right;\">\n",
       "      <th></th>\n",
       "      <th>gap_</th>\n",
       "      <th>uuid</th>\n",
       "      <th>failed</th>\n",
       "      <th>useful</th>\n",
       "      <th>BndsRnXp</th>\n",
       "      <th>FFTGvecs</th>\n",
       "      <th>GbndRnge</th>\n",
       "      <th>NGsBlkXp</th>\n",
       "      <th>global_step</th>\n",
       "      <th>kpoint_mesh</th>\n",
       "      <th>parameters_studied</th>\n",
       "    </tr>\n",
       "  </thead>\n",
       "  <tbody>\n",
       "    <tr>\n",
       "      <th>0</th>\n",
       "      <td>5.879030</td>\n",
       "      <td>e599d05f-07a3-4ab5-9256-ac1bbbe88e89</td>\n",
       "      <td>False</td>\n",
       "      <td>False</td>\n",
       "      <td>200</td>\n",
       "      <td>21</td>\n",
       "      <td>200</td>\n",
       "      <td>4</td>\n",
       "      <td>1</td>\n",
       "      <td>[4, 4, 2]</td>\n",
       "      <td>FFTGvecs</td>\n",
       "    </tr>\n",
       "    <tr>\n",
       "      <th>1</th>\n",
       "      <td>5.865918</td>\n",
       "      <td>a36714a5-9b99-40dc-abb7-aa53472f97cc</td>\n",
       "      <td>False</td>\n",
       "      <td>False</td>\n",
       "      <td>200</td>\n",
       "      <td>37</td>\n",
       "      <td>200</td>\n",
       "      <td>4</td>\n",
       "      <td>2</td>\n",
       "      <td>[4, 4, 2]</td>\n",
       "      <td>FFTGvecs</td>\n",
       "    </tr>\n",
       "    <tr>\n",
       "      <th>2</th>\n",
       "      <td>5.865277</td>\n",
       "      <td>9a033a7b-54e6-409c-8b35-bfe627dada4a</td>\n",
       "      <td>False</td>\n",
       "      <td>False</td>\n",
       "      <td>200</td>\n",
       "      <td>45</td>\n",
       "      <td>200</td>\n",
       "      <td>4</td>\n",
       "      <td>3</td>\n",
       "      <td>[4, 4, 2]</td>\n",
       "      <td>FFTGvecs</td>\n",
       "    </tr>\n",
       "    <tr>\n",
       "      <th>3</th>\n",
       "      <td>5.859447</td>\n",
       "      <td>64455883-6bb4-41c5-8951-a6b6ff0db1d4</td>\n",
       "      <td>False</td>\n",
       "      <td>False</td>\n",
       "      <td>200</td>\n",
       "      <td>58</td>\n",
       "      <td>200</td>\n",
       "      <td>4</td>\n",
       "      <td>4</td>\n",
       "      <td>[4, 4, 2]</td>\n",
       "      <td>FFTGvecs</td>\n",
       "    </tr>\n",
       "    <tr>\n",
       "      <th>4</th>\n",
       "      <td>5.879030</td>\n",
       "      <td>e599d05f-07a3-4ab5-9256-ac1bbbe88e89</td>\n",
       "      <td>False</td>\n",
       "      <td>False</td>\n",
       "      <td>200</td>\n",
       "      <td>21</td>\n",
       "      <td>200</td>\n",
       "      <td>4</td>\n",
       "      <td>5</td>\n",
       "      <td>[4, 4, 2]</td>\n",
       "      <td>kpoint_mesh</td>\n",
       "    </tr>\n",
       "    <tr>\n",
       "      <th>5</th>\n",
       "      <td>5.566768</td>\n",
       "      <td>5b7b85aa-e5a3-483f-94c3-b47d0512a30e</td>\n",
       "      <td>False</td>\n",
       "      <td>False</td>\n",
       "      <td>200</td>\n",
       "      <td>21</td>\n",
       "      <td>200</td>\n",
       "      <td>4</td>\n",
       "      <td>6</td>\n",
       "      <td>[7, 7, 2]</td>\n",
       "      <td>kpoint_mesh</td>\n",
       "    </tr>\n",
       "    <tr>\n",
       "      <th>6</th>\n",
       "      <td>5.444812</td>\n",
       "      <td>c81befb4-eaf6-4c47-89f9-582cda7e557f</td>\n",
       "      <td>False</td>\n",
       "      <td>False</td>\n",
       "      <td>200</td>\n",
       "      <td>21</td>\n",
       "      <td>200</td>\n",
       "      <td>4</td>\n",
       "      <td>7</td>\n",
       "      <td>[13, 13, 5]</td>\n",
       "      <td>kpoint_mesh</td>\n",
       "    </tr>\n",
       "    <tr>\n",
       "      <th>7</th>\n",
       "      <td>5.394930</td>\n",
       "      <td>b7b6120d-3f16-414c-9019-2884a1fa299a</td>\n",
       "      <td>False</td>\n",
       "      <td>False</td>\n",
       "      <td>200</td>\n",
       "      <td>21</td>\n",
       "      <td>200</td>\n",
       "      <td>4</td>\n",
       "      <td>8</td>\n",
       "      <td>[16, 16, 6]</td>\n",
       "      <td>kpoint_mesh</td>\n",
       "    </tr>\n",
       "    <tr>\n",
       "      <th>8</th>\n",
       "      <td>5.701608</td>\n",
       "      <td>f745b588-b406-4cb7-95a4-68d1620a11a2</td>\n",
       "      <td>False</td>\n",
       "      <td>False</td>\n",
       "      <td>200</td>\n",
       "      <td>21</td>\n",
       "      <td>200</td>\n",
       "      <td>4</td>\n",
       "      <td>9</td>\n",
       "      <td>[7, 7, 4]</td>\n",
       "      <td>kpoint_mesh</td>\n",
       "    </tr>\n",
       "    <tr>\n",
       "      <th>9</th>\n",
       "      <td>6.023940</td>\n",
       "      <td>ed6f567b-f60c-4e55-8394-d8ad309a46b1</td>\n",
       "      <td>False</td>\n",
       "      <td>True</td>\n",
       "      <td>80</td>\n",
       "      <td>21</td>\n",
       "      <td>80</td>\n",
       "      <td>2</td>\n",
       "      <td>10</td>\n",
       "      <td>[7, 7, 2]</td>\n",
       "      <td>BndsRnXp, GbndRnge, NGsBlkXp</td>\n",
       "    </tr>\n",
       "    <tr>\n",
       "      <th>10</th>\n",
       "      <td>6.008378</td>\n",
       "      <td>49342fc6-a784-487e-9e98-bd71379a490c</td>\n",
       "      <td>False</td>\n",
       "      <td>False</td>\n",
       "      <td>400</td>\n",
       "      <td>21</td>\n",
       "      <td>400</td>\n",
       "      <td>2</td>\n",
       "      <td>11</td>\n",
       "      <td>[7, 7, 2]</td>\n",
       "      <td>BndsRnXp, GbndRnge, NGsBlkXp</td>\n",
       "    </tr>\n",
       "    <tr>\n",
       "      <th>11</th>\n",
       "      <td>5.634279</td>\n",
       "      <td>bbbedcfe-c989-4a0d-8eb9-1c8aa6fbf55b</td>\n",
       "      <td>False</td>\n",
       "      <td>False</td>\n",
       "      <td>80</td>\n",
       "      <td>21</td>\n",
       "      <td>80</td>\n",
       "      <td>8</td>\n",
       "      <td>12</td>\n",
       "      <td>[7, 7, 2]</td>\n",
       "      <td>BndsRnXp, GbndRnge, NGsBlkXp</td>\n",
       "    </tr>\n",
       "    <tr>\n",
       "      <th>12</th>\n",
       "      <td>5.578572</td>\n",
       "      <td>c3621329-c35d-4e23-807a-12a25817c6b6</td>\n",
       "      <td>False</td>\n",
       "      <td>False</td>\n",
       "      <td>180</td>\n",
       "      <td>21</td>\n",
       "      <td>180</td>\n",
       "      <td>6</td>\n",
       "      <td>13</td>\n",
       "      <td>[7, 7, 2]</td>\n",
       "      <td>BndsRnXp, GbndRnge, NGsBlkXp</td>\n",
       "    </tr>\n",
       "    <tr>\n",
       "      <th>13</th>\n",
       "      <td>5.563121</td>\n",
       "      <td>57c1d8e2-6b79-4866-8533-07ac01074a55</td>\n",
       "      <td>False</td>\n",
       "      <td>False</td>\n",
       "      <td>280</td>\n",
       "      <td>21</td>\n",
       "      <td>280</td>\n",
       "      <td>4</td>\n",
       "      <td>14</td>\n",
       "      <td>[7, 7, 2]</td>\n",
       "      <td>BndsRnXp, GbndRnge, NGsBlkXp</td>\n",
       "    </tr>\n",
       "    <tr>\n",
       "      <th>14</th>\n",
       "      <td>5.606811</td>\n",
       "      <td>01ae1229-4488-4c9b-8457-2f0cdb6e5b64</td>\n",
       "      <td>False</td>\n",
       "      <td>False</td>\n",
       "      <td>400</td>\n",
       "      <td>21</td>\n",
       "      <td>400</td>\n",
       "      <td>8</td>\n",
       "      <td>15</td>\n",
       "      <td>[7, 7, 2]</td>\n",
       "      <td>BndsRnXp, GbndRnge, NGsBlkXp</td>\n",
       "    </tr>\n",
       "  </tbody>\n",
       "</table>\n",
       "</div>"
      ],
      "text/plain": [
       "        gap_                                  uuid  failed  useful  BndsRnXp  \\\n",
       "0   5.879030  e599d05f-07a3-4ab5-9256-ac1bbbe88e89   False   False       200   \n",
       "1   5.865918  a36714a5-9b99-40dc-abb7-aa53472f97cc   False   False       200   \n",
       "2   5.865277  9a033a7b-54e6-409c-8b35-bfe627dada4a   False   False       200   \n",
       "3   5.859447  64455883-6bb4-41c5-8951-a6b6ff0db1d4   False   False       200   \n",
       "4   5.879030  e599d05f-07a3-4ab5-9256-ac1bbbe88e89   False   False       200   \n",
       "5   5.566768  5b7b85aa-e5a3-483f-94c3-b47d0512a30e   False   False       200   \n",
       "6   5.444812  c81befb4-eaf6-4c47-89f9-582cda7e557f   False   False       200   \n",
       "7   5.394930  b7b6120d-3f16-414c-9019-2884a1fa299a   False   False       200   \n",
       "8   5.701608  f745b588-b406-4cb7-95a4-68d1620a11a2   False   False       200   \n",
       "9   6.023940  ed6f567b-f60c-4e55-8394-d8ad309a46b1   False    True        80   \n",
       "10  6.008378  49342fc6-a784-487e-9e98-bd71379a490c   False   False       400   \n",
       "11  5.634279  bbbedcfe-c989-4a0d-8eb9-1c8aa6fbf55b   False   False        80   \n",
       "12  5.578572  c3621329-c35d-4e23-807a-12a25817c6b6   False   False       180   \n",
       "13  5.563121  57c1d8e2-6b79-4866-8533-07ac01074a55   False   False       280   \n",
       "14  5.606811  01ae1229-4488-4c9b-8457-2f0cdb6e5b64   False   False       400   \n",
       "\n",
       "    FFTGvecs  GbndRnge  NGsBlkXp  global_step  kpoint_mesh  \\\n",
       "0         21       200         4            1    [4, 4, 2]   \n",
       "1         37       200         4            2    [4, 4, 2]   \n",
       "2         45       200         4            3    [4, 4, 2]   \n",
       "3         58       200         4            4    [4, 4, 2]   \n",
       "4         21       200         4            5    [4, 4, 2]   \n",
       "5         21       200         4            6    [7, 7, 2]   \n",
       "6         21       200         4            7  [13, 13, 5]   \n",
       "7         21       200         4            8  [16, 16, 6]   \n",
       "8         21       200         4            9    [7, 7, 4]   \n",
       "9         21        80         2           10    [7, 7, 2]   \n",
       "10        21       400         2           11    [7, 7, 2]   \n",
       "11        21        80         8           12    [7, 7, 2]   \n",
       "12        21       180         6           13    [7, 7, 2]   \n",
       "13        21       280         4           14    [7, 7, 2]   \n",
       "14        21       400         8           15    [7, 7, 2]   \n",
       "\n",
       "              parameters_studied  \n",
       "0                       FFTGvecs  \n",
       "1                       FFTGvecs  \n",
       "2                       FFTGvecs  \n",
       "3                       FFTGvecs  \n",
       "4                    kpoint_mesh  \n",
       "5                    kpoint_mesh  \n",
       "6                    kpoint_mesh  \n",
       "7                    kpoint_mesh  \n",
       "8                    kpoint_mesh  \n",
       "9   BndsRnXp, GbndRnge, NGsBlkXp  \n",
       "10  BndsRnXp, GbndRnge, NGsBlkXp  \n",
       "11  BndsRnXp, GbndRnge, NGsBlkXp  \n",
       "12  BndsRnXp, GbndRnge, NGsBlkXp  \n",
       "13  BndsRnXp, GbndRnge, NGsBlkXp  \n",
       "14  BndsRnXp, GbndRnge, NGsBlkXp  "
      ]
     },
     "execution_count": 52,
     "metadata": {},
     "output_type": "execute_result"
    }
   ],
   "source": [
    "history_table"
   ]
  },
  {
   "cell_type": "markdown",
   "metadata": {},
   "source": [
    "The last calculations can be obtained using:"
   ]
  },
  {
   "cell_type": "code",
   "execution_count": 53,
   "metadata": {},
   "outputs": [
    {
     "data": {
      "text/html": [
       "<div>\n",
       "<style scoped>\n",
       "    .dataframe tbody tr th:only-of-type {\n",
       "        vertical-align: middle;\n",
       "    }\n",
       "\n",
       "    .dataframe tbody tr th {\n",
       "        vertical-align: top;\n",
       "    }\n",
       "\n",
       "    .dataframe thead th {\n",
       "        text-align: right;\n",
       "    }\n",
       "</style>\n",
       "<table border=\"1\" class=\"dataframe\">\n",
       "  <thead>\n",
       "    <tr style=\"text-align: right;\">\n",
       "      <th></th>\n",
       "      <th>gap_</th>\n",
       "      <th>uuid</th>\n",
       "      <th>failed</th>\n",
       "      <th>useful</th>\n",
       "      <th>BndsRnXp</th>\n",
       "      <th>FFTGvecs</th>\n",
       "      <th>GbndRnge</th>\n",
       "      <th>NGsBlkXp</th>\n",
       "      <th>global_step</th>\n",
       "      <th>kpoint_mesh</th>\n",
       "      <th>parameters_studied</th>\n",
       "    </tr>\n",
       "  </thead>\n",
       "  <tbody>\n",
       "    <tr>\n",
       "      <th>9</th>\n",
       "      <td>6.02394</td>\n",
       "      <td>ed6f567b-f60c-4e55-8394-d8ad309a46b1</td>\n",
       "      <td>False</td>\n",
       "      <td>True</td>\n",
       "      <td>80</td>\n",
       "      <td>21</td>\n",
       "      <td>80</td>\n",
       "      <td>2</td>\n",
       "      <td>10</td>\n",
       "      <td>[7, 7, 2]</td>\n",
       "      <td>BndsRnXp, GbndRnge, NGsBlkXp</td>\n",
       "    </tr>\n",
       "  </tbody>\n",
       "</table>\n",
       "</div>"
      ],
      "text/plain": [
       "      gap_                                  uuid  failed  useful  BndsRnXp  \\\n",
       "9  6.02394  ed6f567b-f60c-4e55-8394-d8ad309a46b1   False    True        80   \n",
       "\n",
       "   FFTGvecs  GbndRnge  NGsBlkXp  global_step kpoint_mesh  \\\n",
       "9        21        80         2           10   [7, 7, 2]   \n",
       "\n",
       "             parameters_studied  \n",
       "9  BndsRnXp, GbndRnge, NGsBlkXp  "
      ]
     },
     "execution_count": 53,
     "metadata": {},
     "output_type": "execute_result"
    }
   ],
   "source": [
    "history_table[history_table['useful']==True]"
   ]
  },
  {
   "cell_type": "code",
   "execution_count": 28,
   "metadata": {},
   "outputs": [],
   "source": [
    "# some fine plotting of the results, similar to the ones in the paper."
   ]
  },
  {
   "cell_type": "markdown",
   "metadata": {},
   "source": [
    "for i in parameters_studied ---> collect the data... ah potresti fare dei subplots con tutto. plotly secondo me é molto bello x farli https://plotly.com/python/3d-line-plots/"
   ]
  },
  {
   "cell_type": "code",
   "execution_count": null,
   "metadata": {},
   "outputs": [],
   "source": []
  }
 ],
 "metadata": {
  "kernelspec": {
   "display_name": "minitutorial",
   "language": "python",
   "name": "python3"
  },
  "language_info": {
   "codemirror_mode": {
    "name": "ipython",
    "version": 3
   },
   "file_extension": ".py",
   "mimetype": "text/x-python",
   "name": "python",
   "nbconvert_exporter": "python",
   "pygments_lexer": "ipython3",
   "version": "3.10.13"
  }
 },
 "nbformat": 4,
 "nbformat_minor": 5
}
