{
 "cells": [
  {
   "cell_type": "markdown",
   "metadata": {},
   "source": [
    "# YamboWorkflow: a full DFT+MBPT flow\n",
    "\n",
    "This is the core workflow of the plugin. It runs a DFT+GW/BSE study, involving automatic error handling and skipping the already done steps - if a parent calculation is provided.\n",
    "\n",
    "The idea is to create a builder instance, which collects all the inputs needed for the simulation, then submit it by means of the aiida \"submit\" function."
   ]
  },
  {
   "cell_type": "code",
   "execution_count": 1,
   "metadata": {},
   "outputs": [
    {
     "data": {
      "text/plain": [
       "Profile<uuid='b35700dae723411ea16ebc82d58f16bc' name='mb'>"
      ]
     },
     "execution_count": 1,
     "metadata": {},
     "output_type": "execute_result"
    }
   ],
   "source": [
    "from aiida import orm, load_profile\n",
    "load_profile()"
   ]
  },
  {
   "cell_type": "markdown",
   "metadata": {},
   "source": [
    "## 1 - Creation of YamboWorkflow instance using protocols\n",
    "\n",
    "In this tutorial the creation of the builder, for a given workflow, is provided by means of the get_builder_from_protocol function.\n",
    "This is, for now, just a way to automatically populated all the needed inputs, allowing the user to partially skip the long part of input definition as done in examples like the one contained in ``aiida_yambo/examples_hBN/workflows/yambo_workflow.py``.\n",
    "\n",
    "\n",
    "It is not meant to be an already tested set of default values as instead is done for the aiida-quantumespresso plugin. "
   ]
  },
  {
   "cell_type": "code",
   "execution_count": 2,
   "metadata": {},
   "outputs": [],
   "source": [
    "from aiida.plugins import WorkflowFactory"
   ]
  },
  {
   "cell_type": "code",
   "execution_count": 3,
   "metadata": {},
   "outputs": [],
   "source": [
    "YamboWorkflow = WorkflowFactory('yambo.yambo.yambowf')"
   ]
  },
  {
   "cell_type": "markdown",
   "metadata": {},
   "source": [
    "## minimal inputs needed for protocols"
   ]
  },
  {
   "cell_type": "code",
   "execution_count": 4,
   "metadata": {},
   "outputs": [],
   "source": [
    "options = {\n",
    "    'pwcode_id': 'pw-7.1@hydralogin', \n",
    "    'pseudo_family':\"PseudoDojo/0.4/PBE/FR/standard/upf\",\n",
    "    'yamboprecode_id':'p2y-5.1@hydralogin',\n",
    "    'yambocode_id':'yambo-5.1@hydralogin',\n",
    "    'protocol':'fast',\n",
    "    #'parent_id':274, #not necessary to set; take your previously nscf id (pk) to skip the DFT part.\n",
    "    'structure_id':161,\n",
    "}"
   ]
  },
  {
   "cell_type": "code",
   "execution_count": 5,
   "metadata": {},
   "outputs": [],
   "source": [
    "#YamboWorkflow.get_builder_from_protocol??"
   ]
  },
  {
   "cell_type": "code",
   "execution_count": 6,
   "metadata": {},
   "outputs": [],
   "source": [
    "from aiida_quantumespresso.common.types import ElectronicType"
   ]
  },
  {
   "cell_type": "code",
   "execution_count": 7,
   "metadata": {
    "scrolled": true
   },
   "outputs": [
    {
     "name": "stdout",
     "output_type": "stream",
     "text": [
      "Summary of the main inputs:\n",
      "BndsRnXp = 200\n",
      "GbndRnge = 200\n",
      "NGsBlkXp = 6 Ry\n",
      "FFTGvecs = 18 Ry\n",
      "\n",
      "\n",
      "kpoint mesh for nscf: [6, 6, 2]\n"
     ]
    }
   ],
   "source": [
    "builder = YamboWorkflow.get_builder_from_protocol(\n",
    "            pw_code = options['pwcode_id'],\n",
    "            preprocessing_code = options['yamboprecode_id'],\n",
    "            code = options['yambocode_id'],\n",
    "            protocol=options['protocol'],\n",
    "            protocol_qe=options['protocol'],\n",
    "            structure= orm.load_node(options['structure_id']),\n",
    "            overrides={},\n",
    "            pseudo_family= options['pseudo_family'],\n",
    "            #parent_folder=orm.load_node(options['parent_id']).outputs.remote_folder,\n",
    "            electronic_type=ElectronicType.INSULATOR, #default is METAL: smearing is used\n",
    "            calc_type='gw', #or 'bse'; default is 'gw'\n",
    ")\n"
   ]
  },
  {
   "cell_type": "markdown",
   "metadata": {},
   "source": [
    "With respect to the previous examples (2_YamboRestart), we can see that we have a different FFTGvecs value and a kpoint mesh: the first is due to the fact that now FFTGvecs is estimated from aiida-quantumespresso protocol, not from the previous DFT run. The second is needed in order to have also the DFT part performed, if needed (no previous parent calculations)."
   ]
  },
  {
   "cell_type": "code",
   "execution_count": 8,
   "metadata": {},
   "outputs": [
    {
     "data": {
      "text/plain": [
       "{'fast': {'description': 'Under converged for most materials, but fast'},\n",
       " 'moderate': {'description': 'Meta converged for most materials, higher computational cost than fast'},\n",
       " 'precise': {'description': 'Converged for most materials, higher computational cost than moderate'}}"
      ]
     },
     "execution_count": 8,
     "metadata": {},
     "output_type": "execute_result"
    }
   ],
   "source": [
    "#You can also try different protocols:\n",
    "    \n",
    "YamboWorkflow.get_available_protocols()"
   ]
  },
  {
   "cell_type": "markdown",
   "metadata": {},
   "source": [
    "Now, if you inspect the prepopulated inputs, you can see the default values respecting the imposed protocol:"
   ]
  },
  {
   "cell_type": "code",
   "execution_count": 9,
   "metadata": {},
   "outputs": [
    {
     "data": {
      "text/plain": [
       "{'CONTROL': {'calculation': 'nscf',\n",
       "  'forc_conv_thr': 0.001,\n",
       "  'tprnfor': True,\n",
       "  'tstress': True,\n",
       "  'etot_conv_thr': 0.0004},\n",
       " 'SYSTEM': {'nosym': False,\n",
       "  'occupations': 'fixed',\n",
       "  'ecutwfc': 60.0,\n",
       "  'ecutrho': 480.0,\n",
       "  'force_symmorphic': True,\n",
       "  'nbnd': 200},\n",
       " 'ELECTRONS': {'electron_maxstep': 80,\n",
       "  'mixing_beta': 0.4,\n",
       "  'conv_thr': 1.6e-09}}"
      ]
     },
     "execution_count": 9,
     "metadata": {},
     "output_type": "execute_result"
    }
   ],
   "source": [
    "builder.nscf.pw.parameters.get_dict()"
   ]
  },
  {
   "cell_type": "code",
   "execution_count": 10,
   "metadata": {},
   "outputs": [
    {
     "data": {
      "text/plain": [
       "{'arguments': ['dipoles', 'ppa', 'HF_and_locXC', 'gw0'],\n",
       " 'variables': {'Chimod': 'hartree',\n",
       "  'DysSolver': 'n',\n",
       "  'GTermKind': 'BG',\n",
       "  'X_and_IO_nCPU_LinAlg_INV': [1, ''],\n",
       "  'NGsBlkXp': [6, 'Ry'],\n",
       "  'FFTGvecs': [18, 'Ry'],\n",
       "  'BndsRnXp': [[1, 200], ''],\n",
       "  'GbndRnge': [[1, 200], ''],\n",
       "  'QPkrange': [[[1, 1, 32, 32]], '']}}"
      ]
     },
     "execution_count": 10,
     "metadata": {},
     "output_type": "execute_result"
    }
   ],
   "source": [
    "builder.yres.yambo.parameters.get_dict()"
   ]
  },
  {
   "cell_type": "markdown",
   "metadata": {},
   "source": [
    "## 2 - Inputs completion\n",
    "\n",
    "We have to include also the resources:"
   ]
  },
  {
   "cell_type": "code",
   "execution_count": 11,
   "metadata": {},
   "outputs": [],
   "source": [
    "builder.scf.pw.metadata.options = {\n",
    "    'max_wallclock_seconds': 60*60, # in seconds\n",
    "    'resources': {\n",
    "            \"num_machines\": 1, # nodes\n",
    "            \"num_mpiprocs_per_machine\": 16, # MPI per nodes\n",
    "            \"num_cores_per_mpiproc\": 1, # OPENMP\n",
    "        },\n",
    "    'prepend_text': u\"export OMP_NUM_THREADS=\"+str(1), # if needed\n",
    "    #'account':'project_name',\n",
    "    'queue_name':'s3par',\n",
    "    #'qos':'',\n",
    "}\n",
    "\n",
    "builder.nscf.pw.metadata.options = builder.scf.pw.metadata.options\n",
    "builder.yres.yambo.metadata.options = builder.scf.pw.metadata.options"
   ]
  },
  {
   "cell_type": "markdown",
   "metadata": {},
   "source": [
    "## 3 - Overrides + Spin Orbit Coupling\n",
    "\n",
    "It is possible to modify the default inputs also during the builder creation phase, so not a posteriori. This can be done by using overrides:"
   ]
  },
  {
   "cell_type": "code",
   "execution_count": 12,
   "metadata": {},
   "outputs": [],
   "source": [
    "overrides_scf = {\n",
    "        'pseudo_family': \"PseudoDojo/0.4/PBE/FR/standard/upf\", \n",
    "        'pw':{\n",
    "            'parameters':{\n",
    "                'CONTROL':{}, #not needed if you don't override something\n",
    "                'SYSTEM':{\n",
    "                    \"noncolin\": True,\n",
    "                    \"lspinorb\": True,\n",
    "                },\n",
    "                'ELECTRONS':{},\n",
    "            },\n",
    "            \n",
    "        'metadata':{\n",
    "                    'options':{\n",
    "                    'max_wallclock_seconds': 60*60, # in seconds\n",
    "                    'resources': {\n",
    "                            \"num_machines\": 1, # nodes\n",
    "                            \"num_mpiprocs_per_machine\": 16, # MPI per nodes\n",
    "                            \"num_cores_per_mpiproc\": 1, # OPENMP\n",
    "                        },\n",
    "                    'prepend_text': u\"export OMP_NUM_THREADS=\"+str(1), # if needed\n",
    "                    #'account':'project_name',\n",
    "                    'queue_name':'s3par',\n",
    "                    #'qos':'',\n",
    "                                    },\n",
    "        },\n",
    "        },\n",
    "    }\n",
    "\n",
    "overrides_nscf = {\n",
    "        'pseudo_family': \"PseudoDojo/0.4/PBE/FR/standard/upf\", \n",
    "        'pw': {\n",
    "            'parameters':{\n",
    "                'CONTROL':{}, #not needed if you don't override something\n",
    "                'SYSTEM':{\n",
    "                    \"noncolin\": True,\n",
    "                    \"lspinorb\": True,\n",
    "                },\n",
    "                'ELECTRONS':{'diagonalization':'cg'},\n",
    "            },\n",
    "             'metadata':{\n",
    "                    'options':{\n",
    "                    'max_wallclock_seconds': 60*60, # in seconds\n",
    "                    'resources': {\n",
    "                            \"num_machines\": 1, # nodes\n",
    "                            \"num_mpiprocs_per_machine\": 16, # MPI per nodes\n",
    "                            \"num_cores_per_mpiproc\": 1, # OPENMP\n",
    "                        },\n",
    "                    'prepend_text': u\"export OMP_NUM_THREADS=\"+str(1), # if needed\n",
    "                    #'account':'project_name',\n",
    "                    'queue_name':'s3par',\n",
    "                    #'qos':'',\n",
    "                                    },\n",
    "        },\n",
    "    },\n",
    "}\n",
    "\n",
    "overrides_yambo = {\n",
    "        \"yambo\": {\n",
    "            \"parameters\": {\n",
    "                \"arguments\": [\n",
    "                    \"rim_cut\",\n",
    "                ],\n",
    "                \"variables\": {\n",
    "                    \"NGsBlkXp\": [4, \"Ry\"],\n",
    "                    \"FFTGvecs\": [20, \"Ry\"],\n",
    "                },\n",
    "            },\n",
    "        'metadata':{\n",
    "                    'options':{\n",
    "                    'max_wallclock_seconds': 60*60, # in seconds\n",
    "                    'resources': {\n",
    "                            \"num_machines\": 1, # nodes\n",
    "                            \"num_mpiprocs_per_machine\": 16, # MPI per nodes\n",
    "                            \"num_cores_per_mpiproc\": 1, # OPENMP\n",
    "                        },\n",
    "                    'prepend_text': u\"export OMP_NUM_THREADS=\"+str(1), # if needed, i.e. in PBS/Torque \n",
    "                    #'account':'project_name',\n",
    "                    'queue_name':'s3par',\n",
    "                    #'qos':'',\n",
    "                                    },\n",
    "                    },\n",
    "        },\n",
    "    \n",
    "}\n",
    "\n",
    "overrides = {\n",
    "    'yres': overrides_yambo,\n",
    "    'nscf': overrides_nscf,\n",
    "    'scf': overrides_scf\n",
    "    \n",
    "}\n"
   ]
  },
  {
   "cell_type": "code",
   "execution_count": 13,
   "metadata": {},
   "outputs": [
    {
     "name": "stdout",
     "output_type": "stream",
     "text": [
      "Summary of the main inputs:\n",
      "BndsRnXp = 200\n",
      "GbndRnge = 200\n",
      "NGsBlkXp = 4 Ry\n",
      "FFTGvecs = 20 Ry\n",
      "\n",
      "\n",
      "kpoint mesh for nscf: [6, 6, 2]\n"
     ]
    }
   ],
   "source": [
    "builder = YamboWorkflow.get_builder_from_protocol(\n",
    "            pw_code = options['pwcode_id'],\n",
    "            preprocessing_code = options['yamboprecode_id'],\n",
    "            code = options['yambocode_id'],\n",
    "            protocol=options['protocol'],\n",
    "            protocol_qe=options['protocol'],\n",
    "            structure= orm.load_node(options['structure_id']),\n",
    "            overrides=overrides,\n",
    "            #parent_folder=load_node(options['parent_id']).outputs.remote_folder,\n",
    "            electronic_type=ElectronicType.INSULATOR, #default is METAL: smearing is used\n",
    "            calc_type='gw', #or 'bse'; default is 'gw'\n",
    ")"
   ]
  },
  {
   "cell_type": "code",
   "execution_count": 14,
   "metadata": {},
   "outputs": [
    {
     "data": {
      "text/plain": [
       "{'CONTROL': {'calculation': 'nscf',\n",
       "  'forc_conv_thr': 0.001,\n",
       "  'tprnfor': True,\n",
       "  'tstress': True,\n",
       "  'etot_conv_thr': 0.0004},\n",
       " 'SYSTEM': {'nosym': False,\n",
       "  'occupations': 'fixed',\n",
       "  'noncolin': True,\n",
       "  'lspinorb': True,\n",
       "  'ecutwfc': 84.0,\n",
       "  'ecutrho': 336.0,\n",
       "  'force_symmorphic': True,\n",
       "  'nbnd': 200},\n",
       " 'ELECTRONS': {'electron_maxstep': 80,\n",
       "  'mixing_beta': 0.4,\n",
       "  'diagonalization': 'cg',\n",
       "  'conv_thr': 1.6e-09}}"
      ]
     },
     "execution_count": 14,
     "metadata": {},
     "output_type": "execute_result"
    }
   ],
   "source": [
    "builder.nscf.pw.parameters.get_dict()"
   ]
  },
  {
   "cell_type": "code",
   "execution_count": 15,
   "metadata": {},
   "outputs": [
    {
     "data": {
      "text/plain": [
       "{'stash': {}, 'resources': {'num_machines': 1, 'num_mpiprocs_per_machine': 16, 'num_cores_per_mpiproc': 1}, 'max_wallclock_seconds': 3600, 'withmpi': True, 'prepend_text': 'export OMP_NUM_THREADS=1', 'queue_name': 's3par'}"
      ]
     },
     "execution_count": 15,
     "metadata": {},
     "output_type": "execute_result"
    }
   ],
   "source": [
    "builder.yres.yambo.metadata.options"
   ]
  },
  {
   "cell_type": "code",
   "execution_count": 16,
   "metadata": {},
   "outputs": [
    {
     "data": {
      "text/plain": [
       "'cg'"
      ]
     },
     "execution_count": 16,
     "metadata": {},
     "output_type": "execute_result"
    }
   ],
   "source": [
    "builder.nscf.pw.parameters.get_dict()['ELECTRONS']['diagonalization']"
   ]
  },
  {
   "cell_type": "code",
   "execution_count": 17,
   "metadata": {},
   "outputs": [],
   "source": [
    "family = orm.load_group(\"PseudoDojo/0.4/PBE/FR/standard/upf\")\n",
    "#builder.<sublevels_up_to .pw>.pseudos = family.get_pseudos(structure=structure) \n",
    "builder.scf.pw.pseudos = family.get_pseudos(structure=orm.load_node(161)) \n",
    "builder.nscf.pw.pseudos = family.get_pseudos(structure=orm.load_node(161)) "
   ]
  },
  {
   "cell_type": "markdown",
   "metadata": {},
   "source": [
    "## 4 - explicit request calculation for the band gap\n",
    "\n",
    "Here an explanation of how to ask other gaps."
   ]
  },
  {
   "cell_type": "code",
   "execution_count": 18,
   "metadata": {},
   "outputs": [],
   "source": [
    "builder.additional_parsing = orm.List(list=['gap_GG','gap_'])"
   ]
  },
  {
   "cell_type": "markdown",
   "metadata": {},
   "source": [
    "## 5 RUN"
   ]
  },
  {
   "cell_type": "code",
   "execution_count": 19,
   "metadata": {},
   "outputs": [],
   "source": [
    "from aiida.engine import submit"
   ]
  },
  {
   "cell_type": "code",
   "execution_count": 20,
   "metadata": {},
   "outputs": [],
   "source": [
    "run = None"
   ]
  },
  {
   "cell_type": "code",
   "execution_count": 21,
   "metadata": {},
   "outputs": [
    {
     "name": "stderr",
     "output_type": "stream",
     "text": [
      "/scratch/mbonacci/mambaforge/envs/minitutorial/lib/python3.10/site-packages/aiida_quantumespresso/calculations/pw.py:211: UserWarning: `parent_folder` not provided for `nscf` calculation. For work chains wrapping this calculation, you can disable this warning by excluding the `parent_folder` when exposing the inputs of the `PwCalculation`.\n",
      "  warnings.warn(\n"
     ]
    },
    {
     "name": "stdout",
     "output_type": "stream",
     "text": [
      "uuid: 8c450461-422a-481f-bb4e-7f6f2a5fcb62 (pk: 2433) (aiida.workflows:yambo.yambo.yambowf)\n"
     ]
    }
   ],
   "source": [
    "if run:\n",
    "    print('run is already running -> {}'.format(run.pk))\n",
    "    print('sure that you want to run again?, if so, copy the else instruction in the cell below and run!')\n",
    "else:\n",
    "    run = submit(builder)\n",
    "\n",
    "print(run)"
   ]
  },
  {
   "cell_type": "markdown",
   "metadata": {},
   "source": [
    "# Inspecting the outputs\n",
    "\n",
    "suppose that your calculation completed successfully, then you can access the outputs via the output method of the run instance. All the outputs of YamboRestart and YamboCalculation are inherited"
   ]
  },
  {
   "cell_type": "code",
   "execution_count": 22,
   "metadata": {},
   "outputs": [
    {
     "data": {
      "text/plain": [
       "True"
      ]
     },
     "execution_count": 22,
     "metadata": {},
     "output_type": "execute_result"
    }
   ],
   "source": [
    "run.is_finished_ok"
   ]
  },
  {
   "cell_type": "code",
   "execution_count": 23,
   "metadata": {},
   "outputs": [
    {
     "data": {
      "text/plain": [
       "{'gap_': 5.3789906471538,\n",
       " 'homo': -0.20861223974703,\n",
       " 'lumo': 5.1703784074068,\n",
       " 'gap_GG': 7.3148622832797,\n",
       " 'homo_G': -1.5859060006194,\n",
       " 'lumo_G': 5.7289562826604,\n",
       " 'gap_dft': 4.2862447410166,\n",
       " 'homo_dft': -8.5151106119156e-06,\n",
       " 'lumo_dft': 4.286236225906,\n",
       " 'gap_GG_dft': 6.7760488920897,\n",
       " 'homo_G_dft': -1.2751118633211,\n",
       " 'lumo_G_dft': 5.5009370287687}"
      ]
     },
     "execution_count": 23,
     "metadata": {},
     "output_type": "execute_result"
    }
   ],
   "source": [
    "run.outputs.output_ywfl_parameters.get_dict()"
   ]
  },
  {
   "cell_type": "markdown",
   "metadata": {},
   "source": [
    "For example, we have the array_ndb ArrayData, which essentially contains the information on the run.output.QP_DB (which can also be accessed directly):"
   ]
  },
  {
   "cell_type": "code",
   "execution_count": 24,
   "metadata": {},
   "outputs": [
    {
     "data": {
      "text/plain": [
       "{'soc': True,\n",
       " 'gap_': [[14, 14, 15, 15], [7, 7, 17, 17]],\n",
       " 'gap_GG': [[1, 1, 15, 15], [1, 1, 17, 17]],\n",
       " 'homo_k': 14,\n",
       " 'lumo_k': 7,\n",
       " 'valence': 15,\n",
       " 'gap_type': 'indirect',\n",
       " 'conduction': 17,\n",
       " 'nscf_gap_eV': 4.286,\n",
       " 'dft_predicted': 'semiconductor/insulator',\n",
       " 'spin-resolved': False,\n",
       " 'number_of_kpoints': 14}"
      ]
     },
     "execution_count": 24,
     "metadata": {},
     "output_type": "execute_result"
    }
   ],
   "source": [
    "run.outputs.nscf_mapping.get_dict()"
   ]
  },
  {
   "cell_type": "code",
   "execution_count": 33,
   "metadata": {},
   "outputs": [],
   "source": [
    "# some comments on the results."
   ]
  },
  {
   "cell_type": "code",
   "execution_count": null,
   "metadata": {},
   "outputs": [],
   "source": []
  }
 ],
 "metadata": {
  "kernelspec": {
   "display_name": "minitutorial",
   "language": "python",
   "name": "python3"
  },
  "language_info": {
   "codemirror_mode": {
    "name": "ipython",
    "version": 3
   },
   "file_extension": ".py",
   "mimetype": "text/x-python",
   "name": "python",
   "nbconvert_exporter": "python",
   "pygments_lexer": "ipython3",
   "version": "3.10.13"
  }
 },
 "nbformat": 4,
 "nbformat_minor": 5
}
