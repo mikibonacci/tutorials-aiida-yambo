{
 "cells": [
  {
   "cell_type": "markdown",
   "metadata": {},
   "source": [
    "# YamboConvergence: automated BSE convergence\n",
    "\n",
    "This is the highest-level workflow of the plugin. It runs an automated GW or BSE convergence.\n",
    "Simulations are organized on the fly without human intervention.\n",
    "\n",
    "The idea is to create a builder instance, which collects all the inputs needed for the simulation, then submit it by means of the aiida \"submit\" function."
   ]
  },
  {
   "cell_type": "code",
   "execution_count": 79,
   "metadata": {},
   "outputs": [
    {
     "data": {
      "text/plain": [
       "Profile<uuid='b35700dae723411ea16ebc82d58f16bc' name='mb'>"
      ]
     },
     "execution_count": 79,
     "metadata": {},
     "output_type": "execute_result"
    }
   ],
   "source": [
    "from aiida import orm, load_profile\n",
    "load_profile()"
   ]
  },
  {
   "cell_type": "markdown",
   "metadata": {},
   "source": [
    "## 1 - Creation of YamboConvergence instance using protocols\n",
    "\n",
    "In this tutorial the creation of the builder, for a given workflow, is provided by means of the get_builder_from_protocol function.\n",
    "This is, for now, just a way to automatically populated all the needed inputs, allowing the user to partially skip the long part of input definition as done in examples like the one contained in ``aiida_yambo/examples_hBN/workflows/yambo_convergence.py``.\n",
    "\n",
    "\n",
    "It is not meant to be an already tested set of default values as instead is done for the aiida-quantumespresso plugin. "
   ]
  },
  {
   "cell_type": "code",
   "execution_count": 80,
   "metadata": {},
   "outputs": [],
   "source": [
    "from aiida.plugins import WorkflowFactory"
   ]
  },
  {
   "cell_type": "code",
   "execution_count": 81,
   "metadata": {},
   "outputs": [],
   "source": [
    "YamboConvergence = WorkflowFactory('yambo.yambo.yamboconvergence')"
   ]
  },
  {
   "cell_type": "markdown",
   "metadata": {},
   "source": [
    "## minimal inputs needed for protocols"
   ]
  },
  {
   "cell_type": "code",
   "execution_count": 82,
   "metadata": {},
   "outputs": [],
   "source": [
    "options = {\n",
    "    'pwcode_id': 'pw-7.1@hydralogin', \n",
    "    'pseudo_family':\"PseudoDojo/0.4/PBE/SR/standard/upf\",\n",
    "    'yamboprecode_id':'p2y-5.1@hydralogin',\n",
    "    'yambocode_id':'yambo-5.1@hydralogin',\n",
    "    'protocol':'fast',\n",
    "    #'parent_id':274, #not necessary to set; take your previously nscf id (pk) to skip the DFT part.\n",
    "    'structure_id':161,\n",
    "}"
   ]
  },
  {
   "cell_type": "code",
   "execution_count": 83,
   "metadata": {},
   "outputs": [],
   "source": [
    "#YamboWorkflow.get_builder_from_protocol??"
   ]
  },
  {
   "cell_type": "code",
   "execution_count": 84,
   "metadata": {},
   "outputs": [],
   "source": [
    "from aiida_quantumespresso.common.types import ElectronicType"
   ]
  },
  {
   "cell_type": "code",
   "execution_count": 85,
   "metadata": {},
   "outputs": [
    {
     "name": "stdout",
     "output_type": "stream",
     "text": [
      "Summary of the main inputs:\n",
      "BndsRnXs = 200\n",
      "NGsBlkXs = 6 Ry\n",
      "BSENGBlk = 6 Ry\n",
      "FFTGvecs = 18 Ry\n",
      "\n",
      "\n",
      "kpoint mesh for nscf: [6, 6, 2]\n"
     ]
    },
    {
     "name": "stderr",
     "output_type": "stream",
     "text": [
      "/scratch/mbonacci/mambaforge/envs/minitutorial/lib/python3.10/site-packages/aiida_quantumespresso/calculations/pw.py:211: UserWarning: `parent_folder` not provided for `nscf` calculation. For work chains wrapping this calculation, you can disable this warning by excluding the `parent_folder` when exposing the inputs of the `PwCalculation`.\n",
      "  warnings.warn(\n"
     ]
    }
   ],
   "source": [
    "builder = YamboConvergence.get_builder_from_protocol(\n",
    "            pw_code = options['pwcode_id'],\n",
    "            preprocessing_code = options['yamboprecode_id'],\n",
    "            code = options['yambocode_id'],\n",
    "            protocol=options['protocol'],\n",
    "            protocol_qe=options['protocol'],\n",
    "            structure=orm.load_node(options['structure_id']),\n",
    "            overrides={},\n",
    "            #parent_folder=load_node(options['parent_id']).outputs.remote_folder,\n",
    "            electronic_type=ElectronicType.INSULATOR, #default is METAL: smearing is used\n",
    "            calc_type='bse', #or 'bse'; default is 'gw'\n",
    ")"
   ]
  },
  {
   "cell_type": "code",
   "execution_count": 86,
   "metadata": {},
   "outputs": [
    {
     "data": {
      "text/plain": [
       "{'fast': {'description': 'Fast protocol for a GW convergence: grid -> poor; thresholds -> poor'},\n",
       " 'moderate': {'description': 'Moderate protocol for a GW convergence: grid -> enough good for standard materials; thresholds -> moderate (5 percent)'},\n",
       " 'precise': {'description': 'precise protocol for a GW convergence: grid -> same as moderate; thresholds -> precise (1 percent)'},\n",
       " 'molecule': {'description': 'Moderate protocol for a GW convergence in molecules'}}"
      ]
     },
     "execution_count": 86,
     "metadata": {},
     "output_type": "execute_result"
    }
   ],
   "source": [
    "#You can also try different protocols:\n",
    "    \n",
    "YamboConvergence.get_available_protocols()"
   ]
  },
  {
   "cell_type": "markdown",
   "metadata": {},
   "source": [
    "Now, if you inspect the prepopulated inputs, you can see the default values respecting the imposed protocol:"
   ]
  },
  {
   "cell_type": "code",
   "execution_count": 87,
   "metadata": {},
   "outputs": [
    {
     "data": {
      "text/plain": [
       "{'CONTROL': {'calculation': 'nscf',\n",
       "  'forc_conv_thr': 0.001,\n",
       "  'tprnfor': True,\n",
       "  'tstress': True,\n",
       "  'etot_conv_thr': 0.0004},\n",
       " 'SYSTEM': {'nosym': False,\n",
       "  'occupations': 'fixed',\n",
       "  'ecutwfc': 60.0,\n",
       "  'ecutrho': 480.0,\n",
       "  'force_symmorphic': True,\n",
       "  'nbnd': 200},\n",
       " 'ELECTRONS': {'electron_maxstep': 80,\n",
       "  'mixing_beta': 0.4,\n",
       "  'conv_thr': 1.6e-09}}"
      ]
     },
     "execution_count": 87,
     "metadata": {},
     "output_type": "execute_result"
    }
   ],
   "source": [
    "builder.ywfl.nscf.pw.parameters.get_dict()"
   ]
  },
  {
   "cell_type": "code",
   "execution_count": 88,
   "metadata": {},
   "outputs": [
    {
     "data": {
      "text/plain": [
       "{'arguments': ['em1s', 'bse', 'bss', 'optics', 'rim_cut', 'dipoles'],\n",
       " 'variables': {'Chimod': 'hartree',\n",
       "  'DysSolver': 'n',\n",
       "  'GTermKind': 'BG',\n",
       "  'X_and_IO_nCPU_LinAlg_INV': [1, ''],\n",
       "  'BSEmod': 'resonant',\n",
       "  'BSKmod': 'SEX',\n",
       "  'BSSmod': 'd',\n",
       "  'Lkind': 'full',\n",
       "  'BSEQptR': [[1, 1], ''],\n",
       "  'FFTGvecs': [18, 'Ry'],\n",
       "  'GbndRnge': [[1, 200], ''],\n",
       "  'BndsRnXs': [[1, 200], ''],\n",
       "  'NGsBlkXs': [6, 'Ry'],\n",
       "  'BSENGBlk': [6, 'Ry']}}"
      ]
     },
     "execution_count": 88,
     "metadata": {},
     "output_type": "execute_result"
    }
   ],
   "source": [
    "builder.ywfl.yres.yambo.parameters.get_dict()"
   ]
  },
  {
   "cell_type": "markdown",
   "metadata": {},
   "source": [
    "## 2 - Inputs completion\n",
    "\n",
    "We have to include also the resources:"
   ]
  },
  {
   "cell_type": "code",
   "execution_count": 89,
   "metadata": {},
   "outputs": [],
   "source": [
    "builder.ywfl.scf.pw.metadata.options = {\n",
    "    'max_wallclock_seconds': 2*60*60, # in seconds\n",
    "    'resources': {\n",
    "            \"num_machines\": 1, # nodes\n",
    "            \"num_mpiprocs_per_machine\": 16, # MPI per nodes\n",
    "            \"num_cores_per_mpiproc\": 1, # OPENMP\n",
    "        },\n",
    "    'prepend_text': u\"export OMP_NUM_THREADS=\"+str(1), # if needed\n",
    "    #'account':'project_name',\n",
    "    'queue_name':'s3par',\n",
    "    #'qos':'',\n",
    "}\n",
    "\n",
    "builder.ywfl.nscf.pw.metadata.options = builder.ywfl.scf.pw.metadata.options\n",
    "builder.ywfl.yres.yambo.metadata.options = builder.ywfl.scf.pw.metadata.options"
   ]
  },
  {
   "cell_type": "markdown",
   "metadata": {},
   "source": [
    "## 3 - Overrides\n",
    "\n",
    "It is possible to modify the default inputs also during the builder creation phase, so not a posteriori. This can be done by using overrides:"
   ]
  },
  {
   "cell_type": "code",
   "execution_count": 90,
   "metadata": {},
   "outputs": [],
   "source": [
    "overrides_scf = {\n",
    "        'pseudo_family': \"PseudoDojo/0.4/PBE/SR/standard/upf\", \n",
    "        'pw':{\n",
    "            \n",
    "        'metadata':{\n",
    "                    'options':{\n",
    "                    'max_wallclock_seconds': 60*60, # in seconds\n",
    "                    'resources': {\n",
    "                            \"num_machines\": 1, # nodes\n",
    "                            \"num_mpiprocs_per_machine\": 16, # MPI per nodes\n",
    "                            \"num_cores_per_mpiproc\": 1, # OPENMP\n",
    "                        },\n",
    "                    'prepend_text': u\"export OMP_NUM_THREADS=\"+str(1), # if needed\n",
    "                    #'account':'project_name',\n",
    "                    'queue_name':'s3par',\n",
    "                    #'qos':'',\n",
    "                                    },\n",
    "        },\n",
    "        },\n",
    "    }\n",
    "\n",
    "overrides_nscf = {\n",
    "        'pseudo_family': \"PseudoDojo/0.4/PBE/SR/standard/upf\", \n",
    "        'pw': {\n",
    "            'parameters':{\n",
    "                'CONTROL':{}, #not needed if you don't override something\n",
    "                'SYSTEM':{},\n",
    "                'ELECTRONS':{'diagonalization':'cg'},\n",
    "            },\n",
    "             'metadata':{\n",
    "                    'options':{\n",
    "                    'max_wallclock_seconds': 60*60, # in seconds\n",
    "                    'resources': {\n",
    "                            \"num_machines\": 1, # nodes\n",
    "                            \"num_mpiprocs_per_machine\": 16, # MPI per nodes\n",
    "                            \"num_cores_per_mpiproc\": 1, # OPENMP\n",
    "                        },\n",
    "                    'prepend_text': u\"export OMP_NUM_THREADS=\"+str(1), # if needed\n",
    "                    #'account':'project_name',\n",
    "                    'queue_name':'s3par',\n",
    "                    #'qos':'',\n",
    "                                    },\n",
    "        },\n",
    "    },\n",
    "}\n",
    "\n",
    "overrides_yambo = {\n",
    "        \"yambo\": {\n",
    "            \"parameters\": {\n",
    "                \"arguments\": [\n",
    "                    \"rim_cut\",\n",
    "                ],\n",
    "                \"variables\": {\n",
    "                    \"FFTGvecs\": [20, \"Ry\"],\n",
    "                    'GbndRnge': [[1, 50], ''],\n",
    "                    'BndsRnXs': [[1, 50], ''],\n",
    "                    'NGsBlkXs': [2, 'Ry'],\n",
    "                    'BSENGBlk': [2, 'Ry'],\n",
    "                    'KfnQP_E':[[1.5,1,1],''],           # <== Scissor and stretching correction.\n",
    "                    'BS_CPU':str(int(16/2))+' 2 1',     # <== PARALLELISM INFO\n",
    "                    'BS_ROLEs':'k eh t',                # <== PARALLELISM INFO\n",
    "                },\n",
    "            },\n",
    "        'metadata':{\n",
    "                    'options':{\n",
    "                    'max_wallclock_seconds': 60*60, # in seconds\n",
    "                    'resources': {\n",
    "                            \"num_machines\": 1, # nodes\n",
    "                            \"num_mpiprocs_per_machine\": 16, # MPI per nodes\n",
    "                            \"num_cores_per_mpiproc\": 1, # OPENMP\n",
    "                        },\n",
    "                    'prepend_text': u\"export OMP_NUM_THREADS=\"+str(1), # if needed, i.e. in PBS/Torque \n",
    "                    #'account':'project_name',\n",
    "                    'queue_name':'s3par',\n",
    "                    #'qos':'',\n",
    "                                    },\n",
    "                    },\n",
    "        },\n",
    "    \n",
    "}\n",
    "\n",
    "#Be careful with the mesh choice!!! \n",
    "overrides_meta = {\n",
    "        'FFTGvecs': {\n",
    "            'start_ratio': 0.25,\n",
    "            'stop_ratio': 0.7,\n",
    "            'delta_ratio': 0.1,\n",
    "            'max_ratio': 1,\n",
    "        },\n",
    "        'bands': {\n",
    "            'start': 50,\n",
    "            'stop': 400,\n",
    "            'delta': 50,\n",
    "            'max': 600,\n",
    "            'ratio':[10,25,50],\n",
    "        },\n",
    "        'G_vectors': {\n",
    "            'start': 2,\n",
    "            'stop': 8,\n",
    "            'delta': 1,\n",
    "            'max': 10,\n",
    "        },\n",
    "        'kpoint_density': {\n",
    "            'start': 0.8,\n",
    "            'stop': 0.2,\n",
    "            'delta': 3,\n",
    "            'max': 0.1,\n",
    "        } ,\n",
    "        'conv_thr_k': 10,\n",
    "        'conv_thr_bG': 10,\n",
    "        'conv_thr_FFT': 10,\n",
    "        'conv_thr_units': '%', # 'eV'\n",
    "\n",
    "        \n",
    "    }\n",
    "\n",
    "        \n",
    "overrides_wfl_settings = {\n",
    "        \n",
    "        'what':['gap_'],\n",
    "        'bands_nscf_update':'full-step',\n",
    "        'skip_pre':False,   \n",
    "        'type': 'heavy', #or cheap; heavy uses converged value for parameters that we are not converging in a given iteration.\n",
    "        \n",
    "    }\n",
    "\n",
    "overrides = {\n",
    "        'meta_parameters':overrides_meta,\n",
    "        'ywfl':{'scf':overrides_scf,'nscf':overrides_nscf,'yres':overrides_yambo},\n",
    "        'workflow_settings':overrides_wfl_settings,\n",
    "    }\n"
   ]
  },
  {
   "cell_type": "code",
   "execution_count": 91,
   "metadata": {},
   "outputs": [
    {
     "name": "stdout",
     "output_type": "stream",
     "text": [
      "Summary of the main inputs:\n",
      "BndsRnXs = 50\n",
      "NGsBlkXs = 2 Ry\n",
      "BSENGBlk = 2 Ry\n",
      "FFTGvecs = 20 Ry\n",
      "\n",
      "\n",
      "kpoint mesh for nscf: [6, 6, 2]\n"
     ]
    },
    {
     "name": "stderr",
     "output_type": "stream",
     "text": [
      "/scratch/mbonacci/mambaforge/envs/minitutorial/lib/python3.10/site-packages/aiida_quantumespresso/calculations/pw.py:211: UserWarning: `parent_folder` not provided for `nscf` calculation. For work chains wrapping this calculation, you can disable this warning by excluding the `parent_folder` when exposing the inputs of the `PwCalculation`.\n",
      "  warnings.warn(\n"
     ]
    }
   ],
   "source": [
    "builder = YamboConvergence.get_builder_from_protocol(\n",
    "            pw_code = options['pwcode_id'],\n",
    "            preprocessing_code = options['yamboprecode_id'],\n",
    "            code = options['yambocode_id'],\n",
    "            protocol=options['protocol'],\n",
    "            protocol_qe=options['protocol'],\n",
    "            structure= orm.load_node(options['structure_id']),\n",
    "            overrides=overrides,\n",
    "            #parent_folder=load_node(options['parent_id']).outputs.remote_folder,\n",
    "            electronic_type=ElectronicType.INSULATOR, #default is METAL: smearing is used\n",
    "            calc_type='bse', #or 'bse'; default is 'gw'\n",
    ")\n",
    "\n",
    "family = orm.load_group(\"PseudoDojo/0.4/PBE/SR/standard/upf\")\n",
    "#builder.<sublevels_up_to .pw>.pseudos = family.get_pseudos(structure=structure) \n",
    "builder.ywfl.scf.pw.pseudos = family.get_pseudos(structure=orm.load_node(161)) \n",
    "builder.ywfl.nscf.pw.pseudos = family.get_pseudos(structure=orm.load_node(161)) "
   ]
  },
  {
   "cell_type": "markdown",
   "metadata": {},
   "source": [
    "## spiega che fai il gruppo cos' hai tutto li, tipo caching ma in realtà non duplichi... per yambo é importante:\n",
    "- non hai problemi con cleaned remote\n",
    "- dati pesanti tipo ndb.QP"
   ]
  },
  {
   "cell_type": "code",
   "execution_count": 92,
   "metadata": {},
   "outputs": [],
   "source": [
    "try:\n",
    "    g = orm.load_group('tutorial/hBN/convergence')\n",
    "except:\n",
    "    g = orm.Group('tutorial/hBN/convergence')\n",
    "    g.store()"
   ]
  },
  {
   "cell_type": "code",
   "execution_count": 93,
   "metadata": {},
   "outputs": [],
   "source": [
    "builder.group_label = orm.Str('tutorial/hBN/convergence') # verdi group create tutorial/hBN/convergence; all calculationsc are added to the group"
   ]
  },
  {
   "cell_type": "code",
   "execution_count": 94,
   "id": "c5c20fab",
   "metadata": {},
   "outputs": [],
   "source": [
    "builder.ywfl.yres.yambo.parameters = orm.Dict(\n",
    "    dict={'arguments':['em1s','bse','bss','optics', 'dipoles',],\n",
    "                'variables':{\n",
    "                'BSEmod': 'resonant',\n",
    "                'BSKmod': 'SEX',\n",
    "                'BSSmod': 'd',\n",
    "                'Lkind': 'full',\n",
    "                'NGsBlkXs': [2, 'Ry'],\n",
    "                'BSENGBlk': [2, 'Ry'],\n",
    "                'Chimod': 'hartree',\n",
    "                'DysSolver': 'n',\n",
    "                'BEnSteps': [10,''],\n",
    "                'BSEQptR': [[1,1],''],\n",
    "                'BSEBands': [[8,9],''],\n",
    "                'BEnRange': [[0.0, 10.0],'eV'],\n",
    "                'BDmRange': [[0.1, 0.1],'eV'],\n",
    "                'BLongDir': [[1.0, 1.0, 1.0],''],\n",
    "                'LongDrXp': [[1.0, 1.0, 1.0],''],\n",
    "                'LongDrXd': [[1.0, 1.0, 1.0],''],\n",
    "                'LongDrXs': [[1.0, 1.0, 1.0],''],\n",
    "                'BndsRnXs': [[1,50], ''],\n",
    "                'KfnQP_E':[[1.5,1,1],''],\n",
    "                'BS_CPU':str(int(16/2))+' 2 1',\n",
    "                'BS_ROLEs':'k eh t',\n",
    "                },}\n",
    ")"
   ]
  },
  {
   "cell_type": "code",
   "execution_count": 95,
   "metadata": {},
   "outputs": [
    {
     "data": {
      "text/plain": [
       "[{'var': ['FFTGvecs'],\n",
       "  'start': 21,\n",
       "  'stop': 58,\n",
       "  'delta': 8,\n",
       "  'max': 84,\n",
       "  'steps': 4,\n",
       "  'max_iterations': 4,\n",
       "  'conv_thr': 10,\n",
       "  'conv_thr_units': '%',\n",
       "  'convergence_algorithm': 'new_algorithm_1D'},\n",
       " {'var': ['kpoint_mesh'],\n",
       "  'start': [4, 4, 2],\n",
       "  'stop': [16, 16, 6],\n",
       "  'delta': [3, 3, 3],\n",
       "  'max': [30, 30, 10],\n",
       "  'steps': 4,\n",
       "  'max_iterations': 4,\n",
       "  'conv_thr': 10,\n",
       "  'conv_thr_units': '%',\n",
       "  'convergence_algorithm': 'new_algorithm_1D'},\n",
       " {'var': ['BndsRnXp', 'GbndRnge', 'NGsBlkXp'],\n",
       "  'start': [80, 80, 2],\n",
       "  'stop': [400, 400, 8],\n",
       "  'delta': [50, 50, 1],\n",
       "  'max': [600, 600, 10],\n",
       "  'steps': 6,\n",
       "  'max_iterations': 8,\n",
       "  'conv_thr': 10,\n",
       "  'conv_thr_units': '%',\n",
       "  'convergence_algorithm': 'new_algorithm_2D'}]"
      ]
     },
     "execution_count": 95,
     "metadata": {},
     "output_type": "execute_result"
    }
   ],
   "source": [
    "builder.parameters_space.get_list()"
   ]
  },
  {
   "cell_type": "code",
   "execution_count": 96,
   "id": "0cad99c2",
   "metadata": {},
   "outputs": [],
   "source": [
    "builder.parameters_space = orm.List(builder.parameters_space.get_list()[-2:-1])"
   ]
  },
  {
   "cell_type": "code",
   "execution_count": 97,
   "id": "33669df2",
   "metadata": {},
   "outputs": [
    {
     "data": {
      "text/plain": [
       "[{'var': ['kpoint_mesh'],\n",
       "  'start': [4, 4, 2],\n",
       "  'stop': [16, 16, 6],\n",
       "  'delta': [3, 3, 3],\n",
       "  'max': [30, 30, 10],\n",
       "  'steps': 4,\n",
       "  'max_iterations': 4,\n",
       "  'conv_thr': 10,\n",
       "  'conv_thr_units': '%',\n",
       "  'convergence_algorithm': 'new_algorithm_1D'}]"
      ]
     },
     "execution_count": 97,
     "metadata": {},
     "output_type": "execute_result"
    }
   ],
   "source": [
    "builder.parameters_space.get_list()\n"
   ]
  },
  {
   "cell_type": "markdown",
   "metadata": {},
   "source": [
    "## 3 RUN"
   ]
  },
  {
   "cell_type": "code",
   "execution_count": 98,
   "metadata": {},
   "outputs": [],
   "source": [
    "from aiida.engine import submit"
   ]
  },
  {
   "cell_type": "code",
   "execution_count": 99,
   "metadata": {},
   "outputs": [],
   "source": [
    "run = None"
   ]
  },
  {
   "cell_type": "code",
   "execution_count": 100,
   "metadata": {},
   "outputs": [
    {
     "name": "stderr",
     "output_type": "stream",
     "text": [
      "/scratch/mbonacci/mambaforge/envs/minitutorial/lib/python3.10/site-packages/aiida_quantumespresso/calculations/pw.py:211: UserWarning: `parent_folder` not provided for `nscf` calculation. For work chains wrapping this calculation, you can disable this warning by excluding the `parent_folder` when exposing the inputs of the `PwCalculation`.\n",
      "  warnings.warn(\n"
     ]
    },
    {
     "name": "stdout",
     "output_type": "stream",
     "text": [
      "uuid: 6457a176-4933-41ae-aeaf-1a9378ebc386 (pk: 6185) (aiida.workflows:yambo.yambo.yamboconvergence)\n"
     ]
    }
   ],
   "source": [
    "if run:\n",
    "    print('run is already running -> {}'.format(run.pk))\n",
    "    print('sure that you want to run again?, if so, copy the else instruction in the cell below and run!')\n",
    "else:\n",
    "    run = submit(builder)\n",
    "\n",
    "print(run)"
   ]
  },
  {
   "cell_type": "markdown",
   "metadata": {},
   "source": [
    "## Inspecting the workflow\n",
    "\n",
    "report, e mostra che fa prima le bande..."
   ]
  },
  {
   "cell_type": "markdown",
   "metadata": {},
   "source": [
    "# Inspecting the outputs\n",
    "\n",
    "suppose that your calculation completed successfully, then you can access the outputs via the output method of the run instance: "
   ]
  },
  {
   "cell_type": "code",
   "execution_count": 101,
   "metadata": {},
   "outputs": [
    {
     "data": {
      "text/plain": [
       "False"
      ]
     },
     "execution_count": 101,
     "metadata": {},
     "output_type": "execute_result"
    }
   ],
   "source": [
    "run.is_finished_ok"
   ]
  },
  {
   "cell_type": "code",
   "execution_count": 102,
   "metadata": {},
   "outputs": [
    {
     "ename": "SyntaxError",
     "evalue": "invalid syntax (708973465.py, line 1)",
     "output_type": "error",
     "traceback": [
      "\u001b[0;36m  File \u001b[0;32m\"/tmp/ipykernel_3506/708973465.py\"\u001b[0;36m, line \u001b[0;32m1\u001b[0m\n\u001b[0;31m    run.outputs. #+TAB\u001b[0m\n\u001b[0m                 ^\u001b[0m\n\u001b[0;31mSyntaxError\u001b[0m\u001b[0;31m:\u001b[0m invalid syntax\n"
     ]
    }
   ],
   "source": [
    "run.outputs. #+TAB"
   ]
  },
  {
   "cell_type": "markdown",
   "metadata": {},
   "source": [
    "The converged parameters can be obtained via the \"infos\" output Dict:"
   ]
  },
  {
   "cell_type": "code",
   "execution_count": 103,
   "metadata": {},
   "outputs": [
    {
     "ename": "NotExistentAttributeError",
     "evalue": "Node<6185> does not have an output with link label 'infos'",
     "output_type": "error",
     "traceback": [
      "\u001b[0;31m---------------------------------------------------------------------------\u001b[0m",
      "\u001b[0;31mKeyError\u001b[0m                                  Traceback (most recent call last)",
      "\u001b[0;32m/scratch/mbonacci/mambaforge/envs/minitutorial/lib/python3.10/site-packages/aiida/orm/utils/managers.py\u001b[0m in \u001b[0;36m_get_node_by_link_label\u001b[0;34m(self, label)\u001b[0m\n\u001b[1;32m     90\u001b[0m         \u001b[0;32mtry\u001b[0m\u001b[0;34m:\u001b[0m\u001b[0;34m\u001b[0m\u001b[0;34m\u001b[0m\u001b[0m\n\u001b[0;32m---> 91\u001b[0;31m             \u001b[0mnode\u001b[0m \u001b[0;34m=\u001b[0m \u001b[0mattribute_dict\u001b[0m\u001b[0;34m[\u001b[0m\u001b[0mlabel\u001b[0m\u001b[0;34m]\u001b[0m\u001b[0;34m\u001b[0m\u001b[0;34m\u001b[0m\u001b[0m\n\u001b[0m\u001b[1;32m     92\u001b[0m         \u001b[0;32mexcept\u001b[0m \u001b[0mKeyError\u001b[0m \u001b[0;32mas\u001b[0m \u001b[0mexception\u001b[0m\u001b[0;34m:\u001b[0m\u001b[0;34m\u001b[0m\u001b[0;34m\u001b[0m\u001b[0m\n",
      "\u001b[0;31mKeyError\u001b[0m: 'infos'",
      "\nThe above exception was the direct cause of the following exception:\n",
      "\u001b[0;31mNotExistent\u001b[0m                               Traceback (most recent call last)",
      "\u001b[0;32m/scratch/mbonacci/mambaforge/envs/minitutorial/lib/python3.10/site-packages/aiida/orm/utils/managers.py\u001b[0m in \u001b[0;36m__getattr__\u001b[0;34m(self, name)\u001b[0m\n\u001b[1;32m    139\u001b[0m         \u001b[0;32mtry\u001b[0m\u001b[0;34m:\u001b[0m\u001b[0;34m\u001b[0m\u001b[0;34m\u001b[0m\u001b[0m\n\u001b[0;32m--> 140\u001b[0;31m             \u001b[0;32mreturn\u001b[0m \u001b[0mself\u001b[0m\u001b[0;34m.\u001b[0m\u001b[0m_get_node_by_link_label\u001b[0m\u001b[0;34m(\u001b[0m\u001b[0mlabel\u001b[0m\u001b[0;34m=\u001b[0m\u001b[0mname\u001b[0m\u001b[0;34m)\u001b[0m\u001b[0;34m\u001b[0m\u001b[0;34m\u001b[0m\u001b[0m\n\u001b[0m\u001b[1;32m    141\u001b[0m         \u001b[0;32mexcept\u001b[0m \u001b[0mNotExistent\u001b[0m \u001b[0;32mas\u001b[0m \u001b[0mexception\u001b[0m\u001b[0;34m:\u001b[0m\u001b[0;34m\u001b[0m\u001b[0;34m\u001b[0m\u001b[0m\n",
      "\u001b[0;32m/scratch/mbonacci/mambaforge/envs/minitutorial/lib/python3.10/site-packages/aiida/orm/utils/managers.py\u001b[0m in \u001b[0;36m_get_node_by_link_label\u001b[0;34m(self, label)\u001b[0m\n\u001b[1;32m    118\u001b[0m                     \u001b[0;32mraise\u001b[0m \u001b[0mNotExistent\u001b[0m \u001b[0;32mfrom\u001b[0m \u001b[0mexc\u001b[0m\u001b[0;34m\u001b[0m\u001b[0;34m\u001b[0m\u001b[0m\n\u001b[0;32m--> 119\u001b[0;31m             \u001b[0;32mraise\u001b[0m \u001b[0mNotExistent\u001b[0m \u001b[0;32mfrom\u001b[0m \u001b[0mexception\u001b[0m\u001b[0;34m\u001b[0m\u001b[0;34m\u001b[0m\u001b[0m\n\u001b[0m\u001b[1;32m    120\u001b[0m \u001b[0;34m\u001b[0m\u001b[0m\n",
      "\u001b[0;31mNotExistent\u001b[0m: ",
      "\nThe above exception was the direct cause of the following exception:\n",
      "\u001b[0;31mNotExistentAttributeError\u001b[0m                 Traceback (most recent call last)",
      "\u001b[0;32m/tmp/ipykernel_3506/3823968609.py\u001b[0m in \u001b[0;36m<cell line: 1>\u001b[0;34m()\u001b[0m\n\u001b[0;32m----> 1\u001b[0;31m \u001b[0mrun\u001b[0m\u001b[0;34m.\u001b[0m\u001b[0moutputs\u001b[0m\u001b[0;34m.\u001b[0m\u001b[0minfos\u001b[0m\u001b[0;34m.\u001b[0m\u001b[0mget_dict\u001b[0m\u001b[0;34m(\u001b[0m\u001b[0;34m)\u001b[0m\u001b[0;34m\u001b[0m\u001b[0;34m\u001b[0m\u001b[0m\n\u001b[0m",
      "\u001b[0;32m/scratch/mbonacci/mambaforge/envs/minitutorial/lib/python3.10/site-packages/aiida/orm/utils/managers.py\u001b[0m in \u001b[0;36m__getattr__\u001b[0;34m(self, name)\u001b[0m\n\u001b[1;32m    144\u001b[0m             \u001b[0;31m# Otherwise, the exception is not caught by `getattr` and is propagated, instead of returning the default.\u001b[0m\u001b[0;34m\u001b[0m\u001b[0;34m\u001b[0m\u001b[0m\n\u001b[1;32m    145\u001b[0m             \u001b[0mprefix\u001b[0m \u001b[0;34m=\u001b[0m \u001b[0;34m'input'\u001b[0m \u001b[0;32mif\u001b[0m \u001b[0mself\u001b[0m\u001b[0;34m.\u001b[0m\u001b[0m_incoming\u001b[0m \u001b[0;32melse\u001b[0m \u001b[0;34m'output'\u001b[0m\u001b[0;34m\u001b[0m\u001b[0;34m\u001b[0m\u001b[0m\n\u001b[0;32m--> 146\u001b[0;31m             raise NotExistentAttributeError(\n\u001b[0m\u001b[1;32m    147\u001b[0m                 \u001b[0;34mf\"Node<{self._node.pk}> does not have an {prefix} with link label '{name}'\"\u001b[0m\u001b[0;34m\u001b[0m\u001b[0;34m\u001b[0m\u001b[0m\n\u001b[1;32m    148\u001b[0m             ) from exception\n",
      "\u001b[0;31mNotExistentAttributeError\u001b[0m: Node<6185> does not have an output with link label 'infos'"
     ]
    }
   ],
   "source": [
    "run.outputs.infos.get_dict()"
   ]
  },
  {
   "cell_type": "markdown",
   "metadata": {},
   "source": [
    "The full convergence history can be visualized in a table form using pandas:"
   ]
  },
  {
   "cell_type": "code",
   "execution_count": 26,
   "metadata": {},
   "outputs": [],
   "source": [
    "import pandas as pd"
   ]
  },
  {
   "cell_type": "code",
   "execution_count": 27,
   "metadata": {},
   "outputs": [],
   "source": [
    "history = run.outputs.history.get_dict()"
   ]
  },
  {
   "cell_type": "code",
   "execution_count": 28,
   "metadata": {},
   "outputs": [],
   "source": [
    "history_table = pd.DataFrame(history)"
   ]
  },
  {
   "cell_type": "code",
   "execution_count": 29,
   "metadata": {},
   "outputs": [
    {
     "data": {
      "text/html": [
       "<div>\n",
       "<style scoped>\n",
       "    .dataframe tbody tr th:only-of-type {\n",
       "        vertical-align: middle;\n",
       "    }\n",
       "\n",
       "    .dataframe tbody tr th {\n",
       "        vertical-align: top;\n",
       "    }\n",
       "\n",
       "    .dataframe thead th {\n",
       "        text-align: right;\n",
       "    }\n",
       "</style>\n",
       "<table border=\"1\" class=\"dataframe\">\n",
       "  <thead>\n",
       "    <tr style=\"text-align: right;\">\n",
       "      <th></th>\n",
       "      <th>gap_</th>\n",
       "      <th>uuid</th>\n",
       "      <th>failed</th>\n",
       "      <th>useful</th>\n",
       "      <th>BndsRnXp</th>\n",
       "      <th>FFTGvecs</th>\n",
       "      <th>GbndRnge</th>\n",
       "      <th>NGsBlkXp</th>\n",
       "      <th>global_step</th>\n",
       "      <th>kpoint_mesh</th>\n",
       "      <th>parameters_studied</th>\n",
       "    </tr>\n",
       "  </thead>\n",
       "  <tbody>\n",
       "    <tr>\n",
       "      <th>0</th>\n",
       "      <td>1.106919</td>\n",
       "      <td>7f687803-8958-4807-857a-eabc39a2f27f</td>\n",
       "      <td>False</td>\n",
       "      <td>False</td>\n",
       "      <td>150</td>\n",
       "      <td>12</td>\n",
       "      <td>150</td>\n",
       "      <td>4.0</td>\n",
       "      <td>1</td>\n",
       "      <td>[4, 4, 4]</td>\n",
       "      <td>FFTGvecs</td>\n",
       "    </tr>\n",
       "    <tr>\n",
       "      <th>1</th>\n",
       "      <td>1.109694</td>\n",
       "      <td>084b6d90-7aa3-4a4b-942f-23219693cddf</td>\n",
       "      <td>False</td>\n",
       "      <td>False</td>\n",
       "      <td>150</td>\n",
       "      <td>22</td>\n",
       "      <td>150</td>\n",
       "      <td>4.0</td>\n",
       "      <td>2</td>\n",
       "      <td>[4, 4, 4]</td>\n",
       "      <td>FFTGvecs</td>\n",
       "    </tr>\n",
       "    <tr>\n",
       "      <th>2</th>\n",
       "      <td>1.109486</td>\n",
       "      <td>e61184fe-fa0c-417d-aeba-8cc8156e8081</td>\n",
       "      <td>False</td>\n",
       "      <td>False</td>\n",
       "      <td>150</td>\n",
       "      <td>27</td>\n",
       "      <td>150</td>\n",
       "      <td>4.0</td>\n",
       "      <td>3</td>\n",
       "      <td>[4, 4, 4]</td>\n",
       "      <td>FFTGvecs</td>\n",
       "    </tr>\n",
       "    <tr>\n",
       "      <th>3</th>\n",
       "      <td>1.109428</td>\n",
       "      <td>84443b47-b5a3-471e-8fc7-8a100ad399b7</td>\n",
       "      <td>False</td>\n",
       "      <td>False</td>\n",
       "      <td>150</td>\n",
       "      <td>35</td>\n",
       "      <td>150</td>\n",
       "      <td>4.0</td>\n",
       "      <td>4</td>\n",
       "      <td>[4, 4, 4]</td>\n",
       "      <td>FFTGvecs</td>\n",
       "    </tr>\n",
       "    <tr>\n",
       "      <th>4</th>\n",
       "      <td>1.106919</td>\n",
       "      <td>7f687803-8958-4807-857a-eabc39a2f27f</td>\n",
       "      <td>False</td>\n",
       "      <td>False</td>\n",
       "      <td>150</td>\n",
       "      <td>12</td>\n",
       "      <td>150</td>\n",
       "      <td>4.0</td>\n",
       "      <td>5</td>\n",
       "      <td>[4, 4, 4]</td>\n",
       "      <td>kpoint_mesh</td>\n",
       "    </tr>\n",
       "    <tr>\n",
       "      <th>5</th>\n",
       "      <td>0.960021</td>\n",
       "      <td>ce33e842-c988-4640-b20a-e86dacfb25ef</td>\n",
       "      <td>False</td>\n",
       "      <td>False</td>\n",
       "      <td>150</td>\n",
       "      <td>12</td>\n",
       "      <td>150</td>\n",
       "      <td>4.0</td>\n",
       "      <td>6</td>\n",
       "      <td>[7, 7, 7]</td>\n",
       "      <td>kpoint_mesh</td>\n",
       "    </tr>\n",
       "    <tr>\n",
       "      <th>6</th>\n",
       "      <td>0.971251</td>\n",
       "      <td>884078cf-9d80-4301-8902-0f62ad5b9091</td>\n",
       "      <td>False</td>\n",
       "      <td>False</td>\n",
       "      <td>150</td>\n",
       "      <td>12</td>\n",
       "      <td>150</td>\n",
       "      <td>4.0</td>\n",
       "      <td>7</td>\n",
       "      <td>[10, 10, 10]</td>\n",
       "      <td>kpoint_mesh</td>\n",
       "    </tr>\n",
       "    <tr>\n",
       "      <th>7</th>\n",
       "      <td>0.963438</td>\n",
       "      <td>cf9d793a-eee3-4253-b486-799fdcf175e2</td>\n",
       "      <td>False</td>\n",
       "      <td>False</td>\n",
       "      <td>150</td>\n",
       "      <td>12</td>\n",
       "      <td>150</td>\n",
       "      <td>4.0</td>\n",
       "      <td>8</td>\n",
       "      <td>[12, 12, 12]</td>\n",
       "      <td>kpoint_mesh</td>\n",
       "    </tr>\n",
       "    <tr>\n",
       "      <th>8</th>\n",
       "      <td>0.835478</td>\n",
       "      <td>a415b238-056d-4b07-9d24-8dae00f09510</td>\n",
       "      <td>False</td>\n",
       "      <td>False</td>\n",
       "      <td>60</td>\n",
       "      <td>12</td>\n",
       "      <td>60</td>\n",
       "      <td>2.0</td>\n",
       "      <td>9</td>\n",
       "      <td>[7, 7, 7]</td>\n",
       "      <td>BndsRnXp, GbndRnge, NGsBlkXp</td>\n",
       "    </tr>\n",
       "    <tr>\n",
       "      <th>9</th>\n",
       "      <td>0.841587</td>\n",
       "      <td>31ad3b67-ef3e-43ce-9a2a-e03582d62406</td>\n",
       "      <td>False</td>\n",
       "      <td>False</td>\n",
       "      <td>400</td>\n",
       "      <td>12</td>\n",
       "      <td>400</td>\n",
       "      <td>2.0</td>\n",
       "      <td>10</td>\n",
       "      <td>[7, 7, 7]</td>\n",
       "      <td>BndsRnXp, GbndRnge, NGsBlkXp</td>\n",
       "    </tr>\n",
       "    <tr>\n",
       "      <th>10</th>\n",
       "      <td>1.071505</td>\n",
       "      <td>73b873cf-1557-49bd-8e25-5a1198f2517b</td>\n",
       "      <td>False</td>\n",
       "      <td>False</td>\n",
       "      <td>60</td>\n",
       "      <td>12</td>\n",
       "      <td>60</td>\n",
       "      <td>8.0</td>\n",
       "      <td>11</td>\n",
       "      <td>[7, 7, 7]</td>\n",
       "      <td>BndsRnXp, GbndRnge, NGsBlkXp</td>\n",
       "    </tr>\n",
       "    <tr>\n",
       "      <th>11</th>\n",
       "      <td>1.031643</td>\n",
       "      <td>b0c8a9f3-be77-427c-974e-fc7764ddc0e3</td>\n",
       "      <td>False</td>\n",
       "      <td>False</td>\n",
       "      <td>160</td>\n",
       "      <td>12</td>\n",
       "      <td>160</td>\n",
       "      <td>6.0</td>\n",
       "      <td>12</td>\n",
       "      <td>[7, 7, 7]</td>\n",
       "      <td>BndsRnXp, GbndRnge, NGsBlkXp</td>\n",
       "    </tr>\n",
       "    <tr>\n",
       "      <th>12</th>\n",
       "      <td>0.960864</td>\n",
       "      <td>def81756-0450-4518-bdb4-d6286a9bf664</td>\n",
       "      <td>False</td>\n",
       "      <td>False</td>\n",
       "      <td>310</td>\n",
       "      <td>12</td>\n",
       "      <td>310</td>\n",
       "      <td>4.0</td>\n",
       "      <td>13</td>\n",
       "      <td>[7, 7, 7]</td>\n",
       "      <td>BndsRnXp, GbndRnge, NGsBlkXp</td>\n",
       "    </tr>\n",
       "    <tr>\n",
       "      <th>13</th>\n",
       "      <td>1.115209</td>\n",
       "      <td>3321f163-239f-437f-9d1f-65cafddb05f5</td>\n",
       "      <td>False</td>\n",
       "      <td>False</td>\n",
       "      <td>400</td>\n",
       "      <td>12</td>\n",
       "      <td>400</td>\n",
       "      <td>8.0</td>\n",
       "      <td>14</td>\n",
       "      <td>[7, 7, 7]</td>\n",
       "      <td>BndsRnXp, GbndRnge, NGsBlkXp</td>\n",
       "    </tr>\n",
       "    <tr>\n",
       "      <th>14</th>\n",
       "      <td>0.840785</td>\n",
       "      <td>b87eecec-2c90-4cc2-b13c-705689923586</td>\n",
       "      <td>False</td>\n",
       "      <td>False</td>\n",
       "      <td>110</td>\n",
       "      <td>12</td>\n",
       "      <td>110</td>\n",
       "      <td>3.0</td>\n",
       "      <td>15</td>\n",
       "      <td>[7, 7, 7]</td>\n",
       "      <td>BndsRnXp, GbndRnge, NGsBlkXp</td>\n",
       "    </tr>\n",
       "    <tr>\n",
       "      <th>15</th>\n",
       "      <td>0.841551</td>\n",
       "      <td>ad19c1a6-fcc1-4eab-a1ad-de7dad716bf7</td>\n",
       "      <td>False</td>\n",
       "      <td>False</td>\n",
       "      <td>450</td>\n",
       "      <td>12</td>\n",
       "      <td>450</td>\n",
       "      <td>3.0</td>\n",
       "      <td>16</td>\n",
       "      <td>[7, 7, 7]</td>\n",
       "      <td>BndsRnXp, GbndRnge, NGsBlkXp</td>\n",
       "    </tr>\n",
       "    <tr>\n",
       "      <th>16</th>\n",
       "      <td>1.105343</td>\n",
       "      <td>50362d13-9635-4003-83bf-08c4ce4ba56a</td>\n",
       "      <td>False</td>\n",
       "      <td>False</td>\n",
       "      <td>110</td>\n",
       "      <td>12</td>\n",
       "      <td>110</td>\n",
       "      <td>9.0</td>\n",
       "      <td>17</td>\n",
       "      <td>[7, 7, 7]</td>\n",
       "      <td>BndsRnXp, GbndRnge, NGsBlkXp</td>\n",
       "    </tr>\n",
       "    <tr>\n",
       "      <th>17</th>\n",
       "      <td>1.066398</td>\n",
       "      <td>c191fd4a-d499-409b-8ed0-f7927e337ef3</td>\n",
       "      <td>False</td>\n",
       "      <td>False</td>\n",
       "      <td>210</td>\n",
       "      <td>12</td>\n",
       "      <td>210</td>\n",
       "      <td>7.0</td>\n",
       "      <td>18</td>\n",
       "      <td>[7, 7, 7]</td>\n",
       "      <td>BndsRnXp, GbndRnge, NGsBlkXp</td>\n",
       "    </tr>\n",
       "    <tr>\n",
       "      <th>18</th>\n",
       "      <td>1.032749</td>\n",
       "      <td>49f692e7-00da-48ce-b006-bfd6055ea813</td>\n",
       "      <td>False</td>\n",
       "      <td>False</td>\n",
       "      <td>360</td>\n",
       "      <td>12</td>\n",
       "      <td>360</td>\n",
       "      <td>5.0</td>\n",
       "      <td>19</td>\n",
       "      <td>[7, 7, 7]</td>\n",
       "      <td>BndsRnXp, GbndRnge, NGsBlkXp</td>\n",
       "    </tr>\n",
       "    <tr>\n",
       "      <th>19</th>\n",
       "      <td>1.115211</td>\n",
       "      <td>cc317b15-b7ba-48b1-9669-b55024e7ce71</td>\n",
       "      <td>False</td>\n",
       "      <td>False</td>\n",
       "      <td>450</td>\n",
       "      <td>12</td>\n",
       "      <td>450</td>\n",
       "      <td>9.0</td>\n",
       "      <td>20</td>\n",
       "      <td>[7, 7, 7]</td>\n",
       "      <td>BndsRnXp, GbndRnge, NGsBlkXp</td>\n",
       "    </tr>\n",
       "    <tr>\n",
       "      <th>20</th>\n",
       "      <td>1.026851</td>\n",
       "      <td>24a4bd74-54f5-4758-b61c-edf3da3e5c91</td>\n",
       "      <td>False</td>\n",
       "      <td>True</td>\n",
       "      <td>110</td>\n",
       "      <td>12</td>\n",
       "      <td>110</td>\n",
       "      <td>5.0</td>\n",
       "      <td>21</td>\n",
       "      <td>[7, 7, 7]</td>\n",
       "      <td>BndsRnXp, GbndRnge, NGsBlkXp</td>\n",
       "    </tr>\n",
       "  </tbody>\n",
       "</table>\n",
       "</div>"
      ],
      "text/plain": [
       "        gap_                                  uuid  failed  useful  BndsRnXp  \\\n",
       "0   1.106919  7f687803-8958-4807-857a-eabc39a2f27f   False   False       150   \n",
       "1   1.109694  084b6d90-7aa3-4a4b-942f-23219693cddf   False   False       150   \n",
       "2   1.109486  e61184fe-fa0c-417d-aeba-8cc8156e8081   False   False       150   \n",
       "3   1.109428  84443b47-b5a3-471e-8fc7-8a100ad399b7   False   False       150   \n",
       "4   1.106919  7f687803-8958-4807-857a-eabc39a2f27f   False   False       150   \n",
       "5   0.960021  ce33e842-c988-4640-b20a-e86dacfb25ef   False   False       150   \n",
       "6   0.971251  884078cf-9d80-4301-8902-0f62ad5b9091   False   False       150   \n",
       "7   0.963438  cf9d793a-eee3-4253-b486-799fdcf175e2   False   False       150   \n",
       "8   0.835478  a415b238-056d-4b07-9d24-8dae00f09510   False   False        60   \n",
       "9   0.841587  31ad3b67-ef3e-43ce-9a2a-e03582d62406   False   False       400   \n",
       "10  1.071505  73b873cf-1557-49bd-8e25-5a1198f2517b   False   False        60   \n",
       "11  1.031643  b0c8a9f3-be77-427c-974e-fc7764ddc0e3   False   False       160   \n",
       "12  0.960864  def81756-0450-4518-bdb4-d6286a9bf664   False   False       310   \n",
       "13  1.115209  3321f163-239f-437f-9d1f-65cafddb05f5   False   False       400   \n",
       "14  0.840785  b87eecec-2c90-4cc2-b13c-705689923586   False   False       110   \n",
       "15  0.841551  ad19c1a6-fcc1-4eab-a1ad-de7dad716bf7   False   False       450   \n",
       "16  1.105343  50362d13-9635-4003-83bf-08c4ce4ba56a   False   False       110   \n",
       "17  1.066398  c191fd4a-d499-409b-8ed0-f7927e337ef3   False   False       210   \n",
       "18  1.032749  49f692e7-00da-48ce-b006-bfd6055ea813   False   False       360   \n",
       "19  1.115211  cc317b15-b7ba-48b1-9669-b55024e7ce71   False   False       450   \n",
       "20  1.026851  24a4bd74-54f5-4758-b61c-edf3da3e5c91   False    True       110   \n",
       "\n",
       "    FFTGvecs  GbndRnge  NGsBlkXp  global_step   kpoint_mesh  \\\n",
       "0         12       150       4.0            1     [4, 4, 4]   \n",
       "1         22       150       4.0            2     [4, 4, 4]   \n",
       "2         27       150       4.0            3     [4, 4, 4]   \n",
       "3         35       150       4.0            4     [4, 4, 4]   \n",
       "4         12       150       4.0            5     [4, 4, 4]   \n",
       "5         12       150       4.0            6     [7, 7, 7]   \n",
       "6         12       150       4.0            7  [10, 10, 10]   \n",
       "7         12       150       4.0            8  [12, 12, 12]   \n",
       "8         12        60       2.0            9     [7, 7, 7]   \n",
       "9         12       400       2.0           10     [7, 7, 7]   \n",
       "10        12        60       8.0           11     [7, 7, 7]   \n",
       "11        12       160       6.0           12     [7, 7, 7]   \n",
       "12        12       310       4.0           13     [7, 7, 7]   \n",
       "13        12       400       8.0           14     [7, 7, 7]   \n",
       "14        12       110       3.0           15     [7, 7, 7]   \n",
       "15        12       450       3.0           16     [7, 7, 7]   \n",
       "16        12       110       9.0           17     [7, 7, 7]   \n",
       "17        12       210       7.0           18     [7, 7, 7]   \n",
       "18        12       360       5.0           19     [7, 7, 7]   \n",
       "19        12       450       9.0           20     [7, 7, 7]   \n",
       "20        12       110       5.0           21     [7, 7, 7]   \n",
       "\n",
       "              parameters_studied  \n",
       "0                       FFTGvecs  \n",
       "1                       FFTGvecs  \n",
       "2                       FFTGvecs  \n",
       "3                       FFTGvecs  \n",
       "4                    kpoint_mesh  \n",
       "5                    kpoint_mesh  \n",
       "6                    kpoint_mesh  \n",
       "7                    kpoint_mesh  \n",
       "8   BndsRnXp, GbndRnge, NGsBlkXp  \n",
       "9   BndsRnXp, GbndRnge, NGsBlkXp  \n",
       "10  BndsRnXp, GbndRnge, NGsBlkXp  \n",
       "11  BndsRnXp, GbndRnge, NGsBlkXp  \n",
       "12  BndsRnXp, GbndRnge, NGsBlkXp  \n",
       "13  BndsRnXp, GbndRnge, NGsBlkXp  \n",
       "14  BndsRnXp, GbndRnge, NGsBlkXp  \n",
       "15  BndsRnXp, GbndRnge, NGsBlkXp  \n",
       "16  BndsRnXp, GbndRnge, NGsBlkXp  \n",
       "17  BndsRnXp, GbndRnge, NGsBlkXp  \n",
       "18  BndsRnXp, GbndRnge, NGsBlkXp  \n",
       "19  BndsRnXp, GbndRnge, NGsBlkXp  \n",
       "20  BndsRnXp, GbndRnge, NGsBlkXp  "
      ]
     },
     "execution_count": 29,
     "metadata": {},
     "output_type": "execute_result"
    }
   ],
   "source": [
    "history_table"
   ]
  },
  {
   "cell_type": "markdown",
   "metadata": {},
   "source": [
    "The last calculations can be obtained using:"
   ]
  },
  {
   "cell_type": "code",
   "execution_count": 30,
   "metadata": {},
   "outputs": [
    {
     "data": {
      "text/html": [
       "<div>\n",
       "<style scoped>\n",
       "    .dataframe tbody tr th:only-of-type {\n",
       "        vertical-align: middle;\n",
       "    }\n",
       "\n",
       "    .dataframe tbody tr th {\n",
       "        vertical-align: top;\n",
       "    }\n",
       "\n",
       "    .dataframe thead th {\n",
       "        text-align: right;\n",
       "    }\n",
       "</style>\n",
       "<table border=\"1\" class=\"dataframe\">\n",
       "  <thead>\n",
       "    <tr style=\"text-align: right;\">\n",
       "      <th></th>\n",
       "      <th>gap_</th>\n",
       "      <th>uuid</th>\n",
       "      <th>failed</th>\n",
       "      <th>useful</th>\n",
       "      <th>BndsRnXp</th>\n",
       "      <th>FFTGvecs</th>\n",
       "      <th>GbndRnge</th>\n",
       "      <th>NGsBlkXp</th>\n",
       "      <th>global_step</th>\n",
       "      <th>kpoint_mesh</th>\n",
       "      <th>parameters_studied</th>\n",
       "    </tr>\n",
       "  </thead>\n",
       "  <tbody>\n",
       "    <tr>\n",
       "      <th>20</th>\n",
       "      <td>1.026851</td>\n",
       "      <td>24a4bd74-54f5-4758-b61c-edf3da3e5c91</td>\n",
       "      <td>False</td>\n",
       "      <td>True</td>\n",
       "      <td>110</td>\n",
       "      <td>12</td>\n",
       "      <td>110</td>\n",
       "      <td>5.0</td>\n",
       "      <td>21</td>\n",
       "      <td>[7, 7, 7]</td>\n",
       "      <td>BndsRnXp, GbndRnge, NGsBlkXp</td>\n",
       "    </tr>\n",
       "  </tbody>\n",
       "</table>\n",
       "</div>"
      ],
      "text/plain": [
       "        gap_                                  uuid  failed  useful  BndsRnXp  \\\n",
       "20  1.026851  24a4bd74-54f5-4758-b61c-edf3da3e5c91   False    True       110   \n",
       "\n",
       "    FFTGvecs  GbndRnge  NGsBlkXp  global_step kpoint_mesh  \\\n",
       "20        12       110       5.0           21   [7, 7, 7]   \n",
       "\n",
       "              parameters_studied  \n",
       "20  BndsRnXp, GbndRnge, NGsBlkXp  "
      ]
     },
     "execution_count": 30,
     "metadata": {},
     "output_type": "execute_result"
    }
   ],
   "source": [
    "history_table[history_table['useful']==True]"
   ]
  },
  {
   "cell_type": "code",
   "execution_count": 28,
   "metadata": {},
   "outputs": [],
   "source": [
    "# some fine plotting of the results, similar to the ones in the paper."
   ]
  },
  {
   "cell_type": "code",
   "execution_count": null,
   "metadata": {},
   "outputs": [],
   "source": []
  }
 ],
 "metadata": {
  "kernelspec": {
   "display_name": "minitutorial",
   "language": "python",
   "name": "python3"
  },
  "language_info": {
   "codemirror_mode": {
    "name": "ipython",
    "version": 3
   },
   "file_extension": ".py",
   "mimetype": "text/x-python",
   "name": "python",
   "nbconvert_exporter": "python",
   "pygments_lexer": "ipython3",
   "version": "3.10.13"
  }
 },
 "nbformat": 4,
 "nbformat_minor": 5
}
