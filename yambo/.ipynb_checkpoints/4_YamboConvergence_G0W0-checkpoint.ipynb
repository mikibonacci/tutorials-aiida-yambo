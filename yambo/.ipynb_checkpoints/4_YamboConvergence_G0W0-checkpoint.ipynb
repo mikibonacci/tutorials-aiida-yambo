{
 "cells": [
  {
   "cell_type": "markdown",
   "id": "b07f7d9f",
   "metadata": {},
   "source": [
    "# YamboConvergence: automated G0W0 convergence\n",
    "\n",
    "The highest-level workflow is represented by the ``YamboConvergence`` workchain, \n",
    "which implements the full automation of the convergence algorithm described in [Bonacci, M., Qiao, J., Spallanzani, N. et al. Towards high-throughput many-body perturbation theory: efficient algorithms and automated workflows. npj Comput Mater 9, 74 (2023)](https://doi.org/10.1038/s41524-023-01027-2). \n",
    "Simulations are organized on the fly, without any external user intervention. \n",
    "The purpose of this new proposed convergence algorithm is to obtain an accurate converged \n",
    "result doing the least possible number of calculations. This is possible if a reliable description of the convergence space is achieved, resulting also in a \n",
    "precise guess for the converged point, i.e. the converged parameters. The description of the space is performed by fitting some calculations that the workchain runs. \n",
    "A simple functional form of the space is assumed:\n",
    "\n",
    "$f(\\textbf{x}) = \\prod_i^N \\left( \\frac{A_i}{x_i^{\\alpha_i}} + b_i \\right)$\n",
    "\n",
    "In this way it is straightforward to compute first and second partial derivatives, and impose constraints on them to find the converged region of the space. \n",
    "The algorithm is specifically designed to solve the coupled convergence between \n",
    "summation over empty states (``BndsRnXp`` or ``BndsRnXs`` and ``GbndRnge`` for example) and PW expansion (``NGsBlkXp`` or ``NGsBlkXs``), but it can be used also to \n",
    "accelerate convergence tests with respect to the ``k-point mesh`` or ``FFTGvecs``, as we shall see later.\n",
    "\n",
    "Each simulation is performed by calling the `YamboWorkflow` workchain, ensuring the automation at all levels.\n",
    "\n",
    "\n",
    "### Example of workflow results:\n",
    "The successful workflow will return the results of the convergence iterations, as well as a final converged calculation, from which we can parse the\n",
    "converged parameters (they can be also found in the `infos` outputs of the workflow), and a complete story of all the calculations of the workflow with all the information provided.\n",
    "\n",
    "To show how the convergence algorithm works, here we plot the convergences performed on 2D-hBN imposing a convergence threshold of 1% on the final gap. The convergence is \n",
    "performed with respect to ``NGsBlkXp`` (G_cut in the plot) and ``BndsRnXp`` = ``GbndRnge`` (Nb in the plot). \n",
    "\n",
    ".. figure:: ./images/2D_conv_hBN.png\n",
    "    :width: 400px\n",
    "    :align: center\n",
    "    :height: 400px\n",
    "\n",
    "We can observe that first simulations (black squares) are performed on a starting grid, the blue one. The algorithm decides then to perform another set of calculations on \n",
    "a shifted grid, as the fit perofmed to predict the space was not enough accurate. Next, a converged point is predicted, corresponding to the blue square, and it is explicitely computed. \n",
    "Using also the informations on that point, the algorithm understands that a new converged point can be the red one. This is then computed and verified to be the real converged one. In this \n",
    "way, convergence is efficiently achieved. \n",
    "\n",
    "All the calculations are automatically collected in a group, created using the structure formula, or can be collected in a specific pre-existing group if the input \n",
    "``builder.group_label`` is provided as Str datatype."
   ]
  },
  {
   "cell_type": "code",
   "execution_count": 1,
   "id": "dc9bce04",
   "metadata": {},
   "outputs": [],
   "source": [
    "from aiida import orm, load_profile\n",
    "load_profile()\n",
    "\n",
    "from aiida.plugins import WorkflowFactory\n",
    "from aiida.orm import QueryBuilder\n",
    "\n",
    "from aiida_quantumespresso.common.types import ElectronicType\n",
    "\n",
    "import yaml\n",
    "\n",
    "\n",
    "qb = QueryBuilder()\n",
    "qb.append(orm.Group, filters={'label': 'Silicon/bulk'}, tag='group')\n",
    "qb.append(orm.StructureData, with_group='group')\n",
    "\n",
    "loaded_structure_id = qb.all()[0][0].pk\n",
    "\n",
    "# Read YAML file\n",
    "with open(\"../configuration/codes_localhost.yaml\", 'r') as stream:\n",
    "    codes = yaml.safe_load(stream)\n",
    "    \n",
    "with open(\"../configuration/resources_localhost.yaml\", 'r') as stream:\n",
    "    resources = yaml.safe_load(stream)\n",
    "    \n",
    "options = {\n",
    "    'pseudo_family':\"PseudoDojo/0.4/PBE/SR/standard/upf\",\n",
    "    'protocol':'fast',\n",
    "    #'parent_id':274, #not necessary to set; if you want it, take ytheour previously nscf id (pk) to skip the DFT part.\n",
    "    'structure_id':loaded_structure_id,\n",
    "}\n",
    "options.update(codes)"
   ]
  },
  {
   "cell_type": "code",
   "execution_count": 2,
   "id": "b9b44aed",
   "metadata": {},
   "outputs": [
    {
     "name": "stdout",
     "output_type": "stream",
     "text": [
      "Summary of the main inputs:\n",
      "BndsRnXp = 150\n",
      "GbndRnge = 150\n",
      "NGsBlkXp = 2 Ry\n",
      "FFTGvecs = 9 Ry\n",
      "\n",
      "\n",
      "kpoint mesh for nscf: [6, 6, 6]\n"
     ]
    },
    {
     "name": "stderr",
     "output_type": "stream",
     "text": [
      "/home/max/.conda/envs/aiida/lib/python3.9/site-packages/aiida_quantumespresso/calculations/pw.py:211: UserWarning: `parent_folder` not provided for `nscf` calculation. For work chains wrapping this calculation, you can disable this warning by excluding the `parent_folder` when exposing the inputs of the `PwCalculation`.\n",
      "  warnings.warn(\n"
     ]
    }
   ],
   "source": [
    "YamboConvergence = WorkflowFactory('yambo.yambo.yamboconvergence')\n",
    "builder = YamboConvergence.get_builder_from_protocol(\n",
    "    pw_code = options['pwcode_id'],\n",
    "    preprocessing_code = options['yamboprecode_id'],\n",
    "    code = options['yambocode_id'],\n",
    "    protocol=options['protocol'],\n",
    "    protocol_qe=options['protocol'],\n",
    "    structure=orm.load_node(options['structure_id']),\n",
    "    overrides={},\n",
    "    #parent_folder=load_node(options['parent_id']).outputs.remote_folder,\n",
    "    electronic_type=ElectronicType.INSULATOR, #default is METAL: smearing is used\n",
    "    calc_type='gw', #or 'bse'; default is 'gw'\n",
    ")\n",
    "\n",
    "builder.ywfl.scf.pw.metadata.options = resources\n",
    "\n",
    "builder.ywfl.nscf.pw.metadata.options = builder.ywfl.scf.pw.metadata.options\n",
    "builder.ywfl.yres.yambo.metadata.options = builder.ywfl.scf.pw.metadata.options"
   ]
  },
  {
   "cell_type": "code",
   "execution_count": 3,
   "id": "70437464",
   "metadata": {},
   "outputs": [
    {
     "data": {
      "text/plain": [
       "{'fast': {'description': 'Fast protocol for a GW convergence: grid -> poor; thresholds -> poor'},\n",
       " 'moderate': {'description': 'Moderate protocol for a GW convergence: grid -> enough good for standard materials; thresholds -> moderate (5 percent)'},\n",
       " 'precise': {'description': 'precise protocol for a GW convergence: grid -> same as moderate; thresholds -> precise (1 percent)'},\n",
       " 'molecule': {'description': 'Moderate protocol for a GW convergence in molecules'}}"
      ]
     },
     "execution_count": 3,
     "metadata": {},
     "output_type": "execute_result"
    }
   ],
   "source": [
    "#You can also try different protocols:\n",
    "    \n",
    "YamboConvergence.get_available_protocols()"
   ]
  },
  {
   "cell_type": "markdown",
   "id": "62fb8c7d",
   "metadata": {},
   "source": [
    "### Overrides\n",
    "\n",
    "It is possible to modify the default inputs also during the builder creation phase, so not a posteriori. This can be done by using overrides:"
   ]
  },
  {
   "cell_type": "code",
   "execution_count": 4,
   "id": "d4cc34f9",
   "metadata": {},
   "outputs": [],
   "source": [
    "overrides_scf = {\n",
    "        'pseudo_family': \"PseudoDojo/0.4/PBE/SR/standard/upf\", \n",
    "        'pw':{\n",
    "            'parameters':{\n",
    "                'CONTROL':{}, #not needed if you don't override something\n",
    "                'SYSTEM':{\"ecutwfc\":70,\"ecutrho\":70*4},\n",
    "            },\n",
    "           'metadata':{\"options\":resources},\n",
    "        },\n",
    "    }\n",
    "\n",
    "overrides_nscf = {\n",
    "        'pseudo_family': \"PseudoDojo/0.4/PBE/SR/standard/upf\", \n",
    "        'pw': {\n",
    "            'parameters':{\n",
    "                'CONTROL':{}, #not needed if you don't override something\n",
    "                'SYSTEM':{\"ecutwfc\":70,\"ecutrho\":70*4},\n",
    "                'ELECTRONS':{'diagonalization':'david'},\n",
    "            },\n",
    "             'metadata':{\"options\":resources},\n",
    "    },\n",
    "}\n",
    "\n",
    "overrides_yambo = {\n",
    "        \"yambo\": {\n",
    "            \"parameters\": {\n",
    "                \"arguments\": [\n",
    "                    \"rim_cut\",\n",
    "                ],\n",
    "                \"variables\": {\n",
    "                    \"NGsBlkXp\": [4, \"Ry\"],\n",
    "                    \"FFTGvecs\": [20, \"Ry\"],\n",
    "                },\n",
    "            },\n",
    "        'metadata':{\"options\":resources},\n",
    "        },\n",
    "    \n",
    "}\n"
   ]
  },
  {
   "cell_type": "markdown",
   "id": "2eeb111a",
   "metadata": {},
   "source": [
    "## providing additional convergence settings\n",
    "\n",
    "In the following we provide additional convergence settings, namely:\n",
    "\n",
    "- 'what': a list of quantities to be computed, following the same naming style of the `YamboWorkflow` additional parsing list;\n",
    "- 'type': 'heavy', or 'cheap'; heavy keep the converged parameters as obtained in previous iterations; for example, if I convergence k-mesh and then bands, in the bands convergence we will use the converged k-mesh. This will make the calculation more and more computational demanding, but in the end we will obtain the true converged results, not only the converged parameters values."
   ]
  },
  {
   "cell_type": "code",
   "execution_count": 5,
   "id": "6195dea0",
   "metadata": {},
   "outputs": [],
   "source": [
    "overrides_wfl_settings = {\n",
    "    'what':['gap_'],\n",
    "    'type': 'heavy', #or cheap; heavy uses converged value for parameters that we are not converging in a given iteration.\n",
    "    }"
   ]
  },
  {
   "cell_type": "markdown",
   "id": "e7384790",
   "metadata": {},
   "source": [
    "the quantities that we can converge are the ones that can be parsed by the \n",
    "``YamboWorkflow`` workchain: quasiparticle levels/gaps, and excitonic energies:\n",
    "\n",
    "* 'gap_': gap as found from nscf calculation (may differ from the final GW band gap, in terms of value and k-point indexes);\n",
    "* 'gap_GG': gap at the Gamma point;\n",
    "* 'lowest_exciton': lowest exciton from BSE;\n",
    "* 'brightest_exciton': brightest exciton from BSE."
   ]
  },
  {
   "cell_type": "code",
   "execution_count": 6,
   "id": "cac1d622",
   "metadata": {},
   "outputs": [],
   "source": [
    "#setting the overall overrides dictionary.\n",
    "\n",
    "overrides = {\n",
    "    'ywfl':{'scf':overrides_scf,'nscf':overrides_nscf,'yres':overrides_yambo},\n",
    "    'workflow_settings':overrides_wfl_settings,\n",
    "    }"
   ]
  },
  {
   "cell_type": "code",
   "execution_count": 7,
   "id": "57339397",
   "metadata": {},
   "outputs": [
    {
     "name": "stdout",
     "output_type": "stream",
     "text": [
      "Summary of the main inputs:\n",
      "BndsRnXp = 150\n",
      "GbndRnge = 150\n",
      "NGsBlkXp = 4 Ry\n",
      "FFTGvecs = 20 Ry\n",
      "\n",
      "\n",
      "kpoint mesh for nscf: [6, 6, 6]\n"
     ]
    },
    {
     "name": "stderr",
     "output_type": "stream",
     "text": [
      "/home/max/.conda/envs/aiida/lib/python3.9/site-packages/aiida_quantumespresso/calculations/pw.py:211: UserWarning: `parent_folder` not provided for `nscf` calculation. For work chains wrapping this calculation, you can disable this warning by excluding the `parent_folder` when exposing the inputs of the `PwCalculation`.\n",
      "  warnings.warn(\n"
     ]
    }
   ],
   "source": [
    "builder = YamboConvergence.get_builder_from_protocol(\n",
    "    pw_code = options['pwcode_id'],\n",
    "    preprocessing_code = options['yamboprecode_id'],\n",
    "    code = options['yambocode_id'],\n",
    "    protocol=options['protocol'],\n",
    "    protocol_qe=options['protocol'],\n",
    "    structure= orm.load_node(options['structure_id']),\n",
    "    overrides=overrides,\n",
    "    pseudo_family = options[\"pseudo_family\"],\n",
    "    #parent_folder=load_node(options['parent_id']).outputs.remote_folder,\n",
    "    electronic_type=ElectronicType.INSULATOR, #default is METAL: smearing is used\n",
    "    calc_type='gw', #or 'bse'; default is 'gw'\n",
    ")\n",
    "\n"
   ]
  },
  {
   "cell_type": "markdown",
   "id": "655b8ca2",
   "metadata": {},
   "source": [
    "### Inspecting the convergence space:"
   ]
  },
  {
   "cell_type": "code",
   "execution_count": 8,
   "id": "1a1ebb67",
   "metadata": {},
   "outputs": [
    {
     "data": {
      "text/plain": [
       "[{'var': ['FFTGvecs'],\n",
       "  'start': 17,\n",
       "  'stop': 49,\n",
       "  'delta': 7,\n",
       "  'max': 70,\n",
       "  'steps': 4,\n",
       "  'max_iterations': 4,\n",
       "  'conv_thr': 10,\n",
       "  'conv_thr_units': '%',\n",
       "  'convergence_algorithm': 'new_algorithm_1D'},\n",
       " {'var': ['kpoint_mesh'],\n",
       "  'start': [4, 4, 4],\n",
       "  'stop': [12, 12, 12],\n",
       "  'delta': [1, 1, 1],\n",
       "  'max': [22, 22, 22],\n",
       "  'steps': 4,\n",
       "  'max_iterations': 4,\n",
       "  'conv_thr': 10,\n",
       "  'conv_thr_units': '%',\n",
       "  'convergence_algorithm': 'new_algorithm_1D'},\n",
       " {'var': ['BndsRnXp', 'GbndRnge', 'NGsBlkXp'],\n",
       "  'start': [200, 200, 6],\n",
       "  'stop': [800, 800, 18],\n",
       "  'delta': [100, 100, 2],\n",
       "  'max': [2000, 2000, 40],\n",
       "  'steps': 6,\n",
       "  'max_iterations': 8,\n",
       "  'conv_thr': 10,\n",
       "  'conv_thr_units': '%',\n",
       "  'convergence_algorithm': 'new_algorithm_2D'}]"
      ]
     },
     "execution_count": 8,
     "metadata": {},
     "output_type": "execute_result"
    }
   ],
   "source": [
    "builder.parameters_space.get_list()"
   ]
  },
  {
   "cell_type": "markdown",
   "id": "7a33a651",
   "metadata": {},
   "source": [
    "The workflow will follow such a list, from `FFTGvecs`, `kpoint_mesh` and then to `BndsRnXp, GbndRnge, NGsBlkXp`, performing each of the three iterations trying to convergence the corresponding parameters. Please note that the last step (`BndsRnXp, GbndRnge, NGsBlkXp`) will perform the convergence of the coupled parameters *BndsRnXp=GbndRnge* and *NGsBlkXp*. Depending on your system, a good convergence journey would be ['FFTGvecs'] -> ['BndsRnXp', 'GbndRnge', 'NGsBlkXp'] -> ['kpoint_mesh']. \n",
    "\n",
    "We can provide an ad hoc convergence space:"
   ]
  },
  {
   "cell_type": "code",
   "execution_count": 9,
   "id": "ca92fda9",
   "metadata": {},
   "outputs": [],
   "source": [
    "builder.parameters_space=orm.List(\n",
    "    [{'var': ['FFTGvecs'],\n",
    "      'start': 21,\n",
    "      'stop': 58,\n",
    "      'delta': 8,\n",
    "      'max': 84,\n",
    "      'steps': 4,\n",
    "      'max_iterations': 4,\n",
    "      'conv_thr': 10,\n",
    "      'conv_thr_units': '%',\n",
    "      'convergence_algorithm': 'new_algorithm_1D'},   #we are converging 1 parameter\n",
    "     #{'var': ['kpoint_mesh'],\n",
    "     # 'start': [4, 4, 2],\n",
    "     # 'stop': [16, 16, 6],\n",
    "     # 'delta': [3, 3, 3],\n",
    "     # 'max': [30, 30, 10],\n",
    "     # 'steps': 4,\n",
    "     # 'max_iterations': 4,\n",
    "     # 'conv_thr': 10,\n",
    "     # 'conv_thr_units': '%',\n",
    "     # 'convergence_algorithm': 'new_algorithm_1D'},\n",
    "     {'var': ['BndsRnXp', 'GbndRnge', 'NGsBlkXp'],\n",
    "      'start': [50,50,2],                           #starting values\n",
    "      'stop': [400,400, 8],                          #maximum values for the first grid\n",
    "      'delta': [50, 50, 1],                           #grid spacing\n",
    "      'max': [1000, 1000, 16],                          #maximum values for the largest grid possible\n",
    "      'steps': 6,                                     #steps/calculation per iteration. For ['BndsRnXp', 'GbndRnge', 'NGsBlkXp'], always 6\n",
    "      'max_iterations': 8,                            #maximum attempts\n",
    "      'conv_thr': 10,                                 #converge threshold\n",
    "      'conv_thr_units': '%',                          #converge threshold units: '%' is the relative error with respect to the most converged value; can be also 'eV'\n",
    "      'convergence_algorithm': 'new_algorithm_2D'}],  #we are converging actually 2 parameters: bands\n",
    ")"
   ]
  },
  {
   "cell_type": "markdown",
   "id": "9d39863c",
   "metadata": {},
   "source": [
    "### Parameter-dependent resources\n",
    "\n",
    "As you can imagine, increasing the parameters of the simulations may require also the change of the related computational resources, in order to be able to successfully perform them. \n",
    "Before the submission of the WorkChain, we can provide instructions on how to continously adapt the resources when parameters are changing.\n",
    "\n",
    "In particular, we provide two dictionaries:\n",
    "- parallelism instructions\n",
    "- explicit resources instructions"
   ]
  },
  {
   "cell_type": "code",
   "execution_count": 10,
   "id": "438114f6",
   "metadata": {},
   "outputs": [],
   "source": [
    "dict_para_medium = {}\n",
    "dict_para_medium['X_and_IO_CPU'] = '1 1 1 1 1'\n",
    "dict_para_medium['X_and_IO_ROLEs'] = 'q k g c v'\n",
    "dict_para_medium['DIP_CPU'] = '1 1 1'\n",
    "dict_para_medium['DIP_ROLEs'] = 'k c v'\n",
    "dict_para_medium['SE_CPU'] = '1 1 1'\n",
    "dict_para_medium['SE_ROLEs'] = 'q qp b'\n",
    "\n",
    "dict_res_medium = {\n",
    "        \"num_machines\": 1,\n",
    "        \"num_mpiprocs_per_machine\":1,\n",
    "        \"num_cores_per_mpiproc\":1,\n",
    "    }\n",
    "\n",
    "dict_para_high = {}\n",
    "dict_para_high['X_and_IO_CPU'] = '1 1 1 2 1' \n",
    "dict_para_high['X_and_IO_ROLEs'] = 'q k g c v'\n",
    "dict_para_high['DIP_CPU'] = '1 2 1'\n",
    "dict_para_high['DIP_ROLEs'] = 'k c v'\n",
    "dict_para_high['SE_CPU'] = '1 1 2'\n",
    "dict_para_high['SE_ROLEs'] = 'q qp b'\n",
    "\n",
    "dict_res_high = {\n",
    "        \"num_machines\": 1,\n",
    "        \"num_mpiprocs_per_machine\":2,\n",
    "        \"num_cores_per_mpiproc\":1,\n",
    "    }\n",
    "\n",
    "parallelism_instructions_manual = orm.Dict(dict={'manual' : {                                                            \n",
    "                                                            'std_1':{\n",
    "                                                                    'BndsRnXp':[1,100], #range for bands where to use the dict_para_medium and dict_res_medium instructions.\n",
    "                                                                    'NGsBlkXp':[2,18],\n",
    "                                                                    'parallelism':dict_para_medium,\n",
    "                                                                    'resources':dict_res_medium,\n",
    "                                                                    },\n",
    "                                                            'std_2':{\n",
    "                                                                    'BndsRnXp':[101,1000],\n",
    "                                                                    'NGsBlkXp':[2,18],\n",
    "                                                                    'parallelism':dict_para_high,\n",
    "                                                                    'resources':dict_res_high,\n",
    "                                                                    },}})"
   ]
  },
  {
   "cell_type": "markdown",
   "id": "51ed29d1",
   "metadata": {},
   "source": [
    "We can just provide, together with the resources, the `mode` which yambo will use to automatically set up its parallelism, if we are not sure on how to decide the explicit parallelism instructions."
   ]
  },
  {
   "cell_type": "code",
   "execution_count": 11,
   "id": "e55c32d8",
   "metadata": {},
   "outputs": [],
   "source": [
    "parallelism_instructions_auto = orm.Dict(dict={'automatic' : {                                                            \n",
    "                                                            'std_1':{\n",
    "                                                                    'BndsRnXp':[1,100],\n",
    "                                                                    'NGsBlkXp':[1,18],\n",
    "                                                                    'mode':'balanced',\n",
    "                                                                    'resources':dict_res_medium,\n",
    "                                                                    },\n",
    "                                                            'std_2':{\n",
    "                                                                    'BndsRnXp':[101,1000],\n",
    "                                                                    'NGsBlkXp':[1,18],\n",
    "                                                                    'mode':'memory',\n",
    "                                                                    'resources':dict_res_high,\n",
    "                                                                    },}})"
   ]
  },
  {
   "cell_type": "code",
   "execution_count": 12,
   "id": "63d81f05",
   "metadata": {},
   "outputs": [],
   "source": [
    "builder.parallelism_instructions = parallelism_instructions_auto"
   ]
  },
  {
   "cell_type": "markdown",
   "id": "3e27731e",
   "metadata": {},
   "source": [
    "### Providing an AiiDA group where to collect all the convergence simulations\n",
    "\n",
    "When `YamboConvergence` is submitted, it automatically creates a group where to put all the simulations. Each time a simulation is ready to be submitted, there is an internal check in the group, to understand\n",
    "if an identical simulation has been already performed. In that case, the submission is skipped and we reuse the results to perform our analysis. This is a sort of ad-hoc [caching](https://aiida.readthedocs.io/projects/aiida-core/en/latest/topics/provenance/caching.html), which however does not duplicate the involved nodes. \n",
    "\n",
    "We prefer to just reuse the results as often even the retrieved files for yambo simulations are heavy (`ndb.QP` for example).\n",
    "\n",
    "It is possible also to provide a custom group, by means of the `group_label` input String."
   ]
  },
  {
   "cell_type": "code",
   "execution_count": 13,
   "id": "46955289",
   "metadata": {},
   "outputs": [],
   "source": [
    "try:\n",
    "    g = orm.load_group('tutorial/Silicon/convergence/GW')\n",
    "except:\n",
    "    g = orm.Group('tutorial/Silicon/convergence/GW')\n",
    "    g.store()"
   ]
  },
  {
   "cell_type": "code",
   "execution_count": 14,
   "id": "1142fcc8",
   "metadata": {},
   "outputs": [],
   "source": [
    "builder.group_label = orm.Str('tutorial/Silicon/convergence/GW') # verdi group create tutorial/Silicon/convergence; all calculationsc are added to the group"
   ]
  },
  {
   "cell_type": "markdown",
   "id": "dd1b9c62",
   "metadata": {},
   "source": [
    "### Run"
   ]
  },
  {
   "cell_type": "code",
   "execution_count": 15,
   "id": "9e1cf68e",
   "metadata": {},
   "outputs": [],
   "source": [
    "from aiida.engine import submit"
   ]
  },
  {
   "cell_type": "code",
   "execution_count": 16,
   "id": "78614e86",
   "metadata": {},
   "outputs": [],
   "source": [
    "run = None"
   ]
  },
  {
   "cell_type": "code",
   "execution_count": 17,
   "id": "196e4b6d",
   "metadata": {},
   "outputs": [
    {
     "name": "stderr",
     "output_type": "stream",
     "text": [
      "/home/max/.conda/envs/aiida/lib/python3.9/site-packages/aiida_quantumespresso/calculations/pw.py:211: UserWarning: `parent_folder` not provided for `nscf` calculation. For work chains wrapping this calculation, you can disable this warning by excluding the `parent_folder` when exposing the inputs of the `PwCalculation`.\n",
      "  warnings.warn(\n"
     ]
    },
    {
     "name": "stdout",
     "output_type": "stream",
     "text": [
      "uuid: a608831e-f6c3-4d39-83b3-a46f8bb4182b (pk: 4140) (aiida.workflows:yambo.yambo.yamboconvergence)\n"
     ]
    }
   ],
   "source": [
    "if run:\n",
    "    print('run is already running -> {}'.format(run.pk))\n",
    "    print('sure that you want to run again?, if so, copy the else instruction in the cell below and run!')\n",
    "else:\n",
    "    run = submit(builder)\n",
    "\n",
    "print(run)"
   ]
  },
  {
   "cell_type": "code",
   "execution_count": 20,
   "id": "2700857f",
   "metadata": {
    "scrolled": false
   },
   "outputs": [
    {
     "name": "stdout",
     "output_type": "stream",
     "text": [
      "\u001b[22m2024-02-15 17:56:53 [2636 | REPORT]: [4140|YamboConvergence|start_workflow]: group: tutorial/Silicon/convergence/GW\n",
      "2024-02-15 17:56:54 [2637 | REPORT]: [4140|YamboConvergence|start_workflow]: Workflow type: heavy; looking for convergence of ['gap_']\n",
      "2024-02-15 17:56:54 [2638 | REPORT]: [4140|YamboConvergence|start_workflow]: Workflow initilization step completed, the parameters will be: ['FFTGvecs'].\n",
      "2024-02-15 17:56:54 [2639 | REPORT]: [4140|YamboConvergence|has_to_continue]: Still iteration on ['FFTGvecs']\n",
      "2024-02-15 17:56:54 [2640 | REPORT]: [4140|YamboConvergence|pre_needed]: {'FFTGvecs': [21, 37, 45, 58], 'BndsRnXp': [50, 400, 50, 150, 300, 400], 'NGsBlkXp': [2, 2, 8, 6, 4, 8], 'GbndRnge': [50, 400, 50, 150, 300, 400]}\n",
      "2024-02-15 17:56:54 [2641 | REPORT]: [4140|YamboConvergence|pre_needed]: ['GW bands are: 150', 'scf inputs found', 'nscf inputs found']\n",
      "2024-02-15 17:56:54 [2642 | REPORT]: [4140|YamboConvergence|do_pre]: mesh check\n",
      "2024-02-15 17:56:54 [2643 | REPORT]: [4140|YamboConvergence|do_pre]: doing the calculation: p2y\n",
      "2024-02-15 17:56:56 [2644 | REPORT]: [4140|YamboConvergence|do_pre]: Submitted YamboWorkflow up to p2y, pk = 4145\n",
      "2024-02-15 17:56:57 [2645 | REPORT]:   [4145|YamboWorkflow|start_workflow]: no previous pw calculation found, we will start from scratch\n",
      "2024-02-15 17:56:57 [2646 | REPORT]:   [4145|YamboWorkflow|start_workflow]:  workflow initilization step completed.\n",
      "2024-02-15 17:56:57 [2647 | REPORT]:   [4145|YamboWorkflow|can_continue]: the workflow continues with a scf calculation\n",
      "2024-02-15 17:56:57 [2648 | REPORT]:   [4145|YamboWorkflow|perform_next]: performing a scf calculation\n",
      "2024-02-15 17:56:59 [2649 | REPORT]:     [4147|PwBaseWorkChain|run_process]: launching PwCalculation<4152> iteration #1\n",
      "2024-02-15 17:57:12 [2650 | REPORT]:     [4147|PwBaseWorkChain|results]: work chain completed after 1 iterations\n",
      "2024-02-15 17:57:12 [2651 | REPORT]:     [4147|PwBaseWorkChain|on_terminated]: remote folders will not be cleaned\n",
      "2024-02-15 17:57:12 [2652 | REPORT]:   [4145|YamboWorkflow|can_continue]: the workflow continues with a nscf calculation\n",
      "2024-02-15 17:57:12 [2653 | REPORT]:   [4145|YamboWorkflow|perform_next]: performing a nscf calculation\n",
      "2024-02-15 17:57:14 [2654 | REPORT]:     [4158|PwBaseWorkChain|run_process]: launching PwCalculation<4161> iteration #1\n",
      "2024-02-15 17:57:50 [2655 | REPORT]:     [4158|PwBaseWorkChain|results]: work chain completed after 1 iterations\n",
      "2024-02-15 17:57:50 [2656 | REPORT]:     [4158|PwBaseWorkChain|on_terminated]: remote folders will not be cleaned\n",
      "2024-02-15 17:57:50 [2657 | REPORT]:   [4145|YamboWorkflow|can_continue]: the workflow continues with a yambo calculation\n",
      "2024-02-15 17:57:50 [2658 | REPORT]:   [4145|YamboWorkflow|perform_next]: performing a yambo calculation\n",
      "2024-02-15 17:57:52 [2659 | REPORT]:     [4167|YamboRestart|run_process]: launching YamboCalculation<4168> iteration #1\n",
      "2024-02-15 17:57:59 [2660 | REPORT]:     [4167|YamboRestart|results]: work chain completed after 1 iterations\n",
      "2024-02-15 17:57:59 [2661 | REPORT]:     [4167|YamboRestart|on_terminated]: remote folders will not be cleaned\n",
      "2024-02-15 17:58:00 [2662 | REPORT]:   [4145|YamboWorkflow|can_continue]: workflow is finished\n",
      "2024-02-15 17:58:00 [2663 | REPORT]:   [4145|YamboWorkflow|post_processing_needed]: no post processing needed\n",
      "2024-02-15 17:58:00 [2664 | REPORT]:   [4145|YamboWorkflow|report_wf]: workflow completed successfully\n",
      "2024-02-15 17:58:01 [2665 | REPORT]: [4140|YamboConvergence|prepare_calculations]: setting the pre calc remote folder 4169 as parent\n",
      "2024-02-15 17:58:01 [2666 | REPORT]: [4140|YamboConvergence|next_step]: New parameters are: {'FFTGvecs': 21}\n",
      "2024-02-15 17:58:04 [2667 | REPORT]: [4140|YamboConvergence|next_step]: New parameters are: {'FFTGvecs': 37}\n",
      "2024-02-15 17:58:07 [2668 | REPORT]: [4140|YamboConvergence|next_step]: New parameters are: {'FFTGvecs': 45}\n",
      "2024-02-15 17:58:09 [2669 | REPORT]: [4140|YamboConvergence|next_step]: New parameters are: {'FFTGvecs': 58}\n",
      "2024-02-15 17:58:12 [2670 | REPORT]:   [4173|YamboWorkflow|start_workflow]:  workflow initilization step completed.\n",
      "2024-02-15 17:58:12 [2671 | REPORT]:   [4173|YamboWorkflow|can_continue]: the workflow continues with a yambo calculation\n",
      "2024-02-15 17:58:12 [2672 | REPORT]:   [4173|YamboWorkflow|perform_next]: performing a yambo calculation\n",
      "2024-02-15 17:58:12 [2673 | REPORT]:   [4173|YamboWorkflow|perform_next]: updating yambo parameters to parse more results\n",
      "2024-02-15 17:58:13 [2674 | REPORT]:   [4173|YamboWorkflow|perform_next]: {'dft_predicted': 'semiconductor/insulator', 'valence': 4, 'conduction': 5, 'number_of_kpoints': 8, 'nscf_gap_eV': 0.665, 'homo_k': 1, 'lumo_k': 7, 'gap_type': 'indirect', 'gap_': [[1, 1, 4, 4], [7, 7, 5, 5]], 'soc': False, 'magnetic_calculation': False}\n",
      "2024-02-15 17:58:14 [2675 | REPORT]:   [4175|YamboWorkflow|start_workflow]:  workflow initilization step completed.\n",
      "2024-02-15 17:58:14 [2676 | REPORT]:   [4175|YamboWorkflow|can_continue]: the workflow continues with a yambo calculation\n",
      "2024-02-15 17:58:14 [2677 | REPORT]:   [4175|YamboWorkflow|perform_next]: performing a yambo calculation\n",
      "2024-02-15 17:58:14 [2678 | REPORT]:   [4175|YamboWorkflow|perform_next]: updating yambo parameters to parse more results\n",
      "2024-02-15 17:58:14 [2679 | REPORT]:   [4175|YamboWorkflow|perform_next]: {'dft_predicted': 'semiconductor/insulator', 'valence': 4, 'conduction': 5, 'number_of_kpoints': 8, 'nscf_gap_eV': 0.665, 'homo_k': 1, 'lumo_k': 7, 'gap_type': 'indirect', 'gap_': [[1, 1, 4, 4], [7, 7, 5, 5]], 'soc': False, 'magnetic_calculation': False}\n",
      "2024-02-15 17:58:16 [2680 | REPORT]:   [4177|YamboWorkflow|start_workflow]:  workflow initilization step completed.\n",
      "2024-02-15 17:58:16 [2681 | REPORT]:   [4177|YamboWorkflow|can_continue]: the workflow continues with a yambo calculation\n",
      "2024-02-15 17:58:16 [2682 | REPORT]:   [4177|YamboWorkflow|perform_next]: performing a yambo calculation\n",
      "2024-02-15 17:58:16 [2683 | REPORT]:   [4177|YamboWorkflow|perform_next]: updating yambo parameters to parse more results\n",
      "2024-02-15 17:58:16 [2684 | REPORT]:   [4177|YamboWorkflow|perform_next]: {'dft_predicted': 'semiconductor/insulator', 'valence': 4, 'conduction': 5, 'number_of_kpoints': 8, 'nscf_gap_eV': 0.665, 'homo_k': 1, 'lumo_k': 7, 'gap_type': 'indirect', 'gap_': [[1, 1, 4, 4], [7, 7, 5, 5]], 'soc': False, 'magnetic_calculation': False}\n",
      "2024-02-15 17:58:18 [2685 | REPORT]:   [4179|YamboWorkflow|start_workflow]:  workflow initilization step completed.\n",
      "2024-02-15 17:58:18 [2686 | REPORT]:   [4179|YamboWorkflow|can_continue]: the workflow continues with a yambo calculation\n",
      "2024-02-15 17:58:18 [2687 | REPORT]:   [4179|YamboWorkflow|perform_next]: performing a yambo calculation\n",
      "2024-02-15 17:58:18 [2688 | REPORT]:   [4179|YamboWorkflow|perform_next]: updating yambo parameters to parse more results\n",
      "2024-02-15 17:58:18 [2689 | REPORT]:   [4179|YamboWorkflow|perform_next]: {'dft_predicted': 'semiconductor/insulator', 'valence': 4, 'conduction': 5, 'number_of_kpoints': 8, 'nscf_gap_eV': 0.665, 'homo_k': 1, 'lumo_k': 7, 'gap_type': 'indirect', 'gap_': [[1, 1, 4, 4], [7, 7, 5, 5]], 'soc': False, 'magnetic_calculation': False}\n",
      "2024-02-15 17:58:20 [2690 | REPORT]:     [4181|YamboRestart|run_process]: launching YamboCalculation<4188> iteration #1\n",
      "2024-02-15 17:58:21 [2691 | REPORT]:     [4183|YamboRestart|run_process]: launching YamboCalculation<4189> iteration #1\n",
      "2024-02-15 17:58:22 [2692 | REPORT]:     [4185|YamboRestart|run_process]: launching YamboCalculation<4190> iteration #1\n",
      "2024-02-15 17:58:24 [2693 | REPORT]:     [4187|YamboRestart|run_process]: launching YamboCalculation<4191> iteration #1\n",
      "2024-02-15 17:58:53 [2694 | REPORT]:     [4181|YamboRestart|results]: work chain completed after 1 iterations\n",
      "2024-02-15 17:58:54 [2695 | REPORT]:     [4181|YamboRestart|on_terminated]: remote folders will not be cleaned\n",
      "2024-02-15 17:58:54 [2696 | REPORT]:   [4173|YamboWorkflow|can_continue]: workflow is finished\n",
      "2024-02-15 17:58:54 [2697 | REPORT]:   [4173|YamboWorkflow|post_processing_needed]: no post processing needed\n",
      "2024-02-15 17:58:55 [2698 | REPORT]:   [4173|YamboWorkflow|report_wf]: PARSED: {'gap_': 1.052618510735035, 'homo': -0.2454703648686409, 'lumo': 0.807148145866394, 'gap_dft': 0.6646806137740612, 'homo_dft': 0.0, 'lumo_dft': 0.6646806137740612}\n",
      "2024-02-15 17:58:55 [2699 | REPORT]:   [4173|YamboWorkflow|report_wf]: workflow completed successfully\n",
      "2024-02-15 17:58:58 [2700 | REPORT]:     [4183|YamboRestart|results]: work chain completed after 1 iterations\n",
      "2024-02-15 17:58:58 [2701 | REPORT]:     [4183|YamboRestart|on_terminated]: remote folders will not be cleaned\n",
      "2024-02-15 17:58:59 [2702 | REPORT]:   [4175|YamboWorkflow|can_continue]: workflow is finished\n",
      "2024-02-15 17:58:59 [2703 | REPORT]:   [4175|YamboWorkflow|post_processing_needed]: no post processing needed\n",
      "2024-02-15 17:59:00 [2704 | REPORT]:   [4175|YamboWorkflow|report_wf]: PARSED: {'gap_': 1.0522333033502103, 'homo': -0.2460153319478035, 'lumo': 0.8062179714024067, 'gap_dft': 0.6646806137740612, 'homo_dft': 0.0, 'lumo_dft': 0.6646806137740612}\n",
      "2024-02-15 17:59:00 [2705 | REPORT]:   [4175|YamboWorkflow|report_wf]: workflow completed successfully\n",
      "2024-02-15 17:59:23 [2706 | REPORT]:     [4185|YamboRestart|results]: work chain completed after 1 iterations\n",
      "2024-02-15 17:59:23 [2707 | REPORT]:     [4185|YamboRestart|on_terminated]: remote folders will not be cleaned\n",
      "2024-02-15 17:59:24 [2708 | REPORT]:   [4177|YamboWorkflow|can_continue]: workflow is finished\n",
      "2024-02-15 17:59:24 [2709 | REPORT]:   [4177|YamboWorkflow|post_processing_needed]: no post processing needed\n",
      "2024-02-15 17:59:24 [2710 | REPORT]:   [4177|YamboWorkflow|report_wf]: PARSED: {'gap_': 1.052240602016449, 'homo': -0.2460696664631367, 'lumo': 0.8061709355533123, 'gap_dft': 0.6646806137740612, 'homo_dft': 0.0, 'lumo_dft': 0.6646806137740612}\n",
      "2024-02-15 17:59:25 [2711 | REPORT]:   [4177|YamboWorkflow|report_wf]: workflow completed successfully\n",
      "2024-02-15 17:59:50 [2712 | REPORT]:     [4187|YamboRestart|results]: work chain completed after 1 iterations\n",
      "2024-02-15 17:59:50 [2713 | REPORT]:     [4187|YamboRestart|on_terminated]: remote folders will not be cleaned\n",
      "2024-02-15 17:59:50 [2714 | REPORT]:   [4179|YamboWorkflow|can_continue]: workflow is finished\n",
      "2024-02-15 17:59:50 [2715 | REPORT]:   [4179|YamboWorkflow|post_processing_needed]: no post processing needed\n",
      "2024-02-15 17:59:51 [2716 | REPORT]:   [4179|YamboWorkflow|report_wf]: PARSED: {'gap_': 1.0522268156468868, 'homo': -0.24605344720482827, 'lumo': 0.8061733684420586, 'gap_dft': 0.6646806137740612, 'homo_dft': 0.0, 'lumo_dft': 0.6646806137740612}\n",
      "2024-02-15 17:59:51 [2717 | REPORT]:   [4179|YamboWorkflow|report_wf]: workflow completed successfully\n",
      "2024-02-15 17:59:52 [2718 | REPORT]: [4140|YamboConvergence|data_analysis]: Data analysis, we will try to parse some result and decide what next.\n",
      "2024-02-15 17:59:53 [2719 | REPORT]: [4140|YamboConvergence|data_analysis]:    FFTGvecs  BndsRnXp  ...      gap_                                  uuid\n",
      "0        21       150  ...  1.052619  fe4dbf32-5b75-4eef-bb92-956091597800\n",
      "1        37       150  ...  1.052233  7bbf9cf7-31c8-4cab-b906-464caccd0288\n",
      "2        45       150  ...  1.052241  89935ccd-da88-4b4e-8282-0099988c7cf3\n",
      "3        58       150  ...  1.052227  50640635-5675-41e8-a5af-b55da47a8fbf\n",
      "\n",
      "[4 rows x 6 columns]\n",
      "2024-02-15 17:59:53 [2720 | REPORT]: [4140|YamboConvergence|data_analysis]: results ['gap_']\n",
      ":{'gap_': array([1.05261851, 1.0522333 , 1.0522406 , 1.05222682])}\n",
      "2024-02-15 17:59:53 [2721 | REPORT]: [4140|YamboConvergence|data_analysis]: HINTS: {'FFTGvecs': 21, 'gap_': 1.052618510735, 'already_computed': True, 'E_ref': 1.0522142602331361, 'new_grid': False, 'extrapolation': 1.052187715313548, 'extrapolation_units': 'eV'}\n",
      "2024-02-15 17:59:53 [2722 | REPORT]: [4140|YamboConvergence|data_analysis]: Success, updating the history... \n",
      "2024-02-15 17:59:53 [2723 | REPORT]: [4140|YamboConvergence|data_analysis]: Success on ['FFTGvecs'] reached in 4 calculations, the result is [[1.05261851]]\n",
      "2024-02-15 17:59:53 [2724 | REPORT]: [4140|YamboConvergence|data_analysis]: {'type': 'heavy', 'what': ['gap_'], 'skip_pre': False, 'max': 84, 'var': ['FFTGvecs'], 'stop': 58, 'delta': 8, 'start': 21, 'iter': 1, 'G_iter': 1, 'success': True, 'skipped': 0, 'conv_thr': 10, 'conv_thr_units': '%', 'ratio': 1.2, 'max_iterations': 4, 'steps': 4, 'conv_window': 4, 'functional_form': 'power_law', 'convergence_algorithm': 'new_algorithm_1D', 'thr_fx': 5e-05}\n",
      "2024-02-15 17:59:53 [2725 | REPORT]: [4140|YamboConvergence|data_analysis]: {'FFTGvecs': 21, 'gap_': 1.052618510735, 'already_computed': True, 'E_ref': 1.0522142602331361, 'new_grid': False, 'extrapolation_units': 'eV'}\n",
      "2024-02-15 17:59:53 [2726 | REPORT]: [4140|YamboConvergence|has_to_continue]: Next parameters: ['BndsRnXp', 'GbndRnge', 'NGsBlkXp']\n",
      "2024-02-15 17:59:53 [2727 | REPORT]: [4140|YamboConvergence|has_to_continue]: Mode is \"heavy\", so we mantain the other parameters as the converged ones, if any.\n",
      "2024-02-15 17:59:53 [2728 | REPORT]: [4140|YamboConvergence|pre_needed]: {'FFTGvecs': [21], 'BndsRnXp': [50, 400, 50, 150, 300, 400], 'NGsBlkXp': [2, 2, 8, 6, 4, 8], 'GbndRnge': [50, 400, 50, 150, 300, 400]}\n",
      "2024-02-15 17:59:54 [2729 | REPORT]: [4140|YamboConvergence|pre_needed]: ['GW bands are: 150', 'found scf inputs from parent', 'found nscf inputs from parent\\n']\n",
      "2024-02-15 17:59:54 [2730 | REPORT]: [4140|YamboConvergence|do_pre]: mesh check\n",
      "2024-02-15 17:59:54 [2731 | REPORT]: [4140|YamboConvergence|do_pre]: doing the calculation: p2y\n",
      "2024-02-15 17:59:56 [2732 | REPORT]: [4140|YamboConvergence|do_pre]: Submitted YamboWorkflow up to p2y, pk = 4223\n",
      "2024-02-15 17:59:57 [2733 | REPORT]:   [4223|YamboWorkflow|start_workflow]:  workflow initilization step completed.\n",
      "2024-02-15 17:59:57 [2734 | REPORT]:   [4223|YamboWorkflow|can_continue]: the workflow continues with a nscf calculation\n",
      "2024-02-15 17:59:57 [2735 | REPORT]:   [4223|YamboWorkflow|perform_next]: performing a nscf calculation\n",
      "2024-02-15 17:59:58 [2736 | REPORT]:     [4226|PwBaseWorkChain|run_process]: launching PwCalculation<4229> iteration #1\n",
      "2024-02-15 18:02:06 [2737 | REPORT]:     [4226|PwBaseWorkChain|results]: work chain completed after 1 iterations\n",
      "2024-02-15 18:02:06 [2738 | REPORT]:     [4226|PwBaseWorkChain|on_terminated]: remote folders will not be cleaned\n",
      "2024-02-15 18:02:06 [2739 | REPORT]:   [4223|YamboWorkflow|can_continue]: the workflow continues with a yambo calculation\n",
      "2024-02-15 18:02:06 [2740 | REPORT]:   [4223|YamboWorkflow|perform_next]: performing a yambo calculation\n",
      "2024-02-15 18:02:08 [2741 | REPORT]:     [4235|YamboRestart|run_process]: launching YamboCalculation<4236> iteration #1\n",
      "2024-02-15 18:02:13 [2742 | REPORT]:     [4235|YamboRestart|results]: work chain completed after 1 iterations\n",
      "2024-02-15 18:02:14 [2743 | REPORT]:     [4235|YamboRestart|on_terminated]: remote folders will not be cleaned\n",
      "2024-02-15 18:02:14 [2744 | REPORT]:   [4223|YamboWorkflow|can_continue]: workflow is finished\n",
      "2024-02-15 18:02:14 [2745 | REPORT]:   [4223|YamboWorkflow|post_processing_needed]: no post processing needed\n",
      "2024-02-15 18:02:14 [2746 | REPORT]:   [4223|YamboWorkflow|report_wf]: workflow completed successfully\n",
      "2024-02-15 18:02:15 [2747 | REPORT]: [4140|YamboConvergence|prepare_calculations]: setting the pre calc remote folder 4237 as parent\n",
      "2024-02-15 18:02:17 [2748 | REPORT]: [4140|YamboConvergence|next_step]: New parameters are: {'BndsRnXp': 50, 'GbndRnge': 50, 'NGsBlkXp': 2}\n",
      "2024-02-15 18:02:20 [2749 | REPORT]: [4140|YamboConvergence|next_step]: New parameters are: {'BndsRnXp': 400, 'GbndRnge': 400, 'NGsBlkXp': 2}\n",
      "2024-02-15 18:02:24 [2750 | REPORT]: [4140|YamboConvergence|next_step]: New parameters are: {'BndsRnXp': 50, 'GbndRnge': 50, 'NGsBlkXp': 8}\n",
      "2024-02-15 18:02:27 [2751 | REPORT]: [4140|YamboConvergence|next_step]: New parameters are: {'BndsRnXp': 150, 'GbndRnge': 150, 'NGsBlkXp': 6}\n",
      "2024-02-15 18:02:30 [2752 | REPORT]: [4140|YamboConvergence|next_step]: New parameters are: {'BndsRnXp': 300, 'GbndRnge': 300, 'NGsBlkXp': 4}\n",
      "2024-02-15 18:02:33 [2753 | REPORT]: [4140|YamboConvergence|next_step]: New parameters are: {'BndsRnXp': 400, 'GbndRnge': 400, 'NGsBlkXp': 8}\n",
      "2024-02-15 18:02:37 [2754 | REPORT]:   [4241|YamboWorkflow|start_workflow]:  workflow initilization step completed.\n",
      "2024-02-15 18:02:37 [2755 | REPORT]:   [4241|YamboWorkflow|can_continue]: the workflow continues with a yambo calculation\n",
      "2024-02-15 18:02:37 [2756 | REPORT]:   [4241|YamboWorkflow|perform_next]: performing a yambo calculation\n",
      "2024-02-15 18:02:37 [2757 | REPORT]:   [4241|YamboWorkflow|perform_next]: updating yambo parameters to parse more results\n",
      "2024-02-15 18:02:37 [2758 | REPORT]:   [4241|YamboWorkflow|perform_next]: {'dft_predicted': 'semiconductor/insulator', 'valence': 4, 'conduction': 5, 'number_of_kpoints': 8, 'nscf_gap_eV': 0.665, 'homo_k': 1, 'lumo_k': 7, 'gap_type': 'indirect', 'gap_': [[1, 1, 4, 4], [7, 7, 5, 5]], 'soc': False, 'magnetic_calculation': False}\n",
      "2024-02-15 18:02:39 [2759 | REPORT]:   [4243|YamboWorkflow|start_workflow]:  workflow initilization step completed.\n",
      "2024-02-15 18:02:39 [2760 | REPORT]:   [4243|YamboWorkflow|can_continue]: the workflow continues with a yambo calculation\n",
      "2024-02-15 18:02:39 [2761 | REPORT]:   [4243|YamboWorkflow|perform_next]: performing a yambo calculation\n",
      "2024-02-15 18:02:40 [2762 | REPORT]:   [4243|YamboWorkflow|perform_next]: updating yambo parameters to parse more results\n",
      "2024-02-15 18:02:40 [2763 | REPORT]:   [4243|YamboWorkflow|perform_next]: {'dft_predicted': 'semiconductor/insulator', 'valence': 4, 'conduction': 5, 'number_of_kpoints': 8, 'nscf_gap_eV': 0.665, 'homo_k': 1, 'lumo_k': 7, 'gap_type': 'indirect', 'gap_': [[1, 1, 4, 4], [7, 7, 5, 5]], 'soc': False, 'magnetic_calculation': False}\n",
      "2024-02-15 18:02:41 [2764 | REPORT]:   [4245|YamboWorkflow|start_workflow]:  workflow initilization step completed.\n",
      "2024-02-15 18:02:41 [2765 | REPORT]:   [4245|YamboWorkflow|can_continue]: the workflow continues with a yambo calculation\n",
      "2024-02-15 18:02:41 [2766 | REPORT]:   [4245|YamboWorkflow|perform_next]: performing a yambo calculation\n",
      "2024-02-15 18:02:41 [2767 | REPORT]:   [4245|YamboWorkflow|perform_next]: updating yambo parameters to parse more results\n",
      "2024-02-15 18:02:42 [2768 | REPORT]:   [4245|YamboWorkflow|perform_next]: {'dft_predicted': 'semiconductor/insulator', 'valence': 4, 'conduction': 5, 'number_of_kpoints': 8, 'nscf_gap_eV': 0.665, 'homo_k': 1, 'lumo_k': 7, 'gap_type': 'indirect', 'gap_': [[1, 1, 4, 4], [7, 7, 5, 5]], 'soc': False, 'magnetic_calculation': False}\n",
      "2024-02-15 18:02:43 [2769 | REPORT]:   [4247|YamboWorkflow|start_workflow]:  workflow initilization step completed.\n",
      "2024-02-15 18:02:44 [2770 | REPORT]:   [4247|YamboWorkflow|can_continue]: the workflow continues with a yambo calculation\n",
      "2024-02-15 18:02:44 [2771 | REPORT]:   [4247|YamboWorkflow|perform_next]: performing a yambo calculation\n",
      "2024-02-15 18:02:44 [2772 | REPORT]:   [4247|YamboWorkflow|perform_next]: updating yambo parameters to parse more results\n",
      "2024-02-15 18:02:44 [2773 | REPORT]:   [4247|YamboWorkflow|perform_next]: {'dft_predicted': 'semiconductor/insulator', 'valence': 4, 'conduction': 5, 'number_of_kpoints': 8, 'nscf_gap_eV': 0.665, 'homo_k': 1, 'lumo_k': 7, 'gap_type': 'indirect', 'gap_': [[1, 1, 4, 4], [7, 7, 5, 5]], 'soc': False, 'magnetic_calculation': False}\n",
      "2024-02-15 18:02:45 [2774 | REPORT]:   [4249|YamboWorkflow|start_workflow]:  workflow initilization step completed.\n",
      "2024-02-15 18:02:45 [2775 | REPORT]:   [4249|YamboWorkflow|can_continue]: the workflow continues with a yambo calculation\n",
      "2024-02-15 18:02:46 [2776 | REPORT]:   [4249|YamboWorkflow|perform_next]: performing a yambo calculation\n",
      "2024-02-15 18:02:46 [2777 | REPORT]:   [4249|YamboWorkflow|perform_next]: updating yambo parameters to parse more results\n",
      "2024-02-15 18:02:46 [2778 | REPORT]:   [4249|YamboWorkflow|perform_next]: {'dft_predicted': 'semiconductor/insulator', 'valence': 4, 'conduction': 5, 'number_of_kpoints': 8, 'nscf_gap_eV': 0.665, 'homo_k': 1, 'lumo_k': 7, 'gap_type': 'indirect', 'gap_': [[1, 1, 4, 4], [7, 7, 5, 5]], 'soc': False, 'magnetic_calculation': False}\n",
      "2024-02-15 18:02:47 [2779 | REPORT]:   [4251|YamboWorkflow|start_workflow]:  workflow initilization step completed.\n",
      "2024-02-15 18:02:48 [2780 | REPORT]:   [4251|YamboWorkflow|can_continue]: the workflow continues with a yambo calculation\n",
      "2024-02-15 18:02:48 [2781 | REPORT]:   [4251|YamboWorkflow|perform_next]: performing a yambo calculation\n",
      "2024-02-15 18:02:48 [2782 | REPORT]:   [4251|YamboWorkflow|perform_next]: updating yambo parameters to parse more results\n",
      "2024-02-15 18:02:48 [2783 | REPORT]:   [4251|YamboWorkflow|perform_next]: {'dft_predicted': 'semiconductor/insulator', 'valence': 4, 'conduction': 5, 'number_of_kpoints': 8, 'nscf_gap_eV': 0.665, 'homo_k': 1, 'lumo_k': 7, 'gap_type': 'indirect', 'gap_': [[1, 1, 4, 4], [7, 7, 5, 5]], 'soc': False, 'magnetic_calculation': False}\n",
      "2024-02-15 18:02:50 [2784 | REPORT]:     [4253|YamboRestart|run_process]: launching YamboCalculation<4264> iteration #1\n",
      "2024-02-15 18:02:51 [2785 | REPORT]:     [4255|YamboRestart|run_process]: launching YamboCalculation<4265> iteration #1\n",
      "2024-02-15 18:02:52 [2786 | REPORT]:     [4257|YamboRestart|run_process]: launching YamboCalculation<4266> iteration #1\n",
      "2024-02-15 18:02:53 [2787 | REPORT]:     [4259|YamboRestart|run_process]: launching YamboCalculation<4267> iteration #1\n",
      "2024-02-15 18:02:54 [2788 | REPORT]:     [4261|YamboRestart|run_process]: launching YamboCalculation<4268> iteration #1\n",
      "2024-02-15 18:02:55 [2789 | REPORT]:     [4263|YamboRestart|run_process]: launching YamboCalculation<4269> iteration #1\n",
      "2024-02-15 18:03:19 [2790 | REPORT]:     [4253|YamboRestart|results]: work chain completed after 1 iterations\n",
      "2024-02-15 18:03:19 [2791 | REPORT]:     [4253|YamboRestart|on_terminated]: remote folders will not be cleaned\n",
      "2024-02-15 18:03:19 [2792 | REPORT]:   [4241|YamboWorkflow|can_continue]: workflow is finished\n",
      "2024-02-15 18:03:19 [2793 | REPORT]:   [4241|YamboWorkflow|post_processing_needed]: no post processing needed\n",
      "2024-02-15 18:03:20 [2794 | REPORT]:   [4241|YamboWorkflow|report_wf]: PARSED: {'gap_': 0.9189450604975224, 'homo': 0.00690291633605957, 'lumo': 0.925847976833582, 'gap_dft': 0.6646806137740612, 'homo_dft': 0.0, 'lumo_dft': 0.6646806137740612}\n",
      "2024-02-15 18:03:20 [2795 | REPORT]:   [4241|YamboWorkflow|report_wf]: workflow completed successfully\n",
      "2024-02-15 18:03:41 [2796 | REPORT]:     [4257|YamboRestart|results]: work chain completed after 1 iterations\n",
      "2024-02-15 18:03:41 [2797 | REPORT]:     [4257|YamboRestart|on_terminated]: remote folders will not be cleaned\n",
      "2024-02-15 18:03:42 [2798 | REPORT]:   [4245|YamboWorkflow|can_continue]: workflow is finished\n",
      "2024-02-15 18:03:42 [2799 | REPORT]:   [4245|YamboWorkflow|post_processing_needed]: no post processing needed\n",
      "2024-02-15 18:03:42 [2800 | REPORT]:   [4245|YamboWorkflow|report_wf]: PARSED: {'gap_': 1.1971450776696206, 'homo': -0.35996535311937333, 'lumo': 0.8371797245502473, 'gap_dft': 0.6646806137740612, 'homo_dft': 0.0, 'lumo_dft': 0.6646806137740612}\n",
      "2024-02-15 18:03:42 [2801 | REPORT]:   [4245|YamboWorkflow|report_wf]: workflow completed successfully\n",
      "2024-02-15 18:03:48 [2802 | REPORT]:     [4255|YamboRestart|results]: work chain completed after 1 iterations\n",
      "2024-02-15 18:03:48 [2803 | REPORT]:     [4255|YamboRestart|on_terminated]: remote folders will not be cleaned\n",
      "2024-02-15 18:03:48 [2804 | REPORT]:   [4243|YamboWorkflow|can_continue]: workflow is finished\n",
      "2024-02-15 18:03:48 [2805 | REPORT]:   [4243|YamboWorkflow|post_processing_needed]: no post processing needed\n",
      "2024-02-15 18:03:49 [2806 | REPORT]:   [4243|YamboWorkflow|report_wf]: PARSED: {'gap_': 0.918683930438757, 'homo': -0.02236635720729828, 'lumo': 0.8963175732314587, 'gap_dft': 0.6646806137740612, 'homo_dft': 0.0, 'lumo_dft': 0.6646806137740612}\n",
      "2024-02-15 18:03:49 [2807 | REPORT]:   [4243|YamboWorkflow|report_wf]: workflow completed successfully\n",
      "2024-02-15 18:04:05 [2808 | REPORT]:     [4259|YamboRestart|results]: work chain completed after 1 iterations\n",
      "2024-02-15 18:04:05 [2809 | REPORT]:     [4259|YamboRestart|on_terminated]: remote folders will not be cleaned\n",
      "2024-02-15 18:04:05 [2810 | REPORT]:   [4247|YamboWorkflow|can_continue]: workflow is finished\n",
      "2024-02-15 18:04:05 [2811 | REPORT]:   [4247|YamboWorkflow|post_processing_needed]: no post processing needed\n",
      "2024-02-15 18:04:06 [2812 | REPORT]:   [4247|YamboWorkflow|report_wf]: PARSED: {'gap_': 1.1306635543078185, 'homo': -0.34988508408069613, 'lumo': 0.7807784702271223, 'gap_dft': 0.6646806137740612, 'homo_dft': 0.0, 'lumo_dft': 0.6646806137740612}\n",
      "2024-02-15 18:04:06 [2813 | REPORT]:   [4247|YamboWorkflow|report_wf]: workflow completed successfully\n",
      "2024-02-15 18:04:29 [2814 | REPORT]:     [4261|YamboRestart|results]: work chain completed after 1 iterations\n",
      "2024-02-15 18:04:29 [2815 | REPORT]:     [4261|YamboRestart|on_terminated]: remote folders will not be cleaned\n",
      "2024-02-15 18:04:29 [2816 | REPORT]:   [4249|YamboWorkflow|can_continue]: workflow is finished\n",
      "2024-02-15 18:04:29 [2817 | REPORT]:   [4249|YamboWorkflow|post_processing_needed]: no post processing needed\n",
      "2024-02-15 18:04:30 [2818 | REPORT]:   [4249|YamboWorkflow|report_wf]: PARSED: {'gap_': 1.0529550603449345, 'homo': -0.24725772713422775, 'lumo': 0.8056973332107067, 'gap_dft': 0.6646806137740612, 'homo_dft': 0.0, 'lumo_dft': 0.6646806137740612}\n",
      "2024-02-15 18:04:30 [2819 | REPORT]:   [4249|YamboWorkflow|report_wf]: workflow completed successfully\n",
      "2024-02-15 18:05:23 [2820 | REPORT]:     [4263|YamboRestart|results]: work chain completed after 1 iterations\n",
      "2024-02-15 18:05:23 [2821 | REPORT]:     [4263|YamboRestart|on_terminated]: remote folders will not be cleaned\n",
      "2024-02-15 18:05:23 [2822 | REPORT]:   [4251|YamboWorkflow|can_continue]: workflow is finished\n",
      "2024-02-15 18:05:23 [2823 | REPORT]:   [4251|YamboWorkflow|post_processing_needed]: no post processing needed\n",
      "2024-02-15 18:05:24 [2824 | REPORT]:   [4251|YamboWorkflow|report_wf]: PARSED: {'gap_': 1.227362366861105, 'homo': -0.5066717883706093, 'lumo': 0.7206905784904957, 'gap_dft': 0.6646806137740612, 'homo_dft': 0.0, 'lumo_dft': 0.6646806137740612}\n",
      "2024-02-15 18:05:24 [2825 | REPORT]:   [4251|YamboWorkflow|report_wf]: workflow completed successfully\n",
      "2024-02-15 18:05:25 [2826 | REPORT]: [4140|YamboConvergence|data_analysis]: Data analysis, we will try to parse some result and decide what next.\n",
      "2024-02-15 18:05:25 [2827 | REPORT]: [4140|YamboConvergence|data_analysis]:    FFTGvecs  BndsRnXp  ...      gap_                                  uuid\n",
      "0        21        50  ...  0.918945  21d8e9c4-0c0e-45dd-b192-ee5b8bf5d981\n",
      "1        21       400  ...  0.918684  17d4aeab-6908-4bb0-9537-1fce519cfeee\n",
      "2        21        50  ...  1.197145  583fa118-2372-4406-9e56-f2d2ef6f8b81\n",
      "3        21       150  ...  1.130664  cb862bbd-6eb5-4f47-a99c-3742032ad835\n",
      "4        21       300  ...  1.052955  34c2c892-7518-4e24-b1ab-b1fa82a2adfc\n",
      "5        21       400  ...  1.227362  26d0ff60-6b2d-40d8-9650-364b66940d15\n",
      "\n",
      "[6 rows x 6 columns]\n",
      "2024-02-15 18:05:29 [2828 | REPORT]: [4140|YamboConvergence|data_analysis]: results ['gap_']\n",
      ":{'gap_': array([0.91894506, 0.91868393, 1.19714508, 1.13066355, 1.05295506,\n",
      "       1.22736237])}\n",
      "2024-02-15 18:05:29 [2829 | REPORT]: [4140|YamboConvergence|data_analysis]: HINTS: {'new_grid': True, 'extrapolation': 1.3478732137568799, 'extrapolation_units': 'eV'}\n",
      "2024-02-15 18:05:29 [2830 | REPORT]: [4140|YamboConvergence|data_analysis]: Success on ['BndsRnXp', 'GbndRnge', 'NGsBlkXp'] not reached yet in 6 calculations\n",
      "2024-02-15 18:05:29 [2831 | REPORT]: [4140|YamboConvergence|data_analysis]: {'new_grid': True, 'extrapolation': 1.3478732137568799, 'extrapolation_units': 'eV'}\n",
      "2024-02-15 18:05:30 [2832 | REPORT]: [4140|YamboConvergence|has_to_continue]: Still iteration on ['BndsRnXp', 'GbndRnge', 'NGsBlkXp']\n",
      "2024-02-15 18:05:30 [2833 | REPORT]: [4140|YamboConvergence|pre_needed]: {'FFTGvecs': [21], 'BndsRnXp': [50, 400, 50, 150, 300, 400], 'NGsBlkXp': [2, 2, 8, 6, 4, 8], 'GbndRnge': [50, 400, 50, 150, 300, 400]}\n",
      "2024-02-15 18:05:30 [2834 | REPORT]: [4140|YamboConvergence|pre_needed]: ['GW bands are: 400', 'found scf inputs from parent', 'found nscf inputs from parent\\n']\n",
      "2024-02-15 18:05:30 [2835 | REPORT]: [4140|YamboConvergence|do_pre]: mesh check\n",
      "2024-02-15 18:05:30 [2836 | REPORT]: [4140|YamboConvergence|do_pre]: doing the calculation: p2y\n",
      "2024-02-15 18:05:32 [2837 | REPORT]: [4140|YamboConvergence|do_pre]: Submitted YamboWorkflow up to p2y, pk = 4315\n",
      "2024-02-15 18:05:34 [2838 | REPORT]:   [4315|YamboWorkflow|start_workflow]:  workflow initilization step completed.\n",
      "2024-02-15 18:05:34 [2839 | REPORT]:   [4315|YamboWorkflow|can_continue]: the workflow continues with a nscf calculation\n",
      "2024-02-15 18:05:34 [2840 | REPORT]:   [4315|YamboWorkflow|perform_next]: performing a nscf calculation\n",
      "2024-02-15 18:05:36 [2841 | REPORT]:     [4318|PwBaseWorkChain|run_process]: launching PwCalculation<4321> iteration #1\n",
      "2024-02-15 18:08:14 [2842 | REPORT]:     [4318|PwBaseWorkChain|results]: work chain completed after 1 iterations\n",
      "2024-02-15 18:08:15 [2843 | REPORT]:     [4318|PwBaseWorkChain|on_terminated]: remote folders will not be cleaned\n",
      "2024-02-15 18:08:15 [2844 | REPORT]:   [4315|YamboWorkflow|can_continue]: the workflow continues with a yambo calculation\n",
      "2024-02-15 18:08:15 [2845 | REPORT]:   [4315|YamboWorkflow|perform_next]: performing a yambo calculation\n",
      "2024-02-15 18:08:16 [2846 | REPORT]:     [4327|YamboRestart|run_process]: launching YamboCalculation<4328> iteration #1\n",
      "2024-02-15 18:08:22 [2847 | REPORT]:     [4327|YamboRestart|results]: work chain completed after 1 iterations\n",
      "2024-02-15 18:08:22 [2848 | REPORT]:     [4327|YamboRestart|on_terminated]: remote folders will not be cleaned\n",
      "2024-02-15 18:08:23 [2849 | REPORT]:   [4315|YamboWorkflow|can_continue]: workflow is finished\n",
      "2024-02-15 18:08:23 [2850 | REPORT]:   [4315|YamboWorkflow|post_processing_needed]: no post processing needed\n",
      "2024-02-15 18:08:23 [2851 | REPORT]:   [4315|YamboWorkflow|report_wf]: workflow completed successfully\n",
      "2024-02-15 18:08:24 [2852 | REPORT]: [4140|YamboConvergence|prepare_calculations]: setting the pre calc remote folder 4329 as parent\n",
      "2024-02-15 18:08:27 [2853 | REPORT]: [4140|YamboConvergence|next_step]: New parameters are: {'BndsRnXp': 100, 'GbndRnge': 100, 'NGsBlkXp': 3}\n",
      "2024-02-15 18:08:31 [2854 | REPORT]: [4140|YamboConvergence|next_step]: New parameters are: {'BndsRnXp': 450, 'GbndRnge': 450, 'NGsBlkXp': 3}\n",
      "2024-02-15 18:08:35 [2855 | REPORT]: [4140|YamboConvergence|next_step]: New parameters are: {'BndsRnXp': 100, 'GbndRnge': 100, 'NGsBlkXp': 9}\n",
      "2024-02-15 18:08:40 [2856 | REPORT]: [4140|YamboConvergence|next_step]: New parameters are: {'BndsRnXp': 200, 'GbndRnge': 200, 'NGsBlkXp': 7}\n",
      "2024-02-15 18:08:44 [2857 | REPORT]: [4140|YamboConvergence|next_step]: New parameters are: {'BndsRnXp': 350, 'GbndRnge': 350, 'NGsBlkXp': 5}\n",
      "2024-02-15 18:08:49 [2858 | REPORT]: [4140|YamboConvergence|next_step]: New parameters are: {'BndsRnXp': 450, 'GbndRnge': 450, 'NGsBlkXp': 9}\n",
      "2024-02-15 18:08:52 [2859 | REPORT]:   [4333|YamboWorkflow|start_workflow]:  workflow initilization step completed.\n",
      "2024-02-15 18:08:52 [2860 | REPORT]:   [4333|YamboWorkflow|can_continue]: the workflow continues with a yambo calculation\n",
      "2024-02-15 18:08:52 [2861 | REPORT]:   [4333|YamboWorkflow|perform_next]: performing a yambo calculation\n",
      "2024-02-15 18:08:52 [2862 | REPORT]:   [4333|YamboWorkflow|perform_next]: updating yambo parameters to parse more results\n",
      "2024-02-15 18:08:52 [2863 | REPORT]:   [4333|YamboWorkflow|perform_next]: {'dft_predicted': 'semiconductor/insulator', 'valence': 4, 'conduction': 5, 'number_of_kpoints': 8, 'nscf_gap_eV': 0.665, 'homo_k': 1, 'lumo_k': 7, 'gap_type': 'indirect', 'gap_': [[1, 1, 4, 4], [7, 7, 5, 5]], 'soc': False, 'magnetic_calculation': False}\n",
      "2024-02-15 18:08:54 [2864 | REPORT]:   [4335|YamboWorkflow|start_workflow]:  workflow initilization step completed.\n",
      "2024-02-15 18:08:55 [2865 | REPORT]:   [4335|YamboWorkflow|can_continue]: the workflow continues with a yambo calculation\n",
      "2024-02-15 18:08:55 [2866 | REPORT]:   [4335|YamboWorkflow|perform_next]: performing a yambo calculation\n",
      "2024-02-15 18:08:55 [2867 | REPORT]:   [4335|YamboWorkflow|perform_next]: updating yambo parameters to parse more results\n",
      "2024-02-15 18:08:55 [2868 | REPORT]:   [4335|YamboWorkflow|perform_next]: {'dft_predicted': 'semiconductor/insulator', 'valence': 4, 'conduction': 5, 'number_of_kpoints': 8, 'nscf_gap_eV': 0.665, 'homo_k': 1, 'lumo_k': 7, 'gap_type': 'indirect', 'gap_': [[1, 1, 4, 4], [7, 7, 5, 5]], 'soc': False, 'magnetic_calculation': False}\n",
      "2024-02-15 18:08:57 [2869 | REPORT]:   [4337|YamboWorkflow|start_workflow]:  workflow initilization step completed.\n",
      "2024-02-15 18:08:57 [2870 | REPORT]:   [4337|YamboWorkflow|can_continue]: the workflow continues with a yambo calculation\n",
      "2024-02-15 18:08:57 [2871 | REPORT]:   [4337|YamboWorkflow|perform_next]: performing a yambo calculation\n",
      "2024-02-15 18:08:57 [2872 | REPORT]:   [4337|YamboWorkflow|perform_next]: updating yambo parameters to parse more results\n",
      "2024-02-15 18:08:57 [2873 | REPORT]:   [4337|YamboWorkflow|perform_next]: {'dft_predicted': 'semiconductor/insulator', 'valence': 4, 'conduction': 5, 'number_of_kpoints': 8, 'nscf_gap_eV': 0.665, 'homo_k': 1, 'lumo_k': 7, 'gap_type': 'indirect', 'gap_': [[1, 1, 4, 4], [7, 7, 5, 5]], 'soc': False, 'magnetic_calculation': False}\n",
      "2024-02-15 18:08:58 [2874 | REPORT]:   [4339|YamboWorkflow|start_workflow]:  workflow initilization step completed.\n",
      "2024-02-15 18:08:59 [2875 | REPORT]:   [4339|YamboWorkflow|can_continue]: the workflow continues with a yambo calculation\n",
      "2024-02-15 18:08:59 [2876 | REPORT]:   [4339|YamboWorkflow|perform_next]: performing a yambo calculation\n",
      "2024-02-15 18:08:59 [2877 | REPORT]:   [4339|YamboWorkflow|perform_next]: updating yambo parameters to parse more results\n",
      "2024-02-15 18:08:59 [2878 | REPORT]:   [4339|YamboWorkflow|perform_next]: {'dft_predicted': 'semiconductor/insulator', 'valence': 4, 'conduction': 5, 'number_of_kpoints': 8, 'nscf_gap_eV': 0.665, 'homo_k': 1, 'lumo_k': 7, 'gap_type': 'indirect', 'gap_': [[1, 1, 4, 4], [7, 7, 5, 5]], 'soc': False, 'magnetic_calculation': False}\n",
      "2024-02-15 18:09:00 [2879 | REPORT]:   [4341|YamboWorkflow|start_workflow]:  workflow initilization step completed.\n",
      "2024-02-15 18:09:01 [2880 | REPORT]:   [4341|YamboWorkflow|can_continue]: the workflow continues with a yambo calculation\n",
      "2024-02-15 18:09:01 [2881 | REPORT]:   [4341|YamboWorkflow|perform_next]: performing a yambo calculation\n",
      "2024-02-15 18:09:01 [2882 | REPORT]:   [4341|YamboWorkflow|perform_next]: updating yambo parameters to parse more results\n",
      "2024-02-15 18:09:01 [2883 | REPORT]:   [4341|YamboWorkflow|perform_next]: {'dft_predicted': 'semiconductor/insulator', 'valence': 4, 'conduction': 5, 'number_of_kpoints': 8, 'nscf_gap_eV': 0.665, 'homo_k': 1, 'lumo_k': 7, 'gap_type': 'indirect', 'gap_': [[1, 1, 4, 4], [7, 7, 5, 5]], 'soc': False, 'magnetic_calculation': False}\n",
      "2024-02-15 18:09:02 [2884 | REPORT]:   [4343|YamboWorkflow|start_workflow]:  workflow initilization step completed.\n",
      "2024-02-15 18:09:02 [2885 | REPORT]:   [4343|YamboWorkflow|can_continue]: the workflow continues with a yambo calculation\n",
      "2024-02-15 18:09:02 [2886 | REPORT]:   [4343|YamboWorkflow|perform_next]: performing a yambo calculation\n",
      "2024-02-15 18:09:02 [2887 | REPORT]:   [4343|YamboWorkflow|perform_next]: updating yambo parameters to parse more results\n",
      "2024-02-15 18:09:03 [2888 | REPORT]:   [4343|YamboWorkflow|perform_next]: {'dft_predicted': 'semiconductor/insulator', 'valence': 4, 'conduction': 5, 'number_of_kpoints': 8, 'nscf_gap_eV': 0.665, 'homo_k': 1, 'lumo_k': 7, 'gap_type': 'indirect', 'gap_': [[1, 1, 4, 4], [7, 7, 5, 5]], 'soc': False, 'magnetic_calculation': False}\n",
      "2024-02-15 18:09:04 [2889 | REPORT]:     [4345|YamboRestart|run_process]: launching YamboCalculation<4356> iteration #1\n",
      "2024-02-15 18:09:06 [2890 | REPORT]:     [4347|YamboRestart|run_process]: launching YamboCalculation<4357> iteration #1\n",
      "2024-02-15 18:09:07 [2891 | REPORT]:     [4349|YamboRestart|run_process]: launching YamboCalculation<4358> iteration #1\n",
      "2024-02-15 18:09:08 [2892 | REPORT]:     [4351|YamboRestart|run_process]: launching YamboCalculation<4359> iteration #1\n",
      "2024-02-15 18:09:09 [2893 | REPORT]:     [4353|YamboRestart|run_process]: launching YamboCalculation<4360> iteration #1\n",
      "2024-02-15 18:09:10 [2894 | REPORT]:     [4355|YamboRestart|run_process]: launching YamboCalculation<4361> iteration #1\n",
      "2024-02-15 18:09:40 [2895 | REPORT]:     [4345|YamboRestart|results]: work chain completed after 1 iterations\n",
      "2024-02-15 18:09:40 [2896 | REPORT]:     [4345|YamboRestart|on_terminated]: remote folders will not be cleaned\n",
      "2024-02-15 18:09:40 [2897 | REPORT]:   [4333|YamboWorkflow|can_continue]: workflow is finished\n",
      "2024-02-15 18:09:40 [2898 | REPORT]:   [4333|YamboWorkflow|post_processing_needed]: no post processing needed\n",
      "2024-02-15 18:09:41 [2899 | REPORT]:   [4333|YamboWorkflow|report_wf]: PARSED: {'gap_': 0.924561789649725, 'homo': -0.0254123339176178, 'lumo': 0.8991494557321073, 'gap_dft': 0.6646806137740612, 'homo_dft': 0.0, 'lumo_dft': 0.6646806137740612}\n",
      "2024-02-15 18:09:41 [2900 | REPORT]:   [4333|YamboWorkflow|report_wf]: workflow completed successfully\n",
      "2024-02-15 18:10:12 [2901 | REPORT]:     [4347|YamboRestart|results]: work chain completed after 1 iterations\n",
      "2024-02-15 18:10:12 [2902 | REPORT]:     [4347|YamboRestart|on_terminated]: remote folders will not be cleaned\n",
      "2024-02-15 18:10:13 [2903 | REPORT]:   [4335|YamboWorkflow|can_continue]: workflow is finished\n",
      "2024-02-15 18:10:13 [2904 | REPORT]:   [4335|YamboWorkflow|post_processing_needed]: no post processing needed\n",
      "2024-02-15 18:10:14 [2905 | REPORT]:   [4335|YamboWorkflow|report_wf]: PARSED: {'gap_': 0.9216009640455246, 'homo': -0.025288256591558457, 'lumo': 0.8963127074539662, 'gap_dft': 0.6646806137740612, 'homo_dft': 0.0, 'lumo_dft': 0.6646806137740612}\n",
      "2024-02-15 18:10:14 [2906 | REPORT]:   [4335|YamboWorkflow|report_wf]: workflow completed successfully\n",
      "2024-02-15 18:10:23 [2907 | REPORT]:     [4349|YamboRestart|results]: work chain completed after 1 iterations\n",
      "2024-02-15 18:10:23 [2908 | REPORT]:     [4349|YamboRestart|on_terminated]: remote folders will not be cleaned\n",
      "2024-02-15 18:10:23 [2909 | REPORT]:   [4337|YamboWorkflow|can_continue]: workflow is finished\n",
      "2024-02-15 18:10:24 [2910 | REPORT]:   [4337|YamboWorkflow|post_processing_needed]: no post processing needed\n",
      "2024-02-15 18:10:24 [2911 | REPORT]:   [4337|YamboWorkflow|report_wf]: PARSED: {'gap_': 1.2249359658181669, 'homo': -0.47142977295517924, 'lumo': 0.7535061928629876, 'gap_dft': 0.6646806137740612, 'homo_dft': 0.0, 'lumo_dft': 0.6646806137740612}\n",
      "2024-02-15 18:10:24 [2912 | REPORT]:   [4337|YamboWorkflow|report_wf]: workflow completed successfully\n",
      "2024-02-15 18:10:57 [2913 | REPORT]:     [4351|YamboRestart|results]: work chain completed after 1 iterations\n",
      "2024-02-15 18:10:57 [2914 | REPORT]:     [4351|YamboRestart|on_terminated]: remote folders will not be cleaned\n",
      "2024-02-15 18:10:57 [2915 | REPORT]:   [4339|YamboWorkflow|can_continue]: workflow is finished\n",
      "2024-02-15 18:10:57 [2916 | REPORT]:   [4339|YamboWorkflow|post_processing_needed]: no post processing needed\n",
      "2024-02-15 18:10:58 [2917 | REPORT]:   [4339|YamboWorkflow|report_wf]: PARSED: {'gap_': 1.1737877237796783, 'homo': -0.41714553732275966, 'lumo': 0.7566421864569187, 'gap_dft': 0.6646806137740612, 'homo_dft': 0.0, 'lumo_dft': 0.6646806137740612}\n",
      "2024-02-15 18:10:58 [2918 | REPORT]:   [4339|YamboWorkflow|report_wf]: workflow completed successfully\n",
      "2024-02-15 18:11:16 [2919 | REPORT]:     [4353|YamboRestart|results]: work chain completed after 1 iterations\n",
      "2024-02-15 18:11:17 [2920 | REPORT]:     [4353|YamboRestart|on_terminated]: remote folders will not be cleaned\n",
      "2024-02-15 18:11:17 [2921 | REPORT]:   [4341|YamboWorkflow|can_continue]: workflow is finished\n",
      "2024-02-15 18:11:17 [2922 | REPORT]:   [4341|YamboWorkflow|post_processing_needed]: no post processing needed\n",
      "2024-02-15 18:11:18 [2923 | REPORT]:   [4341|YamboWorkflow|report_wf]: PARSED: {'gap_': 1.1337196680545807, 'homo': -0.35529096287488937, 'lumo': 0.7784287051796913, 'gap_dft': 0.6646806137740612, 'homo_dft': 0.0, 'lumo_dft': 0.6646806137740612}\n",
      "2024-02-15 18:11:18 [2924 | REPORT]:   [4341|YamboWorkflow|report_wf]: workflow completed successfully\n",
      "2024-02-15 18:12:21 [2925 | REPORT]:     [4355|YamboRestart|results]: work chain completed after 1 iterations\n",
      "2024-02-15 18:12:21 [2926 | REPORT]:     [4355|YamboRestart|on_terminated]: remote folders will not be cleaned\n",
      "2024-02-15 18:12:21 [2927 | REPORT]:   [4343|YamboWorkflow|can_continue]: workflow is finished\n",
      "2024-02-15 18:12:22 [2928 | REPORT]:   [4343|YamboWorkflow|post_processing_needed]: no post processing needed\n",
      "2024-02-15 18:12:22 [2929 | REPORT]:   [4343|YamboWorkflow|report_wf]: PARSED: {'gap_': 1.2300190813720226, 'homo': -0.5094006785809994, 'lumo': 0.7206184027910233, 'gap_dft': 0.6646806137740612, 'homo_dft': 0.0, 'lumo_dft': 0.6646806137740612}\n",
      "2024-02-15 18:12:22 [2930 | REPORT]:   [4343|YamboWorkflow|report_wf]: workflow completed successfully\n",
      "2024-02-15 18:12:23 [2931 | REPORT]: [4140|YamboConvergence|data_analysis]: Data analysis, we will try to parse some result and decide what next.\n",
      "2024-02-15 18:12:24 [2932 | REPORT]: [4140|YamboConvergence|data_analysis]:    FFTGvecs  BndsRnXp  ...      gap_                                  uuid\n",
      "0        21       100  ...  0.924562  a90dff57-e0ad-4cb1-960c-861d29d09762\n",
      "1        21       450  ...  0.921601  1b008158-4bbf-4c65-a975-5ad63c598c43\n",
      "2        21       100  ...  1.224936  ba452019-b914-4fc2-a7d4-9b35d7fc143c\n",
      "3        21       200  ...  1.173788  93fdca88-62b5-4b42-813e-b3eb55a443c2\n",
      "4        21       350  ...  1.133720  12c2680c-5a46-4063-98eb-95b2e1f4437f\n",
      "5        21       450  ...  1.230019  d7cee2ae-10a9-467f-bd93-ad80b41491b5\n",
      "\n",
      "[6 rows x 6 columns]\n",
      "2024-02-15 18:12:32 [2933 | REPORT]: [4140|YamboConvergence|data_analysis]: results ['gap_']\n",
      ":{'gap_': array([0.92456179, 0.92160096, 1.22493597, 1.17378772, 1.13371967,\n",
      "       1.23001908])}\n",
      "2024-02-15 18:12:33 [2934 | REPORT]: [4140|YamboConvergence|data_analysis]: HINTS: {'BndsRnXp': 100, 'NGsBlkXp': 5.0, 'gap_': 1.1217281248374011, 'already_computed': False, 'GbndRnge': 100, 'E_ref': 1.265700204864997, 'new_grid': False, 'extrapolation': 1.2726227097311364, 'extrapolation_units': 'eV'}\n",
      "2024-02-15 18:12:33 [2935 | REPORT]: [4140|YamboConvergence|data_analysis]: Success on ['BndsRnXp', 'GbndRnge', 'NGsBlkXp'] not reached yet in 12 calculations\n",
      "2024-02-15 18:12:33 [2936 | REPORT]: [4140|YamboConvergence|data_analysis]: {'BndsRnXp': 100, 'NGsBlkXp': 5.0, 'gap_': 1.1217281248374011, 'already_computed': False, 'GbndRnge': 100, 'E_ref': 1.265700204864997, 'new_grid': False, 'extrapolation': 1.2726227097311364, 'extrapolation_units': 'eV'}\n",
      "2024-02-15 18:12:33 [2937 | REPORT]: [4140|YamboConvergence|has_to_continue]: Still iteration on ['BndsRnXp', 'GbndRnge', 'NGsBlkXp']\n",
      "2024-02-15 18:12:33 [2938 | REPORT]: [4140|YamboConvergence|pre_needed]: {'FFTGvecs': [21], 'BndsRnXp': [50, 400, 50, 150, 300, 400], 'NGsBlkXp': [2, 2, 8, 6, 4, 8], 'GbndRnge': [50, 400, 50, 150, 300, 400]}\n",
      "2024-02-15 18:12:34 [2939 | REPORT]: [4140|YamboConvergence|pre_needed]: ['GW bands are: 450', 'found scf inputs from parent', 'found nscf inputs from parent\\n', 'found nscf inputs from parent\\n and setting nbnd of the nscf calculation to b = 450']\n",
      "2024-02-15 18:12:38 [2940 | REPORT]: [4140|YamboConvergence|next_step]: New parameters are: {'BndsRnXp': 100, 'GbndRnge': 100, 'NGsBlkXp': 5.0}\n",
      "2024-02-15 18:12:42 [2941 | REPORT]:   [4405|YamboWorkflow|start_workflow]:  workflow initilization step completed.\n",
      "2024-02-15 18:12:42 [2942 | REPORT]:   [4405|YamboWorkflow|can_continue]: the workflow continues with a yambo calculation\n",
      "2024-02-15 18:12:42 [2943 | REPORT]:   [4405|YamboWorkflow|perform_next]: performing a yambo calculation\n",
      "2024-02-15 18:12:42 [2944 | REPORT]:   [4405|YamboWorkflow|perform_next]: updating yambo parameters to parse more results\n",
      "2024-02-15 18:12:42 [2945 | REPORT]:   [4405|YamboWorkflow|perform_next]: {'dft_predicted': 'semiconductor/insulator', 'valence': 4, 'conduction': 5, 'number_of_kpoints': 8, 'nscf_gap_eV': 0.665, 'homo_k': 1, 'lumo_k': 7, 'gap_type': 'indirect', 'gap_': [[1, 1, 4, 4], [7, 7, 5, 5]], 'soc': False, 'magnetic_calculation': False}\n",
      "2024-02-15 18:12:44 [2946 | REPORT]:     [4407|YamboRestart|run_process]: launching YamboCalculation<4408> iteration #1\n",
      "2024-02-15 18:13:04 [2947 | REPORT]:     [4407|YamboRestart|results]: work chain completed after 1 iterations\n",
      "2024-02-15 18:13:04 [2948 | REPORT]:     [4407|YamboRestart|on_terminated]: remote folders will not be cleaned\n",
      "2024-02-15 18:13:04 [2949 | REPORT]:   [4405|YamboWorkflow|can_continue]: workflow is finished\n",
      "2024-02-15 18:13:04 [2950 | REPORT]:   [4405|YamboWorkflow|post_processing_needed]: no post processing needed\n",
      "2024-02-15 18:13:07 [2951 | REPORT]:   [4405|YamboWorkflow|report_wf]: PARSED: {'gap_': 1.1292666706860066, 'homo': -0.33866946696043015, 'lumo': 0.7905972037255764, 'gap_dft': 0.6646806137740612, 'homo_dft': 0.0, 'lumo_dft': 0.6646806137740612}\n",
      "2024-02-15 18:13:07 [2952 | REPORT]:   [4405|YamboWorkflow|report_wf]: workflow completed successfully\n",
      "2024-02-15 18:13:07 [2953 | REPORT]: [4140|YamboConvergence|data_analysis]: Data analysis, we will try to parse some result and decide what next.\n",
      "2024-02-15 18:13:07 [2954 | REPORT]: [4140|YamboConvergence|data_analysis]:    FFTGvecs  BndsRnXp  ...      gap_                                  uuid\n",
      "0        21       100  ...  1.129267  980e6b4e-2b04-4bf7-bd42-b8360972de56\n",
      "\n",
      "[1 rows x 6 columns]\n",
      "2024-02-15 18:13:12 [2955 | REPORT]: [4140|YamboConvergence|data_analysis]: results ['gap_']\n",
      ":{'gap_': array([0.92456179, 0.92160096, 1.22493597, 1.17378772, 1.13371967,\n",
      "       1.23001908, 1.12926667])}\n",
      "2024-02-15 18:13:12 [2956 | REPORT]: [4140|YamboConvergence|data_analysis]: HINTS: {'BndsRnXp': 100.0, 'NGsBlkXp': 5.0, 'gap_': 1.129266670686, 'already_computed': True, 'GbndRnge': 100.0, 'E_ref': 1.265625012561151, 'new_grid': False, 'extrapolation': 1.2721436722116983, 'extrapolation_units': 'eV'}\n",
      "2024-02-15 18:13:12 [2957 | REPORT]: [4140|YamboConvergence|data_analysis]: Success, updating the history... \n",
      "2024-02-15 18:13:13 [2958 | REPORT]: [4140|YamboConvergence|data_analysis]: Success on ['BndsRnXp', 'GbndRnge', 'NGsBlkXp'] reached in 3 calculations, the result is [[1.12926667]]\n",
      "2024-02-15 18:13:13 [2959 | REPORT]: [4140|YamboConvergence|has_to_continue]: Workflow finished\n",
      "2024-02-15 18:13:13 [2960 | REPORT]: [4140|YamboConvergence|report_wf]: Final step. It is True that the workflow was successful\u001b[0m\n"
     ]
    }
   ],
   "source": [
    "!verdi process report {run.pk}"
   ]
  },
  {
   "cell_type": "markdown",
   "id": "0c466b05",
   "metadata": {},
   "source": [
    "# Output analysis.\n",
    "\n",
    "suppose that your calculation completed successfully, then you can access the outputs via the output method of the run instance: "
   ]
  },
  {
   "cell_type": "code",
   "execution_count": 21,
   "id": "bff7942e",
   "metadata": {},
   "outputs": [],
   "source": [
    "run = orm.load_node(4140)"
   ]
  },
  {
   "cell_type": "code",
   "execution_count": 22,
   "id": "bf076ce6",
   "metadata": {},
   "outputs": [
    {
     "data": {
      "text/plain": [
       "True"
      ]
     },
     "execution_count": 22,
     "metadata": {},
     "output_type": "execute_result"
    }
   ],
   "source": [
    "run.is_finished_ok"
   ]
  },
  {
   "cell_type": "markdown",
   "id": "f72ee3c6",
   "metadata": {},
   "source": [
    "The converged parameters can be obtained via the \"infos\" output Dict:"
   ]
  },
  {
   "cell_type": "code",
   "execution_count": 23,
   "id": "0cc0b992",
   "metadata": {},
   "outputs": [
    {
     "data": {
      "text/plain": [
       "{'gap_': 1.129266670686,\n",
       " 'E_ref': 1.2656250125612,\n",
       " 'BndsRnXp': 100.0,\n",
       " 'FFTGvecs': 21,\n",
       " 'GbndRnge': 100.0,\n",
       " 'NGsBlkXp': 5.0,\n",
       " 'extrapolation': 1.2726227097311}"
      ]
     },
     "execution_count": 23,
     "metadata": {},
     "output_type": "execute_result"
    }
   ],
   "source": [
    "run.outputs.infos.get_dict()"
   ]
  },
  {
   "cell_type": "markdown",
   "id": "9afc2076",
   "metadata": {},
   "source": [
    "The full convergence history can be visualized in a table form using pandas:"
   ]
  },
  {
   "cell_type": "code",
   "execution_count": 24,
   "id": "357b8819",
   "metadata": {},
   "outputs": [],
   "source": [
    "import pandas as pd"
   ]
  },
  {
   "cell_type": "code",
   "execution_count": 25,
   "id": "815c0e01",
   "metadata": {},
   "outputs": [],
   "source": [
    "history = run.outputs.history.get_dict()"
   ]
  },
  {
   "cell_type": "code",
   "execution_count": 26,
   "id": "ad366c53",
   "metadata": {},
   "outputs": [],
   "source": [
    "history_table = pd.DataFrame(history)"
   ]
  },
  {
   "cell_type": "code",
   "execution_count": 27,
   "id": "f11066f5",
   "metadata": {},
   "outputs": [
    {
     "data": {
      "text/html": [
       "<div>\n",
       "<style scoped>\n",
       "    .dataframe tbody tr th:only-of-type {\n",
       "        vertical-align: middle;\n",
       "    }\n",
       "\n",
       "    .dataframe tbody tr th {\n",
       "        vertical-align: top;\n",
       "    }\n",
       "\n",
       "    .dataframe thead th {\n",
       "        text-align: right;\n",
       "    }\n",
       "</style>\n",
       "<table border=\"1\" class=\"dataframe\">\n",
       "  <thead>\n",
       "    <tr style=\"text-align: right;\">\n",
       "      <th></th>\n",
       "      <th>gap_</th>\n",
       "      <th>uuid</th>\n",
       "      <th>failed</th>\n",
       "      <th>useful</th>\n",
       "      <th>BndsRnXp</th>\n",
       "      <th>FFTGvecs</th>\n",
       "      <th>GbndRnge</th>\n",
       "      <th>NGsBlkXp</th>\n",
       "      <th>global_step</th>\n",
       "      <th>parameters_studied</th>\n",
       "    </tr>\n",
       "  </thead>\n",
       "  <tbody>\n",
       "    <tr>\n",
       "      <th>0</th>\n",
       "      <td>1.052619</td>\n",
       "      <td>fe4dbf32-5b75-4eef-bb92-956091597800</td>\n",
       "      <td>False</td>\n",
       "      <td>False</td>\n",
       "      <td>150</td>\n",
       "      <td>21</td>\n",
       "      <td>150</td>\n",
       "      <td>4.0</td>\n",
       "      <td>1</td>\n",
       "      <td>FFTGvecs</td>\n",
       "    </tr>\n",
       "    <tr>\n",
       "      <th>1</th>\n",
       "      <td>1.052233</td>\n",
       "      <td>7bbf9cf7-31c8-4cab-b906-464caccd0288</td>\n",
       "      <td>False</td>\n",
       "      <td>False</td>\n",
       "      <td>150</td>\n",
       "      <td>37</td>\n",
       "      <td>150</td>\n",
       "      <td>4.0</td>\n",
       "      <td>2</td>\n",
       "      <td>FFTGvecs</td>\n",
       "    </tr>\n",
       "    <tr>\n",
       "      <th>2</th>\n",
       "      <td>1.052241</td>\n",
       "      <td>89935ccd-da88-4b4e-8282-0099988c7cf3</td>\n",
       "      <td>False</td>\n",
       "      <td>False</td>\n",
       "      <td>150</td>\n",
       "      <td>45</td>\n",
       "      <td>150</td>\n",
       "      <td>4.0</td>\n",
       "      <td>3</td>\n",
       "      <td>FFTGvecs</td>\n",
       "    </tr>\n",
       "    <tr>\n",
       "      <th>3</th>\n",
       "      <td>1.052227</td>\n",
       "      <td>50640635-5675-41e8-a5af-b55da47a8fbf</td>\n",
       "      <td>False</td>\n",
       "      <td>False</td>\n",
       "      <td>150</td>\n",
       "      <td>58</td>\n",
       "      <td>150</td>\n",
       "      <td>4.0</td>\n",
       "      <td>4</td>\n",
       "      <td>FFTGvecs</td>\n",
       "    </tr>\n",
       "    <tr>\n",
       "      <th>4</th>\n",
       "      <td>0.918945</td>\n",
       "      <td>21d8e9c4-0c0e-45dd-b192-ee5b8bf5d981</td>\n",
       "      <td>False</td>\n",
       "      <td>False</td>\n",
       "      <td>50</td>\n",
       "      <td>21</td>\n",
       "      <td>50</td>\n",
       "      <td>2.0</td>\n",
       "      <td>5</td>\n",
       "      <td>BndsRnXp, GbndRnge, NGsBlkXp</td>\n",
       "    </tr>\n",
       "    <tr>\n",
       "      <th>5</th>\n",
       "      <td>0.918684</td>\n",
       "      <td>17d4aeab-6908-4bb0-9537-1fce519cfeee</td>\n",
       "      <td>False</td>\n",
       "      <td>False</td>\n",
       "      <td>400</td>\n",
       "      <td>21</td>\n",
       "      <td>400</td>\n",
       "      <td>2.0</td>\n",
       "      <td>6</td>\n",
       "      <td>BndsRnXp, GbndRnge, NGsBlkXp</td>\n",
       "    </tr>\n",
       "    <tr>\n",
       "      <th>6</th>\n",
       "      <td>1.197145</td>\n",
       "      <td>583fa118-2372-4406-9e56-f2d2ef6f8b81</td>\n",
       "      <td>False</td>\n",
       "      <td>False</td>\n",
       "      <td>50</td>\n",
       "      <td>21</td>\n",
       "      <td>50</td>\n",
       "      <td>8.0</td>\n",
       "      <td>7</td>\n",
       "      <td>BndsRnXp, GbndRnge, NGsBlkXp</td>\n",
       "    </tr>\n",
       "    <tr>\n",
       "      <th>7</th>\n",
       "      <td>1.130664</td>\n",
       "      <td>cb862bbd-6eb5-4f47-a99c-3742032ad835</td>\n",
       "      <td>False</td>\n",
       "      <td>False</td>\n",
       "      <td>150</td>\n",
       "      <td>21</td>\n",
       "      <td>150</td>\n",
       "      <td>6.0</td>\n",
       "      <td>8</td>\n",
       "      <td>BndsRnXp, GbndRnge, NGsBlkXp</td>\n",
       "    </tr>\n",
       "    <tr>\n",
       "      <th>8</th>\n",
       "      <td>1.052955</td>\n",
       "      <td>34c2c892-7518-4e24-b1ab-b1fa82a2adfc</td>\n",
       "      <td>False</td>\n",
       "      <td>False</td>\n",
       "      <td>300</td>\n",
       "      <td>21</td>\n",
       "      <td>300</td>\n",
       "      <td>4.0</td>\n",
       "      <td>9</td>\n",
       "      <td>BndsRnXp, GbndRnge, NGsBlkXp</td>\n",
       "    </tr>\n",
       "    <tr>\n",
       "      <th>9</th>\n",
       "      <td>1.227362</td>\n",
       "      <td>26d0ff60-6b2d-40d8-9650-364b66940d15</td>\n",
       "      <td>False</td>\n",
       "      <td>False</td>\n",
       "      <td>400</td>\n",
       "      <td>21</td>\n",
       "      <td>400</td>\n",
       "      <td>8.0</td>\n",
       "      <td>10</td>\n",
       "      <td>BndsRnXp, GbndRnge, NGsBlkXp</td>\n",
       "    </tr>\n",
       "    <tr>\n",
       "      <th>10</th>\n",
       "      <td>0.924562</td>\n",
       "      <td>a90dff57-e0ad-4cb1-960c-861d29d09762</td>\n",
       "      <td>False</td>\n",
       "      <td>False</td>\n",
       "      <td>100</td>\n",
       "      <td>21</td>\n",
       "      <td>100</td>\n",
       "      <td>3.0</td>\n",
       "      <td>11</td>\n",
       "      <td>BndsRnXp, GbndRnge, NGsBlkXp</td>\n",
       "    </tr>\n",
       "    <tr>\n",
       "      <th>11</th>\n",
       "      <td>0.921601</td>\n",
       "      <td>1b008158-4bbf-4c65-a975-5ad63c598c43</td>\n",
       "      <td>False</td>\n",
       "      <td>False</td>\n",
       "      <td>450</td>\n",
       "      <td>21</td>\n",
       "      <td>450</td>\n",
       "      <td>3.0</td>\n",
       "      <td>12</td>\n",
       "      <td>BndsRnXp, GbndRnge, NGsBlkXp</td>\n",
       "    </tr>\n",
       "    <tr>\n",
       "      <th>12</th>\n",
       "      <td>1.224936</td>\n",
       "      <td>ba452019-b914-4fc2-a7d4-9b35d7fc143c</td>\n",
       "      <td>False</td>\n",
       "      <td>False</td>\n",
       "      <td>100</td>\n",
       "      <td>21</td>\n",
       "      <td>100</td>\n",
       "      <td>9.0</td>\n",
       "      <td>13</td>\n",
       "      <td>BndsRnXp, GbndRnge, NGsBlkXp</td>\n",
       "    </tr>\n",
       "    <tr>\n",
       "      <th>13</th>\n",
       "      <td>1.173788</td>\n",
       "      <td>93fdca88-62b5-4b42-813e-b3eb55a443c2</td>\n",
       "      <td>False</td>\n",
       "      <td>False</td>\n",
       "      <td>200</td>\n",
       "      <td>21</td>\n",
       "      <td>200</td>\n",
       "      <td>7.0</td>\n",
       "      <td>14</td>\n",
       "      <td>BndsRnXp, GbndRnge, NGsBlkXp</td>\n",
       "    </tr>\n",
       "    <tr>\n",
       "      <th>14</th>\n",
       "      <td>1.133720</td>\n",
       "      <td>12c2680c-5a46-4063-98eb-95b2e1f4437f</td>\n",
       "      <td>False</td>\n",
       "      <td>False</td>\n",
       "      <td>350</td>\n",
       "      <td>21</td>\n",
       "      <td>350</td>\n",
       "      <td>5.0</td>\n",
       "      <td>15</td>\n",
       "      <td>BndsRnXp, GbndRnge, NGsBlkXp</td>\n",
       "    </tr>\n",
       "    <tr>\n",
       "      <th>15</th>\n",
       "      <td>1.230019</td>\n",
       "      <td>d7cee2ae-10a9-467f-bd93-ad80b41491b5</td>\n",
       "      <td>False</td>\n",
       "      <td>False</td>\n",
       "      <td>450</td>\n",
       "      <td>21</td>\n",
       "      <td>450</td>\n",
       "      <td>9.0</td>\n",
       "      <td>16</td>\n",
       "      <td>BndsRnXp, GbndRnge, NGsBlkXp</td>\n",
       "    </tr>\n",
       "    <tr>\n",
       "      <th>16</th>\n",
       "      <td>1.129267</td>\n",
       "      <td>980e6b4e-2b04-4bf7-bd42-b8360972de56</td>\n",
       "      <td>False</td>\n",
       "      <td>True</td>\n",
       "      <td>100</td>\n",
       "      <td>21</td>\n",
       "      <td>100</td>\n",
       "      <td>5.0</td>\n",
       "      <td>17</td>\n",
       "      <td>BndsRnXp, GbndRnge, NGsBlkXp</td>\n",
       "    </tr>\n",
       "  </tbody>\n",
       "</table>\n",
       "</div>"
      ],
      "text/plain": [
       "        gap_                                  uuid  failed  useful  BndsRnXp   \n",
       "0   1.052619  fe4dbf32-5b75-4eef-bb92-956091597800   False   False       150  \\\n",
       "1   1.052233  7bbf9cf7-31c8-4cab-b906-464caccd0288   False   False       150   \n",
       "2   1.052241  89935ccd-da88-4b4e-8282-0099988c7cf3   False   False       150   \n",
       "3   1.052227  50640635-5675-41e8-a5af-b55da47a8fbf   False   False       150   \n",
       "4   0.918945  21d8e9c4-0c0e-45dd-b192-ee5b8bf5d981   False   False        50   \n",
       "5   0.918684  17d4aeab-6908-4bb0-9537-1fce519cfeee   False   False       400   \n",
       "6   1.197145  583fa118-2372-4406-9e56-f2d2ef6f8b81   False   False        50   \n",
       "7   1.130664  cb862bbd-6eb5-4f47-a99c-3742032ad835   False   False       150   \n",
       "8   1.052955  34c2c892-7518-4e24-b1ab-b1fa82a2adfc   False   False       300   \n",
       "9   1.227362  26d0ff60-6b2d-40d8-9650-364b66940d15   False   False       400   \n",
       "10  0.924562  a90dff57-e0ad-4cb1-960c-861d29d09762   False   False       100   \n",
       "11  0.921601  1b008158-4bbf-4c65-a975-5ad63c598c43   False   False       450   \n",
       "12  1.224936  ba452019-b914-4fc2-a7d4-9b35d7fc143c   False   False       100   \n",
       "13  1.173788  93fdca88-62b5-4b42-813e-b3eb55a443c2   False   False       200   \n",
       "14  1.133720  12c2680c-5a46-4063-98eb-95b2e1f4437f   False   False       350   \n",
       "15  1.230019  d7cee2ae-10a9-467f-bd93-ad80b41491b5   False   False       450   \n",
       "16  1.129267  980e6b4e-2b04-4bf7-bd42-b8360972de56   False    True       100   \n",
       "\n",
       "    FFTGvecs  GbndRnge  NGsBlkXp  global_step            parameters_studied  \n",
       "0         21       150       4.0            1                      FFTGvecs  \n",
       "1         37       150       4.0            2                      FFTGvecs  \n",
       "2         45       150       4.0            3                      FFTGvecs  \n",
       "3         58       150       4.0            4                      FFTGvecs  \n",
       "4         21        50       2.0            5  BndsRnXp, GbndRnge, NGsBlkXp  \n",
       "5         21       400       2.0            6  BndsRnXp, GbndRnge, NGsBlkXp  \n",
       "6         21        50       8.0            7  BndsRnXp, GbndRnge, NGsBlkXp  \n",
       "7         21       150       6.0            8  BndsRnXp, GbndRnge, NGsBlkXp  \n",
       "8         21       300       4.0            9  BndsRnXp, GbndRnge, NGsBlkXp  \n",
       "9         21       400       8.0           10  BndsRnXp, GbndRnge, NGsBlkXp  \n",
       "10        21       100       3.0           11  BndsRnXp, GbndRnge, NGsBlkXp  \n",
       "11        21       450       3.0           12  BndsRnXp, GbndRnge, NGsBlkXp  \n",
       "12        21       100       9.0           13  BndsRnXp, GbndRnge, NGsBlkXp  \n",
       "13        21       200       7.0           14  BndsRnXp, GbndRnge, NGsBlkXp  \n",
       "14        21       350       5.0           15  BndsRnXp, GbndRnge, NGsBlkXp  \n",
       "15        21       450       9.0           16  BndsRnXp, GbndRnge, NGsBlkXp  \n",
       "16        21       100       5.0           17  BndsRnXp, GbndRnge, NGsBlkXp  "
      ]
     },
     "execution_count": 27,
     "metadata": {},
     "output_type": "execute_result"
    }
   ],
   "source": [
    "history_table"
   ]
  },
  {
   "cell_type": "markdown",
   "id": "f83760c6",
   "metadata": {},
   "source": [
    "The converged calculations can be easily observed using:"
   ]
  },
  {
   "cell_type": "code",
   "execution_count": 28,
   "id": "bffc7445",
   "metadata": {},
   "outputs": [
    {
     "data": {
      "text/html": [
       "<div>\n",
       "<style scoped>\n",
       "    .dataframe tbody tr th:only-of-type {\n",
       "        vertical-align: middle;\n",
       "    }\n",
       "\n",
       "    .dataframe tbody tr th {\n",
       "        vertical-align: top;\n",
       "    }\n",
       "\n",
       "    .dataframe thead th {\n",
       "        text-align: right;\n",
       "    }\n",
       "</style>\n",
       "<table border=\"1\" class=\"dataframe\">\n",
       "  <thead>\n",
       "    <tr style=\"text-align: right;\">\n",
       "      <th></th>\n",
       "      <th>gap_</th>\n",
       "      <th>uuid</th>\n",
       "      <th>failed</th>\n",
       "      <th>useful</th>\n",
       "      <th>BndsRnXp</th>\n",
       "      <th>FFTGvecs</th>\n",
       "      <th>GbndRnge</th>\n",
       "      <th>NGsBlkXp</th>\n",
       "      <th>global_step</th>\n",
       "      <th>parameters_studied</th>\n",
       "    </tr>\n",
       "  </thead>\n",
       "  <tbody>\n",
       "    <tr>\n",
       "      <th>16</th>\n",
       "      <td>1.129267</td>\n",
       "      <td>980e6b4e-2b04-4bf7-bd42-b8360972de56</td>\n",
       "      <td>False</td>\n",
       "      <td>True</td>\n",
       "      <td>100</td>\n",
       "      <td>21</td>\n",
       "      <td>100</td>\n",
       "      <td>5.0</td>\n",
       "      <td>17</td>\n",
       "      <td>BndsRnXp, GbndRnge, NGsBlkXp</td>\n",
       "    </tr>\n",
       "  </tbody>\n",
       "</table>\n",
       "</div>"
      ],
      "text/plain": [
       "        gap_                                  uuid  failed  useful  BndsRnXp   \n",
       "16  1.129267  980e6b4e-2b04-4bf7-bd42-b8360972de56   False    True       100  \\\n",
       "\n",
       "    FFTGvecs  GbndRnge  NGsBlkXp  global_step            parameters_studied  \n",
       "16        21       100       5.0           17  BndsRnXp, GbndRnge, NGsBlkXp  "
      ]
     },
     "execution_count": 28,
     "metadata": {},
     "output_type": "execute_result"
    }
   ],
   "source": [
    "history_table[history_table['useful']==True]"
   ]
  },
  {
   "cell_type": "markdown",
   "id": "53a3541b",
   "metadata": {},
   "source": [
    "Result on the convergence path can be plotted using several plotting libraries, for examples here we are gonna use [plotly]((https://plotly.com/python/3d-line-plots/)) to observe the convergence between bands and plane wave cutoff for the screening matrix:"
   ]
  },
  {
   "cell_type": "code",
   "execution_count": 71,
   "id": "634a1f43",
   "metadata": {},
   "outputs": [
    {
     "name": "stderr",
     "output_type": "stream",
     "text": [
      "/tmp/ipykernel_3335/2260210324.py:4: UserWarning:\n",
      "\n",
      "Boolean Series key will be reindexed to match DataFrame index.\n",
      "\n"
     ]
    },
    {
     "data": {
      "application/vnd.plotly.v1+json": {
       "config": {
        "plotlyServerURL": "https://plot.ly"
       },
       "data": [
        {
         "hovertemplate": "BndsRnXp=%{x}<br>NGsBlkXp=%{y}<br>gap_=%{marker.color}<extra></extra>",
         "legendgroup": "",
         "marker": {
          "color": [
           0.91894506049752,
           0.91868393043876,
           1.1971450776696,
           1.1306635543078,
           1.0529550603449,
           1.2273623668611,
           0.92456178964973,
           0.92160096404552,
           1.2249359658182,
           1.1737877237797,
           1.1337196680546,
           1.230019081372,
           1.129266670686
          ],
          "coloraxis": "coloraxis",
          "symbol": "circle"
         },
         "mode": "markers",
         "name": "",
         "scene": "scene",
         "showlegend": false,
         "type": "scatter3d",
         "x": [
          50,
          400,
          50,
          150,
          300,
          400,
          100,
          450,
          100,
          200,
          350,
          450,
          100
         ],
         "y": [
          2,
          2,
          8,
          6,
          4,
          8,
          3,
          3,
          9,
          7,
          5,
          9,
          5
         ],
         "z": [
          0.91894506049752,
          0.91868393043876,
          1.1971450776696,
          1.1306635543078,
          1.0529550603449,
          1.2273623668611,
          0.92456178964973,
          0.92160096404552,
          1.2249359658182,
          1.1737877237797,
          1.1337196680546,
          1.230019081372,
          1.129266670686
         ]
        }
       ],
       "layout": {
        "coloraxis": {
         "colorbar": {
          "title": {
           "text": "gap_"
          }
         },
         "colorscale": [
          [
           0,
           "#0d0887"
          ],
          [
           0.1111111111111111,
           "#46039f"
          ],
          [
           0.2222222222222222,
           "#7201a8"
          ],
          [
           0.3333333333333333,
           "#9c179e"
          ],
          [
           0.4444444444444444,
           "#bd3786"
          ],
          [
           0.5555555555555556,
           "#d8576b"
          ],
          [
           0.6666666666666666,
           "#ed7953"
          ],
          [
           0.7777777777777778,
           "#fb9f3a"
          ],
          [
           0.8888888888888888,
           "#fdca26"
          ],
          [
           1,
           "#f0f921"
          ]
         ]
        },
        "legend": {
         "tracegroupgap": 0
        },
        "margin": {
         "t": 60
        },
        "scene": {
         "domain": {
          "x": [
           0,
           1
          ],
          "y": [
           0,
           1
          ]
         },
         "xaxis": {
          "title": {
           "text": "BndsRnXp"
          }
         },
         "yaxis": {
          "title": {
           "text": "NGsBlkXp"
          }
         },
         "zaxis": {
          "title": {
           "text": "gap_"
          }
         }
        },
        "template": {
         "data": {
          "bar": [
           {
            "error_x": {
             "color": "#2a3f5f"
            },
            "error_y": {
             "color": "#2a3f5f"
            },
            "marker": {
             "line": {
              "color": "#E5ECF6",
              "width": 0.5
             },
             "pattern": {
              "fillmode": "overlay",
              "size": 10,
              "solidity": 0.2
             }
            },
            "type": "bar"
           }
          ],
          "barpolar": [
           {
            "marker": {
             "line": {
              "color": "#E5ECF6",
              "width": 0.5
             },
             "pattern": {
              "fillmode": "overlay",
              "size": 10,
              "solidity": 0.2
             }
            },
            "type": "barpolar"
           }
          ],
          "carpet": [
           {
            "aaxis": {
             "endlinecolor": "#2a3f5f",
             "gridcolor": "white",
             "linecolor": "white",
             "minorgridcolor": "white",
             "startlinecolor": "#2a3f5f"
            },
            "baxis": {
             "endlinecolor": "#2a3f5f",
             "gridcolor": "white",
             "linecolor": "white",
             "minorgridcolor": "white",
             "startlinecolor": "#2a3f5f"
            },
            "type": "carpet"
           }
          ],
          "choropleth": [
           {
            "colorbar": {
             "outlinewidth": 0,
             "ticks": ""
            },
            "type": "choropleth"
           }
          ],
          "contour": [
           {
            "colorbar": {
             "outlinewidth": 0,
             "ticks": ""
            },
            "colorscale": [
             [
              0,
              "#0d0887"
             ],
             [
              0.1111111111111111,
              "#46039f"
             ],
             [
              0.2222222222222222,
              "#7201a8"
             ],
             [
              0.3333333333333333,
              "#9c179e"
             ],
             [
              0.4444444444444444,
              "#bd3786"
             ],
             [
              0.5555555555555556,
              "#d8576b"
             ],
             [
              0.6666666666666666,
              "#ed7953"
             ],
             [
              0.7777777777777778,
              "#fb9f3a"
             ],
             [
              0.8888888888888888,
              "#fdca26"
             ],
             [
              1,
              "#f0f921"
             ]
            ],
            "type": "contour"
           }
          ],
          "contourcarpet": [
           {
            "colorbar": {
             "outlinewidth": 0,
             "ticks": ""
            },
            "type": "contourcarpet"
           }
          ],
          "heatmap": [
           {
            "colorbar": {
             "outlinewidth": 0,
             "ticks": ""
            },
            "colorscale": [
             [
              0,
              "#0d0887"
             ],
             [
              0.1111111111111111,
              "#46039f"
             ],
             [
              0.2222222222222222,
              "#7201a8"
             ],
             [
              0.3333333333333333,
              "#9c179e"
             ],
             [
              0.4444444444444444,
              "#bd3786"
             ],
             [
              0.5555555555555556,
              "#d8576b"
             ],
             [
              0.6666666666666666,
              "#ed7953"
             ],
             [
              0.7777777777777778,
              "#fb9f3a"
             ],
             [
              0.8888888888888888,
              "#fdca26"
             ],
             [
              1,
              "#f0f921"
             ]
            ],
            "type": "heatmap"
           }
          ],
          "heatmapgl": [
           {
            "colorbar": {
             "outlinewidth": 0,
             "ticks": ""
            },
            "colorscale": [
             [
              0,
              "#0d0887"
             ],
             [
              0.1111111111111111,
              "#46039f"
             ],
             [
              0.2222222222222222,
              "#7201a8"
             ],
             [
              0.3333333333333333,
              "#9c179e"
             ],
             [
              0.4444444444444444,
              "#bd3786"
             ],
             [
              0.5555555555555556,
              "#d8576b"
             ],
             [
              0.6666666666666666,
              "#ed7953"
             ],
             [
              0.7777777777777778,
              "#fb9f3a"
             ],
             [
              0.8888888888888888,
              "#fdca26"
             ],
             [
              1,
              "#f0f921"
             ]
            ],
            "type": "heatmapgl"
           }
          ],
          "histogram": [
           {
            "marker": {
             "pattern": {
              "fillmode": "overlay",
              "size": 10,
              "solidity": 0.2
             }
            },
            "type": "histogram"
           }
          ],
          "histogram2d": [
           {
            "colorbar": {
             "outlinewidth": 0,
             "ticks": ""
            },
            "colorscale": [
             [
              0,
              "#0d0887"
             ],
             [
              0.1111111111111111,
              "#46039f"
             ],
             [
              0.2222222222222222,
              "#7201a8"
             ],
             [
              0.3333333333333333,
              "#9c179e"
             ],
             [
              0.4444444444444444,
              "#bd3786"
             ],
             [
              0.5555555555555556,
              "#d8576b"
             ],
             [
              0.6666666666666666,
              "#ed7953"
             ],
             [
              0.7777777777777778,
              "#fb9f3a"
             ],
             [
              0.8888888888888888,
              "#fdca26"
             ],
             [
              1,
              "#f0f921"
             ]
            ],
            "type": "histogram2d"
           }
          ],
          "histogram2dcontour": [
           {
            "colorbar": {
             "outlinewidth": 0,
             "ticks": ""
            },
            "colorscale": [
             [
              0,
              "#0d0887"
             ],
             [
              0.1111111111111111,
              "#46039f"
             ],
             [
              0.2222222222222222,
              "#7201a8"
             ],
             [
              0.3333333333333333,
              "#9c179e"
             ],
             [
              0.4444444444444444,
              "#bd3786"
             ],
             [
              0.5555555555555556,
              "#d8576b"
             ],
             [
              0.6666666666666666,
              "#ed7953"
             ],
             [
              0.7777777777777778,
              "#fb9f3a"
             ],
             [
              0.8888888888888888,
              "#fdca26"
             ],
             [
              1,
              "#f0f921"
             ]
            ],
            "type": "histogram2dcontour"
           }
          ],
          "mesh3d": [
           {
            "colorbar": {
             "outlinewidth": 0,
             "ticks": ""
            },
            "type": "mesh3d"
           }
          ],
          "parcoords": [
           {
            "line": {
             "colorbar": {
              "outlinewidth": 0,
              "ticks": ""
             }
            },
            "type": "parcoords"
           }
          ],
          "pie": [
           {
            "automargin": true,
            "type": "pie"
           }
          ],
          "scatter": [
           {
            "fillpattern": {
             "fillmode": "overlay",
             "size": 10,
             "solidity": 0.2
            },
            "type": "scatter"
           }
          ],
          "scatter3d": [
           {
            "line": {
             "colorbar": {
              "outlinewidth": 0,
              "ticks": ""
             }
            },
            "marker": {
             "colorbar": {
              "outlinewidth": 0,
              "ticks": ""
             }
            },
            "type": "scatter3d"
           }
          ],
          "scattercarpet": [
           {
            "marker": {
             "colorbar": {
              "outlinewidth": 0,
              "ticks": ""
             }
            },
            "type": "scattercarpet"
           }
          ],
          "scattergeo": [
           {
            "marker": {
             "colorbar": {
              "outlinewidth": 0,
              "ticks": ""
             }
            },
            "type": "scattergeo"
           }
          ],
          "scattergl": [
           {
            "marker": {
             "colorbar": {
              "outlinewidth": 0,
              "ticks": ""
             }
            },
            "type": "scattergl"
           }
          ],
          "scattermapbox": [
           {
            "marker": {
             "colorbar": {
              "outlinewidth": 0,
              "ticks": ""
             }
            },
            "type": "scattermapbox"
           }
          ],
          "scatterpolar": [
           {
            "marker": {
             "colorbar": {
              "outlinewidth": 0,
              "ticks": ""
             }
            },
            "type": "scatterpolar"
           }
          ],
          "scatterpolargl": [
           {
            "marker": {
             "colorbar": {
              "outlinewidth": 0,
              "ticks": ""
             }
            },
            "type": "scatterpolargl"
           }
          ],
          "scatterternary": [
           {
            "marker": {
             "colorbar": {
              "outlinewidth": 0,
              "ticks": ""
             }
            },
            "type": "scatterternary"
           }
          ],
          "surface": [
           {
            "colorbar": {
             "outlinewidth": 0,
             "ticks": ""
            },
            "colorscale": [
             [
              0,
              "#0d0887"
             ],
             [
              0.1111111111111111,
              "#46039f"
             ],
             [
              0.2222222222222222,
              "#7201a8"
             ],
             [
              0.3333333333333333,
              "#9c179e"
             ],
             [
              0.4444444444444444,
              "#bd3786"
             ],
             [
              0.5555555555555556,
              "#d8576b"
             ],
             [
              0.6666666666666666,
              "#ed7953"
             ],
             [
              0.7777777777777778,
              "#fb9f3a"
             ],
             [
              0.8888888888888888,
              "#fdca26"
             ],
             [
              1,
              "#f0f921"
             ]
            ],
            "type": "surface"
           }
          ],
          "table": [
           {
            "cells": {
             "fill": {
              "color": "#EBF0F8"
             },
             "line": {
              "color": "white"
             }
            },
            "header": {
             "fill": {
              "color": "#C8D4E3"
             },
             "line": {
              "color": "white"
             }
            },
            "type": "table"
           }
          ]
         },
         "layout": {
          "annotationdefaults": {
           "arrowcolor": "#2a3f5f",
           "arrowhead": 0,
           "arrowwidth": 1
          },
          "autotypenumbers": "strict",
          "coloraxis": {
           "colorbar": {
            "outlinewidth": 0,
            "ticks": ""
           }
          },
          "colorscale": {
           "diverging": [
            [
             0,
             "#8e0152"
            ],
            [
             0.1,
             "#c51b7d"
            ],
            [
             0.2,
             "#de77ae"
            ],
            [
             0.3,
             "#f1b6da"
            ],
            [
             0.4,
             "#fde0ef"
            ],
            [
             0.5,
             "#f7f7f7"
            ],
            [
             0.6,
             "#e6f5d0"
            ],
            [
             0.7,
             "#b8e186"
            ],
            [
             0.8,
             "#7fbc41"
            ],
            [
             0.9,
             "#4d9221"
            ],
            [
             1,
             "#276419"
            ]
           ],
           "sequential": [
            [
             0,
             "#0d0887"
            ],
            [
             0.1111111111111111,
             "#46039f"
            ],
            [
             0.2222222222222222,
             "#7201a8"
            ],
            [
             0.3333333333333333,
             "#9c179e"
            ],
            [
             0.4444444444444444,
             "#bd3786"
            ],
            [
             0.5555555555555556,
             "#d8576b"
            ],
            [
             0.6666666666666666,
             "#ed7953"
            ],
            [
             0.7777777777777778,
             "#fb9f3a"
            ],
            [
             0.8888888888888888,
             "#fdca26"
            ],
            [
             1,
             "#f0f921"
            ]
           ],
           "sequentialminus": [
            [
             0,
             "#0d0887"
            ],
            [
             0.1111111111111111,
             "#46039f"
            ],
            [
             0.2222222222222222,
             "#7201a8"
            ],
            [
             0.3333333333333333,
             "#9c179e"
            ],
            [
             0.4444444444444444,
             "#bd3786"
            ],
            [
             0.5555555555555556,
             "#d8576b"
            ],
            [
             0.6666666666666666,
             "#ed7953"
            ],
            [
             0.7777777777777778,
             "#fb9f3a"
            ],
            [
             0.8888888888888888,
             "#fdca26"
            ],
            [
             1,
             "#f0f921"
            ]
           ]
          },
          "colorway": [
           "#636efa",
           "#EF553B",
           "#00cc96",
           "#ab63fa",
           "#FFA15A",
           "#19d3f3",
           "#FF6692",
           "#B6E880",
           "#FF97FF",
           "#FECB52"
          ],
          "font": {
           "color": "#2a3f5f"
          },
          "geo": {
           "bgcolor": "white",
           "lakecolor": "white",
           "landcolor": "#E5ECF6",
           "showlakes": true,
           "showland": true,
           "subunitcolor": "white"
          },
          "hoverlabel": {
           "align": "left"
          },
          "hovermode": "closest",
          "mapbox": {
           "style": "light"
          },
          "paper_bgcolor": "white",
          "plot_bgcolor": "#E5ECF6",
          "polar": {
           "angularaxis": {
            "gridcolor": "white",
            "linecolor": "white",
            "ticks": ""
           },
           "bgcolor": "#E5ECF6",
           "radialaxis": {
            "gridcolor": "white",
            "linecolor": "white",
            "ticks": ""
           }
          },
          "scene": {
           "xaxis": {
            "backgroundcolor": "#E5ECF6",
            "gridcolor": "white",
            "gridwidth": 2,
            "linecolor": "white",
            "showbackground": true,
            "ticks": "",
            "zerolinecolor": "white"
           },
           "yaxis": {
            "backgroundcolor": "#E5ECF6",
            "gridcolor": "white",
            "gridwidth": 2,
            "linecolor": "white",
            "showbackground": true,
            "ticks": "",
            "zerolinecolor": "white"
           },
           "zaxis": {
            "backgroundcolor": "#E5ECF6",
            "gridcolor": "white",
            "gridwidth": 2,
            "linecolor": "white",
            "showbackground": true,
            "ticks": "",
            "zerolinecolor": "white"
           }
          },
          "shapedefaults": {
           "line": {
            "color": "#2a3f5f"
           }
          },
          "ternary": {
           "aaxis": {
            "gridcolor": "white",
            "linecolor": "white",
            "ticks": ""
           },
           "baxis": {
            "gridcolor": "white",
            "linecolor": "white",
            "ticks": ""
           },
           "bgcolor": "#E5ECF6",
           "caxis": {
            "gridcolor": "white",
            "linecolor": "white",
            "ticks": ""
           }
          },
          "title": {
           "x": 0.05
          },
          "xaxis": {
           "automargin": true,
           "gridcolor": "white",
           "linecolor": "white",
           "ticks": "",
           "title": {
            "standoff": 15
           },
           "zerolinecolor": "white",
           "zerolinewidth": 2
          },
          "yaxis": {
           "automargin": true,
           "gridcolor": "white",
           "linecolor": "white",
           "ticks": "",
           "title": {
            "standoff": 15
           },
           "zerolinecolor": "white",
           "zerolinewidth": 2
          }
         }
        }
       }
      },
      "text/html": [
       "<div>                            <div id=\"1d9f8e34-7b86-4d58-83e7-9937379a393a\" class=\"plotly-graph-div\" style=\"height:525px; width:100%;\"></div>            <script type=\"text/javascript\">                require([\"plotly\"], function(Plotly) {                    window.PLOTLYENV=window.PLOTLYENV || {};                                    if (document.getElementById(\"1d9f8e34-7b86-4d58-83e7-9937379a393a\")) {                    Plotly.newPlot(                        \"1d9f8e34-7b86-4d58-83e7-9937379a393a\",                        [{\"hovertemplate\":\"BndsRnXp=%{x}<br>NGsBlkXp=%{y}<br>gap_=%{marker.color}<extra></extra>\",\"legendgroup\":\"\",\"marker\":{\"color\":[0.91894506049752,0.91868393043876,1.1971450776696,1.1306635543078,1.0529550603449,1.2273623668611,0.92456178964973,0.92160096404552,1.2249359658182,1.1737877237797,1.1337196680546,1.230019081372,1.129266670686],\"coloraxis\":\"coloraxis\",\"symbol\":\"circle\"},\"mode\":\"markers\",\"name\":\"\",\"scene\":\"scene\",\"showlegend\":false,\"x\":[50,400,50,150,300,400,100,450,100,200,350,450,100],\"y\":[2.0,2.0,8.0,6.0,4.0,8.0,3.0,3.0,9.0,7.0,5.0,9.0,5.0],\"z\":[0.91894506049752,0.91868393043876,1.1971450776696,1.1306635543078,1.0529550603449,1.2273623668611,0.92456178964973,0.92160096404552,1.2249359658182,1.1737877237797,1.1337196680546,1.230019081372,1.129266670686],\"type\":\"scatter3d\"}],                        {\"template\":{\"data\":{\"histogram2dcontour\":[{\"type\":\"histogram2dcontour\",\"colorbar\":{\"outlinewidth\":0,\"ticks\":\"\"},\"colorscale\":[[0.0,\"#0d0887\"],[0.1111111111111111,\"#46039f\"],[0.2222222222222222,\"#7201a8\"],[0.3333333333333333,\"#9c179e\"],[0.4444444444444444,\"#bd3786\"],[0.5555555555555556,\"#d8576b\"],[0.6666666666666666,\"#ed7953\"],[0.7777777777777778,\"#fb9f3a\"],[0.8888888888888888,\"#fdca26\"],[1.0,\"#f0f921\"]]}],\"choropleth\":[{\"type\":\"choropleth\",\"colorbar\":{\"outlinewidth\":0,\"ticks\":\"\"}}],\"histogram2d\":[{\"type\":\"histogram2d\",\"colorbar\":{\"outlinewidth\":0,\"ticks\":\"\"},\"colorscale\":[[0.0,\"#0d0887\"],[0.1111111111111111,\"#46039f\"],[0.2222222222222222,\"#7201a8\"],[0.3333333333333333,\"#9c179e\"],[0.4444444444444444,\"#bd3786\"],[0.5555555555555556,\"#d8576b\"],[0.6666666666666666,\"#ed7953\"],[0.7777777777777778,\"#fb9f3a\"],[0.8888888888888888,\"#fdca26\"],[1.0,\"#f0f921\"]]}],\"heatmap\":[{\"type\":\"heatmap\",\"colorbar\":{\"outlinewidth\":0,\"ticks\":\"\"},\"colorscale\":[[0.0,\"#0d0887\"],[0.1111111111111111,\"#46039f\"],[0.2222222222222222,\"#7201a8\"],[0.3333333333333333,\"#9c179e\"],[0.4444444444444444,\"#bd3786\"],[0.5555555555555556,\"#d8576b\"],[0.6666666666666666,\"#ed7953\"],[0.7777777777777778,\"#fb9f3a\"],[0.8888888888888888,\"#fdca26\"],[1.0,\"#f0f921\"]]}],\"heatmapgl\":[{\"type\":\"heatmapgl\",\"colorbar\":{\"outlinewidth\":0,\"ticks\":\"\"},\"colorscale\":[[0.0,\"#0d0887\"],[0.1111111111111111,\"#46039f\"],[0.2222222222222222,\"#7201a8\"],[0.3333333333333333,\"#9c179e\"],[0.4444444444444444,\"#bd3786\"],[0.5555555555555556,\"#d8576b\"],[0.6666666666666666,\"#ed7953\"],[0.7777777777777778,\"#fb9f3a\"],[0.8888888888888888,\"#fdca26\"],[1.0,\"#f0f921\"]]}],\"contourcarpet\":[{\"type\":\"contourcarpet\",\"colorbar\":{\"outlinewidth\":0,\"ticks\":\"\"}}],\"contour\":[{\"type\":\"contour\",\"colorbar\":{\"outlinewidth\":0,\"ticks\":\"\"},\"colorscale\":[[0.0,\"#0d0887\"],[0.1111111111111111,\"#46039f\"],[0.2222222222222222,\"#7201a8\"],[0.3333333333333333,\"#9c179e\"],[0.4444444444444444,\"#bd3786\"],[0.5555555555555556,\"#d8576b\"],[0.6666666666666666,\"#ed7953\"],[0.7777777777777778,\"#fb9f3a\"],[0.8888888888888888,\"#fdca26\"],[1.0,\"#f0f921\"]]}],\"surface\":[{\"type\":\"surface\",\"colorbar\":{\"outlinewidth\":0,\"ticks\":\"\"},\"colorscale\":[[0.0,\"#0d0887\"],[0.1111111111111111,\"#46039f\"],[0.2222222222222222,\"#7201a8\"],[0.3333333333333333,\"#9c179e\"],[0.4444444444444444,\"#bd3786\"],[0.5555555555555556,\"#d8576b\"],[0.6666666666666666,\"#ed7953\"],[0.7777777777777778,\"#fb9f3a\"],[0.8888888888888888,\"#fdca26\"],[1.0,\"#f0f921\"]]}],\"mesh3d\":[{\"type\":\"mesh3d\",\"colorbar\":{\"outlinewidth\":0,\"ticks\":\"\"}}],\"scatter\":[{\"fillpattern\":{\"fillmode\":\"overlay\",\"size\":10,\"solidity\":0.2},\"type\":\"scatter\"}],\"parcoords\":[{\"type\":\"parcoords\",\"line\":{\"colorbar\":{\"outlinewidth\":0,\"ticks\":\"\"}}}],\"scatterpolargl\":[{\"type\":\"scatterpolargl\",\"marker\":{\"colorbar\":{\"outlinewidth\":0,\"ticks\":\"\"}}}],\"bar\":[{\"error_x\":{\"color\":\"#2a3f5f\"},\"error_y\":{\"color\":\"#2a3f5f\"},\"marker\":{\"line\":{\"color\":\"#E5ECF6\",\"width\":0.5},\"pattern\":{\"fillmode\":\"overlay\",\"size\":10,\"solidity\":0.2}},\"type\":\"bar\"}],\"scattergeo\":[{\"type\":\"scattergeo\",\"marker\":{\"colorbar\":{\"outlinewidth\":0,\"ticks\":\"\"}}}],\"scatterpolar\":[{\"type\":\"scatterpolar\",\"marker\":{\"colorbar\":{\"outlinewidth\":0,\"ticks\":\"\"}}}],\"histogram\":[{\"marker\":{\"pattern\":{\"fillmode\":\"overlay\",\"size\":10,\"solidity\":0.2}},\"type\":\"histogram\"}],\"scattergl\":[{\"type\":\"scattergl\",\"marker\":{\"colorbar\":{\"outlinewidth\":0,\"ticks\":\"\"}}}],\"scatter3d\":[{\"type\":\"scatter3d\",\"line\":{\"colorbar\":{\"outlinewidth\":0,\"ticks\":\"\"}},\"marker\":{\"colorbar\":{\"outlinewidth\":0,\"ticks\":\"\"}}}],\"scattermapbox\":[{\"type\":\"scattermapbox\",\"marker\":{\"colorbar\":{\"outlinewidth\":0,\"ticks\":\"\"}}}],\"scatterternary\":[{\"type\":\"scatterternary\",\"marker\":{\"colorbar\":{\"outlinewidth\":0,\"ticks\":\"\"}}}],\"scattercarpet\":[{\"type\":\"scattercarpet\",\"marker\":{\"colorbar\":{\"outlinewidth\":0,\"ticks\":\"\"}}}],\"carpet\":[{\"aaxis\":{\"endlinecolor\":\"#2a3f5f\",\"gridcolor\":\"white\",\"linecolor\":\"white\",\"minorgridcolor\":\"white\",\"startlinecolor\":\"#2a3f5f\"},\"baxis\":{\"endlinecolor\":\"#2a3f5f\",\"gridcolor\":\"white\",\"linecolor\":\"white\",\"minorgridcolor\":\"white\",\"startlinecolor\":\"#2a3f5f\"},\"type\":\"carpet\"}],\"table\":[{\"cells\":{\"fill\":{\"color\":\"#EBF0F8\"},\"line\":{\"color\":\"white\"}},\"header\":{\"fill\":{\"color\":\"#C8D4E3\"},\"line\":{\"color\":\"white\"}},\"type\":\"table\"}],\"barpolar\":[{\"marker\":{\"line\":{\"color\":\"#E5ECF6\",\"width\":0.5},\"pattern\":{\"fillmode\":\"overlay\",\"size\":10,\"solidity\":0.2}},\"type\":\"barpolar\"}],\"pie\":[{\"automargin\":true,\"type\":\"pie\"}]},\"layout\":{\"autotypenumbers\":\"strict\",\"colorway\":[\"#636efa\",\"#EF553B\",\"#00cc96\",\"#ab63fa\",\"#FFA15A\",\"#19d3f3\",\"#FF6692\",\"#B6E880\",\"#FF97FF\",\"#FECB52\"],\"font\":{\"color\":\"#2a3f5f\"},\"hovermode\":\"closest\",\"hoverlabel\":{\"align\":\"left\"},\"paper_bgcolor\":\"white\",\"plot_bgcolor\":\"#E5ECF6\",\"polar\":{\"bgcolor\":\"#E5ECF6\",\"angularaxis\":{\"gridcolor\":\"white\",\"linecolor\":\"white\",\"ticks\":\"\"},\"radialaxis\":{\"gridcolor\":\"white\",\"linecolor\":\"white\",\"ticks\":\"\"}},\"ternary\":{\"bgcolor\":\"#E5ECF6\",\"aaxis\":{\"gridcolor\":\"white\",\"linecolor\":\"white\",\"ticks\":\"\"},\"baxis\":{\"gridcolor\":\"white\",\"linecolor\":\"white\",\"ticks\":\"\"},\"caxis\":{\"gridcolor\":\"white\",\"linecolor\":\"white\",\"ticks\":\"\"}},\"coloraxis\":{\"colorbar\":{\"outlinewidth\":0,\"ticks\":\"\"}},\"colorscale\":{\"sequential\":[[0.0,\"#0d0887\"],[0.1111111111111111,\"#46039f\"],[0.2222222222222222,\"#7201a8\"],[0.3333333333333333,\"#9c179e\"],[0.4444444444444444,\"#bd3786\"],[0.5555555555555556,\"#d8576b\"],[0.6666666666666666,\"#ed7953\"],[0.7777777777777778,\"#fb9f3a\"],[0.8888888888888888,\"#fdca26\"],[1.0,\"#f0f921\"]],\"sequentialminus\":[[0.0,\"#0d0887\"],[0.1111111111111111,\"#46039f\"],[0.2222222222222222,\"#7201a8\"],[0.3333333333333333,\"#9c179e\"],[0.4444444444444444,\"#bd3786\"],[0.5555555555555556,\"#d8576b\"],[0.6666666666666666,\"#ed7953\"],[0.7777777777777778,\"#fb9f3a\"],[0.8888888888888888,\"#fdca26\"],[1.0,\"#f0f921\"]],\"diverging\":[[0,\"#8e0152\"],[0.1,\"#c51b7d\"],[0.2,\"#de77ae\"],[0.3,\"#f1b6da\"],[0.4,\"#fde0ef\"],[0.5,\"#f7f7f7\"],[0.6,\"#e6f5d0\"],[0.7,\"#b8e186\"],[0.8,\"#7fbc41\"],[0.9,\"#4d9221\"],[1,\"#276419\"]]},\"xaxis\":{\"gridcolor\":\"white\",\"linecolor\":\"white\",\"ticks\":\"\",\"title\":{\"standoff\":15},\"zerolinecolor\":\"white\",\"automargin\":true,\"zerolinewidth\":2},\"yaxis\":{\"gridcolor\":\"white\",\"linecolor\":\"white\",\"ticks\":\"\",\"title\":{\"standoff\":15},\"zerolinecolor\":\"white\",\"automargin\":true,\"zerolinewidth\":2},\"scene\":{\"xaxis\":{\"backgroundcolor\":\"#E5ECF6\",\"gridcolor\":\"white\",\"linecolor\":\"white\",\"showbackground\":true,\"ticks\":\"\",\"zerolinecolor\":\"white\",\"gridwidth\":2},\"yaxis\":{\"backgroundcolor\":\"#E5ECF6\",\"gridcolor\":\"white\",\"linecolor\":\"white\",\"showbackground\":true,\"ticks\":\"\",\"zerolinecolor\":\"white\",\"gridwidth\":2},\"zaxis\":{\"backgroundcolor\":\"#E5ECF6\",\"gridcolor\":\"white\",\"linecolor\":\"white\",\"showbackground\":true,\"ticks\":\"\",\"zerolinecolor\":\"white\",\"gridwidth\":2}},\"shapedefaults\":{\"line\":{\"color\":\"#2a3f5f\"}},\"annotationdefaults\":{\"arrowcolor\":\"#2a3f5f\",\"arrowhead\":0,\"arrowwidth\":1},\"geo\":{\"bgcolor\":\"white\",\"landcolor\":\"#E5ECF6\",\"subunitcolor\":\"white\",\"showland\":true,\"showlakes\":true,\"lakecolor\":\"white\"},\"title\":{\"x\":0.05},\"mapbox\":{\"style\":\"light\"}}},\"scene\":{\"domain\":{\"x\":[0.0,1.0],\"y\":[0.0,1.0]},\"xaxis\":{\"title\":{\"text\":\"BndsRnXp\"}},\"yaxis\":{\"title\":{\"text\":\"NGsBlkXp\"}},\"zaxis\":{\"title\":{\"text\":\"gap_\"}}},\"coloraxis\":{\"colorbar\":{\"title\":{\"text\":\"gap_\"}},\"colorscale\":[[0.0,\"#0d0887\"],[0.1111111111111111,\"#46039f\"],[0.2222222222222222,\"#7201a8\"],[0.3333333333333333,\"#9c179e\"],[0.4444444444444444,\"#bd3786\"],[0.5555555555555556,\"#d8576b\"],[0.6666666666666666,\"#ed7953\"],[0.7777777777777778,\"#fb9f3a\"],[0.8888888888888888,\"#fdca26\"],[1.0,\"#f0f921\"]]},\"legend\":{\"tracegroupgap\":0},\"margin\":{\"t\":60}},                        {\"responsive\": true}                    ).then(function(){\n",
       "                            \n",
       "var gd = document.getElementById('1d9f8e34-7b86-4d58-83e7-9937379a393a');\n",
       "var x = new MutationObserver(function (mutations, observer) {{\n",
       "        var display = window.getComputedStyle(gd).display;\n",
       "        if (!display || display === 'none') {{\n",
       "            console.log([gd, 'removed!']);\n",
       "            Plotly.purge(gd);\n",
       "            observer.disconnect();\n",
       "        }}\n",
       "}});\n",
       "\n",
       "// Listen for the removal of the full notebook cells\n",
       "var notebookContainer = gd.closest('#notebook-container');\n",
       "if (notebookContainer) {{\n",
       "    x.observe(notebookContainer, {childList: true});\n",
       "}}\n",
       "\n",
       "// Listen for the clearing of the current output cell\n",
       "var outputEl = gd.closest('.output');\n",
       "if (outputEl) {{\n",
       "    x.observe(outputEl, {childList: true});\n",
       "}}\n",
       "\n",
       "                        })                };                });            </script>        </div>"
      ]
     },
     "metadata": {},
     "output_type": "display_data"
    }
   ],
   "source": [
    "import plotly.graph_objs as go\n",
    "\n",
    "b_G_history = history_table[history_table['parameters_studied']==\"BndsRnXp, GbndRnge, NGsBlkXp\"]\n",
    "converged = b_G_history[history_table['useful']==True]\n",
    "\n",
    "df = b_G_history\n",
    "\n",
    "fig = px.scatter_3d(df, x=\"BndsRnXp\", y=\"NGsBlkXp\", z=\"gap_\",color=\"gap_\")\n",
    "\n",
    "\n",
    "\n",
    "fig.show()\n"
   ]
  },
  {
   "cell_type": "code",
   "execution_count": null,
   "id": "832a1e9d",
   "metadata": {},
   "outputs": [],
   "source": []
  }
 ],
 "metadata": {
  "kernelspec": {
   "display_name": "Python 3 (ipykernel)",
   "language": "python",
   "name": "python3"
  },
  "language_info": {
   "codemirror_mode": {
    "name": "ipython",
    "version": 3
   },
   "file_extension": ".py",
   "mimetype": "text/x-python",
   "name": "python",
   "nbconvert_exporter": "python",
   "pygments_lexer": "ipython3",
   "version": "3.9.16"
  }
 },
 "nbformat": 4,
 "nbformat_minor": 5
}
