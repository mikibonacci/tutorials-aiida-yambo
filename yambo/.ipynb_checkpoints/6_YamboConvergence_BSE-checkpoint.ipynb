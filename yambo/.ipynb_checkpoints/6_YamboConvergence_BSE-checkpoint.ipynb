{
 "cells": [
  {
   "cell_type": "markdown",
   "id": "a26b52e1",
   "metadata": {},
   "source": [
    "# YamboConvergence: automated BSE convergence\n",
    "\n",
    "In the following, we will perform BSE convergence using the same workflow as for the GW simulations: `YamboConvergence`."
   ]
  },
  {
   "cell_type": "code",
   "execution_count": 13,
   "id": "0dd30649",
   "metadata": {},
   "outputs": [
    {
     "name": "stdout",
     "output_type": "stream",
     "text": [
      "Summary of the main inputs:\n",
      "BndsRnXs = 50\n",
      "NGsBlkXs = 2 Ry\n",
      "BSENGBlk = 2 Ry\n",
      "FFTGvecs = 20 Ry\n",
      "\n",
      "\n",
      "kpoint mesh for nscf: [6, 6, 6]\n"
     ]
    },
    {
     "name": "stderr",
     "output_type": "stream",
     "text": [
      "/home/max/.conda/envs/aiida/lib/python3.9/site-packages/aiida_quantumespresso/calculations/pw.py:211: UserWarning: `parent_folder` not provided for `nscf` calculation. For work chains wrapping this calculation, you can disable this warning by excluding the `parent_folder` when exposing the inputs of the `PwCalculation`.\n",
      "  warnings.warn(\n"
     ]
    }
   ],
   "source": [
    "from aiida import orm, load_profile\n",
    "load_profile()\n",
    "\n",
    "from aiida.plugins import WorkflowFactory\n",
    "from aiida.orm import QueryBuilder\n",
    "from aiida.engine import submit\n",
    "\n",
    "from aiida_quantumespresso.common.types import ElectronicType\n",
    "\n",
    "import yaml\n",
    "\n",
    "\n",
    "qb = QueryBuilder()\n",
    "qb.append(orm.Group, filters={'label': 'Silicon/bulk'}, tag='group')\n",
    "qb.append(orm.StructureData, with_group='group')\n",
    "\n",
    "loaded_structure_id = qb.all()[0][0].pk\n",
    "\n",
    "# Read YAML file\n",
    "with open(\"../configuration/codes_localhost.yaml\", 'r') as stream:\n",
    "    codes = yaml.safe_load(stream)\n",
    "    \n",
    "with open(\"../configuration/resources_localhost.yaml\", 'r') as stream:\n",
    "    resources = yaml.safe_load(stream)\n",
    "    \n",
    "options = {\n",
    "    'pseudo_family':\"PseudoDojo/0.4/PBE/SR/standard/upf\",\n",
    "    'protocol':'fast',\n",
    "    #'parent_id':274, #not necessary to set; if you want it, take ytheour previously nscf id (pk) to skip the DFT part.\n",
    "    'structure_id':loaded_structure_id,\n",
    "}\n",
    "options.update(codes)\n",
    "\n",
    "overrides_scf = {\n",
    "        'pseudo_family': \"PseudoDojo/0.4/PBE/SR/standard/upf\", \n",
    "        'pw':{\n",
    "            \n",
    "        'metadata':{\"options\":resources},\n",
    "        },\n",
    "    }\n",
    "\n",
    "overrides_nscf = {\n",
    "        'pseudo_family': \"PseudoDojo/0.4/PBE/SR/standard/upf\", \n",
    "        'pw': {\n",
    "            'parameters':{\n",
    "                'CONTROL':{}, #not needed if you don't override something\n",
    "                'SYSTEM':{},\n",
    "                'ELECTRONS':{'diagonalization':'cg'},\n",
    "            },\n",
    "             'metadata':{\"options\":resources},\n",
    "    },\n",
    "}\n",
    "\n",
    "overrides_yambo = {\n",
    "        \"yambo\": {\n",
    "            \"parameters\": {\n",
    "                \"arguments\": [\n",
    "                    \"rim_cut\",\n",
    "                ],\n",
    "                \"variables\": {\n",
    "                    \"FFTGvecs\": [20, \"Ry\"],\n",
    "                    'GbndRnge': [[1, 50], ''],\n",
    "                    'BndsRnXs': [[1, 50], ''],\n",
    "                    'NGsBlkXs': [2, 'Ry'],\n",
    "                    'BSENGBlk': [2, 'Ry'],\n",
    "                    'KfnQP_E':[[1.5,1,1],''],           # <== Scissor and stretching correction.\n",
    "                    'BS_CPU':'1 1 1',     # <== PARALLELISM INFO\n",
    "                    'BS_ROLEs':'k eh t',                # <== PARALLELISM INFO\n",
    "                },\n",
    "            },\n",
    "        'metadata':{\"options\":resources},\n",
    "        },\n",
    "    \n",
    "}\n",
    "\n",
    "#Be careful with the mesh choice!!! \n",
    "overrides_meta = {\n",
    "        'FFTGvecs': {\n",
    "            'start_ratio': 0.25,\n",
    "            'stop_ratio': 0.7,\n",
    "            'delta_ratio': 0.1,\n",
    "            'max_ratio': 1,\n",
    "        },\n",
    "        'bands': {\n",
    "            'start': 50,\n",
    "            'stop': 400,\n",
    "            'delta': 50,\n",
    "            'max': 600,\n",
    "            'ratio':[10,25,50],\n",
    "        },\n",
    "        'G_vectors': {\n",
    "            'start': 2,\n",
    "            'stop': 8,\n",
    "            'delta': 1,\n",
    "            'max': 10,\n",
    "        },\n",
    "        'kpoint_density': {\n",
    "            'start': 1,\n",
    "            'stop': 0.4,\n",
    "            'delta': 1,\n",
    "            'max': 0.1,\n",
    "        } ,\n",
    "        'conv_thr_k': 5,   # <== 5% for convergence wrt super-converged estimation.\n",
    "        'conv_thr_bG': 10,\n",
    "        'conv_thr_FFT': 10,\n",
    "        'conv_thr_units': '%', # 'eV'\n",
    "\n",
    "        \n",
    "    }\n",
    "\n",
    "        \n",
    "overrides_wfl_settings = {\n",
    "        'what':['lowest_exciton'],          # <== converging the lowest exciton.\n",
    "        'type': 'heavy', #or cheap; heavy uses converged value for parameters that we are not converging in a given iteration.\n",
    "    }\n",
    "\n",
    "overrides = {\n",
    "        'ywfl':{'scf':overrides_scf,'nscf':overrides_nscf,'yres':overrides_yambo},\n",
    "        'workflow_settings':overrides_wfl_settings,\n",
    "    }\n",
    "\n",
    "\n",
    "YamboConvergence = WorkflowFactory('yambo.yambo.yamboconvergence')\n",
    "builder = YamboConvergence.get_builder_from_protocol(\n",
    "    pw_code = options['pwcode_id'],\n",
    "    preprocessing_code = options['yamboprecode_id'],\n",
    "    code = options['yambocode_id'],\n",
    "    protocol=options['protocol'],\n",
    "    protocol_qe=options['protocol'],\n",
    "    structure=orm.load_node(options['structure_id']),\n",
    "    overrides=overrides,\n",
    "    #parent_folder=load_node(options['parent_id']).outputs.remote_folder,\n",
    "    electronic_type=ElectronicType.INSULATOR, #default is METAL: smearing is used\n",
    "    calc_type='bse', #or 'bse'; default is 'gw'\n",
    ")\n",
    "\n",
    "builder.ywfl.scf.pw.metadata.options = resources\n",
    "\n",
    "builder.ywfl.nscf.pw.metadata.options = builder.ywfl.scf.pw.metadata.options\n",
    "builder.ywfl.yres.yambo.metadata.options = builder.ywfl.scf.pw.metadata.options"
   ]
  },
  {
   "cell_type": "code",
   "execution_count": 14,
   "id": "0425ef65",
   "metadata": {},
   "outputs": [],
   "source": [
    "try:\n",
    "    g = orm.load_group('tutorial/Silicon/convergence/BSE')\n",
    "except:\n",
    "    g = orm.Group('tutorial/Silicon/convergence/BSE')\n",
    "    g.store()"
   ]
  },
  {
   "cell_type": "code",
   "execution_count": 15,
   "id": "5268bdbb",
   "metadata": {},
   "outputs": [],
   "source": [
    "builder.group_label = orm.Str('tutorial/Silicon/convergence/BSE') # verdi group create tutorial/Silicon/convergence; all calculationsc are added to the group"
   ]
  },
  {
   "cell_type": "code",
   "execution_count": 16,
   "id": "c5c20fab",
   "metadata": {},
   "outputs": [],
   "source": [
    "builder.ywfl.yres.yambo.parameters = orm.Dict(\n",
    "    dict={'arguments':['em1s','bse','bss','optics', 'dipoles',],\n",
    "                'variables':{\n",
    "                'BSEmod': 'resonant',\n",
    "                'BSKmod': 'SEX',\n",
    "                'BSSmod': 'd',\n",
    "                'Lkind': 'full',\n",
    "                'NGsBlkXs': [2, 'Ry'],\n",
    "                'BSENGBlk': [2, 'Ry'],\n",
    "                'Chimod': 'hartree',\n",
    "                'DysSolver': 'n',\n",
    "                'BEnSteps': [10,''],\n",
    "                'BSEQptR': [[1,1],''],\n",
    "                'BSEBands': [[4,5],''],\n",
    "                'BEnRange': [[0.0, 10.0],'eV'],\n",
    "                'BDmRange': [[0.1, 0.1],'eV'],\n",
    "                'BLongDir': [[1.0, 1.0, 1.0],''],\n",
    "                'LongDrXp': [[1.0, 1.0, 1.0],''],\n",
    "                'LongDrXd': [[1.0, 1.0, 1.0],''],\n",
    "                'LongDrXs': [[1.0, 1.0, 1.0],''],\n",
    "                'BndsRnXs': [[1,50], ''],\n",
    "                'KfnQP_E':[[0.5,1,1],''],\n",
    "                'BS_CPU':'1 1 1',\n",
    "                'BS_ROLEs':'k eh t',\n",
    "                },}\n",
    ")"
   ]
  },
  {
   "cell_type": "code",
   "execution_count": 17,
   "id": "a2fa255d",
   "metadata": {},
   "outputs": [
    {
     "data": {
      "text/plain": [
       "[{'var': ['FFTGvecs'],\n",
       "  'start': 9,\n",
       "  'stop': 25,\n",
       "  'delta': 3,\n",
       "  'max': 36,\n",
       "  'steps': 4,\n",
       "  'max_iterations': 4,\n",
       "  'conv_thr': 10,\n",
       "  'conv_thr_units': '%',\n",
       "  'convergence_algorithm': 'new_algorithm_1D'},\n",
       " {'var': ['kpoint_mesh'],\n",
       "  'start': [4, 4, 4],\n",
       "  'stop': [12, 12, 12],\n",
       "  'delta': [1, 1, 1],\n",
       "  'max': [22, 22, 22],\n",
       "  'steps': 4,\n",
       "  'max_iterations': 4,\n",
       "  'conv_thr': 10,\n",
       "  'conv_thr_units': '%',\n",
       "  'convergence_algorithm': 'new_algorithm_1D'},\n",
       " {'var': ['BndsRnXp', 'GbndRnge', 'NGsBlkXp'],\n",
       "  'start': [200, 200, 6],\n",
       "  'stop': [800, 800, 18],\n",
       "  'delta': [100, 100, 2],\n",
       "  'max': [2000, 2000, 40],\n",
       "  'steps': 6,\n",
       "  'max_iterations': 8,\n",
       "  'conv_thr': 10,\n",
       "  'conv_thr_units': '%',\n",
       "  'convergence_algorithm': 'new_algorithm_2D'}]"
      ]
     },
     "execution_count": 17,
     "metadata": {},
     "output_type": "execute_result"
    }
   ],
   "source": [
    "builder.parameters_space.get_list()"
   ]
  },
  {
   "cell_type": "markdown",
   "id": "42bd99a3",
   "metadata": {},
   "source": [
    "We will converge only kpoints:"
   ]
  },
  {
   "cell_type": "code",
   "execution_count": 18,
   "id": "0cad99c2",
   "metadata": {},
   "outputs": [],
   "source": [
    "builder.parameters_space = orm.List([{'var': ['kpoint_mesh'],\n",
    "  'start': [4, 4, 4],\n",
    "  'stop': [10,10,10],\n",
    "  'delta': [1, 1, 1],\n",
    "  'max': [30, 30, 10],\n",
    "  'steps': 4,\n",
    "  'max_iterations': 4,\n",
    "  'conv_thr': 5,\n",
    "  'conv_thr_units': '%',\n",
    "  'convergence_algorithm': 'new_algorithm_1D'}])"
   ]
  },
  {
   "cell_type": "code",
   "execution_count": 19,
   "id": "e03c527f",
   "metadata": {},
   "outputs": [],
   "source": [
    "run = None"
   ]
  },
  {
   "cell_type": "code",
   "execution_count": 20,
   "id": "706b0706",
   "metadata": {},
   "outputs": [
    {
     "name": "stderr",
     "output_type": "stream",
     "text": [
      "/home/max/.conda/envs/aiida/lib/python3.9/site-packages/aiida_quantumespresso/calculations/pw.py:211: UserWarning: `parent_folder` not provided for `nscf` calculation. For work chains wrapping this calculation, you can disable this warning by excluding the `parent_folder` when exposing the inputs of the `PwCalculation`.\n",
      "  warnings.warn(\n"
     ]
    },
    {
     "name": "stdout",
     "output_type": "stream",
     "text": [
      "uuid: c63328b8-6e20-4256-8861-98205d75ff70 (pk: 1336) (aiida.workflows:yambo.yambo.yamboconvergence)\n"
     ]
    }
   ],
   "source": [
    "if run:\n",
    "    print('run is already running -> {}'.format(run.pk))\n",
    "    print('sure that you want to run again?, if so, copy the else instruction in the cell below and run!')\n",
    "else:\n",
    "    run = submit(builder)\n",
    "\n",
    "print(run)"
   ]
  },
  {
   "cell_type": "markdown",
   "id": "0880d8ac",
   "metadata": {},
   "source": [
    "# Output analysis.\n",
    "\n",
    "suppose that your calculation completed successfully, then you can access the outputs via the output method of the run instance: "
   ]
  },
  {
   "cell_type": "code",
   "execution_count": 21,
   "id": "51ae03e5",
   "metadata": {},
   "outputs": [
    {
     "data": {
      "text/plain": [
       "False"
      ]
     },
     "execution_count": 21,
     "metadata": {},
     "output_type": "execute_result"
    }
   ],
   "source": [
    "run.is_finished_ok"
   ]
  },
  {
   "cell_type": "code",
   "execution_count": 29,
   "id": "60ee583d",
   "metadata": {},
   "outputs": [
    {
     "name": "stdout",
     "output_type": "stream",
     "text": [
      "\u001b[22m2024-02-19 16:44:07 [620 | REPORT]: [1336|YamboConvergence|start_workflow]: group: tutorial/Silicon/convergence/BSE\n",
      "2024-02-19 16:44:07 [621 | REPORT]: [1336|YamboConvergence|start_workflow]: Workflow type: heavy; looking for convergence of ['lowest_exciton']\n",
      "2024-02-19 16:44:07 [622 | REPORT]: [1336|YamboConvergence|start_workflow]: Workflow initilization step completed, the parameters will be: ['kpoint_mesh'].\n",
      "2024-02-19 16:44:07 [623 | REPORT]: [1336|YamboConvergence|has_to_continue]: Still iteration on ['kpoint_mesh']\n",
      "2024-02-19 16:44:07 [624 | REPORT]: [1336|YamboConvergence|pre_needed]: {'kpoint_mesh': [[4, 4, 4], [6, 6, 6], [8, 8, 8], [10, 10, 10]]}\n",
      "2024-02-19 16:44:08 [625 | REPORT]: [1336|YamboConvergence|next_step]: New parameters are: {'kpoint_mesh': [4, 4, 4]}\n",
      "2024-02-19 16:44:11 [626 | REPORT]: [1336|YamboConvergence|next_step]: New parameters are: {'kpoint_mesh': [6, 6, 6]}\n",
      "2024-02-19 16:44:15 [627 | REPORT]: [1336|YamboConvergence|next_step]: New parameters are: {'kpoint_mesh': [8, 8, 8]}\n",
      "2024-02-19 16:44:18 [628 | REPORT]: [1336|YamboConvergence|next_step]: New parameters are: {'kpoint_mesh': [10, 10, 10]}\n",
      "2024-02-19 16:44:21 [629 | REPORT]:   [1340|YamboWorkflow|start_workflow]:  workflow initilization step completed.\n",
      "2024-02-19 16:44:21 [630 | REPORT]:   [1340|YamboWorkflow|can_continue]: the workflow continues with a yambo calculation\n",
      "2024-02-19 16:44:21 [631 | REPORT]:   [1340|YamboWorkflow|perform_next]: performing a yambo calculation\n",
      "2024-02-19 16:44:21 [632 | REPORT]:   [1340|YamboWorkflow|perform_next]: updating yambo parameters to parse more results\n",
      "2024-02-19 16:44:21 [633 | REPORT]:   [1340|YamboWorkflow|perform_next]: {'dft_predicted': 'semiconductor/insulator', 'valence': 4, 'conduction': 5, 'number_of_kpoints': 8, 'nscf_gap_eV': 0.665, 'homo_k': 1, 'lumo_k': 7, 'gap_type': 'indirect', 'gap_': [[1, 1, 4, 4], [7, 7, 5, 5]], 'soc': False, 'magnetic_calculation': False}\n",
      "2024-02-19 16:44:22 [634 | REPORT]:   [1343|YamboWorkflow|start_workflow]:  workflow initilization step completed.\n",
      "2024-02-19 16:44:23 [635 | REPORT]:   [1343|YamboWorkflow|can_continue]: the workflow continues with a nscf calculation\n",
      "2024-02-19 16:44:23 [636 | REPORT]:   [1343|YamboWorkflow|perform_next]: performing a nscf calculation\n",
      "2024-02-19 16:44:24 [637 | REPORT]:   [1346|YamboWorkflow|start_workflow]:  workflow initilization step completed.\n",
      "2024-02-19 16:44:24 [638 | REPORT]:   [1346|YamboWorkflow|can_continue]: the workflow continues with a nscf calculation\n",
      "2024-02-19 16:44:24 [639 | REPORT]:   [1346|YamboWorkflow|perform_next]: performing a nscf calculation\n",
      "2024-02-19 16:44:25 [640 | REPORT]:   [1349|YamboWorkflow|start_workflow]:  workflow initilization step completed.\n",
      "2024-02-19 16:44:25 [641 | REPORT]:   [1349|YamboWorkflow|can_continue]: the workflow continues with a nscf calculation\n",
      "2024-02-19 16:44:25 [642 | REPORT]:   [1349|YamboWorkflow|perform_next]: performing a nscf calculation\n",
      "2024-02-19 16:44:27 [643 | REPORT]:     [1351|YamboRestart|run_process]: launching YamboCalculation<1355> iteration #1\n",
      "2024-02-19 16:44:28 [644 | REPORT]:     [1352|PwBaseWorkChain|run_process]: launching PwCalculation<1358> iteration #1\n",
      "2024-02-19 16:44:29 [645 | REPORT]:     [1353|PwBaseWorkChain|run_process]: launching PwCalculation<1361> iteration #1\n",
      "2024-02-19 16:44:30 [646 | REPORT]:     [1354|PwBaseWorkChain|run_process]: launching PwCalculation<1364> iteration #1\n",
      "2024-02-19 16:44:56 [647 | REPORT]:     [1351|YamboRestart|results]: work chain completed after 1 iterations\n",
      "2024-02-19 16:44:56 [648 | REPORT]:     [1351|YamboRestart|on_terminated]: remote folders will not be cleaned\n",
      "2024-02-19 16:44:57 [649 | REPORT]:   [1340|YamboWorkflow|can_continue]: workflow is finished\n",
      "2024-02-19 16:44:57 [650 | REPORT]:   [1340|YamboWorkflow|post_processing_needed]: no post processing needed\n",
      "2024-02-19 16:44:57 [651 | REPORT]:   [1340|YamboWorkflow|report_wf]: PARSED: {'lowest_exciton': 2.9639761, 'lowest_exciton_index': 1}\n",
      "2024-02-19 16:44:57 [652 | REPORT]:   [1340|YamboWorkflow|report_wf]: workflow completed successfully\n",
      "2024-02-19 16:45:37 [654 | REPORT]:     [1352|PwBaseWorkChain|results]: work chain completed after 1 iterations\n",
      "2024-02-19 16:45:37 [655 | REPORT]:     [1352|PwBaseWorkChain|on_terminated]: remote folders will not be cleaned\n",
      "2024-02-19 16:45:37 [656 | REPORT]:   [1343|YamboWorkflow|can_continue]: the workflow continues with a yambo calculation\n",
      "2024-02-19 16:45:37 [657 | REPORT]:   [1343|YamboWorkflow|perform_next]: performing a yambo calculation\n",
      "2024-02-19 16:45:37 [658 | REPORT]:   [1343|YamboWorkflow|perform_next]: updating yambo parameters to parse more results\n",
      "2024-02-19 16:45:37 [659 | REPORT]:   [1343|YamboWorkflow|perform_next]: {'dft_predicted': 'semiconductor/insulator', 'valence': 4, 'conduction': 5, 'number_of_kpoints': 16, 'nscf_gap_eV': 0.665, 'homo_k': 1, 'lumo_k': 13, 'gap_type': 'indirect', 'gap_': [[1, 1, 4, 4], [13, 13, 5, 5]], 'soc': False, 'magnetic_calculation': False}\n",
      "2024-02-19 16:45:39 [660 | REPORT]:     [1380|YamboRestart|run_process]: launching YamboCalculation<1381> iteration #1\n",
      "2024-02-19 16:46:20 [662 | REPORT]:     [1353|PwBaseWorkChain|results]: work chain completed after 1 iterations\n",
      "2024-02-19 16:46:21 [663 | REPORT]:     [1353|PwBaseWorkChain|on_terminated]: remote folders will not be cleaned\n",
      "2024-02-19 16:46:21 [664 | REPORT]:   [1346|YamboWorkflow|can_continue]: the workflow continues with a yambo calculation\n",
      "2024-02-19 16:46:21 [665 | REPORT]:   [1346|YamboWorkflow|perform_next]: performing a yambo calculation\n",
      "2024-02-19 16:46:21 [666 | REPORT]:   [1346|YamboWorkflow|perform_next]: updating yambo parameters to parse more results\n",
      "2024-02-19 16:46:21 [667 | REPORT]:   [1346|YamboWorkflow|perform_next]: {'dft_predicted': 'semiconductor/insulator', 'valence': 4, 'conduction': 5, 'number_of_kpoints': 29, 'nscf_gap_eV': 0.576, 'homo_k': 1, 'lumo_k': 18, 'gap_type': 'indirect', 'gap_': [[1, 1, 4, 4], [18, 18, 5, 5]], 'soc': False, 'magnetic_calculation': False}\n",
      "2024-02-19 16:46:22 [668 | REPORT]:     [1388|YamboRestart|run_process]: launching YamboCalculation<1389> iteration #1\n",
      "2024-02-19 16:46:43 [669 | REPORT]:     [1380|YamboRestart|results]: work chain completed after 1 iterations\n",
      "2024-02-19 16:46:43 [670 | REPORT]:     [1380|YamboRestart|on_terminated]: remote folders will not be cleaned\n",
      "2024-02-19 16:46:43 [671 | REPORT]:   [1343|YamboWorkflow|can_continue]: workflow is finished\n",
      "2024-02-19 16:46:43 [672 | REPORT]:   [1343|YamboWorkflow|post_processing_needed]: no post processing needed\n",
      "2024-02-19 16:46:44 [673 | REPORT]:   [1343|YamboWorkflow|report_wf]: PARSED: {'lowest_exciton': 2.9538145, 'lowest_exciton_index': 1}\n",
      "2024-02-19 16:46:44 [674 | REPORT]:   [1343|YamboWorkflow|report_wf]: workflow completed successfully\n",
      "2024-02-19 16:47:07 [676 | REPORT]:     [1354|PwBaseWorkChain|results]: work chain completed after 1 iterations\n",
      "2024-02-19 16:47:07 [677 | REPORT]:     [1354|PwBaseWorkChain|on_terminated]: remote folders will not be cleaned\n",
      "2024-02-19 16:47:08 [678 | REPORT]:   [1349|YamboWorkflow|can_continue]: the workflow continues with a yambo calculation\n",
      "2024-02-19 16:47:08 [679 | REPORT]:   [1349|YamboWorkflow|perform_next]: performing a yambo calculation\n",
      "2024-02-19 16:47:08 [680 | REPORT]:   [1349|YamboWorkflow|perform_next]: updating yambo parameters to parse more results\n",
      "2024-02-19 16:47:08 [681 | REPORT]:   [1349|YamboWorkflow|perform_next]: {'dft_predicted': 'semiconductor/insulator', 'valence': 4, 'conduction': 5, 'number_of_kpoints': 47, 'nscf_gap_eV': 0.539, 'homo_k': 1, 'lumo_k': 28, 'gap_type': 'indirect', 'gap_': [[1, 1, 4, 4], [28, 28, 5, 5]], 'soc': False, 'magnetic_calculation': False}\n",
      "2024-02-19 16:47:10 [682 | REPORT]:     [1402|YamboRestart|run_process]: launching YamboCalculation<1403> iteration #1\n",
      "2024-02-19 16:49:21 [683 | REPORT]:     [1388|YamboRestart|results]: work chain completed after 1 iterations\n",
      "2024-02-19 16:49:21 [684 | REPORT]:     [1388|YamboRestart|on_terminated]: remote folders will not be cleaned\n",
      "2024-02-19 16:49:21 [685 | REPORT]:   [1346|YamboWorkflow|can_continue]: workflow is finished\n",
      "2024-02-19 16:49:21 [686 | REPORT]:   [1346|YamboWorkflow|post_processing_needed]: no post processing needed\n",
      "2024-02-19 16:49:22 [687 | REPORT]:   [1346|YamboWorkflow|report_wf]: PARSED: {'lowest_exciton': 2.965224, 'lowest_exciton_index': 1}\n",
      "2024-02-19 16:49:22 [688 | REPORT]:   [1346|YamboWorkflow|report_wf]: workflow completed successfully\n",
      "2024-02-19 16:53:08 [689 | REPORT]:     [1402|YamboRestart|results]: work chain completed after 1 iterations\n",
      "2024-02-19 16:53:08 [690 | REPORT]:     [1402|YamboRestart|on_terminated]: remote folders will not be cleaned\n",
      "2024-02-19 16:53:08 [691 | REPORT]:   [1349|YamboWorkflow|can_continue]: workflow is finished\n",
      "2024-02-19 16:53:08 [692 | REPORT]:   [1349|YamboWorkflow|post_processing_needed]: no post processing needed\n",
      "2024-02-19 16:53:09 [693 | REPORT]:   [1349|YamboWorkflow|report_wf]: PARSED: {'lowest_exciton': 2.9782898, 'lowest_exciton_index': 1}\n",
      "2024-02-19 16:53:09 [694 | REPORT]:   [1349|YamboWorkflow|report_wf]: workflow completed successfully\n",
      "2024-02-19 16:53:09 [695 | REPORT]: [1336|YamboConvergence|data_analysis]: Data analysis, we will try to parse some result and decide what next.\n",
      "2024-02-19 16:53:10 [696 | REPORT]: [1336|YamboConvergence|data_analysis]:     kpoint_mesh  lowest_exciton                                  uuid\n",
      "0     [4, 4, 4]        2.963976  370fe54f-1e58-48fd-8d67-5edd3ba1e863\n",
      "1     [6, 6, 6]        2.953815  f02c018f-7e0c-452f-8f09-fde92dc9f966\n",
      "2     [8, 8, 8]        2.965224  175085a4-8dfe-484f-93e7-75c402337e59\n",
      "3  [10, 10, 10]        2.978290  713880e5-40fc-4bc9-a51b-173876953799\n",
      "2024-02-19 16:53:10 [697 | REPORT]: [1336|YamboConvergence|data_analysis]: results ['lowest_exciton']\n",
      ":{'lowest_exciton': array([2.96397614, 2.95381451, 2.96522403, 2.97828984])}\n",
      "2024-02-19 16:53:10 [698 | REPORT]: [1336|YamboConvergence|data_analysis]: HINTS: {'kpoint_mesh': [4, 4, 4], 'lowest_exciton': 2.9639761447906, 'already_computed': True, 'E_ref': 2.9750659078218953, 'new_grid': False, 'extrapolation': 2.975212156012112, 'extrapolation_units': 'eV'}\n",
      "2024-02-19 16:53:10 [699 | REPORT]: [1336|YamboConvergence|data_analysis]: Success, updating the history... \n",
      "2024-02-19 16:53:10 [700 | REPORT]: [1336|YamboConvergence|data_analysis]: Success on ['kpoint_mesh'] reached in 4 calculations, the result is [[2.96397614]]\n",
      "2024-02-19 16:53:10 [701 | REPORT]: [1336|YamboConvergence|has_to_continue]: Workflow finished\n",
      "2024-02-19 16:53:11 [702 | REPORT]: [1336|YamboConvergence|report_wf]: Final step. It is True that the workflow was successful\u001b[0m\n"
     ]
    }
   ],
   "source": [
    "!verdi process report {run.pk}"
   ]
  },
  {
   "cell_type": "markdown",
   "id": "4bd84d88",
   "metadata": {},
   "source": [
    "The converged parameters can be obtained via the \"infos\" output Dict:"
   ]
  },
  {
   "cell_type": "code",
   "execution_count": 30,
   "id": "57321b6a",
   "metadata": {},
   "outputs": [
    {
     "data": {
      "text/plain": [
       "{'E_ref': 2.9750659078219,\n",
       " 'kpoint_mesh': [4, 4, 4],\n",
       " 'lowest_exciton': 2.9639761447906}"
      ]
     },
     "execution_count": 30,
     "metadata": {},
     "output_type": "execute_result"
    }
   ],
   "source": [
    "run.outputs.infos.get_dict()"
   ]
  },
  {
   "cell_type": "markdown",
   "id": "0ef10dc9",
   "metadata": {},
   "source": [
    "The full convergence history can be visualized in a table form using pandas:"
   ]
  },
  {
   "cell_type": "code",
   "execution_count": 31,
   "id": "c206325e",
   "metadata": {},
   "outputs": [],
   "source": [
    "import pandas as pd"
   ]
  },
  {
   "cell_type": "code",
   "execution_count": 32,
   "id": "db3991c6",
   "metadata": {},
   "outputs": [],
   "source": [
    "history = run.outputs.history.get_dict()"
   ]
  },
  {
   "cell_type": "code",
   "execution_count": 33,
   "id": "ede8f7ca",
   "metadata": {},
   "outputs": [],
   "source": [
    "history_table = pd.DataFrame(history)"
   ]
  },
  {
   "cell_type": "code",
   "execution_count": 34,
   "id": "360eb7b3",
   "metadata": {},
   "outputs": [
    {
     "data": {
      "text/html": [
       "<div>\n",
       "<style scoped>\n",
       "    .dataframe tbody tr th:only-of-type {\n",
       "        vertical-align: middle;\n",
       "    }\n",
       "\n",
       "    .dataframe tbody tr th {\n",
       "        vertical-align: top;\n",
       "    }\n",
       "\n",
       "    .dataframe thead th {\n",
       "        text-align: right;\n",
       "    }\n",
       "</style>\n",
       "<table border=\"1\" class=\"dataframe\">\n",
       "  <thead>\n",
       "    <tr style=\"text-align: right;\">\n",
       "      <th></th>\n",
       "      <th>uuid</th>\n",
       "      <th>failed</th>\n",
       "      <th>useful</th>\n",
       "      <th>global_step</th>\n",
       "      <th>kpoint_mesh</th>\n",
       "      <th>lowest_exciton</th>\n",
       "      <th>parameters_studied</th>\n",
       "    </tr>\n",
       "  </thead>\n",
       "  <tbody>\n",
       "    <tr>\n",
       "      <th>0</th>\n",
       "      <td>370fe54f-1e58-48fd-8d67-5edd3ba1e863</td>\n",
       "      <td>False</td>\n",
       "      <td>True</td>\n",
       "      <td>1</td>\n",
       "      <td>[4, 4, 4]</td>\n",
       "      <td>2.963976</td>\n",
       "      <td>kpoint_mesh</td>\n",
       "    </tr>\n",
       "    <tr>\n",
       "      <th>1</th>\n",
       "      <td>f02c018f-7e0c-452f-8f09-fde92dc9f966</td>\n",
       "      <td>False</td>\n",
       "      <td>False</td>\n",
       "      <td>2</td>\n",
       "      <td>[6, 6, 6]</td>\n",
       "      <td>2.953815</td>\n",
       "      <td>kpoint_mesh</td>\n",
       "    </tr>\n",
       "    <tr>\n",
       "      <th>2</th>\n",
       "      <td>175085a4-8dfe-484f-93e7-75c402337e59</td>\n",
       "      <td>False</td>\n",
       "      <td>False</td>\n",
       "      <td>3</td>\n",
       "      <td>[8, 8, 8]</td>\n",
       "      <td>2.965224</td>\n",
       "      <td>kpoint_mesh</td>\n",
       "    </tr>\n",
       "    <tr>\n",
       "      <th>3</th>\n",
       "      <td>713880e5-40fc-4bc9-a51b-173876953799</td>\n",
       "      <td>False</td>\n",
       "      <td>False</td>\n",
       "      <td>4</td>\n",
       "      <td>[10, 10, 10]</td>\n",
       "      <td>2.978290</td>\n",
       "      <td>kpoint_mesh</td>\n",
       "    </tr>\n",
       "  </tbody>\n",
       "</table>\n",
       "</div>"
      ],
      "text/plain": [
       "                                   uuid  failed  useful  global_step   \n",
       "0  370fe54f-1e58-48fd-8d67-5edd3ba1e863   False    True            1  \\\n",
       "1  f02c018f-7e0c-452f-8f09-fde92dc9f966   False   False            2   \n",
       "2  175085a4-8dfe-484f-93e7-75c402337e59   False   False            3   \n",
       "3  713880e5-40fc-4bc9-a51b-173876953799   False   False            4   \n",
       "\n",
       "    kpoint_mesh  lowest_exciton parameters_studied  \n",
       "0     [4, 4, 4]        2.963976        kpoint_mesh  \n",
       "1     [6, 6, 6]        2.953815        kpoint_mesh  \n",
       "2     [8, 8, 8]        2.965224        kpoint_mesh  \n",
       "3  [10, 10, 10]        2.978290        kpoint_mesh  "
      ]
     },
     "execution_count": 34,
     "metadata": {},
     "output_type": "execute_result"
    }
   ],
   "source": [
    "history_table"
   ]
  },
  {
   "cell_type": "markdown",
   "id": "99efc4a9",
   "metadata": {},
   "source": [
    "The last calculations can be obtained using:"
   ]
  },
  {
   "cell_type": "code",
   "execution_count": 35,
   "id": "5240cb94",
   "metadata": {},
   "outputs": [
    {
     "data": {
      "text/html": [
       "<div>\n",
       "<style scoped>\n",
       "    .dataframe tbody tr th:only-of-type {\n",
       "        vertical-align: middle;\n",
       "    }\n",
       "\n",
       "    .dataframe tbody tr th {\n",
       "        vertical-align: top;\n",
       "    }\n",
       "\n",
       "    .dataframe thead th {\n",
       "        text-align: right;\n",
       "    }\n",
       "</style>\n",
       "<table border=\"1\" class=\"dataframe\">\n",
       "  <thead>\n",
       "    <tr style=\"text-align: right;\">\n",
       "      <th></th>\n",
       "      <th>uuid</th>\n",
       "      <th>failed</th>\n",
       "      <th>useful</th>\n",
       "      <th>global_step</th>\n",
       "      <th>kpoint_mesh</th>\n",
       "      <th>lowest_exciton</th>\n",
       "      <th>parameters_studied</th>\n",
       "    </tr>\n",
       "  </thead>\n",
       "  <tbody>\n",
       "    <tr>\n",
       "      <th>0</th>\n",
       "      <td>370fe54f-1e58-48fd-8d67-5edd3ba1e863</td>\n",
       "      <td>False</td>\n",
       "      <td>True</td>\n",
       "      <td>1</td>\n",
       "      <td>[4, 4, 4]</td>\n",
       "      <td>2.963976</td>\n",
       "      <td>kpoint_mesh</td>\n",
       "    </tr>\n",
       "  </tbody>\n",
       "</table>\n",
       "</div>"
      ],
      "text/plain": [
       "                                   uuid  failed  useful  global_step   \n",
       "0  370fe54f-1e58-48fd-8d67-5edd3ba1e863   False    True            1  \\\n",
       "\n",
       "  kpoint_mesh  lowest_exciton parameters_studied  \n",
       "0   [4, 4, 4]        2.963976        kpoint_mesh  "
      ]
     },
     "execution_count": 35,
     "metadata": {},
     "output_type": "execute_result"
    }
   ],
   "source": [
    "history_table[history_table['useful']==True]"
   ]
  },
  {
   "cell_type": "code",
   "execution_count": 39,
   "id": "ebd38f12",
   "metadata": {},
   "outputs": [
    {
     "data": {
      "text/plain": [
       "[<matplotlib.lines.Line2D at 0x7efc3435dbe0>]"
      ]
     },
     "execution_count": 39,
     "metadata": {},
     "output_type": "execute_result"
    },
    {
     "data": {
      "image/png": "[encoded data removed]",
      "text/plain": [
       "<Figure size 640x480 with 1 Axes>"
      ]
     },
     "metadata": {},
     "output_type": "display_data"
    }
   ],
   "source": [
    "import matplotlib.pyplot as plt\n",
    "\n",
    "k_history = history_table[history_table['parameters_studied']==\"kpoint_mesh\"]\n",
    "\n",
    "plt.plot(k_history.lowest_exciton,'o-')"
   ]
  },
  {
   "cell_type": "markdown",
   "id": "d5b867a9",
   "metadata": {},
   "source": [
    "## Exercise 1: try to compute BSE convergence but using QP instead of scissor and stretching.\n",
    "\n",
    "Solution provided in the `Solution_2_YamboConvergence_BSE_QP.ipynb` notebook. \n",
    "Please look at the `6_1_YamboWorkflow_BSE_QP.ipynb` to understand how to set the preliminary QP calculation."
   ]
  },
  {
   "cell_type": "markdown",
   "id": "e266ba89",
   "metadata": {},
   "source": [
    "## Exercise 2: computing the convergence not with respect to the k-mesh, but with respect to the k-point density.\n",
    "\n",
    "Solution provided in the `Solution_3_YamboConvergence_BSE_k_density.ipynb` notebook.\n",
    "\n",
    "```python\n",
    "builder.parameters_space = orm.List(list=[\n",
    " {'var': ['kpoint_density'],\n",
    "  'start': 1/0.05,\n",
    "  'stop': 1/0.025,\n",
    "  'delta': 1,      #1/0.01\n",
    "  'max': 1/0.02,\n",
    "  'steps': 4,\n",
    "  'max_iterations': 4,\n",
    "  'conv_thr': 3,\n",
    "  'conv_thr_units': '%',\n",
    "  'convergence_algorithm': 'new_algorithm_1D'},])\n",
    "```"
   ]
  }
 ],
 "metadata": {
  "kernelspec": {
   "display_name": "Python 3 (ipykernel)",
   "language": "python",
   "name": "python3"
  },
  "language_info": {
   "codemirror_mode": {
    "name": "ipython",
    "version": 3
   },
   "file_extension": ".py",
   "mimetype": "text/x-python",
   "name": "python",
   "nbconvert_exporter": "python",
   "pygments_lexer": "ipython3",
   "version": "3.9.16"
  }
 },
 "nbformat": 4,
 "nbformat_minor": 5
}
