{
 "cells": [
  {
   "cell_type": "markdown",
   "id": "a26b52e1",
   "metadata": {},
   "source": [
    "# YamboConvergence: automated BSE@G0W0 convergence\n",
    "\n",
    "In the following, we will perform BSE convergence using the same workflow as for the GW simulations: `YamboConvergence`.\n",
    "The purpose is to compute BSE convergence computing also the corresponding QP corrections, which will be different for different k-points sampling of the BZ."
   ]
  },
  {
   "cell_type": "code",
   "execution_count": null,
   "id": "0dd30649",
   "metadata": {},
   "outputs": [],
   "source": [
    "from aiida import orm, load_profile\n",
    "load_profile()\n",
    "\n",
    "from aiida.plugins import WorkflowFactory\n",
    "from aiida.orm import QueryBuilder\n",
    "\n",
    "from aiida_quantumespresso.common.types import ElectronicType\n",
    "\n",
    "import yaml\n",
    "\n",
    "\n",
    "qb = QueryBuilder()\n",
    "qb.append(orm.Group, filters={'label': 'Silicon/bulk'}, tag='group')\n",
    "qb.append(orm.StructureData, with_group='group')\n",
    "\n",
    "loaded_structure_id = qb.all()[0][0].pk\n",
    "\n",
    "# Read YAML file\n",
    "with open(\"../configuration/codes_localhost.yaml\", 'r') as stream:\n",
    "    codes = yaml.safe_load(stream)\n",
    "    \n",
    "with open(\"../configuration/resources_localhost.yaml\", 'r') as stream:\n",
    "    resources = yaml.safe_load(stream)\n",
    "    \n",
    "options = {\n",
    "    'pseudo_family':\"PseudoDojo/0.4/PBE/SR/standard/upf\",\n",
    "    'protocol':'fast',\n",
    "    #'parent_id':274, #not necessary to set; if you want it, take ytheour previously nscf id (pk) to skip the DFT part.\n",
    "    'structure_id':loaded_structure_id,\n",
    "}\n",
    "options.update(codes)\n",
    "\n",
    "overrides_scf = {\n",
    "        'pseudo_family': \"PseudoDojo/0.4/PBE/SR/standard/upf\", \n",
    "        'pw':{\n",
    "            \n",
    "        'metadata':{\"options\":resources},\n",
    "        },\n",
    "    }\n",
    "\n",
    "overrides_nscf = {\n",
    "        'pseudo_family': \"PseudoDojo/0.4/PBE/SR/standard/upf\", \n",
    "        'pw': {\n",
    "            'parameters':{\n",
    "                'CONTROL':{}, #not needed if you don't override something\n",
    "                'SYSTEM':{},\n",
    "                'ELECTRONS':{'diagonalization':'cg'},\n",
    "            },\n",
    "             'metadata':{\"options\":resources},\n",
    "    },\n",
    "}\n",
    "\n",
    "overrides_yambo = {\n",
    "        \"yambo\": {\n",
    "            \"parameters\": {\n",
    "                \"arguments\": [\n",
    "                    \"rim_cut\",\n",
    "                ],\n",
    "                \"variables\": {\n",
    "                    \"FFTGvecs\": [20, \"Ry\"],\n",
    "                    'GbndRnge': [[1, 50], ''],\n",
    "                    'BndsRnXs': [[1, 50], ''],\n",
    "                    'NGsBlkXs': [2, 'Ry'],\n",
    "                    'BSENGBlk': [2, 'Ry'],\n",
    "                    'KfnQP_E':[[1.5,1,1],''],           # <== Scissor and stretching correction.\n",
    "                    'BS_CPU':str(int(16/2))+' 2 1',     # <== PARALLELISM INFO\n",
    "                    'BS_ROLEs':'k eh t',                # <== PARALLELISM INFO\n",
    "                },\n",
    "            },\n",
    "        'metadata':{\"options\":resources},\n",
    "        },\n",
    "    \n",
    "}\n",
    "\n",
    "#Be careful with the mesh choice!!! \n",
    "overrides_meta = {\n",
    "        'FFTGvecs': {\n",
    "            'start_ratio': 0.25,\n",
    "            'stop_ratio': 0.7,\n",
    "            'delta_ratio': 0.1,\n",
    "            'max_ratio': 1,\n",
    "        },\n",
    "        'bands': {\n",
    "            'start': 50,\n",
    "            'stop': 400,\n",
    "            'delta': 50,\n",
    "            'max': 600,\n",
    "            'ratio':[10,25,50],\n",
    "        },\n",
    "        'G_vectors': {\n",
    "            'start': 2,\n",
    "            'stop': 8,\n",
    "            'delta': 1,\n",
    "            'max': 10,\n",
    "        },\n",
    "        'kpoint_density': {\n",
    "            'start': 1,\n",
    "            'stop': 0.4,\n",
    "            'delta': 1,\n",
    "            'max': 0.1,\n",
    "        } ,\n",
    "        'conv_thr_k': 5,   # <== 5% for convergence wrt super-converged estimation.\n",
    "        'conv_thr_bG': 10,\n",
    "        'conv_thr_FFT': 10,\n",
    "        'conv_thr_units': '%', # 'eV'\n",
    "\n",
    "        \n",
    "    }\n",
    "\n",
    "        \n",
    "overrides_wfl_settings = {\n",
    "        'what':['lowest_exciton'],          # <== converging the lowest exciton.\n",
    "        'type': 'heavy', #or cheap; heavy uses converged value for parameters that we are not converging in a given iteration.\n",
    "    }\n",
    "\n",
    "overrides = {\n",
    "        'ywfl':{'scf':overrides_scf,'nscf':overrides_nscf,'yres':overrides_yambo},\n",
    "        'workflow_settings':overrides_wfl_settings,\n",
    "    }\n",
    "\n",
    "\n",
    "YamboConvergence = WorkflowFactory('yambo.yambo.yamboconvergence')\n",
    "builder = YamboConvergence.get_builder_from_protocol(\n",
    "    pw_code = options['pwcode_id'],\n",
    "    preprocessing_code = options['yamboprecode_id'],\n",
    "    code = options['yambocode_id'],\n",
    "    protocol=options['protocol'],\n",
    "    protocol_qe=options['protocol'],\n",
    "    structure=orm.load_node(options['structure_id']),\n",
    "    overrides=overrides,\n",
    "    #parent_folder=load_node(options['parent_id']).outputs.remote_folder,\n",
    "    electronic_type=ElectronicType.INSULATOR, #default is METAL: smearing is used\n",
    "    calc_type='bse', #or 'bse'; default is 'gw'\n",
    ")\n",
    "\n",
    "builder.ywfl.scf.pw.metadata.options = resources\n",
    "\n",
    "builder.ywfl.nscf.pw.metadata.options = builder.ywfl.scf.pw.metadata.options\n",
    "builder.ywfl.yres.yambo.metadata.options = builder.ywfl.scf.pw.metadata.options\n",
    "\n",
    "#group\n",
    "try:\n",
    "    g = orm.load_group('tutorial/Silicon/convergence/BSE')\n",
    "except:\n",
    "    g = orm.Group('tutorial/Silicon/convergence/BSE')\n",
    "    g.store()\n",
    "    \n",
    "builder.group_label = orm.Str('tutorial/Silicon/convergence/BSE') # verdi group create tutorial/Silicon/convergence; all calculationsc are added to the group\n",
    "\n",
    "\n",
    "# parameters:\n",
    "builder.ywfl.yres.yambo.parameters = orm.Dict(\n",
    "    dict={'arguments':['em1s','bse','bss','optics', 'dipoles',],\n",
    "                'variables':{\n",
    "                'BSEmod': 'resonant',\n",
    "                'BSKmod': 'SEX',\n",
    "                'BSSmod': 'd',\n",
    "                'Lkind': 'full',\n",
    "                'NGsBlkXs': [2, 'Ry'],\n",
    "                'BSENGBlk': [2, 'Ry'],\n",
    "                'Chimod': 'hartree',\n",
    "                'DysSolver': 'n',\n",
    "                'BEnSteps': [10,''],\n",
    "                'BSEQptR': [[1,1],''],\n",
    "                'BSEBands': [[8,9],''],\n",
    "                'BEnRange': [[0.0, 10.0],'eV'],\n",
    "                'BDmRange': [[0.1, 0.1],'eV'],\n",
    "                'BLongDir': [[1.0, 1.0, 1.0],''],\n",
    "                'LongDrXp': [[1.0, 1.0, 1.0],''],\n",
    "                'LongDrXd': [[1.0, 1.0, 1.0],''],\n",
    "                'LongDrXs': [[1.0, 1.0, 1.0],''],\n",
    "                'BndsRnXs': [[1,50], ''],\n",
    "                'KfnQP_E':[[1.5,1,1],''],\n",
    "                'BS_CPU':str(int(16/2))+' 2 1',\n",
    "                'BS_ROLEs':'k eh t',\n",
    "                },}\n",
    ")\n",
    "\n",
    "# only k point convergence:\n",
    "builder.parameters_space = orm.List([{'var': ['kpoint_mesh'],\n",
    "  'start': [4, 4, 2],\n",
    "  'stop': [8, 8, 4],\n",
    "  'delta': [1, 1, 1],\n",
    "  'max': [30, 30, 10],\n",
    "  'steps': 4,\n",
    "  'max_iterations': 4,\n",
    "  'conv_thr': 5,\n",
    "  'conv_thr_units': '%',\n",
    "  'convergence_algorithm': 'new_algorithm_1D'}])"
   ]
  },
  {
   "cell_type": "markdown",
   "id": "14bf95ae",
   "metadata": {},
   "source": [
    "## Solution --> adding the QP settings:"
   ]
  },
  {
   "cell_type": "code",
   "execution_count": null,
   "id": "7b98924d",
   "metadata": {},
   "outputs": [],
   "source": [
    "QP_subset_dict= {\n",
    "    'range_QP':6, #eV         , default=nscf_gap_eV*1.2\n",
    "    'range_spectrum':10, #eV\n",
    "\n",
    "}\n",
    "\n",
    "QP_subset_dict.update({\n",
    "    'split_bands':True, #default\n",
    "    'extend_QP': True, #default is False\n",
    "    'consider_only':[8,9], #we explicitely compute only these bands.\n",
    "    'T_smearing':1e-2, #default\n",
    "    'qp_per_subset': 20,\n",
    "    'parallel_runs':4,\n",
    "})\n",
    "\n",
    "builder.ywfl.QP_subset_dict= orm.Dict(dict=QP_subset_dict)\n",
    "builder.ywfl.qp = builder.ywfl.yres #we provide the same inputs for G0W0 and BSE, namely resources and settings. \n",
    "\n",
    "#providing the G0W0 input parameters.\n",
    "params_gw = {\n",
    "    'arguments': [\n",
    "        'dipoles',\n",
    "        'HF_and_locXC',\n",
    "        'dipoles',\n",
    "        'gw0',\n",
    "        'ppa',],\n",
    "    'variables': {\n",
    "        'Chimod': 'hartree',\n",
    "        'DysSolver': 'n',\n",
    "        'GTermKind': 'BG',\n",
    "        'NGsBlkXp': [2, 'Ry'],\n",
    "        'BndsRnXp': [[1, 50], ''],\n",
    "        'GbndRnge': [[1, 50], ''],\n",
    "        'QPkrange': [[[1, 1, 8, 9]], ''],}}\n",
    "\n",
    "\n",
    "params_gw = orm.Dict(dict=params_gw)\n",
    "builder.ywfl.qp.yambo.parameters = params_gw"
   ]
  },
  {
   "cell_type": "code",
   "execution_count": null,
   "id": "e03c527f",
   "metadata": {},
   "outputs": [],
   "source": [
    "run = None"
   ]
  },
  {
   "cell_type": "code",
   "execution_count": null,
   "id": "706b0706",
   "metadata": {},
   "outputs": [],
   "source": [
    "if run:\n",
    "    print('run is already running -> {}'.format(run.pk))\n",
    "    print('sure that you want to run again?, if so, copy the else instruction in the cell below and run!')\n",
    "else:\n",
    "    run = submit(builder)\n",
    "\n",
    "print(run)"
   ]
  },
  {
   "cell_type": "markdown",
   "id": "0880d8ac",
   "metadata": {},
   "source": [
    "# Output analysis.\n",
    "\n",
    "suppose that your calculation completed successfully, then you can access the outputs via the output method of the run instance: "
   ]
  },
  {
   "cell_type": "code",
   "execution_count": null,
   "id": "51ae03e5",
   "metadata": {},
   "outputs": [],
   "source": [
    "run.is_finished_ok"
   ]
  },
  {
   "cell_type": "code",
   "execution_count": null,
   "id": "60ee583d",
   "metadata": {},
   "outputs": [],
   "source": [
    "!verdi process report {run.pk}"
   ]
  },
  {
   "cell_type": "markdown",
   "id": "4bd84d88",
   "metadata": {},
   "source": [
    "The converged parameters can be obtained via the \"infos\" output Dict:"
   ]
  },
  {
   "cell_type": "code",
   "execution_count": null,
   "id": "57321b6a",
   "metadata": {},
   "outputs": [],
   "source": [
    "run.outputs.infos.get_dict()"
   ]
  },
  {
   "cell_type": "markdown",
   "id": "0ef10dc9",
   "metadata": {},
   "source": [
    "The full convergence history can be visualized in a table form using pandas:"
   ]
  },
  {
   "cell_type": "code",
   "execution_count": null,
   "id": "c206325e",
   "metadata": {},
   "outputs": [],
   "source": [
    "import pandas as pd"
   ]
  },
  {
   "cell_type": "code",
   "execution_count": null,
   "id": "db3991c6",
   "metadata": {},
   "outputs": [],
   "source": [
    "history = run.outputs.history.get_dict()"
   ]
  },
  {
   "cell_type": "code",
   "execution_count": null,
   "id": "ede8f7ca",
   "metadata": {},
   "outputs": [],
   "source": [
    "history_table = pd.DataFrame(history)"
   ]
  },
  {
   "cell_type": "code",
   "execution_count": null,
   "id": "360eb7b3",
   "metadata": {},
   "outputs": [],
   "source": [
    "history_table"
   ]
  },
  {
   "cell_type": "markdown",
   "id": "99efc4a9",
   "metadata": {},
   "source": [
    "The last calculations can be obtained using:"
   ]
  },
  {
   "cell_type": "code",
   "execution_count": null,
   "id": "5240cb94",
   "metadata": {},
   "outputs": [],
   "source": [
    "history_table[history_table['useful']==True]"
   ]
  },
  {
   "cell_type": "markdown",
   "id": "a1911f44",
   "metadata": {},
   "source": [
    "Result on the convergence path can be plotted using several plotting libraries, for examples here we are gonna use [plotly]((https://plotly.com/python/3d-line-plots/)) to observe the convergence between bands and plane wave cutoff for the screening matrix:"
   ]
  },
  {
   "cell_type": "code",
   "execution_count": null,
   "id": "ebd38f12",
   "metadata": {},
   "outputs": [],
   "source": [
    "import plotly.express as px\n",
    "\n",
    "k_history = history_table[history_table['parameters_studied']==\"kpoint_mesh\"]\n",
    "\n",
    "df = k_history\n",
    "fig = px.scatter(df, y=\"lowest_exciton\", text=df[\"kpoint_mesh\"])\n",
    "fig.show()"
   ]
  },
  {
   "cell_type": "markdown",
   "id": "d5b867a9",
   "metadata": {},
   "source": [
    "## Exercise 1: try to compute BSE convergence but using QP instead of scissor and stretching.\n",
    "\n",
    "Solution provided in the `Solution_2_YamboConvergence_BSE_QP.ipynb` notebook. \n",
    "Please look at the `6_1_YamboWorkflow_BSE_QP.ipynb` to understand how to set the preliminary QP calculation."
   ]
  },
  {
   "cell_type": "markdown",
   "id": "e266ba89",
   "metadata": {},
   "source": [
    "## Exercise 2: computing the convergence not with respect to the k-mesh, but with respect to the k-point density.\n",
    "\n",
    "Solution provided in the `Solution_3_YamboConvergence_BSE_k_density.ipynb` notebook.\n",
    "\n",
    "```python\n",
    "builder.parameters_space = orm.List(list=[\n",
    " {'var': ['kpoint_density'],\n",
    "  'start': 1/0.05,\n",
    "  'stop': 1/0.025,\n",
    "  'delta': 1,      #1/0.01\n",
    "  'max': 1/0.02,\n",
    "  'steps': 4,\n",
    "  'max_iterations': 4,\n",
    "  'conv_thr': 3,\n",
    "  'conv_thr_units': '%',\n",
    "  'convergence_algorithm': 'new_algorithm_1D'},])\n",
    "```"
   ]
  },
  {
   "cell_type": "code",
   "execution_count": null,
   "id": "3ab19805",
   "metadata": {},
   "outputs": [],
   "source": []
  }
 ],
 "metadata": {
  "kernelspec": {
   "display_name": "Python 3 (ipykernel)",
   "language": "python",
   "name": "python3"
  },
  "language_info": {
   "codemirror_mode": {
    "name": "ipython",
    "version": 3
   },
   "file_extension": ".py",
   "mimetype": "text/x-python",
   "name": "python",
   "nbconvert_exporter": "python",
   "pygments_lexer": "ipython3",
   "version": "3.9.16"
  }
 },
 "nbformat": 4,
 "nbformat_minor": 5
}
