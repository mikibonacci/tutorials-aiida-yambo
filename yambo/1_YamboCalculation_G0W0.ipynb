{
 "cells": [
  {
   "cell_type": "markdown",
   "id": "02206d5f",
   "metadata": {},
   "source": [
    "# YamboCalculation: setting up the first G0W0 calculation\n",
    "\n",
    "Once completed the preliminary steps, we are ready to run a G0W0 calculation, for simplicity in the common Godby-Needs plasmon-pole approximation (PPA). In particular, we will compute the Gamma band gap hBN. \n",
    "\n",
    "The actual *p2y*+*yambo init*+*yambo* run will be submitted by means of the *YamboCalculation* class implemented in the *aiida-yambo* plugin. This does not involve any post processing (e.g. error handling, automatic determination of quasiparticle band gaps, excitonic eigenvalues).\n",
    "\n",
    "Input file generation and output parsing is done using the [*Yambopy*](https://github.com/yambo-code/yambopy/blob/master/README.md) package as python dependence.\n",
    "\n",
    "As in the [*02_QE_starting_point*](../prerequisites/0_2_QE_starting_point.ipynb) module, we create a builder instance and submit it."
   ]
  },
  {
   "cell_type": "code",
   "execution_count": 2,
   "id": "960cd7e9",
   "metadata": {},
   "outputs": [
    {
     "data": {
      "text/plain": [
       "Profile<uuid='b35700dae723411ea16ebc82d58f16bc' name='mb'>"
      ]
     },
     "execution_count": 2,
     "metadata": {},
     "output_type": "execute_result"
    }
   ],
   "source": [
    "from aiida import orm, load_profile\n",
    "load_profile()\n",
    "\n",
    "from aiida.plugins import CalculationFactory\n",
    "from aiida.engine import submit\n",
    "\n",
    "import yaml"
   ]
  },
  {
   "cell_type": "markdown",
   "id": "208aa0b3",
   "metadata": {},
   "source": [
    "### Loading the YamboCalculation class and the corresponding builder:"
   ]
  },
  {
   "cell_type": "code",
   "execution_count": 3,
   "id": "65c9d7ae",
   "metadata": {},
   "outputs": [],
   "source": [
    "YamboCalculation = CalculationFactory('yambo.yambo')\n",
    "builder = YamboCalculation.get_builder()"
   ]
  },
  {
   "cell_type": "markdown",
   "id": "76398a89",
   "metadata": {},
   "source": [
    "It is possible to inspect all the possible inputs that we can provide to the builder, using the tab completion feature:\n",
    "\n",
    "```python\n",
    "builder. # + tab completion\n",
    "```"
   ]
  },
  {
   "cell_type": "markdown",
   "id": "eb19f345",
   "metadata": {},
   "source": [
    "### Setting *yambo*, *p2y* codes and resources\n"
   ]
  },
  {
   "cell_type": "code",
   "execution_count": 12,
   "id": "b4a41a89",
   "metadata": {},
   "outputs": [],
   "source": [
    "with open(\"../configuration/codes_localhost.yaml\", 'r') as stream:\n",
    "    codes = yaml.safe_load(stream)\n",
    "    \n",
    "with open(\"../configuration/resources_localhost.yaml\", 'r') as stream:\n",
    "    resources = yaml.safe_load(stream)\n",
    "    \n",
    "builder.code = orm.load_code(codes[\"yambocode_id\"])                    #yambo executable\n",
    "builder.preprocessing_code = orm.load_code(codes[\"yamboprecode_id\"])   #p2y   executable\n",
    "builder.metadata.options = resources                                   # computational settings"
   ]
  },
  {
   "cell_type": "markdown",
   "id": "a0a460e4",
   "metadata": {},
   "source": [
    "## The yambo parameters\n",
    "\n",
    "The input parameters used to run a yambo simulation (what usually is written in the *yambo.in* file for an ordinary yambo calculation), must be provided as an AiiDA Dict data type. This can be done first creating a python dictionar (e.g. `yambo_parameters`), and then converting it to the right type:"
   ]
  },
  {
   "cell_type": "code",
   "execution_count": 14,
   "id": "68fa7ff4",
   "metadata": {},
   "outputs": [],
   "source": [
    "yambo_parameters = {\n",
    "    'arguments': [                                      # <=== runlevels\n",
    "        'dipoles',\n",
    "        'HF_and_locXC',\n",
    "        'dipoles',\n",
    "        'gw0',\n",
    "        'ppa',],\n",
    "    'variables': {                                      # <=== parameters\n",
    "        'Chimod': 'hartree',\n",
    "        'DysSolver': 'n',\n",
    "        'GTermKind': 'BG',\n",
    "        'NGsBlkXp': [2, 'Ry'],\n",
    "        'BndsRnXp': [[1, 50], ''],\n",
    "        'GbndRnge': [[1, 50], ''],\n",
    "        'QPkrange': [[[1, 10, 8, 9]], ''],\n",
    "        },\n",
    "    }\n",
    "\n",
    "builder.parameters = orm.Dict(dict=yambo_parameters)"
   ]
  },
  {
   "cell_type": "markdown",
   "id": "10b01120",
   "metadata": {},
   "source": [
    "Runlevels are included under the 'arguments' key, as a list of strings. Parameters are instead in the 'variables' dictionary, as you can see. The format of the `yambo_parameters` is the same as the one that you should use in a *yambopy* calculation (indeed, to write the input file, the code uses the `YamboIn()` class of *yambopy*)."
   ]
  },
  {
   "cell_type": "markdown",
   "id": "e8598c5b",
   "metadata": {},
   "source": [
    "To run  only p2y+yambo init, it is possible to set:\n",
    "```python\n",
    "yambo_parameters = Dict(dict={\n",
    "    'arguments': [],\n",
    "    'variables': {},\n",
    "    },\n",
    ")\n",
    "```"
   ]
  },
  {
   "cell_type": "markdown",
   "id": "f8134d4c",
   "metadata": {},
   "source": [
    "**Advanced settings**: You can also provide a settings dictionary, where to specify some instructions (False is default for any of them)"
   ]
  },
  {
   "cell_type": "code",
   "execution_count": null,
   "id": "5602fb58",
   "metadata": {},
   "outputs": [],
   "source": [
    "settings = {\n",
    "    'INITIALISE':    False,    # if True, run only p2y and yambo initialization\n",
    "    'COPY_DBS':      False,      # if True, copy the out folder of a previous yambo calculation\n",
    "    'COPY_SAVE':     False,     # if True, copy the SAVE folder of a previous yambo calculation\n",
    "    'RESTART_YAMBO': False, # if True, soft-link the out folder of a previous yambo calculation\n",
    "}\n",
    "\n",
    "builder.settings = orm.Dict(dict=settings)"
   ]
  },
  {
   "cell_type": "markdown",
   "id": "acb0514c",
   "metadata": {},
   "source": [
    "Finally, to retrieve additional files, you can provide their names in the input settings Dict:\n",
    "\n",
    "```python\n",
    "settings_retrieve = {\n",
    "\t\"ADDITIONAL_RETRIEVE_LIST\":[\n",
    "\t\t'LOG/l-*',\n",
    "\t\t],\n",
    "\t}\n",
    "\n",
    "settings.update(settings_retrieve)\n",
    "builder.settings = orm.Dict(dict=settings)\n",
    "```\n",
    "\n",
    "This selects the additional files that will  be retrieved and parsed after a calculation. Default retrieved files include the report files ``r-*``, text outputs ``o-*``, logs, the quasiparticle\n",
    "database for GW calculations ``aiida.out/ndb.QP``, and the Hartree-Fock and local exchange\n",
    "db ``aiida.out/ndb.HF_and_locXC``. Quantities\n",
    "that you may want collect to further analyse are for example the dipoles or the dielectric function databases, output of a typical GW\n",
    "calculation. In the above example we just selected all the log files."
   ]
  },
  {
   "cell_type": "markdown",
   "id": "dc748413",
   "metadata": {},
   "source": [
    "### Setting the QuantumEspresso parent nscf calculation\n",
    "\n",
    "Yambo simulations require a DFT starting point, i.e. the ground state wavefunctions as obtained in a non self-consistent calculation. This was computed a the previous module ([*02_QE_starting_point*](../prerequisites/0_2_QE_starting_point.ipynb))."
   ]
  },
  {
   "cell_type": "code",
   "execution_count": null,
   "id": "c1c6955d",
   "metadata": {},
   "outputs": [],
   "source": [
    "nscf_pk = 379 # the pk of the previous nscf calculation or workchain.\n",
    "\n",
    "builder.parent_folder = orm.load_node(nscf_pk).outputs.remote_folder"
   ]
  },
  {
   "cell_type": "markdown",
   "id": "08f91edc",
   "metadata": {},
   "source": [
    "## RUN"
   ]
  },
  {
   "cell_type": "code",
   "execution_count": 18,
   "id": "b7774365",
   "metadata": {},
   "outputs": [],
   "source": [
    "run = None"
   ]
  },
  {
   "cell_type": "code",
   "execution_count": 19,
   "id": "05394759",
   "metadata": {},
   "outputs": [
    {
     "name": "stdout",
     "output_type": "stream",
     "text": [
      "uuid: 084ebf9b-f12f-4399-8dea-dd20341e9244 (pk: 400) (aiida.calculations:yambo.yambo)\n"
     ]
    }
   ],
   "source": [
    "if run:\n",
    "    print('A calculation is already running -> {}'.format(run.pk))\n",
    "    print('sure that you want to run again?, if so, copy the else instruction in the cell below and run!')\n",
    "else:\n",
    "    run = submit(builder)\n",
    "\n",
    "print(run)"
   ]
  },
  {
   "cell_type": "markdown",
   "id": "9b99e811",
   "metadata": {},
   "source": [
    "## Inspecting the outputs\n",
    "\n",
    "suppose that your calculation completed successfully:"
   ]
  },
  {
   "cell_type": "code",
   "execution_count": 21,
   "id": "46173eeb",
   "metadata": {},
   "outputs": [
    {
     "data": {
      "text/plain": [
       "True"
      ]
     },
     "execution_count": 21,
     "metadata": {},
     "output_type": "execute_result"
    }
   ],
   "source": [
    "run.is_finished_ok"
   ]
  },
  {
   "cell_type": "markdown",
   "id": "9d243637",
   "metadata": {},
   "source": [
    "Then you can access the outputs via the output method of the run instance: \n",
    "\n",
    "```python\n",
    "run.outputs. #+TAB\n",
    "```"
   ]
  },
  {
   "cell_type": "markdown",
   "id": "447459e6",
   "metadata": {},
   "source": [
    "For example, we have the array_ndb ArrayData, which essentially contains the information on the run.output.QP_DB (which can also be accessed directly):"
   ]
  },
  {
   "cell_type": "code",
   "execution_count": 23,
   "id": "f0d8160f",
   "metadata": {},
   "outputs": [
    {
     "data": {
      "text/plain": [
       "['E',\n",
       " 'Z',\n",
       " 'Eo',\n",
       " 'Sc',\n",
       " 'Sx',\n",
       " 'Vxc',\n",
       " 'Band',\n",
       " 'Kpoint',\n",
       " 'nbands',\n",
       " 'nkpoints',\n",
       " 'qp_table',\n",
       " 'E_minus_Eo',\n",
       " 'Kpoint_index']"
      ]
     },
     "execution_count": 23,
     "metadata": {},
     "output_type": "execute_result"
    }
   ],
   "source": [
    "run.outputs.array_ndb.get_arraynames()"
   ]
  },
  {
   "cell_type": "markdown",
   "id": "e29d857e",
   "metadata": {},
   "source": [
    "The quasiparticle corrections and the renormalization factors can be accessed from the YamboCalculation using the output bands and array data:\n",
    "\n",
    "```python\n",
    "energies_DFT = run.outputs.array_ndb.get_array('E_0')\n",
    "QP_corrections =  run.outputs.array_ndb.get_array('E_minus_Eo')\n",
    "energies_QP = run.outputs.array_ndb.get_array('E')\n",
    "Z_factors =  run.outputs.array_ndb.get_array('Z')\n",
    "kpoint_band_array = run.outputs.array_ndb.get_array('qp_table')\n",
    "kpoints = run.outputs.bands_quasiparticle.get_kpoints()\n",
    "```"
   ]
  },
  {
   "cell_type": "markdown",
   "id": "fd01adcc",
   "metadata": {},
   "source": [
    "The `energies_DFT` and `energies_QP` are in Hartree units (as well as the other related quantities). We can use the [*ASE*](https://wiki.fysik.dtu.dk/ase/) module `units` to convert easily to eV and plot the results:"
   ]
  },
  {
   "cell_type": "code",
   "execution_count": 25,
   "id": "893490c8",
   "metadata": {},
   "outputs": [
    {
     "data": {
      "image/png": "[encoded data removed]",
      "text/plain": [
       "<Figure size 640x480 with 1 Axes>"
      ]
     },
     "metadata": {},
     "output_type": "display_data"
    }
   ],
   "source": [
    "from ase import units\n",
    "from matplotlib import pyplot as plt\n",
    "\n",
    "plt.plot(E_dft.real*units.Ha,E_qp.real*units.Ha,'o')\n",
    "plt.ylabel('G0W0')\n",
    "plt.xlabel('DFT')\n",
    "plt.grid()"
   ]
  },
  {
   "cell_type": "code",
   "execution_count": 26,
   "id": "93308bf9",
   "metadata": {},
   "outputs": [
    {
     "data": {
      "text/plain": [
       "array([-0.06425011+0.00045653j,  0.2166778 -0.00044711j,\n",
       "       -0.06549174+0.00045733j,  0.33259773-0.00050417j,\n",
       "       -0.10030335+0.00048206j,  0.25266892-0.0004588j ,\n",
       "       -0.1018846 +0.00048293j,  0.35730022-0.00043033j,\n",
       "       -0.06720123+0.00045001j,  0.31763703-0.00052755j,\n",
       "       -0.1156297 +0.00048137j,  0.3260486 -0.00052545j,\n",
       "       -0.02004629+0.00040761j,  0.20649555-0.0004339j ,\n",
       "       -0.04454324+0.00041813j,  0.22786811-0.00044198j,\n",
       "       -0.08917379+0.00048018j,  0.3163926 -0.00048677j,\n",
       "       -0.1407201 +0.00051103j,  0.36454457-0.00051185j], dtype=complex64)"
      ]
     },
     "execution_count": 26,
     "metadata": {},
     "output_type": "execute_result"
    }
   ],
   "source": [
    "E_qp"
   ]
  },
  {
   "cell_type": "markdown",
   "id": "eeb8aa19",
   "metadata": {},
   "source": [
    "The `output_parameters` Dict contains information on the simulation:"
   ]
  },
  {
   "cell_type": "code",
   "execution_count": null,
   "id": "91a49104",
   "metadata": {},
   "outputs": [
    {
     "data": {
      "text/plain": [
       "{'errors': [],\n",
       " 'timing': [' <---> [01] MPI/OPENMP structure, Files & I/O Directories\\n',\n",
       "  ' <---> [02] CORE Variables Setup\\n',\n",
       "  ' <---> [03] Transferred momenta grid and indexing\\n',\n",
       "  ' <---> [04] Dipoles\\n',\n",
       "  ' <07s> [05] Dynamic Dielectric Matrix (PPA)\\n',\n",
       "  ' <30s> [06] Local Exchange-Correlation + Non-Local Fock\\n',\n",
       "  ' <33s> [07] Dyson equation: Newton solver\\n',\n",
       "  ' <38s> [08] Timing Overview\\n',\n",
       "  ' <38s> [09] Game Over & Game summary\\n'],\n",
       " 'has_gpu': False,\n",
       " 'memstats': [],\n",
       " 'warnings': [],\n",
       " 'Fermi(eV)': 5.113648,\n",
       " 'game_over': True,\n",
       " 'last_time': 38,\n",
       " 'para_error': False,\n",
       " 'time_error': False,\n",
       " 'ns_db1_path': '/tmp/tmpaqttc7v4',\n",
       " 'memory_error': False,\n",
       " 'p2y_completed': True,\n",
       " 'yambo_version': '5.x',\n",
       " 'requested_time': 3600,\n",
       " 'last_time_units': 'seconds',\n",
       " 'yambo_wrote_dbs': True,\n",
       " 'corrupted_fragment': False,\n",
       " 'X_par_allocation_error': False}"
      ]
     },
     "execution_count": 27,
     "metadata": {},
     "output_type": "execute_result"
    }
   ],
   "source": [
    "run.outputs.output_parameters.get_dict()"
   ]
  },
  {
   "cell_type": "markdown",
   "id": "7f5a3fab",
   "metadata": {},
   "source": [
    "As output, also the `ndb.QP` database is stored:"
   ]
  },
  {
   "cell_type": "code",
   "execution_count": 28,
   "id": "ed63f08f",
   "metadata": {},
   "outputs": [
    {
     "data": {
      "text/plain": [
       "<SinglefileData: uuid: c77a7578-5bbf-48e0-a58e-1deea0c5a2cd (pk: 403)>"
      ]
     },
     "execution_count": 28,
     "metadata": {},
     "output_type": "execute_result"
    }
   ],
   "source": [
    "run.outputs.QP_db"
   ]
  },
  {
   "cell_type": "markdown",
   "id": "a6e9ec2a",
   "metadata": {},
   "source": [
    "This can be used again: for example, we may be interested on BSE simulations on top of these quasiparticle corrections. \n",
    "We can do the following (assuming the `builder.parameters` are now the one for a BSE calculation):\n",
    "\n",
    "```python\n",
    "    builder.QP_corrections = orm.load_node(2032)   # ---> QP_db node\n",
    "    params['variables']['KfnQPdb'] =  \"E < ./ndb.QP\"\n",
    "    builder.parameters = orm.Dict(dict=params)\n",
    "```"
   ]
  },
  {
   "cell_type": "markdown",
   "id": "9a87f1f1",
   "metadata": {},
   "source": [
    "### How to access the remote files.\n",
    "\n",
    "You may need to go in the folder where all inputs and outputs are collected. \n",
    "This can be easily done via the command line:\n",
    "\n",
    "```bash\n",
    "verdi calcjob gotocomputer <pk of the calcjob>\n",
    "```"
   ]
  },
  {
   "cell_type": "markdown",
   "id": "8cc046a4",
   "metadata": {},
   "source": [
    "## Other type of simulations\n",
    "\n",
    "It is possible also to run Bethe-Salpeter calculations, - to compute optical properties - \n",
    "as shown in the next sections of this tutorial.\n",
    "\n",
    "If you want to run a single G0W0/BSE simulation within the aiida-yambo plugin, we suggest to always use the YamboWorkflow workchain provided in\n",
    "the plugin and shown in the following sections."
   ]
  }
 ],
 "metadata": {
  "kernelspec": {
   "display_name": "Python 3 (ipykernel)",
   "language": "python",
   "name": "python3"
  },
  "language_info": {
   "codemirror_mode": {
    "name": "ipython",
    "version": 3
   },
   "file_extension": ".py",
   "mimetype": "text/x-python",
   "name": "python",
   "nbconvert_exporter": "python",
   "pygments_lexer": "ipython3",
   "version": "3.10.13"
  }
 },
 "nbformat": 4,
 "nbformat_minor": 5
}
