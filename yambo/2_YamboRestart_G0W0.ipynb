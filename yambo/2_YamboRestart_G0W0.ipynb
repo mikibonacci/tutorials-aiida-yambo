{
 "cells": [
  {
   "cell_type": "markdown",
   "id": "7b8e22ef",
   "metadata": {},
   "source": [
    "# YamboRestart: a G0W0 run with automated error handling\n",
    "\n",
    "This is the lowest-level workflow of the plugin. It runs a yambo calculation (*p2y*+*yambo init*+*yambo*) wrapping the `YamboCalculation` class and implementing a restart logic. The workflow can handle:\n",
    "- Time Exhaustion on the queue: runs a new calculation with increased walltime ($t_{n+1}=t_n \\cdot 1.5 \\cdot Iter_{restart}$), copying the partial results obtained in the failed previous calculation;\n",
    "- Corruption of the databases: it just restarts the calculation deleting the corrupted files but copying all the other outputs, for an efficient restart;\n",
    "- Parallization errors: use the built-in yambo parallelization logic to attempt a restart;\n",
    "- Memory limitations: reduce mpi(/=2) and increase threads(*=2) to attempt a more efficient memory distribution; It can increase the number of nodes only if the maximum possible usable nodes (provided as input parameter) is not yet reached, for two cases: if mpi==1 or if we are using GPU acceleration;\n",
    "\n",
    "after each calculation, the WorkChain will check the exit status of the simulation and, if it is different from zero (i.e. failed), YamboRestart will try to fix some parameters/settings in order to resubmit the calculation and obtain meaningful results. As inputs, it is possible to provide\n",
    "the maximum number of iterations that the workchain will perform (default is 5) and other parameters, as explained in the following."
   ]
  },
  {
   "cell_type": "code",
   "execution_count": 1,
   "id": "1aaf4226",
   "metadata": {},
   "outputs": [],
   "source": [
    "from aiida import orm, load_profile\n",
    "load_profile()\n",
    "\n",
    "from aiida.plugins import WorkflowFactory\n",
    "from aiida.engine import submit\n",
    "\n",
    "import yaml"
   ]
  },
  {
   "cell_type": "markdown",
   "id": "77589a31",
   "metadata": {},
   "source": [
    "## Providing the minimal inputs needed for protocols\n",
    "\n",
    "We have to provide minimal inputs for the creation of the builder instance, namely:\n",
    "- codes;\n",
    "- `parent_folder`;"
   ]
  },
  {
   "cell_type": "code",
   "execution_count": 2,
   "id": "0b71d265",
   "metadata": {},
   "outputs": [],
   "source": [
    "options = {\n",
    "    'protocol':'fast',\n",
    "    'parent_id':397, #provide your previously nscf id (pk)\n",
    "}"
   ]
  },
  {
   "cell_type": "code",
   "execution_count": 3,
   "id": "f4095cb8",
   "metadata": {},
   "outputs": [],
   "source": [
    "# Read YAML file\n",
    "with open(\"../configuration/codes_localhost.yaml\", 'r') as stream:\n",
    "    codes = yaml.safe_load(stream)\n",
    "    \n",
    "with open(\"../configuration/resources_localhost.yaml\", 'r') as stream:\n",
    "    resources = yaml.safe_load(stream)"
   ]
  },
  {
   "cell_type": "code",
   "execution_count": 4,
   "id": "212cd3df",
   "metadata": {},
   "outputs": [],
   "source": [
    "options.update(codes)"
   ]
  },
  {
   "cell_type": "markdown",
   "id": "36f6609f",
   "metadata": {},
   "source": [
    "The creation of the builder, for a given workflow, is provided by means of the `get_builder_from_protocol` method.\n",
    "This is, for now, just a way to automatically populated all the needed inputs, allowing the user to partially skip the part of input definition.\n",
    "Indeed, for GW and BSE simulation, default parameter values for a given level of accuracy are not really tested, so the user should check carefully them before the submission of the simulation."
   ]
  },
  {
   "cell_type": "code",
   "execution_count": 5,
   "id": "01ffa498",
   "metadata": {},
   "outputs": [
    {
     "name": "stdout",
     "output_type": "stream",
     "text": [
      "Summary of the main inputs:\n",
      "BndsRnXp = 150\n",
      "GbndRnge = 150\n",
      "NGsBlkXp = 6 Ry\n",
      "FFTGvecs = 21 Ry\n",
      "\n"
     ]
    }
   ],
   "source": [
    "YamboRestart = WorkflowFactory('yambo.yambo.yamborestart')\n",
    "builder = YamboRestart.get_builder_from_protocol(\n",
    "    preprocessing_code = options['yamboprecode_id'],\n",
    "    code = options['yambocode_id'],\n",
    "    protocol=options['protocol'],\n",
    "    overrides={},\n",
    "    parent_folder=orm.load_node(options['parent_id']).outputs.remote_folder,\n",
    "    RIM_v=False,           #this automatically set the RIM_cut runlevel, if True\n",
    "    RIM_W=False,           #this automatically set the RIM_W, if True\n",
    "    BG_term=False,         #this automatically set the BG terminator parameter, if True\n",
    ")"
   ]
  },
  {
   "cell_type": "markdown",
   "id": "f25bdda2",
   "metadata": {},
   "source": [
    "You can also inspect the other available protocols: "
   ]
  },
  {
   "cell_type": "code",
   "execution_count": 6,
   "id": "8fa1083b",
   "metadata": {},
   "outputs": [
    {
     "data": {
      "text/plain": [
       "{'fast': {'description': 'Under converged for most materials, but fast'},\n",
       " 'moderate': {'description': 'Meta converged for most materials, higher computational cost than fast'},\n",
       " 'precise': {'description': 'Converged for most materials, higher computational cost than moderate'},\n",
       " 'bse_fast': {'description': 'Under converged for most materials, but fast'},\n",
       " 'bse_moderate': {'description': 'Meta converged for most materials, higher computational cost than fast'},\n",
       " 'bse_precise': {'description': 'Converged for most materials, higher computational cost than moderate'}}"
      ]
     },
     "execution_count": 6,
     "metadata": {},
     "output_type": "execute_result"
    }
   ],
   "source": [
    "YamboRestart.get_available_protocols()"
   ]
  },
  {
   "cell_type": "markdown",
   "id": "5f27e57f",
   "metadata": {},
   "source": [
    "Now, if you inspect the pre-populated inputs, you can see the default values respecting the imposed protocol:"
   ]
  },
  {
   "cell_type": "code",
   "execution_count": 7,
   "id": "064893ec",
   "metadata": {},
   "outputs": [
    {
     "data": {
      "text/plain": [
       "{'arguments': ['dipoles', 'ppa', 'HF_and_locXC', 'gw0'],\n",
       " 'variables': {'Chimod': 'hartree',\n",
       "  'DysSolver': 'n',\n",
       "  'GTermKind': 'BG',\n",
       "  'X_and_IO_nCPU_LinAlg_INV': [1, ''],\n",
       "  'NGsBlkXp': [6, 'Ry'],\n",
       "  'FFTGvecs': [21, 'Ry'],\n",
       "  'BndsRnXp': [[1, 150], ''],\n",
       "  'GbndRnge': [[1, 150], ''],\n",
       "  'QPkrange': [[[1, 1, 32, 32]], '']}}"
      ]
     },
     "execution_count": 7,
     "metadata": {},
     "output_type": "execute_result"
    }
   ],
   "source": [
    "builder.yambo.parameters.get_dict()"
   ]
  },
  {
   "cell_type": "markdown",
   "id": "46139158",
   "metadata": {},
   "source": [
    "Let's provide also the resources:"
   ]
  },
  {
   "cell_type": "code",
   "execution_count": 8,
   "id": "2cfdd735",
   "metadata": {},
   "outputs": [],
   "source": [
    "builder.yambo.metadata.options = resources"
   ]
  },
  {
   "cell_type": "markdown",
   "id": "35eaa0bd",
   "metadata": {},
   "source": [
    "### Overrides\n",
    "\n",
    "It is possible to modify the default inputs also during the builder creation phase, so not a posteriori. This can be done by using overrides:"
   ]
  },
  {
   "cell_type": "code",
   "execution_count": 9,
   "id": "7eda99d0",
   "metadata": {},
   "outputs": [],
   "source": [
    "overrides_yambo = {\n",
    "        \"yambo\": {\n",
    "            \"parameters\": {\n",
    "                \"arguments\": [\n",
    "                    \"rim_cut\",\n",
    "                ],\n",
    "                \"variables\": {\n",
    "                    \"NGsBlkXp\": [4, 'Ry'],\n",
    "                    'QPkrange': [[[1, 10, 4, 5]], ''],\n",
    "                },\n",
    "            },\n",
    "    'metadata':{\"options\":resources},\n",
    "        }\n",
    "}"
   ]
  },
  {
   "cell_type": "code",
   "execution_count": 10,
   "id": "2a98d765",
   "metadata": {},
   "outputs": [
    {
     "name": "stdout",
     "output_type": "stream",
     "text": [
      "Summary of the main inputs:\n",
      "BndsRnXp = 150\n",
      "GbndRnge = 150\n",
      "NGsBlkXp = 4 Ry\n",
      "FFTGvecs = 21 Ry\n",
      "\n"
     ]
    }
   ],
   "source": [
    "builder = YamboRestart.get_builder_from_protocol(\n",
    "            preprocessing_code = options['yamboprecode_id'],\n",
    "            code = options['yambocode_id'],\n",
    "            protocol=options['protocol'],\n",
    "            overrides=overrides_yambo,\n",
    "            parent_folder=orm.load_node(options['parent_id']).outputs.remote_folder,\n",
    ")"
   ]
  },
  {
   "cell_type": "code",
   "execution_count": 11,
   "id": "6516cbed",
   "metadata": {},
   "outputs": [
    {
     "data": {
      "text/plain": [
       "{'stash': {}, 'resources': {'num_machines': 1, 'num_mpiprocs_per_machine': 1, 'num_cores_per_mpiproc': 1}, 'max_wallclock_seconds': 3600, 'withmpi': True, 'prepend_text': 'export OMP_NUM_THREADS=1'}"
      ]
     },
     "execution_count": 11,
     "metadata": {},
     "output_type": "execute_result"
    }
   ],
   "source": [
    "builder.yambo.metadata.options"
   ]
  },
  {
   "cell_type": "code",
   "execution_count": 12,
   "id": "a3bfa530",
   "metadata": {},
   "outputs": [
    {
     "data": {
      "text/plain": [
       "{'arguments': ['rim_cut', 'HF_and_locXC', 'dipoles', 'gw0', 'ppa'],\n",
       " 'variables': {'Chimod': 'hartree',\n",
       "  'DysSolver': 'n',\n",
       "  'GTermKind': 'BG',\n",
       "  'X_and_IO_nCPU_LinAlg_INV': [1, ''],\n",
       "  'NGsBlkXp': [4, 'Ry'],\n",
       "  'FFTGvecs': [21, 'Ry'],\n",
       "  'BndsRnXp': [[1, 150], ''],\n",
       "  'GbndRnge': [[1, 150], ''],\n",
       "  'QPkrange': [[[1, 10, 4, 5]], '']}}"
      ]
     },
     "execution_count": 12,
     "metadata": {},
     "output_type": "execute_result"
    }
   ],
   "source": [
    "builder.yambo.parameters.get_dict()"
   ]
  },
  {
   "cell_type": "markdown",
   "id": "3bf8dc53",
   "metadata": {},
   "source": [
    "### Restart settings\n",
    "\n",
    "It is possible to change defaults values (shown below) of the restart settings:\n",
    "\n",
    "```python\n",
    "builder.max_walltime = orm.Int(24*60*60) # maximum walltime.\n",
    "builder.max_number_of_nodes = orm.Int(0) # maximum number of nodes for a given run; by default, zero will disable the increasing of the nodes.\n",
    "builder.max_iterations = orm.Int(5) # maximum number of attempts to obtain a successfull calculation.\n",
    "```"
   ]
  },
  {
   "cell_type": "markdown",
   "id": "20bc9c88",
   "metadata": {},
   "source": [
    "### Submission phase"
   ]
  },
  {
   "cell_type": "code",
   "execution_count": 13,
   "id": "2759143f",
   "metadata": {},
   "outputs": [],
   "source": [
    "run = None"
   ]
  },
  {
   "cell_type": "code",
   "execution_count": 14,
   "id": "96a49fa1",
   "metadata": {},
   "outputs": [
    {
     "name": "stdout",
     "output_type": "stream",
     "text": [
      "uuid: dfde84bc-c0ea-4a5b-845f-02613573271d (pk: 2067) (aiida.workflows:yambo.yambo.yamborestart)\n"
     ]
    }
   ],
   "source": [
    "if run:\n",
    "    print('run is already running -> {}'.format(run.pk))\n",
    "    print('sure that you want to run again?, if so, copy the else instruction in the cell below and run!')\n",
    "else:\n",
    "    run = submit(builder)\n",
    "\n",
    "print(run)"
   ]
  },
  {
   "cell_type": "markdown",
   "id": "8a9f8489",
   "metadata": {},
   "source": [
    "## Inspecting the outputs\n",
    "\n",
    "Suppose that your calculation finished successfully, then you can access the outputs via the *outputs* method of the run instance. \n",
    "This is analogous to the [*1_YamboCalculation_G0W0*](1_YamboCalculation_G0W0.ipynb) module, as the outputs are inerithed from the submitted `YamboCalculation`."
   ]
  },
  {
   "cell_type": "code",
   "execution_count": 17,
   "id": "646a4ebd",
   "metadata": {},
   "outputs": [
    {
     "data": {
      "text/plain": [
       "True"
      ]
     },
     "execution_count": 17,
     "metadata": {},
     "output_type": "execute_result"
    }
   ],
   "source": [
    "run.is_finished_ok"
   ]
  },
  {
   "cell_type": "markdown",
   "id": "e8ffe109",
   "metadata": {},
   "source": [
    "For example, we have the `array_ndb` ArrayData:"
   ]
  },
  {
   "cell_type": "code",
   "execution_count": 18,
   "id": "9e76cf18",
   "metadata": {},
   "outputs": [
    {
     "data": {
      "text/plain": [
       "['E',\n",
       " 'Z',\n",
       " 'Eo',\n",
       " 'Sc',\n",
       " 'Sx',\n",
       " 'Vxc',\n",
       " 'Band',\n",
       " 'Kpoint',\n",
       " 'nbands',\n",
       " 'nkpoints',\n",
       " 'qp_table',\n",
       " 'E_minus_Eo',\n",
       " 'Kpoint_index']"
      ]
     },
     "execution_count": 18,
     "metadata": {},
     "output_type": "execute_result"
    }
   ],
   "source": [
    "run.outputs.array_ndb.get_arraynames()"
   ]
  },
  {
   "cell_type": "code",
   "execution_count": 19,
   "id": "907e6702",
   "metadata": {},
   "outputs": [],
   "source": [
    "E_dft = run.outputs.array_ndb.get_array('Eo') \n",
    "E_qp = run.outputs.array_ndb.get_array('E')"
   ]
  },
  {
   "cell_type": "code",
   "execution_count": 20,
   "id": "306874c6",
   "metadata": {},
   "outputs": [],
   "source": [
    "from matplotlib import pyplot as plt"
   ]
  },
  {
   "cell_type": "code",
   "execution_count": 21,
   "id": "eae2e873",
   "metadata": {},
   "outputs": [],
   "source": [
    "from ase import units"
   ]
  },
  {
   "cell_type": "code",
   "execution_count": 22,
   "id": "ea510bde",
   "metadata": {},
   "outputs": [
    {
     "data": {
      "image/png": "[encoded data removed]",
      "text/plain": [
       "<Figure size 640x480 with 1 Axes>"
      ]
     },
     "metadata": {},
     "output_type": "display_data"
    }
   ],
   "source": [
    "plt.plot(E_dft.real*units.Ha,E_qp.real*units.Ha,'o')\n",
    "plt.ylabel('G0W0')\n",
    "plt.xlabel('DFT')\n",
    "plt.grid()"
   ]
  },
  {
   "cell_type": "code",
   "execution_count": 23,
   "id": "5bb05b28",
   "metadata": {},
   "outputs": [
    {
     "data": {
      "text/plain": [
       "array([-0.01022482+0.00029027j,  0.10153793-0.00075728j,\n",
       "       -0.03267249+0.00031578j,  0.09207109-0.00053689j,\n",
       "       -0.05433771+0.00036769j,  0.07029697-0.00051266j,\n",
       "       -0.06846169+0.00037354j,  0.05794074-0.00049034j,\n",
       "       -0.08840156+0.0004189j ,  0.06995708-0.00051121j,\n",
       "       -0.07728511+0.00040512j,  0.08186568-0.00053609j,\n",
       "       -0.04310337+0.00033735j,  0.1165064 -0.00058204j,\n",
       "       -0.1158303 +0.0004708j ,  0.02339581-0.00045942j,\n",
       "       -0.11069849+0.00076684j,  0.04076773-0.0004887j ,\n",
       "       -0.127197  +0.00047134j,  0.13163431-0.00059759j], dtype=complex64)"
      ]
     },
     "execution_count": 23,
     "metadata": {},
     "output_type": "execute_result"
    }
   ],
   "source": [
    "E_qp"
   ]
  },
  {
   "cell_type": "code",
   "execution_count": 24,
   "id": "53bc67f7",
   "metadata": {},
   "outputs": [
    {
     "data": {
      "text/plain": [
       "{'errors': [],\n",
       " 'timing': [' <---> [01] MPI/OPENMP structure, Files & I/O Directories\\n',\n",
       "  ' <---> [02] CORE Variables Setup\\n',\n",
       "  ' <---> [03] Transferred momenta grid and indexing\\n',\n",
       "  ' <---> [04] Dipoles\\n',\n",
       "  ' <02s> [05] Dynamic Dielectric Matrix (PPA)\\n',\n",
       "  ' <18s> [06] Local Exchange-Correlation + Non-Local Fock\\n',\n",
       "  ' <31s> [07] Dyson equation: Newton solver\\n',\n",
       "  ' <01m-21s> [08] Timing Overview\\n',\n",
       "  ' <01m-21s> [09] Game Over & Game summary\\n'],\n",
       " 'has_gpu': False,\n",
       " 'memstats': [],\n",
       " 'warnings': [],\n",
       " 'Fermi(eV)': 6.467203,\n",
       " 'game_over': True,\n",
       " 'last_time': 81,\n",
       " 'para_error': False,\n",
       " 'time_error': False,\n",
       " 'ns_db1_path': '/tmp/tmp1rga_i_a',\n",
       " 'memory_error': False,\n",
       " 'p2y_completed': True,\n",
       " 'yambo_version': '5.x',\n",
       " 'requested_time': 3600,\n",
       " 'last_time_units': 'seconds',\n",
       " 'yambo_wrote_dbs': True,\n",
       " 'corrupted_fragment': False,\n",
       " 'X_par_allocation_error': False}"
      ]
     },
     "execution_count": 24,
     "metadata": {},
     "output_type": "execute_result"
    }
   ],
   "source": [
    "run.outputs.output_parameters.get_dict()"
   ]
  },
  {
   "cell_type": "code",
   "execution_count": 25,
   "id": "84664526",
   "metadata": {},
   "outputs": [
    {
     "data": {
      "text/plain": [
       "<SinglefileData: uuid: 4020de2e-7a75-4f78-9687-366192f1c1c5 (pk: 2071)>"
      ]
     },
     "execution_count": 25,
     "metadata": {},
     "output_type": "execute_result"
    }
   ],
   "source": [
    "run.outputs.QP_db"
   ]
  },
  {
   "cell_type": "markdown",
   "id": "2ffe7187",
   "metadata": {},
   "source": [
    "## Error handling in action: the case of walltime exhaustion\n",
    "\n",
    "You can try the restaring mechanism by asking for a very small time for the simulation and increasing the value of the parameters, in such a way that the first run will not be completed successfully. \n",
    "You can see, by inspecting the report of the run, that the workflow submits restart calculations by increasing the walltime."
   ]
  },
  {
   "cell_type": "code",
   "execution_count": 51,
   "id": "41e64e4e",
   "metadata": {},
   "outputs": [
    {
     "name": "stdout",
     "output_type": "stream",
     "text": [
      "Summary of the main inputs:\n",
      "BndsRnXp = 200\n",
      "GbndRnge = 200\n",
      "NGsBlkXp = 8 Ry\n",
      "FFTGvecs = 21 Ry\n",
      "\n"
     ]
    }
   ],
   "source": [
    "overrides_yambo = {\n",
    "        \"yambo\": {\n",
    "            \"parameters\": {\n",
    "                \"arguments\": [\n",
    "                    \"rim_cut\",\n",
    "                ],\n",
    "                \"variables\": {\n",
    "                    'BndsRnXp': [[1, 200], ''],\n",
    "                    'GbndRnge': [[1, 200], ''],\n",
    "                    'NGsBlkXp': [8, 'Ry'],\n",
    "                    'QPkrange': [[[1, 1, 4, 5]], ''],\n",
    "                },\n",
    "            },\n",
    "    'metadata':{\n",
    "                    'options':{\n",
    "    'max_wallclock_seconds': 60, # in seconds\n",
    "    'resources': {\n",
    "            \"num_machines\": 1, # nodes\n",
    "            \"num_mpiprocs_per_machine\": 1, # MPI per nodes\n",
    "            \"num_cores_per_mpiproc\": 1, # OPENMP\n",
    "        },\n",
    "    'prepend_text': u\"export OMP_NUM_THREADS=\"+str(1), # if needed\n",
    "    #'account':'project_name',\n",
    "    #'queue_name':'s3par',\n",
    "    #'qos':'',\n",
    "                    },\n",
    "    },\n",
    "        }\n",
    "}\n",
    "\n",
    "builder = YamboRestart.get_builder_from_protocol(\n",
    "            preprocessing_code = options['yamboprecode_id'],\n",
    "            code = options['yambocode_id'],\n",
    "            protocol=options['protocol'],\n",
    "            overrides=overrides_yambo,\n",
    "            parent_folder=orm.load_node(options['parent_id']).outputs.remote_folder,\n",
    ")"
   ]
  },
  {
   "cell_type": "code",
   "execution_count": 52,
   "id": "811a516b",
   "metadata": {},
   "outputs": [
    {
     "data": {
      "text/plain": [
       "{'options': {'stash': {}, 'resources': {'num_machines': 1, 'num_mpiprocs_per_machine': 1, 'num_cores_per_mpiproc': 1}, 'max_wallclock_seconds': 60, 'withmpi': True, 'prepend_text': 'export OMP_NUM_THREADS=1'}}"
      ]
     },
     "execution_count": 52,
     "metadata": {},
     "output_type": "execute_result"
    }
   ],
   "source": [
    "builder.yambo.metadata"
   ]
  },
  {
   "cell_type": "code",
   "execution_count": 53,
   "id": "45f69b87",
   "metadata": {},
   "outputs": [],
   "source": [
    "run = None"
   ]
  },
  {
   "cell_type": "code",
   "execution_count": 54,
   "id": "913d76b6",
   "metadata": {},
   "outputs": [
    {
     "name": "stdout",
     "output_type": "stream",
     "text": [
      "uuid: b0e09574-d090-4a2b-bdbc-e7a4eae13c91 (pk: 2133) (aiida.workflows:yambo.yambo.yamborestart)\n"
     ]
    }
   ],
   "source": [
    "if run:\n",
    "    print('run is already running -> {}'.format(run.pk))\n",
    "    print('sure that you want to run again?, if so, copy the else instruction in the cell below and run!')\n",
    "else:\n",
    "    run = submit(builder)\n",
    "\n",
    "print(run)"
   ]
  },
  {
   "cell_type": "code",
   "execution_count": 55,
   "id": "f963f68f",
   "metadata": {},
   "outputs": [
    {
     "name": "stdout",
     "output_type": "stream",
     "text": [
      "2133\n"
     ]
    }
   ],
   "source": [
    "print(run.pk)"
   ]
  },
  {
   "cell_type": "code",
   "execution_count": 56,
   "id": "03f06468",
   "metadata": {},
   "outputs": [
    {
     "data": {
      "text/plain": [
       "True"
      ]
     },
     "execution_count": 56,
     "metadata": {},
     "output_type": "execute_result"
    }
   ],
   "source": [
    "run.is_finished"
   ]
  },
  {
   "cell_type": "code",
   "execution_count": 57,
   "id": "8aea2b30",
   "metadata": {},
   "outputs": [
    {
     "name": "stdout",
     "output_type": "stream",
     "text": [
      "\u001b[22m2024-02-26 09:12:54 [1025 | REPORT]: [2133|YamboRestart|run_process]: launching YamboCalculation<2134> iteration #1\n",
      "2024-02-26 09:14:14 [1028 | REPORT]: [2133|YamboRestart|report_error_handled]: YamboCalculation<2134> failed with exit status 501: time exceeded the max walltime\n",
      "2024-02-26 09:14:14 [1029 | REPORT]: [2133|YamboRestart|report_error_handled]: Action taken: walltime error detected, so we increase time: 90                                                 seconds and link outputs\n",
      "2024-02-26 09:14:14 [1030 | REPORT]: [2133|YamboRestart|inspect_process]: YamboCalculation<2134> failed but a handler dealt with the problem, restarting\n",
      "2024-02-26 09:14:14 [1031 | REPORT]: [2133|YamboRestart|run_process]: launching YamboCalculation<2139> iteration #2\n",
      "2024-02-26 09:15:05 [1032 | REPORT]: [2133|YamboRestart|results]: work chain completed after 2 iterations\n",
      "2024-02-26 09:15:05 [1033 | REPORT]: [2133|YamboRestart|on_terminated]: remote folders will not be cleaned\u001b[0m\n"
     ]
    }
   ],
   "source": [
    "!verdi process report {run.pk}"
   ]
  }
 ],
 "metadata": {
  "kernelspec": {
   "display_name": "Python 3 (ipykernel)",
   "language": "python",
   "name": "python3"
  },
  "language_info": {
   "codemirror_mode": {
    "name": "ipython",
    "version": 3
   },
   "file_extension": ".py",
   "mimetype": "text/x-python",
   "name": "python",
   "nbconvert_exporter": "python",
   "pygments_lexer": "ipython3",
   "version": "3.9.16"
  }
 },
 "nbformat": 4,
 "nbformat_minor": 5
}
