{
 "cells": [
  {
   "cell_type": "markdown",
   "id": "7b8e22ef",
   "metadata": {},
   "source": [
    "# YamboRestart: a G0W0 run with error handling and automatic input creation\n",
    "\n",
    "This is the lowest-level workflow of the plugin. It runs a yambo calculation (p2y+yambo) and, at variance with respect to the simple `YamboCalculation` providing ***automatic error handling***.\n",
    "Another difference is that, here, we can populate the inputs with default values. This is achieved via the `get_builder_from_protocol` method of the workchain."
   ]
  },
  {
   "cell_type": "code",
   "execution_count": 1,
   "id": "1aaf4226",
   "metadata": {},
   "outputs": [
    {
     "data": {
      "text/plain": [
       "Profile<uuid='3745313b017b418697d37cbf16c4e7ef' name='generic'>"
      ]
     },
     "execution_count": 1,
     "metadata": {},
     "output_type": "execute_result"
    }
   ],
   "source": [
    "from aiida import orm, load_profile\n",
    "load_profile()"
   ]
  },
  {
   "cell_type": "markdown",
   "id": "f8f7545c",
   "metadata": {},
   "source": [
    "The creation of the builder, for a given workflow, is provided by means of the `get_builder_from_protocol` method.\n",
    "This is, for now, just a way to automatically populated all the needed inputs, allowing the user to partially skip the part of input definition.\n",
    "\n",
    "However, for GW and BSE simulation, default parameter values for a given level of accuracy are not really tested, so the user should check carefully them before the submission of the simulation."
   ]
  },
  {
   "cell_type": "code",
   "execution_count": 2,
   "id": "e8c0c948",
   "metadata": {},
   "outputs": [],
   "source": [
    "from aiida.plugins import WorkflowFactory\n",
    "YamboRestart = WorkflowFactory('yambo.yambo.yamborestart')"
   ]
  },
  {
   "cell_type": "markdown",
   "id": "77589a31",
   "metadata": {},
   "source": [
    "## Providing the minimal inputs needed for protocols\n",
    "\n",
    "We have to provide minimal inputs for the creation of the builder instance, namely:\n",
    "- codes;\n",
    "- `parent_folder`;"
   ]
  },
  {
   "cell_type": "code",
   "execution_count": null,
   "id": "f4095cb8",
   "metadata": {},
   "outputs": [],
   "source": [
    "import yaml,io\n",
    "\n",
    "# Read YAML file\n",
    "with open(\"../configuration/codes_localhost.yaml\", 'r') as stream:\n",
    "    codes = yaml.safe_load(stream)\n",
    "    \n",
    "with open(\"../configuration/resources_localhost.yaml\", 'r') as stream:\n",
    "    resources = yaml.safe_load(stream)"
   ]
  },
  {
   "cell_type": "code",
   "execution_count": 3,
   "id": "0b71d265",
   "metadata": {},
   "outputs": [],
   "source": [
    "options = {\n",
    "    'protocol':'fast',\n",
    "    'parent_id':379, #take your previously nscf id (pk)\n",
    "}"
   ]
  },
  {
   "cell_type": "code",
   "execution_count": null,
   "id": "212cd3df",
   "metadata": {},
   "outputs": [],
   "source": [
    "options.update(codes)"
   ]
  },
  {
   "cell_type": "code",
   "execution_count": 4,
   "id": "36f6609f",
   "metadata": {},
   "outputs": [],
   "source": [
    "#YamboRestart.get_builder_from_protocol??"
   ]
  },
  {
   "cell_type": "code",
   "execution_count": 5,
   "id": "01ffa498",
   "metadata": {},
   "outputs": [
    {
     "name": "stdout",
     "output_type": "stream",
     "text": [
      "Summary of the main inputs:\n",
      "BndsRnXp = 200\n",
      "GbndRnge = 200\n",
      "NGsBlkXp = 6 Ry\n",
      "FFTGvecs = 21 Ry\n",
      "\n"
     ]
    }
   ],
   "source": [
    "builder = YamboRestart.get_builder_from_protocol(\n",
    "            preprocessing_code = options['yamboprecode_id'],\n",
    "            code = options['yambocode_id'],\n",
    "            protocol=options['protocol'],\n",
    "            overrides={},\n",
    "            parent_folder=orm.load_node(options['parent_id']).outputs.remote_folder,\n",
    "            RIM_v=False,           #this automatically set RIM_cut, if True\n",
    "            RIM_W=False,           #this automatically set RIM_W, if True\n",
    "            BG_term=False,         #this automatically set BG terminator, if True\n",
    ")"
   ]
  },
  {
   "cell_type": "markdown",
   "id": "f25bdda2",
   "metadata": {},
   "source": [
    "You can also inspect the other protocols which are available: "
   ]
  },
  {
   "cell_type": "code",
   "execution_count": 6,
   "id": "8fa1083b",
   "metadata": {},
   "outputs": [
    {
     "data": {
      "text/plain": [
       "{'fast': {'description': 'Under converged for most materials, but fast'},\n",
       " 'moderate': {'description': 'Meta converged for most materials, higher computational cost than fast'},\n",
       " 'precise': {'description': 'Converged for most materials, higher computational cost than moderate'},\n",
       " 'bse_fast': {'description': 'Under converged for most materials, but fast'},\n",
       " 'bse_moderate': {'description': 'Meta converged for most materials, higher computational cost than fast'},\n",
       " 'bse_precise': {'description': 'Converged for most materials, higher computational cost than moderate'}}"
      ]
     },
     "execution_count": 6,
     "metadata": {},
     "output_type": "execute_result"
    }
   ],
   "source": [
    "YamboRestart.get_available_protocols()"
   ]
  },
  {
   "cell_type": "markdown",
   "id": "5f27e57f",
   "metadata": {},
   "source": [
    "Now, if you inspect the pre populated inputs, you can see the default values respecting the imposed protocol:"
   ]
  },
  {
   "cell_type": "code",
   "execution_count": 7,
   "id": "064893ec",
   "metadata": {},
   "outputs": [
    {
     "data": {
      "text/plain": [
       "{'arguments': ['dipoles', 'ppa', 'HF_and_locXC', 'gw0'],\n",
       " 'variables': {'Chimod': 'hartree',\n",
       "  'DysSolver': 'n',\n",
       "  'GTermKind': 'BG',\n",
       "  'X_and_IO_nCPU_LinAlg_INV': [1, ''],\n",
       "  'NGsBlkXp': [6, 'Ry'],\n",
       "  'FFTGvecs': [21, 'Ry'],\n",
       "  'BndsRnXp': [[1, 200], ''],\n",
       "  'GbndRnge': [[1, 200], ''],\n",
       "  'QPkrange': [[[1, 1, 32, 32]], '']}}"
      ]
     },
     "execution_count": 7,
     "metadata": {},
     "output_type": "execute_result"
    }
   ],
   "source": [
    "builder.yambo.parameters.get_dict()"
   ]
  },
  {
   "cell_type": "markdown",
   "id": "46139158",
   "metadata": {},
   "source": [
    "Let's provide also the resources:"
   ]
  },
  {
   "cell_type": "code",
   "execution_count": 10,
   "id": "2cfdd735",
   "metadata": {},
   "outputs": [],
   "source": [
    "builder.yambo.metadata.options = resources"
   ]
  },
  {
   "cell_type": "markdown",
   "id": "35eaa0bd",
   "metadata": {},
   "source": [
    "### Overrides\n",
    "\n",
    "It is possible to modify the default inputs also during the builder creation phase, so not a posteriori. This can be done by using overrides:"
   ]
  },
  {
   "cell_type": "code",
   "execution_count": 11,
   "id": "7eda99d0",
   "metadata": {},
   "outputs": [],
   "source": [
    "overrides_yambo = {\n",
    "        \"yambo\": {\n",
    "            \"parameters\": {\n",
    "                \"arguments\": [\n",
    "                    \"rim_cut\",\n",
    "                ],\n",
    "                \"variables\": {\n",
    "                    \"NGsBlkXp\": [4, \"Ry\"],\n",
    "                },\n",
    "            },\n",
    "    'metadata':resources,\n",
    "        }\n",
    "}"
   ]
  },
  {
   "cell_type": "code",
   "execution_count": 12,
   "id": "2a98d765",
   "metadata": {},
   "outputs": [
    {
     "name": "stdout",
     "output_type": "stream",
     "text": [
      "Summary of the main inputs:\n",
      "BndsRnXp = 200\n",
      "GbndRnge = 200\n",
      "NGsBlkXp = 4 Ry\n",
      "FFTGvecs = 21 Ry\n",
      "\n"
     ]
    }
   ],
   "source": [
    "builder = YamboRestart.get_builder_from_protocol(\n",
    "            preprocessing_code = options['yamboprecode_id'],\n",
    "            code = options['yambocode_id'],\n",
    "            protocol=options['protocol'],\n",
    "            overrides=overrides_yambo,\n",
    "            parent_folder=orm.load_node(options['parent_id']).outputs.remote_folder,\n",
    ")"
   ]
  },
  {
   "cell_type": "code",
   "execution_count": 13,
   "id": "6516cbed",
   "metadata": {},
   "outputs": [
    {
     "data": {
      "text/plain": [
       "{'stash': {}, 'resources': {'num_machines': 1, 'num_mpiprocs_per_machine': 1, 'num_cores_per_mpiproc': 1}, 'max_wallclock_seconds': 3600, 'withmpi': True, 'prepend_text': 'export OMP_NUM_THREADS=1'}"
      ]
     },
     "execution_count": 13,
     "metadata": {},
     "output_type": "execute_result"
    }
   ],
   "source": [
    "builder.yambo.metadata.options"
   ]
  },
  {
   "cell_type": "code",
   "execution_count": 14,
   "id": "a3bfa530",
   "metadata": {},
   "outputs": [
    {
     "data": {
      "text/plain": [
       "{'arguments': ['gw0', 'ppa', 'HF_and_locXC', 'rim_cut', 'dipoles'],\n",
       " 'variables': {'Chimod': 'hartree',\n",
       "  'DysSolver': 'n',\n",
       "  'GTermKind': 'BG',\n",
       "  'X_and_IO_nCPU_LinAlg_INV': [1, ''],\n",
       "  'NGsBlkXp': [4, 'Ry'],\n",
       "  'FFTGvecs': [21, 'Ry'],\n",
       "  'BndsRnXp': [[1, 200], ''],\n",
       "  'GbndRnge': [[1, 200], ''],\n",
       "  'QPkrange': [[[1, 1, 32, 32]], '']}}"
      ]
     },
     "execution_count": 14,
     "metadata": {},
     "output_type": "execute_result"
    }
   ],
   "source": [
    "builder.yambo.parameters.get_dict()"
   ]
  },
  {
   "cell_type": "markdown",
   "id": "20bc9c88",
   "metadata": {},
   "source": [
    "### Submission phase"
   ]
  },
  {
   "cell_type": "code",
   "execution_count": 15,
   "id": "b3f933cf",
   "metadata": {},
   "outputs": [],
   "source": [
    "from aiida.engine import submit"
   ]
  },
  {
   "cell_type": "code",
   "execution_count": 16,
   "id": "2759143f",
   "metadata": {},
   "outputs": [],
   "source": [
    "run = None"
   ]
  },
  {
   "cell_type": "code",
   "execution_count": 17,
   "id": "96a49fa1",
   "metadata": {},
   "outputs": [
    {
     "name": "stdout",
     "output_type": "stream",
     "text": [
      "uuid: d81d42bd-eb63-4869-abfe-60a168dbe4e5 (pk: 414) (aiida.workflows:yambo.yambo.yamborestart)\n"
     ]
    }
   ],
   "source": [
    "if run:\n",
    "    print('run is already running -> {}'.format(run.pk))\n",
    "    print('sure that you want to run again?, if so, copy the else instruction in the cell below and run!')\n",
    "else:\n",
    "    run = submit(builder)\n",
    "\n",
    "print(run)"
   ]
  },
  {
   "cell_type": "markdown",
   "id": "8a9f8489",
   "metadata": {},
   "source": [
    "# Inspecting the outputs\n",
    "\n",
    "Suppose that your calculation completed successfully, then you can access the outputs via the output method of the run instance. \n",
    "This is analogous to the *1_YamboCalculation_G0W0* module, as the outputs are really the same."
   ]
  },
  {
   "cell_type": "code",
   "execution_count": 19,
   "id": "646a4ebd",
   "metadata": {},
   "outputs": [
    {
     "data": {
      "text/plain": [
       "True"
      ]
     },
     "execution_count": 19,
     "metadata": {},
     "output_type": "execute_result"
    }
   ],
   "source": [
    "run.is_finished_ok"
   ]
  },
  {
   "cell_type": "code",
   "execution_count": 20,
   "id": "6eff844e",
   "metadata": {},
   "outputs": [
    {
     "ename": "SyntaxError",
     "evalue": "invalid syntax (708973465.py, line 1)",
     "output_type": "error",
     "traceback": [
      "\u001b[0;36m  File \u001b[0;32m\"/tmp/ipykernel_2021695/708973465.py\"\u001b[0;36m, line \u001b[0;32m1\u001b[0m\n\u001b[0;31m    run.outputs. #+TAB\u001b[0m\n\u001b[0m                 ^\u001b[0m\n\u001b[0;31mSyntaxError\u001b[0m\u001b[0;31m:\u001b[0m invalid syntax\n"
     ]
    }
   ],
   "source": [
    "run.outputs. #+TAB"
   ]
  },
  {
   "cell_type": "markdown",
   "id": "e8ffe109",
   "metadata": {},
   "source": [
    "For example, we have the array_ndb ArrayData, which essentially contains the information on the run.output.QP_DB (which can also be accessed directly):"
   ]
  },
  {
   "cell_type": "code",
   "execution_count": 21,
   "id": "9e76cf18",
   "metadata": {},
   "outputs": [
    {
     "data": {
      "text/plain": [
       "['E',\n",
       " 'Z',\n",
       " 'Eo',\n",
       " 'Sc',\n",
       " 'Sx',\n",
       " 'Vxc',\n",
       " 'Band',\n",
       " 'Kpoint',\n",
       " 'nbands',\n",
       " 'nkpoints',\n",
       " 'qp_table',\n",
       " 'E_minus_Eo',\n",
       " 'Kpoint_index']"
      ]
     },
     "execution_count": 21,
     "metadata": {},
     "output_type": "execute_result"
    }
   ],
   "source": [
    "run.outputs.array_ndb.get_arraynames()"
   ]
  },
  {
   "cell_type": "code",
   "execution_count": 22,
   "id": "907e6702",
   "metadata": {},
   "outputs": [],
   "source": [
    "E_dft = run.outputs.array_ndb.get_array('Eo') #Ha\n",
    "E_qp = run.outputs.array_ndb.get_array('E')   #Ha"
   ]
  },
  {
   "cell_type": "code",
   "execution_count": 23,
   "id": "306874c6",
   "metadata": {},
   "outputs": [],
   "source": [
    "from matplotlib import pyplot as plt"
   ]
  },
  {
   "cell_type": "code",
   "execution_count": 24,
   "id": "eae2e873",
   "metadata": {},
   "outputs": [],
   "source": [
    "from ase import units"
   ]
  },
  {
   "cell_type": "code",
   "execution_count": 25,
   "id": "ea510bde",
   "metadata": {},
   "outputs": [
    {
     "data": {
      "image/png": "[encoded data removed]",
      "text/plain": [
       "<Figure size 640x480 with 1 Axes>"
      ]
     },
     "metadata": {},
     "output_type": "display_data"
    }
   ],
   "source": [
    "plt.plot(E_dft.real*units.Ha,E_qp.real*units.Ha,'o')\n",
    "plt.ylabel('G0W0')\n",
    "plt.xlabel('DFT')\n",
    "plt.grid()"
   ]
  },
  {
   "cell_type": "code",
   "execution_count": 26,
   "id": "5bb05b28",
   "metadata": {},
   "outputs": [
    {
     "data": {
      "text/plain": [
       "array([1.3712494+0.03359988j], dtype=complex64)"
      ]
     },
     "execution_count": 26,
     "metadata": {},
     "output_type": "execute_result"
    }
   ],
   "source": [
    "E_qp"
   ]
  },
  {
   "cell_type": "code",
   "execution_count": 27,
   "id": "53bc67f7",
   "metadata": {},
   "outputs": [
    {
     "data": {
      "text/plain": [
       "{'errors': [],\n",
       " 'timing': [' <---> [01] MPI/OPENMP structure, Files & I/O Directories\\n',\n",
       "  ' <---> [02] CORE Variables Setup\\n',\n",
       "  ' <---> [03] Transferred momenta grid and indexing\\n',\n",
       "  ' <---> [04] Dipoles\\n',\n",
       "  ' <04s> [05] Dynamic Dielectric Matrix (PPA)\\n',\n",
       "  ' <26s> [06] Local Exchange-Correlation + Non-Local Fock\\n',\n",
       "  ' <27s> [07] Dyson equation: Newton solver\\n',\n",
       "  ' <28s> [08] Timing Overview\\n',\n",
       "  ' <28s> [09] Game Over & Game summary\\n'],\n",
       " 'has_gpu': False,\n",
       " 'memstats': [],\n",
       " 'warnings': [],\n",
       " 'Fermi(eV)': 0,\n",
       " 'game_over': True,\n",
       " 'last_time': 28,\n",
       " 'para_error': False,\n",
       " 'time_error': False,\n",
       " 'ns_db1_path': '/tmp/tmpwqqp53h0',\n",
       " 'memory_error': False,\n",
       " 'p2y_completed': True,\n",
       " 'yambo_version': '5.x',\n",
       " 'requested_time': 3600,\n",
       " 'last_time_units': 'seconds',\n",
       " 'yambo_wrote_dbs': True,\n",
       " 'corrupted_fragment': False,\n",
       " 'X_par_allocation_error': False}"
      ]
     },
     "execution_count": 27,
     "metadata": {},
     "output_type": "execute_result"
    }
   ],
   "source": [
    "run.outputs.output_parameters.get_dict()"
   ]
  },
  {
   "cell_type": "code",
   "execution_count": 28,
   "id": "84664526",
   "metadata": {},
   "outputs": [
    {
     "data": {
      "text/plain": [
       "<SinglefileData: uuid: 65f3632a-e9c9-46e2-85f7-ae87df8b91cc (pk: 418)>"
      ]
     },
     "execution_count": 28,
     "metadata": {},
     "output_type": "execute_result"
    }
   ],
   "source": [
    "run.outputs.QP_db"
   ]
  },
  {
   "cell_type": "markdown",
   "id": "2ffe7187",
   "metadata": {},
   "source": [
    "## Error handling in action: the case of walltime exhaustion\n",
    "\n",
    "You can try the restaring mechanism by asking for a very small time for the simulation, in such a way that the first run will not be completed successfully. \n",
    "You can see, by inspecting the report of the run, that the workflow tries to submit other calculation by increasing the time requested."
   ]
  },
  {
   "cell_type": "code",
   "execution_count": 38,
   "id": "41e64e4e",
   "metadata": {},
   "outputs": [
    {
     "name": "stdout",
     "output_type": "stream",
     "text": [
      "Summary of the main inputs:\n",
      "BndsRnXp = 200\n",
      "GbndRnge = 200\n",
      "NGsBlkXp = 12 Ry\n",
      "FFTGvecs = 21 Ry\n",
      "\n"
     ]
    }
   ],
   "source": [
    "overrides_yambo = {\n",
    "        \"yambo\": {\n",
    "            \"parameters\": {\n",
    "                \"arguments\": [\n",
    "                    \"rim_cut\",\n",
    "                ],\n",
    "                \"variables\": {\n",
    "                    \"NGsBlkXp\": [12, \"Ry\"],\n",
    "                },\n",
    "            },\n",
    "    'metadata':{\n",
    "                    'options':{\n",
    "    'max_wallclock_seconds': 10, # in seconds\n",
    "    'resources': {\n",
    "            \"num_machines\": 1, # nodes\n",
    "            \"num_mpiprocs_per_machine\": 1, # MPI per nodes\n",
    "            \"num_cores_per_mpiproc\": 1, # OPENMP\n",
    "        },\n",
    "    'prepend_text': u\"export OMP_NUM_THREADS=\"+str(1), # if needed\n",
    "    #'account':'project_name',\n",
    "    #'queue_name':'s3par',\n",
    "    #'qos':'',\n",
    "                    },\n",
    "    },\n",
    "        }\n",
    "}\n",
    "\n",
    "builder = YamboRestart.get_builder_from_protocol(\n",
    "            preprocessing_code = options['yamboprecode_id'],\n",
    "            code = options['yambocode_id'],\n",
    "            protocol=options['protocol'],\n",
    "            overrides=overrides_yambo,\n",
    "            parent_folder=orm.load_node(options['parent_id']).outputs.remote_folder,\n",
    ")"
   ]
  },
  {
   "cell_type": "code",
   "execution_count": 39,
   "id": "811a516b",
   "metadata": {},
   "outputs": [
    {
     "data": {
      "text/plain": [
       "{'options': {'stash': {}, 'resources': {'num_machines': 1, 'num_mpiprocs_per_machine': 1, 'num_cores_per_mpiproc': 1}, 'max_wallclock_seconds': 10, 'withmpi': True, 'prepend_text': 'export OMP_NUM_THREADS=1'}}"
      ]
     },
     "execution_count": 39,
     "metadata": {},
     "output_type": "execute_result"
    }
   ],
   "source": [
    "builder.yambo.metadata"
   ]
  },
  {
   "cell_type": "code",
   "execution_count": 40,
   "id": "45f69b87",
   "metadata": {},
   "outputs": [],
   "source": [
    "run = None"
   ]
  },
  {
   "cell_type": "code",
   "execution_count": 41,
   "id": "913d76b6",
   "metadata": {},
   "outputs": [
    {
     "name": "stdout",
     "output_type": "stream",
     "text": [
      "uuid: 79867dd6-0135-4580-bd99-2ef4d7a05b6b (pk: 440) (aiida.workflows:yambo.yambo.yamborestart)\n"
     ]
    }
   ],
   "source": [
    "if run:\n",
    "    print('run is already running -> {}'.format(run.pk))\n",
    "    print('sure that you want to run again?, if so, copy the else instruction in the cell below and run!')\n",
    "else:\n",
    "    run = submit(builder)\n",
    "\n",
    "print(run)"
   ]
  },
  {
   "cell_type": "code",
   "execution_count": 42,
   "id": "f963f68f",
   "metadata": {},
   "outputs": [
    {
     "name": "stdout",
     "output_type": "stream",
     "text": [
      "440\n"
     ]
    }
   ],
   "source": [
    "print(run.pk)"
   ]
  },
  {
   "cell_type": "code",
   "execution_count": 43,
   "id": "03f06468",
   "metadata": {},
   "outputs": [
    {
     "data": {
      "text/plain": [
       "False"
      ]
     },
     "execution_count": 43,
     "metadata": {},
     "output_type": "execute_result"
    }
   ],
   "source": [
    "run.is_finished"
   ]
  },
  {
   "cell_type": "code",
   "execution_count": 49,
   "id": "8aea2b30",
   "metadata": {},
   "outputs": [
    {
     "name": "stdout",
     "output_type": "stream",
     "text": [
      "\u001b[22m2024-01-15 18:16:34 [25 | REPORT]: [440|YamboRestart|run_process]: launching YamboCalculation<441> iteration #1\n",
      "2024-01-15 18:17:51 [28 | REPORT]: [440|YamboRestart|report_error_handled]: YamboCalculation<441> failed with exit status 501: time exceeded the max walltime\n",
      "2024-01-15 18:17:51 [29 | REPORT]: [440|YamboRestart|report_error_handled]: Action taken: walltime error detected, so we increase time: 15                                                 seconds and link outputs\n",
      "2024-01-15 18:17:51 [30 | REPORT]: [440|YamboRestart|inspect_process]: YamboCalculation<441> failed but a handler dealt with the problem, restarting\n",
      "2024-01-15 18:17:52 [31 | REPORT]: [440|YamboRestart|run_process]: launching YamboCalculation<446> iteration #2\n",
      "2024-01-15 18:19:23 [34 | REPORT]: [440|YamboRestart|report_error_handled]: YamboCalculation<446> failed with exit status 501: time exceeded the max walltime\n",
      "2024-01-15 18:19:23 [35 | REPORT]: [440|YamboRestart|report_error_handled]: Action taken: walltime error detected, so we increase time: 45                                                 seconds and link outputs\n",
      "2024-01-15 18:19:23 [36 | REPORT]: [440|YamboRestart|inspect_process]: YamboCalculation<446> failed but a handler dealt with the problem, restarting\n",
      "2024-01-15 18:19:23 [37 | REPORT]: [440|YamboRestart|run_process]: launching YamboCalculation<451> iteration #3\n",
      "2024-01-15 18:19:52 [38 | REPORT]: [440|YamboRestart|results]: work chain completed after 3 iterations\n",
      "2024-01-15 18:19:52 [39 | REPORT]: [440|YamboRestart|on_terminated]: remote folders will not be cleaned\u001b[0m\n"
     ]
    }
   ],
   "source": [
    "!verdi process report {run.pk}"
   ]
  },
  {
   "cell_type": "code",
   "execution_count": null,
   "id": "89ae6de7",
   "metadata": {},
   "outputs": [],
   "source": []
  }
 ],
 "metadata": {
  "kernelspec": {
   "display_name": "Python 3 (ipykernel)",
   "language": "python",
   "name": "python3"
  },
  "language_info": {
   "codemirror_mode": {
    "name": "ipython",
    "version": 3
   },
   "file_extension": ".py",
   "mimetype": "text/x-python",
   "name": "python",
   "nbconvert_exporter": "python",
   "pygments_lexer": "ipython3",
   "version": "3.9.16"
  }
 },
 "nbformat": 4,
 "nbformat_minor": 5
}
