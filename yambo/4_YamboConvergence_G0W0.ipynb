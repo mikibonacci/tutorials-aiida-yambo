{
 "cells": [
  {
   "cell_type": "markdown",
   "id": "b07f7d9f",
   "metadata": {},
   "source": [
    "# YamboConvergence: automated G0W0 convergence\n",
    "\n",
    "The highest-level workflow is represented by the ``YamboConvergence`` workchain, \n",
    "which implements the full automation of the convergence algorithm described in [Bonacci, M., Qiao, J., Spallanzani, N. et al. Towards high-throughput many-body perturbation theory: efficient algorithms and automated workflows. npj Comput Mater 9, 74 (2023)](https://doi.org/10.1038/s41524-023-01027-2). \n",
    "Simulations are organized on the fly, without any external user intervention. \n",
    "The purpose of this new proposed convergence algorithm is to obtain an accurate converged \n",
    "result doing the least possible number of calculations. This is possible if a reliable description of the convergence space is achieved, resulting also in a \n",
    "precise guess for the converged point, i.e. the converged parameters. The description of the space is performed by fitting some calculations that the workchain runs. \n",
    "A simple functional form of the space is assumed:\n",
    "\n",
    "$f(\\textbf{x}) = \\prod_i^N \\left( \\frac{A_i}{x_i^{\\alpha_i}} + b_i \\right)$\n",
    "\n",
    "In this way it is straightforward to compute first and second partial derivatives, and impose constraints on them to find the converged region of the space. \n",
    "The algorithm is specifically designed to solve the coupled convergence between \n",
    "summation over empty states (``BndsRnXp`` or ``BndsRnXs`` and ``GbndRnge`` for example) and PW expansion (``NGsBlkXp`` or ``NGsBlkXs``), but it can be used also to \n",
    "accelerate convergence tests with respect to the ``k-point mesh`` or ``FFTGvecs``, as we shall see later.\n",
    "\n",
    "Each simulation is performed by calling the `YamboWorkflow` workchain, ensuring the automation at all levels.\n",
    "\n",
    "\n",
    "### Example of workflow results:\n",
    "The successful workflow will return the results of the convergence iterations, as well as a final converged calculation, from which we can parse the\n",
    "converged parameters (they can be also found in the `infos` outputs of the workflow), and a complete story of all the calculations of the workflow with all the information provided.\n",
    "\n",
    "To show how the convergence algorithm works, here we plot the convergences performed on 2D-hBN imposing a convergence threshold of 1% on the final gap. The convergence is \n",
    "performed with respect to ``NGsBlkXp`` (G_cut in the plot) and ``BndsRnXp`` = ``GbndRnge`` (Nb in the plot). \n",
    "\n",
    ".. figure:: ./images/2D_conv_hBN.png\n",
    "    :width: 400px\n",
    "    :align: center\n",
    "    :height: 400px\n",
    "\n",
    "We can observe that first simulations (black squares) are performed on a starting grid, the blue one. The algorithm decides then to perform another set of calculations on \n",
    "a shifted grid, as the fit perofmed to predict the space was not enough accurate. Next, a converged point is predicted, corresponding to the blue square, and it is explicitely computed. \n",
    "Using also the informations on that point, the algorithm understands that a new converged point can be the red one. This is then computed and verified to be the real converged one. In this \n",
    "way, convergence is efficiently achieved. \n",
    "\n",
    "All the calculations are automatically collected in a group, created using the structure formula, or can be collected in a specific pre-existing group if the input \n",
    "``builder.group_label`` is provided as Str datatype."
   ]
  },
  {
   "cell_type": "code",
   "execution_count": 1,
   "id": "dc9bce04",
   "metadata": {},
   "outputs": [
    {
     "data": {
      "text/plain": [
       "Profile<uuid='b35700dae723411ea16ebc82d58f16bc' name='mb'>"
      ]
     },
     "execution_count": 1,
     "metadata": {},
     "output_type": "execute_result"
    }
   ],
   "source": [
    "from aiida import orm, load_profile\n",
    "load_profile()\n",
    "\n",
    "from aiida.plugins import WorkflowFactory\n",
    "from aiida.orm import QueryBuilder\n",
    "\n",
    "from aiida_quantumespresso.common.types import ElectronicType\n",
    "\n",
    "import yaml\n",
    "\n",
    "\n",
    "qb = QueryBuilder()\n",
    "qb.append(orm.Group, filters={'label': 'Silicon/bulk'}, tag='group')\n",
    "qb.append(orm.StructureData, with_group='group')\n",
    "\n",
    "loaded_structure_id = qb.all()[0][0].pk\n",
    "\n",
    "# Read YAML file\n",
    "with open(\"../configuration/codes_localhost.yaml\", 'r') as stream:\n",
    "    codes = yaml.safe_load(stream)\n",
    "    \n",
    "with open(\"../configuration/resources_localhost.yaml\", 'r') as stream:\n",
    "    resources = yaml.safe_load(stream)\n",
    "    \n",
    "options = {\n",
    "    'pseudo_family':\"PseudoDojo/0.4/PBE/SR/standard/upf\",\n",
    "    'protocol':'fast',\n",
    "    #'parent_id':274, #not necessary to set; if you want it, take ytheour previously nscf id (pk) to skip the DFT part.\n",
    "    'structure_id':loaded_structure_id,\n",
    "}\n",
    "options.update(codes)"
   ]
  },
  {
   "cell_type": "code",
   "execution_count": null,
   "id": "b9b44aed",
   "metadata": {},
   "outputs": [],
   "source": [
    "YamboConvergence = WorkflowFactory('yambo.yambo.yamboconvergence')\n",
    "builder = YamboConvergence.get_builder_from_protocol(\n",
    "    pw_code = options['pwcode_id'],\n",
    "    preprocessing_code = options['yamboprecode_id'],\n",
    "    code = options['yambocode_id'],\n",
    "    protocol=options['protocol'],\n",
    "    protocol_qe=options['protocol'],\n",
    "    structure=orm.load_node(options['structure_id']),\n",
    "    overrides={},\n",
    "    #parent_folder=load_node(options['parent_id']).outputs.remote_folder,\n",
    "    electronic_type=ElectronicType.INSULATOR, #default is METAL: smearing is used\n",
    "    calc_type='gw', #or 'bse'; default is 'gw'\n",
    ")\n",
    "\n",
    "builder.ywfl.scf.pw.metadata.options = resources\n",
    "\n",
    "builder.ywfl.nscf.pw.metadata.options = builder.ywfl.scf.pw.metadata.options\n",
    "builder.ywfl.yres.yambo.metadata.options = builder.ywfl.scf.pw.metadata.options"
   ]
  },
  {
   "cell_type": "code",
   "execution_count": 10,
   "id": "70437464",
   "metadata": {},
   "outputs": [
    {
     "data": {
      "text/plain": [
       "{'fast': {'description': 'Fast protocol for a GW convergence: grid -> poor; thresholds -> poor'},\n",
       " 'moderate': {'description': 'Moderate protocol for a GW convergence: grid -> enough good for standard materials; thresholds -> moderate (5 percent)'},\n",
       " 'precise': {'description': 'precise protocol for a GW convergence: grid -> same as moderate; thresholds -> precise (1 percent)'},\n",
       " 'molecule': {'description': 'Moderate protocol for a GW convergence in molecules'}}"
      ]
     },
     "execution_count": 10,
     "metadata": {},
     "output_type": "execute_result"
    }
   ],
   "source": [
    "#You can also try different protocols:\n",
    "    \n",
    "YamboConvergence.get_available_protocols()"
   ]
  },
  {
   "cell_type": "markdown",
   "id": "62fb8c7d",
   "metadata": {},
   "source": [
    "### Overrides\n",
    "\n",
    "It is possible to modify the default inputs also during the builder creation phase, so not a posteriori. This can be done by using overrides:"
   ]
  },
  {
   "cell_type": "code",
   "execution_count": 14,
   "id": "d4cc34f9",
   "metadata": {},
   "outputs": [],
   "source": [
    "overrides_scf = {\n",
    "        'pseudo_family': \"PseudoDojo/0.4/PBE/SR/standard/upf\", \n",
    "        'pw':{\n",
    "        'metadata':resources,\n",
    "        },\n",
    "    }\n",
    "\n",
    "overrides_nscf = {\n",
    "        'pseudo_family': \"PseudoDojo/0.4/PBE/SR/standard/upf\", \n",
    "        'pw': {\n",
    "            'parameters':{\n",
    "                'CONTROL':{}, #not needed if you don't override something\n",
    "                'SYSTEM':{},\n",
    "                'ELECTRONS':{'diagonalization':'david'},\n",
    "            },\n",
    "             'metadata':resources,\n",
    "    },\n",
    "}\n",
    "\n",
    "overrides_yambo = {\n",
    "        \"yambo\": {\n",
    "            \"parameters\": {\n",
    "                \"arguments\": [\n",
    "                    \"rim_cut\",\n",
    "                ],\n",
    "                \"variables\": {\n",
    "                    \"NGsBlkXp\": [4, \"Ry\"],\n",
    "                    \"FFTGvecs\": [20, \"Ry\"],\n",
    "                },\n",
    "            },\n",
    "        'metadata':resources,\n",
    "        },\n",
    "    \n",
    "}\n"
   ]
  },
  {
   "cell_type": "markdown",
   "id": "2eeb111a",
   "metadata": {},
   "source": [
    "## providing additional convergence settings\n",
    "\n",
    "In the following we provide additional convergence settings, namely:\n",
    "\n",
    "- 'what': a list of quantities to be computed, following the same naming style of the `YamboWorkflow` additional parsing list;\n",
    "- 'type': 'heavy', or 'cheap'; heavy keep the converged parameters as obtained in previous iterations; for example, if I convergence k-mesh and then bands, in the bands convergence we will use the converged k-mesh. This will make the calculation more and more computational demanding, but in the end we will obtain the true converged results, not only the converged parameters values."
   ]
  },
  {
   "cell_type": "code",
   "execution_count": 16,
   "id": "6195dea0",
   "metadata": {},
   "outputs": [],
   "source": [
    "overrides_wfl_settings = {\n",
    "    'what':['gap_'],\n",
    "    'type': 'heavy', #or cheap; heavy uses converged value for parameters that we are not converging in a given iteration.\n",
    "    }"
   ]
  },
  {
   "cell_type": "markdown",
   "id": "e7384790",
   "metadata": {},
   "source": [
    "the quantities that we can converge are the ones that can be parsed by the \n",
    "``YamboWorkflow`` workchain: quasiparticle levels/gaps, and excitonic energies:\n",
    "\n",
    "* 'gap_': gap as found from nscf calculation (may differ from the final GW band gap, in terms of value and k-point indexes);\n",
    "* 'gap_GG': gap at the Gamma point;\n",
    "* 'lowest_exciton': lowest exciton from BSE;\n",
    "* 'brightest_exciton': brightest exciton from BSE."
   ]
  },
  {
   "cell_type": "code",
   "execution_count": 17,
   "id": "cac1d622",
   "metadata": {},
   "outputs": [],
   "source": [
    "#setting the overall overrides dictionary.\n",
    "\n",
    "overrides = {\n",
    "    'ywfl':{'scf':overrides_scf,'nscf':overrides_nscf,'yres':overrides_yambo},\n",
    "    'workflow_settings':overrides_wfl_settings,\n",
    "    }"
   ]
  },
  {
   "cell_type": "code",
   "execution_count": 18,
   "id": "57339397",
   "metadata": {},
   "outputs": [
    {
     "name": "stdout",
     "output_type": "stream",
     "text": [
      "Summary of the main inputs:\n",
      "BndsRnXp = 200\n",
      "GbndRnge = 200\n",
      "NGsBlkXp = 4 Ry\n",
      "FFTGvecs = 20 Ry\n",
      "\n",
      "\n",
      "kpoint mesh for nscf: [6, 6, 2]\n"
     ]
    },
    {
     "name": "stderr",
     "output_type": "stream",
     "text": [
      "/home/max/.conda/envs/aiida/lib/python3.9/site-packages/aiida_quantumespresso/calculations/pw.py:211: UserWarning: `parent_folder` not provided for `nscf` calculation. For work chains wrapping this calculation, you can disable this warning by excluding the `parent_folder` when exposing the inputs of the `PwCalculation`.\n",
      "  warnings.warn(\n"
     ]
    }
   ],
   "source": [
    "builder = YamboConvergence.get_builder_from_protocol(\n",
    "    pw_code = options['pwcode_id'],\n",
    "    preprocessing_code = options['yamboprecode_id'],\n",
    "    code = options['yambocode_id'],\n",
    "    protocol=options['protocol'],\n",
    "    protocol_qe=options['protocol'],\n",
    "    structure= orm.load_node(options['structure_id']),\n",
    "    overrides=overrides,\n",
    "    pseudo_family = options[\"pseudo_family\"]\n",
    "    #parent_folder=load_node(options['parent_id']).outputs.remote_folder,\n",
    "    electronic_type=ElectronicType.INSULATOR, #default is METAL: smearing is used\n",
    "    calc_type='gw', #or 'bse'; default is 'gw'\n",
    ")\n",
    "\n"
   ]
  },
  {
   "cell_type": "markdown",
   "id": "655b8ca2",
   "metadata": {},
   "source": [
    "### Inspecting the convergence space:"
   ]
  },
  {
   "cell_type": "code",
   "execution_count": 19,
   "id": "1a1ebb67",
   "metadata": {},
   "outputs": [
    {
     "data": {
      "text/plain": [
       "[{'var': ['FFTGvecs'],\n",
       "  'start': 21,\n",
       "  'stop': 58,\n",
       "  'delta': 8,\n",
       "  'max': 84,\n",
       "  'steps': 4,\n",
       "  'max_iterations': 4,\n",
       "  'conv_thr': 10,\n",
       "  'conv_thr_units': '%',\n",
       "  'convergence_algorithm': 'new_algorithm_1D'},\n",
       " {'var': ['kpoint_mesh'],\n",
       "  'start': [4, 4, 2],\n",
       "  'stop': [16, 16, 6],\n",
       "  'delta': [3, 3, 3],\n",
       "  'max': [30, 30, 10],\n",
       "  'steps': 4,\n",
       "  'max_iterations': 4,\n",
       "  'conv_thr': 10,\n",
       "  'conv_thr_units': '%',\n",
       "  'convergence_algorithm': 'new_algorithm_1D'},\n",
       " {'var': ['BndsRnXp', 'GbndRnge', 'NGsBlkXp'],\n",
       "  'start': [80, 80, 2],\n",
       "  'stop': [400, 400, 8],\n",
       "  'delta': [50, 50, 1],\n",
       "  'max': [600, 600, 10],\n",
       "  'steps': 6,\n",
       "  'max_iterations': 8,\n",
       "  'conv_thr': 10,\n",
       "  'conv_thr_units': '%',\n",
       "  'convergence_algorithm': 'new_algorithm_2D'}]"
      ]
     },
     "execution_count": 19,
     "metadata": {},
     "output_type": "execute_result"
    }
   ],
   "source": [
    "builder.parameters_space.get_list()"
   ]
  },
  {
   "cell_type": "markdown",
   "id": "7a33a651",
   "metadata": {},
   "source": [
    "The workflow will follow such a list, from `FFTGvecs`, `kpoint_mesh` and then to `BndsRnXp, GbndRnge, NGsBlkXp`, performing each of the three iterations trying to convergence the corresponding parameters. Please note that the last step (`BndsRnXp, GbndRnge, NGsBlkXp`) will perform the convergence of the coupled parameters *BndsRnXp=GbndRnge* and *NGsBlkXp*. Depending on your system, a good convergence journey would be ['FFTGvecs'] -> ['BndsRnXp', 'GbndRnge', 'NGsBlkXp'] -> ['kpoint_mesh']. \n",
    "\n",
    "We can provide an ad hoc convergence space:"
   ]
  },
  {
   "cell_type": "code",
   "execution_count": 20,
   "id": "ca92fda9",
   "metadata": {},
   "outputs": [],
   "source": [
    "builder.parameters_space=orm.List(\n",
    "    [{'var': ['FFTGvecs'],\n",
    "      'start': 21,\n",
    "      'stop': 58,\n",
    "      'delta': 8,\n",
    "      'max': 84,\n",
    "      'steps': 4,\n",
    "      'max_iterations': 4,\n",
    "      'conv_thr': 10,\n",
    "      'conv_thr_units': '%',\n",
    "      'convergence_algorithm': 'new_algorithm_1D'},   #we are converging 1 parameter\n",
    "     #{'var': ['kpoint_mesh'],\n",
    "     # 'start': [4, 4, 2],\n",
    "     # 'stop': [16, 16, 6],\n",
    "     # 'delta': [3, 3, 3],\n",
    "     # 'max': [30, 30, 10],\n",
    "     # 'steps': 4,\n",
    "     # 'max_iterations': 4,\n",
    "     # 'conv_thr': 10,\n",
    "     # 'conv_thr_units': '%',\n",
    "     # 'convergence_algorithm': 'new_algorithm_1D'},\n",
    "     {'var': ['BndsRnXp', 'GbndRnge', 'NGsBlkXp'],\n",
    "      'start': [80, 80, 2],                           #starting values\n",
    "      'stop': [400, 400, 8],                          #maximum values for the first grid\n",
    "      'delta': [50, 50, 1],                           #grid spacing\n",
    "      'max': [600, 600, 10],                          #maximum values for the largest grid possible\n",
    "      'steps': 6,                                     #steps/calculation per iteration. For ['BndsRnXp', 'GbndRnge', 'NGsBlkXp'], always 6\n",
    "      'max_iterations': 8,                            #maximum attempts\n",
    "      'conv_thr': 10,                                 #converge threshold\n",
    "      'conv_thr_units': '%',                          #converge threshold units: '%' is the relative error with respect to the most converged value; can be also 'eV'\n",
    "      'convergence_algorithm': 'new_algorithm_2D'}],  #we are converging actually 2 parameters: bands\n",
    ")"
   ]
  },
  {
   "cell_type": "markdown",
   "id": "9d39863c",
   "metadata": {},
   "source": [
    "### Parameter-dependent resources\n",
    "\n",
    "As you can imagine, increasing the parameters of the simulations may require also the change of the related computational resources, in order to be able to successfully perform them. \n",
    "Before the submission of the WorkChain, we can provide instructions on how to continously adapt the resources when parameters are changing.\n",
    "\n",
    "In particular, we provide two dictionaries:\n",
    "- parallelism instructions\n",
    "- explicit resources instructions"
   ]
  },
  {
   "cell_type": "code",
   "execution_count": 21,
   "id": "438114f6",
   "metadata": {},
   "outputs": [],
   "source": [
    "dict_para_medium = {}\n",
    "dict_para_medium['X_and_IO_CPU'] = '1 1 1 1 1'\n",
    "dict_para_medium['X_and_IO_ROLEs'] = 'q k g c v'\n",
    "dict_para_medium['DIP_CPU'] = '1 1 1'\n",
    "dict_para_medium['DIP_ROLEs'] = 'k c v'\n",
    "dict_para_medium['SE_CPU'] = '1 1 1'\n",
    "dict_para_medium['SE_ROLEs'] = 'q qp b'\n",
    "\n",
    "dict_res_medium = {\n",
    "        \"num_machines\": 1,\n",
    "        \"num_mpiprocs_per_machine\":1,\n",
    "        \"num_cores_per_mpiproc\":1,\n",
    "    }\n",
    "\n",
    "dict_para_high = {}\n",
    "dict_para_high['X_and_IO_CPU'] = '1 1 1 2 1' \n",
    "dict_para_high['X_and_IO_ROLEs'] = 'q k g c v'\n",
    "dict_para_high['DIP_CPU'] = '1 2 1'\n",
    "dict_para_high['DIP_ROLEs'] = 'k c v'\n",
    "dict_para_high['SE_CPU'] = '1 1 2'\n",
    "dict_para_high['SE_ROLEs'] = 'q qp b'\n",
    "\n",
    "dict_res_high = {\n",
    "        \"num_machines\": 1,\n",
    "        \"num_mpiprocs_per_machine\":2,\n",
    "        \"num_cores_per_mpiproc\":1,\n",
    "    }\n",
    "\n",
    "parallelism_instructions_manual = orm.Dict(dict={'manual' : {                                                            \n",
    "                                                            'std_1':{\n",
    "                                                                    'BndsRnXp':[1,100], #range for bands where to use the dict_para_medium and dict_res_medium instructions.\n",
    "                                                                    'NGsBlkXp':[2,18],\n",
    "                                                                    'parallelism':dict_para_medium,\n",
    "                                                                    'resources':dict_res_medium,\n",
    "                                                                    },\n",
    "                                                            'std_2':{\n",
    "                                                                    'BndsRnXp':[101,1000],\n",
    "                                                                    'NGsBlkXp':[2,18],\n",
    "                                                                    'parallelism':dict_para_high,\n",
    "                                                                    'resources':dict_res_high,\n",
    "                                                                    },}})"
   ]
  },
  {
   "cell_type": "markdown",
   "id": "51ed29d1",
   "metadata": {},
   "source": [
    "We can just provide, together with the resources, the `mode` which yambo will use to automatically set up its parallelism, if we are not sure on how to decide the explicit parallelism instructions."
   ]
  },
  {
   "cell_type": "code",
   "execution_count": 22,
   "id": "e55c32d8",
   "metadata": {},
   "outputs": [],
   "source": [
    "parallelism_instructions_auto = orm.Dict(dict={'automatic' : {                                                            \n",
    "                                                            'std_1':{\n",
    "                                                                    'BndsRnXp':[1,100],\n",
    "                                                                    'NGsBlkXp':[1,18],\n",
    "                                                                    'mode':'balanced',\n",
    "                                                                    'resources':dict_res_medium,\n",
    "                                                                    },\n",
    "                                                            'std_2':{\n",
    "                                                                    'BndsRnXp':[101,1000],\n",
    "                                                                    'NGsBlkXp':[1,18],\n",
    "                                                                    'mode':'memory',\n",
    "                                                                    'resources':dict_res_high,\n",
    "                                                                    },}})"
   ]
  },
  {
   "cell_type": "code",
   "execution_count": 23,
   "id": "63d81f05",
   "metadata": {},
   "outputs": [],
   "source": [
    "builder.parallelism_instructions = parallelism_instructions_auto"
   ]
  },
  {
   "cell_type": "markdown",
   "id": "3e27731e",
   "metadata": {},
   "source": [
    "### Providing an AiiDA group where to collect all the convergence simulations\n",
    "\n",
    "When `YamboConvergence` is submitted, it automatically creates a group where to put all the simulations. Each time a simulation is ready to be submitted, there is an internal check in the group, to understand\n",
    "if an identical simulation has been already performed. In that case, the submission is skipped and we reuse the results to perform our analysis. This is a sort of ad-hoc [caching](https://aiida.readthedocs.io/projects/aiida-core/en/latest/topics/provenance/caching.html), which however does not duplicate the involved nodes. \n",
    "\n",
    "We prefer to just reuse the results as often even the retrieved files for yambo simulations are heavy (`ndb.QP` for example).\n",
    "\n",
    "It is possible also to provide a custom group, by means of the `group_label` input String."
   ]
  },
  {
   "cell_type": "code",
   "execution_count": 24,
   "id": "46955289",
   "metadata": {},
   "outputs": [],
   "source": [
    "try:\n",
    "    g = orm.load_group('tutorial/Silicon/convergence')\n",
    "except:\n",
    "    g = orm.Group('tutorial/Silicon/convergence')\n",
    "    g.store()"
   ]
  },
  {
   "cell_type": "code",
   "execution_count": 25,
   "id": "1142fcc8",
   "metadata": {},
   "outputs": [],
   "source": [
    "builder.group_label = orm.Str('tutorial/Silicon/convergence') # verdi group create tutorial/Silicon/convergence; all calculationsc are added to the group"
   ]
  },
  {
   "cell_type": "markdown",
   "id": "dd1b9c62",
   "metadata": {},
   "source": [
    "### Run"
   ]
  },
  {
   "cell_type": "code",
   "execution_count": 26,
   "id": "9e1cf68e",
   "metadata": {},
   "outputs": [],
   "source": [
    "from aiida.engine import submit"
   ]
  },
  {
   "cell_type": "code",
   "execution_count": 27,
   "id": "78614e86",
   "metadata": {},
   "outputs": [],
   "source": [
    "run = None"
   ]
  },
  {
   "cell_type": "code",
   "execution_count": 28,
   "id": "196e4b6d",
   "metadata": {},
   "outputs": [
    {
     "name": "stderr",
     "output_type": "stream",
     "text": [
      "/home/max/.conda/envs/aiida/lib/python3.9/site-packages/aiida_quantumespresso/calculations/pw.py:211: UserWarning: `parent_folder` not provided for `nscf` calculation. For work chains wrapping this calculation, you can disable this warning by excluding the `parent_folder` when exposing the inputs of the `PwCalculation`.\n",
      "  warnings.warn(\n"
     ]
    },
    {
     "name": "stdout",
     "output_type": "stream",
     "text": [
      "uuid: f5ec30d2-63e1-403e-85f1-b0708c231d15 (pk: 971) (aiida.workflows:yambo.yambo.yamboconvergence)\n"
     ]
    }
   ],
   "source": [
    "if run:\n",
    "    print('run is already running -> {}'.format(run.pk))\n",
    "    print('sure that you want to run again?, if so, copy the else instruction in the cell below and run!')\n",
    "else:\n",
    "    run = submit(builder)\n",
    "\n",
    "print(run)"
   ]
  },
  {
   "cell_type": "code",
   "execution_count": 31,
   "id": "2700857f",
   "metadata": {},
   "outputs": [
    {
     "name": "stdout",
     "output_type": "stream",
     "text": [
      "\u001b[22m2024-01-16 13:10:56 [334 | REPORT]: [971|YamboConvergence|start_workflow]: group: tutorial/hBN/convergence\n",
      "2024-01-16 13:10:56 [335 | REPORT]: [971|YamboConvergence|start_workflow]: Workflow type: heavy; looking for convergence of ['gap_']\n",
      "2024-01-16 13:10:56 [336 | REPORT]: [971|YamboConvergence|start_workflow]: Workflow initilization step completed, the parameters will be: ['FFTGvecs'].\n",
      "2024-01-16 13:10:56 [337 | REPORT]: [971|YamboConvergence|has_to_continue]: Still iteration on ['FFTGvecs']\n",
      "2024-01-16 13:10:56 [338 | REPORT]: [971|YamboConvergence|pre_needed]: {'FFTGvecs': [21, 37, 45, 58], 'BndsRnXp': [80, 400, 80, 180, 280, 400], 'NGsBlkXp': [2, 2, 8, 6, 4, 8], 'GbndRnge': [80, 400, 80, 180, 280, 400]}\n",
      "2024-01-16 13:10:57 [339 | REPORT]: [971|YamboConvergence|pre_needed]: ['GW bands are: 200', 'found scf inputs from parent', 'found nscf inputs from parent\\n']\n",
      "2024-01-16 13:10:57 [340 | REPORT]: [971|YamboConvergence|next_step]: New parameters are: {'FFTGvecs': 21}\n",
      "2024-01-16 13:10:57 [341 | REPORT]: [971|YamboConvergence|next_step]: Calculation already done: 824\n",
      "2024-01-16 13:10:57 [342 | REPORT]: [971|YamboConvergence|next_step]: New parameters are: {'FFTGvecs': 37}\n",
      "2024-01-16 13:10:57 [343 | REPORT]: [971|YamboConvergence|next_step]: Calculation already done: 826\n",
      "2024-01-16 13:10:58 [344 | REPORT]: [971|YamboConvergence|next_step]: New parameters are: {'FFTGvecs': 45}\n",
      "2024-01-16 13:10:58 [345 | REPORT]: [971|YamboConvergence|next_step]: Calculation already done: 828\n",
      "2024-01-16 13:10:59 [346 | REPORT]: [971|YamboConvergence|next_step]: New parameters are: {'FFTGvecs': 58}\n",
      "2024-01-16 13:10:59 [347 | REPORT]: [971|YamboConvergence|next_step]: Calculation already done: 830\n",
      "2024-01-16 13:10:59 [348 | REPORT]: [971|YamboConvergence|data_analysis]: Data analysis, we will try to parse some result and decide what next.\n",
      "2024-01-16 13:10:59 [349 | REPORT]: [971|YamboConvergence|data_analysis]:    FFTGvecs  BndsRnXp  ...      gap_                                  uuid\n",
      "0        21       200  ...  5.879072  1197c8e7-981d-4ccc-9108-eea06c3632d5\n",
      "1        37       200  ...  5.866152  aa433d73-ba7a-48f8-89ab-a95328ad5628\n",
      "2        45       200  ...  5.865376  6f05b410-90ed-4614-8296-cdef9cdf6a32\n",
      "3        58       200  ...  5.859457  2b34a618-2325-4845-80c8-f0c7c77beac5\n",
      "\n",
      "[4 rows x 6 columns]\n",
      "2024-01-16 13:11:00 [350 | REPORT]: [971|YamboConvergence|data_analysis]: results ['gap_']\n",
      ":{'gap_': array([5.8790716 , 5.86615215, 5.86537606, 5.85945684])}\n",
      "2024-01-16 13:11:00 [351 | REPORT]: [971|YamboConvergence|data_analysis]: HINTS: {'FFTGvecs': 21, 'gap_': 5.8790716005266, 'already_computed': True, 'E_ref': 5.853074823690775, 'new_grid': False, 'extrapolation': 5.847170582396299, 'extrapolation_units': 'eV'}\n",
      "2024-01-16 13:11:00 [352 | REPORT]: [971|YamboConvergence|data_analysis]: Success, updating the history... \n",
      "2024-01-16 13:11:00 [353 | REPORT]: [971|YamboConvergence|data_analysis]: Success on ['FFTGvecs'] reached in 4 calculations, the result is [[5.8790716]]\n",
      "2024-01-16 13:11:00 [354 | REPORT]: [971|YamboConvergence|data_analysis]: {'type': 'heavy', 'what': ['gap_'], 'skip_pre': False, 'max': 84, 'var': ['FFTGvecs'], 'stop': 58, 'delta': 8, 'start': 21, 'iter': 1, 'G_iter': 1, 'success': True, 'skipped': 0, 'conv_thr': 10, 'conv_thr_units': '%', 'ratio': 1.2, 'max_iterations': 4, 'steps': 4, 'conv_window': 4, 'functional_form': 'power_law', 'convergence_algorithm': 'new_algorithm_1D', 'thr_fx': 5e-05}\n",
      "2024-01-16 13:11:00 [355 | REPORT]: [971|YamboConvergence|data_analysis]: {'FFTGvecs': 21, 'gap_': 5.8790716005266, 'already_computed': True, 'E_ref': 5.853074823690775, 'new_grid': False, 'extrapolation_units': 'eV'}\n",
      "2024-01-16 13:11:00 [356 | REPORT]: [971|YamboConvergence|has_to_continue]: Next parameters: ['BndsRnXp', 'GbndRnge', 'NGsBlkXp']\n",
      "2024-01-16 13:11:00 [357 | REPORT]: [971|YamboConvergence|has_to_continue]: Mode is \"heavy\", so we mantain the other parameters as the converged ones, if any.\n",
      "2024-01-16 13:11:00 [358 | REPORT]: [971|YamboConvergence|pre_needed]: {'FFTGvecs': [21], 'BndsRnXp': [80, 400, 80, 180, 280, 400], 'NGsBlkXp': [2, 2, 8, 6, 4, 8], 'GbndRnge': [80, 400, 80, 180, 280, 400]}\n",
      "2024-01-16 13:11:01 [359 | REPORT]: [971|YamboConvergence|pre_needed]: ['GW bands are: 200', 'found scf inputs from parent', 'found nscf inputs from parent\\n']\n",
      "2024-01-16 13:11:01 [360 | REPORT]: [971|YamboConvergence|do_pre]: mesh check\n",
      "2024-01-16 13:11:01 [361 | REPORT]: [971|YamboConvergence|do_pre]: doing the calculation: p2y\n",
      "2024-01-16 13:11:02 [362 | REPORT]: [971|YamboConvergence|do_pre]: Submitted YamboWorkflow up to p2y, pk = 977\n",
      "2024-01-16 13:11:03 [363 | REPORT]:   [977|YamboWorkflow|start_workflow]:  workflow initilization step completed.\n",
      "2024-01-16 13:11:03 [364 | REPORT]:   [977|YamboWorkflow|can_continue]: the workflow continues with a nscf calculation\n",
      "2024-01-16 13:11:03 [365 | REPORT]:   [977|YamboWorkflow|perform_next]: performing a nscf calculation\n",
      "2024-01-16 13:11:04 [366 | REPORT]:     [980|PwBaseWorkChain|run_process]: launching PwCalculation<983> iteration #1\n",
      "2024-01-16 13:13:25 [367 | REPORT]:     [980|PwBaseWorkChain|results]: work chain completed after 1 iterations\n",
      "2024-01-16 13:13:25 [368 | REPORT]:     [980|PwBaseWorkChain|on_terminated]: remote folders will not be cleaned\n",
      "2024-01-16 13:13:26 [369 | REPORT]:   [977|YamboWorkflow|can_continue]: the workflow continues with a yambo calculation\n",
      "2024-01-16 13:13:26 [370 | REPORT]:   [977|YamboWorkflow|perform_next]: performing a yambo calculation\n",
      "2024-01-16 13:13:27 [371 | REPORT]:     [989|YamboRestart|run_process]: launching YamboCalculation<990> iteration #1\n",
      "2024-01-16 13:13:32 [372 | REPORT]:     [989|YamboRestart|results]: work chain completed after 1 iterations\n",
      "2024-01-16 13:13:32 [373 | REPORT]:     [989|YamboRestart|on_terminated]: remote folders will not be cleaned\n",
      "2024-01-16 13:13:32 [374 | REPORT]:   [977|YamboWorkflow|can_continue]: workflow is finished\n",
      "2024-01-16 13:13:32 [375 | REPORT]:   [977|YamboWorkflow|post_processing_needed]: no post processing needed\n",
      "2024-01-16 13:13:33 [376 | REPORT]:   [977|YamboWorkflow|report_wf]: workflow completed successfully\n",
      "2024-01-16 13:13:33 [377 | REPORT]: [971|YamboConvergence|prepare_calculations]: setting the pre calc remote folder 991 as parent\n",
      "2024-01-16 13:13:34 [378 | REPORT]: [971|YamboConvergence|next_step]: New parameters are: {'BndsRnXp': 80, 'GbndRnge': 80, 'NGsBlkXp': 2}\n",
      "2024-01-16 13:13:37 [379 | REPORT]: [971|YamboConvergence|next_step]: New parameters are: {'BndsRnXp': 400, 'GbndRnge': 400, 'NGsBlkXp': 2}\n",
      "2024-01-16 13:13:40 [380 | REPORT]: [971|YamboConvergence|next_step]: New parameters are: {'BndsRnXp': 80, 'GbndRnge': 80, 'NGsBlkXp': 8}\n",
      "2024-01-16 13:13:42 [381 | REPORT]: [971|YamboConvergence|next_step]: New parameters are: {'BndsRnXp': 180, 'GbndRnge': 180, 'NGsBlkXp': 6}\n",
      "2024-01-16 13:13:45 [382 | REPORT]: [971|YamboConvergence|next_step]: New parameters are: {'BndsRnXp': 280, 'GbndRnge': 280, 'NGsBlkXp': 4}\n",
      "2024-01-16 13:13:48 [383 | REPORT]: [971|YamboConvergence|next_step]: New parameters are: {'BndsRnXp': 400, 'GbndRnge': 400, 'NGsBlkXp': 8}\n",
      "2024-01-16 13:13:50 [384 | REPORT]:   [995|YamboWorkflow|start_workflow]:  workflow initilization step completed.\n",
      "2024-01-16 13:13:51 [385 | REPORT]:   [995|YamboWorkflow|can_continue]: the workflow continues with a yambo calculation\n",
      "2024-01-16 13:13:51 [386 | REPORT]:   [995|YamboWorkflow|perform_next]: performing a yambo calculation\n",
      "2024-01-16 13:13:51 [387 | REPORT]:   [995|YamboWorkflow|perform_next]: updating yambo parameters to parse more results\n",
      "2024-01-16 13:13:51 [388 | REPORT]:   [995|YamboWorkflow|perform_next]: {'dft_predicted': 'semiconductor/insulator', 'valence': 8, 'conduction': 9, 'number_of_kpoints': 8, 'nscf_gap_eV': 4.654, 'homo_k': 5, 'lumo_k': 5, 'gap_type': 'direct', 'gap_': [[5, 5, 8, 8], [5, 5, 9, 9]], 'soc': False, 'magnetic_calculation': False}\n",
      "2024-01-16 13:13:52 [389 | REPORT]:   [997|YamboWorkflow|start_workflow]:  workflow initilization step completed.\n",
      "2024-01-16 13:13:52 [390 | REPORT]:   [997|YamboWorkflow|can_continue]: the workflow continues with a yambo calculation\n",
      "2024-01-16 13:13:52 [391 | REPORT]:   [997|YamboWorkflow|perform_next]: performing a yambo calculation\n",
      "2024-01-16 13:13:52 [392 | REPORT]:   [997|YamboWorkflow|perform_next]: updating yambo parameters to parse more results\n",
      "2024-01-16 13:13:52 [393 | REPORT]:   [997|YamboWorkflow|perform_next]: {'dft_predicted': 'semiconductor/insulator', 'valence': 8, 'conduction': 9, 'number_of_kpoints': 8, 'nscf_gap_eV': 4.654, 'homo_k': 5, 'lumo_k': 5, 'gap_type': 'direct', 'gap_': [[5, 5, 8, 8], [5, 5, 9, 9]], 'soc': False, 'magnetic_calculation': False}\n",
      "2024-01-16 13:13:53 [394 | REPORT]:   [999|YamboWorkflow|start_workflow]:  workflow initilization step completed.\n",
      "2024-01-16 13:13:54 [395 | REPORT]:   [999|YamboWorkflow|can_continue]: the workflow continues with a yambo calculation\n",
      "2024-01-16 13:13:54 [396 | REPORT]:   [999|YamboWorkflow|perform_next]: performing a yambo calculation\n",
      "2024-01-16 13:13:54 [397 | REPORT]:   [999|YamboWorkflow|perform_next]: updating yambo parameters to parse more results\n",
      "2024-01-16 13:13:54 [398 | REPORT]:   [999|YamboWorkflow|perform_next]: {'dft_predicted': 'semiconductor/insulator', 'valence': 8, 'conduction': 9, 'number_of_kpoints': 8, 'nscf_gap_eV': 4.654, 'homo_k': 5, 'lumo_k': 5, 'gap_type': 'direct', 'gap_': [[5, 5, 8, 8], [5, 5, 9, 9]], 'soc': False, 'magnetic_calculation': False}\n",
      "2024-01-16 13:13:55 [399 | REPORT]:   [1001|YamboWorkflow|start_workflow]:  workflow initilization step completed.\n",
      "2024-01-16 13:13:55 [400 | REPORT]:   [1001|YamboWorkflow|can_continue]: the workflow continues with a yambo calculation\n",
      "2024-01-16 13:13:55 [401 | REPORT]:   [1001|YamboWorkflow|perform_next]: performing a yambo calculation\n",
      "2024-01-16 13:13:55 [402 | REPORT]:   [1001|YamboWorkflow|perform_next]: updating yambo parameters to parse more results\n",
      "2024-01-16 13:13:55 [403 | REPORT]:   [1001|YamboWorkflow|perform_next]: {'dft_predicted': 'semiconductor/insulator', 'valence': 8, 'conduction': 9, 'number_of_kpoints': 8, 'nscf_gap_eV': 4.654, 'homo_k': 5, 'lumo_k': 5, 'gap_type': 'direct', 'gap_': [[5, 5, 8, 8], [5, 5, 9, 9]], 'soc': False, 'magnetic_calculation': False}\n",
      "2024-01-16 13:13:56 [404 | REPORT]:   [1003|YamboWorkflow|start_workflow]:  workflow initilization step completed.\n",
      "2024-01-16 13:13:57 [405 | REPORT]:   [1003|YamboWorkflow|can_continue]: the workflow continues with a yambo calculation\n",
      "2024-01-16 13:13:57 [406 | REPORT]:   [1003|YamboWorkflow|perform_next]: performing a yambo calculation\n",
      "2024-01-16 13:13:57 [407 | REPORT]:   [1003|YamboWorkflow|perform_next]: updating yambo parameters to parse more results\n",
      "2024-01-16 13:13:57 [408 | REPORT]:   [1003|YamboWorkflow|perform_next]: {'dft_predicted': 'semiconductor/insulator', 'valence': 8, 'conduction': 9, 'number_of_kpoints': 8, 'nscf_gap_eV': 4.654, 'homo_k': 5, 'lumo_k': 5, 'gap_type': 'direct', 'gap_': [[5, 5, 8, 8], [5, 5, 9, 9]], 'soc': False, 'magnetic_calculation': False}\n",
      "2024-01-16 13:13:58 [409 | REPORT]:   [1005|YamboWorkflow|start_workflow]:  workflow initilization step completed.\n",
      "2024-01-16 13:13:58 [410 | REPORT]:   [1005|YamboWorkflow|can_continue]: the workflow continues with a yambo calculation\n",
      "2024-01-16 13:13:58 [411 | REPORT]:   [1005|YamboWorkflow|perform_next]: performing a yambo calculation\n",
      "2024-01-16 13:13:58 [412 | REPORT]:   [1005|YamboWorkflow|perform_next]: updating yambo parameters to parse more results\n",
      "2024-01-16 13:13:58 [413 | REPORT]:   [1005|YamboWorkflow|perform_next]: {'dft_predicted': 'semiconductor/insulator', 'valence': 8, 'conduction': 9, 'number_of_kpoints': 8, 'nscf_gap_eV': 4.654, 'homo_k': 5, 'lumo_k': 5, 'gap_type': 'direct', 'gap_': [[5, 5, 8, 8], [5, 5, 9, 9]], 'soc': False, 'magnetic_calculation': False}\n",
      "2024-01-16 13:14:00 [414 | REPORT]:     [1007|YamboRestart|run_process]: launching YamboCalculation<1018> iteration #1\n",
      "2024-01-16 13:14:00 [415 | REPORT]:     [1009|YamboRestart|run_process]: launching YamboCalculation<1019> iteration #1\n",
      "2024-01-16 13:14:01 [416 | REPORT]:     [1011|YamboRestart|run_process]: launching YamboCalculation<1020> iteration #1\n",
      "2024-01-16 13:14:02 [417 | REPORT]:     [1013|YamboRestart|run_process]: launching YamboCalculation<1021> iteration #1\n",
      "2024-01-16 13:14:03 [418 | REPORT]:     [1015|YamboRestart|run_process]: launching YamboCalculation<1022> iteration #1\n",
      "2024-01-16 13:14:04 [419 | REPORT]:     [1017|YamboRestart|run_process]: launching YamboCalculation<1023> iteration #1\n",
      "2024-01-16 13:14:22 [420 | REPORT]:     [1007|YamboRestart|results]: work chain completed after 1 iterations\n",
      "2024-01-16 13:14:22 [421 | REPORT]:     [1007|YamboRestart|on_terminated]: remote folders will not be cleaned\n",
      "2024-01-16 13:14:23 [422 | REPORT]:   [995|YamboWorkflow|can_continue]: workflow is finished\n",
      "2024-01-16 13:14:23 [423 | REPORT]:   [995|YamboWorkflow|post_processing_needed]: no post processing needed\n",
      "2024-01-16 13:14:23 [424 | REPORT]:   [995|YamboWorkflow|report_wf]: PARSED: {'gap_': 6.2939792856842285, 'homo': -0.2273404779314995, 'lumo': 6.066638807752729, 'gap_dft': 4.6537435341387985, 'homo_dft': 0.0, 'lumo_dft': 4.6537435341387985}\n",
      "2024-01-16 13:14:23 [425 | REPORT]:   [995|YamboWorkflow|report_wf]: workflow completed successfully\n",
      "2024-01-16 13:14:33 [426 | REPORT]:     [1011|YamboRestart|results]: work chain completed after 1 iterations\n",
      "2024-01-16 13:14:33 [427 | REPORT]:     [1011|YamboRestart|on_terminated]: remote folders will not be cleaned\n",
      "2024-01-16 13:14:33 [428 | REPORT]:   [999|YamboWorkflow|can_continue]: workflow is finished\n",
      "2024-01-16 13:14:33 [429 | REPORT]:   [999|YamboWorkflow|post_processing_needed]: no post processing needed\n",
      "2024-01-16 13:14:34 [430 | REPORT]:   [999|YamboWorkflow|report_wf]: PARSED: {'gap_': 5.9466864445626735, 'homo': -0.4630160327076912, 'lumo': 5.483670411854982, 'gap_dft': 4.6537435341387985, 'homo_dft': 0.0, 'lumo_dft': 4.6537435341387985}\n",
      "2024-01-16 13:14:34 [431 | REPORT]:   [999|YamboWorkflow|report_wf]: workflow completed successfully\n",
      "2024-01-16 13:14:43 [432 | REPORT]:     [1009|YamboRestart|results]: work chain completed after 1 iterations\n",
      "2024-01-16 13:14:43 [433 | REPORT]:     [1009|YamboRestart|on_terminated]: remote folders will not be cleaned\n",
      "2024-01-16 13:14:43 [434 | REPORT]:   [997|YamboWorkflow|can_continue]: workflow is finished\n",
      "2024-01-16 13:14:43 [435 | REPORT]:   [997|YamboWorkflow|post_processing_needed]: no post processing needed\n",
      "2024-01-16 13:14:44 [436 | REPORT]:   [997|YamboWorkflow|report_wf]: PARSED: {'gap_': 6.280235491675138, 'homo': -0.2209419805288315, 'lumo': 6.059293511146307, 'gap_dft': 4.6537435341387985, 'homo_dft': 0.0, 'lumo_dft': 4.6537435341387985}\n",
      "2024-01-16 13:14:44 [437 | REPORT]:   [997|YamboWorkflow|report_wf]: workflow completed successfully\n",
      "2024-01-16 13:14:53 [438 | REPORT]:     [1013|YamboRestart|results]: work chain completed after 1 iterations\n",
      "2024-01-16 13:14:53 [439 | REPORT]:     [1013|YamboRestart|on_terminated]: remote folders will not be cleaned\n",
      "2024-01-16 13:14:53 [440 | REPORT]:   [1001|YamboWorkflow|can_continue]: workflow is finished\n",
      "2024-01-16 13:14:53 [441 | REPORT]:   [1001|YamboWorkflow|post_processing_needed]: no post processing needed\n",
      "2024-01-16 13:14:54 [442 | REPORT]:   [1001|YamboWorkflow|report_wf]: PARSED: {'gap_': 5.896407960250975, 'homo': -0.39982499137520794, 'lumo': 5.496582968875766, 'gap_dft': 4.6537435341387985, 'homo_dft': 0.0, 'lumo_dft': 4.6537435341387985}\n",
      "2024-01-16 13:14:54 [443 | REPORT]:   [1001|YamboWorkflow|report_wf]: workflow completed successfully\n",
      "2024-01-16 13:15:09 [444 | REPORT]:     [1015|YamboRestart|results]: work chain completed after 1 iterations\n",
      "2024-01-16 13:15:09 [445 | REPORT]:     [1015|YamboRestart|on_terminated]: remote folders will not be cleaned\n",
      "2024-01-16 13:15:09 [446 | REPORT]:   [1003|YamboWorkflow|can_continue]: workflow is finished\n",
      "2024-01-16 13:15:09 [447 | REPORT]:   [1003|YamboWorkflow|post_processing_needed]: no post processing needed\n",
      "2024-01-16 13:15:10 [448 | REPORT]:   [1003|YamboWorkflow|report_wf]: PARSED: {'gap_': 5.876000483965874, 'homo': -0.31574111245274544, 'lumo': 5.560259371513128, 'gap_dft': 4.6537435341387985, 'homo_dft': 0.0, 'lumo_dft': 4.6537435341387985}\n",
      "2024-01-16 13:15:10 [449 | REPORT]:   [1003|YamboWorkflow|report_wf]: workflow completed successfully\n",
      "2024-01-16 13:15:32 [450 | REPORT]:     [1017|YamboRestart|results]: work chain completed after 1 iterations\n",
      "2024-01-16 13:15:33 [451 | REPORT]:     [1017|YamboRestart|on_terminated]: remote folders will not be cleaned\n",
      "2024-01-16 13:15:33 [452 | REPORT]:   [1005|YamboWorkflow|can_continue]: workflow is finished\n",
      "2024-01-16 13:15:33 [453 | REPORT]:   [1005|YamboWorkflow|post_processing_needed]: no post processing needed\n",
      "2024-01-16 13:15:34 [454 | REPORT]:   [1005|YamboWorkflow|report_wf]: PARSED: {'gap_': 5.925062523904443, 'homo': -0.4989546652674675, 'lumo': 5.426107858636976, 'gap_dft': 4.6537435341387985, 'homo_dft': 0.0, 'lumo_dft': 4.6537435341387985}\n",
      "2024-01-16 13:15:34 [455 | REPORT]:   [1005|YamboWorkflow|report_wf]: workflow completed successfully\n",
      "2024-01-16 13:15:34 [456 | REPORT]: [971|YamboConvergence|data_analysis]: Data analysis, we will try to parse some result and decide what next.\n",
      "2024-01-16 13:15:35 [457 | REPORT]: [971|YamboConvergence|data_analysis]:    FFTGvecs  BndsRnXp  ...      gap_                                  uuid\n",
      "0        21        80  ...  6.293979  af272e4f-c5aa-47ef-93ec-c14ac7b0350c\n",
      "1        21       400  ...  6.280235  c7fd1b76-f95a-431b-8cbb-574ca935665d\n",
      "2        21        80  ...  5.946686  3987575d-c056-4e3e-8ff8-ba4f431a0312\n",
      "3        21       180  ...  5.896408  8be9bd35-6042-4b68-a32d-a83a78892a60\n",
      "4        21       280  ...  5.876000  74297842-de22-4847-aaee-2284eb77e471\n",
      "5        21       400  ...  5.925063  08e90f06-b702-4456-a10f-8dcb4ddfa11c\n",
      "\n",
      "[6 rows x 6 columns]\n",
      "2024-01-16 13:15:39 [458 | REPORT]: [971|YamboConvergence|data_analysis]: results ['gap_']\n",
      ":{'gap_': array([6.29397929, 6.28023549, 5.94668644, 5.89640796, 5.87600048,\n",
      "       5.92506252])}\n",
      "2024-01-16 13:15:39 [459 | REPORT]: [971|YamboConvergence|data_analysis]: HINTS: {'BndsRnXp': 80, 'NGsBlkXp': 2.0, 'gap_': 6.2939792856842, 'already_computed': True, 'GbndRnge': 80, 'E_ref': 5.891283292403292, 'new_grid': False, 'extrapolation': 5.890352570888162, 'extrapolation_units': 'eV'}\n",
      "2024-01-16 13:15:39 [460 | REPORT]: [971|YamboConvergence|data_analysis]: Success, updating the history... \n",
      "2024-01-16 13:15:39 [461 | REPORT]: [971|YamboConvergence|data_analysis]: Success on ['BndsRnXp', 'GbndRnge', 'NGsBlkXp'] reached in 6 calculations, the result is [[6.29397929]]\n",
      "2024-01-16 13:15:39 [462 | REPORT]: [971|YamboConvergence|has_to_continue]: Workflow finished\n",
      "2024-01-16 13:15:40 [463 | REPORT]: [971|YamboConvergence|report_wf]: Final step. It is True that the workflow was successful\u001b[0m\n"
     ]
    }
   ],
   "source": [
    "!verdi process report {run.pk}"
   ]
  },
  {
   "cell_type": "markdown",
   "id": "0c466b05",
   "metadata": {},
   "source": [
    "# Output analysis.\n",
    "\n",
    "suppose that your calculation completed successfully, then you can access the outputs via the output method of the run instance: "
   ]
  },
  {
   "cell_type": "code",
   "execution_count": 32,
   "id": "bff7942e",
   "metadata": {},
   "outputs": [],
   "source": [
    "run = orm.load_node(971)"
   ]
  },
  {
   "cell_type": "code",
   "execution_count": 33,
   "id": "bf076ce6",
   "metadata": {},
   "outputs": [
    {
     "data": {
      "text/plain": [
       "True"
      ]
     },
     "execution_count": 33,
     "metadata": {},
     "output_type": "execute_result"
    }
   ],
   "source": [
    "run.is_finished_ok"
   ]
  },
  {
   "cell_type": "markdown",
   "id": "f72ee3c6",
   "metadata": {},
   "source": [
    "The converged parameters can be obtained via the \"infos\" output Dict:"
   ]
  },
  {
   "cell_type": "code",
   "execution_count": 34,
   "id": "0cc0b992",
   "metadata": {},
   "outputs": [
    {
     "data": {
      "text/plain": [
       "{'gap_': 6.2939792856842,\n",
       " 'E_ref': 5.8912832924033,\n",
       " 'BndsRnXp': 80,\n",
       " 'FFTGvecs': 21,\n",
       " 'GbndRnge': 80,\n",
       " 'NGsBlkXp': 2.0}"
      ]
     },
     "execution_count": 34,
     "metadata": {},
     "output_type": "execute_result"
    }
   ],
   "source": [
    "run.outputs.infos.get_dict()"
   ]
  },
  {
   "cell_type": "markdown",
   "id": "9afc2076",
   "metadata": {},
   "source": [
    "The full convergence history can be visualized in a table form using pandas:"
   ]
  },
  {
   "cell_type": "code",
   "execution_count": 35,
   "id": "357b8819",
   "metadata": {},
   "outputs": [],
   "source": [
    "import pandas as pd"
   ]
  },
  {
   "cell_type": "code",
   "execution_count": 36,
   "id": "815c0e01",
   "metadata": {},
   "outputs": [],
   "source": [
    "history = run.outputs.history.get_dict()"
   ]
  },
  {
   "cell_type": "code",
   "execution_count": 37,
   "id": "ad366c53",
   "metadata": {},
   "outputs": [],
   "source": [
    "history_table = pd.DataFrame(history)"
   ]
  },
  {
   "cell_type": "code",
   "execution_count": 38,
   "id": "f11066f5",
   "metadata": {},
   "outputs": [
    {
     "data": {
      "text/html": [
       "<div>\n",
       "<style scoped>\n",
       "    .dataframe tbody tr th:only-of-type {\n",
       "        vertical-align: middle;\n",
       "    }\n",
       "\n",
       "    .dataframe tbody tr th {\n",
       "        vertical-align: top;\n",
       "    }\n",
       "\n",
       "    .dataframe thead th {\n",
       "        text-align: right;\n",
       "    }\n",
       "</style>\n",
       "<table border=\"1\" class=\"dataframe\">\n",
       "  <thead>\n",
       "    <tr style=\"text-align: right;\">\n",
       "      <th></th>\n",
       "      <th>gap_</th>\n",
       "      <th>uuid</th>\n",
       "      <th>failed</th>\n",
       "      <th>useful</th>\n",
       "      <th>BndsRnXp</th>\n",
       "      <th>FFTGvecs</th>\n",
       "      <th>GbndRnge</th>\n",
       "      <th>NGsBlkXp</th>\n",
       "      <th>global_step</th>\n",
       "      <th>parameters_studied</th>\n",
       "    </tr>\n",
       "  </thead>\n",
       "  <tbody>\n",
       "    <tr>\n",
       "      <th>0</th>\n",
       "      <td>5.879072</td>\n",
       "      <td>1197c8e7-981d-4ccc-9108-eea06c3632d5</td>\n",
       "      <td>False</td>\n",
       "      <td>False</td>\n",
       "      <td>200</td>\n",
       "      <td>21</td>\n",
       "      <td>200</td>\n",
       "      <td>4</td>\n",
       "      <td>1</td>\n",
       "      <td>FFTGvecs</td>\n",
       "    </tr>\n",
       "    <tr>\n",
       "      <th>1</th>\n",
       "      <td>5.866152</td>\n",
       "      <td>aa433d73-ba7a-48f8-89ab-a95328ad5628</td>\n",
       "      <td>False</td>\n",
       "      <td>False</td>\n",
       "      <td>200</td>\n",
       "      <td>37</td>\n",
       "      <td>200</td>\n",
       "      <td>4</td>\n",
       "      <td>2</td>\n",
       "      <td>FFTGvecs</td>\n",
       "    </tr>\n",
       "    <tr>\n",
       "      <th>2</th>\n",
       "      <td>5.865376</td>\n",
       "      <td>6f05b410-90ed-4614-8296-cdef9cdf6a32</td>\n",
       "      <td>False</td>\n",
       "      <td>False</td>\n",
       "      <td>200</td>\n",
       "      <td>45</td>\n",
       "      <td>200</td>\n",
       "      <td>4</td>\n",
       "      <td>3</td>\n",
       "      <td>FFTGvecs</td>\n",
       "    </tr>\n",
       "    <tr>\n",
       "      <th>3</th>\n",
       "      <td>5.859457</td>\n",
       "      <td>2b34a618-2325-4845-80c8-f0c7c77beac5</td>\n",
       "      <td>False</td>\n",
       "      <td>False</td>\n",
       "      <td>200</td>\n",
       "      <td>58</td>\n",
       "      <td>200</td>\n",
       "      <td>4</td>\n",
       "      <td>4</td>\n",
       "      <td>FFTGvecs</td>\n",
       "    </tr>\n",
       "    <tr>\n",
       "      <th>4</th>\n",
       "      <td>6.293979</td>\n",
       "      <td>af272e4f-c5aa-47ef-93ec-c14ac7b0350c</td>\n",
       "      <td>False</td>\n",
       "      <td>True</td>\n",
       "      <td>80</td>\n",
       "      <td>21</td>\n",
       "      <td>80</td>\n",
       "      <td>2</td>\n",
       "      <td>5</td>\n",
       "      <td>BndsRnXp, GbndRnge, NGsBlkXp</td>\n",
       "    </tr>\n",
       "    <tr>\n",
       "      <th>5</th>\n",
       "      <td>6.280235</td>\n",
       "      <td>c7fd1b76-f95a-431b-8cbb-574ca935665d</td>\n",
       "      <td>False</td>\n",
       "      <td>False</td>\n",
       "      <td>400</td>\n",
       "      <td>21</td>\n",
       "      <td>400</td>\n",
       "      <td>2</td>\n",
       "      <td>6</td>\n",
       "      <td>BndsRnXp, GbndRnge, NGsBlkXp</td>\n",
       "    </tr>\n",
       "    <tr>\n",
       "      <th>6</th>\n",
       "      <td>5.946686</td>\n",
       "      <td>3987575d-c056-4e3e-8ff8-ba4f431a0312</td>\n",
       "      <td>False</td>\n",
       "      <td>False</td>\n",
       "      <td>80</td>\n",
       "      <td>21</td>\n",
       "      <td>80</td>\n",
       "      <td>8</td>\n",
       "      <td>7</td>\n",
       "      <td>BndsRnXp, GbndRnge, NGsBlkXp</td>\n",
       "    </tr>\n",
       "    <tr>\n",
       "      <th>7</th>\n",
       "      <td>5.896408</td>\n",
       "      <td>8be9bd35-6042-4b68-a32d-a83a78892a60</td>\n",
       "      <td>False</td>\n",
       "      <td>False</td>\n",
       "      <td>180</td>\n",
       "      <td>21</td>\n",
       "      <td>180</td>\n",
       "      <td>6</td>\n",
       "      <td>8</td>\n",
       "      <td>BndsRnXp, GbndRnge, NGsBlkXp</td>\n",
       "    </tr>\n",
       "    <tr>\n",
       "      <th>8</th>\n",
       "      <td>5.876000</td>\n",
       "      <td>74297842-de22-4847-aaee-2284eb77e471</td>\n",
       "      <td>False</td>\n",
       "      <td>False</td>\n",
       "      <td>280</td>\n",
       "      <td>21</td>\n",
       "      <td>280</td>\n",
       "      <td>4</td>\n",
       "      <td>9</td>\n",
       "      <td>BndsRnXp, GbndRnge, NGsBlkXp</td>\n",
       "    </tr>\n",
       "    <tr>\n",
       "      <th>9</th>\n",
       "      <td>5.925063</td>\n",
       "      <td>08e90f06-b702-4456-a10f-8dcb4ddfa11c</td>\n",
       "      <td>False</td>\n",
       "      <td>False</td>\n",
       "      <td>400</td>\n",
       "      <td>21</td>\n",
       "      <td>400</td>\n",
       "      <td>8</td>\n",
       "      <td>10</td>\n",
       "      <td>BndsRnXp, GbndRnge, NGsBlkXp</td>\n",
       "    </tr>\n",
       "  </tbody>\n",
       "</table>\n",
       "</div>"
      ],
      "text/plain": [
       "       gap_                                  uuid  failed  useful  BndsRnXp   \n",
       "0  5.879072  1197c8e7-981d-4ccc-9108-eea06c3632d5   False   False       200  \\\n",
       "1  5.866152  aa433d73-ba7a-48f8-89ab-a95328ad5628   False   False       200   \n",
       "2  5.865376  6f05b410-90ed-4614-8296-cdef9cdf6a32   False   False       200   \n",
       "3  5.859457  2b34a618-2325-4845-80c8-f0c7c77beac5   False   False       200   \n",
       "4  6.293979  af272e4f-c5aa-47ef-93ec-c14ac7b0350c   False    True        80   \n",
       "5  6.280235  c7fd1b76-f95a-431b-8cbb-574ca935665d   False   False       400   \n",
       "6  5.946686  3987575d-c056-4e3e-8ff8-ba4f431a0312   False   False        80   \n",
       "7  5.896408  8be9bd35-6042-4b68-a32d-a83a78892a60   False   False       180   \n",
       "8  5.876000  74297842-de22-4847-aaee-2284eb77e471   False   False       280   \n",
       "9  5.925063  08e90f06-b702-4456-a10f-8dcb4ddfa11c   False   False       400   \n",
       "\n",
       "   FFTGvecs  GbndRnge  NGsBlkXp  global_step            parameters_studied  \n",
       "0        21       200         4            1                      FFTGvecs  \n",
       "1        37       200         4            2                      FFTGvecs  \n",
       "2        45       200         4            3                      FFTGvecs  \n",
       "3        58       200         4            4                      FFTGvecs  \n",
       "4        21        80         2            5  BndsRnXp, GbndRnge, NGsBlkXp  \n",
       "5        21       400         2            6  BndsRnXp, GbndRnge, NGsBlkXp  \n",
       "6        21        80         8            7  BndsRnXp, GbndRnge, NGsBlkXp  \n",
       "7        21       180         6            8  BndsRnXp, GbndRnge, NGsBlkXp  \n",
       "8        21       280         4            9  BndsRnXp, GbndRnge, NGsBlkXp  \n",
       "9        21       400         8           10  BndsRnXp, GbndRnge, NGsBlkXp  "
      ]
     },
     "execution_count": 38,
     "metadata": {},
     "output_type": "execute_result"
    }
   ],
   "source": [
    "history_table"
   ]
  },
  {
   "cell_type": "markdown",
   "id": "f83760c6",
   "metadata": {},
   "source": [
    "The converged calculations can be easily observed using:"
   ]
  },
  {
   "cell_type": "code",
   "execution_count": 39,
   "id": "bffc7445",
   "metadata": {},
   "outputs": [
    {
     "data": {
      "text/html": [
       "<div>\n",
       "<style scoped>\n",
       "    .dataframe tbody tr th:only-of-type {\n",
       "        vertical-align: middle;\n",
       "    }\n",
       "\n",
       "    .dataframe tbody tr th {\n",
       "        vertical-align: top;\n",
       "    }\n",
       "\n",
       "    .dataframe thead th {\n",
       "        text-align: right;\n",
       "    }\n",
       "</style>\n",
       "<table border=\"1\" class=\"dataframe\">\n",
       "  <thead>\n",
       "    <tr style=\"text-align: right;\">\n",
       "      <th></th>\n",
       "      <th>gap_</th>\n",
       "      <th>uuid</th>\n",
       "      <th>failed</th>\n",
       "      <th>useful</th>\n",
       "      <th>BndsRnXp</th>\n",
       "      <th>FFTGvecs</th>\n",
       "      <th>GbndRnge</th>\n",
       "      <th>NGsBlkXp</th>\n",
       "      <th>global_step</th>\n",
       "      <th>parameters_studied</th>\n",
       "    </tr>\n",
       "  </thead>\n",
       "  <tbody>\n",
       "    <tr>\n",
       "      <th>4</th>\n",
       "      <td>6.293979</td>\n",
       "      <td>af272e4f-c5aa-47ef-93ec-c14ac7b0350c</td>\n",
       "      <td>False</td>\n",
       "      <td>True</td>\n",
       "      <td>80</td>\n",
       "      <td>21</td>\n",
       "      <td>80</td>\n",
       "      <td>2</td>\n",
       "      <td>5</td>\n",
       "      <td>BndsRnXp, GbndRnge, NGsBlkXp</td>\n",
       "    </tr>\n",
       "  </tbody>\n",
       "</table>\n",
       "</div>"
      ],
      "text/plain": [
       "       gap_                                  uuid  failed  useful  BndsRnXp   \n",
       "4  6.293979  af272e4f-c5aa-47ef-93ec-c14ac7b0350c   False    True        80  \\\n",
       "\n",
       "   FFTGvecs  GbndRnge  NGsBlkXp  global_step            parameters_studied  \n",
       "4        21        80         2            5  BndsRnXp, GbndRnge, NGsBlkXp  "
      ]
     },
     "execution_count": 39,
     "metadata": {},
     "output_type": "execute_result"
    }
   ],
   "source": [
    "history_table[history_table['useful']==True]"
   ]
  },
  {
   "cell_type": "markdown",
   "id": "53a3541b",
   "metadata": {},
   "source": [
    "Result on the convergence path can be plotted using several plotting libraries, for examples here we are gonna use [plotly]((https://plotly.com/python/3d-line-plots/)) to observe the convergence between bands and plane wave cutoff for the screening matrix:"
   ]
  },
  {
   "cell_type": "code",
   "execution_count": 42,
   "id": "634a1f43",
   "metadata": {},
   "outputs": [
    {
     "data": {
      "application/vnd.plotly.v1+json": {
       "config": {
        "plotlyServerURL": "https://plot.ly"
       },
       "data": [
        {
         "hovertemplate": "BndsRnXp=%{x}<br>NGsBlkXp=%{y}<br>gap_=%{z}<extra></extra>",
         "legendgroup": "",
         "marker": {
          "color": "#636efa",
          "symbol": "circle"
         },
         "mode": "markers",
         "name": "",
         "scene": "scene",
         "showlegend": false,
         "type": "scatter3d",
         "x": [
          80,
          400,
          80,
          180,
          280,
          400
         ],
         "y": [
          2,
          2,
          8,
          6,
          4,
          8
         ],
         "z": [
          6.2939792856842,
          6.2802354916751,
          5.9466864445627,
          5.896407960251,
          5.8760004839659,
          5.9250625239044
         ]
        }
       ],
       "layout": {
        "legend": {
         "tracegroupgap": 0
        },
        "margin": {
         "t": 60
        },
        "scene": {
         "domain": {
          "x": [
           0,
           1
          ],
          "y": [
           0,
           1
          ]
         },
         "xaxis": {
          "title": {
           "text": "BndsRnXp"
          }
         },
         "yaxis": {
          "title": {
           "text": "NGsBlkXp"
          }
         },
         "zaxis": {
          "title": {
           "text": "gap_"
          }
         }
        },
        "template": {
         "data": {
          "bar": [
           {
            "error_x": {
             "color": "#2a3f5f"
            },
            "error_y": {
             "color": "#2a3f5f"
            },
            "marker": {
             "line": {
              "color": "#E5ECF6",
              "width": 0.5
             },
             "pattern": {
              "fillmode": "overlay",
              "size": 10,
              "solidity": 0.2
             }
            },
            "type": "bar"
           }
          ],
          "barpolar": [
           {
            "marker": {
             "line": {
              "color": "#E5ECF6",
              "width": 0.5
             },
             "pattern": {
              "fillmode": "overlay",
              "size": 10,
              "solidity": 0.2
             }
            },
            "type": "barpolar"
           }
          ],
          "carpet": [
           {
            "aaxis": {
             "endlinecolor": "#2a3f5f",
             "gridcolor": "white",
             "linecolor": "white",
             "minorgridcolor": "white",
             "startlinecolor": "#2a3f5f"
            },
            "baxis": {
             "endlinecolor": "#2a3f5f",
             "gridcolor": "white",
             "linecolor": "white",
             "minorgridcolor": "white",
             "startlinecolor": "#2a3f5f"
            },
            "type": "carpet"
           }
          ],
          "choropleth": [
           {
            "colorbar": {
             "outlinewidth": 0,
             "ticks": ""
            },
            "type": "choropleth"
           }
          ],
          "contour": [
           {
            "colorbar": {
             "outlinewidth": 0,
             "ticks": ""
            },
            "colorscale": [
             [
              0,
              "#0d0887"
             ],
             [
              0.1111111111111111,
              "#46039f"
             ],
             [
              0.2222222222222222,
              "#7201a8"
             ],
             [
              0.3333333333333333,
              "#9c179e"
             ],
             [
              0.4444444444444444,
              "#bd3786"
             ],
             [
              0.5555555555555556,
              "#d8576b"
             ],
             [
              0.6666666666666666,
              "#ed7953"
             ],
             [
              0.7777777777777778,
              "#fb9f3a"
             ],
             [
              0.8888888888888888,
              "#fdca26"
             ],
             [
              1,
              "#f0f921"
             ]
            ],
            "type": "contour"
           }
          ],
          "contourcarpet": [
           {
            "colorbar": {
             "outlinewidth": 0,
             "ticks": ""
            },
            "type": "contourcarpet"
           }
          ],
          "heatmap": [
           {
            "colorbar": {
             "outlinewidth": 0,
             "ticks": ""
            },
            "colorscale": [
             [
              0,
              "#0d0887"
             ],
             [
              0.1111111111111111,
              "#46039f"
             ],
             [
              0.2222222222222222,
              "#7201a8"
             ],
             [
              0.3333333333333333,
              "#9c179e"
             ],
             [
              0.4444444444444444,
              "#bd3786"
             ],
             [
              0.5555555555555556,
              "#d8576b"
             ],
             [
              0.6666666666666666,
              "#ed7953"
             ],
             [
              0.7777777777777778,
              "#fb9f3a"
             ],
             [
              0.8888888888888888,
              "#fdca26"
             ],
             [
              1,
              "#f0f921"
             ]
            ],
            "type": "heatmap"
           }
          ],
          "heatmapgl": [
           {
            "colorbar": {
             "outlinewidth": 0,
             "ticks": ""
            },
            "colorscale": [
             [
              0,
              "#0d0887"
             ],
             [
              0.1111111111111111,
              "#46039f"
             ],
             [
              0.2222222222222222,
              "#7201a8"
             ],
             [
              0.3333333333333333,
              "#9c179e"
             ],
             [
              0.4444444444444444,
              "#bd3786"
             ],
             [
              0.5555555555555556,
              "#d8576b"
             ],
             [
              0.6666666666666666,
              "#ed7953"
             ],
             [
              0.7777777777777778,
              "#fb9f3a"
             ],
             [
              0.8888888888888888,
              "#fdca26"
             ],
             [
              1,
              "#f0f921"
             ]
            ],
            "type": "heatmapgl"
           }
          ],
          "histogram": [
           {
            "marker": {
             "pattern": {
              "fillmode": "overlay",
              "size": 10,
              "solidity": 0.2
             }
            },
            "type": "histogram"
           }
          ],
          "histogram2d": [
           {
            "colorbar": {
             "outlinewidth": 0,
             "ticks": ""
            },
            "colorscale": [
             [
              0,
              "#0d0887"
             ],
             [
              0.1111111111111111,
              "#46039f"
             ],
             [
              0.2222222222222222,
              "#7201a8"
             ],
             [
              0.3333333333333333,
              "#9c179e"
             ],
             [
              0.4444444444444444,
              "#bd3786"
             ],
             [
              0.5555555555555556,
              "#d8576b"
             ],
             [
              0.6666666666666666,
              "#ed7953"
             ],
             [
              0.7777777777777778,
              "#fb9f3a"
             ],
             [
              0.8888888888888888,
              "#fdca26"
             ],
             [
              1,
              "#f0f921"
             ]
            ],
            "type": "histogram2d"
           }
          ],
          "histogram2dcontour": [
           {
            "colorbar": {
             "outlinewidth": 0,
             "ticks": ""
            },
            "colorscale": [
             [
              0,
              "#0d0887"
             ],
             [
              0.1111111111111111,
              "#46039f"
             ],
             [
              0.2222222222222222,
              "#7201a8"
             ],
             [
              0.3333333333333333,
              "#9c179e"
             ],
             [
              0.4444444444444444,
              "#bd3786"
             ],
             [
              0.5555555555555556,
              "#d8576b"
             ],
             [
              0.6666666666666666,
              "#ed7953"
             ],
             [
              0.7777777777777778,
              "#fb9f3a"
             ],
             [
              0.8888888888888888,
              "#fdca26"
             ],
             [
              1,
              "#f0f921"
             ]
            ],
            "type": "histogram2dcontour"
           }
          ],
          "mesh3d": [
           {
            "colorbar": {
             "outlinewidth": 0,
             "ticks": ""
            },
            "type": "mesh3d"
           }
          ],
          "parcoords": [
           {
            "line": {
             "colorbar": {
              "outlinewidth": 0,
              "ticks": ""
             }
            },
            "type": "parcoords"
           }
          ],
          "pie": [
           {
            "automargin": true,
            "type": "pie"
           }
          ],
          "scatter": [
           {
            "fillpattern": {
             "fillmode": "overlay",
             "size": 10,
             "solidity": 0.2
            },
            "type": "scatter"
           }
          ],
          "scatter3d": [
           {
            "line": {
             "colorbar": {
              "outlinewidth": 0,
              "ticks": ""
             }
            },
            "marker": {
             "colorbar": {
              "outlinewidth": 0,
              "ticks": ""
             }
            },
            "type": "scatter3d"
           }
          ],
          "scattercarpet": [
           {
            "marker": {
             "colorbar": {
              "outlinewidth": 0,
              "ticks": ""
             }
            },
            "type": "scattercarpet"
           }
          ],
          "scattergeo": [
           {
            "marker": {
             "colorbar": {
              "outlinewidth": 0,
              "ticks": ""
             }
            },
            "type": "scattergeo"
           }
          ],
          "scattergl": [
           {
            "marker": {
             "colorbar": {
              "outlinewidth": 0,
              "ticks": ""
             }
            },
            "type": "scattergl"
           }
          ],
          "scattermapbox": [
           {
            "marker": {
             "colorbar": {
              "outlinewidth": 0,
              "ticks": ""
             }
            },
            "type": "scattermapbox"
           }
          ],
          "scatterpolar": [
           {
            "marker": {
             "colorbar": {
              "outlinewidth": 0,
              "ticks": ""
             }
            },
            "type": "scatterpolar"
           }
          ],
          "scatterpolargl": [
           {
            "marker": {
             "colorbar": {
              "outlinewidth": 0,
              "ticks": ""
             }
            },
            "type": "scatterpolargl"
           }
          ],
          "scatterternary": [
           {
            "marker": {
             "colorbar": {
              "outlinewidth": 0,
              "ticks": ""
             }
            },
            "type": "scatterternary"
           }
          ],
          "surface": [
           {
            "colorbar": {
             "outlinewidth": 0,
             "ticks": ""
            },
            "colorscale": [
             [
              0,
              "#0d0887"
             ],
             [
              0.1111111111111111,
              "#46039f"
             ],
             [
              0.2222222222222222,
              "#7201a8"
             ],
             [
              0.3333333333333333,
              "#9c179e"
             ],
             [
              0.4444444444444444,
              "#bd3786"
             ],
             [
              0.5555555555555556,
              "#d8576b"
             ],
             [
              0.6666666666666666,
              "#ed7953"
             ],
             [
              0.7777777777777778,
              "#fb9f3a"
             ],
             [
              0.8888888888888888,
              "#fdca26"
             ],
             [
              1,
              "#f0f921"
             ]
            ],
            "type": "surface"
           }
          ],
          "table": [
           {
            "cells": {
             "fill": {
              "color": "#EBF0F8"
             },
             "line": {
              "color": "white"
             }
            },
            "header": {
             "fill": {
              "color": "#C8D4E3"
             },
             "line": {
              "color": "white"
             }
            },
            "type": "table"
           }
          ]
         },
         "layout": {
          "annotationdefaults": {
           "arrowcolor": "#2a3f5f",
           "arrowhead": 0,
           "arrowwidth": 1
          },
          "autotypenumbers": "strict",
          "coloraxis": {
           "colorbar": {
            "outlinewidth": 0,
            "ticks": ""
           }
          },
          "colorscale": {
           "diverging": [
            [
             0,
             "#8e0152"
            ],
            [
             0.1,
             "#c51b7d"
            ],
            [
             0.2,
             "#de77ae"
            ],
            [
             0.3,
             "#f1b6da"
            ],
            [
             0.4,
             "#fde0ef"
            ],
            [
             0.5,
             "#f7f7f7"
            ],
            [
             0.6,
             "#e6f5d0"
            ],
            [
             0.7,
             "#b8e186"
            ],
            [
             0.8,
             "#7fbc41"
            ],
            [
             0.9,
             "#4d9221"
            ],
            [
             1,
             "#276419"
            ]
           ],
           "sequential": [
            [
             0,
             "#0d0887"
            ],
            [
             0.1111111111111111,
             "#46039f"
            ],
            [
             0.2222222222222222,
             "#7201a8"
            ],
            [
             0.3333333333333333,
             "#9c179e"
            ],
            [
             0.4444444444444444,
             "#bd3786"
            ],
            [
             0.5555555555555556,
             "#d8576b"
            ],
            [
             0.6666666666666666,
             "#ed7953"
            ],
            [
             0.7777777777777778,
             "#fb9f3a"
            ],
            [
             0.8888888888888888,
             "#fdca26"
            ],
            [
             1,
             "#f0f921"
            ]
           ],
           "sequentialminus": [
            [
             0,
             "#0d0887"
            ],
            [
             0.1111111111111111,
             "#46039f"
            ],
            [
             0.2222222222222222,
             "#7201a8"
            ],
            [
             0.3333333333333333,
             "#9c179e"
            ],
            [
             0.4444444444444444,
             "#bd3786"
            ],
            [
             0.5555555555555556,
             "#d8576b"
            ],
            [
             0.6666666666666666,
             "#ed7953"
            ],
            [
             0.7777777777777778,
             "#fb9f3a"
            ],
            [
             0.8888888888888888,
             "#fdca26"
            ],
            [
             1,
             "#f0f921"
            ]
           ]
          },
          "colorway": [
           "#636efa",
           "#EF553B",
           "#00cc96",
           "#ab63fa",
           "#FFA15A",
           "#19d3f3",
           "#FF6692",
           "#B6E880",
           "#FF97FF",
           "#FECB52"
          ],
          "font": {
           "color": "#2a3f5f"
          },
          "geo": {
           "bgcolor": "white",
           "lakecolor": "white",
           "landcolor": "#E5ECF6",
           "showlakes": true,
           "showland": true,
           "subunitcolor": "white"
          },
          "hoverlabel": {
           "align": "left"
          },
          "hovermode": "closest",
          "mapbox": {
           "style": "light"
          },
          "paper_bgcolor": "white",
          "plot_bgcolor": "#E5ECF6",
          "polar": {
           "angularaxis": {
            "gridcolor": "white",
            "linecolor": "white",
            "ticks": ""
           },
           "bgcolor": "#E5ECF6",
           "radialaxis": {
            "gridcolor": "white",
            "linecolor": "white",
            "ticks": ""
           }
          },
          "scene": {
           "xaxis": {
            "backgroundcolor": "#E5ECF6",
            "gridcolor": "white",
            "gridwidth": 2,
            "linecolor": "white",
            "showbackground": true,
            "ticks": "",
            "zerolinecolor": "white"
           },
           "yaxis": {
            "backgroundcolor": "#E5ECF6",
            "gridcolor": "white",
            "gridwidth": 2,
            "linecolor": "white",
            "showbackground": true,
            "ticks": "",
            "zerolinecolor": "white"
           },
           "zaxis": {
            "backgroundcolor": "#E5ECF6",
            "gridcolor": "white",
            "gridwidth": 2,
            "linecolor": "white",
            "showbackground": true,
            "ticks": "",
            "zerolinecolor": "white"
           }
          },
          "shapedefaults": {
           "line": {
            "color": "#2a3f5f"
           }
          },
          "ternary": {
           "aaxis": {
            "gridcolor": "white",
            "linecolor": "white",
            "ticks": ""
           },
           "baxis": {
            "gridcolor": "white",
            "linecolor": "white",
            "ticks": ""
           },
           "bgcolor": "#E5ECF6",
           "caxis": {
            "gridcolor": "white",
            "linecolor": "white",
            "ticks": ""
           }
          },
          "title": {
           "x": 0.05
          },
          "xaxis": {
           "automargin": true,
           "gridcolor": "white",
           "linecolor": "white",
           "ticks": "",
           "title": {
            "standoff": 15
           },
           "zerolinecolor": "white",
           "zerolinewidth": 2
          },
          "yaxis": {
           "automargin": true,
           "gridcolor": "white",
           "linecolor": "white",
           "ticks": "",
           "title": {
            "standoff": 15
           },
           "zerolinecolor": "white",
           "zerolinewidth": 2
          }
         }
        }
       }
      },
      "text/html": [
       "<div>                            <div id=\"58dfef16-f84b-4235-ba9b-10b869253502\" class=\"plotly-graph-div\" style=\"height:525px; width:100%;\"></div>            <script type=\"text/javascript\">                require([\"plotly\"], function(Plotly) {                    window.PLOTLYENV=window.PLOTLYENV || {};                                    if (document.getElementById(\"58dfef16-f84b-4235-ba9b-10b869253502\")) {                    Plotly.newPlot(                        \"58dfef16-f84b-4235-ba9b-10b869253502\",                        [{\"hovertemplate\":\"BndsRnXp=%{x}<br>NGsBlkXp=%{y}<br>gap_=%{z}<extra></extra>\",\"legendgroup\":\"\",\"marker\":{\"color\":\"#636efa\",\"symbol\":\"circle\"},\"mode\":\"markers\",\"name\":\"\",\"scene\":\"scene\",\"showlegend\":false,\"x\":[80,400,80,180,280,400],\"y\":[2,2,8,6,4,8],\"z\":[6.2939792856842,6.2802354916751,5.9466864445627,5.896407960251,5.8760004839659,5.9250625239044],\"type\":\"scatter3d\"}],                        {\"template\":{\"data\":{\"histogram2dcontour\":[{\"type\":\"histogram2dcontour\",\"colorbar\":{\"outlinewidth\":0,\"ticks\":\"\"},\"colorscale\":[[0.0,\"#0d0887\"],[0.1111111111111111,\"#46039f\"],[0.2222222222222222,\"#7201a8\"],[0.3333333333333333,\"#9c179e\"],[0.4444444444444444,\"#bd3786\"],[0.5555555555555556,\"#d8576b\"],[0.6666666666666666,\"#ed7953\"],[0.7777777777777778,\"#fb9f3a\"],[0.8888888888888888,\"#fdca26\"],[1.0,\"#f0f921\"]]}],\"choropleth\":[{\"type\":\"choropleth\",\"colorbar\":{\"outlinewidth\":0,\"ticks\":\"\"}}],\"histogram2d\":[{\"type\":\"histogram2d\",\"colorbar\":{\"outlinewidth\":0,\"ticks\":\"\"},\"colorscale\":[[0.0,\"#0d0887\"],[0.1111111111111111,\"#46039f\"],[0.2222222222222222,\"#7201a8\"],[0.3333333333333333,\"#9c179e\"],[0.4444444444444444,\"#bd3786\"],[0.5555555555555556,\"#d8576b\"],[0.6666666666666666,\"#ed7953\"],[0.7777777777777778,\"#fb9f3a\"],[0.8888888888888888,\"#fdca26\"],[1.0,\"#f0f921\"]]}],\"heatmap\":[{\"type\":\"heatmap\",\"colorbar\":{\"outlinewidth\":0,\"ticks\":\"\"},\"colorscale\":[[0.0,\"#0d0887\"],[0.1111111111111111,\"#46039f\"],[0.2222222222222222,\"#7201a8\"],[0.3333333333333333,\"#9c179e\"],[0.4444444444444444,\"#bd3786\"],[0.5555555555555556,\"#d8576b\"],[0.6666666666666666,\"#ed7953\"],[0.7777777777777778,\"#fb9f3a\"],[0.8888888888888888,\"#fdca26\"],[1.0,\"#f0f921\"]]}],\"heatmapgl\":[{\"type\":\"heatmapgl\",\"colorbar\":{\"outlinewidth\":0,\"ticks\":\"\"},\"colorscale\":[[0.0,\"#0d0887\"],[0.1111111111111111,\"#46039f\"],[0.2222222222222222,\"#7201a8\"],[0.3333333333333333,\"#9c179e\"],[0.4444444444444444,\"#bd3786\"],[0.5555555555555556,\"#d8576b\"],[0.6666666666666666,\"#ed7953\"],[0.7777777777777778,\"#fb9f3a\"],[0.8888888888888888,\"#fdca26\"],[1.0,\"#f0f921\"]]}],\"contourcarpet\":[{\"type\":\"contourcarpet\",\"colorbar\":{\"outlinewidth\":0,\"ticks\":\"\"}}],\"contour\":[{\"type\":\"contour\",\"colorbar\":{\"outlinewidth\":0,\"ticks\":\"\"},\"colorscale\":[[0.0,\"#0d0887\"],[0.1111111111111111,\"#46039f\"],[0.2222222222222222,\"#7201a8\"],[0.3333333333333333,\"#9c179e\"],[0.4444444444444444,\"#bd3786\"],[0.5555555555555556,\"#d8576b\"],[0.6666666666666666,\"#ed7953\"],[0.7777777777777778,\"#fb9f3a\"],[0.8888888888888888,\"#fdca26\"],[1.0,\"#f0f921\"]]}],\"surface\":[{\"type\":\"surface\",\"colorbar\":{\"outlinewidth\":0,\"ticks\":\"\"},\"colorscale\":[[0.0,\"#0d0887\"],[0.1111111111111111,\"#46039f\"],[0.2222222222222222,\"#7201a8\"],[0.3333333333333333,\"#9c179e\"],[0.4444444444444444,\"#bd3786\"],[0.5555555555555556,\"#d8576b\"],[0.6666666666666666,\"#ed7953\"],[0.7777777777777778,\"#fb9f3a\"],[0.8888888888888888,\"#fdca26\"],[1.0,\"#f0f921\"]]}],\"mesh3d\":[{\"type\":\"mesh3d\",\"colorbar\":{\"outlinewidth\":0,\"ticks\":\"\"}}],\"scatter\":[{\"fillpattern\":{\"fillmode\":\"overlay\",\"size\":10,\"solidity\":0.2},\"type\":\"scatter\"}],\"parcoords\":[{\"type\":\"parcoords\",\"line\":{\"colorbar\":{\"outlinewidth\":0,\"ticks\":\"\"}}}],\"scatterpolargl\":[{\"type\":\"scatterpolargl\",\"marker\":{\"colorbar\":{\"outlinewidth\":0,\"ticks\":\"\"}}}],\"bar\":[{\"error_x\":{\"color\":\"#2a3f5f\"},\"error_y\":{\"color\":\"#2a3f5f\"},\"marker\":{\"line\":{\"color\":\"#E5ECF6\",\"width\":0.5},\"pattern\":{\"fillmode\":\"overlay\",\"size\":10,\"solidity\":0.2}},\"type\":\"bar\"}],\"scattergeo\":[{\"type\":\"scattergeo\",\"marker\":{\"colorbar\":{\"outlinewidth\":0,\"ticks\":\"\"}}}],\"scatterpolar\":[{\"type\":\"scatterpolar\",\"marker\":{\"colorbar\":{\"outlinewidth\":0,\"ticks\":\"\"}}}],\"histogram\":[{\"marker\":{\"pattern\":{\"fillmode\":\"overlay\",\"size\":10,\"solidity\":0.2}},\"type\":\"histogram\"}],\"scattergl\":[{\"type\":\"scattergl\",\"marker\":{\"colorbar\":{\"outlinewidth\":0,\"ticks\":\"\"}}}],\"scatter3d\":[{\"type\":\"scatter3d\",\"line\":{\"colorbar\":{\"outlinewidth\":0,\"ticks\":\"\"}},\"marker\":{\"colorbar\":{\"outlinewidth\":0,\"ticks\":\"\"}}}],\"scattermapbox\":[{\"type\":\"scattermapbox\",\"marker\":{\"colorbar\":{\"outlinewidth\":0,\"ticks\":\"\"}}}],\"scatterternary\":[{\"type\":\"scatterternary\",\"marker\":{\"colorbar\":{\"outlinewidth\":0,\"ticks\":\"\"}}}],\"scattercarpet\":[{\"type\":\"scattercarpet\",\"marker\":{\"colorbar\":{\"outlinewidth\":0,\"ticks\":\"\"}}}],\"carpet\":[{\"aaxis\":{\"endlinecolor\":\"#2a3f5f\",\"gridcolor\":\"white\",\"linecolor\":\"white\",\"minorgridcolor\":\"white\",\"startlinecolor\":\"#2a3f5f\"},\"baxis\":{\"endlinecolor\":\"#2a3f5f\",\"gridcolor\":\"white\",\"linecolor\":\"white\",\"minorgridcolor\":\"white\",\"startlinecolor\":\"#2a3f5f\"},\"type\":\"carpet\"}],\"table\":[{\"cells\":{\"fill\":{\"color\":\"#EBF0F8\"},\"line\":{\"color\":\"white\"}},\"header\":{\"fill\":{\"color\":\"#C8D4E3\"},\"line\":{\"color\":\"white\"}},\"type\":\"table\"}],\"barpolar\":[{\"marker\":{\"line\":{\"color\":\"#E5ECF6\",\"width\":0.5},\"pattern\":{\"fillmode\":\"overlay\",\"size\":10,\"solidity\":0.2}},\"type\":\"barpolar\"}],\"pie\":[{\"automargin\":true,\"type\":\"pie\"}]},\"layout\":{\"autotypenumbers\":\"strict\",\"colorway\":[\"#636efa\",\"#EF553B\",\"#00cc96\",\"#ab63fa\",\"#FFA15A\",\"#19d3f3\",\"#FF6692\",\"#B6E880\",\"#FF97FF\",\"#FECB52\"],\"font\":{\"color\":\"#2a3f5f\"},\"hovermode\":\"closest\",\"hoverlabel\":{\"align\":\"left\"},\"paper_bgcolor\":\"white\",\"plot_bgcolor\":\"#E5ECF6\",\"polar\":{\"bgcolor\":\"#E5ECF6\",\"angularaxis\":{\"gridcolor\":\"white\",\"linecolor\":\"white\",\"ticks\":\"\"},\"radialaxis\":{\"gridcolor\":\"white\",\"linecolor\":\"white\",\"ticks\":\"\"}},\"ternary\":{\"bgcolor\":\"#E5ECF6\",\"aaxis\":{\"gridcolor\":\"white\",\"linecolor\":\"white\",\"ticks\":\"\"},\"baxis\":{\"gridcolor\":\"white\",\"linecolor\":\"white\",\"ticks\":\"\"},\"caxis\":{\"gridcolor\":\"white\",\"linecolor\":\"white\",\"ticks\":\"\"}},\"coloraxis\":{\"colorbar\":{\"outlinewidth\":0,\"ticks\":\"\"}},\"colorscale\":{\"sequential\":[[0.0,\"#0d0887\"],[0.1111111111111111,\"#46039f\"],[0.2222222222222222,\"#7201a8\"],[0.3333333333333333,\"#9c179e\"],[0.4444444444444444,\"#bd3786\"],[0.5555555555555556,\"#d8576b\"],[0.6666666666666666,\"#ed7953\"],[0.7777777777777778,\"#fb9f3a\"],[0.8888888888888888,\"#fdca26\"],[1.0,\"#f0f921\"]],\"sequentialminus\":[[0.0,\"#0d0887\"],[0.1111111111111111,\"#46039f\"],[0.2222222222222222,\"#7201a8\"],[0.3333333333333333,\"#9c179e\"],[0.4444444444444444,\"#bd3786\"],[0.5555555555555556,\"#d8576b\"],[0.6666666666666666,\"#ed7953\"],[0.7777777777777778,\"#fb9f3a\"],[0.8888888888888888,\"#fdca26\"],[1.0,\"#f0f921\"]],\"diverging\":[[0,\"#8e0152\"],[0.1,\"#c51b7d\"],[0.2,\"#de77ae\"],[0.3,\"#f1b6da\"],[0.4,\"#fde0ef\"],[0.5,\"#f7f7f7\"],[0.6,\"#e6f5d0\"],[0.7,\"#b8e186\"],[0.8,\"#7fbc41\"],[0.9,\"#4d9221\"],[1,\"#276419\"]]},\"xaxis\":{\"gridcolor\":\"white\",\"linecolor\":\"white\",\"ticks\":\"\",\"title\":{\"standoff\":15},\"zerolinecolor\":\"white\",\"automargin\":true,\"zerolinewidth\":2},\"yaxis\":{\"gridcolor\":\"white\",\"linecolor\":\"white\",\"ticks\":\"\",\"title\":{\"standoff\":15},\"zerolinecolor\":\"white\",\"automargin\":true,\"zerolinewidth\":2},\"scene\":{\"xaxis\":{\"backgroundcolor\":\"#E5ECF6\",\"gridcolor\":\"white\",\"linecolor\":\"white\",\"showbackground\":true,\"ticks\":\"\",\"zerolinecolor\":\"white\",\"gridwidth\":2},\"yaxis\":{\"backgroundcolor\":\"#E5ECF6\",\"gridcolor\":\"white\",\"linecolor\":\"white\",\"showbackground\":true,\"ticks\":\"\",\"zerolinecolor\":\"white\",\"gridwidth\":2},\"zaxis\":{\"backgroundcolor\":\"#E5ECF6\",\"gridcolor\":\"white\",\"linecolor\":\"white\",\"showbackground\":true,\"ticks\":\"\",\"zerolinecolor\":\"white\",\"gridwidth\":2}},\"shapedefaults\":{\"line\":{\"color\":\"#2a3f5f\"}},\"annotationdefaults\":{\"arrowcolor\":\"#2a3f5f\",\"arrowhead\":0,\"arrowwidth\":1},\"geo\":{\"bgcolor\":\"white\",\"landcolor\":\"#E5ECF6\",\"subunitcolor\":\"white\",\"showland\":true,\"showlakes\":true,\"lakecolor\":\"white\"},\"title\":{\"x\":0.05},\"mapbox\":{\"style\":\"light\"}}},\"scene\":{\"domain\":{\"x\":[0.0,1.0],\"y\":[0.0,1.0]},\"xaxis\":{\"title\":{\"text\":\"BndsRnXp\"}},\"yaxis\":{\"title\":{\"text\":\"NGsBlkXp\"}},\"zaxis\":{\"title\":{\"text\":\"gap_\"}}},\"legend\":{\"tracegroupgap\":0},\"margin\":{\"t\":60}},                        {\"responsive\": true}                    ).then(function(){\n",
       "                            \n",
       "var gd = document.getElementById('58dfef16-f84b-4235-ba9b-10b869253502');\n",
       "var x = new MutationObserver(function (mutations, observer) {{\n",
       "        var display = window.getComputedStyle(gd).display;\n",
       "        if (!display || display === 'none') {{\n",
       "            console.log([gd, 'removed!']);\n",
       "            Plotly.purge(gd);\n",
       "            observer.disconnect();\n",
       "        }}\n",
       "}});\n",
       "\n",
       "// Listen for the removal of the full notebook cells\n",
       "var notebookContainer = gd.closest('#notebook-container');\n",
       "if (notebookContainer) {{\n",
       "    x.observe(notebookContainer, {childList: true});\n",
       "}}\n",
       "\n",
       "// Listen for the clearing of the current output cell\n",
       "var outputEl = gd.closest('.output');\n",
       "if (outputEl) {{\n",
       "    x.observe(outputEl, {childList: true});\n",
       "}}\n",
       "\n",
       "                        })                };                });            </script>        </div>"
      ]
     },
     "metadata": {},
     "output_type": "display_data"
    }
   ],
   "source": [
    "import plotly.express as px\n",
    "\n",
    "b_G_history = history_table[history_table['parameters_studied']==\"BndsRnXp, GbndRnge, NGsBlkXp\"]\n",
    "\n",
    "df = b_G_history\n",
    "fig = px.scatter_3d(df, x=\"BndsRnXp\", y=\"NGsBlkXp\", z=\"gap_\") #line=dict(color='red', width=2))\n",
    "fig.show()"
   ]
  }
 ],
 "metadata": {
  "kernelspec": {
   "display_name": "Python 3 (ipykernel)",
   "language": "python",
   "name": "python3"
  },
  "language_info": {
   "codemirror_mode": {
    "name": "ipython",
    "version": 3
   },
   "file_extension": ".py",
   "mimetype": "text/x-python",
   "name": "python",
   "nbconvert_exporter": "python",
   "pygments_lexer": "ipython3",
   "version": "3.10.13"
  }
 },
 "nbformat": 4,
 "nbformat_minor": 5
}
