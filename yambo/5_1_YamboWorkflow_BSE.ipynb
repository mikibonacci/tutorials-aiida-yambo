{
 "cells": [
  {
   "cell_type": "markdown",
   "id": "eac72ceb",
   "metadata": {},
   "source": [
    "# YamboWorkflow: a full DFT+MBPT flow - BSE version\n",
    "\n",
    "In this notebook we will compute the BSE absorption spectrum and excitonic eigenvalues by means of the `YamboWorkflow` workchain of the plugin.\n",
    "We are going to compute exciton starting from a scissor and stretching correction for the DFT eigenvalues. In the next tutorial we will see how to \n",
    "compute G0W0 correction in order to perform BSE@G0W0."
   ]
  },
  {
   "cell_type": "code",
   "execution_count": 22,
   "id": "1b9f54af",
   "metadata": {},
   "outputs": [
    {
     "name": "stdout",
     "output_type": "stream",
     "text": [
      "Summary of the main inputs:\n",
      "BndsRnXs = 150\n",
      "NGsBlkXs = 2 Ry\n",
      "BSENGBlk = 2 Ry\n",
      "FFTGvecs = 24 Ry\n",
      "\n",
      "\n",
      "kpoint mesh for nscf: [6, 6, 6]\n"
     ]
    }
   ],
   "source": [
    "from aiida import orm, load_profile\n",
    "load_profile()\n",
    "\n",
    "from aiida.plugins import WorkflowFactory\n",
    "from aiida.orm import QueryBuilder\n",
    "from aiida.engine import submit\n",
    "\n",
    "from aiida_quantumespresso.common.types import ElectronicType\n",
    "\n",
    "import yaml\n",
    "\n",
    "qb = QueryBuilder()\n",
    "qb.append(orm.Group, filters={'label': 'Silicon/bulk'}, tag='group')\n",
    "qb.append(orm.StructureData, with_group='group')\n",
    "\n",
    "loaded_structure_id = qb.all()[0][0].pk\n",
    "\n",
    "# Read YAML file\n",
    "with open(\"../configuration/codes_localhost.yaml\", 'r') as stream:\n",
    "    codes = yaml.safe_load(stream)\n",
    "    \n",
    "with open(\"../configuration/resources_localhost.yaml\", 'r') as stream:\n",
    "    resources = yaml.safe_load(stream)\n",
    "    \n",
    "options = {\n",
    "    'pseudo_family':\"PseudoDojo/0.4/PBE/SR/standard/upf\",\n",
    "    'protocol':'fast',\n",
    "    #'parent_id':274, #not necessary to set; if you want it, take ytheour previously nscf id (pk) to skip the DFT part.\n",
    "    'structure_id':loaded_structure_id,\n",
    "}\n",
    "\n",
    "YamboWorkflow = WorkflowFactory('yambo.yambo.yambowf')\n",
    "\n",
    "builder = YamboWorkflow.get_builder_from_protocol(\n",
    "            pw_code = codes['pwcode_id'],\n",
    "            preprocessing_code = codes['yamboprecode_id'],\n",
    "            code = codes['yambocode_id'],\n",
    "            protocol=options['protocol'],\n",
    "            protocol_qe=options['protocol'],\n",
    "            structure= orm.load_node(options['structure_id']),\n",
    "            overrides={\n",
    "                'yres': {\"yambo\": {\n",
    "                    \"parameters\": {\n",
    "                        \"variables\": {\n",
    "                            \"NGsBlkXp\": [4, \"Ry\"],\n",
    "                            \"FFTGvecs\": [24, \"Ry\"],\n",
    "                            },\n",
    "                        },\n",
    "                    },\n",
    "                }\n",
    "            },\n",
    "            pseudo_family= options['pseudo_family'],\n",
    "            #parent_folder=orm.load_node(options['parent_id']).outputs.remote_folder,\n",
    "            electronic_type=ElectronicType.INSULATOR, #default is METAL: in that case, smearing is used\n",
    "            calc_type='bse', #or 'bse'; default is 'gw'\n",
    ")\n",
    "\n",
    "builder.scf.pw.metadata.options = resources\n",
    "\n",
    "builder.nscf.pw.metadata.options = builder.scf.pw.metadata.options\n",
    "builder.yres.yambo.metadata.options = builder.scf.pw.metadata.options"
   ]
  },
  {
   "cell_type": "markdown",
   "id": "fcbb8875",
   "metadata": {},
   "source": [
    "For BSE simulation, it is crucial to explicitely put the parallelism instructions in the input parameters.\n",
    "It can be done in the overrides, or we can also re-define the variable `builder.yres.yambo.parameters`:"
   ]
  },
  {
   "cell_type": "code",
   "execution_count": 23,
   "id": "7a976426",
   "metadata": {},
   "outputs": [],
   "source": [
    "builder.yres.yambo.parameters = orm.Dict(\n",
    "    dict={'arguments':['em1s','bse','bss','optics', 'dipoles',],\n",
    "                'variables':{\n",
    "                'BSEmod': 'resonant',\n",
    "                'BSKmod': 'SEX',\n",
    "                'BSSmod': 'd',\n",
    "                'Lkind': 'full',\n",
    "                'NGsBlkXs': [2, 'Ry'],\n",
    "                'BSENGBlk': [2, 'Ry'],\n",
    "                'Chimod': 'hartree',\n",
    "                'DysSolver': 'n',\n",
    "                'BEnSteps': [10,''],\n",
    "                'BSEQptR': [[1,1],''],\n",
    "                'BSEBands': [[4,5],''],\n",
    "                'BEnRange': [[0.0, 10.0],'eV'],\n",
    "                'BDmRange': [[0.1, 0.1],'eV'],\n",
    "                'BLongDir': [[1.0, 1.0, 1.0],''],\n",
    "                'LongDrXp': [[1.0, 1.0, 1.0],''],\n",
    "                'LongDrXd': [[1.0, 1.0, 1.0],''],\n",
    "                'LongDrXs': [[1.0, 1.0, 1.0],''],\n",
    "                'BndsRnXs': [[1,50], ''],\n",
    "                'KfnQP_E':[[1.5,1,1],''],           # <== Scissor and stretching correction.\n",
    "                'BS_CPU':'1 1 1',     # <== PARALLELISM INFO\n",
    "                'BS_ROLEs':'k eh t',                # <== PARALLELISM INFO\n",
    "                },}\n",
    ")"
   ]
  },
  {
   "cell_type": "markdown",
   "id": "53e69611",
   "metadata": {},
   "source": [
    "### Requesting the YamboWorkflow to compute a specific quantity: the lowest and brightest excitons.\n",
    "\n",
    "This is the same input that we provided in the [`3_YamboWorkflow_G0W0`](3_1_YamboWorkflow_G0W0.ipynb) tutorial, but here we ask for excitons:"
   ]
  },
  {
   "cell_type": "code",
   "execution_count": 24,
   "id": "83d67c85",
   "metadata": {},
   "outputs": [],
   "source": [
    "builder.additional_parsing = orm.List(list=['lowest_exciton','brightest_exciton'])"
   ]
  },
  {
   "cell_type": "markdown",
   "id": "cc673fe7",
   "metadata": {},
   "source": [
    "#### Submission"
   ]
  },
  {
   "cell_type": "code",
   "execution_count": 25,
   "id": "f7137ba7",
   "metadata": {},
   "outputs": [],
   "source": [
    "run = None"
   ]
  },
  {
   "cell_type": "code",
   "execution_count": 26,
   "id": "3ea8d06b",
   "metadata": {},
   "outputs": [
    {
     "name": "stderr",
     "output_type": "stream",
     "text": [
      "/home/max/.conda/envs/aiida/lib/python3.9/site-packages/aiida_quantumespresso/calculations/pw.py:211: UserWarning: `parent_folder` not provided for `nscf` calculation. For work chains wrapping this calculation, you can disable this warning by excluding the `parent_folder` when exposing the inputs of the `PwCalculation`.\n",
      "  warnings.warn(\n"
     ]
    },
    {
     "name": "stdout",
     "output_type": "stream",
     "text": [
      "uuid: 1c3df4fb-9eeb-4c8d-9093-7662ba931021 (pk: 833) (aiida.workflows:yambo.yambo.yambowf)\n"
     ]
    }
   ],
   "source": [
    "if run:\n",
    "    print('run is already running -> {}'.format(run.pk))\n",
    "    print('sure that you want to run again?, if so, copy the else instruction in the cell below and run!')\n",
    "else:\n",
    "    run = submit(builder)\n",
    "\n",
    "print(run)"
   ]
  },
  {
   "cell_type": "markdown",
   "id": "f55eff32",
   "metadata": {},
   "source": [
    "## Inspecting the outputs\n",
    "\n",
    "suppose that your calculation completed successfully, then you can access the outputs via the output method of the run instance. All the outputs of YamboRestart and YamboCalculation are inherited"
   ]
  },
  {
   "cell_type": "code",
   "execution_count": 27,
   "id": "9fc83159",
   "metadata": {},
   "outputs": [
    {
     "data": {
      "text/plain": [
       "False"
      ]
     },
     "execution_count": 27,
     "metadata": {},
     "output_type": "execute_result"
    }
   ],
   "source": [
    "run.is_finished_ok"
   ]
  },
  {
   "cell_type": "code",
   "execution_count": 30,
   "id": "cd3fe1c9",
   "metadata": {},
   "outputs": [
    {
     "name": "stdout",
     "output_type": "stream",
     "text": [
      "\u001b[22m2024-02-14 20:10:10 [211 | REPORT]: [833|YamboWorkflow|start_workflow]: no previous pw calculation found, we will start from scratch\n",
      "2024-02-14 20:10:10 [212 | REPORT]: [833|YamboWorkflow|start_workflow]:  workflow initilization step completed.\n",
      "2024-02-14 20:10:10 [213 | REPORT]: [833|YamboWorkflow|can_continue]: the workflow continues with a scf calculation\n",
      "2024-02-14 20:10:10 [214 | REPORT]: [833|YamboWorkflow|perform_next]: performing a scf calculation\n",
      "2024-02-14 20:10:12 [215 | REPORT]:   [834|PwBaseWorkChain|run_process]: launching PwCalculation<839> iteration #1\n",
      "2024-02-14 20:10:17 [216 | REPORT]:   [834|PwBaseWorkChain|results]: work chain completed after 1 iterations\n",
      "2024-02-14 20:10:17 [217 | REPORT]:   [834|PwBaseWorkChain|on_terminated]: remote folders will not be cleaned\n",
      "2024-02-14 20:10:17 [218 | REPORT]: [833|YamboWorkflow|can_continue]: the workflow continues with a nscf calculation\n",
      "2024-02-14 20:10:17 [219 | REPORT]: [833|YamboWorkflow|perform_next]: performing a nscf calculation\n",
      "2024-02-14 20:10:19 [220 | REPORT]:   [845|PwBaseWorkChain|run_process]: launching PwCalculation<848> iteration #1\n",
      "2024-02-14 20:10:45 [221 | REPORT]:   [845|PwBaseWorkChain|results]: work chain completed after 1 iterations\n",
      "2024-02-14 20:10:45 [222 | REPORT]:   [845|PwBaseWorkChain|on_terminated]: remote folders will not be cleaned\n",
      "2024-02-14 20:10:46 [223 | REPORT]: [833|YamboWorkflow|can_continue]: the workflow continues with a yambo calculation\n",
      "2024-02-14 20:10:46 [224 | REPORT]: [833|YamboWorkflow|perform_next]: performing a yambo calculation\n",
      "2024-02-14 20:10:46 [225 | REPORT]: [833|YamboWorkflow|perform_next]: updating yambo parameters to parse more results\n",
      "2024-02-14 20:10:46 [226 | REPORT]: [833|YamboWorkflow|perform_next]: {'dft_predicted': 'semiconductor/insulator', 'valence': 4, 'conduction': 5, 'number_of_kpoints': 16, 'nscf_gap_eV': 0.665, 'homo_k': 1, 'lumo_k': 13, 'gap_type': 'indirect', 'gap_': [[1, 1, 4, 4], [13, 13, 5, 5]], 'soc': False, 'magnetic_calculation': False}\n",
      "2024-02-14 20:10:48 [227 | REPORT]:   [855|YamboRestart|run_process]: launching YamboCalculation<856> iteration #1\n",
      "2024-02-14 20:11:15 [228 | REPORT]:   [855|YamboRestart|results]: work chain completed after 1 iterations\n",
      "2024-02-14 20:11:16 [229 | REPORT]:   [855|YamboRestart|on_terminated]: remote folders will not be cleaned\n",
      "2024-02-14 20:11:16 [230 | REPORT]: [833|YamboWorkflow|can_continue]: workflow is finished\n",
      "2024-02-14 20:11:16 [231 | REPORT]: [833|YamboWorkflow|post_processing_needed]: no post processing needed\n",
      "2024-02-14 20:11:17 [232 | REPORT]: [833|YamboWorkflow|report_wf]: PARSED: {'lowest_exciton': 3.9574258, 'lowest_exciton_index': 1, 'brightest_exciton': 21.296734, 'brightest_exciton_index': 216}\n",
      "2024-02-14 20:11:17 [233 | REPORT]: [833|YamboWorkflow|report_wf]: workflow completed successfully\u001b[0m\n"
     ]
    }
   ],
   "source": [
    "!verdi process report {run.pk}"
   ]
  },
  {
   "cell_type": "code",
   "execution_count": 31,
   "id": "eebfc6ef",
   "metadata": {},
   "outputs": [
    {
     "data": {
      "text/plain": [
       "{'lowest_exciton': 3.9574258327484,\n",
       " 'brightest_exciton': 21.296733856201,\n",
       " 'lowest_exciton_index': 1,\n",
       " 'brightest_exciton_index': 216}"
      ]
     },
     "execution_count": 31,
     "metadata": {},
     "output_type": "execute_result"
    }
   ],
   "source": [
    "run.outputs.output_ywfl_parameters.get_dict()"
   ]
  },
  {
   "cell_type": "code",
   "execution_count": 32,
   "id": "521477c1",
   "metadata": {},
   "outputs": [
    {
     "name": "stdout",
     "output_type": "stream",
     "text": [
      "\u001b[22mProperty     Value\n",
      "-----------  ------------------------------------\n",
      "type         YamboWorkflow\n",
      "state        Finished [0]\n",
      "pk           833\n",
      "uuid         1c3df4fb-9eeb-4c8d-9093-7662ba931021\n",
      "label\n",
      "description\n",
      "ctime        2024-02-14 20:10:08.196897+01:00\n",
      "mtime        2024-02-14 20:11:17.372569+01:00\n",
      "\n",
      "Inputs                      PK    Type\n",
      "--------------------------  ----  -------------\n",
      "nscf\n",
      "    pw\n",
      "        pseudos\n",
      "            Si              331   UpfData\n",
      "        code                1     InstalledCode\n",
      "        structure           370   StructureData\n",
      "        parameters          817   Dict\n",
      "    clean_workdir           818   Bool\n",
      "    kpoints_distance        819   Float\n",
      "    kpoints_force_parity    820   Bool\n",
      "    kpoints                 821   KpointsData\n",
      "    max_iterations          822   Int\n",
      "scf\n",
      "    pw\n",
      "        pseudos\n",
      "            Si              331   UpfData\n",
      "        code                1     InstalledCode\n",
      "        structure           370   StructureData\n",
      "        parameters          812   Dict\n",
      "    clean_workdir           813   Bool\n",
      "    kpoints_distance        814   Float\n",
      "    kpoints_force_parity    815   Bool\n",
      "    max_iterations          816   Int\n",
      "yres\n",
      "    yambo\n",
      "        preprocessing_code  363   InstalledCode\n",
      "        code                362   InstalledCode\n",
      "        parameters          823   Dict\n",
      "        settings            824   Dict\n",
      "        precode_parameters  825   Dict\n",
      "    clean_workdir           826   Bool\n",
      "    max_iterations          827   Int\n",
      "    max_walltime            828   Int\n",
      "    max_number_of_nodes     829   Int\n",
      "    code_version            830   Str\n",
      "additional_parsing          831   List\n",
      "clean_failed                832   Bool\n",
      "\n",
      "Outputs                   PK  Type\n",
      "----------------------  ----  ----------\n",
      "array_chi                860  ArrayData\n",
      "array_excitonic_states   861  ArrayData\n",
      "nscf_mapping             862  Dict\n",
      "output_parameters        859  Dict\n",
      "output_ywfl_parameters   863  Dict\n",
      "remote_folder            857  RemoteData\n",
      "retrieved                858  FolderData\n",
      "\n",
      "Called      PK  Type\n",
      "--------  ----  ---------------\n",
      "scf        834  PwBaseWorkChain\n",
      "nscf       845  PwBaseWorkChain\n",
      "yambo      855  YamboRestart\n",
      "\n",
      "Log messages\n",
      "----------------------------------------------\n",
      "There are 14 log messages for this calculation\n",
      "Run 'verdi process report 833' to see them\u001b[0m\n"
     ]
    }
   ],
   "source": [
    "!verdi process show {run.pk}"
   ]
  },
  {
   "cell_type": "markdown",
   "id": "3e040ae4",
   "metadata": {},
   "source": [
    "### Plotting the BSE absorption spectrum"
   ]
  },
  {
   "cell_type": "code",
   "execution_count": 33,
   "id": "7f0c8959",
   "metadata": {},
   "outputs": [],
   "source": [
    "array_chi = run.outputs.array_chi"
   ]
  },
  {
   "cell_type": "code",
   "execution_count": 34,
   "id": "473b3cf6",
   "metadata": {},
   "outputs": [
    {
     "data": {
      "text/plain": [
       "['eV', 'eps_1', 'eps_2']"
      ]
     },
     "execution_count": 34,
     "metadata": {},
     "output_type": "execute_result"
    }
   ],
   "source": [
    "array_chi.get_arraynames()"
   ]
  },
  {
   "cell_type": "code",
   "execution_count": 39,
   "id": "99d0161a",
   "metadata": {},
   "outputs": [],
   "source": [
    "energy = array_chi.get_array(\"eV\")\n",
    "epsilon2 = array_chi.get_array(\"eps_2\")"
   ]
  },
  {
   "cell_type": "code",
   "execution_count": 40,
   "id": "e6cda684",
   "metadata": {},
   "outputs": [
    {
     "data": {
      "text/plain": [
       "[<matplotlib.lines.Line2D at 0x7fdd2ca8dd90>]"
      ]
     },
     "execution_count": 40,
     "metadata": {},
     "output_type": "execute_result"
    },
    {
     "data": {
      "image/png": "[encoded data removed]",
      "text/plain": [
       "<Figure size 640x480 with 1 Axes>"
      ]
     },
     "metadata": {},
     "output_type": "display_data"
    }
   ],
   "source": [
    "import matplotlib.pyplot as plt\n",
    "\n",
    "plt.plot(energy,epsilon2)"
   ]
  },
  {
   "cell_type": "markdown",
   "id": "9ee95574",
   "metadata": {},
   "source": [
    "Up to now, only the BSE absorption and loss spectra can be plotted: the RPA-IP spectra are not saved in the repository.\n",
    "However, they can be easily generated using yambopy functions, once the BSE database is loaded. If you are already and expert of `yambopy`, you can try to do it by using the trick used to obtain the raw ndb.QP_fixed file."
   ]
  }
 ],
 "metadata": {
  "kernelspec": {
   "display_name": "Python 3 (ipykernel)",
   "language": "python",
   "name": "python3"
  },
  "language_info": {
   "codemirror_mode": {
    "name": "ipython",
    "version": 3
   },
   "file_extension": ".py",
   "mimetype": "text/x-python",
   "name": "python",
   "nbconvert_exporter": "python",
   "pygments_lexer": "ipython3",
   "version": "3.9.16"
  }
 },
 "nbformat": 4,
 "nbformat_minor": 5
}
