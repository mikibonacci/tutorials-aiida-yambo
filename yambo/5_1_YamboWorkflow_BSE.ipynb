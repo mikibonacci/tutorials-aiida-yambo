{
 "cells": [
  {
   "cell_type": "markdown",
   "id": "eac72ceb",
   "metadata": {},
   "source": [
    "# YamboWorkflow: a full DFT+MBPT flow - BSE version\n",
    "\n",
    "In this notebook we will compute the BSE absorption spectrum and excitonic eigenvalues by means of the `YamboWorkflow` workchain of the plugin.\n",
    "We are going to compute exciton starting from a scissor and stretching correction for the DFT eigenvalues. In the next tutorial we will see how to \n",
    "compute G0W0 correction in order to perform BSE@G0W0."
   ]
  },
  {
   "cell_type": "code",
   "execution_count": 40,
   "id": "1b9f54af",
   "metadata": {},
   "outputs": [
    {
     "name": "stdout",
     "output_type": "stream",
     "text": [
      "Summary of the main inputs:\n",
      "BndsRnXs = 150\n",
      "NGsBlkXs = 2 Ry\n",
      "BSENGBlk = 2 Ry\n",
      "FFTGvecs = 24 Ry\n",
      "\n",
      "\n",
      "kpoint mesh for nscf: [6, 6, 6]\n"
     ]
    }
   ],
   "source": [
    "from aiida import orm, load_profile\n",
    "load_profile()\n",
    "\n",
    "from aiida.plugins import WorkflowFactory\n",
    "from aiida.orm import QueryBuilder\n",
    "from aiida.engine import submit\n",
    "\n",
    "from aiida_quantumespresso.common.types import ElectronicType\n",
    "\n",
    "import yaml\n",
    "\n",
    "qb = QueryBuilder()\n",
    "qb.append(orm.Group, filters={'label': 'Silicon/bulk'}, tag='group')\n",
    "qb.append(orm.StructureData, with_group='group')\n",
    "\n",
    "loaded_structure_id = qb.all()[0][0].pk\n",
    "\n",
    "# Read YAML file\n",
    "with open(\"../configuration/codes_localhost.yaml\", 'r') as stream:\n",
    "    codes = yaml.safe_load(stream)\n",
    "    \n",
    "with open(\"../configuration/resources_localhost.yaml\", 'r') as stream:\n",
    "    resources = yaml.safe_load(stream)\n",
    "    \n",
    "options = {\n",
    "    'pseudo_family':\"PseudoDojo/0.4/PBE/SR/standard/upf\",\n",
    "    'protocol':'fast',\n",
    "    #'parent_id':274, #not necessary to set; if you want it, take ytheour previously nscf id (pk) to skip the DFT part.\n",
    "    'structure_id':loaded_structure_id,\n",
    "}\n",
    "\n",
    "YamboWorkflow = WorkflowFactory('yambo.yambo.yambowf')\n",
    "\n",
    "builder = YamboWorkflow.get_builder_from_protocol(\n",
    "            pw_code = codes['pwcode_id'],\n",
    "            preprocessing_code = codes['yamboprecode_id'],\n",
    "            code = codes['yambocode_id'],\n",
    "            protocol=options['protocol'],\n",
    "            protocol_qe=options['protocol'],\n",
    "            structure= orm.load_node(options['structure_id']),\n",
    "            overrides={\n",
    "                'yres': {\"yambo\": {\n",
    "                    \"parameters\": {\n",
    "                        \"variables\": {\n",
    "                            \"NGsBlkXp\": [4, \"Ry\"],\n",
    "                            \"FFTGvecs\": [24, \"Ry\"],\n",
    "                            },\n",
    "                        },\n",
    "                    },\n",
    "                }\n",
    "            },\n",
    "            pseudo_family= options['pseudo_family'],\n",
    "            #parent_folder=orm.load_node(options['parent_id']).outputs.remote_folder,\n",
    "            electronic_type=ElectronicType.INSULATOR, #default is METAL: in that case, smearing is used\n",
    "            calc_type='bse', #or 'bse'; default is 'gw'\n",
    ")\n",
    "\n",
    "builder.scf.pw.metadata.options = resources\n",
    "\n",
    "builder.nscf.pw.metadata.options = builder.scf.pw.metadata.options\n",
    "builder.yres.yambo.metadata.options = builder.scf.pw.metadata.options"
   ]
  },
  {
   "cell_type": "markdown",
   "id": "fcbb8875",
   "metadata": {},
   "source": [
    "For BSE simulation, it is crucial to explicitely put the parallelism instructions in the input parameters.\n",
    "It can be done in the overrides, or we can also re-define the variable `builder.yres.yambo.parameters`:"
   ]
  },
  {
   "cell_type": "code",
   "execution_count": 41,
   "id": "7a976426",
   "metadata": {},
   "outputs": [],
   "source": [
    "builder.yres.yambo.parameters = orm.Dict(\n",
    "    dict={'arguments':['em1s','bse','bss','optics', 'dipoles',],\n",
    "                'variables':{\n",
    "                'BSEmod': 'resonant',\n",
    "                'BSKmod': 'SEX',\n",
    "                'BSSmod': 'd',\n",
    "                'Lkind': 'full',\n",
    "                'NGsBlkXs': [4, 'Ry'],\n",
    "                'BSENGBlk': [4, 'Ry'],\n",
    "                'Chimod': 'hartree',\n",
    "                'DysSolver': 'n',\n",
    "                'BEnSteps': [10,''],\n",
    "                'BSEQptR': [[1,1],''],\n",
    "                'BSEBands': [[4,5],''],\n",
    "                'BEnRange': [[0.0, 20.0],'eV'],\n",
    "                'BDmRange': [[0.1, 0.1],'eV'],\n",
    "                'BLongDir': [[1.0, 1.0, 1.0],''],\n",
    "                'LongDrXp': [[1.0, 1.0, 1.0],''],\n",
    "                'LongDrXd': [[1.0, 1.0, 1.0],''],\n",
    "                'LongDrXs': [[1.0, 1.0, 1.0],''],\n",
    "                'BndsRnXs': [[1,100], ''],\n",
    "                'KfnQP_E':[[0.5,1,1],''],           # <== Scissor and stretching correction.\n",
    "                'BS_CPU':'1 1 1',     # <== PARALLELISM INFO\n",
    "                'BS_ROLEs':'k eh t',                # <== PARALLELISM INFO\n",
    "                },}\n",
    ")"
   ]
  },
  {
   "cell_type": "markdown",
   "id": "53e69611",
   "metadata": {},
   "source": [
    "### Requesting the YamboWorkflow to compute a specific quantity: the lowest and brightest excitons.\n",
    "\n",
    "This is the same input that we provided in the [`3_YamboWorkflow_G0W0`](3_1_YamboWorkflow_G0W0.ipynb) tutorial, but here we ask for excitons:"
   ]
  },
  {
   "cell_type": "code",
   "execution_count": 42,
   "id": "83d67c85",
   "metadata": {},
   "outputs": [],
   "source": [
    "builder.additional_parsing = orm.List(list=['lowest_exciton','brightest_exciton'])"
   ]
  },
  {
   "cell_type": "markdown",
   "id": "cc673fe7",
   "metadata": {},
   "source": [
    "#### Submission"
   ]
  },
  {
   "cell_type": "code",
   "execution_count": 43,
   "id": "f7137ba7",
   "metadata": {},
   "outputs": [],
   "source": [
    "run = None"
   ]
  },
  {
   "cell_type": "code",
   "execution_count": 44,
   "id": "3ea8d06b",
   "metadata": {},
   "outputs": [
    {
     "name": "stderr",
     "output_type": "stream",
     "text": [
      "/home/max/.conda/envs/aiida/lib/python3.9/site-packages/aiida_quantumespresso/calculations/pw.py:211: UserWarning: `parent_folder` not provided for `nscf` calculation. For work chains wrapping this calculation, you can disable this warning by excluding the `parent_folder` when exposing the inputs of the `PwCalculation`.\n",
      "  warnings.warn(\n"
     ]
    },
    {
     "name": "stdout",
     "output_type": "stream",
     "text": [
      "uuid: 8f227227-475b-47db-9034-53475995660b (pk: 739) (aiida.workflows:yambo.yambo.yambowf)\n"
     ]
    }
   ],
   "source": [
    "if run:\n",
    "    print('run is already running -> {}'.format(run.pk))\n",
    "    print('sure that you want to run again?, if so, copy the else instruction in the cell below and run!')\n",
    "else:\n",
    "    run = submit(builder)\n",
    "\n",
    "print(run)"
   ]
  },
  {
   "cell_type": "markdown",
   "id": "f55eff32",
   "metadata": {},
   "source": [
    "## Inspecting the outputs\n",
    "\n",
    "suppose that your calculation completed successfully, then you can access the outputs via the output method of the run instance. All the outputs of YamboRestart and YamboCalculation are inherited"
   ]
  },
  {
   "cell_type": "code",
   "execution_count": 45,
   "id": "9fc83159",
   "metadata": {},
   "outputs": [
    {
     "data": {
      "text/plain": [
       "False"
      ]
     },
     "execution_count": 45,
     "metadata": {},
     "output_type": "execute_result"
    }
   ],
   "source": [
    "run.is_finished_ok"
   ]
  },
  {
   "cell_type": "code",
   "execution_count": 49,
   "id": "cd3fe1c9",
   "metadata": {},
   "outputs": [
    {
     "name": "stdout",
     "output_type": "stream",
     "text": [
      "\u001b[22m2024-02-19 15:32:22 [138 | REPORT]: [739|YamboWorkflow|start_workflow]: no previous pw calculation found, we will start from scratch\n",
      "2024-02-19 15:32:22 [139 | REPORT]: [739|YamboWorkflow|start_workflow]:  workflow initilization step completed.\n",
      "2024-02-19 15:32:23 [140 | REPORT]: [739|YamboWorkflow|can_continue]: the workflow continues with a scf calculation\n",
      "2024-02-19 15:32:23 [141 | REPORT]: [739|YamboWorkflow|perform_next]: performing a scf calculation\n",
      "2024-02-19 15:32:24 [142 | REPORT]:   [740|PwBaseWorkChain|run_process]: launching PwCalculation<745> iteration #1\n",
      "2024-02-19 15:32:30 [143 | REPORT]:   [740|PwBaseWorkChain|results]: work chain completed after 1 iterations\n",
      "2024-02-19 15:32:30 [144 | REPORT]:   [740|PwBaseWorkChain|on_terminated]: remote folders will not be cleaned\n",
      "2024-02-19 15:32:30 [145 | REPORT]: [739|YamboWorkflow|can_continue]: the workflow continues with a nscf calculation\n",
      "2024-02-19 15:32:30 [146 | REPORT]: [739|YamboWorkflow|perform_next]: performing a nscf calculation\n",
      "2024-02-19 15:32:31 [147 | REPORT]:   [751|PwBaseWorkChain|run_process]: launching PwCalculation<754> iteration #1\n",
      "2024-02-19 15:32:56 [148 | REPORT]:   [751|PwBaseWorkChain|results]: work chain completed after 1 iterations\n",
      "2024-02-19 15:32:56 [149 | REPORT]:   [751|PwBaseWorkChain|on_terminated]: remote folders will not be cleaned\n",
      "2024-02-19 15:32:56 [150 | REPORT]: [739|YamboWorkflow|can_continue]: the workflow continues with a yambo calculation\n",
      "2024-02-19 15:32:56 [151 | REPORT]: [739|YamboWorkflow|perform_next]: performing a yambo calculation\n",
      "2024-02-19 15:32:56 [152 | REPORT]: [739|YamboWorkflow|perform_next]: updating yambo parameters to parse more results\n",
      "2024-02-19 15:32:57 [153 | REPORT]: [739|YamboWorkflow|perform_next]: {'dft_predicted': 'semiconductor/insulator', 'valence': 4, 'conduction': 5, 'number_of_kpoints': 16, 'nscf_gap_eV': 0.665, 'homo_k': 1, 'lumo_k': 13, 'gap_type': 'indirect', 'gap_': [[1, 1, 4, 4], [13, 13, 5, 5]], 'soc': False, 'magnetic_calculation': False}\n",
      "2024-02-19 15:32:58 [154 | REPORT]:   [761|YamboRestart|run_process]: launching YamboCalculation<762> iteration #1\n",
      "2024-02-19 15:33:46 [155 | REPORT]:   [761|YamboRestart|results]: work chain completed after 1 iterations\n",
      "2024-02-19 15:33:46 [156 | REPORT]:   [761|YamboRestart|on_terminated]: remote folders will not be cleaned\n",
      "2024-02-19 15:33:46 [157 | REPORT]: [739|YamboWorkflow|can_continue]: workflow is finished\n",
      "2024-02-19 15:33:46 [158 | REPORT]: [739|YamboWorkflow|post_processing_needed]: no post processing needed\n",
      "2024-02-19 15:33:47 [159 | REPORT]: [739|YamboWorkflow|report_wf]: PARSED: {'lowest_exciton': 2.9510221, 'lowest_exciton_index': 1, 'brightest_exciton': 20.251095, 'brightest_exciton_index': 216}\n",
      "2024-02-19 15:33:47 [160 | REPORT]: [739|YamboWorkflow|report_wf]: workflow completed successfully\u001b[0m\n"
     ]
    }
   ],
   "source": [
    "!verdi process report {run.pk}"
   ]
  },
  {
   "cell_type": "code",
   "execution_count": 50,
   "id": "eebfc6ef",
   "metadata": {},
   "outputs": [
    {
     "data": {
      "text/plain": [
       "{'lowest_exciton': 2.9510221481323,\n",
       " 'brightest_exciton': 20.251094818115,\n",
       " 'lowest_exciton_index': 1,\n",
       " 'brightest_exciton_index': 216}"
      ]
     },
     "execution_count": 50,
     "metadata": {},
     "output_type": "execute_result"
    }
   ],
   "source": [
    "run.outputs.output_ywfl_parameters.get_dict()"
   ]
  },
  {
   "cell_type": "code",
   "execution_count": 51,
   "id": "521477c1",
   "metadata": {},
   "outputs": [
    {
     "name": "stdout",
     "output_type": "stream",
     "text": [
      "\u001b[22mProperty     Value\n",
      "-----------  ------------------------------------\n",
      "type         YamboWorkflow\n",
      "state        Finished [0]\n",
      "pk           739\n",
      "uuid         8f227227-475b-47db-9034-53475995660b\n",
      "label\n",
      "description\n",
      "ctime        2024-02-19 15:32:21.519540+01:00\n",
      "mtime        2024-02-19 15:33:47.259290+01:00\n",
      "\n",
      "Inputs                      PK    Type\n",
      "--------------------------  ----  -------------\n",
      "nscf\n",
      "    pw\n",
      "        pseudos\n",
      "            Si              331   UpfData\n",
      "        code                1     InstalledCode\n",
      "        structure           371   StructureData\n",
      "        parameters          723   Dict\n",
      "    clean_workdir           724   Bool\n",
      "    kpoints_distance        725   Float\n",
      "    kpoints_force_parity    726   Bool\n",
      "    kpoints                 727   KpointsData\n",
      "    max_iterations          728   Int\n",
      "scf\n",
      "    pw\n",
      "        pseudos\n",
      "            Si              331   UpfData\n",
      "        code                1     InstalledCode\n",
      "        structure           371   StructureData\n",
      "        parameters          718   Dict\n",
      "    clean_workdir           719   Bool\n",
      "    kpoints_distance        720   Float\n",
      "    kpoints_force_parity    721   Bool\n",
      "    max_iterations          722   Int\n",
      "yres\n",
      "    yambo\n",
      "        preprocessing_code  363   InstalledCode\n",
      "        code                362   InstalledCode\n",
      "        parameters          729   Dict\n",
      "        settings            730   Dict\n",
      "        precode_parameters  731   Dict\n",
      "    clean_workdir           732   Bool\n",
      "    max_iterations          733   Int\n",
      "    max_walltime            734   Int\n",
      "    max_number_of_nodes     735   Int\n",
      "    code_version            736   Str\n",
      "additional_parsing          737   List\n",
      "clean_failed                738   Bool\n",
      "\n",
      "Outputs                   PK  Type\n",
      "----------------------  ----  ----------\n",
      "array_chi                766  ArrayData\n",
      "array_excitonic_states   767  ArrayData\n",
      "nscf_mapping             768  Dict\n",
      "output_parameters        765  Dict\n",
      "output_ywfl_parameters   769  Dict\n",
      "remote_folder            763  RemoteData\n",
      "retrieved                764  FolderData\n",
      "\n",
      "Called      PK  Type\n",
      "--------  ----  ---------------\n",
      "scf        740  PwBaseWorkChain\n",
      "nscf       751  PwBaseWorkChain\n",
      "yambo      761  YamboRestart\n",
      "\n",
      "Log messages\n",
      "----------------------------------------------\n",
      "There are 14 log messages for this calculation\n",
      "Run 'verdi process report 739' to see them\u001b[0m\n"
     ]
    }
   ],
   "source": [
    "!verdi process show {run.pk}"
   ]
  },
  {
   "cell_type": "markdown",
   "id": "3e040ae4",
   "metadata": {},
   "source": [
    "### Plotting the BSE absorption spectrum"
   ]
  },
  {
   "cell_type": "code",
   "execution_count": 52,
   "id": "7f0c8959",
   "metadata": {},
   "outputs": [],
   "source": [
    "array_chi = run.outputs.array_chi"
   ]
  },
  {
   "cell_type": "code",
   "execution_count": 53,
   "id": "473b3cf6",
   "metadata": {},
   "outputs": [
    {
     "data": {
      "text/plain": [
       "['eV', 'eps_1', 'eps_2']"
      ]
     },
     "execution_count": 53,
     "metadata": {},
     "output_type": "execute_result"
    }
   ],
   "source": [
    "array_chi.get_arraynames()"
   ]
  },
  {
   "cell_type": "code",
   "execution_count": 54,
   "id": "99d0161a",
   "metadata": {},
   "outputs": [],
   "source": [
    "energy = array_chi.get_array(\"eV\")\n",
    "epsilon2 = array_chi.get_array(\"eps_2\")"
   ]
  },
  {
   "cell_type": "code",
   "execution_count": 63,
   "id": "e6cda684",
   "metadata": {},
   "outputs": [
    {
     "data": {
      "text/plain": [
       "[<matplotlib.lines.Line2D at 0x7f806c17acd0>]"
      ]
     },
     "execution_count": 63,
     "metadata": {},
     "output_type": "execute_result"
    },
    {
     "data": {
      "image/png": "[encoded data removed]",
      "text/plain": [
       "<Figure size 640x480 with 1 Axes>"
      ]
     },
     "metadata": {},
     "output_type": "display_data"
    }
   ],
   "source": [
    "import matplotlib.pyplot as plt\n",
    "\n",
    "plt.xlim(0,10)\n",
    "plt.ylim(0,0.1)\n",
    "plt.xlabel(\"eV\",fontsize=14)\n",
    "plt.ylabel(\"Im($\\epsilon_M$)\",fontsize=14)\n",
    "plt.plot(energy,epsilon2)"
   ]
  },
  {
   "cell_type": "markdown",
   "id": "9ee95574",
   "metadata": {},
   "source": [
    "Up to now, only the BSE absorption and loss spectra can be plotted: the RPA-IP spectra are not saved in the repository.\n",
    "However, they can be easily generated using yambopy functions, once the BSE database is loaded. If you are already and expert of `yambopy`, you can try to do it by using the trick used to obtain the raw ndb.QP_fixed file in previous step of the tutorial on YamboWorkflow."
   ]
  },
  {
   "cell_type": "markdown",
   "id": "24b16318",
   "metadata": {},
   "source": []
  }
 ],
 "metadata": {
  "kernelspec": {
   "display_name": "Python 3 (ipykernel)",
   "language": "python",
   "name": "python3"
  },
  "language_info": {
   "codemirror_mode": {
    "name": "ipython",
    "version": 3
   },
   "file_extension": ".py",
   "mimetype": "text/x-python",
   "name": "python",
   "nbconvert_exporter": "python",
   "pygments_lexer": "ipython3",
   "version": "3.9.16"
  }
 },
 "nbformat": 4,
 "nbformat_minor": 5
}
