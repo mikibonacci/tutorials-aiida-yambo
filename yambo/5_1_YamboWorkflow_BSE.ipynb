{
 "cells": [
  {
   "cell_type": "markdown",
   "id": "eac72ceb",
   "metadata": {},
   "source": [
    "# YamboWorkflow: a full DFT+MBPT flow - BSE version\n",
    "\n",
    "In this notebook we will compute the BSE absorption spectrum and excitonic eigenvalues by means of the `YamboWorkflow` workchain of the plugin.\n",
    "We are going to compute exciton starting from a scissor and stretching correction for the DFT eigenvalues. In the next tutorial we will see how to \n",
    "compute G0W0 correction in order to perform BSE@G0W0."
   ]
  },
  {
   "cell_type": "code",
   "execution_count": 2,
   "id": "1b9f54af",
   "metadata": {},
   "outputs": [],
   "source": [
    "from aiida import orm, load_profile\n",
    "load_profile()\n",
    "\n",
    "from aiida.plugins import WorkflowFactory\n",
    "YamboWorkflow = WorkflowFactory('yambo.yambo.yambowf')\n",
    "\n",
    "from aiida_quantumespresso.common.types import ElectronicType"
   ]
  },
  {
   "cell_type": "markdown",
   "id": "5196de0a",
   "metadata": {},
   "source": [
    "## Providing the minimal inputs needed for protocols\n",
    "\n",
    "We have to provide minimal inputs for the creation of the builder instance, namely:\n",
    "- codes;\n",
    "- structure;\n",
    "\n",
    "Providing a parent calculation as input, the already performed steps are skipped, in order to avoid waste of human and computational time.\n",
    "If no parent is passed to the builder, also DFT inputs are created within the protocols as provided in the `PwBaseWorkChain`."
   ]
  },
  {
   "cell_type": "code",
   "execution_count": null,
   "id": "b749533b",
   "metadata": {},
   "outputs": [],
   "source": [
    "from aiida.orm import QueryBuilder\n",
    "qb = QueryBuilder()\n",
    "qb.append(orm.Group, filters={'label': 'hBN/bulk'}, tag='group')\n",
    "qb.append(orm.StructureData, with_group='group')\n",
    "\n",
    "loaded_structure_id = qb.all()[0][0].pk"
   ]
  },
  {
   "cell_type": "code",
   "execution_count": null,
   "id": "de69123d",
   "metadata": {},
   "outputs": [],
   "source": [
    "import yaml,io\n",
    "\n",
    "# Read YAML file\n",
    "with open(\"../configuration/codes_localhost.yaml\", 'r') as stream:\n",
    "    codes = yaml.safe_load(stream)\n",
    "    \n",
    "with open(\"../configuration/resources_localhost.yaml\", 'r') as stream:\n",
    "    resources = yaml.safe_load(stream)"
   ]
  },
  {
   "cell_type": "code",
   "execution_count": 4,
   "id": "2a2280c7",
   "metadata": {},
   "outputs": [],
   "source": [
    "options = {\n",
    "    'pseudo_family':\"PseudoDojo/0.4/PBE/SR/standard/upf\",\n",
    "    'protocol':'fast',\n",
    "    #'parent_id':274, #not necessary to set; if you want it, take ytheour previously nscf id (pk) to skip the DFT part.\n",
    "    'structure_id':loaded_structure_id,\n",
    "}"
   ]
  },
  {
   "cell_type": "code",
   "execution_count": null,
   "id": "bc31cd3d",
   "metadata": {},
   "outputs": [],
   "source": [
    "options.update(codes)"
   ]
  },
  {
   "cell_type": "code",
   "execution_count": 5,
   "id": "6647e21b",
   "metadata": {
    "scrolled": true
   },
   "outputs": [
    {
     "name": "stdout",
     "output_type": "stream",
     "text": [
      "Summary of the main inputs:\n",
      "BndsRnXs = 200\n",
      "NGsBlkXs = 6 Ry\n",
      "BSENGBlk = 6 Ry\n",
      "FFTGvecs = 18 Ry\n",
      "\n",
      "\n",
      "kpoint mesh for nscf: [6, 6, 2]\n"
     ]
    }
   ],
   "source": [
    "builder = YamboWorkflow.get_builder_from_protocol(\n",
    "            pw_code = options['pwcode_id'],\n",
    "            preprocessing_code = options['yamboprecode_id'],\n",
    "            code = options['yambocode_id'],\n",
    "            protocol=options['protocol'],\n",
    "            protocol_qe=options['protocol'],\n",
    "            structure= orm.load_node(options['structure_id']),\n",
    "            overrides={},\n",
    "            pseudo_family= options['pseudo_family'],\n",
    "            #parent_folder=orm.load_node(options['parent_id']).outputs.remote_folder,\n",
    "            electronic_type=ElectronicType.INSULATOR, #default is METAL: smearing is used\n",
    "            calc_type='bse', #or 'bse'; default is 'gw'\n",
    ")\n"
   ]
  },
  {
   "cell_type": "markdown",
   "id": "b1cca130",
   "metadata": {},
   "source": [
    "With respect to the previous examples (2_YamboRestart), we can see that we have a different FFTGvecs value and a kpoint mesh: the first is due to the fact that now FFTGvecs is estimated from aiida-quantumespresso protocol, not from the previous DFT run. The second is needed in order to have also the DFT part performed, if needed (no previous parent calculations)."
   ]
  },
  {
   "cell_type": "code",
   "execution_count": 6,
   "id": "d208346c",
   "metadata": {},
   "outputs": [
    {
     "data": {
      "text/plain": [
       "{'fast': {'description': 'Under converged for most materials, but fast'},\n",
       " 'moderate': {'description': 'Meta converged for most materials, higher computational cost than fast'},\n",
       " 'precise': {'description': 'Converged for most materials, higher computational cost than moderate'}}"
      ]
     },
     "execution_count": 6,
     "metadata": {},
     "output_type": "execute_result"
    }
   ],
   "source": [
    "#You can also try different protocols:\n",
    "    \n",
    "YamboWorkflow.get_available_protocols()"
   ]
  },
  {
   "cell_type": "markdown",
   "id": "f7360982",
   "metadata": {},
   "source": [
    "Now, if you inspect the prepopulated inputs, you can see the default values respecting the imposed protocol:"
   ]
  },
  {
   "cell_type": "code",
   "execution_count": 7,
   "id": "a014d000",
   "metadata": {},
   "outputs": [
    {
     "data": {
      "text/plain": [
       "{'CONTROL': {'calculation': 'nscf',\n",
       "  'forc_conv_thr': 0.001,\n",
       "  'tprnfor': True,\n",
       "  'tstress': True,\n",
       "  'etot_conv_thr': 0.0004},\n",
       " 'SYSTEM': {'nosym': False,\n",
       "  'occupations': 'fixed',\n",
       "  'ecutwfc': 60.0,\n",
       "  'ecutrho': 480.0,\n",
       "  'force_symmorphic': True,\n",
       "  'nbnd': 200},\n",
       " 'ELECTRONS': {'electron_maxstep': 80,\n",
       "  'mixing_beta': 0.4,\n",
       "  'conv_thr': 1.6e-09}}"
      ]
     },
     "execution_count": 7,
     "metadata": {},
     "output_type": "execute_result"
    }
   ],
   "source": [
    "builder.nscf.pw.parameters.get_dict()"
   ]
  },
  {
   "cell_type": "code",
   "execution_count": 8,
   "id": "c2a810c5",
   "metadata": {},
   "outputs": [
    {
     "data": {
      "text/plain": [
       "{'arguments': ['em1s', 'bse', 'bss', 'optics', 'rim_cut', 'dipoles'],\n",
       " 'variables': {'Chimod': 'hartree',\n",
       "  'DysSolver': 'n',\n",
       "  'GTermKind': 'BG',\n",
       "  'X_and_IO_nCPU_LinAlg_INV': [1, ''],\n",
       "  'BSEmod': 'resonant',\n",
       "  'BSKmod': 'SEX',\n",
       "  'BSSmod': 'd',\n",
       "  'Lkind': 'full',\n",
       "  'BSEQptR': [[1, 1], ''],\n",
       "  'FFTGvecs': [18, 'Ry'],\n",
       "  'GbndRnge': [[1, 200], ''],\n",
       "  'BndsRnXs': [[1, 200], ''],\n",
       "  'NGsBlkXs': [6, 'Ry'],\n",
       "  'BSENGBlk': [6, 'Ry']}}"
      ]
     },
     "execution_count": 8,
     "metadata": {},
     "output_type": "execute_result"
    }
   ],
   "source": [
    "builder.yres.yambo.parameters.get_dict()"
   ]
  },
  {
   "cell_type": "code",
   "execution_count": 10,
   "id": "fa820f6d",
   "metadata": {},
   "outputs": [],
   "source": [
    "builder.scf.pw.metadata.options = resources\n",
    "\n",
    "builder.nscf.pw.metadata.options = builder.scf.pw.metadata.options\n",
    "builder.yres.yambo.metadata.options = builder.scf.pw.metadata.options"
   ]
  },
  {
   "cell_type": "markdown",
   "id": "3cbe12e6",
   "metadata": {},
   "source": [
    "### Overrides\n",
    "\n",
    "As in the previous examples (see e.g. then  `YamboRestart` notebook), it is possible to modify the default inputs also during the builder creation phase, so not a posteriori. This can be done by using overrides:"
   ]
  },
  {
   "cell_type": "code",
   "execution_count": 11,
   "id": "6cb20272",
   "metadata": {},
   "outputs": [],
   "source": [
    "overrides_scf = {\n",
    "        'pseudo_family': \"PseudoDojo/0.4/PBE/SR/standard/upf\", \n",
    "        'pw':{\n",
    "            \n",
    "        'metadata':resources,\n",
    "        },\n",
    "    }\n",
    "\n",
    "overrides_nscf = {\n",
    "        'pseudo_family': \"PseudoDojo/0.4/PBE/SR/standard/upf\", \n",
    "        'pw': {\n",
    "            'parameters':{\n",
    "                'CONTROL':{}, #not needed if you don't override something\n",
    "                'SYSTEM':{},\n",
    "                'ELECTRONS':{'diagonalization':'david'},\n",
    "            },\n",
    "             'metadata':resources,\n",
    "    },\n",
    "}\n",
    "\n",
    "overrides_yambo = {\n",
    "        \"yambo\": {\n",
    "            \"parameters\": {\n",
    "                \"arguments\": [\n",
    "                    \"rim_cut\",\n",
    "                ],\n",
    "                \"variables\": {\n",
    "                    \"NGsBlkXs\": [4, \"Ry\"],\n",
    "                    \"BSENGBlk\": [4, \"Ry\"],\n",
    "                    \"FFTGvecs\": [20, \"Ry\"],\n",
    "                },\n",
    "            },\n",
    "        'metadata':resources,\n",
    "        },\n",
    "    \n",
    "}\n",
    "\n",
    "overrides = {\n",
    "    'yres': overrides_yambo,\n",
    "    'nscf': overrides_nscf,\n",
    "    'scf': overrides_scf\n",
    "    \n",
    "}\n"
   ]
  },
  {
   "cell_type": "code",
   "execution_count": 12,
   "id": "e393de69",
   "metadata": {},
   "outputs": [
    {
     "name": "stdout",
     "output_type": "stream",
     "text": [
      "Summary of the main inputs:\n",
      "BndsRnXs = 200\n",
      "NGsBlkXs = 4 Ry\n",
      "BSENGBlk = 4 Ry\n",
      "FFTGvecs = 20 Ry\n",
      "\n",
      "\n",
      "kpoint mesh for nscf: [6, 6, 2]\n"
     ]
    }
   ],
   "source": [
    "builder = YamboWorkflow.get_builder_from_protocol(\n",
    "            pw_code = options['pwcode_id'],\n",
    "            preprocessing_code = options['yamboprecode_id'],\n",
    "            code = options['yambocode_id'],\n",
    "            protocol=options['protocol'],\n",
    "            protocol_qe=options['protocol'],\n",
    "            structure= orm.load_node(options['structure_id']),\n",
    "            overrides=overrides,\n",
    "            #parent_folder=load_node(options['parent_id']).outputs.remote_folder,\n",
    "            electronic_type=ElectronicType.INSULATOR, #default is METAL: smearing is used\n",
    "            calc_type='bse', #or 'bse'; default is 'gw'\n",
    ")"
   ]
  },
  {
   "cell_type": "markdown",
   "id": "fcbb8875",
   "metadata": {},
   "source": [
    "For BSE simulation, it is important to explicitely put the parallelism instructions in the input parameters (check this).\n",
    "It can be done in the overrides, or we can also re-define the variable `builder.yres.yambo.parameters`:"
   ]
  },
  {
   "cell_type": "code",
   "execution_count": 13,
   "id": "7a976426",
   "metadata": {},
   "outputs": [],
   "source": [
    "builder.yres.yambo.parameters = orm.Dict(\n",
    "    dict={'arguments':['em1s','bse','bss','optics', 'dipoles',],\n",
    "                'variables':{\n",
    "                'BSEmod': 'resonant',\n",
    "                'BSKmod': 'SEX',\n",
    "                'BSSmod': 'd',\n",
    "                'Lkind': 'full',\n",
    "                'NGsBlkXs': [2, 'Ry'],\n",
    "                'BSENGBlk': [2, 'Ry'],\n",
    "                'Chimod': 'hartree',\n",
    "                'DysSolver': 'n',\n",
    "                'BEnSteps': [10,''],\n",
    "                'BSEQptR': [[1,1],''],\n",
    "                'BSEBands': [[8,9],''],\n",
    "                'BEnRange': [[0.0, 10.0],'eV'],\n",
    "                'BDmRange': [[0.1, 0.1],'eV'],\n",
    "                'BLongDir': [[1.0, 1.0, 1.0],''],\n",
    "                'LongDrXp': [[1.0, 1.0, 1.0],''],\n",
    "                'LongDrXd': [[1.0, 1.0, 1.0],''],\n",
    "                'LongDrXs': [[1.0, 1.0, 1.0],''],\n",
    "                'BndsRnXs': [[1,50], ''],\n",
    "                'KfnQP_E':[[1.5,1,1],''],           # <== Scissor and stretching correction.\n",
    "                'BS_CPU':str(int(16/2))+' 2 1',     # <== PARALLELISM INFO\n",
    "                'BS_ROLEs':'k eh t',                # <== PARALLELISM INFO\n",
    "                },}\n",
    ")"
   ]
  },
  {
   "cell_type": "code",
   "execution_count": 14,
   "id": "0530984f",
   "metadata": {},
   "outputs": [
    {
     "data": {
      "text/plain": [
       "{'stash': {}, 'resources': {'num_machines': 1, 'num_mpiprocs_per_machine': 1, 'num_cores_per_mpiproc': 1}, 'max_wallclock_seconds': 3600, 'withmpi': True, 'prepend_text': 'export OMP_NUM_THREADS=1'}"
      ]
     },
     "execution_count": 14,
     "metadata": {},
     "output_type": "execute_result"
    }
   ],
   "source": [
    "builder.yres.yambo.metadata.options"
   ]
  },
  {
   "cell_type": "code",
   "execution_count": 15,
   "id": "9fae0667",
   "metadata": {},
   "outputs": [
    {
     "data": {
      "text/plain": [
       "'david'"
      ]
     },
     "execution_count": 15,
     "metadata": {},
     "output_type": "execute_result"
    }
   ],
   "source": [
    "builder.nscf.pw.parameters.get_dict()['ELECTRONS']['diagonalization']"
   ]
  },
  {
   "cell_type": "code",
   "execution_count": 16,
   "id": "4bbd1c85",
   "metadata": {},
   "outputs": [],
   "source": [
    "family = orm.load_group(\"PseudoDojo/0.4/PBE/SR/standard/upf\")\n",
    "#builder.<sublevels_up_to .pw>.pseudos = family.get_pseudos(structure=structure) \n",
    "builder.scf.pw.pseudos = family.get_pseudos(structure=orm.load_node(loaded_structure_id)) \n",
    "builder.nscf.pw.pseudos = family.get_pseudos(structure=orm.load_node(loaded_structure_id)) "
   ]
  },
  {
   "cell_type": "markdown",
   "id": "53e69611",
   "metadata": {},
   "source": [
    "### Requesting the YamboWorkflow to compute a specific quantity: the lowest and brightest excitons.\n",
    "\n",
    "This is the same input that we provided in the `3_YamboWorkflow_G0W0.ipynb` tutorial, but here we ask for excitons:"
   ]
  },
  {
   "cell_type": "code",
   "execution_count": 17,
   "id": "83d67c85",
   "metadata": {},
   "outputs": [],
   "source": [
    "builder.additional_parsing = orm.List(list=['lowest_exciton','brightest_exciton'])"
   ]
  },
  {
   "cell_type": "markdown",
   "id": "cc673fe7",
   "metadata": {},
   "source": [
    "#### Submission"
   ]
  },
  {
   "cell_type": "code",
   "execution_count": 18,
   "id": "fa66958b",
   "metadata": {},
   "outputs": [],
   "source": [
    "from aiida.engine import submit"
   ]
  },
  {
   "cell_type": "code",
   "execution_count": 19,
   "id": "f7137ba7",
   "metadata": {},
   "outputs": [],
   "source": [
    "run = None"
   ]
  },
  {
   "cell_type": "code",
   "execution_count": 20,
   "id": "3ea8d06b",
   "metadata": {},
   "outputs": [
    {
     "name": "stderr",
     "output_type": "stream",
     "text": [
      "/home/max/.conda/envs/aiida/lib/python3.9/site-packages/aiida_quantumespresso/calculations/pw.py:211: UserWarning: `parent_folder` not provided for `nscf` calculation. For work chains wrapping this calculation, you can disable this warning by excluding the `parent_folder` when exposing the inputs of the `PwCalculation`.\n",
      "  warnings.warn(\n"
     ]
    },
    {
     "name": "stdout",
     "output_type": "stream",
     "text": [
      "uuid: 9af0622b-e4ac-464f-b4e7-01dfc6e22e42 (pk: 1089) (aiida.workflows:yambo.yambo.yambowf)\n"
     ]
    }
   ],
   "source": [
    "if run:\n",
    "    print('run is already running -> {}'.format(run.pk))\n",
    "    print('sure that you want to run again?, if so, copy the else instruction in the cell below and run!')\n",
    "else:\n",
    "    run = submit(builder)\n",
    "\n",
    "print(run)"
   ]
  },
  {
   "cell_type": "markdown",
   "id": "f55eff32",
   "metadata": {},
   "source": [
    "## Inspecting the outputs\n",
    "\n",
    "suppose that your calculation completed successfully, then you can access the outputs via the output method of the run instance. All the outputs of YamboRestart and YamboCalculation are inherited"
   ]
  },
  {
   "cell_type": "code",
   "execution_count": 21,
   "id": "9fc83159",
   "metadata": {},
   "outputs": [
    {
     "data": {
      "text/plain": [
       "False"
      ]
     },
     "execution_count": 21,
     "metadata": {},
     "output_type": "execute_result"
    }
   ],
   "source": [
    "run.is_finished_ok"
   ]
  },
  {
   "cell_type": "code",
   "execution_count": 24,
   "id": "cd3fe1c9",
   "metadata": {},
   "outputs": [
    {
     "name": "stdout",
     "output_type": "stream",
     "text": [
      "\u001b[22m2024-01-16 13:31:25 [464 | REPORT]: [1089|YamboWorkflow|start_workflow]: no previous pw calculation found, we will start from scratch\n",
      "2024-01-16 13:31:25 [465 | REPORT]: [1089|YamboWorkflow|start_workflow]:  workflow initilization step completed.\n",
      "2024-01-16 13:31:25 [466 | REPORT]: [1089|YamboWorkflow|can_continue]: the workflow continues with a scf calculation\n",
      "2024-01-16 13:31:25 [467 | REPORT]: [1089|YamboWorkflow|perform_next]: performing a scf calculation\n",
      "2024-01-16 13:31:26 [468 | REPORT]:   [1090|PwBaseWorkChain|run_process]: launching PwCalculation<1095> iteration #1\n",
      "2024-01-16 13:31:40 [469 | REPORT]:   [1090|PwBaseWorkChain|results]: work chain completed after 1 iterations\n",
      "2024-01-16 13:31:40 [470 | REPORT]:   [1090|PwBaseWorkChain|on_terminated]: remote folders will not be cleaned\n",
      "2024-01-16 13:31:41 [471 | REPORT]: [1089|YamboWorkflow|can_continue]: the workflow continues with a nscf calculation\n",
      "2024-01-16 13:31:41 [472 | REPORT]: [1089|YamboWorkflow|perform_next]: performing a nscf calculation\n",
      "2024-01-16 13:31:42 [473 | REPORT]:   [1101|PwBaseWorkChain|run_process]: launching PwCalculation<1104> iteration #1\n",
      "2024-01-16 13:33:18 [474 | REPORT]:   [1101|PwBaseWorkChain|results]: work chain completed after 1 iterations\n",
      "2024-01-16 13:33:18 [475 | REPORT]:   [1101|PwBaseWorkChain|on_terminated]: remote folders will not be cleaned\n",
      "2024-01-16 13:33:18 [476 | REPORT]: [1089|YamboWorkflow|can_continue]: the workflow continues with a yambo calculation\n",
      "2024-01-16 13:33:18 [477 | REPORT]: [1089|YamboWorkflow|perform_next]: performing a yambo calculation\n",
      "2024-01-16 13:33:18 [478 | REPORT]: [1089|YamboWorkflow|perform_next]: updating yambo parameters to parse more results\n",
      "2024-01-16 13:33:18 [479 | REPORT]: [1089|YamboWorkflow|perform_next]: {'dft_predicted': 'semiconductor/insulator', 'valence': 8, 'conduction': 9, 'number_of_kpoints': 14, 'nscf_gap_eV': 4.286, 'homo_k': 14, 'lumo_k': 7, 'gap_type': 'indirect', 'gap_': [[14, 14, 8, 8], [7, 7, 9, 9]], 'soc': False, 'magnetic_calculation': False}\n",
      "2024-01-16 13:33:19 [480 | REPORT]:   [1111|YamboRestart|validate_parameters]: Issue in check_variables.\n",
      "2024-01-16 13:33:20 [481 | REPORT]:   [1111|YamboRestart|run_process]: launching YamboCalculation<1112> iteration #1\n",
      "2024-01-16 13:34:11 [482 | REPORT]:   [1111|YamboRestart|results]: work chain completed after 1 iterations\n",
      "2024-01-16 13:34:11 [483 | REPORT]:   [1111|YamboRestart|on_terminated]: remote folders will not be cleaned\n",
      "2024-01-16 13:34:11 [484 | REPORT]: [1089|YamboWorkflow|can_continue]: workflow is finished\n",
      "2024-01-16 13:34:11 [485 | REPORT]: [1089|YamboWorkflow|post_processing_needed]: no post processing needed\n",
      "2024-01-16 13:34:11 [486 | REPORT]: [1089|YamboWorkflow|report_wf]: PARSED: {'lowest_exciton': 5.5289164, 'lowest_exciton_index': 1, 'brightest_exciton': 11.227182, 'brightest_exciton_index': 60}\n",
      "2024-01-16 13:34:11 [487 | REPORT]: [1089|YamboWorkflow|report_wf]: workflow completed successfully\u001b[0m\n"
     ]
    }
   ],
   "source": [
    "!verdi process report {run.pk}"
   ]
  },
  {
   "cell_type": "code",
   "execution_count": 25,
   "id": "eebfc6ef",
   "metadata": {},
   "outputs": [
    {
     "data": {
      "text/plain": [
       "{'lowest_exciton': 5.5289163589478,\n",
       " 'brightest_exciton': 11.227182388306,\n",
       " 'lowest_exciton_index': 1,\n",
       " 'brightest_exciton_index': 60}"
      ]
     },
     "execution_count": 25,
     "metadata": {},
     "output_type": "execute_result"
    }
   ],
   "source": [
    "run.outputs.output_ywfl_parameters.get_dict()"
   ]
  },
  {
   "cell_type": "code",
   "execution_count": 26,
   "id": "521477c1",
   "metadata": {},
   "outputs": [
    {
     "name": "stdout",
     "output_type": "stream",
     "text": [
      "\u001b[22mProperty     Value\n",
      "-----------  ------------------------------------\n",
      "type         YamboWorkflow\n",
      "state        Finished [0]\n",
      "pk           1089\n",
      "uuid         9af0622b-e4ac-464f-b4e7-01dfc6e22e42\n",
      "label\n",
      "description\n",
      "ctime        2024-01-16 13:31:23.918552+01:00\n",
      "mtime        2024-01-16 13:34:12.306363+01:00\n",
      "\n",
      "Inputs                      PK    Type\n",
      "--------------------------  ----  -------------\n",
      "nscf\n",
      "    pw\n",
      "        pseudos\n",
      "            B               329   UpfData\n",
      "            N               348   UpfData\n",
      "        code                1     InstalledCode\n",
      "        structure           195   StructureData\n",
      "        parameters          1073  Dict\n",
      "    clean_workdir           1074  Bool\n",
      "    kpoints_distance        1075  Float\n",
      "    kpoints_force_parity    1076  Bool\n",
      "    kpoints                 1077  KpointsData\n",
      "    max_iterations          1078  Int\n",
      "scf\n",
      "    pw\n",
      "        pseudos\n",
      "            B               329   UpfData\n",
      "            N               348   UpfData\n",
      "        code                1     InstalledCode\n",
      "        structure           195   StructureData\n",
      "        parameters          1068  Dict\n",
      "    clean_workdir           1069  Bool\n",
      "    kpoints_distance        1070  Float\n",
      "    kpoints_force_parity    1071  Bool\n",
      "    max_iterations          1072  Int\n",
      "yres\n",
      "    yambo\n",
      "        preprocessing_code  945   InstalledCode\n",
      "        code                944   InstalledCode\n",
      "        parameters          1079  Dict\n",
      "        settings            1080  Dict\n",
      "        precode_parameters  1081  Dict\n",
      "    clean_workdir           1082  Bool\n",
      "    max_iterations          1083  Int\n",
      "    max_walltime            1084  Int\n",
      "    max_number_of_nodes     1085  Int\n",
      "    code_version            1086  Str\n",
      "additional_parsing          1087  List\n",
      "clean_failed                1088  Bool\n",
      "\n",
      "Outputs                   PK  Type\n",
      "----------------------  ----  ----------\n",
      "array_chi               1116  ArrayData\n",
      "array_excitonic_states  1117  ArrayData\n",
      "nscf_mapping            1118  Dict\n",
      "output_parameters       1115  Dict\n",
      "output_ywfl_parameters  1119  Dict\n",
      "remote_folder           1113  RemoteData\n",
      "retrieved               1114  FolderData\n",
      "\n",
      "Called      PK  Type\n",
      "--------  ----  ---------------\n",
      "scf       1090  PwBaseWorkChain\n",
      "nscf      1101  PwBaseWorkChain\n",
      "yambo     1111  YamboRestart\n",
      "\n",
      "Log messages\n",
      "----------------------------------------------\n",
      "There are 14 log messages for this calculation\n",
      "Run 'verdi process report 1089' to see them\u001b[0m\n"
     ]
    }
   ],
   "source": [
    "!verdi process show {run.pk}"
   ]
  },
  {
   "cell_type": "markdown",
   "id": "3e040ae4",
   "metadata": {},
   "source": [
    "### Plotting the BSE absorption spectrum"
   ]
  },
  {
   "cell_type": "code",
   "execution_count": 27,
   "id": "7f0c8959",
   "metadata": {},
   "outputs": [],
   "source": [
    "array_chi = run.outputs.array_chi"
   ]
  },
  {
   "cell_type": "code",
   "execution_count": 28,
   "id": "473b3cf6",
   "metadata": {},
   "outputs": [
    {
     "data": {
      "text/plain": [
       "['eV', 'eps_1', 'eps_2']"
      ]
     },
     "execution_count": 28,
     "metadata": {},
     "output_type": "execute_result"
    }
   ],
   "source": [
    "array_chi.get_arraynames()"
   ]
  },
  {
   "cell_type": "code",
   "execution_count": 29,
   "id": "99d0161a",
   "metadata": {},
   "outputs": [],
   "source": [
    "energy = array_chi.get_array(\"eV\")\n",
    "epsilon2 = array_chi.get_array(\"eps_2\")"
   ]
  },
  {
   "cell_type": "code",
   "execution_count": 30,
   "id": "e6cda684",
   "metadata": {},
   "outputs": [
    {
     "data": {
      "text/plain": [
       "[<matplotlib.lines.Line2D at 0x7efdec658280>]"
      ]
     },
     "execution_count": 30,
     "metadata": {},
     "output_type": "execute_result"
    },
    {
     "data": {
      "image/png": "[encoded data removed]",
      "text/plain": [
       "<Figure size 640x480 with 1 Axes>"
      ]
     },
     "metadata": {},
     "output_type": "display_data"
    }
   ],
   "source": [
    "import matplotlib.pyplot as plt\n",
    "\n",
    "plt.plot(energy,epsilon2)"
   ]
  },
  {
   "cell_type": "markdown",
   "id": "9ee95574",
   "metadata": {},
   "source": [
    "Up to now, only the BSE absorption and loss spectra can be plotted: the RPA-IP spectra are not saved in the repository.\n",
    "However, they can be easily generated using yambopy functions, once the BSE database is loaded. If you are already and expert of `yambopy`, you can try to do it by using the trick used for the ndb.QP_fixed\n",
    "file."
   ]
  }
 ],
 "metadata": {
  "kernelspec": {
   "display_name": "Python 3 (ipykernel)",
   "language": "python",
   "name": "python3"
  },
  "language_info": {
   "codemirror_mode": {
    "name": "ipython",
    "version": 3
   },
   "file_extension": ".py",
   "mimetype": "text/x-python",
   "name": "python",
   "nbconvert_exporter": "python",
   "pygments_lexer": "ipython3",
   "version": "3.9.16"
  }
 },
 "nbformat": 4,
 "nbformat_minor": 5
}
