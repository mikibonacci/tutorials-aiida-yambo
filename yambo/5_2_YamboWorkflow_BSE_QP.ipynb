{
 "cells": [
  {
   "cell_type": "markdown",
   "id": "fb9fc626",
   "metadata": {},
   "source": [
    "# YamboWorkflow: BSE@GW\n",
    "\n",
    "In this notebook we will compute the BSE@G0W0 absorption spectrum and excitonic eigenvalues by means of the `YamboWorkflow` workchain of the plugin.\n",
    "\n",
    "It is possible to provide the instruction on how to automatically choose the bands to be included in the BSE Hamiltonian. \n",
    "Moreover, the workflow will perform the analysis of the QP eigenvalues in order to find the true band gap and compute the Q-related excitons. "
   ]
  },
  {
   "cell_type": "code",
   "execution_count": 12,
   "id": "1956859c",
   "metadata": {},
   "outputs": [],
   "source": [
    "from aiida import orm, load_profile\n",
    "load_profile()\n",
    "\n",
    "from aiida.plugins import WorkflowFactory\n",
    "from aiida.orm import QueryBuilder\n",
    "from aiida.engine import submit\n",
    "\n",
    "from aiida_quantumespresso.common.types import ElectronicType\n",
    "\n",
    "import yaml\n",
    "\n",
    "qb = QueryBuilder()\n",
    "qb.append(orm.Group, filters={'label': 'hBN/bulk'}, tag='group')\n",
    "qb.append(orm.StructureData, with_group='group')\n",
    "\n",
    "loaded_structure_id = qb.all()[0][0].pk\n",
    "\n",
    "# Read YAML file\n",
    "with open(\"../configuration/codes_localhost.yaml\", 'r') as stream:\n",
    "    codes = yaml.safe_load(stream)\n",
    "    \n",
    "with open(\"../configuration/resources_localhost.yaml\", 'r') as stream:\n",
    "    resources = yaml.safe_load(stream)\n",
    "    \n",
    "options = {\n",
    "    'pseudo_family':\"PseudoDojo/0.4/PBE/SR/standard/upf\",\n",
    "    'protocol':'fast',\n",
    "    #'parent_id':274, #not necessary to set; if you want it, take ytheour previously nscf id (pk) to skip the DFT part.\n",
    "    'structure_id':loaded_structure_id,\n",
    "}\n",
    "\n",
    "YamboWorkflow = WorkflowFactory('yambo.yambo.yambowf')\n",
    "\n",
    "builder = YamboWorkflow.get_builder_from_protocol(\n",
    "            pw_code = options['pwcode_id'],\n",
    "            preprocessing_code = options['yamboprecode_id'],\n",
    "            code = options['yambocode_id'],\n",
    "            protocol=options['protocol'],\n",
    "            protocol_qe=options['protocol'],\n",
    "            structure= orm.load_node(options['structure_id']),\n",
    "            overrides={\n",
    "                'yres': \"yambo\": {\n",
    "                    \"parameters\": {\n",
    "                        \"variables\": {\n",
    "                            \"NGsBlkXs\": [4, \"Ry\"],\n",
    "                            \"BSENGBlk\": [4, \"Ry\"],\n",
    "                            \"FFTGvecs\": [20, \"Ry\"],\n",
    "                        },\n",
    "                    },\n",
    "                },\n",
    "            }\n",
    "            pseudo_family= options['pseudo_family'],\n",
    "            #parent_folder=orm.load_node(options['parent_id']).outputs.remote_folder,\n",
    "            electronic_type=ElectronicType.INSULATOR, #default is METAL: in that case, smearing is used\n",
    "            calc_type='bse', #or 'bse'; default is 'gw'\n",
    ")\n",
    "\n",
    "builder.scf.pw.metadata.options = resources\n",
    "\n",
    "builder.nscf.pw.metadata.options = builder.scf.pw.metadata.options\n",
    "builder.yres.yambo.metadata.options = builder.scf.pw.metadata.options"
   ]
  },
  {
   "cell_type": "markdown",
   "id": "71e6c61f",
   "metadata": {},
   "source": [
    "### Providing the inputs for the G0W0 quasiparticles simulation, to be used in the BSE step.\n",
    "\n",
    "In the following we provide the instructions on the quasiparticles to be computed at the G0W0, and the parameters for the simulation. \n",
    "The parameters for the G0W0 run are stored in under `builder.qp` (NB: `builder.yres` is used for the final BSE calculation!)."
   ]
  },
  {
   "cell_type": "code",
   "execution_count": 11,
   "id": "283f1164",
   "metadata": {},
   "outputs": [],
   "source": [
    "QP_subset_dict= {\n",
    "    'range_QP':6, #eV         , default=nscf_gap_eV*1.2\n",
    "    'range_spectrum':10, #eV\n",
    "\n",
    "}\n",
    "\n",
    "QP_subset_dict.update({\n",
    "    'split_bands':True, #default\n",
    "    'extend_QP': True,  #default is False\n",
    "    'consider_only':[8,9], #we explicitely compute only these bands.\n",
    "    'T_smearing':1e-2, #default\n",
    "    'qp_per_subset': 20,\n",
    "    'parallel_runs':4,\n",
    "})\n",
    "\n",
    "builder.QP_subset_dict= orm.Dict(dict=QP_subset_dict)\n",
    "builder.qp = builder.yres #we provide the same inputs for G0W0 and BSE, namely resources and settings. \n",
    "\n",
    "#providing the G0W0 input parameters.\n",
    "params_gw = {\n",
    "    'arguments': [\n",
    "        'dipoles',\n",
    "        'HF_and_locXC',\n",
    "        'dipoles',\n",
    "        'gw0',\n",
    "        'ppa',],\n",
    "    'variables': {\n",
    "        'Chimod': 'hartree',\n",
    "        'DysSolver': 'n',\n",
    "        'GTermKind': 'BG',\n",
    "        'NGsBlkXp': [2, 'Ry'],\n",
    "        'BndsRnXp': [[1, 50], ''],\n",
    "        'GbndRnge': [[1, 50], ''],\n",
    "        'QPkrange': [[[1, 1, 8, 9]], ''],}}\n",
    "\n",
    "\n",
    "params_gw = orm.Dict(dict=params_gw)\n",
    "builder.qp.yambo.parameters = params_gw"
   ]
  },
  {
   "cell_type": "code",
   "execution_count": 12,
   "id": "b76a01e6",
   "metadata": {},
   "outputs": [
    {
     "data": {
      "text/plain": [
       "{'stash': {}, 'resources': {'num_machines': 1, 'num_mpiprocs_per_machine': 1, 'num_cores_per_mpiproc': 1}, 'max_wallclock_seconds': 3600, 'withmpi': True, 'prepend_text': 'export OMP_NUM_THREADS=1'}"
      ]
     },
     "execution_count": 12,
     "metadata": {},
     "output_type": "execute_result"
    }
   ],
   "source": [
    "builder.yres.yambo.metadata.options"
   ]
  },
  {
   "cell_type": "code",
   "execution_count": 15,
   "id": "ab85646d",
   "metadata": {},
   "outputs": [],
   "source": [
    "builder.additional_parsing = orm.List(list=['gap_','G_v','gap_GG','gap_GY','gap_GK','gap_KK','gap_GM','lowest_exciton','brightest_exciton'])"
   ]
  },
  {
   "cell_type": "markdown",
   "id": "d45e0126",
   "metadata": {},
   "source": [
    "#### Submission"
   ]
  },
  {
   "cell_type": "code",
   "execution_count": 17,
   "id": "121053ae",
   "metadata": {},
   "outputs": [],
   "source": [
    "run = None"
   ]
  },
  {
   "cell_type": "code",
   "execution_count": 18,
   "id": "8adb3ad1",
   "metadata": {},
   "outputs": [
    {
     "name": "stderr",
     "output_type": "stream",
     "text": [
      "/home/max/.conda/envs/aiida/lib/python3.9/site-packages/aiida_quantumespresso/calculations/pw.py:211: UserWarning: `parent_folder` not provided for `nscf` calculation. For work chains wrapping this calculation, you can disable this warning by excluding the `parent_folder` when exposing the inputs of the `PwCalculation`.\n",
      "  warnings.warn(\n"
     ]
    },
    {
     "name": "stdout",
     "output_type": "stream",
     "text": [
      "uuid: 0256439a-6631-4945-887e-c5ba49ed6018 (pk: 1149) (aiida.workflows:yambo.yambo.yambowf)\n"
     ]
    }
   ],
   "source": [
    "if run:\n",
    "    print('run is already running -> {}'.format(run.pk))\n",
    "    print('sure that you want to run again?, if so, copy the else instruction in the cell below and run!')\n",
    "else:\n",
    "    run = submit(builder)\n",
    "\n",
    "print(run)"
   ]
  },
  {
   "cell_type": "markdown",
   "id": "9afeccee",
   "metadata": {},
   "source": [
    "# Inspecting the outputs\n",
    "\n",
    "suppose that your calculation completed successfully, then you can access the outputs via the output method of the run instance. All the outputs of YamboRestart and YamboCalculation are inherited"
   ]
  },
  {
   "cell_type": "code",
   "execution_count": 19,
   "id": "b3890266",
   "metadata": {},
   "outputs": [
    {
     "data": {
      "text/plain": [
       "True"
      ]
     },
     "execution_count": 19,
     "metadata": {},
     "output_type": "execute_result"
    }
   ],
   "source": [
    "run.is_finished_ok"
   ]
  },
  {
   "cell_type": "code",
   "execution_count": 20,
   "id": "685f22e9",
   "metadata": {},
   "outputs": [
    {
     "data": {
      "text/plain": [
       "{'QP': 1205,\n",
       " 'SOC': False,\n",
       " 'gap_': 5.7661077102602,\n",
       " 'homo': -0.14816941235065,\n",
       " 'lumo': 5.6179382979095,\n",
       " 'c_max': 9,\n",
       " 'q_ind': 12,\n",
       " 'v_min': 8,\n",
       " 'gap_GG': 7.6526085703313,\n",
       " 'gap_GK': 8.4104489544958,\n",
       " 'gap_GM': 7.3720397304833,\n",
       " 'gap_GW': 5.7661,\n",
       " 'gap_KK': 6.9361102646321,\n",
       " 'homo_G': -1.7541014325738,\n",
       " 'homo_K': -0.27976274271011,\n",
       " 'lumo_G': 5.8985071377575,\n",
       " 'lumo_K': 6.656347521922,\n",
       " 'lumo_M': 5.6179382979095,\n",
       " 'gap_DFT': 4.2864,\n",
       " 'gap_dft': 4.286365574491,\n",
       " 'nscf_pk': 1164,\n",
       " 'homo_dft': 0.0,\n",
       " 'lumo_dft': 4.286365574491,\n",
       " 'gap_GG_dft': 6.7830101977557,\n",
       " 'gap_GK_dft': 6.2494306598514,\n",
       " 'gap_GM_dft': 5.5682469507486,\n",
       " 'gap_KK_dft': 5.0788742178082,\n",
       " 'homo_G_dft': -1.2818813762575,\n",
       " 'homo_K_dft': -0.11132493421435,\n",
       " 'lumo_G_dft': 5.5011288214982,\n",
       " 'lumo_K_dft': 4.9675492835939,\n",
       " 'lumo_M_dft': 4.286365574491,\n",
       " 'lowest_exciton': 5.5418386459351,\n",
       " 'brightest_exciton': 10.772728919983,\n",
       " 'candidate_for_BSE': True,\n",
       " 'lowest_exciton_index': 1,\n",
       " 'brightest_exciton_index': 60}"
      ]
     },
     "execution_count": 20,
     "metadata": {},
     "output_type": "execute_result"
    }
   ],
   "source": [
    "run.outputs.output_ywfl_parameters.get_dict()"
   ]
  },
  {
   "cell_type": "markdown",
   "id": "b1c8142c",
   "metadata": {},
   "source": [
    "We can see that, among the other, we have `gap_GW`. This is the GW gap as computed from the quasiparticle corrections computed along the BZ (and used in the BSE). \n",
    "So, the workflow analyse the merged ndb.QP and finds the true GW gap (which may be at different k-points with respect to the DFT one) and uses it in case we need to determine its Q-point (the transfer momentum between electron and hole composing our excitons).\n",
    "(*v_min* (*c_max) represents the lowest(highest) valence (conduction) band used in BSE)"
   ]
  },
  {
   "cell_type": "code",
   "execution_count": 21,
   "id": "029d4f56",
   "metadata": {},
   "outputs": [
    {
     "data": {
      "text/plain": [
       "{'soc': False,\n",
       " 'gap_': [[14, 14, 8, 8], [7, 7, 9, 9]],\n",
       " 'gap_GG': [[1, 1, 8, 8], [1, 1, 9, 9]],\n",
       " 'gap_GK': [[1, 1, 8, 8], [13, 13, 9, 9]],\n",
       " 'gap_GM': [[1, 1, 8, 8], [7, 7, 9, 9]],\n",
       " 'gap_KK': [[13, 13, 8, 8], [13, 13, 9, 9]],\n",
       " 'homo_k': 14,\n",
       " 'lumo_k': 7,\n",
       " 'valence': 8,\n",
       " 'gap_type': 'indirect',\n",
       " 'conduction': 9,\n",
       " 'nscf_gap_eV': 4.286,\n",
       " 'dft_predicted': 'semiconductor/insulator',\n",
       " 'number_of_kpoints': 14,\n",
       " 'magnetic_calculation': False}"
      ]
     },
     "execution_count": 21,
     "metadata": {},
     "output_type": "execute_result"
    }
   ],
   "source": [
    "run.outputs.nscf_mapping.get_dict()"
   ]
  },
  {
   "cell_type": "markdown",
   "id": "68c30fbb",
   "metadata": {},
   "source": [
    "## How to start from already computed set of QP\n",
    "\n",
    "It is possible also to skip the QP calculation, if you have already done it.\n",
    "```python\n",
    "builder.yres.yambo.QP_corrections = orm.load_node(<QP_db pk>)\n",
    "\n",
    "bse_params = builder.yres.yambo.parameters.get_dict()\n",
    "bse_params['variables']['KfnQPdb'] = \"E < ./ndb.QP\"\n",
    "\n",
    "builder.yres.yambo.parameters = orm.Dict(dict=bse_params)\n",
    "\n",
    "if not 'KfnQPdb' in builder.yres.yambo.parameters.get_dict()['variables'].keys():\n",
    "    raise KeyError (\"Key KfnQPdb not found in yambo parameters, try to copy.deepcopy the `bse_params` dict before to update it.\") \n",
    "\n",
    "builder.parent_folder = orm.load_node(<previous yambo calc pk>).outputs.remote_folder\n",
    "\n",
    "# To also reuse the computed outputs (like the em1d fragments)\n",
    "builder.yres.yambo.settings = update_dict(self.ctx.yambo_inputs.yambo.settings, 'COPY_DBS', True)\n",
    "```"
   ]
  }
 ],
 "metadata": {
  "kernelspec": {
   "display_name": "Python 3 (ipykernel)",
   "language": "python",
   "name": "python3"
  },
  "language_info": {
   "codemirror_mode": {
    "name": "ipython",
    "version": 3
   },
   "file_extension": ".py",
   "mimetype": "text/x-python",
   "name": "python",
   "nbconvert_exporter": "python",
   "pygments_lexer": "ipython3",
   "version": "3.10.13"
  }
 },
 "nbformat": 4,
 "nbformat_minor": 5
}
