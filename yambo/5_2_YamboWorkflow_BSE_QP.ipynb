{
 "cells": [
  {
   "cell_type": "markdown",
   "id": "fb9fc626",
   "metadata": {},
   "source": [
    "# YamboWorkflow: BSE@GW\n",
    "\n",
    "In this notebook we will compute the BSE@G0W0 absorption spectrum and excitonic eigenvalues by means of the `YamboWorkflow` workchain of the plugin.\n",
    "\n",
    "It is possible to provide the instruction on how to automatically choose the bands to be included in the BSE Hamiltonian. \n",
    "Moreover, the workflow will perform the analysis of the QP eigenvalues in order to find the true band gap and compute the Q-related excitons. "
   ]
  },
  {
   "cell_type": "code",
   "execution_count": 1,
   "id": "1956859c",
   "metadata": {},
   "outputs": [
    {
     "name": "stdout",
     "output_type": "stream",
     "text": [
      "Summary of the main inputs:\n",
      "BndsRnXs = 150\n",
      "NGsBlkXs = 4 Ry\n",
      "BSENGBlk = 4 Ry\n",
      "FFTGvecs = 20 Ry\n",
      "\n",
      "\n",
      "kpoint mesh for nscf: [6, 6, 6]\n"
     ]
    }
   ],
   "source": [
    "from aiida import orm, load_profile\n",
    "load_profile()\n",
    "\n",
    "from aiida.plugins import WorkflowFactory\n",
    "from aiida.orm import QueryBuilder\n",
    "from aiida.engine import submit\n",
    "\n",
    "from aiida_quantumespresso.common.types import ElectronicType\n",
    "\n",
    "import yaml\n",
    "\n",
    "qb = QueryBuilder()\n",
    "qb.append(orm.Group, filters={'label': 'Silicon/bulk'}, tag='group')\n",
    "qb.append(orm.StructureData, with_group='group')\n",
    "\n",
    "loaded_structure_id = qb.all()[0][0].pk\n",
    "\n",
    "# Read YAML file\n",
    "with open(\"../configuration/codes_localhost.yaml\", 'r') as stream:\n",
    "    codes = yaml.safe_load(stream)\n",
    "    \n",
    "with open(\"../configuration/resources_localhost.yaml\", 'r') as stream:\n",
    "    resources = yaml.safe_load(stream)\n",
    "    \n",
    "options = {\n",
    "    'pseudo_family':\"PseudoDojo/0.4/PBE/SR/standard/upf\",\n",
    "    'protocol':'fast',\n",
    "    #'parent_id':274, #not necessary to set; if you want it, take ytheour previously nscf id (pk) to skip the DFT part.\n",
    "    'structure_id':loaded_structure_id,\n",
    "}\n",
    "\n",
    "YamboWorkflow = WorkflowFactory('yambo.yambo.yambowf')\n",
    "\n",
    "builder = YamboWorkflow.get_builder_from_protocol(\n",
    "            pw_code = codes['pwcode_id'],\n",
    "            preprocessing_code = codes['yamboprecode_id'],\n",
    "            code = codes['yambocode_id'],\n",
    "            protocol=options['protocol'],\n",
    "            protocol_qe=options['protocol'],\n",
    "            structure= orm.load_node(options['structure_id']),\n",
    "            overrides={\n",
    "                'yres': {\"yambo\": {\n",
    "                    \"parameters\": {\n",
    "                        \"variables\": {\n",
    "                            \"NGsBlkXs\": [4, \"Ry\"],\n",
    "                            \"BSENGBlk\": [4, \"Ry\"],\n",
    "                            \"FFTGvecs\": [20, \"Ry\"],\n",
    "                        },\n",
    "                    },\n",
    "                },},\n",
    "            },\n",
    "            pseudo_family= options['pseudo_family'],\n",
    "            #parent_folder=orm.load_node(options['parent_id']).outputs.remote_folder,\n",
    "            electronic_type=ElectronicType.INSULATOR, #default is METAL: in that case, smearing is used\n",
    "            calc_type='bse', #or 'bse'; default is 'gw'\n",
    ")\n",
    "\n",
    "builder.scf.pw.metadata.options = resources\n",
    "\n",
    "builder.nscf.pw.metadata.options = builder.scf.pw.metadata.options\n",
    "builder.yres.yambo.metadata.options = builder.scf.pw.metadata.options"
   ]
  },
  {
   "cell_type": "markdown",
   "id": "71e6c61f",
   "metadata": {},
   "source": [
    "### Providing the inputs for the G0W0 quasiparticles simulation, to be used in the BSE step.\n",
    "\n",
    "In the following we provide the instructions on the quasiparticles to be computed at the G0W0, and the parameters for the simulation. \n",
    "The parameters for the G0W0 run are stored in under `builder.qp` (NB: `builder.yres` is used for the final BSE calculation!)."
   ]
  },
  {
   "cell_type": "code",
   "execution_count": 2,
   "id": "283f1164",
   "metadata": {},
   "outputs": [],
   "source": [
    "QP_subset_dict= {\n",
    "    'range_QP':4, #eV         , default=nscf_gap_eV*1.2\n",
    "    'range_spectrum':6, #eV\n",
    "\n",
    "}\n",
    "\n",
    "QP_subset_dict.update({\n",
    "    'split_bands':True, #default\n",
    "    'extend_QP': True,  #default is False\n",
    "    'consider_only':[4,5], #we explicitely compute only these bands.\n",
    "    'T_smearing':1e-2, #default\n",
    "    'qp_per_subset': 20,\n",
    "    'parallel_runs':4,\n",
    "})\n",
    "\n",
    "builder.QP_subset_dict= orm.Dict(dict=QP_subset_dict)\n",
    "builder.qp = builder.yres #we provide the same inputs for G0W0 and BSE, namely resources and settings. \n",
    "\n",
    "#providing the G0W0 input parameters.\n",
    "params_gw = {\n",
    "    'arguments': [\n",
    "        'dipoles',\n",
    "        'HF_and_locXC',\n",
    "        'dipoles',\n",
    "        'gw0',\n",
    "        'ppa',],\n",
    "    'variables': {\n",
    "        'Chimod': 'hartree',\n",
    "        'DysSolver': 'n',\n",
    "        'GTermKind': 'BG',\n",
    "        'NGsBlkXp': [4, 'Ry'],\n",
    "        \"FFTGvecs\": [20, \"Ry\"],\n",
    "        'BndsRnXp': [[1, 50], ''],\n",
    "        'GbndRnge': [[1, 50], ''],\n",
    "        'QPkrange': [[[1, 1, 8, 9]], ''],}}\n",
    "\n",
    "\n",
    "params_gw = orm.Dict(dict=params_gw)\n",
    "builder.qp.yambo.parameters = params_gw"
   ]
  },
  {
   "cell_type": "code",
   "execution_count": 3,
   "id": "b76a01e6",
   "metadata": {},
   "outputs": [
    {
     "data": {
      "text/plain": [
       "{'stash': {}, 'max_wallclock_seconds': 3600, 'prepend_text': 'export OMP_NUM_THREADS=1', 'resources': {'num_cores_per_mpiproc': 1, 'num_machines': 1, 'num_mpiprocs_per_machine': 1}}"
      ]
     },
     "execution_count": 3,
     "metadata": {},
     "output_type": "execute_result"
    }
   ],
   "source": [
    "builder.yres.yambo.metadata.options"
   ]
  },
  {
   "cell_type": "code",
   "execution_count": 4,
   "id": "ab85646d",
   "metadata": {},
   "outputs": [],
   "source": [
    "builder.additional_parsing = orm.List(list=['gap_','G_v','gap_GG','gap_GY','gap_GK','gap_KK','gap_GM','lowest_exciton','brightest_exciton'])"
   ]
  },
  {
   "cell_type": "markdown",
   "id": "d45e0126",
   "metadata": {},
   "source": [
    "#### Submission"
   ]
  },
  {
   "cell_type": "code",
   "execution_count": 5,
   "id": "121053ae",
   "metadata": {},
   "outputs": [],
   "source": [
    "run = None"
   ]
  },
  {
   "cell_type": "code",
   "execution_count": 6,
   "id": "8adb3ad1",
   "metadata": {},
   "outputs": [
    {
     "name": "stderr",
     "output_type": "stream",
     "text": [
      "/home/max/.conda/envs/aiida/lib/python3.9/site-packages/aiida_quantumespresso/calculations/pw.py:211: UserWarning: `parent_folder` not provided for `nscf` calculation. For work chains wrapping this calculation, you can disable this warning by excluding the `parent_folder` when exposing the inputs of the `PwCalculation`.\n",
      "  warnings.warn(\n"
     ]
    },
    {
     "name": "stdout",
     "output_type": "stream",
     "text": [
      "uuid: 95a60d62-19b5-4d99-b8d0-5626fdc4af38 (pk: 799) (aiida.workflows:yambo.yambo.yambowf)\n"
     ]
    }
   ],
   "source": [
    "if run:\n",
    "    print('run is already running -> {}'.format(run.pk))\n",
    "    print('sure that you want to run again?, if so, copy the else instruction in the cell below and run!')\n",
    "else:\n",
    "    run = submit(builder)\n",
    "\n",
    "print(run)"
   ]
  },
  {
   "cell_type": "markdown",
   "id": "9afeccee",
   "metadata": {},
   "source": [
    "# Inspecting the outputs\n",
    "\n",
    "suppose that your calculation completed successfully, then you can access the outputs via the output method of the run instance. All the outputs of YamboRestart and YamboCalculation are inherited"
   ]
  },
  {
   "cell_type": "code",
   "execution_count": 7,
   "id": "b3890266",
   "metadata": {},
   "outputs": [
    {
     "data": {
      "text/plain": [
       "False"
      ]
     },
     "execution_count": 7,
     "metadata": {},
     "output_type": "execute_result"
    }
   ],
   "source": [
    "run.is_finished_ok"
   ]
  },
  {
   "cell_type": "code",
   "execution_count": 16,
   "id": "252c7f13",
   "metadata": {},
   "outputs": [
    {
     "name": "stdout",
     "output_type": "stream",
     "text": [
      "\u001b[22m2024-02-19 15:37:58 [161 | REPORT]: [799|YamboWorkflow|start_workflow]: no previous pw calculation found, we will start from scratch\n",
      "2024-02-19 15:37:58 [162 | REPORT]: [799|YamboWorkflow|start_workflow]:  workflow initilization step completed.\n",
      "2024-02-19 15:37:58 [163 | REPORT]: [799|YamboWorkflow|can_continue]: the workflow continues with a scf calculation\n",
      "2024-02-19 15:37:58 [164 | REPORT]: [799|YamboWorkflow|perform_next]: performing a scf calculation\n",
      "2024-02-19 15:38:00 [165 | REPORT]:   [800|PwBaseWorkChain|run_process]: launching PwCalculation<805> iteration #1\n",
      "2024-02-19 15:38:05 [166 | REPORT]:   [800|PwBaseWorkChain|results]: work chain completed after 1 iterations\n",
      "2024-02-19 15:38:05 [167 | REPORT]:   [800|PwBaseWorkChain|on_terminated]: remote folders will not be cleaned\n",
      "2024-02-19 15:38:05 [168 | REPORT]: [799|YamboWorkflow|can_continue]: the workflow continues with a nscf calculation\n",
      "2024-02-19 15:38:06 [169 | REPORT]: [799|YamboWorkflow|perform_next]: performing a nscf calculation\n",
      "2024-02-19 15:38:07 [170 | REPORT]:   [811|PwBaseWorkChain|run_process]: launching PwCalculation<814> iteration #1\n",
      "2024-02-19 15:38:34 [171 | REPORT]:   [811|PwBaseWorkChain|results]: work chain completed after 1 iterations\n",
      "2024-02-19 15:38:34 [172 | REPORT]:   [811|PwBaseWorkChain|on_terminated]: remote folders will not be cleaned\n",
      "2024-02-19 15:38:34 [173 | REPORT]: [799|YamboWorkflow|can_continue]: the workflow continues with a yambo calculation\n",
      "2024-02-19 15:38:34 [174 | REPORT]: [799|YamboWorkflow|perform_next]: performing a yambo calculation\n",
      "2024-02-19 15:38:34 [175 | REPORT]: [799|YamboWorkflow|perform_next]: updating yambo parameters to parse more results\n",
      "2024-02-19 15:38:35 [176 | REPORT]: [799|YamboWorkflow|perform_next]: {'dft_predicted': 'semiconductor/insulator', 'valence': 4, 'conduction': 5, 'number_of_kpoints': 16, 'nscf_gap_eV': 0.665, 'homo_k': 1, 'lumo_k': 13, 'gap_type': 'indirect', 'gap_': [[1, 1, 4, 4], [13, 13, 5, 5]], 'soc': False, 'magnetic_calculation': False, 'gap_GG': [[1, 1, 4, 4], [1, 1, 5, 5]]}\n",
      "2024-02-19 15:38:37 [177 | REPORT]:   [821|YamboRestart|run_process]: launching YamboCalculation<822> iteration #1\n",
      "2024-02-19 15:39:11 [178 | REPORT]:   [821|YamboRestart|results]: work chain completed after 1 iterations\n",
      "2024-02-19 15:39:11 [179 | REPORT]:   [821|YamboRestart|on_terminated]: remote folders will not be cleaned\n",
      "2024-02-19 15:39:11 [180 | REPORT]: [799|YamboWorkflow|can_continue]: the workflow continues with a QP splitter calculation\n",
      "2024-02-19 15:39:11 [181 | REPORT]: [799|YamboWorkflow|perform_next]: performing a QP splitter calculation\n",
      "2024-02-19 15:39:11 [182 | REPORT]: [799|YamboWorkflow|perform_next]: range of energy for QP: 4 eV\n",
      "2024-02-19 15:39:12 [183 | REPORT]: [799|YamboWorkflow|perform_next]: subsets: [[[1, 1, 4, 4], [1, 1, 5, 5], [2, 2, 4, 4], [2, 2, 5, 5], [3, 3, 4, 4], [3, 3, 5, 5], [4, 4, 4, 4], [4, 4, 5, 5], [5, 5, 4, 4], [5, 5, 5, 5], [6, 6, 4, 4], [6, 6, 5, 5], [7, 7, 4, 4], [7, 7, 5, 5], [8, 8, 4, 4], [8, 8, 5, 5], [9, 9, 4, 4], [9, 9, 5, 5], [10, 10, 4, 4], [10, 10, 5, 5]], [[11, 11, 4, 4], [11, 11, 5, 5], [12, 12, 4, 4], [12, 12, 5, 5], [13, 13, 4, 4], [13, 13, 5, 5], [14, 14, 4, 4], [14, 14, 5, 5], [15, 15, 4, 4], [15, 15, 5, 5], [16, 16, 5, 5]]]\n",
      "2024-02-19 15:39:12 [184 | REPORT]: [799|YamboWorkflow|perform_next]: launchiing YamboRestart <831> for QP, iteration#1\n",
      "2024-02-19 15:39:13 [185 | REPORT]: [799|YamboWorkflow|perform_next]: launchiing YamboRestart <833> for QP, iteration#2\n",
      "2024-02-19 15:39:14 [186 | REPORT]:   [831|YamboRestart|run_process]: launching YamboCalculation<834> iteration #1\n",
      "2024-02-19 15:39:15 [187 | REPORT]:   [833|YamboRestart|run_process]: launching YamboCalculation<835> iteration #1\n",
      "2024-02-19 15:40:18 [188 | REPORT]:   [831|YamboRestart|results]: work chain completed after 1 iterations\n",
      "2024-02-19 15:40:18 [189 | REPORT]:   [831|YamboRestart|on_terminated]: cleaned remote folders of calculations: 834\n",
      "2024-02-19 15:40:42 [190 | REPORT]:   [833|YamboRestart|results]: work chain completed after 1 iterations\n",
      "2024-02-19 15:40:42 [191 | REPORT]:   [833|YamboRestart|on_terminated]: cleaned remote folders of calculations: 835\n",
      "2024-02-19 15:40:42 [192 | REPORT]: [799|YamboWorkflow|can_continue]: workflow is finished\n",
      "2024-02-19 15:40:42 [193 | REPORT]: [799|YamboWorkflow|post_processing_needed]: merge QP needed\n",
      "2024-02-19 15:40:42 [194 | REPORT]: [799|YamboWorkflow|run_post_process]: run merge QP\n",
      "2024-02-19 15:41:06 [195 | REPORT]: [799|YamboWorkflow|should_run_bse]: We run BSE@GW\n",
      "2024-02-19 15:41:08 [196 | REPORT]:   [857|YamboRestart|run_process]: launching YamboCalculation<858> iteration #1\n",
      "2024-02-19 15:43:08 [197 | REPORT]:   [857|YamboRestart|results]: work chain completed after 1 iterations\n",
      "2024-02-19 15:43:08 [198 | REPORT]:   [857|YamboRestart|on_terminated]: remote folders will not be cleaned\n",
      "2024-02-19 15:43:09 [199 | REPORT]: [799|YamboWorkflow|report_wf]: PARSED: {'gap_': 1.0622892435014248, 'homo': -0.24918457502126695, 'lumo': 0.8131046684801578, 'gap_dft': 0.6649433657586575, 'homo_dft': 0.0, 'lumo_dft': 0.6649433657586575, 'gap_GG': 3.068540131515265, 'homo_G': -0.24918457502126695, 'lumo_G': 2.819355556493998, 'gap_GG_dft': 2.5556287944734097, 'homo_G_dft': 0.0, 'lumo_G_dft': 2.5556287944734097, 'nscf_pk': 814, 'v_min': 4, 'c_max': 5, 'q_ind': 13, 'GW_k_v_ind': 1, 'GW_k_c_ind': 13, 'candidate_for_BSE': True, 'gap_GW': 1.0623, 'QP_pk': 855, 'SOC': False, 'lowest_exciton': 2.9350126, 'lowest_exciton_index': 1, 'brightest_exciton': 34.06718, 'brightest_exciton_index': 3456}\n",
      "2024-02-19 15:43:09 [200 | REPORT]: [799|YamboWorkflow|report_wf]: workflow completed successfully\u001b[0m\n"
     ]
    }
   ],
   "source": [
    "!verdi process report {run.pk}"
   ]
  },
  {
   "cell_type": "code",
   "execution_count": 17,
   "id": "685f22e9",
   "metadata": {},
   "outputs": [
    {
     "data": {
      "text/plain": [
       "{'SOC': False,\n",
       " 'gap_': 1.0622892435014,\n",
       " 'homo': -0.24918457502127,\n",
       " 'lumo': 0.81310466848016,\n",
       " 'QP_pk': 855,\n",
       " 'c_max': 5,\n",
       " 'q_ind': 13,\n",
       " 'v_min': 4,\n",
       " 'gap_GG': 3.0685401315153,\n",
       " 'gap_GW': 1.0623,\n",
       " 'homo_G': -0.24918457502127,\n",
       " 'lumo_G': 2.819355556494,\n",
       " 'gap_dft': 0.66494336575866,\n",
       " 'nscf_pk': 814,\n",
       " 'homo_dft': 0.0,\n",
       " 'lumo_dft': 0.66494336575866,\n",
       " 'GW_k_c_ind': 13,\n",
       " 'GW_k_v_ind': 1,\n",
       " 'gap_GG_dft': 2.5556287944734,\n",
       " 'homo_G_dft': 0.0,\n",
       " 'lumo_G_dft': 2.5556287944734,\n",
       " 'lowest_exciton': 2.9350125789642,\n",
       " 'brightest_exciton': 34.067180633545,\n",
       " 'candidate_for_BSE': True,\n",
       " 'lowest_exciton_index': 1,\n",
       " 'brightest_exciton_index': 3456}"
      ]
     },
     "execution_count": 17,
     "metadata": {},
     "output_type": "execute_result"
    }
   ],
   "source": [
    "run.outputs.output_ywfl_parameters.get_dict()"
   ]
  },
  {
   "cell_type": "markdown",
   "id": "b1c8142c",
   "metadata": {},
   "source": [
    "We can see that, among the other, we have `gap_GW`. This is the GW gap as computed from the quasiparticle corrections computed along the BZ (and used in the BSE). \n",
    "So, the workflow analyse the merged ndb.QP and finds the true GW gap (which may be at different k-points with respect to the DFT one) and uses it in case we need to determine its Q-point (the transfer momentum between electron and hole composing our excitons).\n",
    "(*v_min* (*c_max) represents the lowest(highest) valence (conduction) band used in BSE)"
   ]
  },
  {
   "cell_type": "code",
   "execution_count": 18,
   "id": "029d4f56",
   "metadata": {},
   "outputs": [
    {
     "data": {
      "text/plain": [
       "{'soc': False,\n",
       " 'gap_': [[1, 1, 4, 4], [13, 13, 5, 5]],\n",
       " 'gap_GG': [[1, 1, 4, 4], [1, 1, 5, 5]],\n",
       " 'homo_k': 1,\n",
       " 'lumo_k': 13,\n",
       " 'valence': 4,\n",
       " 'gap_type': 'indirect',\n",
       " 'conduction': 5,\n",
       " 'nscf_gap_eV': 0.665,\n",
       " 'dft_predicted': 'semiconductor/insulator',\n",
       " 'number_of_kpoints': 16,\n",
       " 'magnetic_calculation': False}"
      ]
     },
     "execution_count": 18,
     "metadata": {},
     "output_type": "execute_result"
    }
   ],
   "source": [
    "run.outputs.nscf_mapping.get_dict()"
   ]
  },
  {
   "cell_type": "markdown",
   "id": "68c30fbb",
   "metadata": {},
   "source": [
    "## How to start from already computed set of QP\n",
    "\n",
    "It is possible also to skip the QP calculation, if you have already done it.\n",
    "```python\n",
    "builder.yres.yambo.QP_corrections = orm.load_node(<QP_db pk>)\n",
    "\n",
    "bse_params = builder.yres.yambo.parameters.get_dict()\n",
    "bse_params['variables']['KfnQPdb'] = \"E < ./ndb.QP\"\n",
    "\n",
    "builder.yres.yambo.parameters = orm.Dict(dict=bse_params)\n",
    "\n",
    "if not 'KfnQPdb' in builder.yres.yambo.parameters.get_dict()['variables'].keys():\n",
    "    raise KeyError (\"Key KfnQPdb not found in yambo parameters, try to copy.deepcopy the `bse_params` dict before to update it.\") \n",
    "\n",
    "builder.parent_folder = orm.load_node(<previous yambo calc pk>).outputs.remote_folder\n",
    "\n",
    "# To also reuse the computed outputs (like the em1d fragments)\n",
    "builder.yres.yambo.settings = update_dict(self.ctx.yambo_inputs.yambo.settings, 'COPY_DBS', True)\n",
    "```"
   ]
  }
 ],
 "metadata": {
  "kernelspec": {
   "display_name": "Python 3 (ipykernel)",
   "language": "python",
   "name": "python3"
  },
  "language_info": {
   "codemirror_mode": {
    "name": "ipython",
    "version": 3
   },
   "file_extension": ".py",
   "mimetype": "text/x-python",
   "name": "python",
   "nbconvert_exporter": "python",
   "pygments_lexer": "ipython3",
   "version": "3.9.16"
  }
 },
 "nbformat": 4,
 "nbformat_minor": 5
}
