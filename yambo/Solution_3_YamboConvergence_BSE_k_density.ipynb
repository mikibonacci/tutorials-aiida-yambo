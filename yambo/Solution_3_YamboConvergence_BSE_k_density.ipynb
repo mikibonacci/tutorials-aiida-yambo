{
 "cells": [
  {
   "cell_type": "markdown",
   "id": "a26b52e1",
   "metadata": {},
   "source": [
    "# YamboConvergence: automated BSE convergence with respect to the k-points density\n",
    "\n",
    "In the following, we will perform BSE convergence using the same workflow as for the GW simulations: `YamboConvergence`.\n",
    "The purpose is to compute BSE convergence with respect to the k-points density, instead of pre-defined k-points meshes."
   ]
  },
  {
   "cell_type": "code",
   "execution_count": 1,
   "id": "0dd30649",
   "metadata": {},
   "outputs": [
    {
     "data": {
      "text/plain": [
       "Profile<uuid='3745313b017b418697d37cbf16c4e7ef' name='generic'>"
      ]
     },
     "execution_count": 1,
     "metadata": {},
     "output_type": "execute_result"
    }
   ],
   "source": [
    "from aiida import orm, load_profile\n",
    "load_profile()\n",
    "\n",
    "from aiida.plugins import WorkflowFactory\n",
    "from aiida.orm import QueryBuilder\n",
    "\n",
    "from aiida_quantumespresso.common.types import ElectronicType\n",
    "\n",
    "import yaml\n",
    "\n",
    "\n",
    "qb = QueryBuilder()\n",
    "qb.append(orm.Group, filters={'label': 'hBN/bulk'}, tag='group')\n",
    "qb.append(orm.StructureData, with_group='group')\n",
    "\n",
    "loaded_structure_id = qb.all()[0][0].pk\n",
    "\n",
    "# Read YAML file\n",
    "with open(\"../configuration/codes_localhost.yaml\", 'r') as stream:\n",
    "    codes = yaml.safe_load(stream)\n",
    "    \n",
    "with open(\"../configuration/resources_localhost.yaml\", 'r') as stream:\n",
    "    resources = yaml.safe_load(stream)\n",
    "    \n",
    "options = {\n",
    "    'pseudo_family':\"PseudoDojo/0.4/PBE/SR/standard/upf\",\n",
    "    'protocol':'fast',\n",
    "    #'parent_id':274, #not necessary to set; if you want it, take ytheour previously nscf id (pk) to skip the DFT part.\n",
    "    'structure_id':loaded_structure_id,\n",
    "}\n",
    "options.update(codes)\n",
    "\n",
    "overrides_scf = {\n",
    "        'pseudo_family': \"PseudoDojo/0.4/PBE/SR/standard/upf\", \n",
    "        'pw':{\n",
    "            \n",
    "        'metadata':resources,\n",
    "        },\n",
    "    }\n",
    "\n",
    "overrides_nscf = {\n",
    "        'pseudo_family': \"PseudoDojo/0.4/PBE/SR/standard/upf\", \n",
    "        'pw': {\n",
    "            'parameters':{\n",
    "                'CONTROL':{}, #not needed if you don't override something\n",
    "                'SYSTEM':{},\n",
    "                'ELECTRONS':{'diagonalization':'cg'},\n",
    "            },\n",
    "             'metadata':resources,\n",
    "    },\n",
    "}\n",
    "\n",
    "overrides_yambo = {\n",
    "        \"yambo\": {\n",
    "            \"parameters\": {\n",
    "                \"arguments\": [\n",
    "                    \"rim_cut\",\n",
    "                ],\n",
    "                \"variables\": {\n",
    "                    \"FFTGvecs\": [20, \"Ry\"],\n",
    "                    'GbndRnge': [[1, 50], ''],\n",
    "                    'BndsRnXs': [[1, 50], ''],\n",
    "                    'NGsBlkXs': [2, 'Ry'],\n",
    "                    'BSENGBlk': [2, 'Ry'],\n",
    "                    'KfnQP_E':[[1.5,1,1],''],           # <== Scissor and stretching correction.\n",
    "                    'BS_CPU':str(int(16/2))+' 2 1',     # <== PARALLELISM INFO\n",
    "                    'BS_ROLEs':'k eh t',                # <== PARALLELISM INFO\n",
    "                },\n",
    "            },\n",
    "        'metadata':resources,\n",
    "        },\n",
    "    \n",
    "}\n",
    "\n",
    "#Be careful with the mesh choice!!! \n",
    "overrides_meta = {\n",
    "        'FFTGvecs': {\n",
    "            'start_ratio': 0.25,\n",
    "            'stop_ratio': 0.7,\n",
    "            'delta_ratio': 0.1,\n",
    "            'max_ratio': 1,\n",
    "        },\n",
    "        'bands': {\n",
    "            'start': 50,\n",
    "            'stop': 400,\n",
    "            'delta': 50,\n",
    "            'max': 600,\n",
    "            'ratio':[10,25,50],\n",
    "        },\n",
    "        'G_vectors': {\n",
    "            'start': 2,\n",
    "            'stop': 8,\n",
    "            'delta': 1,\n",
    "            'max': 10,\n",
    "        },\n",
    "        'kpoint_density': {\n",
    "            'start': 1,\n",
    "            'stop': 0.4,\n",
    "            'delta': 1,\n",
    "            'max': 0.1,\n",
    "        } ,\n",
    "        'conv_thr_k': 5,   # <== 5% for convergence wrt super-converged estimation.\n",
    "        'conv_thr_bG': 10,\n",
    "        'conv_thr_FFT': 10,\n",
    "        'conv_thr_units': '%', # 'eV'\n",
    "\n",
    "        \n",
    "    }\n",
    "\n",
    "        \n",
    "overrides_wfl_settings = {\n",
    "        'what':['lowest_exciton'],          # <== converging the lowest exciton.\n",
    "        'type': 'heavy', #or cheap; heavy uses converged value for parameters that we are not converging in a given iteration.\n",
    "    }\n",
    "\n",
    "overrides = {\n",
    "        'ywfl':{'scf':overrides_scf,'nscf':overrides_nscf,'yres':overrides_yambo},\n",
    "        'workflow_settings':overrides_wfl_settings,\n",
    "    }\n",
    "\n",
    "\n",
    "YamboConvergence = WorkflowFactory('yambo.yambo.yamboconvergence')\n",
    "builder = YamboConvergence.get_builder_from_protocol(\n",
    "    pw_code = options['pwcode_id'],\n",
    "    preprocessing_code = options['yamboprecode_id'],\n",
    "    code = options['yambocode_id'],\n",
    "    protocol=options['protocol'],\n",
    "    protocol_qe=options['protocol'],\n",
    "    structure=orm.load_node(options['structure_id']),\n",
    "    overrides=overrides,\n",
    "    #parent_folder=load_node(options['parent_id']).outputs.remote_folder,\n",
    "    electronic_type=ElectronicType.INSULATOR, #default is METAL: smearing is used\n",
    "    calc_type='bse', #or 'bse'; default is 'gw'\n",
    ")\n",
    "\n",
    "builder.ywfl.scf.pw.metadata.options = resources\n",
    "\n",
    "builder.ywfl.nscf.pw.metadata.options = builder.ywfl.scf.pw.metadata.options\n",
    "builder.ywfl.yres.yambo.metadata.options = builder.ywfl.scf.pw.metadata.options\n",
    "\n",
    "#group\n",
    "try:\n",
    "    g = orm.load_group('tutorial/hBN/convergence/BSE')\n",
    "except:\n",
    "    g = orm.Group('tutorial/hBN/convergence/BSE')\n",
    "    g.store()\n",
    "    \n",
    "builder.group_label = orm.Str('tutorial/hBN/convergence/BSE') # verdi group create tutorial/hBN/convergence; all calculationsc are added to the group\n",
    "\n",
    "\n",
    "# parameters:\n",
    "builder.ywfl.yres.yambo.parameters = orm.Dict(\n",
    "    dict={'arguments':['em1s','bse','bss','optics', 'dipoles',],\n",
    "                'variables':{\n",
    "                'BSEmod': 'resonant',\n",
    "                'BSKmod': 'SEX',\n",
    "                'BSSmod': 'd',\n",
    "                'Lkind': 'full',\n",
    "                'NGsBlkXs': [2, 'Ry'],\n",
    "                'BSENGBlk': [2, 'Ry'],\n",
    "                'Chimod': 'hartree',\n",
    "                'DysSolver': 'n',\n",
    "                'BEnSteps': [10,''],\n",
    "                'BSEQptR': [[1,1],''],\n",
    "                'BSEBands': [[8,9],''],\n",
    "                'BEnRange': [[0.0, 10.0],'eV'],\n",
    "                'BDmRange': [[0.1, 0.1],'eV'],\n",
    "                'BLongDir': [[1.0, 1.0, 1.0],''],\n",
    "                'LongDrXp': [[1.0, 1.0, 1.0],''],\n",
    "                'LongDrXd': [[1.0, 1.0, 1.0],''],\n",
    "                'LongDrXs': [[1.0, 1.0, 1.0],''],\n",
    "                'BndsRnXs': [[1,50], ''],\n",
    "                'KfnQP_E':[[1.5,1,1],''],\n",
    "                'BS_CPU':str(int(16/2))+' 2 1',\n",
    "                'BS_ROLEs':'k eh t',\n",
    "                },}\n",
    ")"
   ]
  },
  {
   "cell_type": "markdown",
   "id": "14bf95ae",
   "metadata": {},
   "source": [
    "## Solution --> k-points density:"
   ]
  },
  {
   "cell_type": "code",
   "execution_count": null,
   "id": "7b98924d",
   "metadata": {},
   "outputs": [],
   "source": [
    "builder.parameters_space = orm.List(list=[\n",
    " {'var': ['kpoint_density'],\n",
    "  'start': 1/0.8, # Angstrom, or 1/(max distance in reciprocal space, in 1/A)\n",
    "  'stop': 1/0.4,\n",
    "  'delta': 0.5,   \n",
    "  'max': 1/0.2,\n",
    "  'steps': 4,\n",
    "  'max_iterations': 4,\n",
    "  'conv_thr': 3,\n",
    "  'conv_thr_units': '%',\n",
    "  'convergence_algorithm': 'new_algorithm_1D'},])"
   ]
  },
  {
   "cell_type": "code",
   "execution_count": 52,
   "id": "e03c527f",
   "metadata": {},
   "outputs": [],
   "source": [
    "run = None"
   ]
  },
  {
   "cell_type": "code",
   "execution_count": 53,
   "id": "706b0706",
   "metadata": {},
   "outputs": [
    {
     "name": "stderr",
     "output_type": "stream",
     "text": [
      "/home/max/.conda/envs/aiida/lib/python3.9/site-packages/aiida_quantumespresso/calculations/pw.py:211: UserWarning: `parent_folder` not provided for `nscf` calculation. For work chains wrapping this calculation, you can disable this warning by excluding the `parent_folder` when exposing the inputs of the `PwCalculation`.\n",
      "  warnings.warn(\n"
     ]
    },
    {
     "name": "stdout",
     "output_type": "stream",
     "text": [
      "uuid: be5a7185-de39-4f68-80c1-813c37dd608f (pk: 1401) (aiida.workflows:yambo.yambo.yamboconvergence)\n"
     ]
    }
   ],
   "source": [
    "if run:\n",
    "    print('run is already running -> {}'.format(run.pk))\n",
    "    print('sure that you want to run again?, if so, copy the else instruction in the cell below and run!')\n",
    "else:\n",
    "    run = submit(builder)\n",
    "\n",
    "print(run)"
   ]
  },
  {
   "cell_type": "markdown",
   "id": "0880d8ac",
   "metadata": {},
   "source": [
    "# Output analysis.\n",
    "\n",
    "suppose that your calculation completed successfully, then you can access the outputs via the output method of the run instance: "
   ]
  },
  {
   "cell_type": "code",
   "execution_count": 54,
   "id": "51ae03e5",
   "metadata": {},
   "outputs": [
    {
     "data": {
      "text/plain": [
       "False"
      ]
     },
     "execution_count": 54,
     "metadata": {},
     "output_type": "execute_result"
    }
   ],
   "source": [
    "run.is_finished_ok"
   ]
  },
  {
   "cell_type": "code",
   "execution_count": 58,
   "id": "60ee583d",
   "metadata": {},
   "outputs": [
    {
     "name": "stdout",
     "output_type": "stream",
     "text": [
      "\u001b[22m2024-01-16 16:23:52 [643 | REPORT]: [1401|YamboConvergence|start_workflow]: group: tutorial/hBN/convergence/BSE\n",
      "2024-01-16 16:23:52 [644 | REPORT]: [1401|YamboConvergence|start_workflow]: Workflow type: heavy; looking for convergence of ['lowest_exciton']\n",
      "2024-01-16 16:23:52 [645 | REPORT]: [1401|YamboConvergence|start_workflow]: Workflow initilization step completed, the parameters will be: ['kpoint_mesh'].\n",
      "2024-01-16 16:23:52 [646 | REPORT]: [1401|YamboConvergence|has_to_continue]: Still iteration on ['kpoint_mesh']\n",
      "2024-01-16 16:23:52 [647 | REPORT]: [1401|YamboConvergence|pre_needed]: {'kpoint_mesh': [[4, 4, 2], [5, 5, 3], [7, 7, 3], [8, 8, 4]]}\n",
      "2024-01-16 16:23:52 [648 | REPORT]: [1401|YamboConvergence|next_step]: New parameters are: {'kpoint_mesh': [4, 4, 2]}\n",
      "2024-01-16 16:23:52 [649 | REPORT]: [1401|YamboConvergence|next_step]: Calculation already done: 1244\n",
      "2024-01-16 16:23:54 [650 | REPORT]: [1401|YamboConvergence|next_step]: New parameters are: {'kpoint_mesh': [5, 5, 3]}\n",
      "2024-01-16 16:23:59 [651 | REPORT]: [1401|YamboConvergence|next_step]: New parameters are: {'kpoint_mesh': [7, 7, 3]}\n",
      "2024-01-16 16:24:03 [652 | REPORT]: [1401|YamboConvergence|next_step]: New parameters are: {'kpoint_mesh': [8, 8, 4]}\n",
      "2024-01-16 16:24:05 [653 | REPORT]:   [1405|YamboWorkflow|start_workflow]: no previous pw calculation found, we will start from scratch\n",
      "2024-01-16 16:24:05 [654 | REPORT]:   [1405|YamboWorkflow|start_workflow]:  workflow initilization step completed.\n",
      "2024-01-16 16:24:05 [655 | REPORT]:   [1405|YamboWorkflow|can_continue]: the workflow continues with a scf calculation\n",
      "2024-01-16 16:24:05 [656 | REPORT]:   [1405|YamboWorkflow|perform_next]: performing a scf calculation\n",
      "2024-01-16 16:24:06 [657 | REPORT]:   [1408|YamboWorkflow|start_workflow]: no previous pw calculation found, we will start from scratch\n",
      "2024-01-16 16:24:06 [658 | REPORT]:   [1408|YamboWorkflow|start_workflow]:  workflow initilization step completed.\n",
      "2024-01-16 16:24:06 [659 | REPORT]:   [1408|YamboWorkflow|can_continue]: the workflow continues with a scf calculation\n",
      "2024-01-16 16:24:06 [660 | REPORT]:   [1408|YamboWorkflow|perform_next]: performing a scf calculation\n",
      "2024-01-16 16:24:07 [661 | REPORT]:   [1411|YamboWorkflow|start_workflow]: no previous pw calculation found, we will start from scratch\n",
      "2024-01-16 16:24:07 [662 | REPORT]:   [1411|YamboWorkflow|start_workflow]:  workflow initilization step completed.\n",
      "2024-01-16 16:24:07 [663 | REPORT]:   [1411|YamboWorkflow|can_continue]: the workflow continues with a scf calculation\n",
      "2024-01-16 16:24:07 [664 | REPORT]:   [1411|YamboWorkflow|perform_next]: performing a scf calculation\n",
      "2024-01-16 16:24:09 [665 | REPORT]:     [1414|PwBaseWorkChain|run_process]: launching PwCalculation<1423> iteration #1\n",
      "2024-01-16 16:24:10 [666 | REPORT]:     [1413|PwBaseWorkChain|run_process]: launching PwCalculation<1426> iteration #1\n",
      "2024-01-16 16:24:11 [667 | REPORT]:     [1412|PwBaseWorkChain|run_process]: launching PwCalculation<1429> iteration #1\n",
      "2024-01-16 16:24:46 [668 | REPORT]:     [1414|PwBaseWorkChain|results]: work chain completed after 1 iterations\n",
      "2024-01-16 16:24:46 [669 | REPORT]:     [1414|PwBaseWorkChain|on_terminated]: remote folders will not be cleaned\n",
      "2024-01-16 16:24:47 [670 | REPORT]:     [1413|PwBaseWorkChain|results]: work chain completed after 1 iterations\n",
      "2024-01-16 16:24:47 [671 | REPORT]:     [1413|PwBaseWorkChain|on_terminated]: remote folders will not be cleaned\n",
      "2024-01-16 16:24:47 [672 | REPORT]:     [1412|PwBaseWorkChain|results]: work chain completed after 1 iterations\n",
      "2024-01-16 16:24:47 [673 | REPORT]:     [1412|PwBaseWorkChain|on_terminated]: remote folders will not be cleaned\n",
      "2024-01-16 16:24:48 [674 | REPORT]:   [1411|YamboWorkflow|can_continue]: the workflow continues with a nscf calculation\n",
      "2024-01-16 16:24:48 [675 | REPORT]:   [1411|YamboWorkflow|perform_next]: performing a nscf calculation\n",
      "2024-01-16 16:24:48 [676 | REPORT]:   [1408|YamboWorkflow|can_continue]: the workflow continues with a nscf calculation\n",
      "2024-01-16 16:24:48 [677 | REPORT]:   [1408|YamboWorkflow|perform_next]: performing a nscf calculation\n",
      "2024-01-16 16:24:49 [678 | REPORT]:   [1405|YamboWorkflow|can_continue]: the workflow continues with a nscf calculation\n",
      "2024-01-16 16:24:49 [679 | REPORT]:   [1405|YamboWorkflow|perform_next]: performing a nscf calculation\n",
      "2024-01-16 16:24:50 [680 | REPORT]:     [1445|PwBaseWorkChain|run_process]: launching PwCalculation<1450> iteration #1\n",
      "2024-01-16 16:24:51 [681 | REPORT]:     [1446|PwBaseWorkChain|run_process]: launching PwCalculation<1453> iteration #1\n",
      "2024-01-16 16:24:52 [682 | REPORT]:     [1447|PwBaseWorkChain|run_process]: launching PwCalculation<1456> iteration #1\n",
      "2024-01-16 16:26:45 [683 | REPORT]:     [1447|PwBaseWorkChain|results]: work chain completed after 1 iterations\n",
      "2024-01-16 16:26:46 [684 | REPORT]:     [1447|PwBaseWorkChain|on_terminated]: remote folders will not be cleaned\n",
      "2024-01-16 16:26:46 [685 | REPORT]:   [1405|YamboWorkflow|can_continue]: the workflow continues with a yambo calculation\n",
      "2024-01-16 16:26:46 [686 | REPORT]:   [1405|YamboWorkflow|perform_next]: performing a yambo calculation\n",
      "2024-01-16 16:26:46 [687 | REPORT]:   [1405|YamboWorkflow|perform_next]: updating yambo parameters to parse more results\n",
      "2024-01-16 16:26:46 [688 | REPORT]:   [1405|YamboWorkflow|perform_next]: {'dft_predicted': 'semiconductor/insulator', 'valence': 8, 'conduction': 9, 'number_of_kpoints': 10, 'nscf_gap_eV': 4.678, 'homo_k': 9, 'lumo_k': 9, 'gap_type': 'direct', 'gap_': [[9, 9, 8, 8], [9, 9, 9, 9]], 'soc': False, 'magnetic_calculation': False}\n",
      "2024-01-16 16:26:48 [689 | REPORT]:     [1465|YamboRestart|validate_parameters]: Issue in check_variables.\n",
      "2024-01-16 16:26:48 [690 | REPORT]:     [1465|YamboRestart|run_process]: launching YamboCalculation<1466> iteration #1\n",
      "2024-01-16 16:27:47 [692 | REPORT]:     [1446|PwBaseWorkChain|results]: work chain completed after 1 iterations\n",
      "2024-01-16 16:27:47 [693 | REPORT]:     [1446|PwBaseWorkChain|on_terminated]: remote folders will not be cleaned\n",
      "2024-01-16 16:27:47 [694 | REPORT]:   [1408|YamboWorkflow|can_continue]: the workflow continues with a yambo calculation\n",
      "2024-01-16 16:27:47 [695 | REPORT]:   [1408|YamboWorkflow|perform_next]: performing a yambo calculation\n",
      "2024-01-16 16:27:47 [696 | REPORT]:   [1408|YamboWorkflow|perform_next]: updating yambo parameters to parse more results\n",
      "2024-01-16 16:27:47 [697 | REPORT]:   [1408|YamboWorkflow|perform_next]: {'dft_predicted': 'semiconductor/insulator', 'valence': 8, 'conduction': 9, 'number_of_kpoints': 16, 'nscf_gap_eV': 4.463, 'homo_k': 15, 'lumo_k': 13, 'gap_type': 'indirect', 'gap_': [[15, 15, 8, 8], [13, 13, 9, 9]], 'soc': False, 'magnetic_calculation': False}\n",
      "2024-01-16 16:27:48 [698 | REPORT]:     [1473|YamboRestart|validate_parameters]: Issue in check_variables.\n",
      "2024-01-16 16:27:49 [699 | REPORT]:     [1473|YamboRestart|run_process]: launching YamboCalculation<1474> iteration #1\n",
      "2024-01-16 16:28:34 [700 | REPORT]:     [1465|YamboRestart|results]: work chain completed after 1 iterations\n",
      "2024-01-16 16:28:35 [701 | REPORT]:     [1465|YamboRestart|on_terminated]: remote folders will not be cleaned\n",
      "2024-01-16 16:28:35 [702 | REPORT]:   [1405|YamboWorkflow|can_continue]: workflow is finished\n",
      "2024-01-16 16:28:35 [703 | REPORT]:   [1405|YamboWorkflow|post_processing_needed]: no post processing needed\n",
      "2024-01-16 16:28:36 [704 | REPORT]:   [1405|YamboWorkflow|report_wf]: PARSED: {'lowest_exciton': 5.232893, 'lowest_exciton_index': 1}\n",
      "2024-01-16 16:28:36 [705 | REPORT]:   [1405|YamboWorkflow|report_wf]: workflow completed successfully\n",
      "2024-01-16 16:29:20 [707 | REPORT]:     [1445|PwBaseWorkChain|results]: work chain completed after 1 iterations\n",
      "2024-01-16 16:29:20 [708 | REPORT]:     [1445|PwBaseWorkChain|on_terminated]: remote folders will not be cleaned\n",
      "2024-01-16 16:29:21 [709 | REPORT]:   [1411|YamboWorkflow|can_continue]: the workflow continues with a yambo calculation\n",
      "2024-01-16 16:29:21 [710 | REPORT]:   [1411|YamboWorkflow|perform_next]: performing a yambo calculation\n",
      "2024-01-16 16:29:21 [711 | REPORT]:   [1411|YamboWorkflow|perform_next]: updating yambo parameters to parse more results\n",
      "2024-01-16 16:29:21 [712 | REPORT]:   [1411|YamboWorkflow|perform_next]: {'dft_predicted': 'semiconductor/insulator', 'valence': 8, 'conduction': 9, 'number_of_kpoints': 30, 'nscf_gap_eV': 4.255, 'homo_k': 28, 'lumo_k': 13, 'gap_type': 'indirect', 'gap_': [[28, 28, 8, 8], [13, 13, 9, 9]], 'soc': False, 'magnetic_calculation': False}\n",
      "2024-01-16 16:29:22 [713 | REPORT]:     [1487|YamboRestart|validate_parameters]: Issue in check_variables.\n",
      "2024-01-16 16:29:23 [714 | REPORT]:     [1487|YamboRestart|run_process]: launching YamboCalculation<1488> iteration #1\n",
      "2024-01-16 16:31:38 [715 | REPORT]:     [1473|YamboRestart|results]: work chain completed after 1 iterations\n",
      "2024-01-16 16:31:38 [716 | REPORT]:     [1473|YamboRestart|on_terminated]: remote folders will not be cleaned\n",
      "2024-01-16 16:31:38 [717 | REPORT]:   [1408|YamboWorkflow|can_continue]: workflow is finished\n",
      "2024-01-16 16:31:39 [718 | REPORT]:   [1408|YamboWorkflow|post_processing_needed]: no post processing needed\n",
      "2024-01-16 16:31:39 [719 | REPORT]:   [1408|YamboWorkflow|report_wf]: PARSED: {'lowest_exciton': 5.5113463, 'lowest_exciton_index': 1}\n",
      "2024-01-16 16:31:39 [720 | REPORT]:   [1408|YamboWorkflow|report_wf]: workflow completed successfully\u001b[0m\n"
     ]
    }
   ],
   "source": [
    "!verdi process report {run.pk}"
   ]
  },
  {
   "cell_type": "markdown",
   "id": "4bd84d88",
   "metadata": {},
   "source": [
    "The converged parameters can be obtained via the \"infos\" output Dict:"
   ]
  },
  {
   "cell_type": "code",
   "execution_count": 134,
   "id": "57321b6a",
   "metadata": {},
   "outputs": [
    {
     "data": {
      "text/plain": [
       "{'E_ref': 5.6156411578646,\n",
       " 'kpoint_mesh': [7, 7, 4],\n",
       " 'extrapolation': 5.6175120483652,\n",
       " 'lowest_exciton': 5.5455183982849}"
      ]
     },
     "execution_count": 134,
     "metadata": {},
     "output_type": "execute_result"
    }
   ],
   "source": [
    "run.outputs.infos.get_dict()"
   ]
  },
  {
   "cell_type": "markdown",
   "id": "0ef10dc9",
   "metadata": {},
   "source": [
    "The full convergence history can be visualized in a table form using pandas:"
   ]
  },
  {
   "cell_type": "code",
   "execution_count": 135,
   "id": "c206325e",
   "metadata": {},
   "outputs": [],
   "source": [
    "import pandas as pd"
   ]
  },
  {
   "cell_type": "code",
   "execution_count": 136,
   "id": "db3991c6",
   "metadata": {},
   "outputs": [],
   "source": [
    "history = run.outputs.history.get_dict()"
   ]
  },
  {
   "cell_type": "code",
   "execution_count": 137,
   "id": "ede8f7ca",
   "metadata": {},
   "outputs": [],
   "source": [
    "history_table = pd.DataFrame(history)"
   ]
  },
  {
   "cell_type": "code",
   "execution_count": 138,
   "id": "360eb7b3",
   "metadata": {},
   "outputs": [
    {
     "data": {
      "text/html": [
       "<div>\n",
       "<style scoped>\n",
       "    .dataframe tbody tr th:only-of-type {\n",
       "        vertical-align: middle;\n",
       "    }\n",
       "\n",
       "    .dataframe tbody tr th {\n",
       "        vertical-align: top;\n",
       "    }\n",
       "\n",
       "    .dataframe thead th {\n",
       "        text-align: right;\n",
       "    }\n",
       "</style>\n",
       "<table border=\"1\" class=\"dataframe\">\n",
       "  <thead>\n",
       "    <tr style=\"text-align: right;\">\n",
       "      <th></th>\n",
       "      <th>uuid</th>\n",
       "      <th>failed</th>\n",
       "      <th>useful</th>\n",
       "      <th>global_step</th>\n",
       "      <th>kpoint_mesh</th>\n",
       "      <th>lowest_exciton</th>\n",
       "      <th>parameters_studied</th>\n",
       "    </tr>\n",
       "  </thead>\n",
       "  <tbody>\n",
       "    <tr>\n",
       "      <th>0</th>\n",
       "      <td>1b01b60f-bf26-4c4a-be35-d145547e635c</td>\n",
       "      <td>False</td>\n",
       "      <td>False</td>\n",
       "      <td>1</td>\n",
       "      <td>[4, 4, 2]</td>\n",
       "      <td>5.359427</td>\n",
       "      <td>kpoint_mesh</td>\n",
       "    </tr>\n",
       "    <tr>\n",
       "      <th>1</th>\n",
       "      <td>37fcb1a7-b998-44d6-8c57-89facc0f4f90</td>\n",
       "      <td>False</td>\n",
       "      <td>True</td>\n",
       "      <td>2</td>\n",
       "      <td>[7, 7, 2]</td>\n",
       "      <td>5.545518</td>\n",
       "      <td>kpoint_mesh</td>\n",
       "    </tr>\n",
       "    <tr>\n",
       "      <th>2</th>\n",
       "      <td>a0414f3e-09c3-47e8-b573-830d2f776c71</td>\n",
       "      <td>False</td>\n",
       "      <td>False</td>\n",
       "      <td>3</td>\n",
       "      <td>[13, 13, 5]</td>\n",
       "      <td>5.598341</td>\n",
       "      <td>kpoint_mesh</td>\n",
       "    </tr>\n",
       "    <tr>\n",
       "      <th>3</th>\n",
       "      <td>3aeb473e-6747-4397-8802-c4cdbcfba2a3</td>\n",
       "      <td>False</td>\n",
       "      <td>False</td>\n",
       "      <td>4</td>\n",
       "      <td>[16, 16, 6]</td>\n",
       "      <td>5.623181</td>\n",
       "      <td>kpoint_mesh</td>\n",
       "    </tr>\n",
       "    <tr>\n",
       "      <th>4</th>\n",
       "      <td>e1fc6ebf-06f6-40f4-ac99-38d6375e473a</td>\n",
       "      <td>False</td>\n",
       "      <td>False</td>\n",
       "      <td>5</td>\n",
       "      <td>[7, 7, 4]</td>\n",
       "      <td>5.471172</td>\n",
       "      <td>kpoint_mesh</td>\n",
       "    </tr>\n",
       "  </tbody>\n",
       "</table>\n",
       "</div>"
      ],
      "text/plain": [
       "                                   uuid  failed  useful  global_step  \\\n",
       "0  1b01b60f-bf26-4c4a-be35-d145547e635c   False   False            1   \n",
       "1  37fcb1a7-b998-44d6-8c57-89facc0f4f90   False    True            2   \n",
       "2  a0414f3e-09c3-47e8-b573-830d2f776c71   False   False            3   \n",
       "3  3aeb473e-6747-4397-8802-c4cdbcfba2a3   False   False            4   \n",
       "4  e1fc6ebf-06f6-40f4-ac99-38d6375e473a   False   False            5   \n",
       "\n",
       "   kpoint_mesh  lowest_exciton parameters_studied  \n",
       "0    [4, 4, 2]        5.359427        kpoint_mesh  \n",
       "1    [7, 7, 2]        5.545518        kpoint_mesh  \n",
       "2  [13, 13, 5]        5.598341        kpoint_mesh  \n",
       "3  [16, 16, 6]        5.623181        kpoint_mesh  \n",
       "4    [7, 7, 4]        5.471172        kpoint_mesh  "
      ]
     },
     "execution_count": 138,
     "metadata": {},
     "output_type": "execute_result"
    }
   ],
   "source": [
    "history_table"
   ]
  },
  {
   "cell_type": "markdown",
   "id": "99efc4a9",
   "metadata": {},
   "source": [
    "The last calculations can be obtained using:"
   ]
  },
  {
   "cell_type": "code",
   "execution_count": 139,
   "id": "5240cb94",
   "metadata": {},
   "outputs": [
    {
     "data": {
      "text/html": [
       "<div>\n",
       "<style scoped>\n",
       "    .dataframe tbody tr th:only-of-type {\n",
       "        vertical-align: middle;\n",
       "    }\n",
       "\n",
       "    .dataframe tbody tr th {\n",
       "        vertical-align: top;\n",
       "    }\n",
       "\n",
       "    .dataframe thead th {\n",
       "        text-align: right;\n",
       "    }\n",
       "</style>\n",
       "<table border=\"1\" class=\"dataframe\">\n",
       "  <thead>\n",
       "    <tr style=\"text-align: right;\">\n",
       "      <th></th>\n",
       "      <th>uuid</th>\n",
       "      <th>failed</th>\n",
       "      <th>useful</th>\n",
       "      <th>global_step</th>\n",
       "      <th>kpoint_mesh</th>\n",
       "      <th>lowest_exciton</th>\n",
       "      <th>parameters_studied</th>\n",
       "    </tr>\n",
       "  </thead>\n",
       "  <tbody>\n",
       "    <tr>\n",
       "      <th>1</th>\n",
       "      <td>37fcb1a7-b998-44d6-8c57-89facc0f4f90</td>\n",
       "      <td>False</td>\n",
       "      <td>True</td>\n",
       "      <td>2</td>\n",
       "      <td>[7, 7, 2]</td>\n",
       "      <td>5.545518</td>\n",
       "      <td>kpoint_mesh</td>\n",
       "    </tr>\n",
       "  </tbody>\n",
       "</table>\n",
       "</div>"
      ],
      "text/plain": [
       "                                   uuid  failed  useful  global_step  \\\n",
       "1  37fcb1a7-b998-44d6-8c57-89facc0f4f90   False    True            2   \n",
       "\n",
       "  kpoint_mesh  lowest_exciton parameters_studied  \n",
       "1   [7, 7, 2]        5.545518        kpoint_mesh  "
      ]
     },
     "execution_count": 139,
     "metadata": {},
     "output_type": "execute_result"
    }
   ],
   "source": [
    "history_table[history_table['useful']==True]"
   ]
  },
  {
   "cell_type": "markdown",
   "id": "a1911f44",
   "metadata": {},
   "source": [
    "Result on the convergence path can be plotted using several plotting libraries, for examples here we are gonna use [plotly]((https://plotly.com/python/3d-line-plots/)) to observe the convergence between bands and plane wave cutoff for the screening matrix:"
   ]
  },
  {
   "cell_type": "code",
   "execution_count": 143,
   "id": "ebd38f12",
   "metadata": {},
   "outputs": [
    {
     "data": {
      "application/vnd.plotly.v1+json": {
       "config": {
        "plotlyServerURL": "https://plot.ly"
       },
       "data": [
        {
         "hovertemplate": "index=%{x}<br>lowest_exciton=%{y}<br>kpoint_mesh=%{text}<extra></extra>",
         "legendgroup": "",
         "marker": {
          "color": "#636efa",
          "symbol": "circle"
         },
         "mode": "markers+text",
         "name": "",
         "orientation": "v",
         "showlegend": false,
         "text": [
          [
           4,
           4,
           2
          ],
          [
           7,
           7,
           2
          ],
          [
           13,
           13,
           5
          ],
          [
           16,
           16,
           6
          ],
          [
           7,
           7,
           4
          ]
         ],
         "type": "scatter",
         "x": [
          "0",
          "1",
          "2",
          "3",
          "4"
         ],
         "xaxis": "x",
         "y": [
          5.3594274520874,
          5.5455183982849,
          5.5983414649963,
          5.6231808662415,
          5.4711718559265
         ],
         "yaxis": "y"
        }
       ],
       "layout": {
        "legend": {
         "tracegroupgap": 0
        },
        "margin": {
         "t": 60
        },
        "template": {
         "data": {
          "bar": [
           {
            "error_x": {
             "color": "#2a3f5f"
            },
            "error_y": {
             "color": "#2a3f5f"
            },
            "marker": {
             "line": {
              "color": "#E5ECF6",
              "width": 0.5
             },
             "pattern": {
              "fillmode": "overlay",
              "size": 10,
              "solidity": 0.2
             }
            },
            "type": "bar"
           }
          ],
          "barpolar": [
           {
            "marker": {
             "line": {
              "color": "#E5ECF6",
              "width": 0.5
             },
             "pattern": {
              "fillmode": "overlay",
              "size": 10,
              "solidity": 0.2
             }
            },
            "type": "barpolar"
           }
          ],
          "carpet": [
           {
            "aaxis": {
             "endlinecolor": "#2a3f5f",
             "gridcolor": "white",
             "linecolor": "white",
             "minorgridcolor": "white",
             "startlinecolor": "#2a3f5f"
            },
            "baxis": {
             "endlinecolor": "#2a3f5f",
             "gridcolor": "white",
             "linecolor": "white",
             "minorgridcolor": "white",
             "startlinecolor": "#2a3f5f"
            },
            "type": "carpet"
           }
          ],
          "choropleth": [
           {
            "colorbar": {
             "outlinewidth": 0,
             "ticks": ""
            },
            "type": "choropleth"
           }
          ],
          "contour": [
           {
            "colorbar": {
             "outlinewidth": 0,
             "ticks": ""
            },
            "colorscale": [
             [
              0,
              "#0d0887"
             ],
             [
              0.1111111111111111,
              "#46039f"
             ],
             [
              0.2222222222222222,
              "#7201a8"
             ],
             [
              0.3333333333333333,
              "#9c179e"
             ],
             [
              0.4444444444444444,
              "#bd3786"
             ],
             [
              0.5555555555555556,
              "#d8576b"
             ],
             [
              0.6666666666666666,
              "#ed7953"
             ],
             [
              0.7777777777777778,
              "#fb9f3a"
             ],
             [
              0.8888888888888888,
              "#fdca26"
             ],
             [
              1,
              "#f0f921"
             ]
            ],
            "type": "contour"
           }
          ],
          "contourcarpet": [
           {
            "colorbar": {
             "outlinewidth": 0,
             "ticks": ""
            },
            "type": "contourcarpet"
           }
          ],
          "heatmap": [
           {
            "colorbar": {
             "outlinewidth": 0,
             "ticks": ""
            },
            "colorscale": [
             [
              0,
              "#0d0887"
             ],
             [
              0.1111111111111111,
              "#46039f"
             ],
             [
              0.2222222222222222,
              "#7201a8"
             ],
             [
              0.3333333333333333,
              "#9c179e"
             ],
             [
              0.4444444444444444,
              "#bd3786"
             ],
             [
              0.5555555555555556,
              "#d8576b"
             ],
             [
              0.6666666666666666,
              "#ed7953"
             ],
             [
              0.7777777777777778,
              "#fb9f3a"
             ],
             [
              0.8888888888888888,
              "#fdca26"
             ],
             [
              1,
              "#f0f921"
             ]
            ],
            "type": "heatmap"
           }
          ],
          "heatmapgl": [
           {
            "colorbar": {
             "outlinewidth": 0,
             "ticks": ""
            },
            "colorscale": [
             [
              0,
              "#0d0887"
             ],
             [
              0.1111111111111111,
              "#46039f"
             ],
             [
              0.2222222222222222,
              "#7201a8"
             ],
             [
              0.3333333333333333,
              "#9c179e"
             ],
             [
              0.4444444444444444,
              "#bd3786"
             ],
             [
              0.5555555555555556,
              "#d8576b"
             ],
             [
              0.6666666666666666,
              "#ed7953"
             ],
             [
              0.7777777777777778,
              "#fb9f3a"
             ],
             [
              0.8888888888888888,
              "#fdca26"
             ],
             [
              1,
              "#f0f921"
             ]
            ],
            "type": "heatmapgl"
           }
          ],
          "histogram": [
           {
            "marker": {
             "pattern": {
              "fillmode": "overlay",
              "size": 10,
              "solidity": 0.2
             }
            },
            "type": "histogram"
           }
          ],
          "histogram2d": [
           {
            "colorbar": {
             "outlinewidth": 0,
             "ticks": ""
            },
            "colorscale": [
             [
              0,
              "#0d0887"
             ],
             [
              0.1111111111111111,
              "#46039f"
             ],
             [
              0.2222222222222222,
              "#7201a8"
             ],
             [
              0.3333333333333333,
              "#9c179e"
             ],
             [
              0.4444444444444444,
              "#bd3786"
             ],
             [
              0.5555555555555556,
              "#d8576b"
             ],
             [
              0.6666666666666666,
              "#ed7953"
             ],
             [
              0.7777777777777778,
              "#fb9f3a"
             ],
             [
              0.8888888888888888,
              "#fdca26"
             ],
             [
              1,
              "#f0f921"
             ]
            ],
            "type": "histogram2d"
           }
          ],
          "histogram2dcontour": [
           {
            "colorbar": {
             "outlinewidth": 0,
             "ticks": ""
            },
            "colorscale": [
             [
              0,
              "#0d0887"
             ],
             [
              0.1111111111111111,
              "#46039f"
             ],
             [
              0.2222222222222222,
              "#7201a8"
             ],
             [
              0.3333333333333333,
              "#9c179e"
             ],
             [
              0.4444444444444444,
              "#bd3786"
             ],
             [
              0.5555555555555556,
              "#d8576b"
             ],
             [
              0.6666666666666666,
              "#ed7953"
             ],
             [
              0.7777777777777778,
              "#fb9f3a"
             ],
             [
              0.8888888888888888,
              "#fdca26"
             ],
             [
              1,
              "#f0f921"
             ]
            ],
            "type": "histogram2dcontour"
           }
          ],
          "mesh3d": [
           {
            "colorbar": {
             "outlinewidth": 0,
             "ticks": ""
            },
            "type": "mesh3d"
           }
          ],
          "parcoords": [
           {
            "line": {
             "colorbar": {
              "outlinewidth": 0,
              "ticks": ""
             }
            },
            "type": "parcoords"
           }
          ],
          "pie": [
           {
            "automargin": true,
            "type": "pie"
           }
          ],
          "scatter": [
           {
            "fillpattern": {
             "fillmode": "overlay",
             "size": 10,
             "solidity": 0.2
            },
            "type": "scatter"
           }
          ],
          "scatter3d": [
           {
            "line": {
             "colorbar": {
              "outlinewidth": 0,
              "ticks": ""
             }
            },
            "marker": {
             "colorbar": {
              "outlinewidth": 0,
              "ticks": ""
             }
            },
            "type": "scatter3d"
           }
          ],
          "scattercarpet": [
           {
            "marker": {
             "colorbar": {
              "outlinewidth": 0,
              "ticks": ""
             }
            },
            "type": "scattercarpet"
           }
          ],
          "scattergeo": [
           {
            "marker": {
             "colorbar": {
              "outlinewidth": 0,
              "ticks": ""
             }
            },
            "type": "scattergeo"
           }
          ],
          "scattergl": [
           {
            "marker": {
             "colorbar": {
              "outlinewidth": 0,
              "ticks": ""
             }
            },
            "type": "scattergl"
           }
          ],
          "scattermapbox": [
           {
            "marker": {
             "colorbar": {
              "outlinewidth": 0,
              "ticks": ""
             }
            },
            "type": "scattermapbox"
           }
          ],
          "scatterpolar": [
           {
            "marker": {
             "colorbar": {
              "outlinewidth": 0,
              "ticks": ""
             }
            },
            "type": "scatterpolar"
           }
          ],
          "scatterpolargl": [
           {
            "marker": {
             "colorbar": {
              "outlinewidth": 0,
              "ticks": ""
             }
            },
            "type": "scatterpolargl"
           }
          ],
          "scatterternary": [
           {
            "marker": {
             "colorbar": {
              "outlinewidth": 0,
              "ticks": ""
             }
            },
            "type": "scatterternary"
           }
          ],
          "surface": [
           {
            "colorbar": {
             "outlinewidth": 0,
             "ticks": ""
            },
            "colorscale": [
             [
              0,
              "#0d0887"
             ],
             [
              0.1111111111111111,
              "#46039f"
             ],
             [
              0.2222222222222222,
              "#7201a8"
             ],
             [
              0.3333333333333333,
              "#9c179e"
             ],
             [
              0.4444444444444444,
              "#bd3786"
             ],
             [
              0.5555555555555556,
              "#d8576b"
             ],
             [
              0.6666666666666666,
              "#ed7953"
             ],
             [
              0.7777777777777778,
              "#fb9f3a"
             ],
             [
              0.8888888888888888,
              "#fdca26"
             ],
             [
              1,
              "#f0f921"
             ]
            ],
            "type": "surface"
           }
          ],
          "table": [
           {
            "cells": {
             "fill": {
              "color": "#EBF0F8"
             },
             "line": {
              "color": "white"
             }
            },
            "header": {
             "fill": {
              "color": "#C8D4E3"
             },
             "line": {
              "color": "white"
             }
            },
            "type": "table"
           }
          ]
         },
         "layout": {
          "annotationdefaults": {
           "arrowcolor": "#2a3f5f",
           "arrowhead": 0,
           "arrowwidth": 1
          },
          "autotypenumbers": "strict",
          "coloraxis": {
           "colorbar": {
            "outlinewidth": 0,
            "ticks": ""
           }
          },
          "colorscale": {
           "diverging": [
            [
             0,
             "#8e0152"
            ],
            [
             0.1,
             "#c51b7d"
            ],
            [
             0.2,
             "#de77ae"
            ],
            [
             0.3,
             "#f1b6da"
            ],
            [
             0.4,
             "#fde0ef"
            ],
            [
             0.5,
             "#f7f7f7"
            ],
            [
             0.6,
             "#e6f5d0"
            ],
            [
             0.7,
             "#b8e186"
            ],
            [
             0.8,
             "#7fbc41"
            ],
            [
             0.9,
             "#4d9221"
            ],
            [
             1,
             "#276419"
            ]
           ],
           "sequential": [
            [
             0,
             "#0d0887"
            ],
            [
             0.1111111111111111,
             "#46039f"
            ],
            [
             0.2222222222222222,
             "#7201a8"
            ],
            [
             0.3333333333333333,
             "#9c179e"
            ],
            [
             0.4444444444444444,
             "#bd3786"
            ],
            [
             0.5555555555555556,
             "#d8576b"
            ],
            [
             0.6666666666666666,
             "#ed7953"
            ],
            [
             0.7777777777777778,
             "#fb9f3a"
            ],
            [
             0.8888888888888888,
             "#fdca26"
            ],
            [
             1,
             "#f0f921"
            ]
           ],
           "sequentialminus": [
            [
             0,
             "#0d0887"
            ],
            [
             0.1111111111111111,
             "#46039f"
            ],
            [
             0.2222222222222222,
             "#7201a8"
            ],
            [
             0.3333333333333333,
             "#9c179e"
            ],
            [
             0.4444444444444444,
             "#bd3786"
            ],
            [
             0.5555555555555556,
             "#d8576b"
            ],
            [
             0.6666666666666666,
             "#ed7953"
            ],
            [
             0.7777777777777778,
             "#fb9f3a"
            ],
            [
             0.8888888888888888,
             "#fdca26"
            ],
            [
             1,
             "#f0f921"
            ]
           ]
          },
          "colorway": [
           "#636efa",
           "#EF553B",
           "#00cc96",
           "#ab63fa",
           "#FFA15A",
           "#19d3f3",
           "#FF6692",
           "#B6E880",
           "#FF97FF",
           "#FECB52"
          ],
          "font": {
           "color": "#2a3f5f"
          },
          "geo": {
           "bgcolor": "white",
           "lakecolor": "white",
           "landcolor": "#E5ECF6",
           "showlakes": true,
           "showland": true,
           "subunitcolor": "white"
          },
          "hoverlabel": {
           "align": "left"
          },
          "hovermode": "closest",
          "mapbox": {
           "style": "light"
          },
          "paper_bgcolor": "white",
          "plot_bgcolor": "#E5ECF6",
          "polar": {
           "angularaxis": {
            "gridcolor": "white",
            "linecolor": "white",
            "ticks": ""
           },
           "bgcolor": "#E5ECF6",
           "radialaxis": {
            "gridcolor": "white",
            "linecolor": "white",
            "ticks": ""
           }
          },
          "scene": {
           "xaxis": {
            "backgroundcolor": "#E5ECF6",
            "gridcolor": "white",
            "gridwidth": 2,
            "linecolor": "white",
            "showbackground": true,
            "ticks": "",
            "zerolinecolor": "white"
           },
           "yaxis": {
            "backgroundcolor": "#E5ECF6",
            "gridcolor": "white",
            "gridwidth": 2,
            "linecolor": "white",
            "showbackground": true,
            "ticks": "",
            "zerolinecolor": "white"
           },
           "zaxis": {
            "backgroundcolor": "#E5ECF6",
            "gridcolor": "white",
            "gridwidth": 2,
            "linecolor": "white",
            "showbackground": true,
            "ticks": "",
            "zerolinecolor": "white"
           }
          },
          "shapedefaults": {
           "line": {
            "color": "#2a3f5f"
           }
          },
          "ternary": {
           "aaxis": {
            "gridcolor": "white",
            "linecolor": "white",
            "ticks": ""
           },
           "baxis": {
            "gridcolor": "white",
            "linecolor": "white",
            "ticks": ""
           },
           "bgcolor": "#E5ECF6",
           "caxis": {
            "gridcolor": "white",
            "linecolor": "white",
            "ticks": ""
           }
          },
          "title": {
           "x": 0.05
          },
          "xaxis": {
           "automargin": true,
           "gridcolor": "white",
           "linecolor": "white",
           "ticks": "",
           "title": {
            "standoff": 15
           },
           "zerolinecolor": "white",
           "zerolinewidth": 2
          },
          "yaxis": {
           "automargin": true,
           "gridcolor": "white",
           "linecolor": "white",
           "ticks": "",
           "title": {
            "standoff": 15
           },
           "zerolinecolor": "white",
           "zerolinewidth": 2
          }
         }
        },
        "xaxis": {
         "anchor": "y",
         "domain": [
          0,
          1
         ],
         "title": {
          "text": "index"
         }
        },
        "yaxis": {
         "anchor": "x",
         "domain": [
          0,
          1
         ],
         "title": {
          "text": "lowest_exciton"
         }
        }
       }
      },
      "text/html": [
       "<div>                            <div id=\"b5234f5f-1333-4f9f-86c1-68e2a1358eac\" class=\"plotly-graph-div\" style=\"height:525px; width:100%;\"></div>            <script type=\"text/javascript\">                require([\"plotly\"], function(Plotly) {                    window.PLOTLYENV=window.PLOTLYENV || {};                                    if (document.getElementById(\"b5234f5f-1333-4f9f-86c1-68e2a1358eac\")) {                    Plotly.newPlot(                        \"b5234f5f-1333-4f9f-86c1-68e2a1358eac\",                        [{\"hovertemplate\":\"index=%{x}\\u003cbr\\u003elowest_exciton=%{y}\\u003cbr\\u003ekpoint_mesh=%{text}\\u003cextra\\u003e\\u003c\\u002fextra\\u003e\",\"legendgroup\":\"\",\"marker\":{\"color\":\"#636efa\",\"symbol\":\"circle\"},\"mode\":\"markers+text\",\"name\":\"\",\"orientation\":\"v\",\"showlegend\":false,\"text\":[[4,4,2],[7,7,2],[13,13,5],[16,16,6],[7,7,4]],\"x\":[\"0\",\"1\",\"2\",\"3\",\"4\"],\"xaxis\":\"x\",\"y\":[5.3594274520874,5.5455183982849,5.5983414649963,5.6231808662415,5.4711718559265],\"yaxis\":\"y\",\"type\":\"scatter\"}],                        {\"template\":{\"data\":{\"histogram2dcontour\":[{\"type\":\"histogram2dcontour\",\"colorbar\":{\"outlinewidth\":0,\"ticks\":\"\"},\"colorscale\":[[0.0,\"#0d0887\"],[0.1111111111111111,\"#46039f\"],[0.2222222222222222,\"#7201a8\"],[0.3333333333333333,\"#9c179e\"],[0.4444444444444444,\"#bd3786\"],[0.5555555555555556,\"#d8576b\"],[0.6666666666666666,\"#ed7953\"],[0.7777777777777778,\"#fb9f3a\"],[0.8888888888888888,\"#fdca26\"],[1.0,\"#f0f921\"]]}],\"choropleth\":[{\"type\":\"choropleth\",\"colorbar\":{\"outlinewidth\":0,\"ticks\":\"\"}}],\"histogram2d\":[{\"type\":\"histogram2d\",\"colorbar\":{\"outlinewidth\":0,\"ticks\":\"\"},\"colorscale\":[[0.0,\"#0d0887\"],[0.1111111111111111,\"#46039f\"],[0.2222222222222222,\"#7201a8\"],[0.3333333333333333,\"#9c179e\"],[0.4444444444444444,\"#bd3786\"],[0.5555555555555556,\"#d8576b\"],[0.6666666666666666,\"#ed7953\"],[0.7777777777777778,\"#fb9f3a\"],[0.8888888888888888,\"#fdca26\"],[1.0,\"#f0f921\"]]}],\"heatmap\":[{\"type\":\"heatmap\",\"colorbar\":{\"outlinewidth\":0,\"ticks\":\"\"},\"colorscale\":[[0.0,\"#0d0887\"],[0.1111111111111111,\"#46039f\"],[0.2222222222222222,\"#7201a8\"],[0.3333333333333333,\"#9c179e\"],[0.4444444444444444,\"#bd3786\"],[0.5555555555555556,\"#d8576b\"],[0.6666666666666666,\"#ed7953\"],[0.7777777777777778,\"#fb9f3a\"],[0.8888888888888888,\"#fdca26\"],[1.0,\"#f0f921\"]]}],\"heatmapgl\":[{\"type\":\"heatmapgl\",\"colorbar\":{\"outlinewidth\":0,\"ticks\":\"\"},\"colorscale\":[[0.0,\"#0d0887\"],[0.1111111111111111,\"#46039f\"],[0.2222222222222222,\"#7201a8\"],[0.3333333333333333,\"#9c179e\"],[0.4444444444444444,\"#bd3786\"],[0.5555555555555556,\"#d8576b\"],[0.6666666666666666,\"#ed7953\"],[0.7777777777777778,\"#fb9f3a\"],[0.8888888888888888,\"#fdca26\"],[1.0,\"#f0f921\"]]}],\"contourcarpet\":[{\"type\":\"contourcarpet\",\"colorbar\":{\"outlinewidth\":0,\"ticks\":\"\"}}],\"contour\":[{\"type\":\"contour\",\"colorbar\":{\"outlinewidth\":0,\"ticks\":\"\"},\"colorscale\":[[0.0,\"#0d0887\"],[0.1111111111111111,\"#46039f\"],[0.2222222222222222,\"#7201a8\"],[0.3333333333333333,\"#9c179e\"],[0.4444444444444444,\"#bd3786\"],[0.5555555555555556,\"#d8576b\"],[0.6666666666666666,\"#ed7953\"],[0.7777777777777778,\"#fb9f3a\"],[0.8888888888888888,\"#fdca26\"],[1.0,\"#f0f921\"]]}],\"surface\":[{\"type\":\"surface\",\"colorbar\":{\"outlinewidth\":0,\"ticks\":\"\"},\"colorscale\":[[0.0,\"#0d0887\"],[0.1111111111111111,\"#46039f\"],[0.2222222222222222,\"#7201a8\"],[0.3333333333333333,\"#9c179e\"],[0.4444444444444444,\"#bd3786\"],[0.5555555555555556,\"#d8576b\"],[0.6666666666666666,\"#ed7953\"],[0.7777777777777778,\"#fb9f3a\"],[0.8888888888888888,\"#fdca26\"],[1.0,\"#f0f921\"]]}],\"mesh3d\":[{\"type\":\"mesh3d\",\"colorbar\":{\"outlinewidth\":0,\"ticks\":\"\"}}],\"scatter\":[{\"fillpattern\":{\"fillmode\":\"overlay\",\"size\":10,\"solidity\":0.2},\"type\":\"scatter\"}],\"parcoords\":[{\"type\":\"parcoords\",\"line\":{\"colorbar\":{\"outlinewidth\":0,\"ticks\":\"\"}}}],\"scatterpolargl\":[{\"type\":\"scatterpolargl\",\"marker\":{\"colorbar\":{\"outlinewidth\":0,\"ticks\":\"\"}}}],\"bar\":[{\"error_x\":{\"color\":\"#2a3f5f\"},\"error_y\":{\"color\":\"#2a3f5f\"},\"marker\":{\"line\":{\"color\":\"#E5ECF6\",\"width\":0.5},\"pattern\":{\"fillmode\":\"overlay\",\"size\":10,\"solidity\":0.2}},\"type\":\"bar\"}],\"scattergeo\":[{\"type\":\"scattergeo\",\"marker\":{\"colorbar\":{\"outlinewidth\":0,\"ticks\":\"\"}}}],\"scatterpolar\":[{\"type\":\"scatterpolar\",\"marker\":{\"colorbar\":{\"outlinewidth\":0,\"ticks\":\"\"}}}],\"histogram\":[{\"marker\":{\"pattern\":{\"fillmode\":\"overlay\",\"size\":10,\"solidity\":0.2}},\"type\":\"histogram\"}],\"scattergl\":[{\"type\":\"scattergl\",\"marker\":{\"colorbar\":{\"outlinewidth\":0,\"ticks\":\"\"}}}],\"scatter3d\":[{\"type\":\"scatter3d\",\"line\":{\"colorbar\":{\"outlinewidth\":0,\"ticks\":\"\"}},\"marker\":{\"colorbar\":{\"outlinewidth\":0,\"ticks\":\"\"}}}],\"scattermapbox\":[{\"type\":\"scattermapbox\",\"marker\":{\"colorbar\":{\"outlinewidth\":0,\"ticks\":\"\"}}}],\"scatterternary\":[{\"type\":\"scatterternary\",\"marker\":{\"colorbar\":{\"outlinewidth\":0,\"ticks\":\"\"}}}],\"scattercarpet\":[{\"type\":\"scattercarpet\",\"marker\":{\"colorbar\":{\"outlinewidth\":0,\"ticks\":\"\"}}}],\"carpet\":[{\"aaxis\":{\"endlinecolor\":\"#2a3f5f\",\"gridcolor\":\"white\",\"linecolor\":\"white\",\"minorgridcolor\":\"white\",\"startlinecolor\":\"#2a3f5f\"},\"baxis\":{\"endlinecolor\":\"#2a3f5f\",\"gridcolor\":\"white\",\"linecolor\":\"white\",\"minorgridcolor\":\"white\",\"startlinecolor\":\"#2a3f5f\"},\"type\":\"carpet\"}],\"table\":[{\"cells\":{\"fill\":{\"color\":\"#EBF0F8\"},\"line\":{\"color\":\"white\"}},\"header\":{\"fill\":{\"color\":\"#C8D4E3\"},\"line\":{\"color\":\"white\"}},\"type\":\"table\"}],\"barpolar\":[{\"marker\":{\"line\":{\"color\":\"#E5ECF6\",\"width\":0.5},\"pattern\":{\"fillmode\":\"overlay\",\"size\":10,\"solidity\":0.2}},\"type\":\"barpolar\"}],\"pie\":[{\"automargin\":true,\"type\":\"pie\"}]},\"layout\":{\"autotypenumbers\":\"strict\",\"colorway\":[\"#636efa\",\"#EF553B\",\"#00cc96\",\"#ab63fa\",\"#FFA15A\",\"#19d3f3\",\"#FF6692\",\"#B6E880\",\"#FF97FF\",\"#FECB52\"],\"font\":{\"color\":\"#2a3f5f\"},\"hovermode\":\"closest\",\"hoverlabel\":{\"align\":\"left\"},\"paper_bgcolor\":\"white\",\"plot_bgcolor\":\"#E5ECF6\",\"polar\":{\"bgcolor\":\"#E5ECF6\",\"angularaxis\":{\"gridcolor\":\"white\",\"linecolor\":\"white\",\"ticks\":\"\"},\"radialaxis\":{\"gridcolor\":\"white\",\"linecolor\":\"white\",\"ticks\":\"\"}},\"ternary\":{\"bgcolor\":\"#E5ECF6\",\"aaxis\":{\"gridcolor\":\"white\",\"linecolor\":\"white\",\"ticks\":\"\"},\"baxis\":{\"gridcolor\":\"white\",\"linecolor\":\"white\",\"ticks\":\"\"},\"caxis\":{\"gridcolor\":\"white\",\"linecolor\":\"white\",\"ticks\":\"\"}},\"coloraxis\":{\"colorbar\":{\"outlinewidth\":0,\"ticks\":\"\"}},\"colorscale\":{\"sequential\":[[0.0,\"#0d0887\"],[0.1111111111111111,\"#46039f\"],[0.2222222222222222,\"#7201a8\"],[0.3333333333333333,\"#9c179e\"],[0.4444444444444444,\"#bd3786\"],[0.5555555555555556,\"#d8576b\"],[0.6666666666666666,\"#ed7953\"],[0.7777777777777778,\"#fb9f3a\"],[0.8888888888888888,\"#fdca26\"],[1.0,\"#f0f921\"]],\"sequentialminus\":[[0.0,\"#0d0887\"],[0.1111111111111111,\"#46039f\"],[0.2222222222222222,\"#7201a8\"],[0.3333333333333333,\"#9c179e\"],[0.4444444444444444,\"#bd3786\"],[0.5555555555555556,\"#d8576b\"],[0.6666666666666666,\"#ed7953\"],[0.7777777777777778,\"#fb9f3a\"],[0.8888888888888888,\"#fdca26\"],[1.0,\"#f0f921\"]],\"diverging\":[[0,\"#8e0152\"],[0.1,\"#c51b7d\"],[0.2,\"#de77ae\"],[0.3,\"#f1b6da\"],[0.4,\"#fde0ef\"],[0.5,\"#f7f7f7\"],[0.6,\"#e6f5d0\"],[0.7,\"#b8e186\"],[0.8,\"#7fbc41\"],[0.9,\"#4d9221\"],[1,\"#276419\"]]},\"xaxis\":{\"gridcolor\":\"white\",\"linecolor\":\"white\",\"ticks\":\"\",\"title\":{\"standoff\":15},\"zerolinecolor\":\"white\",\"automargin\":true,\"zerolinewidth\":2},\"yaxis\":{\"gridcolor\":\"white\",\"linecolor\":\"white\",\"ticks\":\"\",\"title\":{\"standoff\":15},\"zerolinecolor\":\"white\",\"automargin\":true,\"zerolinewidth\":2},\"scene\":{\"xaxis\":{\"backgroundcolor\":\"#E5ECF6\",\"gridcolor\":\"white\",\"linecolor\":\"white\",\"showbackground\":true,\"ticks\":\"\",\"zerolinecolor\":\"white\",\"gridwidth\":2},\"yaxis\":{\"backgroundcolor\":\"#E5ECF6\",\"gridcolor\":\"white\",\"linecolor\":\"white\",\"showbackground\":true,\"ticks\":\"\",\"zerolinecolor\":\"white\",\"gridwidth\":2},\"zaxis\":{\"backgroundcolor\":\"#E5ECF6\",\"gridcolor\":\"white\",\"linecolor\":\"white\",\"showbackground\":true,\"ticks\":\"\",\"zerolinecolor\":\"white\",\"gridwidth\":2}},\"shapedefaults\":{\"line\":{\"color\":\"#2a3f5f\"}},\"annotationdefaults\":{\"arrowcolor\":\"#2a3f5f\",\"arrowhead\":0,\"arrowwidth\":1},\"geo\":{\"bgcolor\":\"white\",\"landcolor\":\"#E5ECF6\",\"subunitcolor\":\"white\",\"showland\":true,\"showlakes\":true,\"lakecolor\":\"white\"},\"title\":{\"x\":0.05},\"mapbox\":{\"style\":\"light\"}}},\"xaxis\":{\"anchor\":\"y\",\"domain\":[0.0,1.0],\"title\":{\"text\":\"index\"}},\"yaxis\":{\"anchor\":\"x\",\"domain\":[0.0,1.0],\"title\":{\"text\":\"lowest_exciton\"}},\"legend\":{\"tracegroupgap\":0},\"margin\":{\"t\":60}},                        {\"responsive\": true}                    ).then(function(){\n",
       "                            \n",
       "var gd = document.getElementById('b5234f5f-1333-4f9f-86c1-68e2a1358eac');\n",
       "var x = new MutationObserver(function (mutations, observer) {{\n",
       "        var display = window.getComputedStyle(gd).display;\n",
       "        if (!display || display === 'none') {{\n",
       "            console.log([gd, 'removed!']);\n",
       "            Plotly.purge(gd);\n",
       "            observer.disconnect();\n",
       "        }}\n",
       "}});\n",
       "\n",
       "// Listen for the removal of the full notebook cells\n",
       "var notebookContainer = gd.closest('#notebook-container');\n",
       "if (notebookContainer) {{\n",
       "    x.observe(notebookContainer, {childList: true});\n",
       "}}\n",
       "\n",
       "// Listen for the clearing of the current output cell\n",
       "var outputEl = gd.closest('.output');\n",
       "if (outputEl) {{\n",
       "    x.observe(outputEl, {childList: true});\n",
       "}}\n",
       "\n",
       "                        })                };                });            </script>        </div>"
      ]
     },
     "metadata": {},
     "output_type": "display_data"
    }
   ],
   "source": [
    "import plotly.express as px\n",
    "\n",
    "k_history = history_table[history_table['parameters_studied']==\"kpoint_mesh\"]\n",
    "\n",
    "df = k_history\n",
    "fig = px.scatter(df, y=\"lowest_exciton\", text=df[\"kpoint_mesh\"])\n",
    "fig.show()"
   ]
  },
  {
   "cell_type": "markdown",
   "id": "d5b867a9",
   "metadata": {},
   "source": [
    "## Exercise 1: try to compute BSE convergence but using QP instead of scissor and stretching.\n",
    "\n",
    "Solution provided in the `Solution_2_YamboConvergence_BSE_QP.ipynb` notebook. \n",
    "Please look at the `6_1_YamboWorkflow_BSE_QP.ipynb` to understand how to set the preliminary QP calculation."
   ]
  },
  {
   "cell_type": "markdown",
   "id": "e266ba89",
   "metadata": {},
   "source": [
    "## Exercise 2: computing the convergence not with respect to the k-mesh, but with respect to the k-point density.\n",
    "\n",
    "Solution provided in the `Solution_3_YamboConvergence_BSE_k_density.ipynb` notebook.\n",
    "\n",
    "```python\n",
    "builder.parameters_space = orm.List(list=[\n",
    " {'var': ['kpoint_density'],\n",
    "  'start': 1/0.05,\n",
    "  'stop': 1/0.025,\n",
    "  'delta': 1,      #1/0.01\n",
    "  'max': 1/0.02,\n",
    "  'steps': 4,\n",
    "  'max_iterations': 4,\n",
    "  'conv_thr': 3,\n",
    "  'conv_thr_units': '%',\n",
    "  'convergence_algorithm': 'new_algorithm_1D'},])\n",
    "```"
   ]
  },
  {
   "cell_type": "code",
   "execution_count": null,
   "id": "3ab19805",
   "metadata": {},
   "outputs": [],
   "source": []
  }
 ],
 "metadata": {
  "kernelspec": {
   "display_name": "Python 3 (ipykernel)",
   "language": "python",
   "name": "python3"
  },
  "language_info": {
   "codemirror_mode": {
    "name": "ipython",
    "version": 3
   },
   "file_extension": ".py",
   "mimetype": "text/x-python",
   "name": "python",
   "nbconvert_exporter": "python",
   "pygments_lexer": "ipython3",
   "version": "3.9.16"
  }
 },
 "nbformat": 4,
 "nbformat_minor": 5
}
