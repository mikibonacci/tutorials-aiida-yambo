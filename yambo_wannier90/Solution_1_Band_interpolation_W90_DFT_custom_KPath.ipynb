{
 "cells": [
  {
   "cell_type": "markdown",
   "id": "b07f7d9f",
   "metadata": {},
   "source": [
    "# QE Band interpolation along a custom k-point path"
   ]
  },
  {
   "cell_type": "code",
   "execution_count": 84,
   "id": "dc9bce04",
   "metadata": {},
   "outputs": [
    {
     "data": {
      "text/plain": [
       "Profile<uuid='3745313b017b418697d37cbf16c4e7ef' name='generic'>"
      ]
     },
     "execution_count": 84,
     "metadata": {},
     "output_type": "execute_result"
    }
   ],
   "source": [
    "from aiida import orm, load_profile\n",
    "load_profile()"
   ]
  },
  {
   "cell_type": "code",
   "execution_count": 85,
   "id": "a4f798fb",
   "metadata": {},
   "outputs": [],
   "source": [
    "from aiida_wannier90_workflows.utils.workflows.builder.serializer import print_builder \n",
    "from aiida_wannier90_workflows.utils.kpoints import get_explicit_kpoints_from_mesh\n",
    "from aiida_wannier90_workflows.utils.workflows.builder.setter import set_parallelization, set_num_bands, set_kpoints\n",
    "from aiida_wannier90_workflows.utils.workflows.builder.submit import submit_and_add_group \n",
    "from aiida_wannier90_workflows.common.types import WannierProjectionType\n",
    "from aiida_wannier90_workflows.workflows import Wannier90BandsWorkChain"
   ]
  },
  {
   "cell_type": "markdown",
   "id": "102b6aef",
   "metadata": {},
   "source": [
    "## minimal inputs needed for protocols"
   ]
  },
  {
   "cell_type": "code",
   "execution_count": 86,
   "id": "ed58dfe7",
   "metadata": {},
   "outputs": [],
   "source": [
    "import yaml,io\n",
    "\n",
    "# Read YAML file\n",
    "with open(\"../configuration/codes_localhost_yw90.yaml\", 'r') as stream:\n",
    "    codes = yaml.safe_load(stream)\n",
    "    \n",
    "with open(\"../configuration/resources_localhost.yaml\", 'r') as stream:\n",
    "    resources = yaml.safe_load(stream)"
   ]
  },
  {
   "cell_type": "code",
   "execution_count": 87,
   "id": "f8c8703b",
   "metadata": {},
   "outputs": [],
   "source": [
    "from aiida.orm import QueryBuilder\n",
    "qb = QueryBuilder()\n",
    "qb.append(orm.Group, filters={'label': 'Silicon/bulk'}, tag='group')\n",
    "qb.append(orm.StructureData, with_group='group')\n",
    "\n",
    "loaded_structure_id = qb.all()[0][0].pk"
   ]
  },
  {
   "cell_type": "code",
   "execution_count": 88,
   "id": "72641b00",
   "metadata": {},
   "outputs": [],
   "source": [
    "options = {\n",
    "    'pwcode_id': 'qe.pw@local_slurm', \n",
    "    'pseudo_family':\"PseudoDojo/0.4/PBE/SR/standard/upf\",\n",
    "    'protocol':'fast',\n",
    "    #'parent_id':274, #not necessary to set; if you want it, take ytheour previously nscf id (pk) to skip the DFT part.\n",
    "    'structure_id':loaded_structure_id,\n",
    "}"
   ]
  },
  {
   "cell_type": "code",
   "execution_count": 89,
   "id": "2ab7a336",
   "metadata": {},
   "outputs": [],
   "source": [
    "projections=\"analytic\"\n",
    "\n",
    "if projections==\"analytic\":\n",
    "    wannier_projection_type=WannierProjectionType.ANALYTIC\n",
    "else:\n",
    "    WannierProjectionType.ATOMIC_PROJECTORS_QE \n"
   ]
  },
  {
   "cell_type": "code",
   "execution_count": 90,
   "id": "b9b44aed",
   "metadata": {},
   "outputs": [
    {
     "name": "stdout",
     "output_type": "stream",
     "text": [
      "Summary of key input parameters:\n",
      "  Formula: Si2\n",
      "  PseudoFamily: PseudoDojo/0.4/PBE/SR/standard/upf\n",
      "  ElectronicType: METAL\n",
      "  SpinType: NONE\n",
      "  WannierProjectionType: ANALYTIC\n",
      "  WannierDisentanglementType: SMV\n",
      "  WannierFrozenType: ENERGY_FIXED\n",
      "  num_bands: 12\n",
      "  num_wann: 8\n",
      "  mp_grid: [4, 4, 4]\n",
      "\n"
     ]
    }
   ],
   "source": [
    "builder = Wannier90BandsWorkChain.get_builder_from_protocol(\n",
    "        codes=codes,\n",
    "        structure=orm.load_node(options[\"structure_id\"]),\n",
    "        pseudo_family=options[\"pseudo_family\"],\n",
    "        protocol=\"fast\",\n",
    "        projection_type=wannier_projection_type,\n",
    "    )"
   ]
  },
  {
   "cell_type": "code",
   "execution_count": 91,
   "id": "70437464",
   "metadata": {},
   "outputs": [],
   "source": [
    "parallelization = dict(\n",
    "    max_wallclock_seconds=24 * 3600,\n",
    "    # num_mpiprocs_per_machine=48,\n",
    "    #npool=4,\n",
    "    num_machines=1,\n",
    ")\n",
    "\n",
    "set_parallelization(\n",
    "    builder,\n",
    "    parallelization=parallelization,\n",
    "    process_class=Wannier90BandsWorkChain,\n",
    ")\n",
    "\n",
    "\n",
    "#### START computational resources settings.\n",
    "\n",
    "builder['nscf']['pw']['metadata']['options'] = resources\n",
    "\n",
    "builder['scf']['pw']['metadata']['options'] = resources\n",
    "\n",
    "builder['pw2wannier90']['pw2wannier90']['metadata']['options'] = resources\n",
    "\n",
    "builder['wannier90']['wannier90']['metadata']['options'] = resources\n",
    "\n",
    "#### END computational resources settings."
   ]
  },
  {
   "cell_type": "code",
   "execution_count": 92,
   "id": "8ad46554",
   "metadata": {},
   "outputs": [],
   "source": [
    "kp = {\n",
    "'path': [\n",
    "    ['G', 'X'],\n",
    "    ['X', 'G'],\n",
    "    ],\n",
    "'point_coords': {\n",
    "    'G': [0.0, 0.0, 0.0],\n",
    "    'X': [0.5, 0.0, 0.5],\n",
    "    }\n",
    "    }\n",
    "#builder['kpoint_path_dict'] =  orm.Dict(dict=kp)  \n",
    "\n",
    "#generate kpoints in KpointData format..\n",
    "t = 0\n",
    "k_coords = []\n",
    "k_labels = []\n",
    "for i in kp['path']:\n",
    "        j = kp['point_coords'][i[0]]\n",
    "        k_labels.append((t,i[0]))\n",
    "        k_coords.append(kp['point_coords'][i[0]])\n",
    "        k_labels.append((t+2,i[1]))\n",
    "        k_coords.append([j[0]+1,j[1]+1,j[2]+1])\n",
    "        k_coords.append(kp['point_coords'][i[1]])\n",
    "        k_coords.append([j[0]+1,j[1]+1,j[2]+1])\n",
    "        t+=4\n",
    "\n",
    "kpoints_path = orm.KpointsData()\n",
    "kpoints_path.set_kpoints(k_coords,labels=k_labels)\n",
    "builder.kpoint_path  =  kpoints_path\n",
    "\n",
    "# To do the same in YamboWannier90WorkChain:\n",
    "\n",
    "# builder['bands_kpoints']  =  kpoints_path"
   ]
  },
  {
   "cell_type": "code",
   "execution_count": 93,
   "id": "1c37339d",
   "metadata": {},
   "outputs": [],
   "source": [
    "# Use 4x4x4 kmesh\n",
    "kpoints = get_explicit_kpoints_from_mesh(builder.structure, [8,8,8])\n",
    "set_kpoints(builder, kpoints, process_class=Wannier90BandsWorkChain)"
   ]
  },
  {
   "cell_type": "code",
   "execution_count": 94,
   "id": "c8bffcf1",
   "metadata": {},
   "outputs": [],
   "source": [
    "# START projections settings:\n",
    "    \n",
    "set_num_bands(\n",
    "    builder=builder, \n",
    "    num_bands=14,                   # KS states used in the Wannierization\n",
    "    #exclude_bands=range(1,5), \n",
    "    process_class=Wannier90BandsWorkChain)\n",
    "\n",
    "params = builder.wannier90.wannier90.parameters.get_dict()\n",
    "\n",
    "## START explicit atomic projections:\n",
    "if projections==\"analytic\":\n",
    "\n",
    "    del builder.projwfc\n",
    "    builder.wannier90.auto_energy_windows = False\n",
    "    builder.wannier90.shift_energy_windows = True\n",
    "    params['num_wann'] = 8\n",
    "    builder.wannier90.wannier90.projections = orm.List(list=['Si:s', 'Si:p'])\n",
    "    params.pop('auto_projections', None) # Uncomment this if you want analytic atomic projections\n",
    "\n",
    "    #\n",
    "    # The following line can be also deleted.\n",
    "    builder['pw2wannier90']['pw2wannier90']['parameters'] = orm.Dict(dict={'inputpp': {'atom_proj': False}})\n",
    "\n",
    "## END explicit atomic projections:\n",
    "\n",
    "# optional settings.\n",
    "#params.pop('dis_proj_min', None)\n",
    "#params.pop('dis_proj_max', None)\n",
    "#params['num_wann'] = 16\n",
    "#params['dis_froz_max'] = 2\n",
    "\n",
    "params = orm.Dict(dict=params)\n",
    "builder.wannier90.wannier90.parameters = params\n",
    "\n",
    "# END projections settings."
   ]
  },
  {
   "cell_type": "code",
   "execution_count": 95,
   "id": "e4b78093",
   "metadata": {},
   "outputs": [
    {
     "name": "stdout",
     "output_type": "stream",
     "text": [
      "{'clean_workdir': False,\n",
      " 'kpoint_path': 'G-X-X-G<None>',\n",
      " 'nscf': {'kpoints': '512 kpts<None>',\n",
      "          'kpoints_force_parity': False,\n",
      "          'pw': {'code': 'pw_develop@local_slurm<365>',\n",
      "                 'metadata': {'options': {'max_wallclock_seconds': 3600,\n",
      "                                          'prepend_text': 'export '\n",
      "                                                          'OMP_NUM_THREADS=1',\n",
      "                                          'resources': {'num_cores_per_mpiproc': 1,\n",
      "                                                        'num_machines': 1,\n",
      "                                                        'num_mpiprocs_per_machine': 1}}},\n",
      "                 'parallelization': {'npool': 1},\n",
      "                 'parameters': {'CONTROL': {'calculation': 'nscf',\n",
      "                                            'etot_conv_thr': 0.0002,\n",
      "                                            'forc_conv_thr': 0.001,\n",
      "                                            'restart_mode': 'from_scratch',\n",
      "                                            'tprnfor': True,\n",
      "                                            'tstress': True},\n",
      "                                'ELECTRONS': {'conv_thr': 8e-10,\n",
      "                                              'diago_full_acc': True,\n",
      "                                              'electron_maxstep': 80,\n",
      "                                              'mixing_beta': 0.4,\n",
      "                                              'startingpot': 'file'},\n",
      "                                'SYSTEM': {'degauss': 0.01,\n",
      "                                           'ecutrho': 144.0,\n",
      "                                           'ecutwfc': 36.0,\n",
      "                                           'nbnd': 14,\n",
      "                                           'noinv': True,\n",
      "                                           'nosym': True,\n",
      "                                           'occupations': 'smearing',\n",
      "                                           'smearing': 'cold'}},\n",
      "                 'pseudos': {'Si': 'Si.upf<331>'}}},\n",
      " 'pw2wannier90': {'pw2wannier90': {'code': 'pw2wannier90_develop@local_slurm<366>',\n",
      "                                   'metadata': {'options': {'max_wallclock_seconds': 3600,\n",
      "                                                            'prepend_text': 'export '\n",
      "                                                                            'OMP_NUM_THREADS=1',\n",
      "                                                            'resources': {'num_cores_per_mpiproc': 1,\n",
      "                                                                          'num_machines': 1,\n",
      "                                                                          'num_mpiprocs_per_machine': 1}}},\n",
      "                                   'parameters': {'inputpp': {'atom_proj': False}},\n",
      "                                   'settings': {'cmdline': ['-nk', '1']}}},\n",
      " 'scf': {'kpoints': '512 kpts<None>',\n",
      "         'kpoints_distance': 0.2,\n",
      "         'kpoints_force_parity': False,\n",
      "         'pw': {'code': 'pw_develop@local_slurm<365>',\n",
      "                'metadata': {'options': {'max_wallclock_seconds': 3600,\n",
      "                                         'prepend_text': 'export '\n",
      "                                                         'OMP_NUM_THREADS=1',\n",
      "                                         'resources': {'num_cores_per_mpiproc': 1,\n",
      "                                                       'num_machines': 1,\n",
      "                                                       'num_mpiprocs_per_machine': 1}}},\n",
      "                'parallelization': {'npool': 1},\n",
      "                'parameters': {'CONTROL': {'calculation': 'scf',\n",
      "                                           'etot_conv_thr': 0.0002,\n",
      "                                           'forc_conv_thr': 0.001,\n",
      "                                           'tprnfor': True,\n",
      "                                           'tstress': True},\n",
      "                               'ELECTRONS': {'conv_thr': 8e-10,\n",
      "                                             'electron_maxstep': 80,\n",
      "                                             'mixing_beta': 0.4},\n",
      "                               'SYSTEM': {'degauss': 0.01,\n",
      "                                          'ecutrho': 144.0,\n",
      "                                          'ecutwfc': 36.0,\n",
      "                                          'nosym': False,\n",
      "                                          'occupations': 'smearing',\n",
      "                                          'smearing': 'cold'}},\n",
      "                'pseudos': {'Si': 'Si.upf<331>'}}},\n",
      " 'structure': 'Si2<371>',\n",
      " 'wannier90': {'auto_energy_windows': False,\n",
      "               'auto_energy_windows_threshold': 0.9,\n",
      "               'shift_energy_windows': True,\n",
      "               'wannier90': {'code': 'wannier90@local_slurm<369>',\n",
      "                             'kpoints': '512 kpts<None>',\n",
      "                             'metadata': {'options': {'max_wallclock_seconds': 3600,\n",
      "                                                      'prepend_text': 'export '\n",
      "                                                                      'OMP_NUM_THREADS=1',\n",
      "                                                      'resources': {'num_cores_per_mpiproc': 1,\n",
      "                                                                    'num_machines': 1,\n",
      "                                                                    'num_mpiprocs_per_machine': 1}}},\n",
      "                             'parameters': {'bands_plot': True,\n",
      "                                            'conv_tol': 2e-05,\n",
      "                                            'conv_window': 1,\n",
      "                                            'dis_conv_tol': 2e-05,\n",
      "                                            'dis_froz_max': 2.0,\n",
      "                                            'dis_num_iter': 400,\n",
      "                                            'mp_grid': [8, 8, 8],\n",
      "                                            'num_bands': 14,\n",
      "                                            'num_cg_steps': 200,\n",
      "                                            'num_iter': 400,\n",
      "                                            'num_wann': 8},\n",
      "                             'projections': ['Si:s', 'Si:p'],\n",
      "                             'settings': {}}}}\n"
     ]
    }
   ],
   "source": [
    "print_builder(builder)"
   ]
  },
  {
   "cell_type": "markdown",
   "id": "a3684e7f",
   "metadata": {},
   "source": [
    "### Computational resources"
   ]
  },
  {
   "cell_type": "code",
   "execution_count": 96,
   "id": "9e1cf68e",
   "metadata": {},
   "outputs": [],
   "source": [
    "from aiida.engine import submit"
   ]
  },
  {
   "cell_type": "code",
   "execution_count": 97,
   "id": "78614e86",
   "metadata": {},
   "outputs": [],
   "source": [
    "run = None"
   ]
  },
  {
   "cell_type": "code",
   "execution_count": 98,
   "id": "196e4b6d",
   "metadata": {},
   "outputs": [
    {
     "name": "stdout",
     "output_type": "stream",
     "text": [
      "uuid: 0e0652d1-2ad0-4e7e-b05f-a1127ac96206 (pk: 765) (aiida.workflows:wannier90_workflows.bands)\n"
     ]
    }
   ],
   "source": [
    "if run:\n",
    "    print('run is already running -> {}'.format(run.pk))\n",
    "    print('sure that you want to run again?, if so, copy the else instruction in the cell below and run!')\n",
    "else:\n",
    "    run = submit(builder)\n",
    "\n",
    "print(run)"
   ]
  },
  {
   "cell_type": "code",
   "execution_count": 100,
   "id": "2700857f",
   "metadata": {},
   "outputs": [
    {
     "name": "stdout",
     "output_type": "stream",
     "text": [
      "\u001b[22m2024-02-20 16:27:34 [112 | REPORT]: [765|Wannier90BandsWorkChain|run_scf]: launching PwBaseWorkChain<768> in scf mode\n",
      "2024-02-20 16:27:35 [113 | REPORT]:   [768|PwBaseWorkChain|run_process]: launching PwCalculation<771> iteration #1\n",
      "2024-02-20 16:28:30 [114 | REPORT]:   [768|PwBaseWorkChain|results]: work chain completed after 1 iterations\n",
      "2024-02-20 16:28:30 [115 | REPORT]:   [768|PwBaseWorkChain|on_terminated]: remote folders will not be cleaned\n",
      "2024-02-20 16:28:30 [116 | REPORT]: [765|Wannier90BandsWorkChain|run_nscf]: launching PwBaseWorkChain<778> in nscf mode\n",
      "2024-02-20 16:28:32 [117 | REPORT]:   [778|PwBaseWorkChain|run_process]: launching PwCalculation<781> iteration #1\n",
      "2024-02-20 16:30:20 [118 | REPORT]:   [778|PwBaseWorkChain|results]: work chain completed after 1 iterations\n",
      "2024-02-20 16:30:20 [119 | REPORT]:   [778|PwBaseWorkChain|on_terminated]: remote folders will not be cleaned\n",
      "2024-02-20 16:30:21 [120 | REPORT]: [765|Wannier90BandsWorkChain|run_wannier90_pp]: launching Wannier90BaseWorkChain<790> in postproc mode\n",
      "2024-02-20 16:30:22 [121 | REPORT]:   [790|Wannier90BaseWorkChain|run_process]: launching Wannier90Calculation<792> iteration #1\n",
      "2024-02-20 16:30:26 [122 | REPORT]:   [790|Wannier90BaseWorkChain|results]: work chain completed after 1 iterations\n",
      "2024-02-20 16:30:26 [123 | REPORT]:   [790|Wannier90BaseWorkChain|on_terminated]: remote folders will not be cleaned\n",
      "2024-02-20 16:30:26 [124 | REPORT]: [765|Wannier90BandsWorkChain|run_pw2wannier90]: launching Pw2wannier90BaseWorkChain<798>\n",
      "2024-02-20 16:30:27 [125 | REPORT]:   [798|Pw2wannier90BaseWorkChain|run_process]: launching Pw2wannier90Calculation<799> iteration #1\n",
      "2024-02-20 16:32:07 [126 | REPORT]:   [798|Pw2wannier90BaseWorkChain|results]: work chain completed after 1 iterations\n",
      "2024-02-20 16:32:07 [127 | REPORT]:   [798|Pw2wannier90BaseWorkChain|on_terminated]: remote folders will not be cleaned\n",
      "2024-02-20 16:32:08 [128 | REPORT]: [765|Wannier90BandsWorkChain|run_wannier90]: launching Wannier90BaseWorkChain<808>\n",
      "2024-02-20 16:32:09 [129 | REPORT]:   [808|Wannier90BaseWorkChain|run_process]: launching Wannier90Calculation<810> iteration #1\n",
      "2024-02-20 16:32:32 [130 | REPORT]:   [808|Wannier90BaseWorkChain|results]: work chain completed after 1 iterations\n",
      "2024-02-20 16:32:32 [131 | REPORT]:   [808|Wannier90BaseWorkChain|on_terminated]: remote folders will not be cleaned\n",
      "2024-02-20 16:32:33 [132 | REPORT]: [765|Wannier90BandsWorkChain|results]: Wannier90BandsWorkChain successfully completed\n",
      "2024-02-20 16:32:34 [133 | REPORT]: [765|Wannier90BandsWorkChain|on_terminated]: remote folders will not be cleaned\u001b[0m\n"
     ]
    }
   ],
   "source": [
    "!verdi process report {run.pk}"
   ]
  },
  {
   "cell_type": "markdown",
   "id": "c893db8b",
   "metadata": {},
   "source": [
    "## Plotting band interpolation results."
   ]
  },
  {
   "cell_type": "code",
   "execution_count": 60,
   "id": "e0131b8b",
   "metadata": {},
   "outputs": [],
   "source": [
    "import matplotlib.pyplot as plt"
   ]
  },
  {
   "cell_type": "code",
   "execution_count": 101,
   "id": "5349b114",
   "metadata": {},
   "outputs": [],
   "source": [
    "dftw90, b = orm.load_node(765),4\n",
    "\n",
    "\n",
    "w90_qe = dftw90.outputs.band_structure"
   ]
  },
  {
   "cell_type": "code",
   "execution_count": 102,
   "id": "f2f24a23",
   "metadata": {},
   "outputs": [],
   "source": [
    "l_x = []\n",
    "l_names = []\n",
    "\n",
    "for i in w90_qe.labels:\n",
    "    l_x.append(i[0])\n",
    "    if i[1] == 'GAMMA':\n",
    "        l_names.append(\"$\\Gamma$\")\n",
    "    else:\n",
    "        l_names.append(i[1])"
   ]
  },
  {
   "cell_type": "code",
   "execution_count": 103,
   "id": "a1fa37b3",
   "metadata": {},
   "outputs": [
    {
     "data": {
      "text/plain": [
       "(0.0, 200.0)"
      ]
     },
     "execution_count": 103,
     "metadata": {},
     "output_type": "execute_result"
    },
    {
     "data": {
      "image/png": "[encoded data removed]",
      "text/plain": [
       "<Figure size 1500x700 with 1 Axes>"
      ]
     },
     "metadata": {},
     "output_type": "display_data"
    }
   ],
   "source": [
    "fig,ax=plt.subplots(figsize=[15,7])\n",
    "plt.plot(w90_qe.get_bands()-max(w90_qe.get_bands()[:,b-1]),'-',color='green',label = 'DFT')\n",
    "plt.ylim(-3,3)\n",
    "\n",
    "plt.grid()\n",
    "plt.xticks(l_x,l_names)\n",
    "plt.tick_params(axis='both',labelsize=20)\n",
    "plt.xlim(0,max(l_x))\n",
    "#plt.ylim(-2,5)\n",
    "#plt.legend()\n",
    "\n",
    "#plt.savefig('plot_.pdf')"
   ]
  }
 ],
 "metadata": {
  "kernelspec": {
   "display_name": "Python 3 (ipykernel)",
   "language": "python",
   "name": "python3"
  },
  "language_info": {
   "codemirror_mode": {
    "name": "ipython",
    "version": 3
   },
   "file_extension": ".py",
   "mimetype": "text/x-python",
   "name": "python",
   "nbconvert_exporter": "python",
   "pygments_lexer": "ipython3",
   "version": "3.9.16"
  }
 },
 "nbformat": 4,
 "nbformat_minor": 5
}
